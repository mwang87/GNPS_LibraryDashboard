{
 "cells": [
  {
   "cell_type": "markdown",
   "id": "bcd6b9ee-9fc6-4ba1-b9ff-0cd0c93b9257",
   "metadata": {},
   "source": [
    "## notebook assess the massql query for identifying carnitines\n",
    "- based on diagnostic peaks and neutral loss defined in the respective v_boxplot_carnitines notebooks"
   ]
  },
  {
   "cell_type": "code",
   "execution_count": 1,
   "id": "c03452eb-4f2a-401b-ae60-c821576b75f5",
   "metadata": {},
   "outputs": [],
   "source": [
    "import rdkit\n",
    "from rdkit import Chem\n",
    "from rdkit.Chem import Draw\n",
    "import numpy as np\n",
    "import pandas as pd"
   ]
  },
  {
   "cell_type": "code",
   "execution_count": 2,
   "id": "76075187-5e21-4683-9fa4-2e2f78c678ce",
   "metadata": {},
   "outputs": [],
   "source": [
    "import matplotlib.pyplot as plt\n",
    "from matplotlib_venn import venn2\n",
    "from matplotlib_venn import venn3"
   ]
  },
  {
   "cell_type": "code",
   "execution_count": 3,
   "id": "5c37b4fc-3041-460f-9614-6964c9e4f285",
   "metadata": {},
   "outputs": [],
   "source": [
    "massql_query_output = pd.read_csv('/home/jovyan/work/notebooks/outputs/massql_carnitine_query_peaks_nl.csv',sep=',', index_col='scan')"
   ]
  },
  {
   "cell_type": "code",
   "execution_count": 4,
   "id": "7e10182f-66ed-42ef-8e43-796234fb5c22",
   "metadata": {
    "tags": []
   },
   "outputs": [
    {
     "data": {
      "text/html": [
       "<div>\n",
       "<style scoped>\n",
       "    .dataframe tbody tr th:only-of-type {\n",
       "        vertical-align: middle;\n",
       "    }\n",
       "\n",
       "    .dataframe tbody tr th {\n",
       "        vertical-align: top;\n",
       "    }\n",
       "\n",
       "    .dataframe thead th {\n",
       "        text-align: right;\n",
       "    }\n",
       "</style>\n",
       "<table border=\"1\" class=\"dataframe\">\n",
       "  <thead>\n",
       "    <tr style=\"text-align: right;\">\n",
       "      <th></th>\n",
       "      <th>precmz</th>\n",
       "      <th>ms1scan</th>\n",
       "      <th>rt</th>\n",
       "      <th>charge</th>\n",
       "      <th>i</th>\n",
       "      <th>i_norm</th>\n",
       "      <th>mslevel</th>\n",
       "      <th>i_norm_ms1</th>\n",
       "      <th>Compound_Name</th>\n",
       "      <th>Adduct</th>\n",
       "      <th>library_membership</th>\n",
       "    </tr>\n",
       "    <tr>\n",
       "      <th>scan</th>\n",
       "      <th></th>\n",
       "      <th></th>\n",
       "      <th></th>\n",
       "      <th></th>\n",
       "      <th></th>\n",
       "      <th></th>\n",
       "      <th></th>\n",
       "      <th></th>\n",
       "      <th></th>\n",
       "      <th></th>\n",
       "      <th></th>\n",
       "    </tr>\n",
       "  </thead>\n",
       "  <tbody>\n",
       "    <tr>\n",
       "      <th>CCMSLIB00000221013</th>\n",
       "      <td>162.113</td>\n",
       "      <td>0</td>\n",
       "      <td>0</td>\n",
       "      <td>1</td>\n",
       "      <td>2.058000e+03</td>\n",
       "      <td>1</td>\n",
       "      <td>2</td>\n",
       "      <td>NaN</td>\n",
       "      <td>ReSpect:PT102690 L-Carnitine h</td>\n",
       "      <td>[M+H]</td>\n",
       "      <td>RESPECT</td>\n",
       "    </tr>\n",
       "    <tr>\n",
       "      <th>CCMSLIB00000221015</th>\n",
       "      <td>162.113</td>\n",
       "      <td>0</td>\n",
       "      <td>0</td>\n",
       "      <td>1</td>\n",
       "      <td>3.170000e+03</td>\n",
       "      <td>1</td>\n",
       "      <td>2</td>\n",
       "      <td>NaN</td>\n",
       "      <td>ReSpect:PT102693 L-Carnitine h</td>\n",
       "      <td>[M+H]</td>\n",
       "      <td>RESPECT</td>\n",
       "    </tr>\n",
       "    <tr>\n",
       "      <th>CCMSLIB00000221337</th>\n",
       "      <td>162.113</td>\n",
       "      <td>0</td>\n",
       "      <td>0</td>\n",
       "      <td>1</td>\n",
       "      <td>2.061000e+03</td>\n",
       "      <td>1</td>\n",
       "      <td>2</td>\n",
       "      <td>NaN</td>\n",
       "      <td>ReSpect:PT107170 L-Carnitine|V</td>\n",
       "      <td>[M+H]</td>\n",
       "      <td>RESPECT</td>\n",
       "    </tr>\n",
       "    <tr>\n",
       "      <th>CCMSLIB00000222989</th>\n",
       "      <td>162.113</td>\n",
       "      <td>0</td>\n",
       "      <td>0</td>\n",
       "      <td>1</td>\n",
       "      <td>5.995100e+03</td>\n",
       "      <td>1</td>\n",
       "      <td>2</td>\n",
       "      <td>NaN</td>\n",
       "      <td>Massbank:PR100159 L-Carnitine|</td>\n",
       "      <td>[M+H]+</td>\n",
       "      <td>MASSBANK</td>\n",
       "    </tr>\n",
       "    <tr>\n",
       "      <th>CCMSLIB00000222990</th>\n",
       "      <td>162.113</td>\n",
       "      <td>0</td>\n",
       "      <td>0</td>\n",
       "      <td>1</td>\n",
       "      <td>3.706970e+02</td>\n",
       "      <td>1</td>\n",
       "      <td>2</td>\n",
       "      <td>NaN</td>\n",
       "      <td>Massbank:PR100160 L-Carnitine|</td>\n",
       "      <td>[M+H]+</td>\n",
       "      <td>MASSBANK</td>\n",
       "    </tr>\n",
       "    <tr>\n",
       "      <th>...</th>\n",
       "      <td>...</td>\n",
       "      <td>...</td>\n",
       "      <td>...</td>\n",
       "      <td>...</td>\n",
       "      <td>...</td>\n",
       "      <td>...</td>\n",
       "      <td>...</td>\n",
       "      <td>...</td>\n",
       "      <td>...</td>\n",
       "      <td>...</td>\n",
       "      <td>...</td>\n",
       "    </tr>\n",
       "    <tr>\n",
       "      <th>CCMSLIB00006683989</th>\n",
       "      <td>162.112</td>\n",
       "      <td>0</td>\n",
       "      <td>0</td>\n",
       "      <td>1</td>\n",
       "      <td>5.146000e+02</td>\n",
       "      <td>1</td>\n",
       "      <td>2</td>\n",
       "      <td>NaN</td>\n",
       "      <td>NaN</td>\n",
       "      <td>NaN</td>\n",
       "      <td>NaN</td>\n",
       "    </tr>\n",
       "    <tr>\n",
       "      <th>CCMSLIB00006684275</th>\n",
       "      <td>344.280</td>\n",
       "      <td>0</td>\n",
       "      <td>0</td>\n",
       "      <td>1</td>\n",
       "      <td>1.509000e+02</td>\n",
       "      <td>1</td>\n",
       "      <td>2</td>\n",
       "      <td>NaN</td>\n",
       "      <td>NaN</td>\n",
       "      <td>NaN</td>\n",
       "      <td>NaN</td>\n",
       "    </tr>\n",
       "    <tr>\n",
       "      <th>CCMSLIB00006686014</th>\n",
       "      <td>162.112</td>\n",
       "      <td>0</td>\n",
       "      <td>0</td>\n",
       "      <td>1</td>\n",
       "      <td>4.952127e+08</td>\n",
       "      <td>1</td>\n",
       "      <td>2</td>\n",
       "      <td>NaN</td>\n",
       "      <td>NaN</td>\n",
       "      <td>NaN</td>\n",
       "      <td>NaN</td>\n",
       "    </tr>\n",
       "    <tr>\n",
       "      <th>CCMSLIB00006686484</th>\n",
       "      <td>344.280</td>\n",
       "      <td>0</td>\n",
       "      <td>0</td>\n",
       "      <td>1</td>\n",
       "      <td>1.642600e+09</td>\n",
       "      <td>1</td>\n",
       "      <td>2</td>\n",
       "      <td>NaN</td>\n",
       "      <td>NaN</td>\n",
       "      <td>NaN</td>\n",
       "      <td>NaN</td>\n",
       "    </tr>\n",
       "    <tr>\n",
       "      <th>CCMSLIB00006709627</th>\n",
       "      <td>162.112</td>\n",
       "      <td>0</td>\n",
       "      <td>0</td>\n",
       "      <td>1</td>\n",
       "      <td>4.952127e+08</td>\n",
       "      <td>1</td>\n",
       "      <td>2</td>\n",
       "      <td>NaN</td>\n",
       "      <td>NaN</td>\n",
       "      <td>NaN</td>\n",
       "      <td>NaN</td>\n",
       "    </tr>\n",
       "  </tbody>\n",
       "</table>\n",
       "<p>100 rows × 11 columns</p>\n",
       "</div>"
      ],
      "text/plain": [
       "                     precmz  ms1scan  rt  charge             i  i_norm  \\\n",
       "scan                                                                     \n",
       "CCMSLIB00000221013  162.113        0   0       1  2.058000e+03       1   \n",
       "CCMSLIB00000221015  162.113        0   0       1  3.170000e+03       1   \n",
       "CCMSLIB00000221337  162.113        0   0       1  2.061000e+03       1   \n",
       "CCMSLIB00000222989  162.113        0   0       1  5.995100e+03       1   \n",
       "CCMSLIB00000222990  162.113        0   0       1  3.706970e+02       1   \n",
       "...                     ...      ...  ..     ...           ...     ...   \n",
       "CCMSLIB00006683989  162.112        0   0       1  5.146000e+02       1   \n",
       "CCMSLIB00006684275  344.280        0   0       1  1.509000e+02       1   \n",
       "CCMSLIB00006686014  162.112        0   0       1  4.952127e+08       1   \n",
       "CCMSLIB00006686484  344.280        0   0       1  1.642600e+09       1   \n",
       "CCMSLIB00006709627  162.112        0   0       1  4.952127e+08       1   \n",
       "\n",
       "                    mslevel  i_norm_ms1                   Compound_Name  \\\n",
       "scan                                                                      \n",
       "CCMSLIB00000221013        2         NaN  ReSpect:PT102690 L-Carnitine h   \n",
       "CCMSLIB00000221015        2         NaN  ReSpect:PT102693 L-Carnitine h   \n",
       "CCMSLIB00000221337        2         NaN  ReSpect:PT107170 L-Carnitine|V   \n",
       "CCMSLIB00000222989        2         NaN  Massbank:PR100159 L-Carnitine|   \n",
       "CCMSLIB00000222990        2         NaN  Massbank:PR100160 L-Carnitine|   \n",
       "...                     ...         ...                             ...   \n",
       "CCMSLIB00006683989        2         NaN                             NaN   \n",
       "CCMSLIB00006684275        2         NaN                             NaN   \n",
       "CCMSLIB00006686014        2         NaN                             NaN   \n",
       "CCMSLIB00006686484        2         NaN                             NaN   \n",
       "CCMSLIB00006709627        2         NaN                             NaN   \n",
       "\n",
       "                    Adduct library_membership  \n",
       "scan                                           \n",
       "CCMSLIB00000221013   [M+H]            RESPECT  \n",
       "CCMSLIB00000221015   [M+H]            RESPECT  \n",
       "CCMSLIB00000221337   [M+H]            RESPECT  \n",
       "CCMSLIB00000222989  [M+H]+           MASSBANK  \n",
       "CCMSLIB00000222990  [M+H]+           MASSBANK  \n",
       "...                    ...                ...  \n",
       "CCMSLIB00006683989     NaN                NaN  \n",
       "CCMSLIB00006684275     NaN                NaN  \n",
       "CCMSLIB00006686014     NaN                NaN  \n",
       "CCMSLIB00006686484     NaN                NaN  \n",
       "CCMSLIB00006709627     NaN                NaN  \n",
       "\n",
       "[100 rows x 11 columns]"
      ]
     },
     "execution_count": 4,
     "metadata": {},
     "output_type": "execute_result"
    }
   ],
   "source": [
    "massql_query_output"
   ]
  },
  {
   "cell_type": "code",
   "execution_count": 5,
   "id": "fad1e777-e67e-4966-9422-91b4c40a3f05",
   "metadata": {
    "tags": []
   },
   "outputs": [],
   "source": [
    "massql_query_ids = massql_query_output.index.to_list()"
   ]
  },
  {
   "cell_type": "markdown",
   "id": "ece3ed82-aaeb-46df-933e-8dd9a7bc3f1d",
   "metadata": {},
   "source": [
    "### match massql data with original GNPS data to fill in missing metadata"
   ]
  },
  {
   "cell_type": "code",
   "execution_count": 6,
   "id": "fc31d6a1-8ee4-439e-889f-7e03f913d1b2",
   "metadata": {},
   "outputs": [],
   "source": [
    "# from v_get_ALL_GNPS_input_library.ipynb\n",
    "\n",
    "input_library_full_df_loaded = pd.read_parquet('/home/jovyan/work/notebooks/outputs/ALL_GNPS_input_library.gzip')"
   ]
  },
  {
   "cell_type": "code",
   "execution_count": 7,
   "id": "8d229b5c-3d61-4003-834f-a3b71f44fb6a",
   "metadata": {
    "tags": []
   },
   "outputs": [],
   "source": [
    "input_library_no_suspect_list = input_library_full_df_loaded[~input_library_full_df_loaded['library_membership'].str.contains('suspect',case=False,na=False)]"
   ]
  },
  {
   "cell_type": "code",
   "execution_count": 8,
   "id": "3a2e6dd3-9cd7-4dc9-a42e-10d65e3fb07e",
   "metadata": {},
   "outputs": [],
   "source": [
    "adduct_labels = ['M+H','[M+H]','[M+H]+']"
   ]
  },
  {
   "cell_type": "code",
   "execution_count": 9,
   "id": "8b55b28e-87b5-4b02-bde5-660d6bea9118",
   "metadata": {},
   "outputs": [],
   "source": [
    "input_library = input_library_no_suspect_list[input_library_no_suspect_list[\"Adduct\"].isin(adduct_labels)]"
   ]
  },
  {
   "cell_type": "code",
   "execution_count": 10,
   "id": "551d43ac-091d-434c-9517-72d59f00504d",
   "metadata": {
    "tags": []
   },
   "outputs": [
    {
     "data": {
      "text/plain": [
       "245648"
      ]
     },
     "execution_count": 10,
     "metadata": {},
     "output_type": "execute_result"
    }
   ],
   "source": [
    "len(input_library)"
   ]
  },
  {
   "cell_type": "code",
   "execution_count": 53,
   "id": "82fcf3ba-7001-45fc-8162-c2d45b30e799",
   "metadata": {},
   "outputs": [],
   "source": [
    "massql_query_output_matched = input_library[input_library[\"spectrum_id\"].isin(massql_query_ids)]"
   ]
  },
  {
   "cell_type": "code",
   "execution_count": 54,
   "id": "31a53685-ca18-46d0-8f40-61a8614859c7",
   "metadata": {
    "collapsed": true,
    "jupyter": {
     "outputs_hidden": true
    },
    "tags": []
   },
   "outputs": [
    {
     "data": {
      "text/html": [
       "<div>\n",
       "<style scoped>\n",
       "    .dataframe tbody tr th:only-of-type {\n",
       "        vertical-align: middle;\n",
       "    }\n",
       "\n",
       "    .dataframe tbody tr th {\n",
       "        vertical-align: top;\n",
       "    }\n",
       "\n",
       "    .dataframe thead th {\n",
       "        text-align: right;\n",
       "    }\n",
       "</style>\n",
       "<table border=\"1\" class=\"dataframe\">\n",
       "  <thead>\n",
       "    <tr style=\"text-align: right;\">\n",
       "      <th></th>\n",
       "      <th>spectrum_id</th>\n",
       "      <th>source_file</th>\n",
       "      <th>task</th>\n",
       "      <th>scan</th>\n",
       "      <th>ms_level</th>\n",
       "      <th>library_membership</th>\n",
       "      <th>spectrum_status</th>\n",
       "      <th>peaks_json</th>\n",
       "      <th>splash</th>\n",
       "      <th>submit_user</th>\n",
       "      <th>...</th>\n",
       "      <th>Ion_Mode</th>\n",
       "      <th>create_time</th>\n",
       "      <th>task_id</th>\n",
       "      <th>user_id</th>\n",
       "      <th>InChIKey_smiles</th>\n",
       "      <th>InChIKey_inchi</th>\n",
       "      <th>Formula_smiles</th>\n",
       "      <th>Formula_inchi</th>\n",
       "      <th>url</th>\n",
       "      <th>annotation_history</th>\n",
       "    </tr>\n",
       "  </thead>\n",
       "  <tbody>\n",
       "    <tr>\n",
       "      <th>9475</th>\n",
       "      <td>CCMSLIB00005884289</td>\n",
       "      <td>madeleine.mgf</td>\n",
       "      <td>f92bb49bd6e64337b6cc3a154bb87d6b</td>\n",
       "      <td>1136</td>\n",
       "      <td>2</td>\n",
       "      <td>GNPS-LIBRARY</td>\n",
       "      <td>1</td>\n",
       "      <td>[[50.167000,175.009995],[51.291000,1927.599976...</td>\n",
       "      <td>null-null-null-null</td>\n",
       "      <td>mwang87</td>\n",
       "      <td>...</td>\n",
       "      <td>Positive</td>\n",
       "      <td>2021-03-18 10:55:10.0</td>\n",
       "      <td>f92bb49bd6e64337b6cc3a154bb87d6b</td>\n",
       "      <td>null</td>\n",
       "      <td>PHIQHXFUZVPYII-ZCFIWIBFSA-N</td>\n",
       "      <td></td>\n",
       "      <td>C7H15NO3</td>\n",
       "      <td></td>\n",
       "      <td>https://gnps.ucsd.edu/ProteoSAFe/gnpslibrarysp...</td>\n",
       "      <td>[{'Adduct': 'M+H', 'CAS_Number': '6645-46-1', ...</td>\n",
       "    </tr>\n",
       "    <tr>\n",
       "      <th>9476</th>\n",
       "      <td>CCMSLIB00005884290</td>\n",
       "      <td>madeleine.mgf</td>\n",
       "      <td>f92bb49bd6e64337b6cc3a154bb87d6b</td>\n",
       "      <td>1137</td>\n",
       "      <td>2</td>\n",
       "      <td>GNPS-LIBRARY</td>\n",
       "      <td>1</td>\n",
       "      <td>[[50.518299,6257.680176],[51.285301,5857.77002...</td>\n",
       "      <td>null-null-null-null</td>\n",
       "      <td>mwang87</td>\n",
       "      <td>...</td>\n",
       "      <td>Positive</td>\n",
       "      <td>2021-03-18 10:55:10.0</td>\n",
       "      <td>f92bb49bd6e64337b6cc3a154bb87d6b</td>\n",
       "      <td>null</td>\n",
       "      <td>PHIQHXFUZVPYII-ZCFIWIBFSA-N</td>\n",
       "      <td></td>\n",
       "      <td>C7H15NO3</td>\n",
       "      <td></td>\n",
       "      <td>https://gnps.ucsd.edu/ProteoSAFe/gnpslibrarysp...</td>\n",
       "      <td>[{'Adduct': 'M+H', 'CAS_Number': '6645-46-1', ...</td>\n",
       "    </tr>\n",
       "    <tr>\n",
       "      <th>9477</th>\n",
       "      <td>CCMSLIB00005884291</td>\n",
       "      <td>madeleine.mgf</td>\n",
       "      <td>f92bb49bd6e64337b6cc3a154bb87d6b</td>\n",
       "      <td>1138</td>\n",
       "      <td>2</td>\n",
       "      <td>GNPS-LIBRARY</td>\n",
       "      <td>1</td>\n",
       "      <td>[[50.335499,173.570007],[52.941200,175.500000]...</td>\n",
       "      <td>null-null-null-null</td>\n",
       "      <td>mwang87</td>\n",
       "      <td>...</td>\n",
       "      <td>Positive</td>\n",
       "      <td>2021-03-18 10:55:10.0</td>\n",
       "      <td>f92bb49bd6e64337b6cc3a154bb87d6b</td>\n",
       "      <td>null</td>\n",
       "      <td>PHIQHXFUZVPYII-ZCFIWIBFSA-N</td>\n",
       "      <td></td>\n",
       "      <td>C7H15NO3</td>\n",
       "      <td></td>\n",
       "      <td>https://gnps.ucsd.edu/ProteoSAFe/gnpslibrarysp...</td>\n",
       "      <td>[{'Adduct': 'M+H', 'CAS_Number': '6645-46-1', ...</td>\n",
       "    </tr>\n",
       "    <tr>\n",
       "      <th>9478</th>\n",
       "      <td>CCMSLIB00005884292</td>\n",
       "      <td>madeleine.mgf</td>\n",
       "      <td>f92bb49bd6e64337b6cc3a154bb87d6b</td>\n",
       "      <td>1139</td>\n",
       "      <td>2</td>\n",
       "      <td>GNPS-LIBRARY</td>\n",
       "      <td>1</td>\n",
       "      <td>[[51.347500,195.000000],[52.074001,2091.510010...</td>\n",
       "      <td>null-null-null-null</td>\n",
       "      <td>mwang87</td>\n",
       "      <td>...</td>\n",
       "      <td>Positive</td>\n",
       "      <td>2021-03-18 10:55:10.0</td>\n",
       "      <td>f92bb49bd6e64337b6cc3a154bb87d6b</td>\n",
       "      <td>null</td>\n",
       "      <td>PHIQHXFUZVPYII-ZCFIWIBFSA-N</td>\n",
       "      <td></td>\n",
       "      <td>C7H15NO3</td>\n",
       "      <td></td>\n",
       "      <td>https://gnps.ucsd.edu/ProteoSAFe/gnpslibrarysp...</td>\n",
       "      <td>[{'Adduct': 'M+H', 'CAS_Number': '6645-46-1', ...</td>\n",
       "    </tr>\n",
       "    <tr>\n",
       "      <th>9576</th>\n",
       "      <td>CCMSLIB00005884390</td>\n",
       "      <td>madeleine.mgf</td>\n",
       "      <td>f92bb49bd6e64337b6cc3a154bb87d6b</td>\n",
       "      <td>1237</td>\n",
       "      <td>2</td>\n",
       "      <td>GNPS-LIBRARY</td>\n",
       "      <td>1</td>\n",
       "      <td>[[50.608002,74.110001],[50.686501,158.160004],...</td>\n",
       "      <td>null-null-null-null</td>\n",
       "      <td>mwang87</td>\n",
       "      <td>...</td>\n",
       "      <td>Positive</td>\n",
       "      <td>2021-03-18 10:55:10.0</td>\n",
       "      <td>f92bb49bd6e64337b6cc3a154bb87d6b</td>\n",
       "      <td>null</td>\n",
       "      <td>FUJLYHJROOYKRA-QGZVFWFLSA-N</td>\n",
       "      <td></td>\n",
       "      <td>C19H37NO4</td>\n",
       "      <td></td>\n",
       "      <td>https://gnps.ucsd.edu/ProteoSAFe/gnpslibrarysp...</td>\n",
       "      <td>[{'Adduct': 'M+H', 'CAS_Number': '25518-54-1',...</td>\n",
       "    </tr>\n",
       "    <tr>\n",
       "      <th>...</th>\n",
       "      <td>...</td>\n",
       "      <td>...</td>\n",
       "      <td>...</td>\n",
       "      <td>...</td>\n",
       "      <td>...</td>\n",
       "      <td>...</td>\n",
       "      <td>...</td>\n",
       "      <td>...</td>\n",
       "      <td>...</td>\n",
       "      <td>...</td>\n",
       "      <td>...</td>\n",
       "      <td>...</td>\n",
       "      <td>...</td>\n",
       "      <td>...</td>\n",
       "      <td>...</td>\n",
       "      <td>...</td>\n",
       "      <td>...</td>\n",
       "      <td>...</td>\n",
       "      <td>...</td>\n",
       "      <td>...</td>\n",
       "      <td>...</td>\n",
       "    </tr>\n",
       "    <tr>\n",
       "      <th>560686</th>\n",
       "      <td>CCMSLIB00006683989</td>\n",
       "      <td>library_mgf.mgf</td>\n",
       "      <td>cbf7a3321fc2435bb2fccc544e58a335</td>\n",
       "      <td>3836</td>\n",
       "      <td>2</td>\n",
       "      <td>MONA</td>\n",
       "      <td>1</td>\n",
       "      <td>[[41.039059,3.800000],[43.018051,41.099998],[4...</td>\n",
       "      <td>null-null-null-null</td>\n",
       "      <td>mpanitchpakdi</td>\n",
       "      <td>...</td>\n",
       "      <td>positive</td>\n",
       "      <td>2021-07-20 19:45:32.0</td>\n",
       "      <td>cbf7a3321fc2435bb2fccc544e58a335</td>\n",
       "      <td>null</td>\n",
       "      <td>PHIQHXFUZVPYII-ZCFIWIBFSA-N</td>\n",
       "      <td>None</td>\n",
       "      <td>C7H15NO3</td>\n",
       "      <td></td>\n",
       "      <td>https://gnps.ucsd.edu/ProteoSAFe/gnpslibrarysp...</td>\n",
       "      <td>[{'Adduct': 'M+H', 'CAS_Number': 'N/A', 'Charg...</td>\n",
       "    </tr>\n",
       "    <tr>\n",
       "      <th>560972</th>\n",
       "      <td>CCMSLIB00006684275</td>\n",
       "      <td>library_mgf.mgf</td>\n",
       "      <td>cbf7a3321fc2435bb2fccc544e58a335</td>\n",
       "      <td>4122</td>\n",
       "      <td>2</td>\n",
       "      <td>MONA</td>\n",
       "      <td>1</td>\n",
       "      <td>[[57.033741,0.500000],[57.069820,1.400000],[60...</td>\n",
       "      <td>null-null-null-null</td>\n",
       "      <td>mpanitchpakdi</td>\n",
       "      <td>...</td>\n",
       "      <td>positive</td>\n",
       "      <td>2021-07-20 19:45:32.0</td>\n",
       "      <td>cbf7a3321fc2435bb2fccc544e58a335</td>\n",
       "      <td>null</td>\n",
       "      <td>FUJLYHJROOYKRA-QGZVFWFLSA-N</td>\n",
       "      <td>None</td>\n",
       "      <td>C19H37NO4</td>\n",
       "      <td></td>\n",
       "      <td>https://gnps.ucsd.edu/ProteoSAFe/gnpslibrarysp...</td>\n",
       "      <td>[{'Adduct': 'M+H', 'CAS_Number': 'N/A', 'Charg...</td>\n",
       "    </tr>\n",
       "    <tr>\n",
       "      <th>568238</th>\n",
       "      <td>CCMSLIB00000221013</td>\n",
       "      <td>respect_8_1_2014_GNPS_peaks.mgf</td>\n",
       "      <td>819707e5bc284f80b9d421d106481dbb</td>\n",
       "      <td>6222</td>\n",
       "      <td>2</td>\n",
       "      <td>RESPECT</td>\n",
       "      <td>1</td>\n",
       "      <td>[[60.082802,129.000000],[85.030502,257.000000]...</td>\n",
       "      <td>splash10-00fr-7900000000-7900000000</td>\n",
       "      <td>mwang87</td>\n",
       "      <td>...</td>\n",
       "      <td>Positive</td>\n",
       "      <td>2014-08-01 16:37:39.0</td>\n",
       "      <td>819707e5bc284f80b9d421d106481dbb</td>\n",
       "      <td>null</td>\n",
       "      <td>PHIQHXFUZVPYII-UHFFFAOYSA-N</td>\n",
       "      <td>PHIQHXFUZVPYII-ZCFIWIBFNA-N</td>\n",
       "      <td>C7H15NO3</td>\n",
       "      <td>C7H15NO3</td>\n",
       "      <td>https://gnps.ucsd.edu/ProteoSAFe/gnpslibrarysp...</td>\n",
       "      <td>[{'Adduct': '[M+H]', 'CAS_Number': '541-15-1',...</td>\n",
       "    </tr>\n",
       "    <tr>\n",
       "      <th>568239</th>\n",
       "      <td>CCMSLIB00000221015</td>\n",
       "      <td>respect_8_1_2014_GNPS_peaks.mgf</td>\n",
       "      <td>819707e5bc284f80b9d421d106481dbb</td>\n",
       "      <td>6223</td>\n",
       "      <td>2</td>\n",
       "      <td>RESPECT</td>\n",
       "      <td>1</td>\n",
       "      <td>[[57.033699,52.000000],[58.066101,426.000000],...</td>\n",
       "      <td>splash10-00fr-7900000000-7900000000</td>\n",
       "      <td>mwang87</td>\n",
       "      <td>...</td>\n",
       "      <td>Positive</td>\n",
       "      <td>2014-08-01 16:37:39.0</td>\n",
       "      <td>819707e5bc284f80b9d421d106481dbb</td>\n",
       "      <td>null</td>\n",
       "      <td>PHIQHXFUZVPYII-UHFFFAOYSA-N</td>\n",
       "      <td>PHIQHXFUZVPYII-ZCFIWIBFNA-N</td>\n",
       "      <td>C7H15NO3</td>\n",
       "      <td>C7H15NO3</td>\n",
       "      <td>https://gnps.ucsd.edu/ProteoSAFe/gnpslibrarysp...</td>\n",
       "      <td>[{'Adduct': '[M+H]', 'CAS_Number': '541-15-1',...</td>\n",
       "    </tr>\n",
       "    <tr>\n",
       "      <th>568402</th>\n",
       "      <td>CCMSLIB00000221337</td>\n",
       "      <td>respect_8_1_2014_GNPS_peaks.mgf</td>\n",
       "      <td>819707e5bc284f80b9d421d106481dbb</td>\n",
       "      <td>6386</td>\n",
       "      <td>2</td>\n",
       "      <td>RESPECT</td>\n",
       "      <td>1</td>\n",
       "      <td>[[60.082901,132.000000],[85.030602,260.000000]...</td>\n",
       "      <td>splash10-03di-1900000000-1900000000</td>\n",
       "      <td>mwang87</td>\n",
       "      <td>...</td>\n",
       "      <td>Positive</td>\n",
       "      <td>2014-08-01 16:37:39.0</td>\n",
       "      <td>819707e5bc284f80b9d421d106481dbb</td>\n",
       "      <td>null</td>\n",
       "      <td>PHIQHXFUZVPYII-UHFFFAOYSA-N</td>\n",
       "      <td>PHIQHXFUZVPYII-ZCFIWIBFNA-N</td>\n",
       "      <td>C7H15NO3</td>\n",
       "      <td>C7H15NO3</td>\n",
       "      <td>https://gnps.ucsd.edu/ProteoSAFe/gnpslibrarysp...</td>\n",
       "      <td>[{'Adduct': '[M+H]', 'CAS_Number': '541-15-1',...</td>\n",
       "    </tr>\n",
       "  </tbody>\n",
       "</table>\n",
       "<p>88 rows × 38 columns</p>\n",
       "</div>"
      ],
      "text/plain": [
       "               spectrum_id                      source_file  \\\n",
       "9475    CCMSLIB00005884289                    madeleine.mgf   \n",
       "9476    CCMSLIB00005884290                    madeleine.mgf   \n",
       "9477    CCMSLIB00005884291                    madeleine.mgf   \n",
       "9478    CCMSLIB00005884292                    madeleine.mgf   \n",
       "9576    CCMSLIB00005884390                    madeleine.mgf   \n",
       "...                    ...                              ...   \n",
       "560686  CCMSLIB00006683989                  library_mgf.mgf   \n",
       "560972  CCMSLIB00006684275                  library_mgf.mgf   \n",
       "568238  CCMSLIB00000221013  respect_8_1_2014_GNPS_peaks.mgf   \n",
       "568239  CCMSLIB00000221015  respect_8_1_2014_GNPS_peaks.mgf   \n",
       "568402  CCMSLIB00000221337  respect_8_1_2014_GNPS_peaks.mgf   \n",
       "\n",
       "                                    task  scan ms_level library_membership  \\\n",
       "9475    f92bb49bd6e64337b6cc3a154bb87d6b  1136        2       GNPS-LIBRARY   \n",
       "9476    f92bb49bd6e64337b6cc3a154bb87d6b  1137        2       GNPS-LIBRARY   \n",
       "9477    f92bb49bd6e64337b6cc3a154bb87d6b  1138        2       GNPS-LIBRARY   \n",
       "9478    f92bb49bd6e64337b6cc3a154bb87d6b  1139        2       GNPS-LIBRARY   \n",
       "9576    f92bb49bd6e64337b6cc3a154bb87d6b  1237        2       GNPS-LIBRARY   \n",
       "...                                  ...   ...      ...                ...   \n",
       "560686  cbf7a3321fc2435bb2fccc544e58a335  3836        2               MONA   \n",
       "560972  cbf7a3321fc2435bb2fccc544e58a335  4122        2               MONA   \n",
       "568238  819707e5bc284f80b9d421d106481dbb  6222        2            RESPECT   \n",
       "568239  819707e5bc284f80b9d421d106481dbb  6223        2            RESPECT   \n",
       "568402  819707e5bc284f80b9d421d106481dbb  6386        2            RESPECT   \n",
       "\n",
       "       spectrum_status                                         peaks_json  \\\n",
       "9475                 1  [[50.167000,175.009995],[51.291000,1927.599976...   \n",
       "9476                 1  [[50.518299,6257.680176],[51.285301,5857.77002...   \n",
       "9477                 1  [[50.335499,173.570007],[52.941200,175.500000]...   \n",
       "9478                 1  [[51.347500,195.000000],[52.074001,2091.510010...   \n",
       "9576                 1  [[50.608002,74.110001],[50.686501,158.160004],...   \n",
       "...                ...                                                ...   \n",
       "560686               1  [[41.039059,3.800000],[43.018051,41.099998],[4...   \n",
       "560972               1  [[57.033741,0.500000],[57.069820,1.400000],[60...   \n",
       "568238               1  [[60.082802,129.000000],[85.030502,257.000000]...   \n",
       "568239               1  [[57.033699,52.000000],[58.066101,426.000000],...   \n",
       "568402               1  [[60.082901,132.000000],[85.030602,260.000000]...   \n",
       "\n",
       "                                     splash    submit_user  ...  Ion_Mode  \\\n",
       "9475                    null-null-null-null        mwang87  ...  Positive   \n",
       "9476                    null-null-null-null        mwang87  ...  Positive   \n",
       "9477                    null-null-null-null        mwang87  ...  Positive   \n",
       "9478                    null-null-null-null        mwang87  ...  Positive   \n",
       "9576                    null-null-null-null        mwang87  ...  Positive   \n",
       "...                                     ...            ...  ...       ...   \n",
       "560686                  null-null-null-null  mpanitchpakdi  ...  positive   \n",
       "560972                  null-null-null-null  mpanitchpakdi  ...  positive   \n",
       "568238  splash10-00fr-7900000000-7900000000        mwang87  ...  Positive   \n",
       "568239  splash10-00fr-7900000000-7900000000        mwang87  ...  Positive   \n",
       "568402  splash10-03di-1900000000-1900000000        mwang87  ...  Positive   \n",
       "\n",
       "                  create_time                           task_id user_id  \\\n",
       "9475    2021-03-18 10:55:10.0  f92bb49bd6e64337b6cc3a154bb87d6b    null   \n",
       "9476    2021-03-18 10:55:10.0  f92bb49bd6e64337b6cc3a154bb87d6b    null   \n",
       "9477    2021-03-18 10:55:10.0  f92bb49bd6e64337b6cc3a154bb87d6b    null   \n",
       "9478    2021-03-18 10:55:10.0  f92bb49bd6e64337b6cc3a154bb87d6b    null   \n",
       "9576    2021-03-18 10:55:10.0  f92bb49bd6e64337b6cc3a154bb87d6b    null   \n",
       "...                       ...                               ...     ...   \n",
       "560686  2021-07-20 19:45:32.0  cbf7a3321fc2435bb2fccc544e58a335    null   \n",
       "560972  2021-07-20 19:45:32.0  cbf7a3321fc2435bb2fccc544e58a335    null   \n",
       "568238  2014-08-01 16:37:39.0  819707e5bc284f80b9d421d106481dbb    null   \n",
       "568239  2014-08-01 16:37:39.0  819707e5bc284f80b9d421d106481dbb    null   \n",
       "568402  2014-08-01 16:37:39.0  819707e5bc284f80b9d421d106481dbb    null   \n",
       "\n",
       "                    InChIKey_smiles               InChIKey_inchi  \\\n",
       "9475    PHIQHXFUZVPYII-ZCFIWIBFSA-N                                \n",
       "9476    PHIQHXFUZVPYII-ZCFIWIBFSA-N                                \n",
       "9477    PHIQHXFUZVPYII-ZCFIWIBFSA-N                                \n",
       "9478    PHIQHXFUZVPYII-ZCFIWIBFSA-N                                \n",
       "9576    FUJLYHJROOYKRA-QGZVFWFLSA-N                                \n",
       "...                             ...                          ...   \n",
       "560686  PHIQHXFUZVPYII-ZCFIWIBFSA-N                         None   \n",
       "560972  FUJLYHJROOYKRA-QGZVFWFLSA-N                         None   \n",
       "568238  PHIQHXFUZVPYII-UHFFFAOYSA-N  PHIQHXFUZVPYII-ZCFIWIBFNA-N   \n",
       "568239  PHIQHXFUZVPYII-UHFFFAOYSA-N  PHIQHXFUZVPYII-ZCFIWIBFNA-N   \n",
       "568402  PHIQHXFUZVPYII-UHFFFAOYSA-N  PHIQHXFUZVPYII-ZCFIWIBFNA-N   \n",
       "\n",
       "       Formula_smiles Formula_inchi  \\\n",
       "9475         C7H15NO3                 \n",
       "9476         C7H15NO3                 \n",
       "9477         C7H15NO3                 \n",
       "9478         C7H15NO3                 \n",
       "9576        C19H37NO4                 \n",
       "...               ...           ...   \n",
       "560686       C7H15NO3                 \n",
       "560972      C19H37NO4                 \n",
       "568238       C7H15NO3      C7H15NO3   \n",
       "568239       C7H15NO3      C7H15NO3   \n",
       "568402       C7H15NO3      C7H15NO3   \n",
       "\n",
       "                                                      url  \\\n",
       "9475    https://gnps.ucsd.edu/ProteoSAFe/gnpslibrarysp...   \n",
       "9476    https://gnps.ucsd.edu/ProteoSAFe/gnpslibrarysp...   \n",
       "9477    https://gnps.ucsd.edu/ProteoSAFe/gnpslibrarysp...   \n",
       "9478    https://gnps.ucsd.edu/ProteoSAFe/gnpslibrarysp...   \n",
       "9576    https://gnps.ucsd.edu/ProteoSAFe/gnpslibrarysp...   \n",
       "...                                                   ...   \n",
       "560686  https://gnps.ucsd.edu/ProteoSAFe/gnpslibrarysp...   \n",
       "560972  https://gnps.ucsd.edu/ProteoSAFe/gnpslibrarysp...   \n",
       "568238  https://gnps.ucsd.edu/ProteoSAFe/gnpslibrarysp...   \n",
       "568239  https://gnps.ucsd.edu/ProteoSAFe/gnpslibrarysp...   \n",
       "568402  https://gnps.ucsd.edu/ProteoSAFe/gnpslibrarysp...   \n",
       "\n",
       "                                       annotation_history  \n",
       "9475    [{'Adduct': 'M+H', 'CAS_Number': '6645-46-1', ...  \n",
       "9476    [{'Adduct': 'M+H', 'CAS_Number': '6645-46-1', ...  \n",
       "9477    [{'Adduct': 'M+H', 'CAS_Number': '6645-46-1', ...  \n",
       "9478    [{'Adduct': 'M+H', 'CAS_Number': '6645-46-1', ...  \n",
       "9576    [{'Adduct': 'M+H', 'CAS_Number': '25518-54-1',...  \n",
       "...                                                   ...  \n",
       "560686  [{'Adduct': 'M+H', 'CAS_Number': 'N/A', 'Charg...  \n",
       "560972  [{'Adduct': 'M+H', 'CAS_Number': 'N/A', 'Charg...  \n",
       "568238  [{'Adduct': '[M+H]', 'CAS_Number': '541-15-1',...  \n",
       "568239  [{'Adduct': '[M+H]', 'CAS_Number': '541-15-1',...  \n",
       "568402  [{'Adduct': '[M+H]', 'CAS_Number': '541-15-1',...  \n",
       "\n",
       "[88 rows x 38 columns]"
      ]
     },
     "execution_count": 54,
     "metadata": {},
     "output_type": "execute_result"
    }
   ],
   "source": [
    "massql_query_output_matched"
   ]
  },
  {
   "cell_type": "code",
   "execution_count": 72,
   "id": "0ed0c36a-0220-426f-afc4-3da1c09d3a61",
   "metadata": {},
   "outputs": [
    {
     "data": {
      "text/html": [
       "<div>\n",
       "<style scoped>\n",
       "    .dataframe tbody tr th:only-of-type {\n",
       "        vertical-align: middle;\n",
       "    }\n",
       "\n",
       "    .dataframe tbody tr th {\n",
       "        vertical-align: top;\n",
       "    }\n",
       "\n",
       "    .dataframe thead th {\n",
       "        text-align: right;\n",
       "    }\n",
       "</style>\n",
       "<table border=\"1\" class=\"dataframe\">\n",
       "  <thead>\n",
       "    <tr style=\"text-align: right;\">\n",
       "      <th></th>\n",
       "      <th>spectrum_id</th>\n",
       "      <th>Compound_Name</th>\n",
       "    </tr>\n",
       "  </thead>\n",
       "  <tbody>\n",
       "    <tr>\n",
       "      <th>545705</th>\n",
       "      <td>CCMSLIB00004712579</td>\n",
       "      <td>4-hydroxy-3-[(4-hydroxy-6-methyl-2-oxopyran-3-...</td>\n",
       "    </tr>\n",
       "    <tr>\n",
       "      <th>547006</th>\n",
       "      <td>CCMSLIB00004713880</td>\n",
       "      <td>7-ethenyl-1,4a,7-trimethyl-3,4,6,8,8a,9,10,10a...</td>\n",
       "    </tr>\n",
       "    <tr>\n",
       "      <th>550806</th>\n",
       "      <td>CCMSLIB00004717680</td>\n",
       "      <td>(1S,2R,4S,9R,10R,14S,15S,17S)-9-(furan-3-yl)-1...</td>\n",
       "    </tr>\n",
       "    <tr>\n",
       "      <th>551146</th>\n",
       "      <td>CCMSLIB00004718020</td>\n",
       "      <td>[(2S,3R,4R,5R,6S)-2-[[(1aS,1bS,2S,5aR,6S,6aS)-...</td>\n",
       "    </tr>\n",
       "    <tr>\n",
       "      <th>551162</th>\n",
       "      <td>CCMSLIB00004718036</td>\n",
       "      <td>methyl (2R)-2-[(1S,3S,7R,8R,9R,12S,13R)-13-(fu...</td>\n",
       "    </tr>\n",
       "    <tr>\n",
       "      <th>551494</th>\n",
       "      <td>CCMSLIB00004718368</td>\n",
       "      <td>(2S,3R,4S,5S,6R)-2-[(2R,3R,4S,5S,6R)-4,5-dihyd...</td>\n",
       "    </tr>\n",
       "    <tr>\n",
       "      <th>551550</th>\n",
       "      <td>CCMSLIB00004718424</td>\n",
       "      <td>9,13-Dimethyl-17-oxo-14-(5-oxo-2,5-dihydro-3-f...</td>\n",
       "    </tr>\n",
       "    <tr>\n",
       "      <th>551553</th>\n",
       "      <td>CCMSLIB00004718427</td>\n",
       "      <td>9,13-Dimethyl-17-oxo-14-(5-oxo-2,5-dihydro-3-f...</td>\n",
       "    </tr>\n",
       "    <tr>\n",
       "      <th>552136</th>\n",
       "      <td>CCMSLIB00004719010</td>\n",
       "      <td>6-[[(2R,3R,6aR,6bS,8aS,12aS,14bR)-2-hydroxy-4,...</td>\n",
       "    </tr>\n",
       "    <tr>\n",
       "      <th>552206</th>\n",
       "      <td>CCMSLIB00004719080</td>\n",
       "      <td>[(2S,3R,4S,5S,6R)-3,4,5-trihydroxy-6-(hydroxym...</td>\n",
       "    </tr>\n",
       "    <tr>\n",
       "      <th>552347</th>\n",
       "      <td>CCMSLIB00004719221</td>\n",
       "      <td>rutamarin</td>\n",
       "    </tr>\n",
       "    <tr>\n",
       "      <th>552462</th>\n",
       "      <td>CCMSLIB00004719336</td>\n",
       "      <td>isoimperatorin</td>\n",
       "    </tr>\n",
       "    <tr>\n",
       "      <th>552686</th>\n",
       "      <td>CCMSLIB00004719560</td>\n",
       "      <td>1',2'-dihydro-2',6-dihydroxyrotenone</td>\n",
       "    </tr>\n",
       "    <tr>\n",
       "      <th>552934</th>\n",
       "      <td>CCMSLIB00004719808</td>\n",
       "      <td>Palmitoylcarnitine</td>\n",
       "    </tr>\n",
       "    <tr>\n",
       "      <th>553023</th>\n",
       "      <td>CCMSLIB00004719897</td>\n",
       "      <td>Cholic Acid</td>\n",
       "    </tr>\n",
       "  </tbody>\n",
       "</table>\n",
       "</div>"
      ],
      "text/plain": [
       "               spectrum_id                                      Compound_Name\n",
       "545705  CCMSLIB00004712579  4-hydroxy-3-[(4-hydroxy-6-methyl-2-oxopyran-3-...\n",
       "547006  CCMSLIB00004713880  7-ethenyl-1,4a,7-trimethyl-3,4,6,8,8a,9,10,10a...\n",
       "550806  CCMSLIB00004717680  (1S,2R,4S,9R,10R,14S,15S,17S)-9-(furan-3-yl)-1...\n",
       "551146  CCMSLIB00004718020  [(2S,3R,4R,5R,6S)-2-[[(1aS,1bS,2S,5aR,6S,6aS)-...\n",
       "551162  CCMSLIB00004718036  methyl (2R)-2-[(1S,3S,7R,8R,9R,12S,13R)-13-(fu...\n",
       "551494  CCMSLIB00004718368  (2S,3R,4S,5S,6R)-2-[(2R,3R,4S,5S,6R)-4,5-dihyd...\n",
       "551550  CCMSLIB00004718424  9,13-Dimethyl-17-oxo-14-(5-oxo-2,5-dihydro-3-f...\n",
       "551553  CCMSLIB00004718427  9,13-Dimethyl-17-oxo-14-(5-oxo-2,5-dihydro-3-f...\n",
       "552136  CCMSLIB00004719010  6-[[(2R,3R,6aR,6bS,8aS,12aS,14bR)-2-hydroxy-4,...\n",
       "552206  CCMSLIB00004719080  [(2S,3R,4S,5S,6R)-3,4,5-trihydroxy-6-(hydroxym...\n",
       "552347  CCMSLIB00004719221                                          rutamarin\n",
       "552462  CCMSLIB00004719336                                     isoimperatorin\n",
       "552686  CCMSLIB00004719560               1',2'-dihydro-2',6-dihydroxyrotenone\n",
       "552934  CCMSLIB00004719808                                 Palmitoylcarnitine\n",
       "553023  CCMSLIB00004719897                                        Cholic Acid"
      ]
     },
     "execution_count": 72,
     "metadata": {},
     "output_type": "execute_result"
    }
   ],
   "source": [
    "input_library_full_df_loaded[input_library_full_df_loaded[\"spectrum_id\"].isin(massql_query_ids)][input_library_full_df_loaded[input_library_full_df_loaded[\"spectrum_id\"].isin(massql_query_ids)].Smiles == 'N/A'][['spectrum_id','Compound_Name']]"
   ]
  },
  {
   "cell_type": "code",
   "execution_count": 68,
   "id": "f124e33b-77c3-4cc9-a0a6-74a9adc777de",
   "metadata": {},
   "outputs": [],
   "source": [
    "massql_query_output_matched_are_na_SMILES = massql_query_output_matched[massql_query_output_matched.Smiles == 'N/A']"
   ]
  },
  {
   "cell_type": "code",
   "execution_count": 69,
   "id": "c8815ee0-1566-4f3a-a344-4a8ae73c93c4",
   "metadata": {},
   "outputs": [
    {
     "data": {
      "text/html": [
       "<div>\n",
       "<style scoped>\n",
       "    .dataframe tbody tr th:only-of-type {\n",
       "        vertical-align: middle;\n",
       "    }\n",
       "\n",
       "    .dataframe tbody tr th {\n",
       "        vertical-align: top;\n",
       "    }\n",
       "\n",
       "    .dataframe thead th {\n",
       "        text-align: right;\n",
       "    }\n",
       "</style>\n",
       "<table border=\"1\" class=\"dataframe\">\n",
       "  <thead>\n",
       "    <tr style=\"text-align: right;\">\n",
       "      <th></th>\n",
       "      <th>spectrum_id</th>\n",
       "      <th>Compound_Name</th>\n",
       "    </tr>\n",
       "  </thead>\n",
       "  <tbody>\n",
       "    <tr>\n",
       "      <th>551494</th>\n",
       "      <td>CCMSLIB00004718368</td>\n",
       "      <td>(2S,3R,4S,5S,6R)-2-[(2R,3R,4S,5S,6R)-4,5-dihyd...</td>\n",
       "    </tr>\n",
       "    <tr>\n",
       "      <th>551553</th>\n",
       "      <td>CCMSLIB00004718427</td>\n",
       "      <td>9,13-Dimethyl-17-oxo-14-(5-oxo-2,5-dihydro-3-f...</td>\n",
       "    </tr>\n",
       "    <tr>\n",
       "      <th>552136</th>\n",
       "      <td>CCMSLIB00004719010</td>\n",
       "      <td>6-[[(2R,3R,6aR,6bS,8aS,12aS,14bR)-2-hydroxy-4,...</td>\n",
       "    </tr>\n",
       "    <tr>\n",
       "      <th>552206</th>\n",
       "      <td>CCMSLIB00004719080</td>\n",
       "      <td>[(2S,3R,4S,5S,6R)-3,4,5-trihydroxy-6-(hydroxym...</td>\n",
       "    </tr>\n",
       "    <tr>\n",
       "      <th>552934</th>\n",
       "      <td>CCMSLIB00004719808</td>\n",
       "      <td>Palmitoylcarnitine</td>\n",
       "    </tr>\n",
       "    <tr>\n",
       "      <th>553023</th>\n",
       "      <td>CCMSLIB00004719897</td>\n",
       "      <td>Cholic Acid</td>\n",
       "    </tr>\n",
       "  </tbody>\n",
       "</table>\n",
       "</div>"
      ],
      "text/plain": [
       "               spectrum_id                                      Compound_Name\n",
       "551494  CCMSLIB00004718368  (2S,3R,4S,5S,6R)-2-[(2R,3R,4S,5S,6R)-4,5-dihyd...\n",
       "551553  CCMSLIB00004718427  9,13-Dimethyl-17-oxo-14-(5-oxo-2,5-dihydro-3-f...\n",
       "552136  CCMSLIB00004719010  6-[[(2R,3R,6aR,6bS,8aS,12aS,14bR)-2-hydroxy-4,...\n",
       "552206  CCMSLIB00004719080  [(2S,3R,4S,5S,6R)-3,4,5-trihydroxy-6-(hydroxym...\n",
       "552934  CCMSLIB00004719808                                 Palmitoylcarnitine\n",
       "553023  CCMSLIB00004719897                                        Cholic Acid"
      ]
     },
     "execution_count": 69,
     "metadata": {},
     "output_type": "execute_result"
    }
   ],
   "source": [
    "massql_query_output_matched_are_na_SMILES[['spectrum_id','Compound_Name']]"
   ]
  },
  {
   "cell_type": "markdown",
   "id": "f31e9a24-bf0a-4d8f-8b5f-cc5e96e67dc3",
   "metadata": {},
   "source": [
    "### validating massql query output with known carnitine IDs\n",
    "- from carnitines identified by substructure\n",
    "- from carnitines by annotation"
   ]
  },
  {
   "cell_type": "code",
   "execution_count": 18,
   "id": "b24a459a-0ae4-4a1e-8229-58c18c9a46e6",
   "metadata": {},
   "outputs": [],
   "source": [
    "# from v_carnitines_M+H_substruct_df_for_manuscript.ipynb\n",
    "\n",
    "library_df_w_carnitine_substruc = pd.read_csv('/home/jovyan/work/notebooks/outputs/library_df_w_carnitine_substruc.csv', sep=',')"
   ]
  },
  {
   "cell_type": "code",
   "execution_count": 19,
   "id": "7a3974f4-3369-4d27-b15d-2b959cbbe026",
   "metadata": {},
   "outputs": [],
   "source": [
    "# from v_carnitines_M+H_name_df_for_manuscript.ipynb\n",
    "\n",
    "library_df_w_carnitine_name = pd.read_csv('/home/jovyan/work/notebooks/outputs/library_df_carnitine_case_insen_M+H.csv', sep=',')"
   ]
  },
  {
   "cell_type": "code",
   "execution_count": 55,
   "id": "7fe571f4-67a1-41cc-bc40-ad3694005a84",
   "metadata": {},
   "outputs": [],
   "source": [
    "massql_query_output_matched_SMILES = massql_query_output_matched['Smiles'].dropna().unique()"
   ]
  },
  {
   "cell_type": "code",
   "execution_count": 58,
   "id": "859b2968-34f9-469e-800a-9f4119c97e25",
   "metadata": {},
   "outputs": [],
   "source": [
    "massql_query_output_matched_SMILES_no_na = np.delete(massql_query_output_matched_SMILES, np.where(massql_query_output_matched_SMILES == 'N/A'))"
   ]
  },
  {
   "cell_type": "code",
   "execution_count": 59,
   "id": "e930b35b-e032-4360-b55a-8f384e7e99ef",
   "metadata": {},
   "outputs": [
    {
     "data": {
      "text/plain": [
       "36"
      ]
     },
     "execution_count": 59,
     "metadata": {},
     "output_type": "execute_result"
    }
   ],
   "source": [
    "len(massql_query_output_matched_SMILES_no_na)"
   ]
  },
  {
   "cell_type": "code",
   "execution_count": 21,
   "id": "29d40f0e-55be-40d2-83a7-9af47ed61675",
   "metadata": {},
   "outputs": [
    {
     "data": {
      "text/plain": [
       "37"
      ]
     },
     "execution_count": 21,
     "metadata": {},
     "output_type": "execute_result"
    }
   ],
   "source": [
    "len(massql_query_output_matched_SMILES)"
   ]
  },
  {
   "cell_type": "code",
   "execution_count": 22,
   "id": "7e69fa3a-f065-4324-aee4-b03cdfb46cf0",
   "metadata": {},
   "outputs": [],
   "source": [
    "library_df_w_carnitine_substruc_SMILES = library_df_w_carnitine_substruc['Smiles'].dropna().unique()"
   ]
  },
  {
   "cell_type": "code",
   "execution_count": 23,
   "id": "f722752f-0e81-465e-a521-e0ad59e2b66f",
   "metadata": {},
   "outputs": [
    {
     "data": {
      "text/plain": [
       "75"
      ]
     },
     "execution_count": 23,
     "metadata": {},
     "output_type": "execute_result"
    }
   ],
   "source": [
    "len(library_df_w_carnitine_substruc_SMILES)"
   ]
  },
  {
   "cell_type": "code",
   "execution_count": 24,
   "id": "218fef43-5de6-42e0-970a-af18c99f5a5c",
   "metadata": {},
   "outputs": [],
   "source": [
    "library_df_w_carnitine_name_SMILES = library_df_w_carnitine_name['Smiles'].dropna().unique()"
   ]
  },
  {
   "cell_type": "code",
   "execution_count": 25,
   "id": "25dfaa8e-3e97-46d3-bad8-b4b30921e065",
   "metadata": {},
   "outputs": [
    {
     "data": {
      "text/plain": [
       "80"
      ]
     },
     "execution_count": 25,
     "metadata": {},
     "output_type": "execute_result"
    }
   ],
   "source": [
    "len(library_df_w_carnitine_name_SMILES)"
   ]
  },
  {
   "cell_type": "markdown",
   "id": "aceaee36-2082-4b53-a412-e9b11da16d97",
   "metadata": {},
   "source": [
    "#### venn diagrams"
   ]
  },
  {
   "cell_type": "code",
   "execution_count": 61,
   "id": "61fd5650-fd87-4a5d-a837-e8bd25dbd5fa",
   "metadata": {},
   "outputs": [
    {
     "data": {
      "image/png": "[encoded data removed]",
      "text/plain": [
       "<Figure size 432x288 with 1 Axes>"
      ]
     },
     "metadata": {},
     "output_type": "display_data"
    }
   ],
   "source": [
    "venn2([set(massql_query_output_matched['spectrum_id'].dropna().unique()), set(library_df_w_carnitine_substruc['spectrum_id'].dropna().unique())],\n",
    "      set_labels = ('MassQL Query IDs ', ' Substructure Search IDs'))\n",
    "plt.show()"
   ]
  },
  {
   "cell_type": "code",
   "execution_count": 62,
   "id": "19a89f06-7e4b-4702-9f97-94d3693d0ae7",
   "metadata": {},
   "outputs": [
    {
     "data": {
      "image/png": "[encoded data removed]",
      "text/plain": [
       "<Figure size 432x288 with 1 Axes>"
      ]
     },
     "metadata": {},
     "output_type": "display_data"
    }
   ],
   "source": [
    "venn2([set(massql_query_output_matched['spectrum_id'].dropna().unique()), set(library_df_w_carnitine_name['spectrum_id'].dropna().unique())],\n",
    "      set_labels = ('MassQL Query IDs ', ' Annotation Search IDs'))\n",
    "plt.show()"
   ]
  },
  {
   "cell_type": "code",
   "execution_count": 78,
   "id": "4a325b40-eaa4-480d-92c0-5b6bd309ce20",
   "metadata": {
    "tags": []
   },
   "outputs": [
    {
     "data": {
      "text/plain": [
       "{'CCMSLIB00000216197',\n",
       " 'CCMSLIB00000216199',\n",
       " 'CCMSLIB00000216201',\n",
       " 'CCMSLIB00000216407',\n",
       " 'CCMSLIB00000216409',\n",
       " 'CCMSLIB00000216411',\n",
       " 'CCMSLIB00000216629',\n",
       " 'CCMSLIB00000216631',\n",
       " 'CCMSLIB00000216633',\n",
       " 'CCMSLIB00000216635',\n",
       " 'CCMSLIB00000216638',\n",
       " 'CCMSLIB00000221107',\n",
       " 'CCMSLIB00000577974',\n",
       " 'CCMSLIB00004684498',\n",
       " 'CCMSLIB00004684499',\n",
       " 'CCMSLIB00004691403',\n",
       " 'CCMSLIB00004691404',\n",
       " 'CCMSLIB00004691405',\n",
       " 'CCMSLIB00004719092',\n",
       " 'CCMSLIB00004719100',\n",
       " 'CCMSLIB00004719106',\n",
       " 'CCMSLIB00004719807',\n",
       " 'CCMSLIB00004719809',\n",
       " 'CCMSLIB00005464019',\n",
       " 'CCMSLIB00005720412',\n",
       " 'CCMSLIB00005884227',\n",
       " 'CCMSLIB00005884228',\n",
       " 'CCMSLIB00005884229',\n",
       " 'CCMSLIB00005884230',\n",
       " 'CCMSLIB00005884231',\n",
       " 'CCMSLIB00005884232',\n",
       " 'CCMSLIB00006679523',\n",
       " 'CCMSLIB00006679781',\n",
       " 'CCMSLIB00006681727',\n",
       " 'CCMSLIB00006681988',\n",
       " 'CCMSLIB00006682560',\n",
       " 'CCMSLIB00006682832',\n",
       " 'CCMSLIB00006683333',\n",
       " 'CCMSLIB00006683988'}"
      ]
     },
     "execution_count": 78,
     "metadata": {},
     "output_type": "execute_result"
    }
   ],
   "source": [
    "set(library_df_w_carnitine_name['spectrum_id'].dropna().unique())-set(library_df_w_carnitine_substruc['spectrum_id'].dropna().unique())-set(massql_query_output_matched['spectrum_id'].dropna().unique())"
   ]
  },
  {
   "cell_type": "code",
   "execution_count": 63,
   "id": "7da4d8bb-1aa8-4e4b-be75-a93f1f488ae7",
   "metadata": {},
   "outputs": [
    {
     "data": {
      "image/png": "[encoded data removed]",
      "text/plain": [
       "<Figure size 432x288 with 1 Axes>"
      ]
     },
     "metadata": {},
     "output_type": "display_data"
    }
   ],
   "source": [
    "venn2([set(massql_query_output_matched['Smiles'].dropna().unique()), set(library_df_w_carnitine_substruc['Smiles'].dropna().unique())],\n",
    "      set_labels = ('Massql query SMILES ', ' Substructure Search SMILES'))\n",
    "plt.show()"
   ]
  },
  {
   "cell_type": "code",
   "execution_count": 64,
   "id": "113131a2-a961-4ea4-acce-1d56b5881401",
   "metadata": {},
   "outputs": [
    {
     "data": {
      "text/plain": [
       "{'N/A'}"
      ]
     },
     "execution_count": 64,
     "metadata": {},
     "output_type": "execute_result"
    }
   ],
   "source": [
    "set(massql_query_output_matched['Smiles'].dropna().unique())-set(library_df_w_carnitine_substruc['Smiles'].dropna().unique())"
   ]
  },
  {
   "cell_type": "code",
   "execution_count": 65,
   "id": "456edfb1-c12e-4679-962b-563cca270745",
   "metadata": {},
   "outputs": [
    {
     "data": {
      "image/png": "[encoded data removed]",
      "text/plain": [
       "<Figure size 432x288 with 1 Axes>"
      ]
     },
     "metadata": {},
     "output_type": "display_data"
    }
   ],
   "source": [
    "venn2([set(massql_query_output_matched['Smiles'].dropna().unique()), set(library_df_w_carnitine_name['Smiles'].dropna().unique())],\n",
    "      set_labels = ('Massql query SMILES ', ' Annotation Search SMILES'))\n",
    "plt.show()"
   ]
  },
  {
   "cell_type": "code",
   "execution_count": 70,
   "id": "c480e1d8-e1f6-4be8-8904-99e4983d6491",
   "metadata": {},
   "outputs": [
    {
     "data": {
      "image/png": "[encoded data removed]",
      "text/plain": [
       "<Figure size 432x288 with 1 Axes>"
      ]
     },
     "metadata": {},
     "output_type": "display_data"
    }
   ],
   "source": [
    "venn3([set(massql_query_output_matched['Smiles'].dropna().unique()),\n",
    "       set(library_df_w_carnitine_substruc['Smiles'].dropna().unique()),\n",
    "       set(library_df_w_carnitine_name['Smiles'].dropna().unique())],\n",
    "      set_labels = ('Massql query SMILES ', 'Substructure Search SMILES', 'Annotation Search SMILES' ))\n",
    "plt.show()"
   ]
  },
  {
   "cell_type": "code",
   "execution_count": 67,
   "id": "f2bcc0e7-abee-4eb9-a2a4-ea9d29fda9f5",
   "metadata": {},
   "outputs": [
    {
     "data": {
      "image/png": "[encoded data removed]",
      "text/plain": [
       "<Figure size 432x288 with 1 Axes>"
      ]
     },
     "metadata": {},
     "output_type": "display_data"
    }
   ],
   "source": [
    "venn3([set(massql_query_output_matched['spectrum_id'].dropna().unique()),\n",
    "       set(library_df_w_carnitine_substruc['spectrum_id'].dropna().unique()),\n",
    "       set(library_df_w_carnitine_name['spectrum_id'].dropna().unique())],\n",
    "      set_labels = ('Massql query IDs ', 'Substructure Search IDs', 'Annotation Search IDs' ))\n",
    "plt.show()"
   ]
  },
  {
   "cell_type": "code",
   "execution_count": null,
   "id": "7cc28a56-33a4-41f6-a4e5-e25d3fb3f6e9",
   "metadata": {},
   "outputs": [],
   "source": []
  }
 ],
 "metadata": {
  "kernelspec": {
   "display_name": "Python 3 (ipykernel)",
   "language": "python",
   "name": "python3"
  },
  "language_info": {
   "codemirror_mode": {
    "name": "ipython",
    "version": 3
   },
   "file_extension": ".py",
   "mimetype": "text/x-python",
   "name": "python",
   "nbconvert_exporter": "python",
   "pygments_lexer": "ipython3",
   "version": "3.10.5"
  }
 },
 "nbformat": 4,
 "nbformat_minor": 5
}
