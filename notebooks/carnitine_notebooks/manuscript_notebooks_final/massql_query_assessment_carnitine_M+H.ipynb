{
 "cells": [
  {
   "cell_type": "markdown",
   "id": "c72b930c-2b54-44c9-9cb0-395f590a9506",
   "metadata": {
    "tags": []
   },
   "source": [
    "## This notebook is used for assessing the MassQL query for identifying **carnitine structures**\n",
    "(original notebook content: v_carnitine_massql_query_for_manuscript_REDO-inchikey-Copy1.ipynb)\n",
    "\n",
    "---\n",
    "\n",
    "### About the process\n",
    "We isolate unique structures from MS/MS spectra for venn diagram assessment of MassQL Queries as follows:\n",
    "\n",
    "- Identify unique InchIKey first blocks associated with each MS/MS spectra (M+H adducts)\n",
    "- SMILES metadata in GNPS for each MS/MS spectra were used to identify the associated compound structure using RDKit\n",
    "- MS/MS spectra without structural information were removed\n",
    "- Identify unique InchIKey first blocks to ignore stereochemistry and identify a single, generalized structure described by one of the MS/MS spectra identified in GNPS Libraries\n",
    "\n",
    "---\n",
    "### Section 1: Read input data\n",
    "- carnitine metadata in GNPS Library **identified by substructure** \n",
    "- carnitine metadata in GNPS Library **identified by annotation**\n",
    "- cleaned MassQL query output\n",
    "\n",
    "### Section 2: Identify unique structures in **substructure-identified** carnitine data\n",
    "- identify InChIKeys and InChIKey first blocks from SMILES metadata\n",
    "- identify unique InChIkey first blocks\n",
    "- filter dataframe to only include data for unique InChIkey first blocks\n",
    "\n",
    "### Section 3: Identify unique structures in **annotation-identified** carnitine data\n",
    "- get list of spectrum_id to make USI link for **MS/MS identified by library annotation search without structural metadata** https://gnps2.org/ workflow (createusi_markdown_workflow) **(SI Data 6)**\n",
    "- identify InChIKeys and InChIKey first blocks from SMILES metadata\n",
    "- identify unique InChIkey first blocks\n",
    "- filter dataframe to only include data for unique InChIkey first blocks\n",
    "\n",
    "### Section 4: Identify unique structures in MassQL query data \n",
    "- remove rows that do not contain SMILES information in 'Smiles' column\n",
    "- identify InChIKeys and InChIKey first blocks from SMILES metadata\n",
    "- identify unique InChIkey first blocks\n",
    "- filter dataframe to only include data for unique InChIkey first blocks\n",
    "\n",
    "**NOTE** The purpose of identifying unique InChIkey first blocks is to ignore stereochemistry and identify a single, generalized structure described by one of the MS/MS spectra identified in GNPS Libraries **(See SI Note 5)**.\n",
    "\n",
    "---\n",
    "# Venn Diagram Sections\n",
    "---\n",
    "## MassQL vs Library Annotation search\n",
    "### Section 5: **Unique Structures** - **MassQL** vs **Annotation search**\n",
    "- venn diagram comparing unique structures identified by MassQL query vs annotation search **(Figure 3a)**\n",
    "\n",
    "### Section 6: **MS/MS** - **MassQL** vs **Annotation search**\n",
    "- venn diagram comparing MS/MS identified by MassQL query vs annotation search **(SI Figure 1a)**\n",
    "\n",
    "### Section 7: **MS/MS** - **MassQL** vs **Annotation search MS/MS with structural information**\n",
    "- venn diagram comparing MS/MS identified by MassQL query vs annotation search MS/MS with structural information\n",
    "\n",
    "#### - explanation of Venn diagrams\n",
    "#### - get list of spectrum_id to make USI link for **MS/MS identified by MassQL and library annotation search** https://gnps2.org/ workflow (createusi_markdown_workflow) **(SI Data 3)**\n",
    "\n",
    "---\n",
    "## Library Annotation search vs substructure search\n",
    "### Section 8: **Unique Structures** - **Annotation search** vs **Substructure search**\n",
    "- venn diagram comparing unique structures identified by annotation search vs substructure search **(SI Figure 1b)**\n",
    "\n",
    "### Section 9: **MS/MS** - **Annotation search** vs **Substructure search**\n",
    "- venn diagram for visualizing unique MS/MS captured by annotation and substructure search\n",
    "\n",
    "#### - explanation of Venn diagrams\n",
    "#### - get list of spectrum_id to make USI link for **MS/MS identified by library annotation search and substructure search** https://gnps2.org/ workflow (createusi_markdown_workflow) **(SI Data 4)**\n",
    "#### - get list of spectrum_id to make USI link for **MS/MS exclusively identified by library annotation search and not substructure search** https://gnps2.org/ workflow (createusi_markdown_workflow) **(SI Data 5)**\n",
    "\n",
    "---\n",
    "# Sections for drawing unique structures desrcibed by Venn Diagrams\n",
    "### Section 10: Inner structures captured by **MassQL query** and **ANNOTATION identified carnitines** (associated with Section 5)\n",
    "- identify InChIkey first blocks captured by BOTH sets\n",
    "- match InChIkey first blocks with metadata to draw and visualize structures\n",
    "- identify spectra associated with inner structures\n",
    "- draw structures with associated InChIkey first blocks and example spectrum_id **(SI Figure 2a)**\n",
    "\n",
    "### Section 11: Outer structures **ONLY** captured by **annotation search** (associated with Section 8)\n",
    "- identify InChIkey first blocks only captured by annotation\n",
    "- identify spectra associated with outer substructure structures\n",
    "- draw structures with associated InChIkey first blocks and example spectrum_id **(SI Figure 2b)**"
   ]
  },
  {
   "cell_type": "markdown",
   "id": "39111453-802d-4101-8893-743c410c6016",
   "metadata": {
    "tags": []
   },
   "source": [
    "## Input files needed for the Notebook\n",
    "1. Dataframe output of carnitine metadata in GNPS Library from **substructure_search_identify_carnitine.ipynb**\n",
    "2. Dataframe output of carnitine metadata in GNPS Library from **annotation_search_identify_carnitine.ipynb**\n",
    "3. Cleaned MassQL query output from **shape_carnitine_msql_output.ipynb**"
   ]
  },
  {
   "cell_type": "code",
   "execution_count": 184,
   "id": "70e61e13-6d77-445a-9792-b2df19a545aa",
   "metadata": {},
   "outputs": [],
   "source": [
    "import rdkit\n",
    "from rdkit import Chem\n",
    "from rdkit.Chem import Draw\n",
    "import numpy as np\n",
    "import pandas as pd\n",
    "\n",
    "# for plotting venn diagrams\n",
    "import matplotlib_venn\n",
    "from matplotlib_venn import venn2"
   ]
  },
  {
   "cell_type": "markdown",
   "id": "1bc821c5-9c61-4839-b856-b981a5c92b50",
   "metadata": {
    "tags": []
   },
   "source": [
    "## Section 1: Read input data"
   ]
  },
  {
   "cell_type": "markdown",
   "id": "87ec126d-b3f3-4b9f-bb40-abe58258d3ad",
   "metadata": {
    "tags": []
   },
   "source": [
    "#### read **substructure-identified** carnitine GNPS Library data"
   ]
  },
  {
   "cell_type": "code",
   "execution_count": 2,
   "id": "2ba1d6e8-e6de-45de-947f-cf3bd9f95fc5",
   "metadata": {},
   "outputs": [],
   "source": [
    "# from substructure_search_identify_carnitine.ipynb\n",
    "library_df_w_carnitine_substruc = pd.read_csv('/home/jovyan/work/notebooks/outputs/library_df_w_carnitine_substruc.csv', sep=',')"
   ]
  },
  {
   "cell_type": "markdown",
   "id": "76a80577-c26b-44df-879c-bc84e0a8d8ea",
   "metadata": {
    "tags": []
   },
   "source": [
    "#### read **annotation-identified** carnitine GNPS Library data"
   ]
  },
  {
   "cell_type": "code",
   "execution_count": 3,
   "id": "4bcfc34d-3071-441d-a6ed-af2d00e0a4d0",
   "metadata": {},
   "outputs": [],
   "source": [
    "# from annotation_search_identify_carnitine.ipynb\n",
    "library_df_w_carnitine_name = pd.read_csv('/home/jovyan/work/notebooks/outputs/library_df_carnitine_case_insen_M+H.csv', sep=',')"
   ]
  },
  {
   "cell_type": "markdown",
   "id": "9d6ff404-83ac-4dbb-9641-100abc4e5d3d",
   "metadata": {
    "tags": []
   },
   "source": [
    "#### read MassQL output data"
   ]
  },
  {
   "cell_type": "code",
   "execution_count": 30,
   "id": "9ea2187a-ad63-4dc6-bd63-dc1f2c36f512",
   "metadata": {},
   "outputs": [],
   "source": [
    "# from shape_carnitine_msql_output.ipynb\n",
    "massql_query_output_matched = pd.read_csv('/home/jovyan/work/notebooks/outputs/massql_carnitine_query_peaks_nl_output_matched_for_venn_diagram.csv', sep=',')"
   ]
  },
  {
   "cell_type": "code",
   "execution_count": 31,
   "id": "1988cbd7-45f8-4f6c-93ab-a3d9e550f242",
   "metadata": {},
   "outputs": [],
   "source": [
    "massql_query_output_matched = massql_query_output_matched.replace(np.nan, 'N/A')"
   ]
  },
  {
   "cell_type": "markdown",
   "id": "60181b16-b0b6-415e-8e58-e5ca23d2b019",
   "metadata": {
    "tags": []
   },
   "source": [
    "## Section 2: Identify unique structures in **substructure identified** carnitines"
   ]
  },
  {
   "cell_type": "code",
   "execution_count": 100,
   "id": "55c59299-73dc-4ab8-bc30-a03e6623a4ef",
   "metadata": {},
   "outputs": [],
   "source": [
    "# derive InChIkey first blocks from 'InChIKey_smiles' column data\n",
    "library_df_w_carnitine_substruc['first_block'] = [item.split('-')[0] for item in library_df_w_carnitine_substruc['InChIKey_smiles']]"
   ]
  },
  {
   "cell_type": "code",
   "execution_count": 6,
   "id": "7b50ab30-47e6-465f-ae27-0ff81ad7a9bc",
   "metadata": {},
   "outputs": [
    {
     "data": {
      "text/plain": [
       "349"
      ]
     },
     "execution_count": 6,
     "metadata": {},
     "output_type": "execute_result"
    }
   ],
   "source": [
    "# number of carnitine MS/MS spectra (identified by substructure) with M+H adducts\n",
    "len(library_df_w_carnitine_substruc)"
   ]
  },
  {
   "cell_type": "markdown",
   "id": "0d6f61d3-49fc-4421-ab7e-21b3ca8c8b1f",
   "metadata": {},
   "source": [
    "#### Identify InChIKeys and InChIKey first blocks from SMILES metadata\n",
    "---\n",
    "##### **Variables**\n",
    "- smiles --> SMILES from \"Smiles\" column for a row in library_df_w_all_di\n",
    "- mol --> molecule constructed from SMILES string (held in smiles variable) using RDKit\n",
    "- inchikey --> inchikey constructed from molecule (held in mol variable) using RDKit\n",
    "- inchikey_first_block --> inchikey_first_block derived from inchikey (held in inchikey variable)"
   ]
  },
  {
   "cell_type": "code",
   "execution_count": 7,
   "id": "dbdc52c2-884c-4036-808d-05ea4e1857d2",
   "metadata": {},
   "outputs": [],
   "source": [
    "library_df_w_carnitine_substruc_SMILES_INCHIKEY = {}"
   ]
  },
  {
   "cell_type": "code",
   "execution_count": 8,
   "id": "f77075d2-eca9-4eeb-8476-4227bb9f6865",
   "metadata": {},
   "outputs": [],
   "source": [
    "for x,y in enumerate(library_df_w_carnitine_substruc.Smiles.unique()):\n",
    "    smiles = y\n",
    "    mol = Chem.MolFromSmiles(y)\n",
    "    inchikey = Chem.MolToInchiKey(mol)\n",
    "    inchikey_first_block = inchikey.split('-')[0]\n",
    "    \n",
    "    library_df_w_carnitine_substruc_SMILES_INCHIKEY[x] = [smiles, mol, inchikey, inchikey_first_block]"
   ]
  },
  {
   "cell_type": "code",
   "execution_count": 9,
   "id": "18765e50-d16f-4830-8558-551fe8eec70a",
   "metadata": {},
   "outputs": [],
   "source": [
    "# make dataframe from dictionary\n",
    "library_df_w_carnitine_substruc_SMILES_INCHIKEY_df = pd.DataFrame.from_dict(library_df_w_carnitine_substruc_SMILES_INCHIKEY, orient='index',\n",
    "                       columns=['smiles', 'mol', 'inchikey', 'inchikey_first_block'])"
   ]
  },
  {
   "cell_type": "markdown",
   "id": "9a0f1756-f5a3-4d34-b812-e88ba3a2d718",
   "metadata": {},
   "source": [
    "#### Need to identify **unique** InChIkey first blocks\n",
    "- library_df_w_carnitine_substruc_SMILES_INCHIKEY_df still includes inchikey_first_block repeats"
   ]
  },
  {
   "cell_type": "code",
   "execution_count": 10,
   "id": "8f0e6968-1a56-47e2-b231-260f6fd80a6a",
   "metadata": {},
   "outputs": [
    {
     "data": {
      "text/plain": [
       "28"
      ]
     },
     "execution_count": 10,
     "metadata": {},
     "output_type": "execute_result"
    }
   ],
   "source": [
    "# identify unique InChIkey first blocks by counting first instance\n",
    "unique_library_df_w_carnitine_substruc_SMILES_INCHIKEY_df = []\n",
    "\n",
    "for item in library_df_w_carnitine_substruc_SMILES_INCHIKEY_df.inchikey_first_block: \n",
    "    if item not in unique_library_df_w_carnitine_substruc_SMILES_INCHIKEY_df: \n",
    "        unique_library_df_w_carnitine_substruc_SMILES_INCHIKEY_df.append(item) \n",
    "        \n",
    "len(unique_library_df_w_carnitine_substruc_SMILES_INCHIKEY_df)"
   ]
  },
  {
   "cell_type": "markdown",
   "id": "c9276c48-d7f4-49e7-9f82-e4b1ace79547",
   "metadata": {},
   "source": [
    "#### Filter library_df_w_carnitine_substruc_SMILES_INCHIKEY_df to only include unique InChIkey first blocks"
   ]
  },
  {
   "cell_type": "code",
   "execution_count": 12,
   "id": "b6fb2b28-69fe-4cc7-b923-25d27ee31fd0",
   "metadata": {},
   "outputs": [],
   "source": [
    "library_df_w_carnitine_substruc_SMILES_INCHIKEY_df_no_dup = library_df_w_carnitine_substruc_SMILES_INCHIKEY_df.drop_duplicates(subset=['inchikey_first_block'])"
   ]
  },
  {
   "cell_type": "markdown",
   "id": "7eea00f9-eed0-43e0-938a-80d1835dd1dc",
   "metadata": {
    "tags": []
   },
   "source": [
    "## Section 3: Identify unique structures in **annotation identified** carnitines"
   ]
  },
  {
   "cell_type": "code",
   "execution_count": 101,
   "id": "f03b1fb4-7e0c-4a1a-8b87-af9ac1790efb",
   "metadata": {},
   "outputs": [],
   "source": [
    "# derive InChIkey first blocks from 'InChIKey_smiles' column data\n",
    "library_df_w_carnitine_name['first_block'] = [item.split('-')[0] for item in library_df_w_carnitine_name['InChIKey_smiles']]"
   ]
  },
  {
   "cell_type": "code",
   "execution_count": 14,
   "id": "992f442c-f44e-4dc3-8eb5-7b00b2951dd5",
   "metadata": {},
   "outputs": [
    {
     "data": {
      "text/plain": [
       "387"
      ]
     },
     "execution_count": 14,
     "metadata": {},
     "output_type": "execute_result"
    }
   ],
   "source": [
    "# number of carnitine MS/MS spectra (identified by annotation) with M+H adducts\n",
    "len(library_df_w_carnitine_name)"
   ]
  },
  {
   "cell_type": "code",
   "execution_count": 163,
   "id": "ba6999a7-eb55-4a00-87ca-ef29617f4650",
   "metadata": {},
   "outputs": [
    {
     "data": {
      "text/plain": [
       "376"
      ]
     },
     "execution_count": 163,
     "metadata": {},
     "output_type": "execute_result"
    }
   ],
   "source": [
    "# number of rows from annotation search output without SMILES data in 'Smiles' column\n",
    "len(library_df_w_carnitine_name.dropna(subset=['Smiles']))\n",
    "\n",
    "# output analysis: 376 MS/MS have structural information (SMILES metadata) --> 11 MS/MS don't have structural information"
   ]
  },
  {
   "cell_type": "markdown",
   "id": "143bd675-b613-4b97-be23-fb345d11a15e",
   "metadata": {
    "tags": []
   },
   "source": [
    "#### get list of spectrum_id of MS/MS identified by annotation search that do not have structural information"
   ]
  },
  {
   "cell_type": "code",
   "execution_count": null,
   "id": "85cbfdf6-a77f-492d-b103-21f6fe39f004",
   "metadata": {},
   "outputs": [],
   "source": [
    "USI_link_beginning = 'mzspec:GNPS:GNPS-LIBRARY:accession:'"
   ]
  },
  {
   "cell_type": "code",
   "execution_count": 212,
   "id": "9df26b4d-795d-4599-8f22-5b8b500fcb07",
   "metadata": {},
   "outputs": [],
   "source": [
    "spectra_annot_search_no_struct_info = set(library_df_w_carnitine_name.spectrum_id) - set(library_df_w_carnitine_name.dropna(subset=['Smiles']).spectrum_id)"
   ]
  },
  {
   "cell_type": "code",
   "execution_count": 191,
   "id": "b29e7f98-27e2-4c04-a158-16094a66592b",
   "metadata": {
    "tags": []
   },
   "outputs": [],
   "source": [
    "full_usi_spectra_annot_search_no_struct_info = [USI_link_beginning + spectrum_id for spectrum_id in spectra_annot_search_no_struct_info]"
   ]
  },
  {
   "cell_type": "code",
   "execution_count": 192,
   "id": "a56aece5-ba02-4c0a-b100-bddd647cb594",
   "metadata": {},
   "outputs": [],
   "source": [
    "usi_spectra_annot_search_no_struct_info = pd.DataFrame(full_usi_spectra_annot_search_no_struct_info, columns=['usi'])"
   ]
  },
  {
   "cell_type": "code",
   "execution_count": 409,
   "id": "5d21fafa-4784-471c-9274-90fdfb791ed8",
   "metadata": {
    "tags": []
   },
   "outputs": [],
   "source": [
    "# used in SI Data 6\n",
    "usi_spectra_annot_search_no_struct_info.to_csv(\"carnitine_annot_search_no_struct_info_USI.csv\")"
   ]
  },
  {
   "cell_type": "markdown",
   "id": "d80ef034-59f1-44f1-b9f7-1b408f82eefb",
   "metadata": {},
   "source": [
    "#### Identify InChIKeys and InChIKey first blocks from SMILES metadata\n",
    "---\n",
    "##### **Variables**\n",
    "- smiles --> SMILES from \"Smiles\" column for a row in library_df_w_all_di\n",
    "- mol --> molecule constructed from SMILES string (held in smiles variable) using RDKit\n",
    "- inchikey --> inchikey constructed from molecule (held in mol variable) using RDKit\n",
    "- inchikey_first_block --> inchikey_first_block derived from inchikey (held in inchikey variable)"
   ]
  },
  {
   "cell_type": "code",
   "execution_count": 15,
   "id": "bbc7a843-dda4-4896-975e-22e770eca950",
   "metadata": {},
   "outputs": [],
   "source": [
    "library_df_w_carnitine_name_SMILES_INCHIKEY = {}"
   ]
  },
  {
   "cell_type": "code",
   "execution_count": 16,
   "id": "d1587408-1972-43e7-9781-31c98af476b2",
   "metadata": {},
   "outputs": [],
   "source": [
    "for x,y in enumerate(library_df_w_carnitine_name['Smiles'].dropna().unique()):\n",
    "    smiles = y\n",
    "    mol = Chem.MolFromSmiles(y)\n",
    "    inchikey = Chem.MolToInchiKey(mol)\n",
    "    inchikey_first_block = inchikey.split('-')[0]\n",
    "    \n",
    "    library_df_w_carnitine_name_SMILES_INCHIKEY[x] = [smiles, mol, inchikey, inchikey_first_block]"
   ]
  },
  {
   "cell_type": "code",
   "execution_count": 17,
   "id": "72182f8e-cfe7-4963-a553-fed282f8aaba",
   "metadata": {},
   "outputs": [],
   "source": [
    "# make dataframe from dictionary\n",
    "library_df_w_carnitine_name_SMILES_INCHIKEY_df = pd.DataFrame.from_dict(library_df_w_carnitine_name_SMILES_INCHIKEY, orient='index',\n",
    "                       columns=['smiles', 'mol', 'inchikey', 'inchikey_first_block'])"
   ]
  },
  {
   "cell_type": "markdown",
   "id": "2ee5d9d0-f3f0-4473-addc-2a150ae33c22",
   "metadata": {
    "tags": []
   },
   "source": [
    "#### Need to identify **unique** InChIkey first blocks\n",
    "- library_df_w_carnitine_name_SMILES_INCHIKEY_df still includes inchikey_first_block repeats"
   ]
  },
  {
   "cell_type": "code",
   "execution_count": 18,
   "id": "c1f9c68c-e247-4793-871d-b7c130afc1bf",
   "metadata": {},
   "outputs": [
    {
     "data": {
      "text/plain": [
       "30"
      ]
     },
     "execution_count": 18,
     "metadata": {},
     "output_type": "execute_result"
    }
   ],
   "source": [
    "# identify unique InChIkey first blocks by counting first instance\n",
    "unique_library_df_w_carnitine_name_SMILES_INCHIKEY_df = []\n",
    "\n",
    "for item in library_df_w_carnitine_name_SMILES_INCHIKEY_df.inchikey_first_block: \n",
    "    if item not in unique_library_df_w_carnitine_name_SMILES_INCHIKEY_df: \n",
    "        unique_library_df_w_carnitine_name_SMILES_INCHIKEY_df.append(item) \n",
    "        \n",
    "len(unique_library_df_w_carnitine_name_SMILES_INCHIKEY_df)"
   ]
  },
  {
   "cell_type": "markdown",
   "id": "38a3d111-12ab-4dd3-83f8-a1620ca4844d",
   "metadata": {},
   "source": [
    "#### Filter library_df_w_all_di_SMILES_INCHIKEY_df to only include unique InChIkey first blocks"
   ]
  },
  {
   "cell_type": "code",
   "execution_count": 20,
   "id": "c1d3d801-d821-408f-a76b-ab486ca44ae1",
   "metadata": {},
   "outputs": [],
   "source": [
    "library_df_w_carnitine_name_SMILES_INCHIKEY_df_no_dup = library_df_w_carnitine_name_SMILES_INCHIKEY_df.drop_duplicates(subset=['inchikey_first_block'])"
   ]
  },
  {
   "cell_type": "markdown",
   "id": "29f8bb39-c8ec-42fa-91bf-6f87dba1a75f",
   "metadata": {
    "tags": []
   },
   "source": [
    "## Section 4: Identify unique structures in **MassQL query** data"
   ]
  },
  {
   "cell_type": "code",
   "execution_count": 102,
   "id": "cd70426a-dbc1-4f6f-848f-9a71ac141137",
   "metadata": {},
   "outputs": [],
   "source": [
    "# derive InChIkey first blocks from 'InChIKey_smiles' column data\n",
    "massql_query_output_matched['first_block'] = [item.split('-')[0] for item in massql_query_output_matched['InChIKey_smiles']]"
   ]
  },
  {
   "cell_type": "code",
   "execution_count": 103,
   "id": "20c27fed-078f-4be6-8aa7-7241977186fe",
   "metadata": {
    "tags": []
   },
   "outputs": [],
   "source": [
    "# remove rows from MassQL query output without SMILES data in 'Smiles' column\n",
    "massql_query_output_matched_SMILES = massql_query_output_matched[(massql_query_output_matched.Smiles != \" \") & (massql_query_output_matched.Smiles != \"N/A\")]"
   ]
  },
  {
   "cell_type": "code",
   "execution_count": 33,
   "id": "c84ebcc1-0f96-4f87-b28a-6cb0054350bf",
   "metadata": {},
   "outputs": [
    {
     "data": {
      "text/plain": [
       "82"
      ]
     },
     "execution_count": 33,
     "metadata": {},
     "output_type": "execute_result"
    }
   ],
   "source": [
    "# number of MS/MS spectra with M+H adducts\n",
    "len(massql_query_output_matched_SMILES)"
   ]
  },
  {
   "cell_type": "markdown",
   "id": "694f27af-c399-4a49-a38a-12514698b714",
   "metadata": {},
   "source": [
    "#### Identify InChIKeys and InChIKey first blocks from SMILES metadata\n",
    "---\n",
    "##### **Variables**\n",
    "- smiles --> SMILES from \"Smiles\" column for a row in library_df_w_all_di\n",
    "- mol --> molecule constructed from SMILES string (held in smiles variable) using RDKit\n",
    "- inchikey --> inchikey constructed from molecule (held in mol variable) using RDKit\n",
    "- inchikey_first_block --> inchikey_first_block derived from inchikey (held in inchikey variable)"
   ]
  },
  {
   "cell_type": "code",
   "execution_count": 34,
   "id": "4df1830c-9293-4a63-9716-8babd39bdfc4",
   "metadata": {},
   "outputs": [],
   "source": [
    "massql_query_output_matched_SMILES_INCHIKEY = {}"
   ]
  },
  {
   "cell_type": "code",
   "execution_count": 35,
   "id": "01b97b42-31c5-4e91-bf26-e790bac8fc91",
   "metadata": {},
   "outputs": [],
   "source": [
    "for x,y in enumerate(massql_query_output_matched_SMILES.Smiles.unique()):\n",
    "    smiles = y\n",
    "    mol = Chem.MolFromSmiles(y)\n",
    "    inchikey = Chem.MolToInchiKey(mol)\n",
    "    inchikey_first_block = inchikey.split('-')[0]\n",
    "    \n",
    "    massql_query_output_matched_SMILES_INCHIKEY[x] = [smiles, mol, inchikey, inchikey_first_block]"
   ]
  },
  {
   "cell_type": "code",
   "execution_count": 36,
   "id": "8a6fad81-b1a6-47b5-bf9d-5fc41c0b2d65",
   "metadata": {},
   "outputs": [],
   "source": [
    "# make dataframe from dictionary\n",
    "massql_query_output_matched_SMILES_INCHIKEY_df = pd.DataFrame.from_dict(massql_query_output_matched_SMILES_INCHIKEY, orient='index',\n",
    "                       columns=['smiles', 'mol', 'inchikey', 'inchikey_first_block'])"
   ]
  },
  {
   "cell_type": "markdown",
   "id": "d866eb8f-c408-4407-b1e3-f5d81a389f4b",
   "metadata": {},
   "source": [
    "#### Need to identify **unique** InChIkey first blocks\n",
    "- massql_query_output_matched_SMILES_INCHIKEY_df still includes inchikey_first_block repeats"
   ]
  },
  {
   "cell_type": "code",
   "execution_count": 37,
   "id": "5c205ee2-799e-4b61-b9e1-4add1e799ec8",
   "metadata": {},
   "outputs": [
    {
     "data": {
      "text/plain": [
       "21"
      ]
     },
     "execution_count": 37,
     "metadata": {},
     "output_type": "execute_result"
    }
   ],
   "source": [
    "# identify unique InChIkey first blocks by counting first instance\n",
    "unique_massql_query_output_matched_SMILES_INCHIKEY_df = []\n",
    "\n",
    "for item in massql_query_output_matched_SMILES_INCHIKEY_df.inchikey_first_block: \n",
    "    if item not in unique_massql_query_output_matched_SMILES_INCHIKEY_df: \n",
    "        unique_massql_query_output_matched_SMILES_INCHIKEY_df.append(item) \n",
    "        \n",
    "len(unique_massql_query_output_matched_SMILES_INCHIKEY_df)"
   ]
  },
  {
   "cell_type": "markdown",
   "id": "45b89427-f673-4069-9457-41a49feccdeb",
   "metadata": {},
   "source": [
    "#### Filter massql_query_output_matched_SMILES_INCHIKEY_df to only include unique InChIkey first blocks"
   ]
  },
  {
   "cell_type": "code",
   "execution_count": 40,
   "id": "03c9d629-364e-4e5f-9b05-7349ab7875bd",
   "metadata": {},
   "outputs": [],
   "source": [
    "massql_query_output_matched_SMILES_INCHIKEY_df_no_dup = massql_query_output_matched_SMILES_INCHIKEY_df.drop_duplicates(subset=['inchikey_first_block'])"
   ]
  },
  {
   "cell_type": "markdown",
   "id": "53c74f36-3340-4f74-902c-fce8a11ec97a",
   "metadata": {
    "tags": []
   },
   "source": [
    "## Venn Diagram Sections"
   ]
  },
  {
   "cell_type": "markdown",
   "id": "744ff86f-f289-49c6-ae2c-8d8dea9af604",
   "metadata": {},
   "source": [
    "### Section 5: Unique Structures - MassQL Query vs Annotation search"
   ]
  },
  {
   "cell_type": "code",
   "execution_count": null,
   "id": "7ee87cab-14e8-4d00-b8ea-3e98d2dfcd30",
   "metadata": {},
   "outputs": [
    {
     "data": {
      "text/plain": [
       "<matplotlib_venn._common.VennDiagram at 0x7fbd0fb4f310>"
      ]
     },
     "execution_count": 66,
     "metadata": {},
     "output_type": "execute_result"
    },
    {
     "data": {
      "image/png": "[encoded data removed]",
      "text/plain": [
       "<Figure size 432x288 with 1 Axes>"
      ]
     },
     "metadata": {},
     "output_type": "display_data"
    }
   ],
   "source": [
    "# Figure used for Figure 3a\n",
    "venn2([set(unique_massql_query_output_matched_SMILES_INCHIKEY_df),\n",
    "       set(unique_library_df_w_carnitine_name_SMILES_INCHIKEY_df)],\n",
    "      set_colors=('#ef5039','#3967b2'),\n",
    "      set_labels = ('MassQL Found Compounds','Known Carnitines by Annotation Search' ))"
   ]
  },
  {
   "cell_type": "markdown",
   "id": "a8551237-98b4-45a2-8b24-f56b396b98f6",
   "metadata": {},
   "source": [
    "### Section 6: MS/MS - MassQL Query vs Annotation search"
   ]
  },
  {
   "cell_type": "code",
   "execution_count": null,
   "id": "a5377b51-558d-49cc-b26a-2ca49929f73a",
   "metadata": {},
   "outputs": [
    {
     "data": {
      "text/plain": [
       "<matplotlib_venn._common.VennDiagram at 0x7fbd06e005e0>"
      ]
     },
     "execution_count": 77,
     "metadata": {},
     "output_type": "execute_result"
    },
    {
     "data": {
      "image/png": "[encoded data removed]",
      "text/plain": [
       "<Figure size 432x288 with 1 Axes>"
      ]
     },
     "metadata": {},
     "output_type": "display_data"
    }
   ],
   "source": [
    "# Figure used for SI Figure 1a\n",
    "venn2([set(massql_query_output_matched['spectrum_id'].dropna().unique()),\n",
    "       set(library_df_w_carnitine_name['spectrum_id'].dropna().unique())],\n",
    "      set_colors=('#ef5039','#3967b2'),\n",
    "      set_labels = ('MS/MS Identified by MassQL', 'Carnitine MS/MS Identified by Annotation'))"
   ]
  },
  {
   "cell_type": "markdown",
   "id": "7427be37-ab1e-4a32-8fd0-81ecc14102fc",
   "metadata": {},
   "source": [
    "### Section 7: MS/MS - **MassQL** vs **Annotation search MS/MS with structural information**"
   ]
  },
  {
   "cell_type": "code",
   "execution_count": 257,
   "id": "5b7a5ef9-83f9-467f-b794-9630b7f32537",
   "metadata": {},
   "outputs": [
    {
     "data": {
      "text/plain": [
       "<matplotlib_venn._common.VennDiagram at 0x7fbd0220f370>"
      ]
     },
     "execution_count": 257,
     "metadata": {},
     "output_type": "execute_result"
    },
    {
     "data": {
      "image/png": "[encoded data removed]",
      "text/plain": [
       "<Figure size 432x288 with 1 Axes>"
      ]
     },
     "metadata": {},
     "output_type": "display_data"
    }
   ],
   "source": [
    "# figure for visualizing unique MS/MS captured by MassQL and annotation search MS/MS with structural information\n",
    "venn2([set(massql_query_output_matched['spectrum_id'].dropna().unique()),\n",
    "       set(library_df_w_carnitine_name.dropna(subset=['Smiles'])['spectrum_id'].unique())],\n",
    "      set_colors=('#3967b2','#ef5039'),\n",
    "      set_labels = ('MS/MS Identified by MassQL', 'Carnitine MS/MS Identified by Annotation'))"
   ]
  },
  {
   "cell_type": "markdown",
   "id": "91850bfc-5ede-4588-8088-b7a9fc42deb3",
   "metadata": {},
   "source": [
    "#### understanding the MassQL crescents in Section 6 (5 MS/MS) and 7 (6 MS/MS)"
   ]
  },
  {
   "cell_type": "code",
   "execution_count": 258,
   "id": "a68631c6-d712-4e29-a0be-a8e58475f8fd",
   "metadata": {},
   "outputs": [
    {
     "data": {
      "text/html": [
       "<div>\n",
       "<style scoped>\n",
       "    .dataframe tbody tr th:only-of-type {\n",
       "        vertical-align: middle;\n",
       "    }\n",
       "\n",
       "    .dataframe tbody tr th {\n",
       "        vertical-align: top;\n",
       "    }\n",
       "\n",
       "    .dataframe thead th {\n",
       "        text-align: right;\n",
       "    }\n",
       "</style>\n",
       "<table border=\"1\" class=\"dataframe\">\n",
       "  <thead>\n",
       "    <tr style=\"text-align: right;\">\n",
       "      <th></th>\n",
       "      <th>spectrum_id</th>\n",
       "      <th>Compound_Name</th>\n",
       "      <th>Smiles</th>\n",
       "    </tr>\n",
       "  </thead>\n",
       "  <tbody>\n",
       "    <tr>\n",
       "      <th>54</th>\n",
       "      <td>CCMSLIB00004718368</td>\n",
       "      <td>(2S,3R,4S,5S,6R)-2-[(2R,3R,4S,5S,6R)-4,5-dihyd...</td>\n",
       "      <td>N/A</td>\n",
       "    </tr>\n",
       "    <tr>\n",
       "      <th>55</th>\n",
       "      <td>CCMSLIB00004718427</td>\n",
       "      <td>9,13-Dimethyl-17-oxo-14-(5-oxo-2,5-dihydro-3-f...</td>\n",
       "      <td>N/A</td>\n",
       "    </tr>\n",
       "    <tr>\n",
       "      <th>56</th>\n",
       "      <td>CCMSLIB00004719010</td>\n",
       "      <td>6-[[(2R,3R,6aR,6bS,8aS,12aS,14bR)-2-hydroxy-4,...</td>\n",
       "      <td>N/A</td>\n",
       "    </tr>\n",
       "    <tr>\n",
       "      <th>57</th>\n",
       "      <td>CCMSLIB00004719080</td>\n",
       "      <td>[(2S,3R,4S,5S,6R)-3,4,5-trihydroxy-6-(hydroxym...</td>\n",
       "      <td>N/A</td>\n",
       "    </tr>\n",
       "    <tr>\n",
       "      <th>59</th>\n",
       "      <td>CCMSLIB00004719897</td>\n",
       "      <td>Cholic Acid</td>\n",
       "      <td>N/A</td>\n",
       "    </tr>\n",
       "  </tbody>\n",
       "</table>\n",
       "</div>"
      ],
      "text/plain": [
       "           spectrum_id                                      Compound_Name  \\\n",
       "54  CCMSLIB00004718368  (2S,3R,4S,5S,6R)-2-[(2R,3R,4S,5S,6R)-4,5-dihyd...   \n",
       "55  CCMSLIB00004718427  9,13-Dimethyl-17-oxo-14-(5-oxo-2,5-dihydro-3-f...   \n",
       "56  CCMSLIB00004719010  6-[[(2R,3R,6aR,6bS,8aS,12aS,14bR)-2-hydroxy-4,...   \n",
       "57  CCMSLIB00004719080  [(2S,3R,4S,5S,6R)-3,4,5-trihydroxy-6-(hydroxym...   \n",
       "59  CCMSLIB00004719897                                        Cholic Acid   \n",
       "\n",
       "   Smiles  \n",
       "54    N/A  \n",
       "55    N/A  \n",
       "56    N/A  \n",
       "57    N/A  \n",
       "59    N/A  "
      ]
     },
     "execution_count": 258,
     "metadata": {},
     "output_type": "execute_result"
    }
   ],
   "source": [
    "# used for SI Data 1\n",
    "# spectrum_id of MS/MS that are exclusively identified by MassQL query (from section 6)\n",
    "outer_massQL_query = set(massql_query_output_matched['spectrum_id'].dropna().unique()) - set(library_df_w_carnitine_name['spectrum_id'].dropna().unique())\n",
    "\n",
    "# outer_massQL_query does not have Smiles metadata (no structural information) --> use Compound_Name to determine they are not carnitines\n",
    "massql_query_output_matched[massql_query_output_matched['spectrum_id'].isin(outer_massQL_query)][['spectrum_id','Compound_Name','Smiles']]"
   ]
  },
  {
   "cell_type": "code",
   "execution_count": 259,
   "id": "d5c48dd3-4c15-4629-9a31-0981eb14c6d5",
   "metadata": {},
   "outputs": [
    {
     "data": {
      "text/plain": [
       "{'CCMSLIB00004719808'}"
      ]
     },
     "execution_count": 259,
     "metadata": {},
     "output_type": "execute_result"
    }
   ],
   "source": [
    "# spectrum_id of MS/MS identified by MassQL query (from Section 7)\n",
    "massQL_query_no_struct_info =set(massql_query_output_matched.spectrum_id) - set(massql_query_output_matched_SMILES.spectrum_id)\n",
    "\n",
    "# spectrum_id of MS/MS that doesn't have structural information and but is identified by annotation search and MassQL query in Section 6\n",
    "massQL_query_no_struct_info - outer_massQL_query"
   ]
  },
  {
   "cell_type": "markdown",
   "id": "f1ee1845-e90d-46a5-9b12-00840415ec4b",
   "metadata": {
    "tags": []
   },
   "source": [
    "### What Sections 5, 6, and 7 tell us\n",
    "- 21 unique structures were identified by MassQL and library annotation search\n",
    "- 9 unique structures are exlusively identified by library annotation search\n",
    "\n",
    "- 5 MS/MS are exclusively identified by MassQL and don't have structural information --> use Compound_Name to deduce they are not carnitines\n",
    "- 83 MS/MS are identified by both MassQL and library annotation search\n",
    "- only 82 of those MS/MS have structural information; therefore, those 82 MS/MS describe the 21 unique structures captured by both search methods\n",
    "- we know the library annotation search contains 376 MS/MS with structural information; therefore, the 9 unique structures exclusively captured by library annotation search are described by 294 MS/MS"
   ]
  },
  {
   "cell_type": "markdown",
   "id": "87e77586-69f1-4e73-bff1-5d3de0f3956b",
   "metadata": {
    "tags": []
   },
   "source": [
    "#### get list of spectrum_id of MS/MS identified by MassQL query and library annotation search to make USI links"
   ]
  },
  {
   "cell_type": "code",
   "execution_count": null,
   "id": "37bd8017-7d7d-46dd-9dcf-63431f1f101f",
   "metadata": {
    "tags": []
   },
   "outputs": [],
   "source": [
    "full_usi_inner_all = [USI_link_beginning + spectrum_id for spectrum_id in massql_query_output_matched_SMILES.spectrum_id.to_list()]"
   ]
  },
  {
   "cell_type": "code",
   "execution_count": null,
   "id": "6150239a-f551-4933-a1c1-60d37f113b8b",
   "metadata": {},
   "outputs": [],
   "source": [
    "usi_inner_all = pd.DataFrame(full_usi_inner_all, columns=['usi'])"
   ]
  },
  {
   "cell_type": "code",
   "execution_count": null,
   "id": "6294e6f6-09f0-4243-9b57-57342bc8fd40",
   "metadata": {
    "tags": []
   },
   "outputs": [],
   "source": [
    "# used in SI Data 3\n",
    "usi_inner_all.to_csv(\"inner_carnitine_substruct_msql_USI_all.csv\")"
   ]
  },
  {
   "cell_type": "markdown",
   "id": "2c418a8d-d4a2-40d5-8ae4-50df93ec99ae",
   "metadata": {
    "tags": []
   },
   "source": [
    "### Section 8: Unique Structures - Annotation search vs Substructure search"
   ]
  },
  {
   "cell_type": "code",
   "execution_count": null,
   "id": "d41c00a1-608b-4931-ae91-8308e2bab986",
   "metadata": {},
   "outputs": [
    {
     "data": {
      "text/plain": [
       "<matplotlib_venn._common.VennDiagram at 0x7fbd06be41f0>"
      ]
     },
     "execution_count": 83,
     "metadata": {},
     "output_type": "execute_result"
    },
    {
     "data": {
      "image/png": "[encoded data removed]",
      "text/plain": [
       "<Figure size 432x288 with 1 Axes>"
      ]
     },
     "metadata": {},
     "output_type": "display_data"
    }
   ],
   "source": [
    "# Figure used for SI Figure 1b\n",
    "venn2([set(unique_library_df_w_carnitine_name_SMILES_INCHIKEY_df),\n",
    "       set(unique_library_df_w_carnitine_substruc_SMILES_INCHIKEY_df)],\n",
    "      set_colors=('#3967b2','#ef5039'),\n",
    "      set_labels = ('Known Carnitines by Annotation Search','Known Carnitines by Substructure Search'))"
   ]
  },
  {
   "cell_type": "markdown",
   "id": "109840a9-8611-430c-af66-0536fd040591",
   "metadata": {},
   "source": [
    "### Section 9: MS/MS - **Annotation search** vs **Substructure search**"
   ]
  },
  {
   "cell_type": "code",
   "execution_count": 250,
   "id": "218035d6-da35-4c58-88dc-60e08503affe",
   "metadata": {},
   "outputs": [
    {
     "data": {
      "text/plain": [
       "<matplotlib_venn._common.VennDiagram at 0x7fbd021aca30>"
      ]
     },
     "execution_count": 250,
     "metadata": {},
     "output_type": "execute_result"
    },
    {
     "data": {
      "image/png": "[encoded data removed]",
      "text/plain": [
       "<Figure size 432x288 with 1 Axes>"
      ]
     },
     "metadata": {},
     "output_type": "display_data"
    }
   ],
   "source": [
    "# figure for visualizing unique MS/MS captured by annotation and substructure search\n",
    "venn2([set(library_df_w_carnitine_name.dropna(subset=['Smiles'])['spectrum_id'].unique()),\n",
    "       set(library_df_w_carnitine_substruc['spectrum_id'].dropna().unique())],\n",
    "      set_colors=('#3967b2','#ef5039'),\n",
    "      set_labels = ('Carnitine MS/MS identified by Annotation','Carnitines MS/MS identified by Substructure'))"
   ]
  },
  {
   "cell_type": "code",
   "execution_count": 246,
   "id": "0f5a5dd0-4b76-4953-98f1-90bdbfbe79c1",
   "metadata": {},
   "outputs": [],
   "source": [
    "# InChIKey first blocks that describe the structures identified by both search methods\n",
    "first_block_inner_name_substruc = list(set(unique_library_df_w_carnitine_name_SMILES_INCHIKEY_df).intersection(unique_library_df_w_carnitine_substruc_SMILES_INCHIKEY_df))"
   ]
  },
  {
   "cell_type": "code",
   "execution_count": 248,
   "id": "ac44e946-ad0e-4e33-a169-c1e4f46a7c75",
   "metadata": {},
   "outputs": [
    {
     "data": {
      "text/plain": [
       "349"
      ]
     },
     "execution_count": 248,
     "metadata": {},
     "output_type": "execute_result"
    }
   ],
   "source": [
    "# validation that all MS/MS in library_df_w_carnitine_substruc describe the structures in first_block_inner_name_substruc\n",
    "len(library_df_w_carnitine_substruc[library_df_w_carnitine_substruc['first_block'].isin(first_block_inner_name_substruc)])"
   ]
  },
  {
   "cell_type": "markdown",
   "id": "2a41c326-d7b4-4d1f-bd85-68d319e4e3a8",
   "metadata": {
    "tags": []
   },
   "source": [
    "### What Sections 8 and 9 tell us\n",
    "- 28 unique structures were identified by library annotation and substructure search\n",
    "- 2 unique structures are exlusively identified by library annotation search\n",
    "\n",
    "- 29 MS/MS identified by library search annotation describe the 2 unique structure sexlusively identified by library annotation search\n",
    "- 347 MS/MS describe the 28 unique structures were identified by library annotation and substructure search\n",
    "- 2 MS/MS exclusively identified by substructure search also describe one of the 28 unique structures"
   ]
  },
  {
   "cell_type": "markdown",
   "id": "8e4c6e52-a993-40de-8270-fb75698a5a1a",
   "metadata": {
    "tags": []
   },
   "source": [
    "#### get list of spectrum_id of MS/MS identified by all search methods to make USI links"
   ]
  },
  {
   "cell_type": "code",
   "execution_count": null,
   "id": "e2b435de-1914-4232-ac54-e62311ff1574",
   "metadata": {
    "tags": []
   },
   "outputs": [],
   "source": [
    "full_usi_inner_substruct_annot = [USI_link_beginning + spectrum_id for spectrum_id in library_df_w_carnitine_substruc.spectrum_id.to_list()]"
   ]
  },
  {
   "cell_type": "code",
   "execution_count": null,
   "id": "001002b1-b198-41c0-81d0-8c8ab7e97e25",
   "metadata": {},
   "outputs": [],
   "source": [
    "usi_inner_substruct_annot = pd.DataFrame(full_usi_inner_substruct_annot, columns=['usi'])"
   ]
  },
  {
   "cell_type": "code",
   "execution_count": null,
   "id": "5b9bc1a7-6c11-4833-94c3-a69283a41041",
   "metadata": {
    "tags": []
   },
   "outputs": [],
   "source": [
    "# used in SI Data 4\n",
    "usi_inner_substruct_annot.to_csv(\"inner_carnitine_substruct_annot_USI_all.csv\")"
   ]
  },
  {
   "cell_type": "markdown",
   "id": "2ed21a85-da57-4080-ad61-b02ea6da5489",
   "metadata": {
    "tags": []
   },
   "source": [
    "#### get list of spectrum_id of MS/MS identified by annotation search that describes the 2 structures"
   ]
  },
  {
   "cell_type": "code",
   "execution_count": null,
   "id": "0a478f93-c87c-4c2b-89bb-badc306b7803",
   "metadata": {},
   "outputs": [],
   "source": [
    "spectra_for_2_structs_annotation_search = set(library_df_w_carnitine_name.dropna(subset=['Smiles'])['spectrum_id'].unique()) - set(library_df_w_carnitine_substruc['spectrum_id'].dropna().unique())"
   ]
  },
  {
   "cell_type": "code",
   "execution_count": null,
   "id": "5a33a097-07a3-496c-8708-54054e7e4831",
   "metadata": {
    "tags": []
   },
   "outputs": [],
   "source": [
    "full_usi_spectra_for_2_structs_annotation_search = [USI_link_beginning + spectrum_id for spectrum_id in spectra_for_2_structs_annotation_search]"
   ]
  },
  {
   "cell_type": "code",
   "execution_count": null,
   "id": "20aca9c9-7001-4720-9f15-dcce57de7ddf",
   "metadata": {},
   "outputs": [],
   "source": [
    "usi_spectra_for_2_structs_annotation_search = pd.DataFrame(full_usi_spectra_for_2_structs_annotation_search, columns=['usi'])"
   ]
  },
  {
   "cell_type": "code",
   "execution_count": null,
   "id": "e2181957-2128-4b88-92e5-73ec2fe0bc27",
   "metadata": {
    "tags": []
   },
   "outputs": [],
   "source": [
    "# used in SI Data 5\n",
    "usi_spectra_for_2_structs_annotation_search.to_csv(\"two_carnitine_annot_search_USI.csv\")"
   ]
  },
  {
   "cell_type": "markdown",
   "id": "5942d7c6-670d-43b4-bbe5-626bff369bd4",
   "metadata": {
    "tags": []
   },
   "source": [
    "## Sections for drawing unique structures described by Venn diagrams"
   ]
  },
  {
   "cell_type": "markdown",
   "id": "e063e60d-c9a3-4281-9174-e61fa61356e1",
   "metadata": {
    "tags": []
   },
   "source": [
    "### Section 10: Inner structures captured by **MassQL query** and **ANNOTATION identified carnitines**\n",
    "- associated with Venn diagram in Section 5"
   ]
  },
  {
   "cell_type": "markdown",
   "id": "def63c3b-412c-4be8-80e1-829aa1f9c725",
   "metadata": {},
   "source": [
    "#### Identify InChIkey first blocks captured by BOTH sets"
   ]
  },
  {
   "cell_type": "code",
   "execution_count": 224,
   "id": "c2ef60e6-77f8-4024-81b5-d490f0f10552",
   "metadata": {},
   "outputs": [],
   "source": [
    "# comparing list of unique InChIkey first blocks to identify inner set of shared structures found by both methods\n",
    "inner = [value for value in unique_massql_query_output_matched_SMILES_INCHIKEY_df if value in unique_library_df_w_carnitine_name_SMILES_INCHIKEY_df]"
   ]
  },
  {
   "cell_type": "code",
   "execution_count": 226,
   "id": "4aa1d3a7-99b2-4ab6-b6a4-9d03801ed196",
   "metadata": {
    "tags": []
   },
   "outputs": [
    {
     "data": {
      "text/plain": [
       "21"
      ]
     },
     "execution_count": 226,
     "metadata": {},
     "output_type": "execute_result"
    }
   ],
   "source": [
    "# number of shared InChIkey first blocks\n",
    "len(inner)"
   ]
  },
  {
   "cell_type": "markdown",
   "id": "16dfe221-f5b0-484d-b096-9c1d31db096e",
   "metadata": {},
   "source": [
    "#### match InChIkey first blocks with metadata to draw and visualize structures"
   ]
  },
  {
   "cell_type": "code",
   "execution_count": 227,
   "id": "0692050f-c187-4e97-94b8-c64902196002",
   "metadata": {},
   "outputs": [],
   "source": [
    "# match shared InChIkey first blocks with metadata describing smiles, mol, inchikey, and inchikey_first_block data\n",
    "inner_name_df_examples = library_df_w_carnitine_name_SMILES_INCHIKEY_df_no_dup[library_df_w_carnitine_name_SMILES_INCHIKEY_df_no_dup['inchikey_first_block'].isin(inner)]"
   ]
  },
  {
   "cell_type": "markdown",
   "id": "60f0f863-726e-4f60-b666-28ee5e63054b",
   "metadata": {
    "tags": []
   },
   "source": [
    "#### Identify example spectra associated with inner structures\n",
    "- for visualizing structure with InChIkey first blocks and example spectrum_id"
   ]
  },
  {
   "cell_type": "markdown",
   "id": "0438c608-077a-4ede-b7a8-358ba4089cb9",
   "metadata": {},
   "source": [
    "##### Isolate spectra with diagnostic peaks\n",
    "Because the carnitines identified in library_df_w_carnitine_name were found using annotation, we cannot guarantee their associated MS/MS have the diagnotic peaks we are looking for. For the sake of figure generation for the manuscript and to ensure the example spectra provided are consistent with what is expected, the below code filters MS/MS for those that contain the expected diagnostic peaks."
   ]
  },
  {
   "cell_type": "code",
   "execution_count": 47,
   "id": "2404a4f8-391e-4e7a-a2ca-c58d0517e1d9",
   "metadata": {},
   "outputs": [],
   "source": [
    "lib_spectra_with_85_60_peaks = []\n",
    "for x,y in library_df_w_carnitine_substruc.iterrows():\n",
    "    peaks = library_df_w_carnitine_substruc.peaks_json[x]\n",
    "    if peaks.find('[85.0') != -1 and peaks.find('[60.0') != -1:\n",
    "        lib_spectra_with_85_60_peaks.append(library_df_w_carnitine_substruc.spectrum_id[x])"
   ]
  },
  {
   "cell_type": "code",
   "execution_count": 48,
   "id": "29824a15-8ded-4b16-99d9-c62bd687238d",
   "metadata": {},
   "outputs": [
    {
     "data": {
      "text/plain": [
       "216"
      ]
     },
     "execution_count": 48,
     "metadata": {},
     "output_type": "execute_result"
    }
   ],
   "source": [
    "# list of spectrum_id that describe MS/MS that have the expected diagnostic peaks (216 MS/MS out of the 349 MS/MS)\n",
    "len(lib_spectra_with_85_60_peaks)"
   ]
  },
  {
   "cell_type": "markdown",
   "id": "79b5f317-83f3-4eba-b747-50ebb1ebaaef",
   "metadata": {},
   "source": [
    "##### MS/MS spectra that describe inner structures but are **NOT confirmed to have all diagnostic peaks**"
   ]
  },
  {
   "cell_type": "code",
   "execution_count": 230,
   "id": "7ebf00d1-d11d-4da1-8533-65d751ba5779",
   "metadata": {},
   "outputs": [],
   "source": [
    "library_df_w_carnitine_name_inner =  library_df_w_carnitine_name[library_df_w_carnitine_name['Smiles'].isin(inner_name_df_examples.smiles)].reset_index()"
   ]
  },
  {
   "cell_type": "code",
   "execution_count": 231,
   "id": "b2a37a08-dc2c-4bc1-8d23-23e3af384401",
   "metadata": {},
   "outputs": [],
   "source": [
    "library_df_w_carnitine_name_inner_no_dup = library_df_w_carnitine_name_inner.drop_duplicates(subset=['Smiles'])"
   ]
  },
  {
   "cell_type": "code",
   "execution_count": 232,
   "id": "0b31ca05-341d-4110-b243-be566d8aea5b",
   "metadata": {},
   "outputs": [
    {
     "data": {
      "text/plain": [
       "21"
      ]
     },
     "execution_count": 232,
     "metadata": {},
     "output_type": "execute_result"
    }
   ],
   "source": [
    "len(library_df_w_carnitine_name_inner_no_dup)"
   ]
  },
  {
   "cell_type": "markdown",
   "id": "55cfa98f-ab81-4f00-ba1b-1e15ce64f45d",
   "metadata": {},
   "source": [
    "##### MS/MS spectra that describe inner structures **AND have all diagnostic peaks**"
   ]
  },
  {
   "cell_type": "code",
   "execution_count": 234,
   "id": "87c73ef2-e0ae-4069-9405-324e54f849e4",
   "metadata": {},
   "outputs": [
    {
     "data": {
      "text/plain": [
       "14"
      ]
     },
     "execution_count": 234,
     "metadata": {},
     "output_type": "execute_result"
    }
   ],
   "source": [
    "library_df_w_carnitine_name_inner_no_dup_with_peaks = library_df_w_carnitine_name_inner_no_dup[library_df_w_carnitine_name_inner_no_dup['spectrum_id'].isin(lib_spectra_with_85_60_peaks)]"
   ]
  },
  {
   "cell_type": "markdown",
   "id": "98b980f3-9899-4c43-90c9-f95004e987b7",
   "metadata": {
    "tags": []
   },
   "source": [
    "##### identify if there are any missing spectrum_id from the expected 21 inner captured structures due to lack of diagnostic peaks\n",
    "Substract the spectrum_id of MS/MS spectra that describe inner structures but are **NOT confirmed to have all diagnostic peaks** from MS/MS spectra that describe inner structures **AND have all diagnostic peaks**."
   ]
  },
  {
   "cell_type": "code",
   "execution_count": 235,
   "id": "995e58c9-9c47-4881-a076-f4228c9a5e43",
   "metadata": {
    "tags": []
   },
   "outputs": [
    {
     "data": {
      "text/plain": [
       "{'CCMSLIB00003137514',\n",
       " 'CCMSLIB00003138249',\n",
       " 'CCMSLIB00003138757',\n",
       " 'CCMSLIB00004684226',\n",
       " 'CCMSLIB00004684227',\n",
       " 'CCMSLIB00005788025',\n",
       " 'CCMSLIB00006674033'}"
      ]
     },
     "execution_count": 235,
     "metadata": {},
     "output_type": "execute_result"
    }
   ],
   "source": [
    "# spectrum_id with missing diagnostic peaks\n",
    "set(library_df_w_carnitine_name_inner_no_dup.spectrum_id) - set(library_df_w_carnitine_name_inner_no_dup_with_peaks.spectrum_id)"
   ]
  },
  {
   "cell_type": "markdown",
   "id": "923bc204-5cca-4e8b-9062-cfcc651cc828",
   "metadata": {
    "tags": []
   },
   "source": [
    "##### identify what structure corresponds to spectrum_id (using InChIKey data)\n",
    "For the sake of figure generation and providing consistent examples in the manuscript, we will use spectral data from massql query output as the example MS/MS for the same structure described by the InChIKey first blocks."
   ]
  },
  {
   "cell_type": "code",
   "execution_count": 236,
   "id": "73d1586d-b7bd-4b50-bcdd-bf9a38f50049",
   "metadata": {
    "tags": []
   },
   "outputs": [],
   "source": [
    "# InChIKey first blocks associated with spectrum_id with missing diagnostic peaks\n",
    "need_from_massql = list(set(library_df_w_carnitine_name_inner_no_dup.first_block) - set(library_df_w_carnitine_name_inner_no_dup_with_peaks.first_block))"
   ]
  },
  {
   "cell_type": "markdown",
   "id": "4008955c-2647-46df-bb5c-11103ec806b9",
   "metadata": {
    "tags": []
   },
   "source": [
    "##### shaping data to draw structures with associated InChIkey first blocks and example spectrum_id\n",
    "To ensure all structures described in inner_name_df_examples have appropriate structural and spectral data, we must merge the data from library_df_w_carnitine_name_inner_no_dup_with_peaks describing 14 MS/MS with the 7 MS/MS from the MassQL dataset.\n",
    "\n",
    "---\n",
    "InChIKey structural data is included to facilitate the final merge with inner_name_df_examples."
   ]
  },
  {
   "cell_type": "code",
   "execution_count": 119,
   "id": "4e4d098f-1b8a-49e4-bb99-1456a2c31d4a",
   "metadata": {},
   "outputs": [],
   "source": [
    "# spectral and structural data describing 14 out of the 21 structures in inner_name_df_examples\n",
    "library_name_inner_to_merge = library_df_w_carnitine_name_inner_no_dup_with_peaks[['spectrum_id','InChIKey_smiles','first_block']]"
   ]
  },
  {
   "cell_type": "code",
   "execution_count": 120,
   "id": "cb85ebf0-aa75-4d19-be88-86d269169f59",
   "metadata": {
    "tags": []
   },
   "outputs": [],
   "source": [
    "# spectral and structural data describing 7 out of the 21 structures in inner_name_df_examples (first occurrence of need_from_massql in massql_query_output_matched_SMILES)\n",
    "massql_name_inner_to_merge = massql_query_output_matched_SMILES[massql_query_output_matched_SMILES['first_block'].isin(need_from_massql)][['spectrum_id','InChIKey_smiles','first_block']].drop_duplicates(subset=['first_block'])"
   ]
  },
  {
   "cell_type": "markdown",
   "id": "28d41949-ddb8-4c1c-97f4-ef90656cff9b",
   "metadata": {},
   "source": [
    "##### merge spectral and structural data"
   ]
  },
  {
   "cell_type": "code",
   "execution_count": 121,
   "id": "b6a89a7b-b157-4b12-aded-bf6ffe1ef811",
   "metadata": {},
   "outputs": [],
   "source": [
    "merged_inner_name = pd.concat([library_name_inner_to_merge, massql_name_inner_to_merge], ignore_index = True)"
   ]
  },
  {
   "cell_type": "markdown",
   "id": "634ae059-a755-4aad-97ec-3bf25976352d",
   "metadata": {
    "tags": []
   },
   "source": [
    "##### merge structural data with inner_name_df_examples on structrual (InChIkey first block) data"
   ]
  },
  {
   "cell_type": "code",
   "execution_count": 123,
   "id": "99204bef-4726-4467-8160-57b82d8620d2",
   "metadata": {},
   "outputs": [],
   "source": [
    "inner_name_df_examples_spectra_merged = pd.merge(inner_name_df_examples, merged_inner_name[['first_block','spectrum_id']], left_on='inchikey_first_block', right_on='first_block', how='left')"
   ]
  },
  {
   "cell_type": "markdown",
   "id": "992e5793-fe5d-424d-b92a-a432ac4067a8",
   "metadata": {},
   "source": [
    "##### make legend describing InChIkey first blocks and spectrum_id to show under structure"
   ]
  },
  {
   "cell_type": "code",
   "execution_count": 125,
   "id": "2fd4f921-57b3-4f5a-a16d-c9b910e273a0",
   "metadata": {
    "tags": []
   },
   "outputs": [],
   "source": [
    "legend_inner_name = [inchikey_first_block +\" : \"+ spec_id for inchikey_first_block,spec_id in zip(inner_name_df_examples_spectra_merged['inchikey_first_block'], inner_name_df_examples_spectra_merged['spectrum_id'])]"
   ]
  },
  {
   "cell_type": "markdown",
   "id": "541ff27d-5131-45e8-a0e2-ac662f47e840",
   "metadata": {},
   "source": [
    "#### Draw structures with associated InChIkey first blocks and example spectrum_id"
   ]
  },
  {
   "cell_type": "code",
   "execution_count": 215,
   "id": "db705fa6-34d8-4390-bcb5-2ae1245506d5",
   "metadata": {
    "tags": []
   },
   "outputs": [
    {
     "data": {
      "image/svg+xml": [
       "<svg xmlns=\"http://www.w3.org/2000/svg\" xmlns:rdkit=\"http://www.rdkit.org/xml\" xmlns:xlink=\"http://www.w3.org/1999/xlink\" version=\"1.1\" baseProfile=\"full\" xml:space=\"preserve\" width=\"1600px\" height=\"900px\" viewBox=\"0 0 1600 900\">\n",
       "<!-- END OF HEADER -->\n",
       "<rect style=\"opacity:1.0;fill:#FFFFFF;stroke:none\" width=\"1600.0\" height=\"900.0\" x=\"0.0\" y=\"0.0\"> </rect>\n",
       "<path class=\"bond-0 atom-0 atom-1\" d=\"M 87.2,67.8 L 104.9,58.9\" style=\"fill:none;fill-rule:evenodd;stroke:#000000;stroke-width:2.0px;stroke-linecap:butt;stroke-linejoin:miter;stroke-opacity:1\"/>\n",
       "<path class=\"bond-1 atom-1 atom-2\" d=\"M 104.9,58.9 L 121.4,69.7\" style=\"fill:none;fill-rule:evenodd;stroke:#000000;stroke-width:2.0px;stroke-linecap:butt;stroke-linejoin:miter;stroke-opacity:1\"/>\n",
       "<path class=\"bond-2 atom-2 atom-3\" d=\"M 121.4,69.7 L 139.1,60.8\" style=\"fill:none;fill-rule:evenodd;stroke:#000000;stroke-width:2.0px;stroke-linecap:butt;stroke-linejoin:miter;stroke-opacity:1\"/>\n",
       "<path class=\"bond-3 atom-3 atom-4\" d=\"M 139.1,60.8 L 155.6,71.6\" style=\"fill:none;fill-rule:evenodd;stroke:#000000;stroke-width:2.0px;stroke-linecap:butt;stroke-linejoin:miter;stroke-opacity:1\"/>\n",
       "<path class=\"bond-4 atom-4 atom-5\" d=\"M 155.6,71.6 L 173.3,62.7\" style=\"fill:none;fill-rule:evenodd;stroke:#000000;stroke-width:2.0px;stroke-linecap:butt;stroke-linejoin:miter;stroke-opacity:1\"/>\n",
       "<path class=\"bond-5 atom-5 atom-6\" d=\"M 173.3,62.7 L 189.8,73.6\" style=\"fill:none;fill-rule:evenodd;stroke:#000000;stroke-width:2.0px;stroke-linecap:butt;stroke-linejoin:miter;stroke-opacity:1\"/>\n",
       "<path class=\"bond-6 atom-6 atom-7\" d=\"M 189.8,73.6 L 207.5,64.6\" style=\"fill:none;fill-rule:evenodd;stroke:#000000;stroke-width:2.0px;stroke-linecap:butt;stroke-linejoin:miter;stroke-opacity:1\"/>\n",
       "<path class=\"bond-7 atom-7 atom-8\" d=\"M 207.5,64.6 L 224.1,75.5\" style=\"fill:none;fill-rule:evenodd;stroke:#000000;stroke-width:2.0px;stroke-linecap:butt;stroke-linejoin:miter;stroke-opacity:1\"/>\n",
       "<path class=\"bond-8 atom-8 atom-9\" d=\"M 224.1,75.5 L 241.7,66.6\" style=\"fill:none;fill-rule:evenodd;stroke:#000000;stroke-width:2.0px;stroke-linecap:butt;stroke-linejoin:miter;stroke-opacity:1\"/>\n",
       "<path class=\"bond-9 atom-9 atom-10\" d=\"M 239.7,66.5 L 240.2,58.4\" style=\"fill:none;fill-rule:evenodd;stroke:#000000;stroke-width:2.0px;stroke-linecap:butt;stroke-linejoin:miter;stroke-opacity:1\"/>\n",
       "<path class=\"bond-9 atom-9 atom-10\" d=\"M 240.2,58.4 L 240.6,50.3\" style=\"fill:none;fill-rule:evenodd;stroke:#FF0000;stroke-width:2.0px;stroke-linecap:butt;stroke-linejoin:miter;stroke-opacity:1\"/>\n",
       "<path class=\"bond-9 atom-9 atom-10\" d=\"M 243.7,66.7 L 244.1,58.6\" style=\"fill:none;fill-rule:evenodd;stroke:#000000;stroke-width:2.0px;stroke-linecap:butt;stroke-linejoin:miter;stroke-opacity:1\"/>\n",
       "<path class=\"bond-9 atom-9 atom-10\" d=\"M 244.1,58.6 L 244.6,50.5\" style=\"fill:none;fill-rule:evenodd;stroke:#FF0000;stroke-width:2.0px;stroke-linecap:butt;stroke-linejoin:miter;stroke-opacity:1\"/>\n",
       "<path class=\"bond-10 atom-9 atom-11\" d=\"M 241.7,66.6 L 248.4,70.9\" style=\"fill:none;fill-rule:evenodd;stroke:#000000;stroke-width:2.0px;stroke-linecap:butt;stroke-linejoin:miter;stroke-opacity:1\"/>\n",
       "<path class=\"bond-10 atom-9 atom-11\" d=\"M 248.4,70.9 L 255.0,75.3\" style=\"fill:none;fill-rule:evenodd;stroke:#FF0000;stroke-width:2.0px;stroke-linecap:butt;stroke-linejoin:miter;stroke-opacity:1\"/>\n",
       "<path class=\"bond-11 atom-11 atom-12\" d=\"M 261.5,75.8 L 268.7,72.1\" style=\"fill:none;fill-rule:evenodd;stroke:#FF0000;stroke-width:2.0px;stroke-linecap:butt;stroke-linejoin:miter;stroke-opacity:1\"/>\n",
       "<path class=\"bond-11 atom-11 atom-12\" d=\"M 268.7,72.1 L 275.9,68.5\" style=\"fill:none;fill-rule:evenodd;stroke:#000000;stroke-width:2.0px;stroke-linecap:butt;stroke-linejoin:miter;stroke-opacity:1\"/>\n",
       "<path class=\"bond-12 atom-12 atom-13\" d=\"M 275.9,68.5 L 292.5,79.3\" style=\"fill:none;fill-rule:evenodd;stroke:#000000;stroke-width:2.0px;stroke-linecap:butt;stroke-linejoin:miter;stroke-opacity:1\"/>\n",
       "<path class=\"bond-13 atom-13 atom-14\" d=\"M 292.5,79.3 L 291.4,99.1\" style=\"fill:none;fill-rule:evenodd;stroke:#000000;stroke-width:2.0px;stroke-linecap:butt;stroke-linejoin:miter;stroke-opacity:1\"/>\n",
       "<path class=\"bond-14 atom-14 atom-15\" d=\"M 292.3,100.8 L 285.0,104.5\" style=\"fill:none;fill-rule:evenodd;stroke:#000000;stroke-width:2.0px;stroke-linecap:butt;stroke-linejoin:miter;stroke-opacity:1\"/>\n",
       "<path class=\"bond-14 atom-14 atom-15\" d=\"M 285.0,104.5 L 277.8,108.1\" style=\"fill:none;fill-rule:evenodd;stroke:#FF0000;stroke-width:2.0px;stroke-linecap:butt;stroke-linejoin:miter;stroke-opacity:1\"/>\n",
       "<path class=\"bond-14 atom-14 atom-15\" d=\"M 290.5,97.3 L 283.3,101.0\" style=\"fill:none;fill-rule:evenodd;stroke:#000000;stroke-width:2.0px;stroke-linecap:butt;stroke-linejoin:miter;stroke-opacity:1\"/>\n",
       "<path class=\"bond-14 atom-14 atom-15\" d=\"M 283.3,101.0 L 276.0,104.6\" style=\"fill:none;fill-rule:evenodd;stroke:#FF0000;stroke-width:2.0px;stroke-linecap:butt;stroke-linejoin:miter;stroke-opacity:1\"/>\n",
       "<path class=\"bond-15 atom-14 atom-16\" d=\"M 291.4,99.1 L 298.0,103.4\" style=\"fill:none;fill-rule:evenodd;stroke:#000000;stroke-width:2.0px;stroke-linecap:butt;stroke-linejoin:miter;stroke-opacity:1\"/>\n",
       "<path class=\"bond-15 atom-14 atom-16\" d=\"M 298.0,103.4 L 304.7,107.8\" style=\"fill:none;fill-rule:evenodd;stroke:#FF0000;stroke-width:2.0px;stroke-linecap:butt;stroke-linejoin:miter;stroke-opacity:1\"/>\n",
       "<path class=\"bond-16 atom-12 atom-17\" d=\"M 275.9,68.5 L 277.0,48.7\" style=\"fill:none;fill-rule:evenodd;stroke:#000000;stroke-width:2.0px;stroke-linecap:butt;stroke-linejoin:miter;stroke-opacity:1\"/>\n",
       "<path class=\"bond-17 atom-17 atom-18\" d=\"M 277.0,48.7 L 284.5,45.0\" style=\"fill:none;fill-rule:evenodd;stroke:#000000;stroke-width:2.0px;stroke-linecap:butt;stroke-linejoin:miter;stroke-opacity:1\"/>\n",
       "<path class=\"bond-17 atom-17 atom-18\" d=\"M 284.5,45.0 L 291.9,41.2\" style=\"fill:none;fill-rule:evenodd;stroke:#0000FF;stroke-width:2.0px;stroke-linecap:butt;stroke-linejoin:miter;stroke-opacity:1\"/>\n",
       "<path class=\"bond-18 atom-18 atom-19\" d=\"M 293.0,36.4 L 289.4,29.3\" style=\"fill:none;fill-rule:evenodd;stroke:#0000FF;stroke-width:2.0px;stroke-linecap:butt;stroke-linejoin:miter;stroke-opacity:1\"/>\n",
       "<path class=\"bond-18 atom-18 atom-19\" d=\"M 289.4,29.3 L 285.8,22.2\" style=\"fill:none;fill-rule:evenodd;stroke:#000000;stroke-width:2.0px;stroke-linecap:butt;stroke-linejoin:miter;stroke-opacity:1\"/>\n",
       "<path class=\"bond-19 atom-18 atom-20\" d=\"M 296.4,43.3 L 300.0,50.4\" style=\"fill:none;fill-rule:evenodd;stroke:#0000FF;stroke-width:2.0px;stroke-linecap:butt;stroke-linejoin:miter;stroke-opacity:1\"/>\n",
       "<path class=\"bond-19 atom-18 atom-20\" d=\"M 300.0,50.4 L 303.6,57.5\" style=\"fill:none;fill-rule:evenodd;stroke:#000000;stroke-width:2.0px;stroke-linecap:butt;stroke-linejoin:miter;stroke-opacity:1\"/>\n",
       "<path class=\"bond-20 atom-18 atom-21\" d=\"M 300.6,36.9 L 306.5,33.9\" style=\"fill:none;fill-rule:evenodd;stroke:#0000FF;stroke-width:2.0px;stroke-linecap:butt;stroke-linejoin:miter;stroke-opacity:1\"/>\n",
       "<path class=\"bond-20 atom-18 atom-21\" d=\"M 306.5,33.9 L 312.4,30.9\" style=\"fill:none;fill-rule:evenodd;stroke:#000000;stroke-width:2.0px;stroke-linecap:butt;stroke-linejoin:miter;stroke-opacity:1\"/>\n",
       "<path class=\"atom-10\" d=\"M 240.3 46.8 Q 240.3 45.5, 240.9 44.7 Q 241.6 44.0, 242.8 44.0 Q 244.1 44.0, 244.7 44.7 Q 245.4 45.5, 245.4 46.8 Q 245.4 48.2, 244.7 49.0 Q 244.1 49.7, 242.8 49.7 Q 241.6 49.7, 240.9 49.0 Q 240.3 48.2, 240.3 46.8 M 242.8 49.1 Q 243.7 49.1, 244.1 48.5 Q 244.6 48.0, 244.6 46.8 Q 244.6 45.7, 244.1 45.2 Q 243.7 44.6, 242.8 44.6 Q 242.0 44.6, 241.5 45.2 Q 241.0 45.7, 241.0 46.8 Q 241.0 48.0, 241.5 48.5 Q 242.0 49.1, 242.8 49.1 \" fill=\"#FF0000\"/>\n",
       "<path class=\"atom-11\" d=\"M 255.7 77.4 Q 255.7 76.1, 256.4 75.3 Q 257.0 74.6, 258.3 74.6 Q 259.5 74.6, 260.2 75.3 Q 260.8 76.1, 260.8 77.4 Q 260.8 78.8, 260.2 79.6 Q 259.5 80.3, 258.3 80.3 Q 257.0 80.3, 256.4 79.6 Q 255.7 78.8, 255.7 77.4 M 258.3 79.7 Q 259.1 79.7, 259.6 79.1 Q 260.0 78.5, 260.0 77.4 Q 260.0 76.3, 259.6 75.8 Q 259.1 75.2, 258.3 75.2 Q 257.4 75.2, 256.9 75.8 Q 256.5 76.3, 256.5 77.4 Q 256.5 78.5, 256.9 79.1 Q 257.4 79.7, 258.3 79.7 \" fill=\"#FF0000\"/>\n",
       "<path class=\"atom-15\" d=\"M 271.1 108.0 Q 271.1 106.7, 271.8 105.9 Q 272.5 105.2, 273.7 105.2 Q 274.9 105.2, 275.6 105.9 Q 276.3 106.7, 276.3 108.0 Q 276.3 109.4, 275.6 110.1 Q 274.9 110.9, 273.7 110.9 Q 272.5 110.9, 271.8 110.1 Q 271.1 109.4, 271.1 108.0 M 273.7 110.3 Q 274.6 110.3, 275.0 109.7 Q 275.5 109.1, 275.5 108.0 Q 275.5 106.9, 275.0 106.4 Q 274.6 105.8, 273.7 105.8 Q 272.8 105.8, 272.4 106.3 Q 271.9 106.9, 271.9 108.0 Q 271.9 109.1, 272.4 109.7 Q 272.8 110.3, 273.7 110.3 \" fill=\"#FF0000\"/>\n",
       "<path class=\"atom-16\" d=\"M 305.3 109.9 Q 305.3 108.6, 306.0 107.8 Q 306.7 107.1, 307.9 107.1 Q 309.2 107.1, 309.8 107.8 Q 310.5 108.6, 310.5 109.9 Q 310.5 111.3, 309.8 112.1 Q 309.1 112.8, 307.9 112.8 Q 306.7 112.8, 306.0 112.1 Q 305.3 111.3, 305.3 109.9 M 307.9 112.2 Q 308.8 112.2, 309.2 111.6 Q 309.7 111.1, 309.7 109.9 Q 309.7 108.8, 309.2 108.3 Q 308.8 107.7, 307.9 107.7 Q 307.1 107.7, 306.6 108.3 Q 306.1 108.8, 306.1 109.9 Q 306.1 111.1, 306.6 111.6 Q 307.1 112.2, 307.9 112.2 \" fill=\"#FF0000\"/>\n",
       "<path class=\"atom-16\" d=\"M 310.9 108.0 L 312.8 108.0 L 312.8 108.4 L 310.9 108.4 L 310.9 108.0 \" fill=\"#FF0000\"/>\n",
       "<path class=\"atom-18\" d=\"M 293.5 37.0 L 295.3 40.0 Q 295.5 40.3, 295.8 40.8 Q 296.1 41.3, 296.1 41.4 L 296.1 37.0 L 296.8 37.0 L 296.8 42.6 L 296.1 42.6 L 294.1 39.4 Q 293.9 39.0, 293.6 38.6 Q 293.4 38.1, 293.3 38.0 L 293.3 42.6 L 292.6 42.6 L 292.6 37.0 L 293.5 37.0 \" fill=\"#0000FF\"/>\n",
       "<path class=\"atom-18\" d=\"M 297.5 38.0 L 298.5 38.0 L 298.5 37.0 L 298.9 37.0 L 298.9 38.0 L 299.9 38.0 L 299.9 38.4 L 298.9 38.4 L 298.9 39.5 L 298.5 39.5 L 298.5 38.4 L 297.5 38.4 L 297.5 38.0 \" fill=\"#0000FF\"/>\n",
       "<path class=\"legend\" d=\"M 86.1 135.1 L 87.3 135.1 L 87.3 142.7 L 91.2 142.7 L 91.2 143.7 L 86.1 143.7 L 86.1 135.1 \" fill=\"#000000\"/>\n",
       "<path class=\"legend\" d=\"M 91.5 142.8 L 95.8 136.1 L 91.7 136.1 L 91.7 135.1 L 97.3 135.1 L 97.3 136.0 L 92.9 142.7 L 97.2 142.7 L 97.2 143.7 L 91.5 143.7 L 91.5 142.8 \" fill=\"#000000\"/>\n",
       "<path class=\"legend\" d=\"M 97.8 139.4 Q 97.8 137.3, 98.8 136.1 Q 99.8 135.0, 101.7 135.0 Q 103.6 135.0, 104.7 136.1 Q 105.7 137.3, 105.7 139.4 Q 105.7 141.4, 104.6 142.6 Q 103.6 143.8, 101.7 143.8 Q 99.9 143.8, 98.8 142.6 Q 97.8 141.4, 97.8 139.4 M 101.7 142.8 Q 103.0 142.8, 103.7 142.0 Q 104.5 141.1, 104.5 139.4 Q 104.5 137.7, 103.7 136.8 Q 103.0 136.0, 101.7 136.0 Q 100.4 136.0, 99.7 136.8 Q 99.0 137.7, 99.0 139.4 Q 99.0 141.1, 99.7 142.0 Q 100.4 142.8, 101.7 142.8 \" fill=\"#000000\"/>\n",
       "<path class=\"legend\" d=\"M 106.6 142.3 Q 106.7 142.4, 107.1 142.5 Q 107.5 142.7, 107.9 142.8 Q 108.4 142.9, 108.8 142.9 Q 109.6 142.9, 110.1 142.5 Q 110.6 142.1, 110.6 141.4 Q 110.6 141.0, 110.3 140.7 Q 110.1 140.4, 109.7 140.2 Q 109.4 140.1, 108.8 139.9 Q 108.0 139.7, 107.5 139.4 Q 107.1 139.2, 106.8 138.8 Q 106.5 138.3, 106.5 137.5 Q 106.5 136.5, 107.2 135.8 Q 107.9 135.1, 109.4 135.1 Q 110.4 135.1, 111.5 135.6 L 111.2 136.5 Q 110.2 136.1, 109.4 136.1 Q 108.6 136.1, 108.1 136.5 Q 107.7 136.8, 107.7 137.4 Q 107.7 137.8, 107.9 138.1 Q 108.1 138.4, 108.5 138.6 Q 108.8 138.7, 109.4 138.9 Q 110.2 139.1, 110.6 139.4 Q 111.1 139.6, 111.4 140.1 Q 111.8 140.6, 111.8 141.4 Q 111.8 142.6, 111.0 143.3 Q 110.2 143.9, 108.9 143.9 Q 108.1 143.9, 107.5 143.7 Q 107.0 143.6, 106.3 143.3 L 106.6 142.3 \" fill=\"#000000\"/>\n",
       "<path class=\"legend\" d=\"M 115.2 140.1 L 112.3 135.1 L 113.6 135.1 L 115.7 138.9 L 117.9 135.1 L 119.2 135.1 L 116.3 140.1 L 116.3 143.7 L 115.2 143.7 L 115.2 140.1 \" fill=\"#000000\"/>\n",
       "<path class=\"legend\" d=\"M 119.2 139.4 Q 119.2 137.2, 120.2 136.1 Q 121.2 135.0, 123.1 135.0 Q 124.8 135.0, 125.8 136.2 L 125.0 136.9 Q 124.3 136.0, 123.1 136.0 Q 121.8 136.0, 121.1 136.9 Q 120.4 137.7, 120.4 139.4 Q 120.4 141.1, 121.1 141.9 Q 121.8 142.8, 123.2 142.8 Q 124.2 142.8, 125.3 142.2 L 125.6 143.1 Q 125.1 143.4, 124.5 143.6 Q 123.8 143.8, 123.0 143.8 Q 121.2 143.8, 120.2 142.6 Q 119.2 141.5, 119.2 139.4 \" fill=\"#000000\"/>\n",
       "<path class=\"legend\" d=\"M 136.1 143.7 L 135.0 143.7 L 134.1 136.7 L 131.8 143.7 L 130.6 143.7 L 128.3 136.7 L 127.4 143.7 L 126.3 143.7 L 127.4 135.1 L 128.8 135.1 L 131.2 142.0 L 133.5 135.1 L 135.0 135.1 L 136.1 143.7 \" fill=\"#000000\"/>\n",
       "<path class=\"legend\" d=\"M 136.8 135.1 L 138.0 135.1 L 138.0 138.7 L 142.4 138.7 L 142.4 135.1 L 143.5 135.1 L 143.5 143.7 L 142.4 143.7 L 142.4 139.7 L 138.0 139.7 L 138.0 143.7 L 136.8 143.7 L 136.8 135.1 \" fill=\"#000000\"/>\n",
       "<path class=\"legend\" d=\"M 150.5 145.2 Q 150.9 145.2, 151.4 145.0 L 151.7 146.0 Q 151.0 146.3, 150.4 146.3 Q 149.3 146.3, 148.6 145.6 Q 147.9 145.0, 147.8 143.7 Q 146.2 143.5, 145.4 142.4 Q 144.6 141.2, 144.6 139.4 Q 144.6 137.3, 145.6 136.1 Q 146.6 135.0, 148.5 135.0 Q 150.4 135.0, 151.4 136.1 Q 152.4 137.3, 152.4 139.4 Q 152.4 141.4, 151.5 142.5 Q 150.5 143.7, 148.8 143.8 Q 148.9 144.4, 149.4 144.8 Q 149.8 145.2, 150.5 145.2 M 145.8 139.4 Q 145.8 141.1, 146.5 142.0 Q 147.2 142.8, 148.5 142.8 Q 149.8 142.8, 150.5 142.0 Q 151.2 141.1, 151.2 139.4 Q 151.2 137.7, 150.5 136.8 Q 149.8 136.0, 148.5 136.0 Q 147.2 136.0, 146.5 136.8 Q 145.8 137.7, 145.8 139.4 \" fill=\"#000000\"/>\n",
       "<path class=\"legend\" d=\"M 160.8 143.7 L 159.4 143.7 L 156.9 140.1 L 154.4 143.7 L 153.0 143.7 L 156.2 139.2 L 153.3 135.1 L 154.6 135.1 L 156.9 138.3 L 159.3 135.1 L 160.6 135.1 L 157.6 139.3 L 160.8 143.7 \" fill=\"#000000\"/>\n",
       "<path class=\"legend\" d=\"M 163.3 135.1 Q 164.8 135.1, 165.5 135.8 Q 166.3 136.4, 166.3 137.6 Q 166.3 138.8, 165.5 139.5 Q 164.8 140.1, 163.3 140.1 L 162.0 140.1 L 162.0 143.7 L 160.8 143.7 L 160.8 135.1 L 163.3 135.1 M 163.3 139.2 Q 164.2 139.2, 164.6 138.8 Q 165.1 138.4, 165.1 137.6 Q 165.1 136.9, 164.6 136.5 Q 164.2 136.1, 163.3 136.1 L 162.0 136.1 L 162.0 139.2 L 163.3 139.2 \" fill=\"#000000\"/>\n",
       "<path class=\"legend\" d=\"M 171.0 139.2 Q 171.8 139.4, 172.2 139.9 Q 172.7 140.4, 172.7 141.1 Q 172.7 142.3, 171.9 143.0 Q 171.2 143.7, 169.7 143.7 L 166.8 143.7 L 166.8 135.1 L 169.4 135.1 Q 170.8 135.1, 171.6 135.7 Q 172.3 136.3, 172.3 137.4 Q 172.3 138.7, 171.0 139.2 M 168.0 136.1 L 168.0 138.8 L 169.4 138.8 Q 170.2 138.8, 170.7 138.4 Q 171.1 138.1, 171.1 137.4 Q 171.1 136.1, 169.4 136.1 L 168.0 136.1 M 169.7 142.7 Q 170.6 142.7, 171.0 142.3 Q 171.5 141.9, 171.5 141.1 Q 171.5 140.4, 171.0 140.1 Q 170.5 139.7, 169.5 139.7 L 168.0 139.7 L 168.0 142.7 L 169.7 142.7 \" fill=\"#000000\"/>\n",
       "<path class=\"legend\" d=\"M 173.2 135.1 L 178.3 135.1 L 178.3 136.1 L 174.4 136.1 L 174.4 138.7 L 177.9 138.7 L 177.9 139.7 L 174.4 139.7 L 174.4 143.7 L 173.2 143.7 L 173.2 135.1 \" fill=\"#000000\"/>\n",
       "<path class=\"legend\" d=\"M 179.7 135.1 L 179.7 140.9 Q 179.7 141.8, 180.3 142.3 Q 180.8 142.8, 181.9 142.8 Q 183.0 142.8, 183.6 142.3 Q 184.1 141.9, 184.1 140.9 L 184.1 135.1 L 185.3 135.1 L 185.3 140.9 Q 185.3 142.3, 184.4 143.0 Q 183.6 143.8, 181.9 143.8 Q 180.2 143.8, 179.4 143.0 Q 178.6 142.3, 178.6 140.9 L 178.6 135.1 L 179.7 135.1 \" fill=\"#000000\"/>\n",
       "<path class=\"legend\" d=\"\" fill=\"#000000\"/>\n",
       "<path class=\"legend\" d=\"M 190.2 142.2 L 191.5 142.2 L 191.5 143.5 L 190.2 143.5 L 190.2 142.2 M 190.2 138.1 L 191.5 138.1 L 191.5 139.3 L 190.2 139.3 L 190.2 138.1 \" fill=\"#000000\"/>\n",
       "<path class=\"legend\" d=\"\" fill=\"#000000\"/>\n",
       "<path class=\"legend\" d=\"M 196.4 139.4 Q 196.4 137.2, 197.4 136.1 Q 198.4 135.0, 200.3 135.0 Q 202.1 135.0, 203.0 136.2 L 202.2 136.9 Q 201.5 136.0, 200.3 136.0 Q 199.0 136.0, 198.3 136.9 Q 197.6 137.7, 197.6 139.4 Q 197.6 141.1, 198.3 141.9 Q 199.0 142.8, 200.4 142.8 Q 201.4 142.8, 202.5 142.2 L 202.8 143.1 Q 202.4 143.4, 201.7 143.6 Q 201.0 143.8, 200.3 143.8 Q 198.4 143.8, 197.4 142.6 Q 196.4 141.5, 196.4 139.4 \" fill=\"#000000\"/>\n",
       "<path class=\"legend\" d=\"M 203.5 139.4 Q 203.5 137.2, 204.5 136.1 Q 205.5 135.0, 207.4 135.0 Q 209.1 135.0, 210.1 136.2 L 209.3 136.9 Q 208.6 136.0, 207.4 136.0 Q 206.1 136.0, 205.4 136.9 Q 204.7 137.7, 204.7 139.4 Q 204.7 141.1, 205.4 141.9 Q 206.1 142.8, 207.5 142.8 Q 208.5 142.8, 209.6 142.2 L 209.9 143.1 Q 209.4 143.4, 208.8 143.6 Q 208.1 143.8, 207.3 143.8 Q 205.5 143.8, 204.5 142.6 Q 203.5 141.5, 203.5 139.4 \" fill=\"#000000\"/>\n",
       "<path class=\"legend\" d=\"M 220.4 143.7 L 219.3 143.7 L 218.4 136.7 L 216.1 143.7 L 214.9 143.7 L 212.6 136.7 L 211.7 143.7 L 210.6 143.7 L 211.7 135.1 L 213.1 135.1 L 215.5 142.0 L 217.8 135.1 L 219.3 135.1 L 220.4 143.7 \" fill=\"#000000\"/>\n",
       "<path class=\"legend\" d=\"M 221.5 142.3 Q 221.6 142.4, 222.0 142.5 Q 222.4 142.7, 222.8 142.8 Q 223.2 142.9, 223.7 142.9 Q 224.5 142.9, 225.0 142.5 Q 225.4 142.1, 225.4 141.4 Q 225.4 141.0, 225.2 140.7 Q 225.0 140.4, 224.6 140.2 Q 224.2 140.1, 223.6 139.9 Q 222.9 139.7, 222.4 139.4 Q 222.0 139.2, 221.6 138.8 Q 221.3 138.3, 221.3 137.5 Q 221.3 136.5, 222.1 135.8 Q 222.8 135.1, 224.2 135.1 Q 225.2 135.1, 226.4 135.6 L 226.1 136.5 Q 225.1 136.1, 224.3 136.1 Q 223.4 136.1, 223.0 136.5 Q 222.5 136.8, 222.5 137.4 Q 222.5 137.8, 222.8 138.1 Q 223.0 138.4, 223.3 138.6 Q 223.7 138.7, 224.3 138.9 Q 225.1 139.1, 225.5 139.4 Q 226.0 139.6, 226.3 140.1 Q 226.6 140.6, 226.6 141.4 Q 226.6 142.6, 225.8 143.3 Q 225.1 143.9, 223.7 143.9 Q 223.0 143.9, 222.4 143.7 Q 221.8 143.6, 221.1 143.3 L 221.5 142.3 \" fill=\"#000000\"/>\n",
       "<path class=\"legend\" d=\"M 227.2 135.1 L 228.4 135.1 L 228.4 142.7 L 232.3 142.7 L 232.3 143.7 L 227.2 143.7 L 227.2 135.1 \" fill=\"#000000\"/>\n",
       "<path class=\"legend\" d=\"M 232.6 135.1 L 233.8 135.1 L 233.8 143.7 L 232.6 143.7 L 232.6 135.1 \" fill=\"#000000\"/>\n",
       "<path class=\"legend\" d=\"M 239.0 139.2 Q 239.8 139.4, 240.2 139.9 Q 240.6 140.4, 240.6 141.1 Q 240.6 142.3, 239.9 143.0 Q 239.1 143.7, 237.7 143.7 L 234.8 143.7 L 234.8 135.1 L 237.4 135.1 Q 238.8 135.1, 239.6 135.7 Q 240.3 136.3, 240.3 137.4 Q 240.3 138.7, 239.0 139.2 M 236.0 136.1 L 236.0 138.8 L 237.4 138.8 Q 238.2 138.8, 238.6 138.4 Q 239.1 138.1, 239.1 137.4 Q 239.1 136.1, 237.4 136.1 L 236.0 136.1 M 237.7 142.7 Q 238.5 142.7, 239.0 142.3 Q 239.4 141.9, 239.4 141.1 Q 239.4 140.4, 238.9 140.1 Q 238.5 139.7, 237.5 139.7 L 236.0 139.7 L 236.0 142.7 L 237.7 142.7 \" fill=\"#000000\"/>\n",
       "<path class=\"legend\" d=\"M 244.3 143.8 Q 242.8 143.8, 242.0 142.6 Q 241.2 141.4, 241.2 139.4 Q 241.2 137.3, 242.0 136.1 Q 242.7 135.0, 244.3 135.0 Q 245.9 135.0, 246.7 136.1 Q 247.5 137.3, 247.5 139.4 Q 247.5 141.4, 246.7 142.6 Q 245.9 143.8, 244.3 143.8 M 244.3 142.8 Q 245.3 142.8, 245.8 141.9 Q 246.3 141.1, 246.3 139.4 Q 246.3 137.7, 245.8 136.8 Q 245.3 136.0, 244.3 136.0 Q 243.4 136.0, 242.9 136.8 Q 242.4 137.7, 242.4 139.4 Q 242.4 141.1, 242.9 141.9 Q 243.4 142.8, 244.3 142.8 \" fill=\"#000000\"/>\n",
       "<path class=\"legend\" d=\"M 251.4 143.8 Q 249.8 143.8, 249.0 142.6 Q 248.3 141.4, 248.3 139.4 Q 248.3 137.3, 249.0 136.1 Q 249.8 135.0, 251.4 135.0 Q 253.0 135.0, 253.7 136.1 Q 254.5 137.3, 254.5 139.4 Q 254.5 141.4, 253.7 142.6 Q 253.0 143.8, 251.4 143.8 M 251.4 142.8 Q 252.3 142.8, 252.8 141.9 Q 253.3 141.1, 253.3 139.4 Q 253.3 137.7, 252.8 136.8 Q 252.3 136.0, 251.4 136.0 Q 250.5 136.0, 250.0 136.8 Q 249.5 137.7, 249.5 139.4 Q 249.5 141.1, 250.0 141.9 Q 250.5 142.8, 251.4 142.8 \" fill=\"#000000\"/>\n",
       "<path class=\"legend\" d=\"M 258.4 143.8 Q 256.9 143.8, 256.1 142.6 Q 255.3 141.4, 255.3 139.4 Q 255.3 137.3, 256.1 136.1 Q 256.9 135.0, 258.4 135.0 Q 260.0 135.0, 260.8 136.1 Q 261.6 137.3, 261.6 139.4 Q 261.6 141.4, 260.8 142.6 Q 260.0 143.8, 258.4 143.8 M 258.4 142.8 Q 259.4 142.8, 259.9 141.9 Q 260.4 141.1, 260.4 139.4 Q 260.4 137.7, 259.9 136.8 Q 259.4 136.0, 258.4 136.0 Q 257.5 136.0, 257.0 136.8 Q 256.5 137.7, 256.5 139.4 Q 256.5 141.1, 257.0 141.9 Q 257.5 142.8, 258.4 142.8 \" fill=\"#000000\"/>\n",
       "<path class=\"legend\" d=\"M 265.5 143.8 Q 263.9 143.8, 263.1 142.6 Q 262.4 141.4, 262.4 139.4 Q 262.4 137.3, 263.1 136.1 Q 263.9 135.0, 265.5 135.0 Q 267.1 135.0, 267.8 136.1 Q 268.6 137.3, 268.6 139.4 Q 268.6 141.4, 267.8 142.6 Q 267.1 143.8, 265.5 143.8 M 265.5 142.8 Q 266.4 142.8, 266.9 141.9 Q 267.4 141.1, 267.4 139.4 Q 267.4 137.7, 266.9 136.8 Q 266.4 136.0, 265.5 136.0 Q 264.6 136.0, 264.1 136.8 Q 263.6 137.7, 263.6 139.4 Q 263.6 141.1, 264.1 141.9 Q 264.6 142.8, 265.5 142.8 \" fill=\"#000000\"/>\n",
       "<path class=\"legend\" d=\"M 272.8 138.3 Q 273.5 138.3, 274.1 138.6 Q 274.7 139.0, 275.0 139.6 Q 275.3 140.2, 275.3 140.9 Q 275.3 141.7, 275.0 142.4 Q 274.6 143.0, 274.0 143.4 Q 273.3 143.8, 272.5 143.8 Q 270.9 143.8, 270.2 142.7 Q 269.4 141.7, 269.4 139.6 Q 269.4 137.4, 270.4 136.2 Q 271.3 135.0, 273.1 135.0 Q 273.7 135.0, 274.1 135.1 Q 274.6 135.2, 275.0 135.5 L 274.5 136.3 Q 273.9 136.0, 273.1 136.0 Q 271.9 136.0, 271.3 136.8 Q 270.7 137.5, 270.6 139.1 Q 271.1 138.7, 271.6 138.5 Q 272.2 138.3, 272.8 138.3 M 272.5 142.8 Q 272.9 142.8, 273.3 142.5 Q 273.7 142.3, 273.9 141.9 Q 274.1 141.4, 274.1 140.9 Q 274.1 140.2, 273.7 139.7 Q 273.3 139.3, 272.5 139.3 Q 272.0 139.3, 271.5 139.5 Q 271.0 139.7, 270.6 140.1 Q 270.7 141.5, 271.1 142.1 Q 271.6 142.8, 272.5 142.8 \" fill=\"#000000\"/>\n",
       "<path class=\"legend\" d=\"M 279.1 138.3 Q 279.9 138.3, 280.5 138.6 Q 281.1 138.9, 281.5 139.5 Q 281.8 140.1, 281.8 141.0 Q 281.8 141.8, 281.4 142.5 Q 280.9 143.1, 280.2 143.4 Q 279.5 143.8, 278.7 143.8 Q 278.0 143.8, 277.2 143.5 Q 276.5 143.2, 276.0 142.6 L 276.7 141.9 Q 277.1 142.3, 277.7 142.5 Q 278.2 142.8, 278.8 142.8 Q 279.5 142.8, 280.1 142.3 Q 280.6 141.8, 280.6 141.0 Q 280.6 140.1, 280.1 139.6 Q 279.5 139.2, 278.7 139.2 Q 278.0 139.2, 277.1 139.5 L 276.5 139.2 L 276.9 135.1 L 281.3 135.1 L 281.2 136.1 L 277.9 136.1 L 277.6 138.6 Q 278.4 138.3, 279.1 138.3 \" fill=\"#000000\"/>\n",
       "<path class=\"legend\" d=\"M 286.8 139.1 Q 287.5 139.5, 288.0 140.0 Q 288.4 140.5, 288.4 141.3 Q 288.4 142.0, 288.1 142.6 Q 287.7 143.2, 287.0 143.5 Q 286.3 143.8, 285.5 143.8 Q 284.0 143.8, 283.2 143.1 Q 282.4 142.5, 282.4 141.3 Q 282.4 140.6, 282.8 140.1 Q 283.1 139.6, 283.9 139.2 Q 283.3 138.8, 283.0 138.4 Q 282.7 137.9, 282.7 137.2 Q 282.7 136.2, 283.4 135.6 Q 284.2 135.0, 285.4 135.0 Q 286.7 135.0, 287.4 135.6 Q 288.1 136.2, 288.1 137.2 Q 288.1 137.8, 287.8 138.3 Q 287.4 138.8, 286.8 139.1 M 285.4 135.9 Q 284.7 135.9, 284.3 136.2 Q 283.9 136.6, 283.9 137.2 Q 283.9 137.6, 284.2 137.9 Q 284.4 138.2, 284.8 138.4 Q 285.2 138.6, 285.9 138.8 Q 286.5 138.5, 286.7 138.1 Q 286.9 137.7, 286.9 137.2 Q 286.9 136.6, 286.5 136.2 Q 286.1 135.9, 285.4 135.9 M 285.5 142.9 Q 286.3 142.9, 286.7 142.5 Q 287.2 142.0, 287.2 141.3 Q 287.2 140.8, 287.0 140.6 Q 286.7 140.3, 286.3 140.1 Q 286.0 139.9, 285.3 139.7 L 284.7 139.5 Q 284.1 139.9, 283.9 140.3 Q 283.6 140.7, 283.6 141.3 Q 283.6 142.0, 284.1 142.5 Q 284.6 142.9, 285.5 142.9 \" fill=\"#000000\"/>\n",
       "<path class=\"legend\" d=\"M 289.7 142.7 L 291.5 142.7 L 291.5 136.3 L 289.5 136.9 L 289.2 136.2 L 291.8 135.0 L 292.7 135.2 L 292.7 142.7 L 294.4 142.7 L 294.4 143.7 L 289.7 143.7 L 289.7 142.7 \" fill=\"#000000\"/>\n",
       "<path class=\"legend\" d=\"M 297.8 135.0 Q 299.3 135.0, 300.0 136.0 Q 300.8 137.1, 300.8 139.1 Q 300.8 141.4, 299.9 142.6 Q 298.9 143.8, 297.1 143.8 Q 296.6 143.8, 296.1 143.6 Q 295.6 143.5, 295.2 143.3 L 295.7 142.5 Q 296.3 142.8, 297.1 142.8 Q 298.3 142.8, 298.9 142.0 Q 299.5 141.2, 299.6 139.6 Q 299.2 140.0, 298.6 140.2 Q 298.1 140.4, 297.5 140.4 Q 296.7 140.4, 296.1 140.1 Q 295.5 139.8, 295.2 139.2 Q 294.9 138.6, 294.9 137.9 Q 294.9 137.0, 295.2 136.4 Q 295.6 135.7, 296.3 135.4 Q 296.9 135.0, 297.8 135.0 M 296.1 137.8 Q 296.1 138.6, 296.5 139.0 Q 296.9 139.5, 297.7 139.5 Q 298.2 139.5, 298.7 139.3 Q 299.2 139.1, 299.6 138.7 Q 299.5 137.3, 299.1 136.6 Q 298.6 136.0, 297.7 136.0 Q 297.3 136.0, 296.9 136.2 Q 296.5 136.5, 296.3 136.9 Q 296.1 137.3, 296.1 137.8 \" fill=\"#000000\"/>\n",
       "<path class=\"legend\" d=\"M 301.7 136.7 Q 302.0 135.9, 302.7 135.5 Q 303.5 135.0, 304.5 135.0 Q 305.8 135.0, 306.5 135.7 Q 307.3 136.4, 307.3 137.6 Q 307.3 138.9, 306.3 140.1 Q 305.4 141.3, 303.4 142.7 L 307.4 142.7 L 307.4 143.7 L 301.6 143.7 L 301.6 142.9 Q 303.2 141.7, 304.2 140.9 Q 305.1 140.0, 305.6 139.3 Q 306.1 138.5, 306.1 137.7 Q 306.1 136.9, 305.6 136.4 Q 305.2 136.0, 304.5 136.0 Q 303.8 136.0, 303.4 136.2 Q 302.9 136.5, 302.6 137.1 L 301.7 136.7 \" fill=\"#000000\"/>\n",
       "<path class=\"legend\" d=\"M 312.2 139.1 Q 313.1 139.4, 313.5 139.9 Q 313.9 140.5, 313.9 141.3 Q 313.9 142.0, 313.5 142.6 Q 313.2 143.2, 312.5 143.5 Q 311.8 143.8, 311.0 143.8 Q 310.0 143.8, 309.4 143.5 Q 308.7 143.1, 308.1 142.5 L 308.8 141.8 Q 309.4 142.4, 309.8 142.6 Q 310.2 142.8, 311.0 142.8 Q 311.7 142.8, 312.2 142.4 Q 312.7 142.0, 312.7 141.3 Q 312.7 140.4, 312.2 140.0 Q 311.7 139.6, 310.6 139.6 L 310.0 139.6 L 310.0 138.8 L 310.6 138.8 Q 311.5 138.8, 312.0 138.4 Q 312.5 138.0, 312.5 137.2 Q 312.5 136.6, 312.1 136.3 Q 311.7 136.0, 311.0 136.0 Q 310.3 136.0, 309.8 136.2 Q 309.4 136.5, 309.0 137.1 L 308.2 136.7 Q 308.5 136.0, 309.2 135.5 Q 310.0 135.0, 311.0 135.0 Q 312.2 135.0, 313.0 135.6 Q 313.7 136.2, 313.7 137.2 Q 313.7 137.9, 313.3 138.4 Q 313.0 138.9, 312.2 139.1 \" fill=\"#000000\"/>\n",
       "<path class=\"bond-0 atom-0 atom-1\" d=\"M 434.2,69.0 L 451.6,59.7\" style=\"fill:none;fill-rule:evenodd;stroke:#000000;stroke-width:2.0px;stroke-linecap:butt;stroke-linejoin:miter;stroke-opacity:1\"/>\n",
       "<path class=\"bond-1 atom-1 atom-2\" d=\"M 451.6,59.7 L 468.4,70.1\" style=\"fill:none;fill-rule:evenodd;stroke:#000000;stroke-width:2.0px;stroke-linecap:butt;stroke-linejoin:miter;stroke-opacity:1\"/>\n",
       "<path class=\"bond-2 atom-2 atom-3\" d=\"M 468.4,70.1 L 485.9,60.8\" style=\"fill:none;fill-rule:evenodd;stroke:#000000;stroke-width:2.0px;stroke-linecap:butt;stroke-linejoin:miter;stroke-opacity:1\"/>\n",
       "<path class=\"bond-3 atom-3 atom-4\" d=\"M 485.9,60.8 L 502.7,71.3\" style=\"fill:none;fill-rule:evenodd;stroke:#000000;stroke-width:2.0px;stroke-linecap:butt;stroke-linejoin:miter;stroke-opacity:1\"/>\n",
       "<path class=\"bond-4 atom-4 atom-5\" d=\"M 502.7,71.3 L 520.1,62.0\" style=\"fill:none;fill-rule:evenodd;stroke:#000000;stroke-width:2.0px;stroke-linecap:butt;stroke-linejoin:miter;stroke-opacity:1\"/>\n",
       "<path class=\"bond-5 atom-5 atom-6\" d=\"M 520.1,62.0 L 536.9,72.5\" style=\"fill:none;fill-rule:evenodd;stroke:#000000;stroke-width:2.0px;stroke-linecap:butt;stroke-linejoin:miter;stroke-opacity:1\"/>\n",
       "<path class=\"bond-6 atom-6 atom-7\" d=\"M 536.9,72.5 L 554.4,63.1\" style=\"fill:none;fill-rule:evenodd;stroke:#000000;stroke-width:2.0px;stroke-linecap:butt;stroke-linejoin:miter;stroke-opacity:1\"/>\n",
       "<path class=\"bond-7 atom-7 atom-8\" d=\"M 554.4,63.1 L 571.1,73.6\" style=\"fill:none;fill-rule:evenodd;stroke:#000000;stroke-width:2.0px;stroke-linecap:butt;stroke-linejoin:miter;stroke-opacity:1\"/>\n",
       "<path class=\"bond-8 atom-8 atom-9\" d=\"M 571.1,73.6 L 588.6,64.3\" style=\"fill:none;fill-rule:evenodd;stroke:#000000;stroke-width:2.0px;stroke-linecap:butt;stroke-linejoin:miter;stroke-opacity:1\"/>\n",
       "<path class=\"bond-9 atom-9 atom-10\" d=\"M 588.6,64.3 L 605.4,74.8\" style=\"fill:none;fill-rule:evenodd;stroke:#000000;stroke-width:2.0px;stroke-linecap:butt;stroke-linejoin:miter;stroke-opacity:1\"/>\n",
       "<path class=\"bond-10 atom-10 atom-11\" d=\"M 605.4,74.8 L 622.8,65.5\" style=\"fill:none;fill-rule:evenodd;stroke:#000000;stroke-width:2.0px;stroke-linecap:butt;stroke-linejoin:miter;stroke-opacity:1\"/>\n",
       "<path class=\"bond-11 atom-11 atom-12\" d=\"M 622.8,65.5 L 639.6,75.9\" style=\"fill:none;fill-rule:evenodd;stroke:#000000;stroke-width:2.0px;stroke-linecap:butt;stroke-linejoin:miter;stroke-opacity:1\"/>\n",
       "<path class=\"bond-12 atom-12 atom-13\" d=\"M 639.6,75.9 L 657.1,66.6\" style=\"fill:none;fill-rule:evenodd;stroke:#000000;stroke-width:2.0px;stroke-linecap:butt;stroke-linejoin:miter;stroke-opacity:1\"/>\n",
       "<path class=\"bond-13 atom-13 atom-14\" d=\"M 657.1,66.6 L 673.9,77.1\" style=\"fill:none;fill-rule:evenodd;stroke:#000000;stroke-width:2.0px;stroke-linecap:butt;stroke-linejoin:miter;stroke-opacity:1\"/>\n",
       "<path class=\"bond-14 atom-14 atom-15\" d=\"M 673.9,77.1 L 691.3,67.8\" style=\"fill:none;fill-rule:evenodd;stroke:#000000;stroke-width:2.0px;stroke-linecap:butt;stroke-linejoin:miter;stroke-opacity:1\"/>\n",
       "<path class=\"bond-15 atom-15 atom-16\" d=\"M 691.3,67.8 L 698.1,72.0\" style=\"fill:none;fill-rule:evenodd;stroke:#000000;stroke-width:2.0px;stroke-linecap:butt;stroke-linejoin:miter;stroke-opacity:1\"/>\n",
       "<path class=\"bond-15 atom-15 atom-16\" d=\"M 698.1,72.0 L 704.9,76.2\" style=\"fill:none;fill-rule:evenodd;stroke:#FF0000;stroke-width:2.0px;stroke-linecap:butt;stroke-linejoin:miter;stroke-opacity:1\"/>\n",
       "<path class=\"bond-16 atom-16 atom-17\" d=\"M 711.4,76.5 L 718.5,72.7\" style=\"fill:none;fill-rule:evenodd;stroke:#FF0000;stroke-width:2.0px;stroke-linecap:butt;stroke-linejoin:miter;stroke-opacity:1\"/>\n",
       "<path class=\"bond-16 atom-16 atom-17\" d=\"M 718.5,72.7 L 725.6,69.0\" style=\"fill:none;fill-rule:evenodd;stroke:#000000;stroke-width:2.0px;stroke-linecap:butt;stroke-linejoin:miter;stroke-opacity:1\"/>\n",
       "<path class=\"bond-17 atom-17 atom-18\" d=\"M 725.6,69.0 L 726.3,49.2\" style=\"fill:none;fill-rule:evenodd;stroke:#000000;stroke-width:2.0px;stroke-linecap:butt;stroke-linejoin:miter;stroke-opacity:1\"/>\n",
       "<path class=\"bond-18 atom-18 atom-19\" d=\"M 726.3,49.2 L 733.6,45.3\" style=\"fill:none;fill-rule:evenodd;stroke:#000000;stroke-width:2.0px;stroke-linecap:butt;stroke-linejoin:miter;stroke-opacity:1\"/>\n",
       "<path class=\"bond-18 atom-18 atom-19\" d=\"M 733.6,45.3 L 740.9,41.4\" style=\"fill:none;fill-rule:evenodd;stroke:#0000FF;stroke-width:2.0px;stroke-linecap:butt;stroke-linejoin:miter;stroke-opacity:1\"/>\n",
       "<path class=\"bond-19 atom-19 atom-20\" d=\"M 741.9,36.4 L 738.1,29.4\" style=\"fill:none;fill-rule:evenodd;stroke:#0000FF;stroke-width:2.0px;stroke-linecap:butt;stroke-linejoin:miter;stroke-opacity:1\"/>\n",
       "<path class=\"bond-19 atom-19 atom-20\" d=\"M 738.1,29.4 L 734.4,22.4\" style=\"fill:none;fill-rule:evenodd;stroke:#000000;stroke-width:2.0px;stroke-linecap:butt;stroke-linejoin:miter;stroke-opacity:1\"/>\n",
       "<path class=\"bond-20 atom-19 atom-21\" d=\"M 745.6,43.3 L 749.3,50.3\" style=\"fill:none;fill-rule:evenodd;stroke:#0000FF;stroke-width:2.0px;stroke-linecap:butt;stroke-linejoin:miter;stroke-opacity:1\"/>\n",
       "<path class=\"bond-20 atom-19 atom-21\" d=\"M 749.3,50.3 L 753.0,57.3\" style=\"fill:none;fill-rule:evenodd;stroke:#000000;stroke-width:2.0px;stroke-linecap:butt;stroke-linejoin:miter;stroke-opacity:1\"/>\n",
       "<path class=\"bond-21 atom-19 atom-22\" d=\"M 749.6,36.7 L 755.4,33.7\" style=\"fill:none;fill-rule:evenodd;stroke:#0000FF;stroke-width:2.0px;stroke-linecap:butt;stroke-linejoin:miter;stroke-opacity:1\"/>\n",
       "<path class=\"bond-21 atom-19 atom-22\" d=\"M 755.4,33.7 L 761.2,30.6\" style=\"fill:none;fill-rule:evenodd;stroke:#000000;stroke-width:2.0px;stroke-linecap:butt;stroke-linejoin:miter;stroke-opacity:1\"/>\n",
       "<path class=\"bond-22 atom-17 atom-23\" d=\"M 725.6,69.0 L 742.4,79.4\" style=\"fill:none;fill-rule:evenodd;stroke:#000000;stroke-width:2.0px;stroke-linecap:butt;stroke-linejoin:miter;stroke-opacity:1\"/>\n",
       "<path class=\"bond-23 atom-23 atom-24\" d=\"M 742.4,79.4 L 741.7,99.2\" style=\"fill:none;fill-rule:evenodd;stroke:#000000;stroke-width:2.0px;stroke-linecap:butt;stroke-linejoin:miter;stroke-opacity:1\"/>\n",
       "<path class=\"bond-24 atom-24 atom-25\" d=\"M 741.7,99.2 L 748.5,103.4\" style=\"fill:none;fill-rule:evenodd;stroke:#000000;stroke-width:2.0px;stroke-linecap:butt;stroke-linejoin:miter;stroke-opacity:1\"/>\n",
       "<path class=\"bond-24 atom-24 atom-25\" d=\"M 748.5,103.4 L 755.3,107.6\" style=\"fill:none;fill-rule:evenodd;stroke:#FF0000;stroke-width:2.0px;stroke-linecap:butt;stroke-linejoin:miter;stroke-opacity:1\"/>\n",
       "<path class=\"bond-25 atom-24 atom-26\" d=\"M 742.6,100.9 L 735.5,104.7\" style=\"fill:none;fill-rule:evenodd;stroke:#000000;stroke-width:2.0px;stroke-linecap:butt;stroke-linejoin:miter;stroke-opacity:1\"/>\n",
       "<path class=\"bond-25 atom-24 atom-26\" d=\"M 735.5,104.7 L 728.4,108.5\" style=\"fill:none;fill-rule:evenodd;stroke:#FF0000;stroke-width:2.0px;stroke-linecap:butt;stroke-linejoin:miter;stroke-opacity:1\"/>\n",
       "<path class=\"bond-25 atom-24 atom-26\" d=\"M 740.8,97.4 L 733.7,101.2\" style=\"fill:none;fill-rule:evenodd;stroke:#000000;stroke-width:2.0px;stroke-linecap:butt;stroke-linejoin:miter;stroke-opacity:1\"/>\n",
       "<path class=\"bond-25 atom-24 atom-26\" d=\"M 733.7,101.2 L 726.5,105.0\" style=\"fill:none;fill-rule:evenodd;stroke:#FF0000;stroke-width:2.0px;stroke-linecap:butt;stroke-linejoin:miter;stroke-opacity:1\"/>\n",
       "<path class=\"bond-26 atom-15 atom-27\" d=\"M 689.4,67.7 L 689.6,59.6\" style=\"fill:none;fill-rule:evenodd;stroke:#000000;stroke-width:2.0px;stroke-linecap:butt;stroke-linejoin:miter;stroke-opacity:1\"/>\n",
       "<path class=\"bond-26 atom-15 atom-27\" d=\"M 689.6,59.6 L 689.9,51.5\" style=\"fill:none;fill-rule:evenodd;stroke:#FF0000;stroke-width:2.0px;stroke-linecap:butt;stroke-linejoin:miter;stroke-opacity:1\"/>\n",
       "<path class=\"bond-26 atom-15 atom-27\" d=\"M 693.3,67.9 L 693.6,59.8\" style=\"fill:none;fill-rule:evenodd;stroke:#000000;stroke-width:2.0px;stroke-linecap:butt;stroke-linejoin:miter;stroke-opacity:1\"/>\n",
       "<path class=\"bond-26 atom-15 atom-27\" d=\"M 693.6,59.8 L 693.9,51.7\" style=\"fill:none;fill-rule:evenodd;stroke:#FF0000;stroke-width:2.0px;stroke-linecap:butt;stroke-linejoin:miter;stroke-opacity:1\"/>\n",
       "<path class=\"atom-16\" d=\"M 705.6 78.3 Q 705.6 76.9, 706.2 76.2 Q 706.9 75.4, 708.1 75.4 Q 709.4 75.4, 710.0 76.2 Q 710.7 76.9, 710.7 78.3 Q 710.7 79.6, 710.0 80.4 Q 709.4 81.2, 708.1 81.2 Q 706.9 81.2, 706.2 80.4 Q 705.6 79.6, 705.6 78.3 M 708.1 80.5 Q 709.0 80.5, 709.4 80.0 Q 709.9 79.4, 709.9 78.3 Q 709.9 77.2, 709.4 76.6 Q 709.0 76.1, 708.1 76.1 Q 707.3 76.1, 706.8 76.6 Q 706.3 77.2, 706.3 78.3 Q 706.3 79.4, 706.8 80.0 Q 707.3 80.5, 708.1 80.5 \" fill=\"#FF0000\"/>\n",
       "<path class=\"atom-19\" d=\"M 742.5 37.1 L 744.3 40.0 Q 744.5 40.3, 744.8 40.9 Q 745.1 41.4, 745.1 41.4 L 745.1 37.1 L 745.8 37.1 L 745.8 42.7 L 745.1 42.7 L 743.1 39.4 Q 742.9 39.1, 742.6 38.6 Q 742.4 38.2, 742.3 38.1 L 742.3 42.7 L 741.6 42.7 L 741.6 37.1 L 742.5 37.1 \" fill=\"#0000FF\"/>\n",
       "<path class=\"atom-19\" d=\"M 746.5 38.1 L 747.5 38.1 L 747.5 37.0 L 747.9 37.0 L 747.9 38.1 L 748.9 38.1 L 748.9 38.5 L 747.9 38.5 L 747.9 39.5 L 747.5 39.5 L 747.5 38.5 L 746.5 38.5 L 746.5 38.1 \" fill=\"#0000FF\"/>\n",
       "<path class=\"atom-25\" d=\"M 755.9 109.7 Q 755.9 108.3, 756.6 107.6 Q 757.2 106.8, 758.5 106.8 Q 759.7 106.8, 760.4 107.6 Q 761.1 108.3, 761.1 109.7 Q 761.1 111.0, 760.4 111.8 Q 759.7 112.6, 758.5 112.6 Q 757.3 112.6, 756.6 111.8 Q 755.9 111.0, 755.9 109.7 M 758.5 111.9 Q 759.3 111.9, 759.8 111.4 Q 760.3 110.8, 760.3 109.7 Q 760.3 108.6, 759.8 108.0 Q 759.3 107.5, 758.5 107.5 Q 757.6 107.5, 757.2 108.0 Q 756.7 108.6, 756.7 109.7 Q 756.7 110.8, 757.2 111.4 Q 757.6 111.9, 758.5 111.9 \" fill=\"#FF0000\"/>\n",
       "<path class=\"atom-25\" d=\"M 761.5 106.9 L 762.2 106.9 L 762.2 109.3 L 765.1 109.3 L 765.1 106.9 L 765.8 106.9 L 765.8 112.5 L 765.1 112.5 L 765.1 109.9 L 762.2 109.9 L 762.2 112.5 L 761.5 112.5 L 761.5 106.9 \" fill=\"#FF0000\"/>\n",
       "<path class=\"atom-26\" d=\"M 721.7 108.5 Q 721.7 107.2, 722.3 106.4 Q 723.0 105.7, 724.2 105.7 Q 725.5 105.7, 726.2 106.4 Q 726.8 107.2, 726.8 108.5 Q 726.8 109.9, 726.1 110.7 Q 725.5 111.4, 724.2 111.4 Q 723.0 111.4, 722.3 110.7 Q 721.7 109.9, 721.7 108.5 M 724.2 110.8 Q 725.1 110.8, 725.6 110.2 Q 726.0 109.6, 726.0 108.5 Q 726.0 107.4, 725.6 106.9 Q 725.1 106.3, 724.2 106.3 Q 723.4 106.3, 722.9 106.9 Q 722.5 107.4, 722.5 108.5 Q 722.5 109.6, 722.9 110.2 Q 723.4 110.8, 724.2 110.8 \" fill=\"#FF0000\"/>\n",
       "<path class=\"atom-27\" d=\"M 689.4 48.0 Q 689.4 46.7, 690.1 45.9 Q 690.8 45.2, 692.0 45.2 Q 693.3 45.2, 693.9 45.9 Q 694.6 46.7, 694.6 48.0 Q 694.6 49.4, 693.9 50.2 Q 693.2 50.9, 692.0 50.9 Q 690.8 50.9, 690.1 50.2 Q 689.4 49.4, 689.4 48.0 M 692.0 50.3 Q 692.9 50.3, 693.3 49.7 Q 693.8 49.2, 693.8 48.0 Q 693.8 46.9, 693.3 46.4 Q 692.9 45.8, 692.0 45.8 Q 691.2 45.8, 690.7 46.4 Q 690.2 46.9, 690.2 48.0 Q 690.2 49.2, 690.7 49.7 Q 691.2 50.3, 692.0 50.3 \" fill=\"#FF0000\"/>\n",
       "<path class=\"legend\" d=\"M 486.0 143.7 L 484.6 143.7 L 482.1 140.1 L 479.6 143.7 L 478.3 143.7 L 481.4 139.2 L 478.5 135.1 L 479.8 135.1 L 482.2 138.3 L 484.5 135.1 L 485.8 135.1 L 482.8 139.3 L 486.0 143.7 \" fill=\"#000000\"/>\n",
       "<path class=\"legend\" d=\"M 486.0 139.4 Q 486.0 137.3, 487.0 136.1 Q 488.1 135.0, 490.0 135.0 Q 491.9 135.0, 492.9 136.1 Q 493.9 137.3, 493.9 139.4 Q 493.9 141.4, 492.9 142.6 Q 491.8 143.8, 490.0 143.8 Q 488.1 143.8, 487.0 142.6 Q 486.0 141.4, 486.0 139.4 M 490.0 142.8 Q 491.3 142.8, 492.0 142.0 Q 492.7 141.1, 492.7 139.4 Q 492.7 137.7, 492.0 136.8 Q 491.3 136.0, 490.0 136.0 Q 488.7 136.0, 487.9 136.8 Q 487.2 137.7, 487.2 139.4 Q 487.2 141.1, 487.9 142.0 Q 488.7 142.8, 490.0 142.8 \" fill=\"#000000\"/>\n",
       "<path class=\"legend\" d=\"M 504.3 143.7 L 503.2 143.7 L 502.3 136.7 L 500.0 143.7 L 498.8 143.7 L 496.5 136.7 L 495.6 143.7 L 494.5 143.7 L 495.6 135.1 L 497.0 135.1 L 499.4 142.0 L 501.8 135.1 L 503.2 135.1 L 504.3 143.7 \" fill=\"#000000\"/>\n",
       "<path class=\"legend\" d=\"M 509.7 143.7 L 507.6 140.1 L 507.6 140.1 L 506.2 140.1 L 506.2 143.7 L 505.1 143.7 L 505.1 135.1 L 507.6 135.1 Q 509.1 135.1, 509.8 135.8 Q 510.5 136.4, 510.5 137.6 Q 510.5 138.5, 510.1 139.1 Q 509.7 139.7, 508.8 140.0 L 511.0 143.7 L 509.7 143.7 M 506.2 139.2 L 507.6 139.2 Q 508.4 139.2, 508.9 138.8 Q 509.3 138.4, 509.3 137.6 Q 509.3 136.9, 508.9 136.5 Q 508.4 136.1, 507.6 136.1 L 506.2 136.1 L 506.2 139.2 \" fill=\"#000000\"/>\n",
       "<path class=\"legend\" d=\"M 515.9 143.7 L 513.8 140.1 L 513.8 140.1 L 512.4 140.1 L 512.4 143.7 L 511.2 143.7 L 511.2 135.1 L 513.8 135.1 Q 515.2 135.1, 516.0 135.8 Q 516.7 136.4, 516.7 137.6 Q 516.7 138.5, 516.3 139.1 Q 515.8 139.7, 515.0 140.0 L 517.1 143.7 L 515.9 143.7 M 512.4 139.2 L 513.8 139.2 Q 514.6 139.2, 515.1 138.8 Q 515.5 138.4, 515.5 137.6 Q 515.5 136.9, 515.1 136.5 Q 514.6 136.1, 513.8 136.1 L 512.4 136.1 L 512.4 139.2 \" fill=\"#000000\"/>\n",
       "<path class=\"legend\" d=\"M 523.3 145.2 Q 523.8 145.2, 524.2 145.0 L 524.6 146.0 Q 523.9 146.3, 523.3 146.3 Q 522.2 146.3, 521.5 145.6 Q 520.8 145.0, 520.7 143.7 Q 519.1 143.5, 518.3 142.4 Q 517.4 141.2, 517.4 139.4 Q 517.4 137.3, 518.4 136.1 Q 519.5 135.0, 521.4 135.0 Q 523.3 135.0, 524.3 136.1 Q 525.3 137.3, 525.3 139.4 Q 525.3 141.4, 524.3 142.5 Q 523.4 143.7, 521.7 143.8 Q 521.8 144.4, 522.2 144.8 Q 522.7 145.2, 523.3 145.2 M 518.6 139.4 Q 518.6 141.1, 519.3 142.0 Q 520.1 142.8, 521.4 142.8 Q 522.7 142.8, 523.4 142.0 Q 524.1 141.1, 524.1 139.4 Q 524.1 137.7, 523.4 136.8 Q 522.7 136.0, 521.4 136.0 Q 520.1 136.0, 519.3 136.8 Q 518.6 137.7, 518.6 139.4 \" fill=\"#000000\"/>\n",
       "<path class=\"legend\" d=\"M 533.6 143.7 L 532.3 143.7 L 529.7 140.1 L 527.2 143.7 L 525.9 143.7 L 529.1 139.2 L 526.1 135.1 L 527.5 135.1 L 529.8 138.3 L 532.1 135.1 L 533.4 135.1 L 530.5 139.3 L 533.6 143.7 \" fill=\"#000000\"/>\n",
       "<path class=\"legend\" d=\"M 533.7 135.1 L 534.8 135.1 L 534.8 143.7 L 533.7 143.7 L 533.7 135.1 M 538.4 135.1 L 540.0 135.1 L 536.6 139.0 L 540.3 143.7 L 538.7 143.7 L 535.1 139.0 L 538.4 135.1 \" fill=\"#000000\"/>\n",
       "<path class=\"legend\" d=\"M 540.3 135.1 L 541.5 135.1 L 541.5 138.7 L 545.9 138.7 L 545.9 135.1 L 547.0 135.1 L 547.0 143.7 L 545.9 143.7 L 545.9 139.7 L 541.5 139.7 L 541.5 143.7 L 540.3 143.7 L 540.3 135.1 \" fill=\"#000000\"/>\n",
       "<path class=\"legend\" d=\"M 557.9 143.7 L 556.8 143.7 L 555.9 136.7 L 553.6 143.7 L 552.4 143.7 L 550.1 136.7 L 549.2 143.7 L 548.1 143.7 L 549.2 135.1 L 550.6 135.1 L 553.0 142.0 L 555.3 135.1 L 556.8 135.1 L 557.9 143.7 \" fill=\"#000000\"/>\n",
       "<path class=\"legend\" d=\"M 561.5 140.1 L 558.6 135.1 L 559.9 135.1 L 562.1 138.9 L 564.2 135.1 L 565.5 135.1 L 562.6 140.1 L 562.6 143.7 L 561.5 143.7 L 561.5 140.1 \" fill=\"#000000\"/>\n",
       "<path class=\"legend\" d=\"M 575.3 143.7 L 574.2 143.7 L 573.3 136.7 L 571.0 143.7 L 569.8 143.7 L 567.5 136.7 L 566.6 143.7 L 565.5 143.7 L 566.6 135.1 L 568.0 135.1 L 570.4 142.0 L 572.7 135.1 L 574.2 135.1 L 575.3 143.7 \" fill=\"#000000\"/>\n",
       "<path class=\"legend\" d=\"M 576.1 139.4 Q 576.1 137.3, 577.1 136.1 Q 578.1 135.0, 580.0 135.0 Q 581.9 135.0, 582.9 136.1 Q 583.9 137.3, 583.9 139.4 Q 583.9 141.4, 582.9 142.6 Q 581.9 143.8, 580.0 143.8 Q 578.1 143.8, 577.1 142.6 Q 576.1 141.4, 576.1 139.4 M 580.0 142.8 Q 581.3 142.8, 582.0 142.0 Q 582.7 141.1, 582.7 139.4 Q 582.7 137.7, 582.0 136.8 Q 581.3 136.0, 580.0 136.0 Q 578.7 136.0, 578.0 136.8 Q 577.3 137.7, 577.3 139.4 Q 577.3 141.1, 578.0 142.0 Q 578.7 142.8, 580.0 142.8 \" fill=\"#000000\"/>\n",
       "<path class=\"legend\" d=\"M 584.5 139.4 Q 584.5 137.2, 585.5 136.1 Q 586.5 135.0, 588.4 135.0 Q 590.2 135.0, 591.1 136.2 L 590.3 136.9 Q 589.6 136.0, 588.4 136.0 Q 587.1 136.0, 586.4 136.9 Q 585.8 137.7, 585.8 139.4 Q 585.8 141.1, 586.5 141.9 Q 587.2 142.8, 588.6 142.8 Q 589.5 142.8, 590.6 142.2 L 590.9 143.1 Q 590.5 143.4, 589.8 143.6 Q 589.1 143.8, 588.4 143.8 Q 586.5 143.8, 585.5 142.6 Q 584.5 141.5, 584.5 139.4 \" fill=\"#000000\"/>\n",
       "<path class=\"legend\" d=\"\" fill=\"#000000\"/>\n",
       "<path class=\"legend\" d=\"M 595.7 142.2 L 596.9 142.2 L 596.9 143.5 L 595.7 143.5 L 595.7 142.2 M 595.7 138.1 L 596.9 138.1 L 596.9 139.3 L 595.7 139.3 L 595.7 138.1 \" fill=\"#000000\"/>\n",
       "<path class=\"legend\" d=\"\" fill=\"#000000\"/>\n",
       "<path class=\"legend\" d=\"M 601.8 139.4 Q 601.8 137.2, 602.8 136.1 Q 603.8 135.0, 605.7 135.0 Q 607.5 135.0, 608.4 136.2 L 607.6 136.9 Q 606.9 136.0, 605.7 136.0 Q 604.4 136.0, 603.7 136.9 Q 603.0 137.7, 603.0 139.4 Q 603.0 141.1, 603.7 141.9 Q 604.4 142.8, 605.8 142.8 Q 606.8 142.8, 607.9 142.2 L 608.2 143.1 Q 607.8 143.4, 607.1 143.6 Q 606.4 143.8, 605.7 143.8 Q 603.8 143.8, 602.8 142.6 Q 601.8 141.5, 601.8 139.4 \" fill=\"#000000\"/>\n",
       "<path class=\"legend\" d=\"M 608.9 139.4 Q 608.9 137.2, 609.9 136.1 Q 610.9 135.0, 612.8 135.0 Q 614.6 135.0, 615.5 136.2 L 614.7 136.9 Q 614.0 136.0, 612.8 136.0 Q 611.5 136.0, 610.8 136.9 Q 610.1 137.7, 610.1 139.4 Q 610.1 141.1, 610.8 141.9 Q 611.5 142.8, 612.9 142.8 Q 613.9 142.8, 615.0 142.2 L 615.3 143.1 Q 614.9 143.4, 614.2 143.6 Q 613.5 143.8, 612.7 143.8 Q 610.9 143.8, 609.9 142.6 Q 608.9 141.5, 608.9 139.4 \" fill=\"#000000\"/>\n",
       "<path class=\"legend\" d=\"M 625.8 143.7 L 624.7 143.7 L 623.8 136.7 L 621.5 143.7 L 620.3 143.7 L 618.0 136.7 L 617.1 143.7 L 616.0 143.7 L 617.1 135.1 L 618.5 135.1 L 620.9 142.0 L 623.2 135.1 L 624.7 135.1 L 625.8 143.7 \" fill=\"#000000\"/>\n",
       "<path class=\"legend\" d=\"M 626.9 142.3 Q 627.0 142.4, 627.4 142.5 Q 627.8 142.7, 628.2 142.8 Q 628.7 142.9, 629.1 142.9 Q 629.9 142.9, 630.4 142.5 Q 630.8 142.1, 630.8 141.4 Q 630.8 141.0, 630.6 140.7 Q 630.4 140.4, 630.0 140.2 Q 629.6 140.1, 629.0 139.9 Q 628.3 139.7, 627.8 139.4 Q 627.4 139.2, 627.0 138.8 Q 626.7 138.3, 626.7 137.5 Q 626.7 136.5, 627.5 135.8 Q 628.2 135.1, 629.6 135.1 Q 630.6 135.1, 631.8 135.6 L 631.5 136.5 Q 630.5 136.1, 629.7 136.1 Q 628.8 136.1, 628.4 136.5 Q 627.9 136.8, 627.9 137.4 Q 627.9 137.8, 628.2 138.1 Q 628.4 138.4, 628.8 138.6 Q 629.1 138.7, 629.7 138.9 Q 630.5 139.1, 630.9 139.4 Q 631.4 139.6, 631.7 140.1 Q 632.0 140.6, 632.0 141.4 Q 632.0 142.6, 631.2 143.3 Q 630.5 143.9, 629.1 143.9 Q 628.4 143.9, 627.8 143.7 Q 627.2 143.6, 626.6 143.3 L 626.9 142.3 \" fill=\"#000000\"/>\n",
       "<path class=\"legend\" d=\"M 632.6 135.1 L 633.8 135.1 L 633.8 142.7 L 637.7 142.7 L 637.7 143.7 L 632.6 143.7 L 632.6 135.1 \" fill=\"#000000\"/>\n",
       "<path class=\"legend\" d=\"M 638.0 135.1 L 639.2 135.1 L 639.2 143.7 L 638.0 143.7 L 638.0 135.1 \" fill=\"#000000\"/>\n",
       "<path class=\"legend\" d=\"M 644.4 139.2 Q 645.2 139.4, 645.6 139.9 Q 646.1 140.4, 646.1 141.1 Q 646.1 142.3, 645.3 143.0 Q 644.5 143.7, 643.1 143.7 L 640.2 143.7 L 640.2 135.1 L 642.8 135.1 Q 644.2 135.1, 645.0 135.7 Q 645.7 136.3, 645.7 137.4 Q 645.7 138.7, 644.4 139.2 M 641.4 136.1 L 641.4 138.8 L 642.8 138.8 Q 643.6 138.8, 644.0 138.4 Q 644.5 138.1, 644.5 137.4 Q 644.5 136.1, 642.8 136.1 L 641.4 136.1 M 643.1 142.7 Q 643.9 142.7, 644.4 142.3 Q 644.8 141.9, 644.8 141.1 Q 644.8 140.4, 644.3 140.1 Q 643.9 139.7, 642.9 139.7 L 641.4 139.7 L 641.4 142.7 L 643.1 142.7 \" fill=\"#000000\"/>\n",
       "<path class=\"legend\" d=\"M 649.7 143.8 Q 648.2 143.8, 647.4 142.6 Q 646.6 141.4, 646.6 139.4 Q 646.6 137.3, 647.4 136.1 Q 648.2 135.0, 649.7 135.0 Q 651.3 135.0, 652.1 136.1 Q 652.9 137.3, 652.9 139.4 Q 652.9 141.4, 652.1 142.6 Q 651.3 143.8, 649.7 143.8 M 649.7 142.8 Q 650.7 142.8, 651.2 141.9 Q 651.7 141.1, 651.7 139.4 Q 651.7 137.7, 651.2 136.8 Q 650.7 136.0, 649.7 136.0 Q 648.8 136.0, 648.3 136.8 Q 647.8 137.7, 647.8 139.4 Q 647.8 141.1, 648.3 141.9 Q 648.8 142.8, 649.7 142.8 \" fill=\"#000000\"/>\n",
       "<path class=\"legend\" d=\"M 656.8 143.8 Q 655.2 143.8, 654.4 142.6 Q 653.7 141.4, 653.7 139.4 Q 653.7 137.3, 654.4 136.1 Q 655.2 135.0, 656.8 135.0 Q 658.4 135.0, 659.2 136.1 Q 659.9 137.3, 659.9 139.4 Q 659.9 141.4, 659.1 142.6 Q 658.4 143.8, 656.8 143.8 M 656.8 142.8 Q 657.7 142.8, 658.2 141.9 Q 658.7 141.1, 658.7 139.4 Q 658.7 137.7, 658.2 136.8 Q 657.7 136.0, 656.8 136.0 Q 655.9 136.0, 655.4 136.8 Q 654.9 137.7, 654.9 139.4 Q 654.9 141.1, 655.4 141.9 Q 655.9 142.8, 656.8 142.8 \" fill=\"#000000\"/>\n",
       "<path class=\"legend\" d=\"M 663.8 143.8 Q 662.3 143.8, 661.5 142.6 Q 660.7 141.4, 660.7 139.4 Q 660.7 137.3, 661.5 136.1 Q 662.3 135.0, 663.8 135.0 Q 665.4 135.0, 666.2 136.1 Q 667.0 137.3, 667.0 139.4 Q 667.0 141.4, 666.2 142.6 Q 665.4 143.8, 663.8 143.8 M 663.8 142.8 Q 664.8 142.8, 665.3 141.9 Q 665.8 141.1, 665.8 139.4 Q 665.8 137.7, 665.3 136.8 Q 664.8 136.0, 663.8 136.0 Q 662.9 136.0, 662.4 136.8 Q 661.9 137.7, 661.9 139.4 Q 661.9 141.1, 662.4 141.9 Q 662.9 142.8, 663.8 142.8 \" fill=\"#000000\"/>\n",
       "<path class=\"legend\" d=\"M 670.9 143.8 Q 669.3 143.8, 668.5 142.6 Q 667.8 141.4, 667.8 139.4 Q 667.8 137.3, 668.5 136.1 Q 669.3 135.0, 670.9 135.0 Q 672.5 135.0, 673.3 136.1 Q 674.0 137.3, 674.0 139.4 Q 674.0 141.4, 673.2 142.6 Q 672.5 143.8, 670.9 143.8 M 670.9 142.8 Q 671.8 142.8, 672.3 141.9 Q 672.8 141.1, 672.8 139.4 Q 672.8 137.7, 672.3 136.8 Q 671.8 136.0, 670.9 136.0 Q 670.0 136.0, 669.5 136.8 Q 669.0 137.7, 669.0 139.4 Q 669.0 141.1, 669.5 141.9 Q 670.0 142.8, 670.9 142.8 \" fill=\"#000000\"/>\n",
       "<path class=\"legend\" d=\"M 677.9 138.3 Q 678.7 138.3, 679.3 138.6 Q 679.9 138.9, 680.3 139.5 Q 680.6 140.1, 680.6 141.0 Q 680.6 141.8, 680.2 142.5 Q 679.8 143.1, 679.1 143.4 Q 678.3 143.8, 677.6 143.8 Q 676.8 143.8, 676.0 143.5 Q 675.3 143.2, 674.8 142.6 L 675.5 141.9 Q 675.9 142.3, 676.5 142.5 Q 677.0 142.8, 677.6 142.8 Q 678.3 142.8, 678.9 142.3 Q 679.4 141.8, 679.4 141.0 Q 679.4 140.1, 678.9 139.6 Q 678.3 139.2, 677.5 139.2 Q 676.8 139.2, 675.9 139.5 L 675.3 139.2 L 675.7 135.1 L 680.1 135.1 L 680.0 136.1 L 676.7 136.1 L 676.4 138.6 Q 677.2 138.3, 677.9 138.3 \" fill=\"#000000\"/>\n",
       "<path class=\"legend\" d=\"M 686.8 140.7 L 687.8 140.7 L 687.8 141.7 L 686.8 141.7 L 686.8 143.7 L 685.6 143.7 L 685.6 141.7 L 681.2 141.7 L 681.2 140.9 L 684.9 135.1 L 686.8 135.1 L 686.8 140.7 M 682.6 140.7 L 685.6 140.7 L 685.6 135.9 L 682.6 140.7 \" fill=\"#000000\"/>\n",
       "<path class=\"legend\" d=\"M 691.7 138.3 Q 692.5 138.3, 693.1 138.6 Q 693.7 139.0, 694.0 139.6 Q 694.3 140.2, 694.3 140.9 Q 694.3 141.7, 693.9 142.4 Q 693.6 143.0, 692.9 143.4 Q 692.3 143.8, 691.4 143.8 Q 689.9 143.8, 689.1 142.7 Q 688.4 141.7, 688.4 139.6 Q 688.4 137.4, 689.3 136.2 Q 690.3 135.0, 692.1 135.0 Q 692.6 135.0, 693.1 135.1 Q 693.5 135.2, 694.0 135.5 L 693.5 136.3 Q 692.9 136.0, 692.1 136.0 Q 690.9 136.0, 690.3 136.8 Q 689.7 137.5, 689.6 139.1 Q 690.0 138.7, 690.6 138.5 Q 691.1 138.3, 691.7 138.3 M 691.4 142.8 Q 691.9 142.8, 692.3 142.5 Q 692.7 142.3, 692.9 141.9 Q 693.1 141.4, 693.1 140.9 Q 693.1 140.2, 692.7 139.7 Q 692.3 139.3, 691.5 139.3 Q 691.0 139.3, 690.5 139.5 Q 690.0 139.7, 689.6 140.1 Q 689.6 141.5, 690.1 142.1 Q 690.5 142.8, 691.4 142.8 \" fill=\"#000000\"/>\n",
       "<path class=\"legend\" d=\"M 700.5 140.7 L 701.6 140.7 L 701.6 141.7 L 700.5 141.7 L 700.5 143.7 L 699.4 143.7 L 699.4 141.7 L 695.0 141.7 L 695.0 140.9 L 698.7 135.1 L 700.5 135.1 L 700.5 140.7 M 696.4 140.7 L 699.4 140.7 L 699.4 135.9 L 696.4 140.7 \" fill=\"#000000\"/>\n",
       "<path class=\"legend\" d=\"M 705.3 138.3 Q 706.0 138.3, 706.6 138.6 Q 707.3 138.9, 707.6 139.5 Q 708.0 140.1, 708.0 141.0 Q 708.0 141.8, 707.5 142.5 Q 707.1 143.1, 706.4 143.4 Q 705.7 143.8, 704.9 143.8 Q 704.1 143.8, 703.4 143.5 Q 702.7 143.2, 702.2 142.6 L 702.9 141.9 Q 703.3 142.3, 703.8 142.5 Q 704.4 142.8, 704.9 142.8 Q 705.7 142.8, 706.2 142.3 Q 706.8 141.8, 706.8 141.0 Q 706.8 140.1, 706.2 139.6 Q 705.7 139.2, 704.9 139.2 Q 704.1 139.2, 703.3 139.5 L 702.6 139.2 L 703.0 135.1 L 707.4 135.1 L 707.3 136.1 L 704.0 136.1 L 703.8 138.6 Q 704.5 138.3, 705.3 138.3 \" fill=\"#000000\"/>\n",
       "<path class=\"legend\" d=\"M 711.9 138.3 Q 712.6 138.3, 713.2 138.6 Q 713.8 139.0, 714.2 139.6 Q 714.5 140.2, 714.5 140.9 Q 714.5 141.7, 714.1 142.4 Q 713.7 143.0, 713.1 143.4 Q 712.4 143.8, 711.6 143.8 Q 710.1 143.8, 709.3 142.7 Q 708.5 141.7, 708.5 139.6 Q 708.5 137.4, 709.5 136.2 Q 710.4 135.0, 712.3 135.0 Q 712.8 135.0, 713.2 135.1 Q 713.7 135.2, 714.1 135.5 L 713.7 136.3 Q 713.0 136.0, 712.3 136.0 Q 711.1 136.0, 710.5 136.8 Q 709.8 137.5, 709.8 139.1 Q 710.2 138.7, 710.7 138.5 Q 711.3 138.3, 711.9 138.3 M 711.6 142.8 Q 712.1 142.8, 712.4 142.5 Q 712.8 142.3, 713.1 141.9 Q 713.3 141.4, 713.3 140.9 Q 713.3 140.2, 712.8 139.7 Q 712.4 139.3, 711.7 139.3 Q 711.2 139.3, 710.6 139.5 Q 710.1 139.7, 709.8 140.1 Q 709.8 141.5, 710.3 142.1 Q 710.7 142.8, 711.6 142.8 \" fill=\"#000000\"/>\n",
       "<path class=\"legend\" d=\"M 720.7 140.7 L 721.7 140.7 L 721.7 141.7 L 720.7 141.7 L 720.7 143.7 L 719.6 143.7 L 719.6 141.7 L 715.1 141.7 L 715.1 140.9 L 718.9 135.1 L 720.7 135.1 L 720.7 140.7 M 716.6 140.7 L 719.6 140.7 L 719.6 135.9 L 716.6 140.7 \" fill=\"#000000\"/>\n",
       "<path class=\"bond-0 atom-0 atom-1\" d=\"M 920.9,66.4 L 938.9,58.1\" style=\"fill:none;fill-rule:evenodd;stroke:#000000;stroke-width:2.0px;stroke-linecap:butt;stroke-linejoin:miter;stroke-opacity:1\"/>\n",
       "<path class=\"bond-1 atom-1 atom-2\" d=\"M 938.9,58.1 L 955.1,69.6\" style=\"fill:none;fill-rule:evenodd;stroke:#000000;stroke-width:2.0px;stroke-linecap:butt;stroke-linejoin:miter;stroke-opacity:1\"/>\n",
       "<path class=\"bond-2 atom-2 atom-3\" d=\"M 955.1,69.6 L 973.0,61.3\" style=\"fill:none;fill-rule:evenodd;stroke:#000000;stroke-width:2.0px;stroke-linecap:butt;stroke-linejoin:miter;stroke-opacity:1\"/>\n",
       "<path class=\"bond-3 atom-3 atom-4\" d=\"M 973.0,61.3 L 989.2,72.8\" style=\"fill:none;fill-rule:evenodd;stroke:#000000;stroke-width:2.0px;stroke-linecap:butt;stroke-linejoin:miter;stroke-opacity:1\"/>\n",
       "<path class=\"bond-4 atom-4 atom-5\" d=\"M 989.2,72.8 L 1007.1,64.5\" style=\"fill:none;fill-rule:evenodd;stroke:#000000;stroke-width:2.0px;stroke-linecap:butt;stroke-linejoin:miter;stroke-opacity:1\"/>\n",
       "<path class=\"bond-5 atom-5 atom-6\" d=\"M 1005.2,64.3 L 1005.9,56.3\" style=\"fill:none;fill-rule:evenodd;stroke:#000000;stroke-width:2.0px;stroke-linecap:butt;stroke-linejoin:miter;stroke-opacity:1\"/>\n",
       "<path class=\"bond-5 atom-5 atom-6\" d=\"M 1005.9,56.3 L 1006.7,48.2\" style=\"fill:none;fill-rule:evenodd;stroke:#FF0000;stroke-width:2.0px;stroke-linecap:butt;stroke-linejoin:miter;stroke-opacity:1\"/>\n",
       "<path class=\"bond-5 atom-5 atom-6\" d=\"M 1009.1,64.7 L 1009.9,56.6\" style=\"fill:none;fill-rule:evenodd;stroke:#000000;stroke-width:2.0px;stroke-linecap:butt;stroke-linejoin:miter;stroke-opacity:1\"/>\n",
       "<path class=\"bond-5 atom-5 atom-6\" d=\"M 1009.9,56.6 L 1010.6,48.6\" style=\"fill:none;fill-rule:evenodd;stroke:#FF0000;stroke-width:2.0px;stroke-linecap:butt;stroke-linejoin:miter;stroke-opacity:1\"/>\n",
       "<path class=\"bond-6 atom-5 atom-7\" d=\"M 1007.1,64.5 L 1013.6,69.1\" style=\"fill:none;fill-rule:evenodd;stroke:#000000;stroke-width:2.0px;stroke-linecap:butt;stroke-linejoin:miter;stroke-opacity:1\"/>\n",
       "<path class=\"bond-6 atom-5 atom-7\" d=\"M 1013.6,69.1 L 1020.1,73.7\" style=\"fill:none;fill-rule:evenodd;stroke:#FF0000;stroke-width:2.0px;stroke-linecap:butt;stroke-linejoin:miter;stroke-opacity:1\"/>\n",
       "<path class=\"bond-7 atom-7 atom-8\" d=\"M 1026.5,74.5 L 1033.9,71.1\" style=\"fill:none;fill-rule:evenodd;stroke:#FF0000;stroke-width:2.0px;stroke-linecap:butt;stroke-linejoin:miter;stroke-opacity:1\"/>\n",
       "<path class=\"bond-7 atom-7 atom-8\" d=\"M 1033.9,71.1 L 1041.3,67.7\" style=\"fill:none;fill-rule:evenodd;stroke:#000000;stroke-width:2.0px;stroke-linecap:butt;stroke-linejoin:miter;stroke-opacity:1\"/>\n",
       "<path class=\"bond-8 atom-8 atom-9\" d=\"M 1041.3,67.7 L 1058.5,77.5 L 1056.3,80.8 Z\" style=\"fill:#000000;fill-rule:evenodd;fill-opacity:1;stroke:#000000;stroke-width:1.0px;stroke-linecap:butt;stroke-linejoin:miter;stroke-opacity:1;\"/>\n",
       "<path class=\"bond-9 atom-9 atom-10\" d=\"M 1057.4,79.2 L 1055.6,98.9\" style=\"fill:none;fill-rule:evenodd;stroke:#000000;stroke-width:2.0px;stroke-linecap:butt;stroke-linejoin:miter;stroke-opacity:1\"/>\n",
       "<path class=\"bond-10 atom-10 atom-11\" d=\"M 1056.4,100.7 L 1049.0,104.0\" style=\"fill:none;fill-rule:evenodd;stroke:#000000;stroke-width:2.0px;stroke-linecap:butt;stroke-linejoin:miter;stroke-opacity:1\"/>\n",
       "<path class=\"bond-10 atom-10 atom-11\" d=\"M 1049.0,104.0 L 1041.6,107.4\" style=\"fill:none;fill-rule:evenodd;stroke:#FF0000;stroke-width:2.0px;stroke-linecap:butt;stroke-linejoin:miter;stroke-opacity:1\"/>\n",
       "<path class=\"bond-10 atom-10 atom-11\" d=\"M 1054.7,97.1 L 1047.4,100.4\" style=\"fill:none;fill-rule:evenodd;stroke:#000000;stroke-width:2.0px;stroke-linecap:butt;stroke-linejoin:miter;stroke-opacity:1\"/>\n",
       "<path class=\"bond-10 atom-10 atom-11\" d=\"M 1047.4,100.4 L 1040.0,103.8\" style=\"fill:none;fill-rule:evenodd;stroke:#FF0000;stroke-width:2.0px;stroke-linecap:butt;stroke-linejoin:miter;stroke-opacity:1\"/>\n",
       "<path class=\"bond-11 atom-10 atom-12\" d=\"M 1055.6,98.9 L 1062.0,103.4\" style=\"fill:none;fill-rule:evenodd;stroke:#000000;stroke-width:2.0px;stroke-linecap:butt;stroke-linejoin:miter;stroke-opacity:1\"/>\n",
       "<path class=\"bond-11 atom-10 atom-12\" d=\"M 1062.0,103.4 L 1068.5,108.0\" style=\"fill:none;fill-rule:evenodd;stroke:#FF0000;stroke-width:2.0px;stroke-linecap:butt;stroke-linejoin:miter;stroke-opacity:1\"/>\n",
       "<path class=\"bond-12 atom-8 atom-13\" d=\"M 1041.3,67.7 L 1043.1,48.0\" style=\"fill:none;fill-rule:evenodd;stroke:#000000;stroke-width:2.0px;stroke-linecap:butt;stroke-linejoin:miter;stroke-opacity:1\"/>\n",
       "<path class=\"bond-13 atom-13 atom-14\" d=\"M 1043.1,48.0 L 1050.7,44.5\" style=\"fill:none;fill-rule:evenodd;stroke:#000000;stroke-width:2.0px;stroke-linecap:butt;stroke-linejoin:miter;stroke-opacity:1\"/>\n",
       "<path class=\"bond-13 atom-13 atom-14\" d=\"M 1050.7,44.5 L 1058.3,41.0\" style=\"fill:none;fill-rule:evenodd;stroke:#0000FF;stroke-width:2.0px;stroke-linecap:butt;stroke-linejoin:miter;stroke-opacity:1\"/>\n",
       "<path class=\"bond-14 atom-14 atom-15\" d=\"M 1059.5,36.3 L 1056.2,29.0\" style=\"fill:none;fill-rule:evenodd;stroke:#0000FF;stroke-width:2.0px;stroke-linecap:butt;stroke-linejoin:miter;stroke-opacity:1\"/>\n",
       "<path class=\"bond-14 atom-14 atom-15\" d=\"M 1056.2,29.0 L 1052.8,21.8\" style=\"fill:none;fill-rule:evenodd;stroke:#000000;stroke-width:2.0px;stroke-linecap:butt;stroke-linejoin:miter;stroke-opacity:1\"/>\n",
       "<path class=\"bond-15 atom-14 atom-16\" d=\"M 1062.7,43.2 L 1066.0,50.5\" style=\"fill:none;fill-rule:evenodd;stroke:#0000FF;stroke-width:2.0px;stroke-linecap:butt;stroke-linejoin:miter;stroke-opacity:1\"/>\n",
       "<path class=\"bond-15 atom-14 atom-16\" d=\"M 1066.0,50.5 L 1069.3,57.7\" style=\"fill:none;fill-rule:evenodd;stroke:#000000;stroke-width:2.0px;stroke-linecap:butt;stroke-linejoin:miter;stroke-opacity:1\"/>\n",
       "<path class=\"bond-16 atom-14 atom-17\" d=\"M 1067.0,37.1 L 1073.0,34.3\" style=\"fill:none;fill-rule:evenodd;stroke:#0000FF;stroke-width:2.0px;stroke-linecap:butt;stroke-linejoin:miter;stroke-opacity:1\"/>\n",
       "<path class=\"bond-16 atom-14 atom-17\" d=\"M 1073.0,34.3 L 1079.1,31.5\" style=\"fill:none;fill-rule:evenodd;stroke:#000000;stroke-width:2.0px;stroke-linecap:butt;stroke-linejoin:miter;stroke-opacity:1\"/>\n",
       "<path class=\"atom-6\" d=\"M 1006.4 44.8 Q 1006.4 43.5, 1007.1 42.7 Q 1007.7 42.0, 1009.0 42.0 Q 1010.2 42.0, 1010.9 42.7 Q 1011.6 43.5, 1011.6 44.8 Q 1011.6 46.2, 1010.9 47.0 Q 1010.2 47.7, 1009.0 47.7 Q 1007.8 47.7, 1007.1 47.0 Q 1006.4 46.2, 1006.4 44.8 M 1009.0 47.1 Q 1009.8 47.1, 1010.3 46.5 Q 1010.8 46.0, 1010.8 44.8 Q 1010.8 43.7, 1010.3 43.2 Q 1009.8 42.6, 1009.0 42.6 Q 1008.1 42.6, 1007.7 43.2 Q 1007.2 43.7, 1007.2 44.8 Q 1007.2 46.0, 1007.7 46.5 Q 1008.1 47.1, 1009.0 47.1 \" fill=\"#FF0000\"/>\n",
       "<path class=\"atom-7\" d=\"M 1020.7 76.0 Q 1020.7 74.6, 1021.4 73.9 Q 1022.0 73.1, 1023.3 73.1 Q 1024.5 73.1, 1025.2 73.9 Q 1025.9 74.6, 1025.9 76.0 Q 1025.9 77.3, 1025.2 78.1 Q 1024.5 78.9, 1023.3 78.9 Q 1022.0 78.9, 1021.4 78.1 Q 1020.7 77.3, 1020.7 76.0 M 1023.3 78.2 Q 1024.1 78.2, 1024.6 77.7 Q 1025.1 77.1, 1025.1 76.0 Q 1025.1 74.9, 1024.6 74.3 Q 1024.1 73.8, 1023.3 73.8 Q 1022.4 73.8, 1022.0 74.3 Q 1021.5 74.9, 1021.5 76.0 Q 1021.5 77.1, 1022.0 77.7 Q 1022.4 78.2, 1023.3 78.2 \" fill=\"#FF0000\"/>\n",
       "<path class=\"atom-11\" d=\"M 1035.0 107.1 Q 1035.0 105.8, 1035.7 105.0 Q 1036.3 104.3, 1037.6 104.3 Q 1038.8 104.3, 1039.5 105.0 Q 1040.1 105.8, 1040.1 107.1 Q 1040.1 108.5, 1039.5 109.3 Q 1038.8 110.0, 1037.6 110.0 Q 1036.3 110.0, 1035.7 109.3 Q 1035.0 108.5, 1035.0 107.1 M 1037.6 109.4 Q 1038.4 109.4, 1038.9 108.8 Q 1039.4 108.2, 1039.4 107.1 Q 1039.4 106.0, 1038.9 105.5 Q 1038.4 104.9, 1037.6 104.9 Q 1036.7 104.9, 1036.3 105.5 Q 1035.8 106.0, 1035.8 107.1 Q 1035.8 108.3, 1036.3 108.8 Q 1036.7 109.4, 1037.6 109.4 \" fill=\"#FF0000\"/>\n",
       "<path class=\"atom-12\" d=\"M 1069.1 110.3 Q 1069.1 109.0, 1069.8 108.2 Q 1070.4 107.5, 1071.7 107.5 Q 1072.9 107.5, 1073.6 108.2 Q 1074.3 109.0, 1074.3 110.3 Q 1074.3 111.7, 1073.6 112.5 Q 1072.9 113.2, 1071.7 113.2 Q 1070.5 113.2, 1069.8 112.5 Q 1069.1 111.7, 1069.1 110.3 M 1071.7 112.6 Q 1072.5 112.6, 1073.0 112.0 Q 1073.5 111.4, 1073.5 110.3 Q 1073.5 109.2, 1073.0 108.7 Q 1072.5 108.1, 1071.7 108.1 Q 1070.8 108.1, 1070.4 108.7 Q 1069.9 109.2, 1069.9 110.3 Q 1069.9 111.4, 1070.4 112.0 Q 1070.8 112.6, 1071.7 112.6 \" fill=\"#FF0000\"/>\n",
       "<path class=\"atom-12\" d=\"M 1074.7 108.4 L 1076.6 108.4 L 1076.6 108.8 L 1074.7 108.8 L 1074.7 108.4 \" fill=\"#FF0000\"/>\n",
       "<path class=\"atom-14\" d=\"M 1059.8 37.0 L 1061.7 39.9 Q 1061.9 40.2, 1062.2 40.8 Q 1062.5 41.3, 1062.5 41.3 L 1062.5 37.0 L 1063.2 37.0 L 1063.2 42.6 L 1062.4 42.6 L 1060.5 39.3 Q 1060.2 38.9, 1060.0 38.5 Q 1059.8 38.1, 1059.7 37.9 L 1059.7 42.6 L 1059.0 42.6 L 1059.0 37.0 L 1059.8 37.0 \" fill=\"#0000FF\"/>\n",
       "<path class=\"atom-14\" d=\"M 1063.9 38.0 L 1064.9 38.0 L 1064.9 36.9 L 1065.3 36.9 L 1065.3 38.0 L 1066.3 38.0 L 1066.3 38.3 L 1065.3 38.3 L 1065.3 39.4 L 1064.9 39.4 L 1064.9 38.3 L 1063.9 38.3 L 1063.9 38.0 \" fill=\"#0000FF\"/>\n",
       "<path class=\"legend\" d=\"M 891.1 135.1 L 892.2 135.1 L 889.3 143.7 L 887.9 143.7 L 885.1 135.1 L 886.2 135.1 L 888.6 142.4 L 891.1 135.1 \" fill=\"#000000\"/>\n",
       "<path class=\"legend\" d=\"M 898.5 135.1 L 899.6 135.1 L 896.7 143.7 L 895.3 143.7 L 892.5 135.1 L 893.6 135.1 L 896.0 142.4 L 898.5 135.1 \" fill=\"#000000\"/>\n",
       "<path class=\"legend\" d=\"M 902.4 135.1 Q 903.9 135.1, 904.6 135.8 Q 905.3 136.4, 905.3 137.6 Q 905.3 138.8, 904.6 139.5 Q 903.8 140.1, 902.4 140.1 L 901.0 140.1 L 901.0 143.7 L 899.9 143.7 L 899.9 135.1 L 902.4 135.1 M 902.4 139.2 Q 903.2 139.2, 903.7 138.8 Q 904.1 138.4, 904.1 137.6 Q 904.1 136.9, 903.7 136.5 Q 903.2 136.1, 902.4 136.1 L 901.0 136.1 L 901.0 139.2 L 902.4 139.2 \" fill=\"#000000\"/>\n",
       "<path class=\"legend\" d=\"M 910.5 143.7 L 908.5 140.1 L 908.4 140.1 L 907.1 140.1 L 907.1 143.7 L 905.9 143.7 L 905.9 135.1 L 908.4 135.1 Q 909.9 135.1, 910.6 135.8 Q 911.4 136.4, 911.4 137.6 Q 911.4 138.5, 910.9 139.1 Q 910.5 139.7, 909.6 140.0 L 911.8 143.7 L 910.5 143.7 M 907.1 139.2 L 908.4 139.2 Q 909.3 139.2, 909.7 138.8 Q 910.2 138.4, 910.2 137.6 Q 910.2 136.9, 909.7 136.5 Q 909.3 136.1, 908.4 136.1 L 907.1 136.1 L 907.1 139.2 \" fill=\"#000000\"/>\n",
       "<path class=\"legend\" d=\"M 918.0 145.2 Q 918.4 145.2, 918.9 145.0 L 919.2 146.0 Q 918.5 146.3, 917.9 146.3 Q 916.8 146.3, 916.1 145.6 Q 915.4 145.0, 915.3 143.7 Q 913.8 143.5, 912.9 142.4 Q 912.1 141.2, 912.1 139.4 Q 912.1 137.3, 913.1 136.1 Q 914.1 135.0, 916.0 135.0 Q 917.9 135.0, 918.9 136.1 Q 919.9 137.3, 919.9 139.4 Q 919.9 141.4, 919.0 142.5 Q 918.0 143.7, 916.3 143.8 Q 916.4 144.4, 916.9 144.8 Q 917.3 145.2, 918.0 145.2 M 913.3 139.4 Q 913.3 141.1, 914.0 142.0 Q 914.7 142.8, 916.0 142.8 Q 917.3 142.8, 918.0 142.0 Q 918.7 141.1, 918.7 139.4 Q 918.7 137.7, 918.0 136.8 Q 917.3 136.0, 916.0 136.0 Q 914.7 136.0, 914.0 136.8 Q 913.3 137.7, 913.3 139.4 \" fill=\"#000000\"/>\n",
       "<path class=\"legend\" d=\"M 931.2 135.1 L 932.4 135.1 L 930.1 143.7 L 928.3 143.7 L 926.5 136.5 L 924.6 143.7 L 922.8 143.7 L 920.6 135.1 L 921.7 135.1 L 923.7 142.6 L 925.7 135.1 L 927.2 135.1 L 929.2 142.6 L 931.2 135.1 \" fill=\"#000000\"/>\n",
       "<path class=\"legend\" d=\"M 935.4 136.1 L 932.7 136.1 L 932.7 135.1 L 939.0 135.1 L 939.0 136.1 L 936.5 136.1 L 936.5 143.7 L 935.4 143.7 L 935.4 136.1 \" fill=\"#000000\"/>\n",
       "<path class=\"legend\" d=\"M 941.9 140.1 L 939.0 135.1 L 940.3 135.1 L 942.4 138.9 L 944.6 135.1 L 945.8 135.1 L 943.0 140.1 L 943.0 143.7 L 941.9 143.7 L 941.9 140.1 \" fill=\"#000000\"/>\n",
       "<path class=\"legend\" d=\"M 946.2 142.3 Q 946.3 142.4, 946.7 142.5 Q 947.1 142.7, 947.5 142.8 Q 948.0 142.9, 948.4 142.9 Q 949.2 142.9, 949.7 142.5 Q 950.2 142.1, 950.2 141.4 Q 950.2 141.0, 949.9 140.7 Q 949.7 140.4, 949.3 140.2 Q 949.0 140.1, 948.4 139.9 Q 947.6 139.7, 947.1 139.4 Q 946.7 139.2, 946.4 138.8 Q 946.1 138.3, 946.1 137.5 Q 946.1 136.5, 946.8 135.8 Q 947.5 135.1, 949.0 135.1 Q 950.0 135.1, 951.1 135.6 L 950.8 136.5 Q 949.8 136.1, 949.0 136.1 Q 948.2 136.1, 947.7 136.5 Q 947.2 136.8, 947.3 137.4 Q 947.3 137.8, 947.5 138.1 Q 947.7 138.4, 948.1 138.6 Q 948.4 138.7, 949.0 138.9 Q 949.8 139.1, 950.2 139.4 Q 950.7 139.6, 951.0 140.1 Q 951.4 140.6, 951.4 141.4 Q 951.4 142.6, 950.6 143.3 Q 949.8 143.9, 948.5 143.9 Q 947.7 143.9, 947.1 143.7 Q 946.5 143.6, 945.9 143.3 L 946.2 142.3 \" fill=\"#000000\"/>\n",
       "<path class=\"legend\" d=\"M 953.3 135.1 L 956.1 139.6 Q 956.4 140.1, 956.8 140.9 Q 957.3 141.7, 957.3 141.8 L 957.3 135.1 L 958.4 135.1 L 958.4 143.7 L 957.3 143.7 L 954.2 138.7 Q 953.9 138.1, 953.5 137.5 Q 953.2 136.8, 953.0 136.6 L 953.0 143.7 L 951.9 143.7 L 951.9 135.1 L 953.3 135.1 \" fill=\"#000000\"/>\n",
       "<path class=\"legend\" d=\"M 962.2 135.1 Q 964.1 135.1, 965.1 136.2 Q 966.1 137.3, 966.1 139.4 Q 966.1 141.4, 965.1 142.5 Q 964.1 143.7, 962.2 143.7 L 959.4 143.7 L 959.4 135.1 L 962.2 135.1 M 962.2 142.7 Q 963.5 142.7, 964.2 141.9 Q 964.9 141.0, 964.9 139.4 Q 964.9 137.7, 964.2 136.9 Q 963.5 136.1, 962.2 136.1 L 960.6 136.1 L 960.6 142.7 L 962.2 142.7 \" fill=\"#000000\"/>\n",
       "<path class=\"legend\" d=\"M 969.3 136.1 L 966.7 136.1 L 966.7 135.1 L 973.0 135.1 L 973.0 136.1 L 970.5 136.1 L 970.5 143.7 L 969.3 143.7 L 969.3 136.1 \" fill=\"#000000\"/>\n",
       "<path class=\"legend\" d=\"M 973.0 135.1 L 978.1 135.1 L 978.1 136.1 L 974.1 136.1 L 974.1 138.7 L 977.7 138.7 L 977.7 139.7 L 974.1 139.7 L 974.1 142.7 L 978.2 142.7 L 978.2 143.7 L 973.0 143.7 L 973.0 135.1 \" fill=\"#000000\"/>\n",
       "<path class=\"legend\" d=\"M 985.1 143.7 L 984.2 141.1 L 980.8 141.1 L 980.0 143.7 L 978.8 143.7 L 981.8 135.1 L 983.2 135.1 L 986.2 143.7 L 985.1 143.7 M 981.2 140.2 L 983.9 140.2 L 982.5 136.3 L 981.2 140.2 \" fill=\"#000000\"/>\n",
       "<path class=\"legend\" d=\"\" fill=\"#000000\"/>\n",
       "<path class=\"legend\" d=\"M 990.4 142.2 L 991.6 142.2 L 991.6 143.5 L 990.4 143.5 L 990.4 142.2 M 990.4 138.1 L 991.6 138.1 L 991.6 139.3 L 990.4 139.3 L 990.4 138.1 \" fill=\"#000000\"/>\n",
       "<path class=\"legend\" d=\"\" fill=\"#000000\"/>\n",
       "<path class=\"legend\" d=\"M 996.6 139.4 Q 996.6 137.2, 997.6 136.1 Q 998.6 135.0, 1000.5 135.0 Q 1002.2 135.0, 1003.2 136.2 L 1002.4 136.9 Q 1001.7 136.0, 1000.5 136.0 Q 999.2 136.0, 998.5 136.9 Q 997.8 137.7, 997.8 139.4 Q 997.8 141.1, 998.5 141.9 Q 999.2 142.8, 1000.6 142.8 Q 1001.5 142.8, 1002.6 142.2 L 1003.0 143.1 Q 1002.5 143.4, 1001.9 143.6 Q 1001.2 143.8, 1000.4 143.8 Q 998.6 143.8, 997.6 142.6 Q 996.6 141.5, 996.6 139.4 \" fill=\"#000000\"/>\n",
       "<path class=\"legend\" d=\"M 1003.7 139.4 Q 1003.7 137.2, 1004.7 136.1 Q 1005.7 135.0, 1007.6 135.0 Q 1009.3 135.0, 1010.3 136.2 L 1009.5 136.9 Q 1008.8 136.0, 1007.6 136.0 Q 1006.3 136.0, 1005.6 136.9 Q 1004.9 137.7, 1004.9 139.4 Q 1004.9 141.1, 1005.6 141.9 Q 1006.3 142.8, 1007.7 142.8 Q 1008.6 142.8, 1009.7 142.2 L 1010.1 143.1 Q 1009.6 143.4, 1008.9 143.6 Q 1008.3 143.8, 1007.5 143.8 Q 1005.7 143.8, 1004.7 142.6 Q 1003.7 141.5, 1003.7 139.4 \" fill=\"#000000\"/>\n",
       "<path class=\"legend\" d=\"M 1020.5 143.7 L 1019.4 143.7 L 1018.5 136.7 L 1016.2 143.7 L 1015.1 143.7 L 1012.7 136.7 L 1011.9 143.7 L 1010.8 143.7 L 1011.8 135.1 L 1013.3 135.1 L 1015.7 142.0 L 1018.0 135.1 L 1019.4 135.1 L 1020.5 143.7 \" fill=\"#000000\"/>\n",
       "<path class=\"legend\" d=\"M 1021.7 142.3 Q 1021.7 142.4, 1022.1 142.5 Q 1022.5 142.7, 1023.0 142.8 Q 1023.4 142.9, 1023.9 142.9 Q 1024.7 142.9, 1025.1 142.5 Q 1025.6 142.1, 1025.6 141.4 Q 1025.6 141.0, 1025.4 140.7 Q 1025.1 140.4, 1024.8 140.2 Q 1024.4 140.1, 1023.8 139.9 Q 1023.1 139.7, 1022.6 139.4 Q 1022.1 139.2, 1021.8 138.8 Q 1021.5 138.3, 1021.5 137.5 Q 1021.5 136.5, 1022.2 135.8 Q 1023.0 135.1, 1024.4 135.1 Q 1025.4 135.1, 1026.5 135.6 L 1026.3 136.5 Q 1025.2 136.1, 1024.5 136.1 Q 1023.6 136.1, 1023.2 136.5 Q 1022.7 136.8, 1022.7 137.4 Q 1022.7 137.8, 1022.9 138.1 Q 1023.2 138.4, 1023.5 138.6 Q 1023.9 138.7, 1024.5 138.9 Q 1025.2 139.1, 1025.7 139.4 Q 1026.2 139.6, 1026.5 140.1 Q 1026.8 140.6, 1026.8 141.4 Q 1026.8 142.6, 1026.0 143.3 Q 1025.2 143.9, 1023.9 143.9 Q 1023.2 143.9, 1022.6 143.7 Q 1022.0 143.6, 1021.3 143.3 L 1021.7 142.3 \" fill=\"#000000\"/>\n",
       "<path class=\"legend\" d=\"M 1027.4 135.1 L 1028.5 135.1 L 1028.5 142.7 L 1032.5 142.7 L 1032.5 143.7 L 1027.4 143.7 L 1027.4 135.1 \" fill=\"#000000\"/>\n",
       "<path class=\"legend\" d=\"M 1032.8 135.1 L 1033.9 135.1 L 1033.9 143.7 L 1032.8 143.7 L 1032.8 135.1 \" fill=\"#000000\"/>\n",
       "<path class=\"legend\" d=\"M 1039.2 139.2 Q 1040.0 139.4, 1040.4 139.9 Q 1040.8 140.4, 1040.8 141.1 Q 1040.8 142.3, 1040.1 143.0 Q 1039.3 143.7, 1037.9 143.7 L 1035.0 143.7 L 1035.0 135.1 L 1037.5 135.1 Q 1039.0 135.1, 1039.7 135.7 Q 1040.5 136.3, 1040.5 137.4 Q 1040.5 138.7, 1039.2 139.2 M 1036.2 136.1 L 1036.2 138.8 L 1037.5 138.8 Q 1038.4 138.8, 1038.8 138.4 Q 1039.3 138.1, 1039.3 137.4 Q 1039.3 136.1, 1037.5 136.1 L 1036.2 136.1 M 1037.9 142.7 Q 1038.7 142.7, 1039.2 142.3 Q 1039.6 141.9, 1039.6 141.1 Q 1039.6 140.4, 1039.1 140.1 Q 1038.6 139.7, 1037.7 139.7 L 1036.2 139.7 L 1036.2 142.7 L 1037.9 142.7 \" fill=\"#000000\"/>\n",
       "<path class=\"legend\" d=\"M 1044.5 143.8 Q 1042.9 143.8, 1042.2 142.6 Q 1041.4 141.4, 1041.4 139.4 Q 1041.4 137.3, 1042.2 136.1 Q 1042.9 135.0, 1044.5 135.0 Q 1046.1 135.0, 1046.9 136.1 Q 1047.6 137.3, 1047.6 139.4 Q 1047.6 141.4, 1046.9 142.6 Q 1046.1 143.8, 1044.5 143.8 M 1044.5 142.8 Q 1045.4 142.8, 1045.9 141.9 Q 1046.4 141.1, 1046.4 139.4 Q 1046.4 137.7, 1045.9 136.8 Q 1045.4 136.0, 1044.5 136.0 Q 1043.6 136.0, 1043.1 136.8 Q 1042.6 137.7, 1042.6 139.4 Q 1042.6 141.1, 1043.1 141.9 Q 1043.6 142.8, 1044.5 142.8 \" fill=\"#000000\"/>\n",
       "<path class=\"legend\" d=\"M 1051.6 143.8 Q 1050.0 143.8, 1049.2 142.6 Q 1048.4 141.4, 1048.4 139.4 Q 1048.4 137.3, 1049.2 136.1 Q 1050.0 135.0, 1051.6 135.0 Q 1053.2 135.0, 1053.9 136.1 Q 1054.7 137.3, 1054.7 139.4 Q 1054.7 141.4, 1053.9 142.6 Q 1053.1 143.8, 1051.6 143.8 M 1051.6 142.8 Q 1052.5 142.8, 1053.0 141.9 Q 1053.5 141.1, 1053.5 139.4 Q 1053.5 137.7, 1053.0 136.8 Q 1052.5 136.0, 1051.6 136.0 Q 1050.6 136.0, 1050.1 136.8 Q 1049.6 137.7, 1049.6 139.4 Q 1049.6 141.1, 1050.1 141.9 Q 1050.6 142.8, 1051.6 142.8 \" fill=\"#000000\"/>\n",
       "<path class=\"legend\" d=\"M 1058.6 143.8 Q 1057.0 143.8, 1056.3 142.6 Q 1055.5 141.4, 1055.5 139.4 Q 1055.5 137.3, 1056.3 136.1 Q 1057.0 135.0, 1058.6 135.0 Q 1060.2 135.0, 1061.0 136.1 Q 1061.8 137.3, 1061.8 139.4 Q 1061.8 141.4, 1061.0 142.6 Q 1060.2 143.8, 1058.6 143.8 M 1058.6 142.8 Q 1059.6 142.8, 1060.0 141.9 Q 1060.5 141.1, 1060.5 139.4 Q 1060.5 137.7, 1060.0 136.8 Q 1059.6 136.0, 1058.6 136.0 Q 1057.7 136.0, 1057.2 136.8 Q 1056.7 137.7, 1056.7 139.4 Q 1056.7 141.1, 1057.2 141.9 Q 1057.7 142.8, 1058.6 142.8 \" fill=\"#000000\"/>\n",
       "<path class=\"legend\" d=\"M 1065.7 143.8 Q 1064.1 143.8, 1063.3 142.6 Q 1062.5 141.4, 1062.5 139.4 Q 1062.5 137.3, 1063.3 136.1 Q 1064.1 135.0, 1065.7 135.0 Q 1067.3 135.0, 1068.0 136.1 Q 1068.8 137.3, 1068.8 139.4 Q 1068.8 141.4, 1068.0 142.6 Q 1067.2 143.8, 1065.7 143.8 M 1065.7 142.8 Q 1066.6 142.8, 1067.1 141.9 Q 1067.6 141.1, 1067.6 139.4 Q 1067.6 137.7, 1067.1 136.8 Q 1066.6 136.0, 1065.7 136.0 Q 1064.8 136.0, 1064.2 136.8 Q 1063.7 137.7, 1063.7 139.4 Q 1063.7 141.1, 1064.2 141.9 Q 1064.8 142.8, 1065.7 142.8 \" fill=\"#000000\"/>\n",
       "<path class=\"legend\" d=\"M 1072.9 138.3 Q 1073.7 138.3, 1074.3 138.6 Q 1074.9 139.0, 1075.2 139.6 Q 1075.5 140.2, 1075.5 140.9 Q 1075.5 141.7, 1075.2 142.4 Q 1074.8 143.0, 1074.1 143.4 Q 1073.5 143.8, 1072.7 143.8 Q 1071.1 143.8, 1070.4 142.7 Q 1069.6 141.7, 1069.6 139.6 Q 1069.6 137.4, 1070.5 136.2 Q 1071.5 135.0, 1073.3 135.0 Q 1073.8 135.0, 1074.3 135.1 Q 1074.8 135.2, 1075.2 135.5 L 1074.7 136.3 Q 1074.1 136.0, 1073.3 136.0 Q 1072.1 136.0, 1071.5 136.8 Q 1070.9 137.5, 1070.8 139.1 Q 1071.2 138.7, 1071.8 138.5 Q 1072.3 138.3, 1072.9 138.3 M 1072.7 142.8 Q 1073.1 142.8, 1073.5 142.5 Q 1073.9 142.3, 1074.1 141.9 Q 1074.3 141.4, 1074.3 140.9 Q 1074.3 140.2, 1073.9 139.7 Q 1073.5 139.3, 1072.7 139.3 Q 1072.2 139.3, 1071.7 139.5 Q 1071.2 139.7, 1070.8 140.1 Q 1070.9 141.5, 1071.3 142.1 Q 1071.8 142.8, 1072.7 142.8 \" fill=\"#000000\"/>\n",
       "<path class=\"legend\" d=\"M 1079.3 138.3 Q 1080.1 138.3, 1080.7 138.6 Q 1081.3 138.9, 1081.6 139.5 Q 1082.0 140.1, 1082.0 141.0 Q 1082.0 141.8, 1081.6 142.5 Q 1081.1 143.1, 1080.4 143.4 Q 1079.7 143.8, 1078.9 143.8 Q 1078.1 143.8, 1077.4 143.5 Q 1076.7 143.2, 1076.2 142.6 L 1076.9 141.9 Q 1077.3 142.3, 1077.9 142.5 Q 1078.4 142.8, 1079.0 142.8 Q 1079.7 142.8, 1080.2 142.3 Q 1080.8 141.8, 1080.8 141.0 Q 1080.8 140.1, 1080.2 139.6 Q 1079.7 139.2, 1078.9 139.2 Q 1078.1 139.2, 1077.3 139.5 L 1076.6 139.2 L 1077.1 135.1 L 1081.5 135.1 L 1081.3 136.1 L 1078.0 136.1 L 1077.8 138.6 Q 1078.6 138.3, 1079.3 138.3 \" fill=\"#000000\"/>\n",
       "<path class=\"legend\" d=\"M 1086.9 139.1 Q 1087.7 139.5, 1088.2 140.0 Q 1088.6 140.5, 1088.6 141.3 Q 1088.6 142.0, 1088.2 142.6 Q 1087.9 143.2, 1087.2 143.5 Q 1086.5 143.8, 1085.6 143.8 Q 1084.2 143.8, 1083.4 143.1 Q 1082.6 142.5, 1082.6 141.3 Q 1082.6 140.6, 1082.9 140.1 Q 1083.3 139.6, 1084.0 139.2 Q 1083.5 138.8, 1083.2 138.4 Q 1082.9 137.9, 1082.9 137.2 Q 1082.9 136.2, 1083.6 135.6 Q 1084.3 135.0, 1085.6 135.0 Q 1086.8 135.0, 1087.6 135.6 Q 1088.3 136.2, 1088.3 137.2 Q 1088.3 137.8, 1088.0 138.3 Q 1087.6 138.8, 1086.9 139.1 M 1085.6 135.9 Q 1084.9 135.9, 1084.5 136.2 Q 1084.1 136.6, 1084.1 137.2 Q 1084.1 137.6, 1084.4 137.9 Q 1084.6 138.2, 1085.0 138.4 Q 1085.4 138.6, 1086.1 138.8 Q 1086.6 138.5, 1086.9 138.1 Q 1087.1 137.7, 1087.1 137.2 Q 1087.1 136.6, 1086.7 136.2 Q 1086.3 135.9, 1085.6 135.9 M 1085.6 142.9 Q 1086.4 142.9, 1086.9 142.5 Q 1087.4 142.0, 1087.4 141.3 Q 1087.4 140.8, 1087.2 140.6 Q 1086.9 140.3, 1086.5 140.1 Q 1086.1 139.9, 1085.5 139.7 L 1084.9 139.5 Q 1084.3 139.9, 1084.0 140.3 Q 1083.8 140.7, 1083.8 141.3 Q 1083.8 142.0, 1084.3 142.5 Q 1084.8 142.9, 1085.6 142.9 \" fill=\"#000000\"/>\n",
       "<path class=\"legend\" d=\"M 1089.9 142.7 L 1091.7 142.7 L 1091.7 136.3 L 1089.7 136.9 L 1089.4 136.2 L 1092.0 135.0 L 1092.9 135.2 L 1092.9 142.7 L 1094.5 142.7 L 1094.5 143.7 L 1089.9 143.7 L 1089.9 142.7 \" fill=\"#000000\"/>\n",
       "<path class=\"legend\" d=\"M 1097.9 135.0 Q 1099.5 135.0, 1100.2 136.0 Q 1101.0 137.1, 1101.0 139.1 Q 1101.0 141.4, 1100.0 142.6 Q 1099.1 143.8, 1097.3 143.8 Q 1096.7 143.8, 1096.3 143.6 Q 1095.8 143.5, 1095.4 143.3 L 1095.9 142.5 Q 1096.5 142.8, 1097.3 142.8 Q 1098.5 142.8, 1099.1 142.0 Q 1099.7 141.2, 1099.8 139.6 Q 1099.3 140.0, 1098.8 140.2 Q 1098.2 140.4, 1097.6 140.4 Q 1096.9 140.4, 1096.3 140.1 Q 1095.7 139.8, 1095.4 139.2 Q 1095.1 138.6, 1095.1 137.9 Q 1095.1 137.0, 1095.4 136.4 Q 1095.8 135.7, 1096.4 135.4 Q 1097.1 135.0, 1097.9 135.0 M 1096.3 137.8 Q 1096.3 138.6, 1096.7 139.0 Q 1097.1 139.5, 1097.9 139.5 Q 1098.4 139.5, 1098.9 139.3 Q 1099.4 139.1, 1099.8 138.7 Q 1099.7 137.3, 1099.3 136.6 Q 1098.8 136.0, 1097.9 136.0 Q 1097.5 136.0, 1097.1 136.2 Q 1096.7 136.5, 1096.5 136.9 Q 1096.3 137.3, 1096.3 137.8 \" fill=\"#000000\"/>\n",
       "<path class=\"legend\" d=\"M 1104.9 143.8 Q 1103.4 143.8, 1102.6 142.6 Q 1101.8 141.4, 1101.8 139.4 Q 1101.8 137.3, 1102.6 136.1 Q 1103.4 135.0, 1104.9 135.0 Q 1106.5 135.0, 1107.3 136.1 Q 1108.1 137.3, 1108.1 139.4 Q 1108.1 141.4, 1107.3 142.6 Q 1106.5 143.8, 1104.9 143.8 M 1104.9 142.8 Q 1105.9 142.8, 1106.4 141.9 Q 1106.9 141.1, 1106.9 139.4 Q 1106.9 137.7, 1106.4 136.8 Q 1105.9 136.0, 1104.9 136.0 Q 1104.0 136.0, 1103.5 136.8 Q 1103.0 137.7, 1103.0 139.4 Q 1103.0 141.1, 1103.5 141.9 Q 1104.0 142.8, 1104.9 142.8 \" fill=\"#000000\"/>\n",
       "<path class=\"legend\" d=\"M 1113.2 139.1 Q 1114.0 139.5, 1114.5 140.0 Q 1114.9 140.5, 1114.9 141.3 Q 1114.9 142.0, 1114.5 142.6 Q 1114.2 143.2, 1113.5 143.5 Q 1112.8 143.8, 1111.9 143.8 Q 1110.5 143.8, 1109.7 143.1 Q 1108.9 142.5, 1108.9 141.3 Q 1108.9 140.6, 1109.2 140.1 Q 1109.6 139.6, 1110.3 139.2 Q 1109.8 138.8, 1109.5 138.4 Q 1109.2 137.9, 1109.2 137.2 Q 1109.2 136.2, 1109.9 135.6 Q 1110.6 135.0, 1111.9 135.0 Q 1113.1 135.0, 1113.9 135.6 Q 1114.6 136.2, 1114.6 137.2 Q 1114.6 137.8, 1114.3 138.3 Q 1113.9 138.8, 1113.2 139.1 M 1111.9 135.9 Q 1111.2 135.9, 1110.8 136.2 Q 1110.4 136.6, 1110.4 137.2 Q 1110.4 137.6, 1110.7 137.9 Q 1110.9 138.2, 1111.3 138.4 Q 1111.7 138.6, 1112.4 138.8 Q 1112.9 138.5, 1113.2 138.1 Q 1113.4 137.7, 1113.4 137.2 Q 1113.4 136.6, 1113.0 136.2 Q 1112.6 135.9, 1111.9 135.9 M 1111.9 142.9 Q 1112.7 142.9, 1113.2 142.5 Q 1113.7 142.0, 1113.7 141.3 Q 1113.7 140.8, 1113.5 140.6 Q 1113.2 140.3, 1112.8 140.1 Q 1112.4 139.9, 1111.8 139.7 L 1111.2 139.5 Q 1110.6 139.9, 1110.3 140.3 Q 1110.1 140.7, 1110.1 141.3 Q 1110.1 142.0, 1110.6 142.5 Q 1111.1 142.9, 1111.9 142.9 \" fill=\"#000000\"/>\n",
       "<path class=\"bond-0 atom-0 atom-1\" d=\"M 1353.3,47.7 L 1357.3,54.5\" style=\"fill:none;fill-rule:evenodd;stroke:#000000;stroke-width:2.0px;stroke-linecap:butt;stroke-linejoin:miter;stroke-opacity:1\"/>\n",
       "<path class=\"bond-0 atom-0 atom-1\" d=\"M 1357.3,54.5 L 1361.3,61.3\" style=\"fill:none;fill-rule:evenodd;stroke:#0000FF;stroke-width:2.0px;stroke-linecap:butt;stroke-linejoin:miter;stroke-opacity:1\"/>\n",
       "<path class=\"bond-1 atom-1 atom-2\" d=\"M 1365.3,68.2 L 1369.3,75.1\" style=\"fill:none;fill-rule:evenodd;stroke:#0000FF;stroke-width:2.0px;stroke-linecap:butt;stroke-linejoin:miter;stroke-opacity:1\"/>\n",
       "<path class=\"bond-1 atom-1 atom-2\" d=\"M 1369.3,75.1 L 1373.3,81.9\" style=\"fill:none;fill-rule:evenodd;stroke:#000000;stroke-width:2.0px;stroke-linecap:butt;stroke-linejoin:miter;stroke-opacity:1\"/>\n",
       "<path class=\"bond-2 atom-1 atom-3\" d=\"M 1360.5,66.4 L 1353.4,70.6\" style=\"fill:none;fill-rule:evenodd;stroke:#0000FF;stroke-width:2.0px;stroke-linecap:butt;stroke-linejoin:miter;stroke-opacity:1\"/>\n",
       "<path class=\"bond-2 atom-1 atom-3\" d=\"M 1353.4,70.6 L 1346.2,74.8\" style=\"fill:none;fill-rule:evenodd;stroke:#000000;stroke-width:2.0px;stroke-linecap:butt;stroke-linejoin:miter;stroke-opacity:1\"/>\n",
       "<path class=\"bond-3 atom-1 atom-4\" d=\"M 1369.2,61.4 L 1374.8,58.1\" style=\"fill:none;fill-rule:evenodd;stroke:#0000FF;stroke-width:2.0px;stroke-linecap:butt;stroke-linejoin:miter;stroke-opacity:1\"/>\n",
       "<path class=\"bond-3 atom-1 atom-4\" d=\"M 1374.8,58.1 L 1380.4,54.8\" style=\"fill:none;fill-rule:evenodd;stroke:#000000;stroke-width:2.0px;stroke-linecap:butt;stroke-linejoin:miter;stroke-opacity:1\"/>\n",
       "<path class=\"bond-4 atom-4 atom-5\" d=\"M 1380.4,54.8 L 1397.6,64.6\" style=\"fill:none;fill-rule:evenodd;stroke:#000000;stroke-width:2.0px;stroke-linecap:butt;stroke-linejoin:miter;stroke-opacity:1\"/>\n",
       "<path class=\"bond-5 atom-5 atom-6\" d=\"M 1397.6,64.6 L 1398.6,72.4 L 1396.6,72.4 Z\" style=\"fill:#000000;fill-rule:evenodd;fill-opacity:1;stroke:#000000;stroke-width:1.0px;stroke-linecap:butt;stroke-linejoin:miter;stroke-opacity:1;\"/>\n",
       "<path class=\"bond-5 atom-5 atom-6\" d=\"M 1398.6,72.4 L 1395.7,80.2 L 1399.6,80.2 Z\" style=\"fill:#FF0000;fill-rule:evenodd;fill-opacity:1;stroke:#FF0000;stroke-width:1.0px;stroke-linecap:butt;stroke-linejoin:miter;stroke-opacity:1;\"/>\n",
       "<path class=\"bond-5 atom-5 atom-6\" d=\"M 1398.6,72.4 L 1396.6,72.4 L 1395.7,80.2 Z\" style=\"fill:#FF0000;fill-rule:evenodd;fill-opacity:1;stroke:#FF0000;stroke-width:1.0px;stroke-linecap:butt;stroke-linejoin:miter;stroke-opacity:1;\"/>\n",
       "<path class=\"bond-6 atom-5 atom-7\" d=\"M 1397.6,64.6 L 1414.6,54.6\" style=\"fill:none;fill-rule:evenodd;stroke:#000000;stroke-width:2.0px;stroke-linecap:butt;stroke-linejoin:miter;stroke-opacity:1\"/>\n",
       "<path class=\"bond-7 atom-7 atom-8\" d=\"M 1414.6,54.6 L 1431.8,64.4\" style=\"fill:none;fill-rule:evenodd;stroke:#000000;stroke-width:2.0px;stroke-linecap:butt;stroke-linejoin:miter;stroke-opacity:1\"/>\n",
       "<path class=\"bond-8 atom-8 atom-9\" d=\"M 1431.8,64.4 L 1438.7,60.3\" style=\"fill:none;fill-rule:evenodd;stroke:#000000;stroke-width:2.0px;stroke-linecap:butt;stroke-linejoin:miter;stroke-opacity:1\"/>\n",
       "<path class=\"bond-8 atom-8 atom-9\" d=\"M 1438.7,60.3 L 1445.7,56.3\" style=\"fill:none;fill-rule:evenodd;stroke:#FF0000;stroke-width:2.0px;stroke-linecap:butt;stroke-linejoin:miter;stroke-opacity:1\"/>\n",
       "<path class=\"bond-9 atom-8 atom-10\" d=\"M 1433.8,64.4 L 1433.9,72.5\" style=\"fill:none;fill-rule:evenodd;stroke:#000000;stroke-width:2.0px;stroke-linecap:butt;stroke-linejoin:miter;stroke-opacity:1\"/>\n",
       "<path class=\"bond-9 atom-8 atom-10\" d=\"M 1433.9,72.5 L 1433.9,80.7\" style=\"fill:none;fill-rule:evenodd;stroke:#FF0000;stroke-width:2.0px;stroke-linecap:butt;stroke-linejoin:miter;stroke-opacity:1\"/>\n",
       "<path class=\"bond-9 atom-8 atom-10\" d=\"M 1429.8,64.4 L 1429.9,72.5\" style=\"fill:none;fill-rule:evenodd;stroke:#000000;stroke-width:2.0px;stroke-linecap:butt;stroke-linejoin:miter;stroke-opacity:1\"/>\n",
       "<path class=\"bond-9 atom-8 atom-10\" d=\"M 1429.9,72.5 L 1429.9,80.7\" style=\"fill:none;fill-rule:evenodd;stroke:#FF0000;stroke-width:2.0px;stroke-linecap:butt;stroke-linejoin:miter;stroke-opacity:1\"/>\n",
       "<path class=\"atom-1\" d=\"M 1362.1 62.0 L 1363.9 65.0 Q 1364.1 65.2, 1364.4 65.8 Q 1364.7 66.3, 1364.7 66.3 L 1364.7 62.0 L 1365.4 62.0 L 1365.4 67.6 L 1364.7 67.6 L 1362.7 64.3 Q 1362.5 64.0, 1362.2 63.5 Q 1362.0 63.1, 1361.9 63.0 L 1361.9 67.6 L 1361.2 67.6 L 1361.2 62.0 L 1362.1 62.0 \" fill=\"#0000FF\"/>\n",
       "<path class=\"atom-1\" d=\"M 1366.1 63.0 L 1367.1 63.0 L 1367.1 62.0 L 1367.5 62.0 L 1367.5 63.0 L 1368.5 63.0 L 1368.5 63.4 L 1367.5 63.4 L 1367.5 64.4 L 1367.1 64.4 L 1367.1 63.4 L 1366.1 63.4 L 1366.1 63.0 \" fill=\"#0000FF\"/>\n",
       "<path class=\"atom-6\" d=\"M 1395.1 84.4 Q 1395.1 83.0, 1395.8 82.3 Q 1396.4 81.5, 1397.7 81.5 Q 1398.9 81.5, 1399.6 82.3 Q 1400.3 83.0, 1400.3 84.4 Q 1400.3 85.7, 1399.6 86.5 Q 1398.9 87.3, 1397.7 87.3 Q 1396.4 87.3, 1395.8 86.5 Q 1395.1 85.7, 1395.1 84.4 M 1397.7 86.6 Q 1398.5 86.6, 1399.0 86.1 Q 1399.5 85.5, 1399.5 84.4 Q 1399.5 83.3, 1399.0 82.7 Q 1398.5 82.2, 1397.7 82.2 Q 1396.8 82.2, 1396.4 82.7 Q 1395.9 83.3, 1395.9 84.4 Q 1395.9 85.5, 1396.4 86.1 Q 1396.8 86.6, 1397.7 86.6 \" fill=\"#FF0000\"/>\n",
       "<path class=\"atom-6\" d=\"M 1400.6 81.6 L 1401.4 81.6 L 1401.4 84.0 L 1404.3 84.0 L 1404.3 81.6 L 1405.0 81.6 L 1405.0 87.2 L 1404.3 87.2 L 1404.3 84.6 L 1401.4 84.6 L 1401.4 87.2 L 1400.6 87.2 L 1400.6 81.6 \" fill=\"#FF0000\"/>\n",
       "<path class=\"atom-9\" d=\"M 1446.3 54.4 Q 1446.3 53.0, 1447.0 52.3 Q 1447.7 51.5, 1448.9 51.5 Q 1450.1 51.5, 1450.8 52.3 Q 1451.5 53.0, 1451.5 54.4 Q 1451.5 55.8, 1450.8 56.5 Q 1450.1 57.3, 1448.9 57.3 Q 1447.7 57.3, 1447.0 56.5 Q 1446.3 55.8, 1446.3 54.4 M 1448.9 56.7 Q 1449.7 56.7, 1450.2 56.1 Q 1450.7 55.5, 1450.7 54.4 Q 1450.7 53.3, 1450.2 52.7 Q 1449.7 52.2, 1448.9 52.2 Q 1448.0 52.2, 1447.6 52.7 Q 1447.1 53.3, 1447.1 54.4 Q 1447.1 55.5, 1447.6 56.1 Q 1448.0 56.7, 1448.9 56.7 \" fill=\"#FF0000\"/>\n",
       "<path class=\"atom-9\" d=\"M 1451.9 52.5 L 1453.8 52.5 L 1453.8 52.9 L 1451.9 52.9 L 1451.9 52.5 \" fill=\"#FF0000\"/>\n",
       "<path class=\"atom-10\" d=\"M 1429.4 84.2 Q 1429.4 82.8, 1430.0 82.1 Q 1430.7 81.3, 1431.9 81.3 Q 1433.2 81.3, 1433.9 82.1 Q 1434.5 82.8, 1434.5 84.2 Q 1434.5 85.5, 1433.8 86.3 Q 1433.2 87.1, 1431.9 87.1 Q 1430.7 87.1, 1430.0 86.3 Q 1429.4 85.5, 1429.4 84.2 M 1431.9 86.4 Q 1432.8 86.4, 1433.3 85.9 Q 1433.7 85.3, 1433.7 84.2 Q 1433.7 83.1, 1433.3 82.5 Q 1432.8 82.0, 1431.9 82.0 Q 1431.1 82.0, 1430.6 82.5 Q 1430.2 83.1, 1430.2 84.2 Q 1430.2 85.3, 1430.6 85.9 Q 1431.1 86.4, 1431.9 86.4 \" fill=\"#FF0000\"/>\n",
       "<path class=\"legend\" d=\"M 1295.9 135.1 Q 1297.3 135.1, 1298.1 135.8 Q 1298.8 136.4, 1298.8 137.6 Q 1298.8 138.8, 1298.1 139.5 Q 1297.3 140.1, 1295.9 140.1 L 1294.5 140.1 L 1294.5 143.7 L 1293.4 143.7 L 1293.4 135.1 L 1295.9 135.1 M 1295.9 139.2 Q 1296.7 139.2, 1297.2 138.8 Q 1297.6 138.4, 1297.6 137.6 Q 1297.6 136.9, 1297.2 136.5 Q 1296.7 136.1, 1295.9 136.1 L 1294.5 136.1 L 1294.5 139.2 L 1295.9 139.2 \" fill=\"#000000\"/>\n",
       "<path class=\"legend\" d=\"M 1299.4 135.1 L 1300.5 135.1 L 1300.5 138.7 L 1304.9 138.7 L 1304.9 135.1 L 1306.1 135.1 L 1306.1 143.7 L 1304.9 143.7 L 1304.9 139.7 L 1300.5 139.7 L 1300.5 143.7 L 1299.4 143.7 L 1299.4 135.1 \" fill=\"#000000\"/>\n",
       "<path class=\"legend\" d=\"M 1307.1 135.1 L 1308.3 135.1 L 1308.3 143.7 L 1307.1 143.7 L 1307.1 135.1 \" fill=\"#000000\"/>\n",
       "<path class=\"legend\" d=\"M 1315.2 145.2 Q 1315.7 145.2, 1316.1 145.0 L 1316.5 146.0 Q 1315.8 146.3, 1315.2 146.3 Q 1314.1 146.3, 1313.4 145.6 Q 1312.7 145.0, 1312.6 143.7 Q 1311.0 143.5, 1310.2 142.4 Q 1309.3 141.2, 1309.3 139.4 Q 1309.3 137.3, 1310.3 136.1 Q 1311.4 135.0, 1313.3 135.0 Q 1315.2 135.0, 1316.2 136.1 Q 1317.2 137.3, 1317.2 139.4 Q 1317.2 141.4, 1316.2 142.5 Q 1315.3 143.7, 1313.6 143.8 Q 1313.7 144.4, 1314.1 144.8 Q 1314.6 145.2, 1315.2 145.2 M 1310.5 139.4 Q 1310.5 141.1, 1311.2 142.0 Q 1312.0 142.8, 1313.3 142.8 Q 1314.6 142.8, 1315.3 142.0 Q 1316.0 141.1, 1316.0 139.4 Q 1316.0 137.7, 1315.3 136.8 Q 1314.6 136.0, 1313.3 136.0 Q 1312.0 136.0, 1311.2 136.8 Q 1310.5 137.7, 1310.5 139.4 \" fill=\"#000000\"/>\n",
       "<path class=\"legend\" d=\"M 1317.8 135.1 L 1319.0 135.1 L 1319.0 138.7 L 1323.3 138.7 L 1323.3 135.1 L 1324.5 135.1 L 1324.5 143.7 L 1323.3 143.7 L 1323.3 139.7 L 1319.0 139.7 L 1319.0 143.7 L 1317.8 143.7 L 1317.8 135.1 \" fill=\"#000000\"/>\n",
       "<path class=\"legend\" d=\"M 1333.2 143.7 L 1331.9 143.7 L 1329.4 140.1 L 1326.8 143.7 L 1325.5 143.7 L 1328.7 139.2 L 1325.8 135.1 L 1327.1 135.1 L 1329.4 138.3 L 1331.7 135.1 L 1333.1 135.1 L 1330.1 139.3 L 1333.2 143.7 \" fill=\"#000000\"/>\n",
       "<path class=\"legend\" d=\"M 1333.3 135.1 L 1338.4 135.1 L 1338.4 136.1 L 1334.4 136.1 L 1334.4 138.7 L 1338.0 138.7 L 1338.0 139.7 L 1334.4 139.7 L 1334.4 143.7 L 1333.3 143.7 L 1333.3 135.1 \" fill=\"#000000\"/>\n",
       "<path class=\"legend\" d=\"M 1339.8 135.1 L 1339.8 140.9 Q 1339.8 141.8, 1340.4 142.3 Q 1340.9 142.8, 1342.0 142.8 Q 1343.1 142.8, 1343.6 142.3 Q 1344.2 141.9, 1344.2 140.9 L 1344.2 135.1 L 1345.3 135.1 L 1345.3 140.9 Q 1345.3 142.3, 1344.5 143.0 Q 1343.7 143.8, 1342.0 143.8 Q 1340.3 143.8, 1339.5 143.0 Q 1338.7 142.3, 1338.7 140.9 L 1338.7 135.1 L 1339.8 135.1 \" fill=\"#000000\"/>\n",
       "<path class=\"legend\" d=\"M 1346.3 142.8 L 1350.6 136.1 L 1346.4 136.1 L 1346.4 135.1 L 1352.1 135.1 L 1352.1 136.0 L 1347.7 142.7 L 1352.0 142.7 L 1352.0 143.7 L 1346.3 143.7 L 1346.3 142.8 \" fill=\"#000000\"/>\n",
       "<path class=\"legend\" d=\"M 1358.6 135.1 L 1359.7 135.1 L 1356.8 143.7 L 1355.4 143.7 L 1352.6 135.1 L 1353.7 135.1 L 1356.1 142.4 L 1358.6 135.1 \" fill=\"#000000\"/>\n",
       "<path class=\"legend\" d=\"M 1362.5 135.1 Q 1364.0 135.1, 1364.7 135.8 Q 1365.4 136.4, 1365.4 137.6 Q 1365.4 138.8, 1364.7 139.5 Q 1363.9 140.1, 1362.5 140.1 L 1361.1 140.1 L 1361.1 143.7 L 1360.0 143.7 L 1360.0 135.1 L 1362.5 135.1 M 1362.5 139.2 Q 1363.3 139.2, 1363.8 138.8 Q 1364.2 138.4, 1364.2 137.6 Q 1364.2 136.9, 1363.8 136.5 Q 1363.3 136.1, 1362.5 136.1 L 1361.1 136.1 L 1361.1 139.2 L 1362.5 139.2 \" fill=\"#000000\"/>\n",
       "<path class=\"legend\" d=\"M 1368.8 140.1 L 1366.0 135.1 L 1367.3 135.1 L 1369.4 138.9 L 1371.6 135.1 L 1372.8 135.1 L 1370.0 140.1 L 1370.0 143.7 L 1368.8 143.7 L 1368.8 140.1 \" fill=\"#000000\"/>\n",
       "<path class=\"legend\" d=\"M 1372.9 135.1 L 1374.0 135.1 L 1374.0 143.7 L 1372.9 143.7 L 1372.9 135.1 \" fill=\"#000000\"/>\n",
       "<path class=\"legend\" d=\"M 1375.1 135.1 L 1376.2 135.1 L 1376.2 143.7 L 1375.1 143.7 L 1375.1 135.1 \" fill=\"#000000\"/>\n",
       "<path class=\"legend\" d=\"\" fill=\"#000000\"/>\n",
       "<path class=\"legend\" d=\"M 1381.3 142.2 L 1382.5 142.2 L 1382.5 143.5 L 1381.3 143.5 L 1381.3 142.2 M 1381.3 138.1 L 1382.5 138.1 L 1382.5 139.3 L 1381.3 139.3 L 1381.3 138.1 \" fill=\"#000000\"/>\n",
       "<path class=\"legend\" d=\"\" fill=\"#000000\"/>\n",
       "<path class=\"legend\" d=\"M 1387.5 139.4 Q 1387.5 137.2, 1388.5 136.1 Q 1389.5 135.0, 1391.4 135.0 Q 1393.1 135.0, 1394.1 136.2 L 1393.3 136.9 Q 1392.6 136.0, 1391.4 136.0 Q 1390.1 136.0, 1389.4 136.9 Q 1388.7 137.7, 1388.7 139.4 Q 1388.7 141.1, 1389.4 141.9 Q 1390.1 142.8, 1391.5 142.8 Q 1392.4 142.8, 1393.5 142.2 L 1393.9 143.1 Q 1393.4 143.4, 1392.7 143.6 Q 1392.1 143.8, 1391.3 143.8 Q 1389.5 143.8, 1388.5 142.6 Q 1387.5 141.5, 1387.5 139.4 \" fill=\"#000000\"/>\n",
       "<path class=\"legend\" d=\"M 1394.5 139.4 Q 1394.5 137.2, 1395.5 136.1 Q 1396.5 135.0, 1398.4 135.0 Q 1400.2 135.0, 1401.2 136.2 L 1400.4 136.9 Q 1399.7 136.0, 1398.4 136.0 Q 1397.1 136.0, 1396.5 136.9 Q 1395.8 137.7, 1395.8 139.4 Q 1395.8 141.1, 1396.5 141.9 Q 1397.2 142.8, 1398.6 142.8 Q 1399.5 142.8, 1400.6 142.2 L 1401.0 143.1 Q 1400.5 143.4, 1399.8 143.6 Q 1399.2 143.8, 1398.4 143.8 Q 1396.5 143.8, 1395.5 142.6 Q 1394.5 141.5, 1394.5 139.4 \" fill=\"#000000\"/>\n",
       "<path class=\"legend\" d=\"M 1411.4 143.7 L 1410.3 143.7 L 1409.4 136.7 L 1407.1 143.7 L 1405.9 143.7 L 1403.6 136.7 L 1402.7 143.7 L 1401.6 143.7 L 1402.7 135.1 L 1404.2 135.1 L 1406.5 142.0 L 1408.9 135.1 L 1410.3 135.1 L 1411.4 143.7 \" fill=\"#000000\"/>\n",
       "<path class=\"legend\" d=\"M 1412.5 142.3 Q 1412.6 142.4, 1413.0 142.5 Q 1413.4 142.7, 1413.9 142.8 Q 1414.3 142.9, 1414.8 142.9 Q 1415.6 142.9, 1416.0 142.5 Q 1416.5 142.1, 1416.5 141.4 Q 1416.5 141.0, 1416.3 140.7 Q 1416.0 140.4, 1415.7 140.2 Q 1415.3 140.1, 1414.7 139.9 Q 1413.9 139.7, 1413.5 139.4 Q 1413.0 139.2, 1412.7 138.8 Q 1412.4 138.3, 1412.4 137.5 Q 1412.4 136.5, 1413.1 135.8 Q 1413.9 135.1, 1415.3 135.1 Q 1416.3 135.1, 1417.4 135.6 L 1417.1 136.5 Q 1416.1 136.1, 1415.3 136.1 Q 1414.5 136.1, 1414.0 136.5 Q 1413.6 136.8, 1413.6 137.4 Q 1413.6 137.8, 1413.8 138.1 Q 1414.1 138.4, 1414.4 138.6 Q 1414.8 138.7, 1415.3 138.9 Q 1416.1 139.1, 1416.6 139.4 Q 1417.0 139.6, 1417.4 140.1 Q 1417.7 140.6, 1417.7 141.4 Q 1417.7 142.6, 1416.9 143.3 Q 1416.1 143.9, 1414.8 143.9 Q 1414.0 143.9, 1413.5 143.7 Q 1412.9 143.6, 1412.2 143.3 L 1412.5 142.3 \" fill=\"#000000\"/>\n",
       "<path class=\"legend\" d=\"M 1418.3 135.1 L 1419.4 135.1 L 1419.4 142.7 L 1423.3 142.7 L 1423.3 143.7 L 1418.3 143.7 L 1418.3 135.1 \" fill=\"#000000\"/>\n",
       "<path class=\"legend\" d=\"M 1423.7 135.1 L 1424.8 135.1 L 1424.8 143.7 L 1423.7 143.7 L 1423.7 135.1 \" fill=\"#000000\"/>\n",
       "<path class=\"legend\" d=\"M 1430.1 139.2 Q 1430.9 139.4, 1431.3 139.9 Q 1431.7 140.4, 1431.7 141.1 Q 1431.7 142.3, 1430.9 143.0 Q 1430.2 143.7, 1428.8 143.7 L 1425.9 143.7 L 1425.9 135.1 L 1428.4 135.1 Q 1429.9 135.1, 1430.6 135.7 Q 1431.4 136.3, 1431.4 137.4 Q 1431.4 138.7, 1430.1 139.2 M 1427.0 136.1 L 1427.0 138.8 L 1428.4 138.8 Q 1429.3 138.8, 1429.7 138.4 Q 1430.1 138.1, 1430.1 137.4 Q 1430.1 136.1, 1428.4 136.1 L 1427.0 136.1 M 1428.8 142.7 Q 1429.6 142.7, 1430.1 142.3 Q 1430.5 141.9, 1430.5 141.1 Q 1430.5 140.4, 1430.0 140.1 Q 1429.5 139.7, 1428.6 139.7 L 1427.0 139.7 L 1427.0 142.7 L 1428.8 142.7 \" fill=\"#000000\"/>\n",
       "<path class=\"legend\" d=\"M 1435.4 143.8 Q 1433.8 143.8, 1433.0 142.6 Q 1432.3 141.4, 1432.3 139.4 Q 1432.3 137.3, 1433.0 136.1 Q 1433.8 135.0, 1435.4 135.0 Q 1437.0 135.0, 1437.8 136.1 Q 1438.5 137.3, 1438.5 139.4 Q 1438.5 141.4, 1437.7 142.6 Q 1437.0 143.8, 1435.4 143.8 M 1435.4 142.8 Q 1436.3 142.8, 1436.8 141.9 Q 1437.3 141.1, 1437.3 139.4 Q 1437.3 137.7, 1436.8 136.8 Q 1436.3 136.0, 1435.4 136.0 Q 1434.5 136.0, 1434.0 136.8 Q 1433.5 137.7, 1433.5 139.4 Q 1433.5 141.1, 1434.0 141.9 Q 1434.5 142.8, 1435.4 142.8 \" fill=\"#000000\"/>\n",
       "<path class=\"legend\" d=\"M 1442.5 143.8 Q 1440.9 143.8, 1440.1 142.6 Q 1439.3 141.4, 1439.3 139.4 Q 1439.3 137.3, 1440.1 136.1 Q 1440.9 135.0, 1442.5 135.0 Q 1444.0 135.0, 1444.8 136.1 Q 1445.6 137.3, 1445.6 139.4 Q 1445.6 141.4, 1444.8 142.6 Q 1444.0 143.8, 1442.5 143.8 M 1442.5 142.8 Q 1443.4 142.8, 1443.9 141.9 Q 1444.4 141.1, 1444.4 139.4 Q 1444.4 137.7, 1443.9 136.8 Q 1443.4 136.0, 1442.5 136.0 Q 1441.5 136.0, 1441.0 136.8 Q 1440.5 137.7, 1440.5 139.4 Q 1440.5 141.1, 1441.0 141.9 Q 1441.5 142.8, 1442.5 142.8 \" fill=\"#000000\"/>\n",
       "<path class=\"legend\" d=\"M 1449.5 143.8 Q 1447.9 143.8, 1447.1 142.6 Q 1446.4 141.4, 1446.4 139.4 Q 1446.4 137.3, 1447.1 136.1 Q 1447.9 135.0, 1449.5 135.0 Q 1451.1 135.0, 1451.9 136.1 Q 1452.6 137.3, 1452.6 139.4 Q 1452.6 141.4, 1451.9 142.6 Q 1451.1 143.8, 1449.5 143.8 M 1449.5 142.8 Q 1450.4 142.8, 1450.9 141.9 Q 1451.4 141.1, 1451.4 139.4 Q 1451.4 137.7, 1450.9 136.8 Q 1450.4 136.0, 1449.5 136.0 Q 1448.6 136.0, 1448.1 136.8 Q 1447.6 137.7, 1447.6 139.4 Q 1447.6 141.1, 1448.1 141.9 Q 1448.6 142.8, 1449.5 142.8 \" fill=\"#000000\"/>\n",
       "<path class=\"legend\" d=\"M 1456.6 143.8 Q 1455.0 143.8, 1454.2 142.6 Q 1453.4 141.4, 1453.4 139.4 Q 1453.4 137.3, 1454.2 136.1 Q 1455.0 135.0, 1456.6 135.0 Q 1458.1 135.0, 1458.9 136.1 Q 1459.7 137.3, 1459.7 139.4 Q 1459.7 141.4, 1458.9 142.6 Q 1458.1 143.8, 1456.6 143.8 M 1456.6 142.8 Q 1457.5 142.8, 1458.0 141.9 Q 1458.5 141.1, 1458.5 139.4 Q 1458.5 137.7, 1458.0 136.8 Q 1457.5 136.0, 1456.6 136.0 Q 1455.6 136.0, 1455.1 136.8 Q 1454.6 137.7, 1454.6 139.4 Q 1454.6 141.1, 1455.1 141.9 Q 1455.6 142.8, 1456.6 142.8 \" fill=\"#000000\"/>\n",
       "<path class=\"legend\" d=\"M 1463.6 138.3 Q 1464.3 138.3, 1465.0 138.6 Q 1465.6 138.9, 1465.9 139.5 Q 1466.3 140.1, 1466.3 141.0 Q 1466.3 141.8, 1465.8 142.5 Q 1465.4 143.1, 1464.7 143.4 Q 1464.0 143.8, 1463.2 143.8 Q 1462.4 143.8, 1461.7 143.5 Q 1461.0 143.2, 1460.5 142.6 L 1461.2 141.9 Q 1461.6 142.3, 1462.1 142.5 Q 1462.7 142.8, 1463.2 142.8 Q 1464.0 142.8, 1464.5 142.3 Q 1465.1 141.8, 1465.1 141.0 Q 1465.1 140.1, 1464.5 139.6 Q 1464.0 139.2, 1463.2 139.2 Q 1462.4 139.2, 1461.6 139.5 L 1460.9 139.2 L 1461.3 135.1 L 1465.7 135.1 L 1465.6 136.1 L 1462.3 136.1 L 1462.1 138.6 Q 1462.8 138.3, 1463.6 138.3 \" fill=\"#000000\"/>\n",
       "<path class=\"legend\" d=\"M 1471.2 139.1 Q 1472.0 139.5, 1472.5 140.0 Q 1472.9 140.5, 1472.9 141.3 Q 1472.9 142.0, 1472.5 142.6 Q 1472.1 143.2, 1471.5 143.5 Q 1470.8 143.8, 1469.9 143.8 Q 1468.5 143.8, 1467.7 143.1 Q 1466.9 142.5, 1466.9 141.3 Q 1466.9 140.6, 1467.2 140.1 Q 1467.6 139.6, 1468.3 139.2 Q 1467.8 138.8, 1467.5 138.4 Q 1467.2 137.9, 1467.2 137.2 Q 1467.2 136.2, 1467.9 135.6 Q 1468.6 135.0, 1469.9 135.0 Q 1471.1 135.0, 1471.8 135.6 Q 1472.6 136.2, 1472.6 137.2 Q 1472.6 137.8, 1472.2 138.3 Q 1471.9 138.8, 1471.2 139.1 M 1469.9 135.9 Q 1469.2 135.9, 1468.8 136.2 Q 1468.4 136.6, 1468.4 137.2 Q 1468.4 137.6, 1468.6 137.9 Q 1468.9 138.2, 1469.3 138.4 Q 1469.7 138.6, 1470.4 138.8 Q 1470.9 138.5, 1471.1 138.1 Q 1471.4 137.7, 1471.4 137.2 Q 1471.4 136.6, 1471.0 136.2 Q 1470.6 135.9, 1469.9 135.9 M 1469.9 142.9 Q 1470.7 142.9, 1471.2 142.5 Q 1471.7 142.0, 1471.7 141.3 Q 1471.7 140.8, 1471.4 140.6 Q 1471.2 140.3, 1470.8 140.1 Q 1470.4 139.9, 1469.7 139.7 L 1469.2 139.5 Q 1468.6 139.9, 1468.3 140.3 Q 1468.1 140.7, 1468.1 141.3 Q 1468.1 142.0, 1468.6 142.5 Q 1469.1 142.9, 1469.9 142.9 \" fill=\"#000000\"/>\n",
       "<path class=\"legend\" d=\"M 1478.0 139.1 Q 1478.8 139.5, 1479.3 140.0 Q 1479.7 140.5, 1479.7 141.3 Q 1479.7 142.0, 1479.3 142.6 Q 1479.0 143.2, 1478.3 143.5 Q 1477.6 143.8, 1476.7 143.8 Q 1475.3 143.8, 1474.5 143.1 Q 1473.7 142.5, 1473.7 141.3 Q 1473.7 140.6, 1474.0 140.1 Q 1474.4 139.6, 1475.1 139.2 Q 1474.6 138.8, 1474.3 138.4 Q 1474.0 137.9, 1474.0 137.2 Q 1474.0 136.2, 1474.7 135.6 Q 1475.4 135.0, 1476.7 135.0 Q 1477.9 135.0, 1478.7 135.6 Q 1479.4 136.2, 1479.4 137.2 Q 1479.4 137.8, 1479.0 138.3 Q 1478.7 138.8, 1478.0 139.1 M 1476.7 135.9 Q 1476.0 135.9, 1475.6 136.2 Q 1475.2 136.6, 1475.2 137.2 Q 1475.2 137.6, 1475.5 137.9 Q 1475.7 138.2, 1476.1 138.4 Q 1476.5 138.6, 1477.2 138.8 Q 1477.7 138.5, 1478.0 138.1 Q 1478.2 137.7, 1478.2 137.2 Q 1478.2 136.6, 1477.8 136.2 Q 1477.4 135.9, 1476.7 135.9 M 1476.7 142.9 Q 1477.5 142.9, 1478.0 142.5 Q 1478.5 142.0, 1478.5 141.3 Q 1478.5 140.8, 1478.2 140.6 Q 1478.0 140.3, 1477.6 140.1 Q 1477.2 139.9, 1476.6 139.7 L 1476.0 139.5 Q 1475.4 139.9, 1475.1 140.3 Q 1474.9 140.7, 1474.9 141.3 Q 1474.9 142.0, 1475.4 142.5 Q 1475.9 142.9, 1476.7 142.9 \" fill=\"#000000\"/>\n",
       "<path class=\"legend\" d=\"M 1486.0 140.7 L 1487.1 140.7 L 1487.1 141.7 L 1486.0 141.7 L 1486.0 143.7 L 1484.9 143.7 L 1484.9 141.7 L 1480.5 141.7 L 1480.5 140.9 L 1484.2 135.1 L 1486.0 135.1 L 1486.0 140.7 M 1481.9 140.7 L 1484.9 140.7 L 1484.9 135.9 L 1481.9 140.7 \" fill=\"#000000\"/>\n",
       "<path class=\"legend\" d=\"M 1487.7 136.7 Q 1488.0 135.9, 1488.7 135.5 Q 1489.5 135.0, 1490.5 135.0 Q 1491.8 135.0, 1492.6 135.7 Q 1493.3 136.4, 1493.3 137.6 Q 1493.3 138.9, 1492.3 140.1 Q 1491.4 141.3, 1489.5 142.7 L 1493.4 142.7 L 1493.4 143.7 L 1487.7 143.7 L 1487.7 142.9 Q 1489.3 141.7, 1490.2 140.9 Q 1491.2 140.0, 1491.6 139.3 Q 1492.1 138.5, 1492.1 137.7 Q 1492.1 136.9, 1491.7 136.4 Q 1491.2 136.0, 1490.5 136.0 Q 1489.8 136.0, 1489.4 136.2 Q 1488.9 136.5, 1488.6 137.1 L 1487.7 136.7 \" fill=\"#000000\"/>\n",
       "<path class=\"legend\" d=\"M 1498.5 139.1 Q 1499.3 139.5, 1499.8 140.0 Q 1500.2 140.5, 1500.2 141.3 Q 1500.2 142.0, 1499.8 142.6 Q 1499.5 143.2, 1498.8 143.5 Q 1498.1 143.8, 1497.2 143.8 Q 1495.8 143.8, 1495.0 143.1 Q 1494.2 142.5, 1494.2 141.3 Q 1494.2 140.6, 1494.5 140.1 Q 1494.9 139.6, 1495.6 139.2 Q 1495.1 138.8, 1494.8 138.4 Q 1494.5 137.9, 1494.5 137.2 Q 1494.5 136.2, 1495.2 135.6 Q 1495.9 135.0, 1497.2 135.0 Q 1498.4 135.0, 1499.1 135.6 Q 1499.9 136.2, 1499.9 137.2 Q 1499.9 137.8, 1499.5 138.3 Q 1499.2 138.8, 1498.5 139.1 M 1497.2 135.9 Q 1496.5 135.9, 1496.1 136.2 Q 1495.7 136.6, 1495.7 137.2 Q 1495.7 137.6, 1495.9 137.9 Q 1496.2 138.2, 1496.6 138.4 Q 1497.0 138.6, 1497.7 138.8 Q 1498.2 138.5, 1498.4 138.1 Q 1498.7 137.7, 1498.7 137.2 Q 1498.7 136.6, 1498.3 136.2 Q 1497.9 135.9, 1497.2 135.9 M 1497.2 142.9 Q 1498.0 142.9, 1498.5 142.5 Q 1499.0 142.0, 1499.0 141.3 Q 1499.0 140.8, 1498.7 140.6 Q 1498.5 140.3, 1498.1 140.1 Q 1497.7 139.9, 1497.0 139.7 L 1496.5 139.5 Q 1495.9 139.9, 1495.6 140.3 Q 1495.4 140.7, 1495.4 141.3 Q 1495.4 142.0, 1495.9 142.5 Q 1496.4 142.9, 1497.2 142.9 \" fill=\"#000000\"/>\n",
       "<path class=\"legend\" d=\"M 1505.5 136.1 L 1501.0 136.1 L 1501.0 135.1 L 1506.6 135.1 L 1506.6 136.0 L 1503.2 143.7 L 1502.0 143.7 L 1505.5 136.1 \" fill=\"#000000\"/>\n",
       "<path class=\"bond-0 atom-0 atom-1\" d=\"M 69.9,218.2 L 87.5,209.1\" style=\"fill:none;fill-rule:evenodd;stroke:#000000;stroke-width:2.0px;stroke-linecap:butt;stroke-linejoin:miter;stroke-opacity:1\"/>\n",
       "<path class=\"bond-1 atom-1 atom-2\" d=\"M 87.5,209.1 L 104.1,219.8\" style=\"fill:none;fill-rule:evenodd;stroke:#000000;stroke-width:2.0px;stroke-linecap:butt;stroke-linejoin:miter;stroke-opacity:1\"/>\n",
       "<path class=\"bond-2 atom-2 atom-3\" d=\"M 104.1,219.8 L 121.7,210.7\" style=\"fill:none;fill-rule:evenodd;stroke:#000000;stroke-width:2.0px;stroke-linecap:butt;stroke-linejoin:miter;stroke-opacity:1\"/>\n",
       "<path class=\"bond-3 atom-3 atom-4\" d=\"M 121.7,210.7 L 138.3,221.4\" style=\"fill:none;fill-rule:evenodd;stroke:#000000;stroke-width:2.0px;stroke-linecap:butt;stroke-linejoin:miter;stroke-opacity:1\"/>\n",
       "<path class=\"bond-4 atom-4 atom-5\" d=\"M 138.3,221.4 L 155.9,212.3\" style=\"fill:none;fill-rule:evenodd;stroke:#000000;stroke-width:2.0px;stroke-linecap:butt;stroke-linejoin:miter;stroke-opacity:1\"/>\n",
       "<path class=\"bond-5 atom-5 atom-6\" d=\"M 155.9,212.3 L 172.6,223.0\" style=\"fill:none;fill-rule:evenodd;stroke:#000000;stroke-width:2.0px;stroke-linecap:butt;stroke-linejoin:miter;stroke-opacity:1\"/>\n",
       "<path class=\"bond-6 atom-6 atom-7\" d=\"M 172.6,223.0 L 190.2,213.9\" style=\"fill:none;fill-rule:evenodd;stroke:#000000;stroke-width:2.0px;stroke-linecap:butt;stroke-linejoin:miter;stroke-opacity:1\"/>\n",
       "<path class=\"bond-7 atom-7 atom-8\" d=\"M 190.2,213.9 L 206.8,224.6\" style=\"fill:none;fill-rule:evenodd;stroke:#000000;stroke-width:2.0px;stroke-linecap:butt;stroke-linejoin:miter;stroke-opacity:1\"/>\n",
       "<path class=\"bond-8 atom-8 atom-9\" d=\"M 206.8,224.6 L 224.4,215.5\" style=\"fill:none;fill-rule:evenodd;stroke:#000000;stroke-width:2.0px;stroke-linecap:butt;stroke-linejoin:miter;stroke-opacity:1\"/>\n",
       "<path class=\"bond-9 atom-9 atom-10\" d=\"M 224.4,215.5 L 241.0,226.2\" style=\"fill:none;fill-rule:evenodd;stroke:#000000;stroke-width:2.0px;stroke-linecap:butt;stroke-linejoin:miter;stroke-opacity:1\"/>\n",
       "<path class=\"bond-10 atom-10 atom-11\" d=\"M 241.0,226.2 L 258.6,217.1\" style=\"fill:none;fill-rule:evenodd;stroke:#000000;stroke-width:2.0px;stroke-linecap:butt;stroke-linejoin:miter;stroke-opacity:1\"/>\n",
       "<path class=\"bond-11 atom-11 atom-12\" d=\"M 256.6,217.0 L 257.0,208.9\" style=\"fill:none;fill-rule:evenodd;stroke:#000000;stroke-width:2.0px;stroke-linecap:butt;stroke-linejoin:miter;stroke-opacity:1\"/>\n",
       "<path class=\"bond-11 atom-11 atom-12\" d=\"M 257.0,208.9 L 257.4,200.8\" style=\"fill:none;fill-rule:evenodd;stroke:#FF0000;stroke-width:2.0px;stroke-linecap:butt;stroke-linejoin:miter;stroke-opacity:1\"/>\n",
       "<path class=\"bond-11 atom-11 atom-12\" d=\"M 260.6,217.2 L 261.0,209.1\" style=\"fill:none;fill-rule:evenodd;stroke:#000000;stroke-width:2.0px;stroke-linecap:butt;stroke-linejoin:miter;stroke-opacity:1\"/>\n",
       "<path class=\"bond-11 atom-11 atom-12\" d=\"M 261.0,209.1 L 261.3,201.0\" style=\"fill:none;fill-rule:evenodd;stroke:#FF0000;stroke-width:2.0px;stroke-linecap:butt;stroke-linejoin:miter;stroke-opacity:1\"/>\n",
       "<path class=\"bond-12 atom-11 atom-13\" d=\"M 258.6,217.1 L 265.3,221.4\" style=\"fill:none;fill-rule:evenodd;stroke:#000000;stroke-width:2.0px;stroke-linecap:butt;stroke-linejoin:miter;stroke-opacity:1\"/>\n",
       "<path class=\"bond-12 atom-11 atom-13\" d=\"M 265.3,221.4 L 272.0,225.7\" style=\"fill:none;fill-rule:evenodd;stroke:#FF0000;stroke-width:2.0px;stroke-linecap:butt;stroke-linejoin:miter;stroke-opacity:1\"/>\n",
       "<path class=\"bond-13 atom-13 atom-14\" d=\"M 278.5,226.1 L 285.7,222.4\" style=\"fill:none;fill-rule:evenodd;stroke:#FF0000;stroke-width:2.0px;stroke-linecap:butt;stroke-linejoin:miter;stroke-opacity:1\"/>\n",
       "<path class=\"bond-13 atom-13 atom-14\" d=\"M 285.7,222.4 L 292.8,218.7\" style=\"fill:none;fill-rule:evenodd;stroke:#000000;stroke-width:2.0px;stroke-linecap:butt;stroke-linejoin:miter;stroke-opacity:1\"/>\n",
       "<path class=\"bond-14 atom-14 atom-15\" d=\"M 292.8,218.7 L 310.6,227.7 L 308.4,231.0 Z\" style=\"fill:#000000;fill-rule:evenodd;fill-opacity:1;stroke:#000000;stroke-width:1.0px;stroke-linecap:butt;stroke-linejoin:miter;stroke-opacity:1;\"/>\n",
       "<path class=\"bond-15 atom-15 atom-16\" d=\"M 309.5,229.4 L 308.6,249.1\" style=\"fill:none;fill-rule:evenodd;stroke:#000000;stroke-width:2.0px;stroke-linecap:butt;stroke-linejoin:miter;stroke-opacity:1\"/>\n",
       "<path class=\"bond-16 atom-16 atom-17\" d=\"M 308.6,249.1 L 315.3,253.4\" style=\"fill:none;fill-rule:evenodd;stroke:#000000;stroke-width:2.0px;stroke-linecap:butt;stroke-linejoin:miter;stroke-opacity:1\"/>\n",
       "<path class=\"bond-16 atom-16 atom-17\" d=\"M 315.3,253.4 L 322.0,257.7\" style=\"fill:none;fill-rule:evenodd;stroke:#FF0000;stroke-width:2.0px;stroke-linecap:butt;stroke-linejoin:miter;stroke-opacity:1\"/>\n",
       "<path class=\"bond-17 atom-16 atom-18\" d=\"M 309.5,250.9 L 302.3,254.6\" style=\"fill:none;fill-rule:evenodd;stroke:#000000;stroke-width:2.0px;stroke-linecap:butt;stroke-linejoin:miter;stroke-opacity:1\"/>\n",
       "<path class=\"bond-17 atom-16 atom-18\" d=\"M 302.3,254.6 L 295.1,258.3\" style=\"fill:none;fill-rule:evenodd;stroke:#FF0000;stroke-width:2.0px;stroke-linecap:butt;stroke-linejoin:miter;stroke-opacity:1\"/>\n",
       "<path class=\"bond-17 atom-16 atom-18\" d=\"M 307.7,247.4 L 300.5,251.1\" style=\"fill:none;fill-rule:evenodd;stroke:#000000;stroke-width:2.0px;stroke-linecap:butt;stroke-linejoin:miter;stroke-opacity:1\"/>\n",
       "<path class=\"bond-17 atom-16 atom-18\" d=\"M 300.5,251.1 L 293.3,254.8\" style=\"fill:none;fill-rule:evenodd;stroke:#FF0000;stroke-width:2.0px;stroke-linecap:butt;stroke-linejoin:miter;stroke-opacity:1\"/>\n",
       "<path class=\"bond-18 atom-14 atom-19\" d=\"M 292.8,218.7 L 293.8,198.9\" style=\"fill:none;fill-rule:evenodd;stroke:#000000;stroke-width:2.0px;stroke-linecap:butt;stroke-linejoin:miter;stroke-opacity:1\"/>\n",
       "<path class=\"bond-19 atom-19 atom-20\" d=\"M 293.8,198.9 L 301.2,195.1\" style=\"fill:none;fill-rule:evenodd;stroke:#000000;stroke-width:2.0px;stroke-linecap:butt;stroke-linejoin:miter;stroke-opacity:1\"/>\n",
       "<path class=\"bond-19 atom-19 atom-20\" d=\"M 301.2,195.1 L 308.6,191.3\" style=\"fill:none;fill-rule:evenodd;stroke:#0000FF;stroke-width:2.0px;stroke-linecap:butt;stroke-linejoin:miter;stroke-opacity:1\"/>\n",
       "<path class=\"bond-20 atom-20 atom-21\" d=\"M 309.5,186.4 L 305.9,179.3\" style=\"fill:none;fill-rule:evenodd;stroke:#0000FF;stroke-width:2.0px;stroke-linecap:butt;stroke-linejoin:miter;stroke-opacity:1\"/>\n",
       "<path class=\"bond-20 atom-20 atom-21\" d=\"M 305.9,179.3 L 302.2,172.3\" style=\"fill:none;fill-rule:evenodd;stroke:#000000;stroke-width:2.0px;stroke-linecap:butt;stroke-linejoin:miter;stroke-opacity:1\"/>\n",
       "<path class=\"bond-21 atom-20 atom-22\" d=\"M 313.1,193.3 L 316.8,200.4\" style=\"fill:none;fill-rule:evenodd;stroke:#0000FF;stroke-width:2.0px;stroke-linecap:butt;stroke-linejoin:miter;stroke-opacity:1\"/>\n",
       "<path class=\"bond-21 atom-20 atom-22\" d=\"M 316.8,200.4 L 320.4,207.4\" style=\"fill:none;fill-rule:evenodd;stroke:#000000;stroke-width:2.0px;stroke-linecap:butt;stroke-linejoin:miter;stroke-opacity:1\"/>\n",
       "<path class=\"bond-22 atom-20 atom-23\" d=\"M 317.2,186.8 L 323.1,183.8\" style=\"fill:none;fill-rule:evenodd;stroke:#0000FF;stroke-width:2.0px;stroke-linecap:butt;stroke-linejoin:miter;stroke-opacity:1\"/>\n",
       "<path class=\"bond-22 atom-20 atom-23\" d=\"M 323.1,183.8 L 328.9,180.8\" style=\"fill:none;fill-rule:evenodd;stroke:#000000;stroke-width:2.0px;stroke-linecap:butt;stroke-linejoin:miter;stroke-opacity:1\"/>\n",
       "<path class=\"atom-12\" d=\"M 257.0 197.4 Q 257.0 196.0, 257.6 195.3 Q 258.3 194.5, 259.5 194.5 Q 260.8 194.5, 261.4 195.3 Q 262.1 196.0, 262.1 197.4 Q 262.1 198.7, 261.4 199.5 Q 260.8 200.3, 259.5 200.3 Q 258.3 200.3, 257.6 199.5 Q 257.0 198.7, 257.0 197.4 M 259.5 199.6 Q 260.4 199.6, 260.8 199.1 Q 261.3 198.5, 261.3 197.4 Q 261.3 196.3, 260.8 195.7 Q 260.4 195.1, 259.5 195.1 Q 258.7 195.1, 258.2 195.7 Q 257.7 196.2, 257.7 197.4 Q 257.7 198.5, 258.2 199.1 Q 258.7 199.6, 259.5 199.6 \" fill=\"#FF0000\"/>\n",
       "<path class=\"atom-13\" d=\"M 272.7 227.8 Q 272.7 226.4, 273.4 225.7 Q 274.0 224.9, 275.3 224.9 Q 276.5 224.9, 277.2 225.7 Q 277.8 226.4, 277.8 227.8 Q 277.8 229.2, 277.2 229.9 Q 276.5 230.7, 275.3 230.7 Q 274.0 230.7, 273.4 229.9 Q 272.7 229.2, 272.7 227.8 M 275.3 230.1 Q 276.1 230.1, 276.6 229.5 Q 277.0 228.9, 277.0 227.8 Q 277.0 226.7, 276.6 226.1 Q 276.1 225.6, 275.3 225.6 Q 274.4 225.6, 273.9 226.1 Q 273.5 226.7, 273.5 227.8 Q 273.5 228.9, 273.9 229.5 Q 274.4 230.1, 275.3 230.1 \" fill=\"#FF0000\"/>\n",
       "<path class=\"atom-17\" d=\"M 322.7 259.8 Q 322.7 258.5, 323.3 257.7 Q 324.0 257.0, 325.2 257.0 Q 326.5 257.0, 327.1 257.7 Q 327.8 258.5, 327.8 259.8 Q 327.8 261.2, 327.1 262.0 Q 326.5 262.7, 325.2 262.7 Q 324.0 262.7, 323.3 262.0 Q 322.7 261.2, 322.7 259.8 M 325.2 262.1 Q 326.1 262.1, 326.5 261.5 Q 327.0 260.9, 327.0 259.8 Q 327.0 258.7, 326.5 258.2 Q 326.1 257.6, 325.2 257.6 Q 324.4 257.6, 323.9 258.2 Q 323.4 258.7, 323.4 259.8 Q 323.4 261.0, 323.9 261.5 Q 324.4 262.1, 325.2 262.1 \" fill=\"#FF0000\"/>\n",
       "<path class=\"atom-17\" d=\"M 328.2 257.9 L 330.1 257.9 L 330.1 258.3 L 328.2 258.3 L 328.2 257.9 \" fill=\"#FF0000\"/>\n",
       "<path class=\"atom-18\" d=\"M 288.4 258.2 Q 288.4 256.9, 289.1 256.1 Q 289.8 255.4, 291.0 255.4 Q 292.2 255.4, 292.9 256.1 Q 293.6 256.9, 293.6 258.2 Q 293.6 259.6, 292.9 260.4 Q 292.2 261.1, 291.0 261.1 Q 289.8 261.1, 289.1 260.4 Q 288.4 259.6, 288.4 258.2 M 291.0 260.5 Q 291.9 260.5, 292.3 259.9 Q 292.8 259.4, 292.8 258.2 Q 292.8 257.1, 292.3 256.6 Q 291.9 256.0, 291.0 256.0 Q 290.1 256.0, 289.7 256.6 Q 289.2 257.1, 289.2 258.2 Q 289.2 259.4, 289.7 259.9 Q 290.1 260.5, 291.0 260.5 \" fill=\"#FF0000\"/>\n",
       "<path class=\"atom-20\" d=\"M 310.1 187.0 L 311.9 190.0 Q 312.1 190.3, 312.4 190.8 Q 312.7 191.4, 312.7 191.4 L 312.7 187.0 L 313.5 187.0 L 313.5 192.6 L 312.7 192.6 L 310.7 189.4 Q 310.5 189.0, 310.2 188.6 Q 310.0 188.2, 309.9 188.0 L 309.9 192.6 L 309.2 192.6 L 309.2 187.0 L 310.1 187.0 \" fill=\"#0000FF\"/>\n",
       "<path class=\"atom-20\" d=\"M 314.1 188.1 L 315.1 188.1 L 315.1 187.0 L 315.5 187.0 L 315.5 188.1 L 316.6 188.1 L 316.6 188.4 L 315.5 188.4 L 315.5 189.5 L 315.1 189.5 L 315.1 188.4 L 314.1 188.4 L 314.1 188.1 \" fill=\"#0000FF\"/>\n",
       "<path class=\"legend\" d=\"M 79.9 285.1 L 85.4 285.1 L 85.4 286.2 L 81.1 286.2 L 81.1 289.0 L 84.9 289.0 L 84.9 290.1 L 81.1 290.1 L 81.1 294.4 L 79.9 294.4 L 79.9 285.1 \" fill=\"#000000\"/>\n",
       "<path class=\"legend\" d=\"M 86.9 285.1 L 86.9 291.4 Q 86.9 292.4, 87.5 292.9 Q 88.1 293.4, 89.3 293.4 Q 90.5 293.4, 91.1 293.0 Q 91.7 292.5, 91.7 291.5 L 91.7 285.1 L 92.9 285.1 L 92.9 291.5 Q 92.9 292.9, 92.0 293.7 Q 91.1 294.5, 89.3 294.5 Q 87.5 294.5, 86.6 293.7 Q 85.7 292.9, 85.7 291.5 L 85.7 285.1 L 86.9 285.1 \" fill=\"#000000\"/>\n",
       "<path class=\"legend\" d=\"M 94.0 295.3 Q 94.0 295.3, 94.6 294.9 Q 95.1 294.6, 95.6 294.1 Q 96.1 293.5, 96.1 292.8 L 96.1 286.2 L 94.2 286.2 L 94.2 285.1 L 97.3 285.1 L 97.3 292.8 Q 97.3 293.9, 96.7 294.6 Q 96.1 295.4, 95.3 295.9 Q 94.5 296.3, 94.5 296.2 L 94.0 295.3 \" fill=\"#000000\"/>\n",
       "<path class=\"legend\" d=\"M 98.4 285.1 L 99.7 285.1 L 99.7 293.3 L 103.9 293.3 L 103.9 294.4 L 98.4 294.4 L 98.4 285.1 \" fill=\"#000000\"/>\n",
       "<path class=\"legend\" d=\"M 107.4 290.5 L 104.3 285.1 L 105.7 285.1 L 108.0 289.3 L 110.3 285.1 L 111.7 285.1 L 108.6 290.5 L 108.6 294.4 L 107.4 294.4 L 107.4 290.5 \" fill=\"#000000\"/>\n",
       "<path class=\"legend\" d=\"M 111.7 285.1 L 113.0 285.1 L 113.0 289.1 L 117.7 289.1 L 117.7 285.1 L 119.0 285.1 L 119.0 294.4 L 117.7 294.4 L 117.7 290.1 L 113.0 290.1 L 113.0 294.4 L 111.7 294.4 L 111.7 285.1 \" fill=\"#000000\"/>\n",
       "<path class=\"legend\" d=\"M 120.1 295.3 Q 120.1 295.3, 120.7 294.9 Q 121.3 294.6, 121.7 294.1 Q 122.2 293.5, 122.2 292.8 L 122.2 286.2 L 120.4 286.2 L 120.4 285.1 L 123.4 285.1 L 123.4 292.8 Q 123.4 293.9, 122.8 294.6 Q 122.2 295.4, 121.4 295.9 Q 120.7 296.3, 120.7 296.2 L 120.1 295.3 \" fill=\"#000000\"/>\n",
       "<path class=\"legend\" d=\"M 129.6 294.4 L 127.3 290.6 L 127.3 290.6 L 125.8 290.6 L 125.8 294.4 L 124.6 294.4 L 124.6 285.1 L 127.3 285.1 Q 128.9 285.1, 129.7 285.8 Q 130.5 286.5, 130.5 287.8 Q 130.5 288.8, 130.0 289.5 Q 129.6 290.2, 128.6 290.4 L 131.0 294.4 L 129.6 294.4 M 125.8 289.5 L 127.3 289.5 Q 128.2 289.5, 128.7 289.1 Q 129.2 288.7, 129.2 287.8 Q 129.2 287.0, 128.7 286.6 Q 128.2 286.2, 127.3 286.2 L 125.8 286.2 L 125.8 289.5 \" fill=\"#000000\"/>\n",
       "<path class=\"legend\" d=\"M 131.3 289.7 Q 131.3 287.5, 132.4 286.2 Q 133.5 285.0, 135.6 285.0 Q 137.6 285.0, 138.7 286.2 Q 139.8 287.5, 139.8 289.7 Q 139.8 292.0, 138.7 293.3 Q 137.6 294.6, 135.6 294.6 Q 133.5 294.6, 132.4 293.3 Q 131.3 292.0, 131.3 289.7 M 135.6 293.5 Q 137.0 293.5, 137.7 292.6 Q 138.5 291.6, 138.5 289.7 Q 138.5 287.9, 137.7 287.0 Q 137.0 286.1, 135.6 286.1 Q 134.1 286.1, 133.4 287.0 Q 132.6 287.9, 132.6 289.7 Q 132.6 291.6, 133.4 292.6 Q 134.1 293.5, 135.6 293.5 \" fill=\"#000000\"/>\n",
       "<path class=\"legend\" d=\"M 140.5 289.7 Q 140.5 287.5, 141.6 286.2 Q 142.7 285.0, 144.8 285.0 Q 146.8 285.0, 147.9 286.2 Q 149.0 287.5, 149.0 289.7 Q 149.0 292.0, 147.9 293.3 Q 146.8 294.6, 144.8 294.6 Q 142.7 294.6, 141.6 293.3 Q 140.5 292.0, 140.5 289.7 M 144.8 293.5 Q 146.2 293.5, 146.9 292.6 Q 147.7 291.6, 147.7 289.7 Q 147.7 287.9, 146.9 287.0 Q 146.2 286.1, 144.8 286.1 Q 143.3 286.1, 142.6 287.0 Q 141.8 287.9, 141.8 289.7 Q 141.8 291.6, 142.6 292.6 Q 143.3 293.5, 144.8 293.5 \" fill=\"#000000\"/>\n",
       "<path class=\"legend\" d=\"M 152.8 290.5 L 149.7 285.1 L 151.1 285.1 L 153.4 289.3 L 155.7 285.1 L 157.1 285.1 L 154.0 290.5 L 154.0 294.4 L 152.8 294.4 L 152.8 290.5 \" fill=\"#000000\"/>\n",
       "<path class=\"legend\" d=\"M 157.1 285.1 L 158.4 285.1 L 158.4 294.4 L 157.1 294.4 L 157.1 285.1 M 162.3 285.1 L 164.0 285.1 L 160.3 289.3 L 164.3 294.4 L 162.6 294.4 L 158.7 289.4 L 162.3 285.1 \" fill=\"#000000\"/>\n",
       "<path class=\"legend\" d=\"M 169.4 294.4 L 167.2 290.6 L 167.1 290.6 L 165.6 290.6 L 165.6 294.4 L 164.4 294.4 L 164.4 285.1 L 167.1 285.1 Q 168.7 285.1, 169.5 285.8 Q 170.3 286.5, 170.3 287.8 Q 170.3 288.8, 169.8 289.5 Q 169.4 290.2, 168.4 290.4 L 170.8 294.4 L 169.4 294.4 M 165.6 289.5 L 167.1 289.5 Q 168.0 289.5, 168.5 289.1 Q 169.0 288.7, 169.0 287.8 Q 169.0 287.0, 168.5 286.6 Q 168.0 286.2, 167.1 286.2 L 165.6 286.2 L 165.6 289.5 \" fill=\"#000000\"/>\n",
       "<path class=\"legend\" d=\"M 178.0 294.4 L 177.0 291.7 L 173.3 291.7 L 172.4 294.4 L 171.1 294.4 L 174.3 285.1 L 175.9 285.1 L 179.2 294.4 L 178.0 294.4 M 173.7 290.6 L 176.6 290.6 L 175.1 286.4 L 173.7 290.6 \" fill=\"#000000\"/>\n",
       "<path class=\"legend\" d=\"\" fill=\"#000000\"/>\n",
       "<path class=\"legend\" d=\"M 183.7 292.9 L 185.0 292.9 L 185.0 294.2 L 183.7 294.2 L 183.7 292.9 M 183.7 288.4 L 185.0 288.4 L 185.0 289.7 L 183.7 289.7 L 183.7 288.4 \" fill=\"#000000\"/>\n",
       "<path class=\"legend\" d=\"\" fill=\"#000000\"/>\n",
       "<path class=\"legend\" d=\"M 190.4 289.7 Q 190.4 287.4, 191.5 286.2 Q 192.6 285.0, 194.6 285.0 Q 196.5 285.0, 197.6 286.4 L 196.7 287.1 Q 196.0 286.1, 194.6 286.1 Q 193.2 286.1, 192.5 287.0 Q 191.7 288.0, 191.7 289.7 Q 191.7 291.6, 192.5 292.5 Q 193.3 293.5, 194.8 293.5 Q 195.8 293.5, 197.0 292.9 L 197.4 293.8 Q 196.9 294.2, 196.1 294.3 Q 195.4 294.5, 194.6 294.5 Q 192.6 294.5, 191.5 293.3 Q 190.4 292.1, 190.4 289.7 \" fill=\"#000000\"/>\n",
       "<path class=\"legend\" d=\"M 198.1 289.7 Q 198.1 287.4, 199.2 286.2 Q 200.3 285.0, 202.3 285.0 Q 204.2 285.0, 205.3 286.4 L 204.4 287.1 Q 203.7 286.1, 202.3 286.1 Q 200.9 286.1, 200.2 287.0 Q 199.4 288.0, 199.4 289.7 Q 199.4 291.6, 200.2 292.5 Q 201.0 293.5, 202.5 293.5 Q 203.5 293.5, 204.7 292.9 L 205.1 293.8 Q 204.6 294.2, 203.8 294.3 Q 203.1 294.5, 202.3 294.5 Q 200.3 294.5, 199.2 293.3 Q 198.1 292.1, 198.1 289.7 \" fill=\"#000000\"/>\n",
       "<path class=\"legend\" d=\"M 216.4 294.4 L 215.2 294.4 L 214.3 286.8 L 211.8 294.4 L 210.5 294.4 L 208.0 286.8 L 207.0 294.4 L 205.8 294.4 L 207.0 285.1 L 208.5 285.1 L 211.1 292.6 L 213.7 285.1 L 215.2 285.1 L 216.4 294.4 \" fill=\"#000000\"/>\n",
       "<path class=\"legend\" d=\"M 217.6 293.0 Q 217.7 293.0, 218.2 293.2 Q 218.6 293.4, 219.1 293.5 Q 219.6 293.6, 220.0 293.6 Q 220.9 293.6, 221.4 293.2 Q 222.0 292.7, 222.0 292.0 Q 222.0 291.5, 221.7 291.2 Q 221.4 290.8, 221.0 290.7 Q 220.7 290.5, 220.0 290.3 Q 219.2 290.1, 218.7 289.8 Q 218.2 289.6, 217.8 289.1 Q 217.5 288.6, 217.5 287.7 Q 217.5 286.6, 218.3 285.9 Q 219.1 285.1, 220.7 285.1 Q 221.7 285.1, 223.0 285.6 L 222.6 286.7 Q 221.5 286.2, 220.7 286.2 Q 219.8 286.2, 219.3 286.6 Q 218.8 286.9, 218.8 287.6 Q 218.8 288.1, 219.0 288.4 Q 219.3 288.7, 219.7 288.9 Q 220.1 289.0, 220.7 289.2 Q 221.5 289.5, 222.0 289.8 Q 222.5 290.0, 222.9 290.6 Q 223.3 291.1, 223.3 292.0 Q 223.3 293.3, 222.4 294.0 Q 221.5 294.7, 220.1 294.7 Q 219.3 294.7, 218.6 294.5 Q 218.0 294.3, 217.3 294.0 L 217.6 293.0 \" fill=\"#000000\"/>\n",
       "<path class=\"legend\" d=\"M 223.9 285.1 L 225.1 285.1 L 225.1 293.3 L 229.4 293.3 L 229.4 294.4 L 223.9 294.4 L 223.9 285.1 \" fill=\"#000000\"/>\n",
       "<path class=\"legend\" d=\"M 229.7 285.1 L 231.0 285.1 L 231.0 294.4 L 229.7 294.4 L 229.7 285.1 \" fill=\"#000000\"/>\n",
       "<path class=\"legend\" d=\"M 236.7 289.5 Q 237.6 289.8, 238.0 290.3 Q 238.5 290.9, 238.5 291.7 Q 238.5 293.0, 237.6 293.7 Q 236.8 294.4, 235.3 294.4 L 232.2 294.4 L 232.2 285.1 L 234.9 285.1 Q 236.5 285.1, 237.3 285.7 Q 238.1 286.4, 238.1 287.6 Q 238.1 289.0, 236.7 289.5 M 233.4 286.2 L 233.4 289.1 L 234.9 289.1 Q 235.8 289.1, 236.3 288.7 Q 236.8 288.3, 236.8 287.6 Q 236.8 286.2, 234.9 286.2 L 233.4 286.2 M 235.3 293.4 Q 236.2 293.4, 236.7 292.9 Q 237.2 292.5, 237.2 291.7 Q 237.2 290.9, 236.6 290.5 Q 236.1 290.1, 235.1 290.1 L 233.4 290.1 L 233.4 293.4 L 235.3 293.4 \" fill=\"#000000\"/>\n",
       "<path class=\"legend\" d=\"M 242.5 294.5 Q 240.8 294.5, 239.9 293.3 Q 239.1 292.0, 239.1 289.7 Q 239.1 287.5, 239.9 286.2 Q 240.8 285.0, 242.5 285.0 Q 244.2 285.0, 245.0 286.2 Q 245.9 287.5, 245.9 289.7 Q 245.9 292.0, 245.0 293.3 Q 244.2 294.5, 242.5 294.5 M 242.5 293.5 Q 243.5 293.5, 244.0 292.5 Q 244.6 291.6, 244.6 289.7 Q 244.6 287.9, 244.0 287.0 Q 243.5 286.1, 242.5 286.1 Q 241.5 286.1, 240.9 287.0 Q 240.4 287.9, 240.4 289.7 Q 240.4 291.6, 240.9 292.5 Q 241.5 293.5, 242.5 293.5 \" fill=\"#000000\"/>\n",
       "<path class=\"legend\" d=\"M 250.1 294.5 Q 248.4 294.5, 247.6 293.3 Q 246.7 292.0, 246.7 289.7 Q 246.7 287.5, 247.6 286.2 Q 248.4 285.0, 250.1 285.0 Q 251.9 285.0, 252.7 286.2 Q 253.5 287.5, 253.5 289.7 Q 253.5 292.0, 252.7 293.3 Q 251.9 294.5, 250.1 294.5 M 250.1 293.5 Q 251.2 293.5, 251.7 292.5 Q 252.2 291.6, 252.2 289.7 Q 252.2 287.9, 251.7 287.0 Q 251.2 286.1, 250.1 286.1 Q 249.1 286.1, 248.6 287.0 Q 248.1 287.9, 248.1 289.7 Q 248.1 291.6, 248.6 292.5 Q 249.1 293.5, 250.1 293.5 \" fill=\"#000000\"/>\n",
       "<path class=\"legend\" d=\"M 257.8 294.5 Q 256.1 294.5, 255.2 293.3 Q 254.4 292.0, 254.4 289.7 Q 254.4 287.5, 255.2 286.2 Q 256.1 285.0, 257.8 285.0 Q 259.5 285.0, 260.4 286.2 Q 261.2 287.5, 261.2 289.7 Q 261.2 292.0, 260.4 293.3 Q 259.5 294.5, 257.8 294.5 M 257.8 293.5 Q 258.8 293.5, 259.4 292.5 Q 259.9 291.6, 259.9 289.7 Q 259.9 287.9, 259.4 287.0 Q 258.8 286.1, 257.8 286.1 Q 256.8 286.1, 256.3 287.0 Q 255.7 287.9, 255.7 289.7 Q 255.7 291.6, 256.3 292.5 Q 256.8 293.5, 257.8 293.5 \" fill=\"#000000\"/>\n",
       "<path class=\"legend\" d=\"M 265.5 294.5 Q 263.8 294.5, 262.9 293.3 Q 262.1 292.0, 262.1 289.7 Q 262.1 287.5, 262.9 286.2 Q 263.7 285.0, 265.5 285.0 Q 267.2 285.0, 268.0 286.2 Q 268.9 287.5, 268.9 289.7 Q 268.9 292.0, 268.0 293.3 Q 267.2 294.5, 265.5 294.5 M 265.5 293.5 Q 266.5 293.5, 267.0 292.5 Q 267.6 291.6, 267.6 289.7 Q 267.6 287.9, 267.0 287.0 Q 266.5 286.1, 265.5 286.1 Q 264.5 286.1, 263.9 287.0 Q 263.4 287.9, 263.4 289.7 Q 263.4 291.6, 263.9 292.5 Q 264.5 293.5, 265.5 293.5 \" fill=\"#000000\"/>\n",
       "<path class=\"legend\" d=\"M 273.1 288.6 Q 273.9 288.6, 274.6 288.9 Q 275.3 289.3, 275.6 289.9 Q 276.0 290.6, 276.0 291.5 Q 276.0 292.4, 275.5 293.1 Q 275.1 293.8, 274.3 294.2 Q 273.6 294.5, 272.7 294.5 Q 271.8 294.5, 271.1 294.2 Q 270.3 293.9, 269.7 293.3 L 270.5 292.5 Q 270.9 292.9, 271.5 293.2 Q 272.1 293.5, 272.7 293.5 Q 273.6 293.5, 274.1 292.9 Q 274.7 292.4, 274.7 291.5 Q 274.7 290.5, 274.1 290.0 Q 273.6 289.6, 272.7 289.6 Q 271.8 289.6, 270.9 289.9 L 270.2 289.6 L 270.7 285.1 L 275.4 285.1 L 275.3 286.2 L 271.7 286.2 L 271.5 288.9 Q 272.3 288.6, 273.1 288.6 \" fill=\"#000000\"/>\n",
       "<path class=\"legend\" d=\"M 281.4 289.5 Q 282.3 289.8, 282.7 290.4 Q 283.2 290.9, 283.2 291.9 Q 283.2 292.6, 282.8 293.3 Q 282.4 293.9, 281.7 294.2 Q 280.9 294.5, 280.0 294.5 Q 278.4 294.5, 277.5 293.8 Q 276.7 293.1, 276.7 291.9 Q 276.7 291.1, 277.0 290.5 Q 277.4 290.0, 278.3 289.5 Q 277.7 289.2, 277.3 288.7 Q 277.0 288.2, 277.0 287.4 Q 277.0 286.3, 277.8 285.6 Q 278.6 285.0, 279.9 285.0 Q 281.3 285.0, 282.1 285.6 Q 282.9 286.3, 282.9 287.4 Q 282.9 288.1, 282.5 288.6 Q 282.1 289.1, 281.4 289.5 M 279.9 286.0 Q 279.2 286.0, 278.7 286.4 Q 278.3 286.7, 278.3 287.4 Q 278.3 287.9, 278.6 288.2 Q 278.9 288.5, 279.3 288.7 Q 279.7 288.9, 280.5 289.2 Q 281.1 288.8, 281.3 288.3 Q 281.6 287.9, 281.6 287.4 Q 281.6 286.7, 281.1 286.4 Q 280.7 286.0, 279.9 286.0 M 280.0 293.6 Q 280.9 293.6, 281.4 293.1 Q 281.9 292.6, 281.9 291.8 Q 281.9 291.3, 281.6 291.0 Q 281.4 290.7, 280.9 290.5 Q 280.5 290.3, 279.8 290.1 L 279.2 289.9 Q 278.5 290.3, 278.3 290.8 Q 278.0 291.2, 278.0 291.8 Q 278.0 292.6, 278.5 293.1 Q 279.1 293.6, 280.0 293.6 \" fill=\"#000000\"/>\n",
       "<path class=\"legend\" d=\"M 288.8 289.5 Q 289.6 289.8, 290.1 290.4 Q 290.6 290.9, 290.6 291.9 Q 290.6 292.6, 290.2 293.3 Q 289.8 293.9, 289.1 294.2 Q 288.3 294.5, 287.4 294.5 Q 285.8 294.5, 284.9 293.8 Q 284.1 293.1, 284.1 291.9 Q 284.1 291.1, 284.4 290.5 Q 284.8 290.0, 285.7 289.5 Q 285.0 289.2, 284.7 288.7 Q 284.4 288.2, 284.4 287.4 Q 284.4 286.3, 285.2 285.6 Q 286.0 285.0, 287.3 285.0 Q 288.7 285.0, 289.5 285.6 Q 290.3 286.3, 290.3 287.4 Q 290.3 288.1, 289.9 288.6 Q 289.5 289.1, 288.8 289.5 M 287.3 286.0 Q 286.6 286.0, 286.1 286.4 Q 285.7 286.7, 285.7 287.4 Q 285.7 287.9, 286.0 288.2 Q 286.3 288.5, 286.7 288.7 Q 287.1 288.9, 287.9 289.2 Q 288.5 288.8, 288.7 288.3 Q 289.0 287.9, 289.0 287.4 Q 289.0 286.7, 288.5 286.4 Q 288.1 286.0, 287.3 286.0 M 287.4 293.6 Q 288.3 293.6, 288.8 293.1 Q 289.3 292.6, 289.3 291.8 Q 289.3 291.3, 289.0 291.0 Q 288.8 290.7, 288.3 290.5 Q 287.9 290.3, 287.2 290.1 L 286.6 289.9 Q 285.9 290.3, 285.7 290.8 Q 285.4 291.2, 285.4 291.8 Q 285.4 292.6, 285.9 293.1 Q 286.5 293.6, 287.4 293.6 \" fill=\"#000000\"/>\n",
       "<path class=\"legend\" d=\"M 297.5 291.2 L 298.6 291.2 L 298.6 292.3 L 297.5 292.3 L 297.5 294.4 L 296.3 294.4 L 296.3 292.3 L 291.5 292.3 L 291.5 291.4 L 295.5 285.1 L 297.5 285.1 L 297.5 291.2 M 293.0 291.2 L 296.3 291.2 L 296.3 285.9 L 293.0 291.2 \" fill=\"#000000\"/>\n",
       "<path class=\"legend\" d=\"M 303.7 289.5 Q 304.6 289.8, 305.1 290.4 Q 305.5 290.9, 305.5 291.9 Q 305.5 292.6, 305.1 293.3 Q 304.7 293.9, 304.0 294.2 Q 303.3 294.5, 302.3 294.5 Q 301.3 294.5, 300.6 294.2 Q 299.8 293.8, 299.3 293.1 L 300.0 292.4 Q 300.6 293.0, 301.1 293.3 Q 301.6 293.5, 302.3 293.5 Q 303.2 293.5, 303.7 293.0 Q 304.2 292.6, 304.2 291.8 Q 304.2 290.9, 303.7 290.5 Q 303.1 290.0, 302.0 290.0 L 301.3 290.0 L 301.3 289.1 L 301.9 289.1 Q 302.9 289.1, 303.5 288.7 Q 304.0 288.2, 304.0 287.4 Q 304.0 286.8, 303.6 286.4 Q 303.1 286.1, 302.3 286.1 Q 301.6 286.1, 301.1 286.3 Q 300.6 286.6, 300.2 287.3 L 299.3 286.8 Q 299.7 286.0, 300.5 285.5 Q 301.2 285.0, 302.3 285.0 Q 303.7 285.0, 304.5 285.6 Q 305.3 286.3, 305.3 287.4 Q 305.3 288.1, 304.9 288.7 Q 304.5 289.2, 303.7 289.5 \" fill=\"#000000\"/>\n",
       "<path class=\"legend\" d=\"M 311.0 289.5 Q 311.9 289.8, 312.4 290.4 Q 312.9 290.9, 312.9 291.9 Q 312.9 292.6, 312.5 293.3 Q 312.0 293.9, 311.3 294.2 Q 310.6 294.5, 309.6 294.5 Q 308.1 294.5, 307.2 293.8 Q 306.3 293.1, 306.3 291.9 Q 306.3 291.1, 306.7 290.5 Q 307.1 290.0, 307.9 289.5 Q 307.3 289.2, 307.0 288.7 Q 306.6 288.2, 306.6 287.4 Q 306.6 286.3, 307.4 285.6 Q 308.2 285.0, 309.6 285.0 Q 310.9 285.0, 311.7 285.6 Q 312.5 286.3, 312.5 287.4 Q 312.5 288.1, 312.1 288.6 Q 311.8 289.1, 311.0 289.5 M 309.6 286.0 Q 308.8 286.0, 308.4 286.4 Q 307.9 286.7, 307.9 287.4 Q 307.9 287.9, 308.2 288.2 Q 308.5 288.5, 308.9 288.7 Q 309.4 288.9, 310.2 289.2 Q 310.7 288.8, 311.0 288.3 Q 311.2 287.9, 311.2 287.4 Q 311.2 286.7, 310.8 286.4 Q 310.3 286.0, 309.6 286.0 M 309.6 293.6 Q 310.5 293.6, 311.0 293.1 Q 311.5 292.6, 311.5 291.8 Q 311.5 291.3, 311.3 291.0 Q 311.0 290.7, 310.6 290.5 Q 310.2 290.3, 309.4 290.1 L 308.8 289.9 Q 308.2 290.3, 307.9 290.8 Q 307.6 291.2, 307.6 291.8 Q 307.6 292.6, 308.2 293.1 Q 308.7 293.6, 309.6 293.6 \" fill=\"#000000\"/>\n",
       "<path class=\"legend\" d=\"M 316.8 285.0 Q 318.5 285.0, 319.3 286.1 Q 320.1 287.2, 320.1 289.5 Q 320.1 292.0, 319.1 293.2 Q 318.1 294.5, 316.1 294.5 Q 315.5 294.5, 315.0 294.4 Q 314.5 294.3, 314.1 294.0 L 314.6 293.1 Q 315.3 293.5, 316.1 293.5 Q 317.4 293.5, 318.1 292.6 Q 318.7 291.8, 318.8 290.0 Q 318.3 290.5, 317.7 290.7 Q 317.1 290.9, 316.5 290.9 Q 315.7 290.9, 315.0 290.6 Q 314.4 290.2, 314.0 289.6 Q 313.7 288.9, 313.7 288.1 Q 313.7 287.2, 314.1 286.5 Q 314.5 285.8, 315.2 285.4 Q 315.9 285.0, 316.8 285.0 M 315.0 288.1 Q 315.0 288.9, 315.5 289.4 Q 315.9 289.9, 316.7 289.9 Q 317.3 289.9, 317.9 289.6 Q 318.4 289.4, 318.8 289.0 Q 318.8 287.5, 318.3 286.8 Q 317.8 286.1, 316.8 286.1 Q 316.3 286.1, 315.9 286.3 Q 315.5 286.6, 315.2 287.1 Q 315.0 287.5, 315.0 288.1 \" fill=\"#000000\"/>\n",
       "<path class=\"bond-0 atom-0 atom-1\" d=\"M 451.4,218.6 L 468.9,209.4\" style=\"fill:none;fill-rule:evenodd;stroke:#000000;stroke-width:2.0px;stroke-linecap:butt;stroke-linejoin:miter;stroke-opacity:1\"/>\n",
       "<path class=\"bond-1 atom-1 atom-2\" d=\"M 468.9,209.4 L 485.6,220.0\" style=\"fill:none;fill-rule:evenodd;stroke:#000000;stroke-width:2.0px;stroke-linecap:butt;stroke-linejoin:miter;stroke-opacity:1\"/>\n",
       "<path class=\"bond-2 atom-2 atom-3\" d=\"M 485.6,220.0 L 503.1,210.7\" style=\"fill:none;fill-rule:evenodd;stroke:#000000;stroke-width:2.0px;stroke-linecap:butt;stroke-linejoin:miter;stroke-opacity:1\"/>\n",
       "<path class=\"bond-3 atom-3 atom-4\" d=\"M 503.1,210.7 L 519.9,221.3\" style=\"fill:none;fill-rule:evenodd;stroke:#000000;stroke-width:2.0px;stroke-linecap:butt;stroke-linejoin:miter;stroke-opacity:1\"/>\n",
       "<path class=\"bond-4 atom-4 atom-5\" d=\"M 519.9,221.3 L 537.4,212.1\" style=\"fill:none;fill-rule:evenodd;stroke:#000000;stroke-width:2.0px;stroke-linecap:butt;stroke-linejoin:miter;stroke-opacity:1\"/>\n",
       "<path class=\"bond-5 atom-5 atom-6\" d=\"M 537.4,212.1 L 554.1,222.7\" style=\"fill:none;fill-rule:evenodd;stroke:#000000;stroke-width:2.0px;stroke-linecap:butt;stroke-linejoin:miter;stroke-opacity:1\"/>\n",
       "<path class=\"bond-6 atom-6 atom-7\" d=\"M 554.1,222.7 L 571.6,213.4\" style=\"fill:none;fill-rule:evenodd;stroke:#000000;stroke-width:2.0px;stroke-linecap:butt;stroke-linejoin:miter;stroke-opacity:1\"/>\n",
       "<path class=\"bond-7 atom-7 atom-8\" d=\"M 571.6,213.4 L 588.3,224.0\" style=\"fill:none;fill-rule:evenodd;stroke:#000000;stroke-width:2.0px;stroke-linecap:butt;stroke-linejoin:miter;stroke-opacity:1\"/>\n",
       "<path class=\"bond-8 atom-8 atom-9\" d=\"M 588.3,224.0 L 605.9,214.8\" style=\"fill:none;fill-rule:evenodd;stroke:#000000;stroke-width:2.0px;stroke-linecap:butt;stroke-linejoin:miter;stroke-opacity:1\"/>\n",
       "<path class=\"bond-9 atom-9 atom-10\" d=\"M 605.9,214.8 L 622.6,225.4\" style=\"fill:none;fill-rule:evenodd;stroke:#000000;stroke-width:2.0px;stroke-linecap:butt;stroke-linejoin:miter;stroke-opacity:1\"/>\n",
       "<path class=\"bond-10 atom-10 atom-11\" d=\"M 622.6,225.4 L 640.1,216.1\" style=\"fill:none;fill-rule:evenodd;stroke:#000000;stroke-width:2.0px;stroke-linecap:butt;stroke-linejoin:miter;stroke-opacity:1\"/>\n",
       "<path class=\"bond-11 atom-11 atom-12\" d=\"M 640.1,216.1 L 656.8,226.7\" style=\"fill:none;fill-rule:evenodd;stroke:#000000;stroke-width:2.0px;stroke-linecap:butt;stroke-linejoin:miter;stroke-opacity:1\"/>\n",
       "<path class=\"bond-12 atom-12 atom-13\" d=\"M 656.8,226.7 L 674.3,217.5\" style=\"fill:none;fill-rule:evenodd;stroke:#000000;stroke-width:2.0px;stroke-linecap:butt;stroke-linejoin:miter;stroke-opacity:1\"/>\n",
       "<path class=\"bond-13 atom-13 atom-14\" d=\"M 672.4,217.4 L 672.7,209.3\" style=\"fill:none;fill-rule:evenodd;stroke:#000000;stroke-width:2.0px;stroke-linecap:butt;stroke-linejoin:miter;stroke-opacity:1\"/>\n",
       "<path class=\"bond-13 atom-13 atom-14\" d=\"M 672.7,209.3 L 673.0,201.2\" style=\"fill:none;fill-rule:evenodd;stroke:#FF0000;stroke-width:2.0px;stroke-linecap:butt;stroke-linejoin:miter;stroke-opacity:1\"/>\n",
       "<path class=\"bond-13 atom-13 atom-14\" d=\"M 676.3,217.6 L 676.6,209.5\" style=\"fill:none;fill-rule:evenodd;stroke:#000000;stroke-width:2.0px;stroke-linecap:butt;stroke-linejoin:miter;stroke-opacity:1\"/>\n",
       "<path class=\"bond-13 atom-13 atom-14\" d=\"M 676.6,209.5 L 677.0,201.4\" style=\"fill:none;fill-rule:evenodd;stroke:#FF0000;stroke-width:2.0px;stroke-linecap:butt;stroke-linejoin:miter;stroke-opacity:1\"/>\n",
       "<path class=\"bond-14 atom-13 atom-15\" d=\"M 674.3,217.5 L 681.1,221.8\" style=\"fill:none;fill-rule:evenodd;stroke:#000000;stroke-width:2.0px;stroke-linecap:butt;stroke-linejoin:miter;stroke-opacity:1\"/>\n",
       "<path class=\"bond-14 atom-13 atom-15\" d=\"M 681.1,221.8 L 687.8,226.0\" style=\"fill:none;fill-rule:evenodd;stroke:#FF0000;stroke-width:2.0px;stroke-linecap:butt;stroke-linejoin:miter;stroke-opacity:1\"/>\n",
       "<path class=\"bond-15 atom-15 atom-16\" d=\"M 694.3,226.4 L 701.4,222.6\" style=\"fill:none;fill-rule:evenodd;stroke:#FF0000;stroke-width:2.0px;stroke-linecap:butt;stroke-linejoin:miter;stroke-opacity:1\"/>\n",
       "<path class=\"bond-15 atom-15 atom-16\" d=\"M 701.4,222.6 L 708.6,218.8\" style=\"fill:none;fill-rule:evenodd;stroke:#000000;stroke-width:2.0px;stroke-linecap:butt;stroke-linejoin:miter;stroke-opacity:1\"/>\n",
       "<path class=\"bond-16 atom-16 atom-17\" d=\"M 708.6,218.8 L 726.4,227.7 L 724.2,231.1 Z\" style=\"fill:#000000;fill-rule:evenodd;fill-opacity:1;stroke:#000000;stroke-width:1.0px;stroke-linecap:butt;stroke-linejoin:miter;stroke-opacity:1;\"/>\n",
       "<path class=\"bond-17 atom-17 atom-18\" d=\"M 725.3,229.4 L 724.5,249.2\" style=\"fill:none;fill-rule:evenodd;stroke:#000000;stroke-width:2.0px;stroke-linecap:butt;stroke-linejoin:miter;stroke-opacity:1\"/>\n",
       "<path class=\"bond-18 atom-18 atom-19\" d=\"M 724.5,249.2 L 731.3,253.4\" style=\"fill:none;fill-rule:evenodd;stroke:#000000;stroke-width:2.0px;stroke-linecap:butt;stroke-linejoin:miter;stroke-opacity:1\"/>\n",
       "<path class=\"bond-18 atom-18 atom-19\" d=\"M 731.3,253.4 L 738.0,257.7\" style=\"fill:none;fill-rule:evenodd;stroke:#FF0000;stroke-width:2.0px;stroke-linecap:butt;stroke-linejoin:miter;stroke-opacity:1\"/>\n",
       "<path class=\"bond-19 atom-18 atom-20\" d=\"M 725.4,250.9 L 718.3,254.7\" style=\"fill:none;fill-rule:evenodd;stroke:#000000;stroke-width:2.0px;stroke-linecap:butt;stroke-linejoin:miter;stroke-opacity:1\"/>\n",
       "<path class=\"bond-19 atom-18 atom-20\" d=\"M 718.3,254.7 L 711.2,258.4\" style=\"fill:none;fill-rule:evenodd;stroke:#FF0000;stroke-width:2.0px;stroke-linecap:butt;stroke-linejoin:miter;stroke-opacity:1\"/>\n",
       "<path class=\"bond-19 atom-18 atom-20\" d=\"M 723.6,247.4 L 716.5,251.2\" style=\"fill:none;fill-rule:evenodd;stroke:#000000;stroke-width:2.0px;stroke-linecap:butt;stroke-linejoin:miter;stroke-opacity:1\"/>\n",
       "<path class=\"bond-19 atom-18 atom-20\" d=\"M 716.5,251.2 L 709.3,254.9\" style=\"fill:none;fill-rule:evenodd;stroke:#FF0000;stroke-width:2.0px;stroke-linecap:butt;stroke-linejoin:miter;stroke-opacity:1\"/>\n",
       "<path class=\"bond-20 atom-16 atom-21\" d=\"M 708.6,218.8 L 709.4,199.1\" style=\"fill:none;fill-rule:evenodd;stroke:#000000;stroke-width:2.0px;stroke-linecap:butt;stroke-linejoin:miter;stroke-opacity:1\"/>\n",
       "<path class=\"bond-21 atom-21 atom-22\" d=\"M 709.4,199.1 L 716.7,195.2\" style=\"fill:none;fill-rule:evenodd;stroke:#000000;stroke-width:2.0px;stroke-linecap:butt;stroke-linejoin:miter;stroke-opacity:1\"/>\n",
       "<path class=\"bond-21 atom-21 atom-22\" d=\"M 716.7,195.2 L 724.1,191.3\" style=\"fill:none;fill-rule:evenodd;stroke:#0000FF;stroke-width:2.0px;stroke-linecap:butt;stroke-linejoin:miter;stroke-opacity:1\"/>\n",
       "<path class=\"bond-22 atom-22 atom-23\" d=\"M 725.0,186.4 L 721.3,179.4\" style=\"fill:none;fill-rule:evenodd;stroke:#0000FF;stroke-width:2.0px;stroke-linecap:butt;stroke-linejoin:miter;stroke-opacity:1\"/>\n",
       "<path class=\"bond-22 atom-22 atom-23\" d=\"M 721.3,179.4 L 717.7,172.4\" style=\"fill:none;fill-rule:evenodd;stroke:#000000;stroke-width:2.0px;stroke-linecap:butt;stroke-linejoin:miter;stroke-opacity:1\"/>\n",
       "<path class=\"bond-23 atom-22 atom-24\" d=\"M 728.7,193.3 L 732.4,200.3\" style=\"fill:none;fill-rule:evenodd;stroke:#0000FF;stroke-width:2.0px;stroke-linecap:butt;stroke-linejoin:miter;stroke-opacity:1\"/>\n",
       "<path class=\"bond-23 atom-22 atom-24\" d=\"M 732.4,200.3 L 736.1,207.4\" style=\"fill:none;fill-rule:evenodd;stroke:#000000;stroke-width:2.0px;stroke-linecap:butt;stroke-linejoin:miter;stroke-opacity:1\"/>\n",
       "<path class=\"bond-24 atom-22 atom-25\" d=\"M 732.7,186.8 L 738.6,183.7\" style=\"fill:none;fill-rule:evenodd;stroke:#0000FF;stroke-width:2.0px;stroke-linecap:butt;stroke-linejoin:miter;stroke-opacity:1\"/>\n",
       "<path class=\"bond-24 atom-22 atom-25\" d=\"M 738.6,183.7 L 744.4,180.7\" style=\"fill:none;fill-rule:evenodd;stroke:#000000;stroke-width:2.0px;stroke-linecap:butt;stroke-linejoin:miter;stroke-opacity:1\"/>\n",
       "<path class=\"atom-14\" d=\"M 672.5 197.7 Q 672.5 196.4, 673.2 195.6 Q 673.9 194.9, 675.1 194.9 Q 676.4 194.9, 677.0 195.6 Q 677.7 196.4, 677.7 197.7 Q 677.7 199.1, 677.0 199.9 Q 676.3 200.6, 675.1 200.6 Q 673.9 200.6, 673.2 199.9 Q 672.5 199.1, 672.5 197.7 M 675.1 200.0 Q 676.0 200.0, 676.4 199.4 Q 676.9 198.9, 676.9 197.7 Q 676.9 196.6, 676.4 196.1 Q 676.0 195.5, 675.1 195.5 Q 674.3 195.5, 673.8 196.1 Q 673.3 196.6, 673.3 197.7 Q 673.3 198.9, 673.8 199.4 Q 674.3 200.0, 675.1 200.0 \" fill=\"#FF0000\"/>\n",
       "<path class=\"atom-15\" d=\"M 688.5 228.1 Q 688.5 226.7, 689.2 226.0 Q 689.8 225.2, 691.1 225.2 Q 692.3 225.2, 693.0 226.0 Q 693.6 226.7, 693.6 228.1 Q 693.6 229.4, 693.0 230.2 Q 692.3 231.0, 691.1 231.0 Q 689.8 231.0, 689.2 230.2 Q 688.5 229.4, 688.5 228.1 M 691.1 230.3 Q 691.9 230.3, 692.4 229.8 Q 692.8 229.2, 692.8 228.1 Q 692.8 227.0, 692.4 226.4 Q 691.9 225.9, 691.1 225.9 Q 690.2 225.9, 689.7 226.4 Q 689.3 227.0, 689.3 228.1 Q 689.3 229.2, 689.7 229.8 Q 690.2 230.3, 691.1 230.3 \" fill=\"#FF0000\"/>\n",
       "<path class=\"atom-19\" d=\"M 738.7 259.7 Q 738.7 258.4, 739.3 257.6 Q 740.0 256.9, 741.3 256.9 Q 742.5 256.9, 743.2 257.6 Q 743.8 258.4, 743.8 259.7 Q 743.8 261.1, 743.2 261.9 Q 742.5 262.6, 741.3 262.6 Q 740.0 262.6, 739.3 261.9 Q 738.7 261.1, 738.7 259.7 M 741.3 262.0 Q 742.1 262.0, 742.6 261.4 Q 743.0 260.9, 743.0 259.7 Q 743.0 258.6, 742.6 258.1 Q 742.1 257.5, 741.3 257.5 Q 740.4 257.5, 739.9 258.1 Q 739.5 258.6, 739.5 259.7 Q 739.5 260.9, 739.9 261.4 Q 740.4 262.0, 741.3 262.0 \" fill=\"#FF0000\"/>\n",
       "<path class=\"atom-19\" d=\"M 744.2 257.0 L 745.0 257.0 L 745.0 259.3 L 747.8 259.3 L 747.8 257.0 L 748.6 257.0 L 748.6 262.6 L 747.8 262.6 L 747.8 260.0 L 745.0 260.0 L 745.0 262.6 L 744.2 262.6 L 744.2 257.0 \" fill=\"#FF0000\"/>\n",
       "<path class=\"atom-20\" d=\"M 704.4 258.4 Q 704.4 257.0, 705.1 256.3 Q 705.8 255.5, 707.0 255.5 Q 708.3 255.5, 708.9 256.3 Q 709.6 257.0, 709.6 258.4 Q 709.6 259.8, 708.9 260.5 Q 708.2 261.3, 707.0 261.3 Q 705.8 261.3, 705.1 260.5 Q 704.4 259.8, 704.4 258.4 M 707.0 260.7 Q 707.9 260.7, 708.3 260.1 Q 708.8 259.5, 708.8 258.4 Q 708.8 257.3, 708.3 256.7 Q 707.9 256.2, 707.0 256.2 Q 706.2 256.2, 705.7 256.7 Q 705.2 257.3, 705.2 258.4 Q 705.2 259.5, 705.7 260.1 Q 706.2 260.7, 707.0 260.7 \" fill=\"#FF0000\"/>\n",
       "<path class=\"atom-22\" d=\"M 725.6 187.1 L 727.5 190.0 Q 727.6 190.3, 727.9 190.9 Q 728.2 191.4, 728.2 191.4 L 728.2 187.1 L 729.0 187.1 L 729.0 192.7 L 728.2 192.7 L 726.2 189.4 Q 726.0 189.0, 725.8 188.6 Q 725.5 188.2, 725.5 188.0 L 725.5 192.7 L 724.7 192.7 L 724.7 187.1 L 725.6 187.1 \" fill=\"#0000FF\"/>\n",
       "<path class=\"atom-22\" d=\"M 729.6 188.1 L 730.6 188.1 L 730.6 187.0 L 731.1 187.0 L 731.1 188.1 L 732.1 188.1 L 732.1 188.4 L 731.1 188.4 L 731.1 189.5 L 730.6 189.5 L 730.6 188.4 L 729.6 188.4 L 729.6 188.1 \" fill=\"#0000FF\"/>\n",
       "<path class=\"legend\" d=\"M 480.7 285.1 Q 482.3 285.1, 483.1 285.8 Q 483.9 286.5, 483.9 287.8 Q 483.9 289.1, 483.1 289.9 Q 482.3 290.6, 480.7 290.6 L 479.2 290.6 L 479.2 294.4 L 478.0 294.4 L 478.0 285.1 L 480.7 285.1 M 480.7 289.5 Q 481.6 289.5, 482.1 289.1 Q 482.6 288.7, 482.6 287.8 Q 482.6 287.0, 482.1 286.6 Q 481.6 286.2, 480.7 286.2 L 479.2 286.2 L 479.2 289.5 L 480.7 289.5 \" fill=\"#000000\"/>\n",
       "<path class=\"legend\" d=\"M 484.9 293.0 Q 485.0 293.0, 485.4 293.2 Q 485.9 293.4, 486.3 293.5 Q 486.8 293.6, 487.3 293.6 Q 488.2 293.6, 488.7 293.2 Q 489.2 292.7, 489.2 292.0 Q 489.2 291.5, 488.9 291.2 Q 488.7 290.8, 488.3 290.7 Q 487.9 290.5, 487.2 290.3 Q 486.4 290.1, 485.9 289.8 Q 485.4 289.6, 485.1 289.1 Q 484.7 288.6, 484.7 287.7 Q 484.7 286.6, 485.5 285.9 Q 486.3 285.1, 487.9 285.1 Q 489.0 285.1, 490.2 285.6 L 489.9 286.7 Q 488.8 286.2, 487.9 286.2 Q 487.0 286.2, 486.5 286.6 Q 486.0 286.9, 486.0 287.6 Q 486.0 288.1, 486.3 288.4 Q 486.5 288.7, 486.9 288.9 Q 487.3 289.0, 487.9 289.2 Q 488.8 289.5, 489.3 289.8 Q 489.8 290.0, 490.1 290.6 Q 490.5 291.1, 490.5 292.0 Q 490.5 293.3, 489.6 294.0 Q 488.8 294.7, 487.3 294.7 Q 486.5 294.7, 485.9 294.5 Q 485.3 294.3, 484.5 294.0 L 484.9 293.0 \" fill=\"#000000\"/>\n",
       "<path class=\"legend\" d=\"M 491.1 285.1 L 492.4 285.1 L 492.4 289.1 L 497.1 289.1 L 497.1 285.1 L 498.4 285.1 L 498.4 294.4 L 497.1 294.4 L 497.1 290.1 L 492.4 290.1 L 492.4 294.4 L 491.1 294.4 L 491.1 285.1 \" fill=\"#000000\"/>\n",
       "<path class=\"legend\" d=\"M 507.9 294.4 L 506.4 294.4 L 503.7 290.6 L 500.9 294.4 L 499.5 294.4 L 503.0 289.5 L 499.8 285.1 L 501.2 285.1 L 503.7 288.6 L 506.3 285.1 L 507.7 285.1 L 504.5 289.6 L 507.9 294.4 \" fill=\"#000000\"/>\n",
       "<path class=\"legend\" d=\"M 509.4 285.1 L 512.5 290.0 Q 512.8 290.5, 513.3 291.4 Q 513.7 292.3, 513.8 292.3 L 513.8 285.1 L 515.0 285.1 L 515.0 294.4 L 513.7 294.4 L 510.5 289.0 Q 510.1 288.4, 509.7 287.7 Q 509.3 286.9, 509.2 286.7 L 509.2 294.4 L 507.9 294.4 L 507.9 285.1 L 509.4 285.1 \" fill=\"#000000\"/>\n",
       "<path class=\"legend\" d=\"M 522.6 285.1 L 523.9 285.1 L 520.7 294.4 L 519.1 294.4 L 516.1 285.1 L 517.4 285.1 L 519.9 293.0 L 522.6 285.1 \" fill=\"#000000\"/>\n",
       "<path class=\"legend\" d=\"M 531.6 289.8 L 531.6 293.8 Q 530.3 294.5, 528.3 294.5 Q 526.3 294.5, 525.2 293.3 Q 524.1 292.1, 524.1 289.7 Q 524.1 287.4, 525.2 286.2 Q 526.3 285.0, 528.4 285.0 Q 529.4 285.0, 530.2 285.3 Q 531.0 285.7, 531.6 286.4 L 530.7 287.1 Q 529.8 286.1, 528.4 286.1 Q 526.9 286.1, 526.2 287.0 Q 525.5 287.9, 525.5 289.7 Q 525.5 291.6, 526.2 292.5 Q 527.0 293.5, 528.5 293.5 Q 529.5 293.5, 530.3 293.2 L 530.3 289.8 L 531.6 289.8 \" fill=\"#000000\"/>\n",
       "<path class=\"legend\" d=\"M 532.9 293.0 Q 533.0 293.0, 533.5 293.2 Q 533.9 293.4, 534.4 293.5 Q 534.9 293.6, 535.3 293.6 Q 536.2 293.6, 536.7 293.2 Q 537.3 292.7, 537.3 292.0 Q 537.3 291.5, 537.0 291.2 Q 536.7 290.8, 536.3 290.7 Q 536.0 290.5, 535.3 290.3 Q 534.5 290.1, 534.0 289.8 Q 533.5 289.6, 533.1 289.1 Q 532.8 288.6, 532.8 287.7 Q 532.8 286.6, 533.6 285.9 Q 534.4 285.1, 536.0 285.1 Q 537.0 285.1, 538.3 285.6 L 537.9 286.7 Q 536.8 286.2, 536.0 286.2 Q 535.1 286.2, 534.6 286.6 Q 534.1 286.9, 534.1 287.6 Q 534.1 288.1, 534.3 288.4 Q 534.6 288.7, 535.0 288.9 Q 535.4 289.0, 536.0 289.2 Q 536.8 289.5, 537.3 289.8 Q 537.8 290.0, 538.2 290.6 Q 538.6 291.1, 538.6 292.0 Q 538.6 293.3, 537.7 294.0 Q 536.8 294.7, 535.4 294.7 Q 534.6 294.7, 533.9 294.5 Q 533.3 294.3, 532.6 294.0 L 532.9 293.0 \" fill=\"#000000\"/>\n",
       "<path class=\"legend\" d=\"M 545.7 285.1 L 546.9 285.1 L 543.8 294.4 L 542.2 294.4 L 539.2 285.1 L 540.4 285.1 L 543.0 293.0 L 545.7 285.1 \" fill=\"#000000\"/>\n",
       "<path class=\"legend\" d=\"M 548.7 285.1 L 551.7 290.0 Q 552.0 290.5, 552.5 291.4 Q 553.0 292.3, 553.0 292.3 L 553.0 285.1 L 554.3 285.1 L 554.3 294.4 L 553.0 294.4 L 549.7 289.0 Q 549.3 288.4, 548.9 287.7 Q 548.5 286.9, 548.4 286.7 L 548.4 294.4 L 547.2 294.4 L 547.2 285.1 L 548.7 285.1 \" fill=\"#000000\"/>\n",
       "<path class=\"legend\" d=\"M 555.4 285.1 L 560.9 285.1 L 560.9 286.2 L 556.6 286.2 L 556.6 289.0 L 560.4 289.0 L 560.4 290.1 L 556.6 290.1 L 556.6 293.3 L 561.0 293.3 L 561.0 294.4 L 555.4 294.4 L 555.4 285.1 \" fill=\"#000000\"/>\n",
       "<path class=\"legend\" d=\"M 561.7 295.3 Q 561.7 295.3, 562.3 294.9 Q 562.8 294.6, 563.3 294.1 Q 563.7 293.5, 563.7 292.8 L 563.7 286.2 L 561.9 286.2 L 561.9 285.1 L 565.0 285.1 L 565.0 292.8 Q 565.0 293.9, 564.4 294.6 Q 563.7 295.4, 563.0 295.9 Q 562.2 296.3, 562.2 296.2 L 561.7 295.3 \" fill=\"#000000\"/>\n",
       "<path class=\"legend\" d=\"M 570.6 289.5 Q 571.5 289.8, 572.0 290.3 Q 572.4 290.9, 572.4 291.7 Q 572.4 293.0, 571.6 293.7 Q 570.8 294.4, 569.2 294.4 L 566.1 294.4 L 566.1 285.1 L 568.9 285.1 Q 570.5 285.1, 571.3 285.7 Q 572.1 286.4, 572.1 287.6 Q 572.1 289.0, 570.6 289.5 M 567.4 286.2 L 567.4 289.1 L 568.9 289.1 Q 569.8 289.1, 570.3 288.7 Q 570.7 288.3, 570.7 287.6 Q 570.7 286.2, 568.9 286.2 L 567.4 286.2 M 569.2 293.4 Q 570.1 293.4, 570.6 292.9 Q 571.1 292.5, 571.1 291.7 Q 571.1 290.9, 570.6 290.5 Q 570.1 290.1, 569.0 290.1 L 567.4 290.1 L 567.4 293.4 L 569.2 293.4 \" fill=\"#000000\"/>\n",
       "<path class=\"legend\" d=\"M 576.0 285.1 Q 578.1 285.1, 579.2 286.3 Q 580.3 287.5, 580.3 289.7 Q 580.3 291.9, 579.2 293.2 Q 578.1 294.4, 576.0 294.4 L 573.0 294.4 L 573.0 285.1 L 576.0 285.1 M 576.0 293.4 Q 577.5 293.4, 578.2 292.5 Q 579.0 291.5, 579.0 289.7 Q 579.0 287.9, 578.2 287.1 Q 577.5 286.2, 576.0 286.2 L 574.3 286.2 L 574.3 293.4 L 576.0 293.4 \" fill=\"#000000\"/>\n",
       "<path class=\"legend\" d=\"\" fill=\"#000000\"/>\n",
       "<path class=\"legend\" d=\"M 585.3 292.9 L 586.6 292.9 L 586.6 294.2 L 585.3 294.2 L 585.3 292.9 M 585.3 288.4 L 586.6 288.4 L 586.6 289.7 L 585.3 289.7 L 585.3 288.4 \" fill=\"#000000\"/>\n",
       "<path class=\"legend\" d=\"\" fill=\"#000000\"/>\n",
       "<path class=\"legend\" d=\"M 592.0 289.7 Q 592.0 287.4, 593.1 286.2 Q 594.1 285.0, 596.2 285.0 Q 598.1 285.0, 599.2 286.4 L 598.3 287.1 Q 597.5 286.1, 596.2 286.1 Q 594.8 286.1, 594.1 287.0 Q 593.3 288.0, 593.3 289.7 Q 593.3 291.6, 594.1 292.5 Q 594.9 293.5, 596.4 293.5 Q 597.4 293.5, 598.6 292.9 L 598.9 293.8 Q 598.5 294.2, 597.7 294.3 Q 597.0 294.5, 596.2 294.5 Q 594.1 294.5, 593.1 293.3 Q 592.0 292.1, 592.0 289.7 \" fill=\"#000000\"/>\n",
       "<path class=\"legend\" d=\"M 599.7 289.7 Q 599.7 287.4, 600.8 286.2 Q 601.8 285.0, 603.9 285.0 Q 605.8 285.0, 606.9 286.4 L 606.0 287.1 Q 605.2 286.1, 603.9 286.1 Q 602.5 286.1, 601.8 287.0 Q 601.0 288.0, 601.0 289.7 Q 601.0 291.6, 601.8 292.5 Q 602.6 293.5, 604.1 293.5 Q 605.1 293.5, 606.3 292.9 L 606.6 293.8 Q 606.2 294.2, 605.4 294.3 Q 604.7 294.5, 603.9 294.5 Q 601.8 294.5, 600.8 293.3 Q 599.7 292.1, 599.7 289.7 \" fill=\"#000000\"/>\n",
       "<path class=\"legend\" d=\"M 618.0 294.4 L 616.8 294.4 L 615.8 286.8 L 613.3 294.4 L 612.1 294.4 L 609.5 286.8 L 608.6 294.4 L 607.4 294.4 L 608.6 285.1 L 610.1 285.1 L 612.7 292.6 L 615.3 285.1 L 616.8 285.1 L 618.0 294.4 \" fill=\"#000000\"/>\n",
       "<path class=\"legend\" d=\"M 619.2 293.0 Q 619.3 293.0, 619.8 293.2 Q 620.2 293.4, 620.7 293.5 Q 621.2 293.6, 621.6 293.6 Q 622.5 293.6, 623.0 293.2 Q 623.5 292.7, 623.5 292.0 Q 623.5 291.5, 623.3 291.2 Q 623.0 290.8, 622.6 290.7 Q 622.2 290.5, 621.6 290.3 Q 620.7 290.1, 620.2 289.8 Q 619.8 289.6, 619.4 289.1 Q 619.1 288.6, 619.1 287.7 Q 619.1 286.6, 619.8 285.9 Q 620.7 285.1, 622.2 285.1 Q 623.3 285.1, 624.5 285.6 L 624.2 286.7 Q 623.1 286.2, 622.3 286.2 Q 621.4 286.2, 620.9 286.6 Q 620.4 286.9, 620.4 287.6 Q 620.4 288.1, 620.6 288.4 Q 620.9 288.7, 621.3 288.9 Q 621.6 289.0, 622.3 289.2 Q 623.1 289.5, 623.6 289.8 Q 624.1 290.0, 624.5 290.6 Q 624.8 291.1, 624.8 292.0 Q 624.8 293.3, 624.0 294.0 Q 623.1 294.7, 621.7 294.7 Q 620.8 294.7, 620.2 294.5 Q 619.6 294.3, 618.9 294.0 L 619.2 293.0 \" fill=\"#000000\"/>\n",
       "<path class=\"legend\" d=\"M 625.4 285.1 L 626.7 285.1 L 626.7 293.3 L 631.0 293.3 L 631.0 294.4 L 625.4 294.4 L 625.4 285.1 \" fill=\"#000000\"/>\n",
       "<path class=\"legend\" d=\"M 631.3 285.1 L 632.6 285.1 L 632.6 294.4 L 631.3 294.4 L 631.3 285.1 \" fill=\"#000000\"/>\n",
       "<path class=\"legend\" d=\"M 638.2 289.5 Q 639.1 289.8, 639.6 290.3 Q 640.0 290.9, 640.0 291.7 Q 640.0 293.0, 639.2 293.7 Q 638.4 294.4, 636.9 294.4 L 633.7 294.4 L 633.7 285.1 L 636.5 285.1 Q 638.1 285.1, 638.9 285.7 Q 639.7 286.4, 639.7 287.6 Q 639.7 289.0, 638.2 289.5 M 635.0 286.2 L 635.0 289.1 L 636.5 289.1 Q 637.4 289.1, 637.9 288.7 Q 638.4 288.3, 638.4 287.6 Q 638.4 286.2, 636.5 286.2 L 635.0 286.2 M 636.9 293.4 Q 637.8 293.4, 638.2 292.9 Q 638.7 292.5, 638.7 291.7 Q 638.7 290.9, 638.2 290.5 Q 637.7 290.1, 636.7 290.1 L 635.0 290.1 L 635.0 293.4 L 636.9 293.4 \" fill=\"#000000\"/>\n",
       "<path class=\"legend\" d=\"M 644.1 294.5 Q 642.3 294.5, 641.5 293.3 Q 640.7 292.0, 640.7 289.7 Q 640.7 287.5, 641.5 286.2 Q 642.3 285.0, 644.1 285.0 Q 645.8 285.0, 646.6 286.2 Q 647.5 287.5, 647.5 289.7 Q 647.5 292.0, 646.6 293.3 Q 645.8 294.5, 644.1 294.5 M 644.1 293.5 Q 645.1 293.5, 645.6 292.5 Q 646.1 291.6, 646.1 289.7 Q 646.1 287.9, 645.6 287.0 Q 645.1 286.1, 644.1 286.1 Q 643.1 286.1, 642.5 287.0 Q 642.0 287.9, 642.0 289.7 Q 642.0 291.6, 642.5 292.5 Q 643.1 293.5, 644.1 293.5 \" fill=\"#000000\"/>\n",
       "<path class=\"legend\" d=\"M 651.7 294.5 Q 650.0 294.5, 649.2 293.3 Q 648.3 292.0, 648.3 289.7 Q 648.3 287.5, 649.2 286.2 Q 650.0 285.0, 651.7 285.0 Q 653.4 285.0, 654.3 286.2 Q 655.1 287.5, 655.1 289.7 Q 655.1 292.0, 654.3 293.3 Q 653.4 294.5, 651.7 294.5 M 651.7 293.5 Q 652.7 293.5, 653.3 292.5 Q 653.8 291.6, 653.8 289.7 Q 653.8 287.9, 653.3 287.0 Q 652.7 286.1, 651.7 286.1 Q 650.7 286.1, 650.2 287.0 Q 649.6 287.9, 649.6 289.7 Q 649.6 291.6, 650.2 292.5 Q 650.7 293.5, 651.7 293.5 \" fill=\"#000000\"/>\n",
       "<path class=\"legend\" d=\"M 659.4 294.5 Q 657.7 294.5, 656.8 293.3 Q 656.0 292.0, 656.0 289.7 Q 656.0 287.5, 656.8 286.2 Q 657.7 285.0, 659.4 285.0 Q 661.1 285.0, 661.9 286.2 Q 662.8 287.5, 662.8 289.7 Q 662.8 292.0, 661.9 293.3 Q 661.1 294.5, 659.4 294.5 M 659.4 293.5 Q 660.4 293.5, 660.9 292.5 Q 661.5 291.6, 661.5 289.7 Q 661.5 287.9, 660.9 287.0 Q 660.4 286.1, 659.4 286.1 Q 658.4 286.1, 657.8 287.0 Q 657.3 287.9, 657.3 289.7 Q 657.3 291.6, 657.8 292.5 Q 658.4 293.5, 659.4 293.5 \" fill=\"#000000\"/>\n",
       "<path class=\"legend\" d=\"M 667.0 294.5 Q 665.3 294.5, 664.5 293.3 Q 663.6 292.0, 663.6 289.7 Q 663.6 287.5, 664.5 286.2 Q 665.3 285.0, 667.0 285.0 Q 668.8 285.0, 669.6 286.2 Q 670.4 287.5, 670.4 289.7 Q 670.4 292.0, 669.6 293.3 Q 668.8 294.5, 667.0 294.5 M 667.0 293.5 Q 668.1 293.5, 668.6 292.5 Q 669.1 291.6, 669.1 289.7 Q 669.1 287.9, 668.6 287.0 Q 668.1 286.1, 667.0 286.1 Q 666.0 286.1, 665.5 287.0 Q 665.0 287.9, 665.0 289.7 Q 665.0 291.6, 665.5 292.5 Q 666.0 293.5, 667.0 293.5 \" fill=\"#000000\"/>\n",
       "<path class=\"legend\" d=\"M 674.7 288.6 Q 675.5 288.6, 676.2 288.9 Q 676.8 289.3, 677.2 289.9 Q 677.6 290.6, 677.6 291.5 Q 677.6 292.4, 677.1 293.1 Q 676.7 293.8, 675.9 294.2 Q 675.1 294.5, 674.3 294.5 Q 673.4 294.5, 672.6 294.2 Q 671.8 293.9, 671.3 293.3 L 672.1 292.5 Q 672.5 292.9, 673.1 293.2 Q 673.7 293.5, 674.3 293.5 Q 675.1 293.5, 675.7 292.9 Q 676.3 292.4, 676.3 291.5 Q 676.3 290.5, 675.7 290.0 Q 675.1 289.6, 674.2 289.6 Q 673.4 289.6, 672.5 289.9 L 671.8 289.6 L 672.2 285.1 L 677.0 285.1 L 676.9 286.2 L 673.3 286.2 L 673.0 288.9 Q 673.9 288.6, 674.7 288.6 \" fill=\"#000000\"/>\n",
       "<path class=\"legend\" d=\"M 683.0 289.5 Q 683.8 289.8, 684.3 290.4 Q 684.8 290.9, 684.8 291.9 Q 684.8 292.6, 684.4 293.3 Q 684.0 293.9, 683.2 294.2 Q 682.5 294.5, 681.6 294.5 Q 680.0 294.5, 679.1 293.8 Q 678.2 293.1, 678.2 291.9 Q 678.2 291.1, 678.6 290.5 Q 679.0 290.0, 679.8 289.5 Q 679.2 289.2, 678.9 288.7 Q 678.6 288.2, 678.6 287.4 Q 678.6 286.3, 679.4 285.6 Q 680.2 285.0, 681.5 285.0 Q 682.9 285.0, 683.7 285.6 Q 684.5 286.3, 684.5 287.4 Q 684.5 288.1, 684.1 288.6 Q 683.7 289.1, 683.0 289.5 M 681.5 286.0 Q 680.7 286.0, 680.3 286.4 Q 679.9 286.7, 679.9 287.4 Q 679.9 287.9, 680.2 288.2 Q 680.5 288.5, 680.9 288.7 Q 681.3 288.9, 682.1 289.2 Q 682.7 288.8, 682.9 288.3 Q 683.1 287.9, 683.1 287.4 Q 683.1 286.7, 682.7 286.4 Q 682.3 286.0, 681.5 286.0 M 681.6 293.6 Q 682.4 293.6, 683.0 293.1 Q 683.5 292.6, 683.5 291.8 Q 683.5 291.3, 683.2 291.0 Q 682.9 290.7, 682.5 290.5 Q 682.1 290.3, 681.4 290.1 L 680.8 289.9 Q 680.1 290.3, 679.8 290.8 Q 679.5 291.2, 679.5 291.8 Q 679.5 292.6, 680.1 293.1 Q 680.6 293.6, 681.6 293.6 \" fill=\"#000000\"/>\n",
       "<path class=\"legend\" d=\"M 690.4 289.5 Q 691.2 289.8, 691.7 290.4 Q 692.2 290.9, 692.2 291.9 Q 692.2 292.6, 691.8 293.3 Q 691.4 293.9, 690.6 294.2 Q 689.9 294.5, 689.0 294.5 Q 687.4 294.5, 686.5 293.8 Q 685.6 293.1, 685.6 291.9 Q 685.6 291.1, 686.0 290.5 Q 686.4 290.0, 687.2 289.5 Q 686.6 289.2, 686.3 288.7 Q 686.0 288.2, 686.0 287.4 Q 686.0 286.3, 686.8 285.6 Q 687.6 285.0, 688.9 285.0 Q 690.3 285.0, 691.1 285.6 Q 691.9 286.3, 691.9 287.4 Q 691.9 288.1, 691.5 288.6 Q 691.1 289.1, 690.4 289.5 M 688.9 286.0 Q 688.1 286.0, 687.7 286.4 Q 687.3 286.7, 687.3 287.4 Q 687.3 287.9, 687.6 288.2 Q 687.9 288.5, 688.3 288.7 Q 688.7 288.9, 689.5 289.2 Q 690.1 288.8, 690.3 288.3 Q 690.5 287.9, 690.5 287.4 Q 690.5 286.7, 690.1 286.4 Q 689.7 286.0, 688.9 286.0 M 689.0 293.6 Q 689.8 293.6, 690.4 293.1 Q 690.9 292.6, 690.9 291.8 Q 690.9 291.3, 690.6 291.0 Q 690.3 290.7, 689.9 290.5 Q 689.5 290.3, 688.8 290.1 L 688.2 289.9 Q 687.5 290.3, 687.2 290.8 Q 686.9 291.2, 686.9 291.8 Q 686.9 292.6, 687.5 293.1 Q 688.0 293.6, 689.0 293.6 \" fill=\"#000000\"/>\n",
       "<path class=\"legend\" d=\"M 699.1 291.2 L 700.2 291.2 L 700.2 292.3 L 699.1 292.3 L 699.1 294.4 L 697.8 294.4 L 697.8 292.3 L 693.0 292.3 L 693.0 291.4 L 697.1 285.1 L 699.1 285.1 L 699.1 291.2 M 694.6 291.2 L 697.8 291.2 L 697.8 285.9 L 694.6 291.2 \" fill=\"#000000\"/>\n",
       "<path class=\"legend\" d=\"M 704.0 285.0 Q 705.6 285.0, 706.4 286.1 Q 707.3 287.2, 707.3 289.5 Q 707.3 292.0, 706.2 293.2 Q 705.2 294.5, 703.2 294.5 Q 702.7 294.5, 702.2 294.4 Q 701.7 294.3, 701.2 294.0 L 701.7 293.1 Q 702.4 293.5, 703.2 293.5 Q 704.5 293.5, 705.2 292.6 Q 705.9 291.8, 706.0 290.0 Q 705.5 290.5, 704.9 290.7 Q 704.3 290.9, 703.6 290.9 Q 702.8 290.9, 702.2 290.6 Q 701.5 290.2, 701.2 289.6 Q 700.8 288.9, 700.8 288.1 Q 700.8 287.2, 701.2 286.5 Q 701.6 285.8, 702.3 285.4 Q 703.1 285.0, 704.0 285.0 M 702.1 288.1 Q 702.1 288.9, 702.6 289.4 Q 703.1 289.9, 703.9 289.9 Q 704.4 289.9, 705.0 289.6 Q 705.6 289.4, 706.0 289.0 Q 705.9 287.5, 705.4 286.8 Q 704.9 286.1, 703.9 286.1 Q 703.4 286.1, 703.0 286.3 Q 702.6 286.6, 702.4 287.1 Q 702.1 287.5, 702.1 288.1 \" fill=\"#000000\"/>\n",
       "<path class=\"legend\" d=\"M 712.9 289.5 Q 713.8 289.8, 714.3 290.4 Q 714.8 290.9, 714.8 291.9 Q 714.8 292.6, 714.3 293.3 Q 713.9 293.9, 713.2 294.2 Q 712.5 294.5, 711.5 294.5 Q 710.0 294.5, 709.1 293.8 Q 708.2 293.1, 708.2 291.9 Q 708.2 291.1, 708.6 290.5 Q 709.0 290.0, 709.8 289.5 Q 709.2 289.2, 708.9 288.7 Q 708.5 288.2, 708.5 287.4 Q 708.5 286.3, 709.3 285.6 Q 710.1 285.0, 711.5 285.0 Q 712.8 285.0, 713.6 285.6 Q 714.4 286.3, 714.4 287.4 Q 714.4 288.1, 714.0 288.6 Q 713.7 289.1, 712.9 289.5 M 711.5 286.0 Q 710.7 286.0, 710.3 286.4 Q 709.8 286.7, 709.8 287.4 Q 709.8 287.9, 710.1 288.2 Q 710.4 288.5, 710.8 288.7 Q 711.2 288.9, 712.0 289.2 Q 712.6 288.8, 712.8 288.3 Q 713.1 287.9, 713.1 287.4 Q 713.1 286.7, 712.7 286.4 Q 712.2 286.0, 711.5 286.0 M 711.5 293.6 Q 712.4 293.6, 712.9 293.1 Q 713.4 292.6, 713.4 291.8 Q 713.4 291.3, 713.2 291.0 Q 712.9 290.7, 712.5 290.5 Q 712.1 290.3, 711.3 290.1 L 710.7 289.9 Q 710.1 290.3, 709.8 290.8 Q 709.5 291.2, 709.5 291.8 Q 709.5 292.6, 710.0 293.1 Q 710.6 293.6, 711.5 293.6 \" fill=\"#000000\"/>\n",
       "<path class=\"legend\" d=\"M 719.2 288.6 Q 720.0 288.6, 720.7 289.0 Q 721.3 289.3, 721.7 290.0 Q 722.0 290.6, 722.0 291.4 Q 722.0 292.3, 721.6 293.0 Q 721.2 293.7, 720.5 294.1 Q 719.8 294.5, 718.9 294.5 Q 717.2 294.5, 716.4 293.4 Q 715.6 292.3, 715.6 290.0 Q 715.6 287.6, 716.6 286.3 Q 717.6 285.0, 719.6 285.0 Q 720.2 285.0, 720.7 285.1 Q 721.2 285.3, 721.7 285.5 L 721.2 286.4 Q 720.5 286.1, 719.6 286.1 Q 718.3 286.1, 717.7 286.9 Q 717.0 287.7, 716.9 289.5 Q 717.4 289.1, 718.0 288.8 Q 718.6 288.6, 719.2 288.6 M 718.9 293.4 Q 719.4 293.4, 719.8 293.2 Q 720.2 292.9, 720.5 292.5 Q 720.7 292.0, 720.7 291.4 Q 720.7 290.6, 720.3 290.1 Q 719.8 289.7, 719.0 289.7 Q 718.4 289.7, 717.9 289.9 Q 717.3 290.1, 716.9 290.5 Q 717.0 292.0, 717.4 292.7 Q 717.9 293.4, 718.9 293.4 \" fill=\"#000000\"/>\n",
       "<path class=\"bond-0 atom-0 atom-1\" d=\"M 958.5,172.9 L 975.6,182.8\" style=\"fill:none;fill-rule:evenodd;stroke:#000000;stroke-width:2.0px;stroke-linecap:butt;stroke-linejoin:miter;stroke-opacity:1\"/>\n",
       "<path class=\"bond-1 atom-1 atom-2\" d=\"M 974.6,181.1 L 981.6,177.1\" style=\"fill:none;fill-rule:evenodd;stroke:#000000;stroke-width:2.0px;stroke-linecap:butt;stroke-linejoin:miter;stroke-opacity:1\"/>\n",
       "<path class=\"bond-1 atom-1 atom-2\" d=\"M 981.6,177.1 L 988.5,173.1\" style=\"fill:none;fill-rule:evenodd;stroke:#FF0000;stroke-width:2.0px;stroke-linecap:butt;stroke-linejoin:miter;stroke-opacity:1\"/>\n",
       "<path class=\"bond-1 atom-1 atom-2\" d=\"M 976.6,184.5 L 983.5,180.5\" style=\"fill:none;fill-rule:evenodd;stroke:#000000;stroke-width:2.0px;stroke-linecap:butt;stroke-linejoin:miter;stroke-opacity:1\"/>\n",
       "<path class=\"bond-1 atom-1 atom-2\" d=\"M 983.5,180.5 L 990.5,176.5\" style=\"fill:none;fill-rule:evenodd;stroke:#FF0000;stroke-width:2.0px;stroke-linecap:butt;stroke-linejoin:miter;stroke-opacity:1\"/>\n",
       "<path class=\"bond-2 atom-1 atom-3\" d=\"M 975.6,182.8 L 975.6,191.0\" style=\"fill:none;fill-rule:evenodd;stroke:#000000;stroke-width:2.0px;stroke-linecap:butt;stroke-linejoin:miter;stroke-opacity:1\"/>\n",
       "<path class=\"bond-2 atom-1 atom-3\" d=\"M 975.6,191.0 L 975.6,199.1\" style=\"fill:none;fill-rule:evenodd;stroke:#FF0000;stroke-width:2.0px;stroke-linecap:butt;stroke-linejoin:miter;stroke-opacity:1\"/>\n",
       "<path class=\"bond-3 atom-3 atom-4\" d=\"M 978.8,204.5 L 985.8,208.5\" style=\"fill:none;fill-rule:evenodd;stroke:#FF0000;stroke-width:2.0px;stroke-linecap:butt;stroke-linejoin:miter;stroke-opacity:1\"/>\n",
       "<path class=\"bond-3 atom-3 atom-4\" d=\"M 985.8,208.5 L 992.7,212.5\" style=\"fill:none;fill-rule:evenodd;stroke:#000000;stroke-width:2.0px;stroke-linecap:butt;stroke-linejoin:miter;stroke-opacity:1\"/>\n",
       "<path class=\"bond-4 atom-4 atom-5\" d=\"M 992.7,212.5 L 994.7,232.3 L 990.7,232.3 Z\" style=\"fill:#000000;fill-rule:evenodd;fill-opacity:1;stroke:#000000;stroke-width:1.0px;stroke-linecap:butt;stroke-linejoin:miter;stroke-opacity:1;\"/>\n",
       "<path class=\"bond-5 atom-5 atom-6\" d=\"M 992.7,232.3 L 975.6,242.2\" style=\"fill:none;fill-rule:evenodd;stroke:#000000;stroke-width:2.0px;stroke-linecap:butt;stroke-linejoin:miter;stroke-opacity:1\"/>\n",
       "<path class=\"bond-6 atom-6 atom-7\" d=\"M 975.6,242.2 L 975.6,250.3\" style=\"fill:none;fill-rule:evenodd;stroke:#000000;stroke-width:2.0px;stroke-linecap:butt;stroke-linejoin:miter;stroke-opacity:1\"/>\n",
       "<path class=\"bond-6 atom-6 atom-7\" d=\"M 975.6,250.3 L 975.6,258.5\" style=\"fill:none;fill-rule:evenodd;stroke:#FF0000;stroke-width:2.0px;stroke-linecap:butt;stroke-linejoin:miter;stroke-opacity:1\"/>\n",
       "<path class=\"bond-7 atom-6 atom-8\" d=\"M 974.6,243.9 L 967.6,239.9\" style=\"fill:none;fill-rule:evenodd;stroke:#000000;stroke-width:2.0px;stroke-linecap:butt;stroke-linejoin:miter;stroke-opacity:1\"/>\n",
       "<path class=\"bond-7 atom-6 atom-8\" d=\"M 967.6,239.9 L 960.7,235.9\" style=\"fill:none;fill-rule:evenodd;stroke:#FF0000;stroke-width:2.0px;stroke-linecap:butt;stroke-linejoin:miter;stroke-opacity:1\"/>\n",
       "<path class=\"bond-7 atom-6 atom-8\" d=\"M 976.6,240.5 L 969.6,236.5\" style=\"fill:none;fill-rule:evenodd;stroke:#000000;stroke-width:2.0px;stroke-linecap:butt;stroke-linejoin:miter;stroke-opacity:1\"/>\n",
       "<path class=\"bond-7 atom-6 atom-8\" d=\"M 969.6,236.5 L 962.7,232.4\" style=\"fill:none;fill-rule:evenodd;stroke:#FF0000;stroke-width:2.0px;stroke-linecap:butt;stroke-linejoin:miter;stroke-opacity:1\"/>\n",
       "<path class=\"bond-8 atom-4 atom-9\" d=\"M 992.7,212.5 L 1009.9,202.6\" style=\"fill:none;fill-rule:evenodd;stroke:#000000;stroke-width:2.0px;stroke-linecap:butt;stroke-linejoin:miter;stroke-opacity:1\"/>\n",
       "<path class=\"bond-9 atom-9 atom-10\" d=\"M 1009.9,202.6 L 1017.0,206.8\" style=\"fill:none;fill-rule:evenodd;stroke:#000000;stroke-width:2.0px;stroke-linecap:butt;stroke-linejoin:miter;stroke-opacity:1\"/>\n",
       "<path class=\"bond-9 atom-9 atom-10\" d=\"M 1017.0,206.8 L 1024.2,210.9\" style=\"fill:none;fill-rule:evenodd;stroke:#0000FF;stroke-width:2.0px;stroke-linecap:butt;stroke-linejoin:miter;stroke-opacity:1\"/>\n",
       "<path class=\"bond-10 atom-10 atom-11\" d=\"M 1025.0,216.0 L 1021.0,222.8\" style=\"fill:none;fill-rule:evenodd;stroke:#0000FF;stroke-width:2.0px;stroke-linecap:butt;stroke-linejoin:miter;stroke-opacity:1\"/>\n",
       "<path class=\"bond-10 atom-10 atom-11\" d=\"M 1021.0,222.8 L 1017.1,229.6\" style=\"fill:none;fill-rule:evenodd;stroke:#000000;stroke-width:2.0px;stroke-linecap:butt;stroke-linejoin:miter;stroke-opacity:1\"/>\n",
       "<path class=\"bond-11 atom-10 atom-12\" d=\"M 1029.0,209.1 L 1032.9,202.2\" style=\"fill:none;fill-rule:evenodd;stroke:#0000FF;stroke-width:2.0px;stroke-linecap:butt;stroke-linejoin:miter;stroke-opacity:1\"/>\n",
       "<path class=\"bond-11 atom-10 atom-12\" d=\"M 1032.9,202.2 L 1036.9,195.4\" style=\"fill:none;fill-rule:evenodd;stroke:#000000;stroke-width:2.0px;stroke-linecap:butt;stroke-linejoin:miter;stroke-opacity:1\"/>\n",
       "<path class=\"bond-12 atom-10 atom-13\" d=\"M 1029.8,214.1 L 1036.9,218.3\" style=\"fill:none;fill-rule:evenodd;stroke:#0000FF;stroke-width:2.0px;stroke-linecap:butt;stroke-linejoin:miter;stroke-opacity:1\"/>\n",
       "<path class=\"bond-12 atom-10 atom-13\" d=\"M 1036.9,218.3 L 1044.1,222.4\" style=\"fill:none;fill-rule:evenodd;stroke:#000000;stroke-width:2.0px;stroke-linecap:butt;stroke-linejoin:miter;stroke-opacity:1\"/>\n",
       "<path class=\"atom-2\" d=\"M 990.1 173.0 Q 990.1 171.6, 990.8 170.9 Q 991.5 170.1, 992.7 170.1 Q 994.0 170.1, 994.6 170.9 Q 995.3 171.6, 995.3 173.0 Q 995.3 174.3, 994.6 175.1 Q 993.9 175.9, 992.7 175.9 Q 991.5 175.9, 990.8 175.1 Q 990.1 174.3, 990.1 173.0 M 992.7 175.2 Q 993.6 175.2, 994.0 174.7 Q 994.5 174.1, 994.5 173.0 Q 994.5 171.9, 994.0 171.3 Q 993.6 170.7, 992.7 170.7 Q 991.9 170.7, 991.4 171.3 Q 990.9 171.9, 990.9 173.0 Q 990.9 174.1, 991.4 174.7 Q 991.9 175.2, 992.7 175.2 \" fill=\"#FF0000\"/>\n",
       "<path class=\"atom-3\" d=\"M 973.0 202.6 Q 973.0 201.3, 973.7 200.5 Q 974.3 199.8, 975.6 199.8 Q 976.8 199.8, 977.5 200.5 Q 978.2 201.3, 978.2 202.6 Q 978.2 204.0, 977.5 204.8 Q 976.8 205.5, 975.6 205.5 Q 974.4 205.5, 973.7 204.8 Q 973.0 204.0, 973.0 202.6 M 975.6 204.9 Q 976.4 204.9, 976.9 204.3 Q 977.4 203.8, 977.4 202.6 Q 977.4 201.5, 976.9 201.0 Q 976.4 200.4, 975.6 200.4 Q 974.7 200.4, 974.3 201.0 Q 973.8 201.5, 973.8 202.6 Q 973.8 203.8, 974.3 204.3 Q 974.7 204.9, 975.6 204.9 \" fill=\"#FF0000\"/>\n",
       "<path class=\"atom-7\" d=\"M 973.0 262.0 Q 973.0 260.6, 973.7 259.9 Q 974.3 259.1, 975.6 259.1 Q 976.8 259.1, 977.5 259.9 Q 978.2 260.6, 978.2 262.0 Q 978.2 263.3, 977.5 264.1 Q 976.8 264.9, 975.6 264.9 Q 974.4 264.9, 973.7 264.1 Q 973.0 263.4, 973.0 262.0 M 975.6 264.3 Q 976.4 264.3, 976.9 263.7 Q 977.4 263.1, 977.4 262.0 Q 977.4 260.9, 976.9 260.3 Q 976.4 259.8, 975.6 259.8 Q 974.7 259.8, 974.3 260.3 Q 973.8 260.9, 973.8 262.0 Q 973.8 263.1, 974.3 263.7 Q 974.7 264.3, 975.6 264.3 \" fill=\"#FF0000\"/>\n",
       "<path class=\"atom-7\" d=\"M 978.6 259.2 L 979.3 259.2 L 979.3 261.6 L 982.2 261.6 L 982.2 259.2 L 982.9 259.2 L 982.9 264.8 L 982.2 264.8 L 982.2 262.2 L 979.3 262.2 L 979.3 264.8 L 978.6 264.8 L 978.6 259.2 \" fill=\"#FF0000\"/>\n",
       "<path class=\"atom-8\" d=\"M 955.9 232.3 Q 955.9 231.0, 956.5 230.2 Q 957.2 229.5, 958.5 229.5 Q 959.7 229.5, 960.4 230.2 Q 961.0 231.0, 961.0 232.3 Q 961.0 233.7, 960.4 234.4 Q 959.7 235.2, 958.5 235.2 Q 957.2 235.2, 956.5 234.4 Q 955.9 233.7, 955.9 232.3 M 958.5 234.6 Q 959.3 234.6, 959.8 234.0 Q 960.2 233.4, 960.2 232.3 Q 960.2 231.2, 959.8 230.7 Q 959.3 230.1, 958.5 230.1 Q 957.6 230.1, 957.1 230.6 Q 956.7 231.2, 956.7 232.3 Q 956.7 233.4, 957.1 234.0 Q 957.6 234.6, 958.5 234.6 \" fill=\"#FF0000\"/>\n",
       "<path class=\"atom-10\" d=\"M 1025.7 209.7 L 1027.6 212.7 Q 1027.8 213.0, 1028.1 213.5 Q 1028.4 214.0, 1028.4 214.1 L 1028.4 209.7 L 1029.1 209.7 L 1029.1 215.3 L 1028.3 215.3 L 1026.4 212.1 Q 1026.1 211.7, 1025.9 211.3 Q 1025.7 210.8, 1025.6 210.7 L 1025.6 215.3 L 1024.9 215.3 L 1024.9 209.7 L 1025.7 209.7 \" fill=\"#0000FF\"/>\n",
       "<path class=\"atom-10\" d=\"M 1029.8 210.7 L 1030.8 210.7 L 1030.8 209.7 L 1031.2 209.7 L 1031.2 210.7 L 1032.2 210.7 L 1032.2 211.1 L 1031.2 211.1 L 1031.2 212.1 L 1030.8 212.1 L 1030.8 211.1 L 1029.8 211.1 L 1029.8 210.7 \" fill=\"#0000FF\"/>\n",
       "<path class=\"legend\" d=\"M 894.3 293.7 L 892.3 290.1 L 892.2 290.1 L 890.9 290.1 L 890.9 293.7 L 889.7 293.7 L 889.7 285.1 L 892.2 285.1 Q 893.7 285.1, 894.4 285.8 Q 895.2 286.4, 895.2 287.6 Q 895.2 288.5, 894.7 289.1 Q 894.3 289.7, 893.4 290.0 L 895.6 293.7 L 894.3 293.7 M 890.9 289.2 L 892.2 289.2 Q 893.1 289.2, 893.5 288.8 Q 894.0 288.4, 894.0 287.6 Q 894.0 286.9, 893.5 286.5 Q 893.1 286.1, 892.2 286.1 L 890.9 286.1 L 890.9 289.2 \" fill=\"#000000\"/>\n",
       "<path class=\"legend\" d=\"M 898.7 285.1 Q 900.6 285.1, 901.6 286.2 Q 902.6 287.3, 902.6 289.4 Q 902.6 291.4, 901.6 292.5 Q 900.5 293.7, 898.7 293.7 L 895.9 293.7 L 895.9 285.1 L 898.7 285.1 M 898.7 292.7 Q 900.0 292.7, 900.7 291.9 Q 901.4 291.0, 901.4 289.4 Q 901.4 287.7, 900.7 286.9 Q 900.0 286.1, 898.7 286.1 L 897.0 286.1 L 897.0 292.7 L 898.7 292.7 \" fill=\"#000000\"/>\n",
       "<path class=\"legend\" d=\"M 903.1 285.1 L 904.3 285.1 L 904.3 288.7 L 908.7 288.7 L 908.7 285.1 L 909.8 285.1 L 909.8 293.7 L 908.7 293.7 L 908.7 289.7 L 904.3 289.7 L 904.3 293.7 L 903.1 293.7 L 903.1 285.1 \" fill=\"#000000\"/>\n",
       "<path class=\"legend\" d=\"M 916.8 295.2 Q 917.2 295.2, 917.6 295.0 L 918.0 296.0 Q 917.3 296.2, 916.7 296.2 Q 915.6 296.2, 914.9 295.6 Q 914.2 295.0, 914.1 293.7 Q 912.5 293.5, 911.7 292.4 Q 910.9 291.2, 910.9 289.4 Q 910.9 287.3, 911.9 286.1 Q 912.9 285.0, 914.8 285.0 Q 916.7 285.0, 917.7 286.1 Q 918.7 287.3, 918.7 289.4 Q 918.7 291.4, 917.8 292.5 Q 916.8 293.7, 915.1 293.8 Q 915.2 294.4, 915.7 294.8 Q 916.1 295.2, 916.8 295.2 M 912.1 289.4 Q 912.1 291.1, 912.8 292.0 Q 913.5 292.8, 914.8 292.8 Q 916.1 292.8, 916.8 292.0 Q 917.5 291.1, 917.5 289.4 Q 917.5 287.7, 916.8 286.8 Q 916.1 286.0, 914.8 286.0 Q 913.5 286.0, 912.8 286.8 Q 912.1 287.7, 912.1 289.4 \" fill=\"#000000\"/>\n",
       "<path class=\"legend\" d=\"M 919.3 285.1 L 924.4 285.1 L 924.4 286.1 L 920.5 286.1 L 920.5 288.7 L 924.0 288.7 L 924.0 289.7 L 920.5 289.7 L 920.5 293.7 L 919.3 293.7 L 919.3 285.1 \" fill=\"#000000\"/>\n",
       "<path class=\"legend\" d=\"M 924.7 285.1 L 925.8 285.1 L 925.8 293.7 L 924.7 293.7 L 924.7 285.1 M 929.4 285.1 L 931.0 285.1 L 927.6 289.0 L 931.3 293.7 L 929.8 293.7 L 926.1 289.0 L 929.4 285.1 \" fill=\"#000000\"/>\n",
       "<path class=\"legend\" d=\"M 937.3 295.2 Q 937.7 295.2, 938.2 295.0 L 938.5 296.0 Q 937.8 296.2, 937.2 296.2 Q 936.1 296.2, 935.4 295.6 Q 934.7 295.0, 934.6 293.7 Q 933.0 293.5, 932.2 292.4 Q 931.4 291.2, 931.4 289.4 Q 931.4 287.3, 932.4 286.1 Q 933.4 285.0, 935.3 285.0 Q 937.2 285.0, 938.2 286.1 Q 939.2 287.3, 939.2 289.4 Q 939.2 291.4, 938.3 292.5 Q 937.3 293.7, 935.6 293.8 Q 935.7 294.4, 936.2 294.8 Q 936.6 295.2, 937.3 295.2 M 932.6 289.4 Q 932.6 291.1, 933.3 292.0 Q 934.0 292.8, 935.3 292.8 Q 936.6 292.8, 937.3 292.0 Q 938.0 291.1, 938.0 289.4 Q 938.0 287.7, 937.3 286.8 Q 936.6 286.0, 935.3 286.0 Q 934.0 286.0, 933.3 286.8 Q 932.6 287.7, 932.6 289.4 \" fill=\"#000000\"/>\n",
       "<path class=\"legend\" d=\"M 939.8 285.1 L 941.0 285.1 L 941.0 293.7 L 939.8 293.7 L 939.8 285.1 \" fill=\"#000000\"/>\n",
       "<path class=\"legend\" d=\"M 948.9 289.5 L 948.9 293.1 Q 947.7 293.8, 945.9 293.8 Q 944.0 293.8, 943.0 292.6 Q 942.0 291.5, 942.0 289.4 Q 942.0 287.2, 943.0 286.1 Q 944.0 285.0, 945.9 285.0 Q 946.9 285.0, 947.7 285.3 Q 948.4 285.6, 948.9 286.2 L 948.1 286.9 Q 947.3 286.0, 945.9 286.0 Q 944.6 286.0, 944.0 286.8 Q 943.3 287.7, 943.3 289.4 Q 943.3 291.1, 944.0 291.9 Q 944.7 292.8, 946.1 292.8 Q 947.0 292.8, 947.8 292.5 L 947.8 289.5 L 948.9 289.5 \" fill=\"#000000\"/>\n",
       "<path class=\"legend\" d=\"M 951.2 285.1 L 954.0 289.6 Q 954.3 290.1, 954.7 290.9 Q 955.2 291.7, 955.2 291.7 L 955.2 285.1 L 956.3 285.1 L 956.3 293.7 L 955.2 293.7 L 952.1 288.7 Q 951.8 288.1, 951.4 287.5 Q 951.1 286.8, 950.9 286.6 L 950.9 293.7 L 949.8 293.7 L 949.8 285.1 L 951.2 285.1 \" fill=\"#000000\"/>\n",
       "<path class=\"legend\" d=\"M 964.2 289.5 L 964.2 293.1 Q 963.0 293.8, 961.2 293.8 Q 959.3 293.8, 958.3 292.6 Q 957.3 291.5, 957.3 289.4 Q 957.3 287.2, 958.3 286.1 Q 959.3 285.0, 961.2 285.0 Q 962.2 285.0, 962.9 285.3 Q 963.7 285.6, 964.2 286.2 L 963.4 286.9 Q 962.6 286.0, 961.2 286.0 Q 959.9 286.0, 959.2 286.8 Q 958.6 287.7, 958.6 289.4 Q 958.6 291.1, 959.3 291.9 Q 960.0 292.8, 961.4 292.8 Q 962.3 292.8, 963.1 292.5 L 963.1 289.5 L 964.2 289.5 \" fill=\"#000000\"/>\n",
       "<path class=\"legend\" d=\"M 965.1 285.1 L 966.3 285.1 L 966.3 293.7 L 965.1 293.7 L 965.1 285.1 \" fill=\"#000000\"/>\n",
       "<path class=\"legend\" d=\"M 967.3 285.1 L 972.4 285.1 L 972.4 286.1 L 968.5 286.1 L 968.5 288.7 L 972.0 288.7 L 972.0 289.7 L 968.5 289.7 L 968.5 292.7 L 972.6 292.7 L 972.6 293.7 L 967.3 293.7 L 967.3 285.1 \" fill=\"#000000\"/>\n",
       "<path class=\"legend\" d=\"M 975.9 285.1 Q 977.8 285.1, 978.8 286.2 Q 979.9 287.3, 979.9 289.4 Q 979.9 291.4, 978.8 292.5 Q 977.8 293.7, 975.9 293.7 L 973.2 293.7 L 973.2 285.1 L 975.9 285.1 M 975.9 292.7 Q 977.2 292.7, 977.9 291.9 Q 978.7 291.0, 978.7 289.4 Q 978.7 287.7, 977.9 286.9 Q 977.2 286.1, 975.9 286.1 L 974.3 286.1 L 974.3 292.7 L 975.9 292.7 \" fill=\"#000000\"/>\n",
       "<path class=\"legend\" d=\"\" fill=\"#000000\"/>\n",
       "<path class=\"legend\" d=\"M 984.4 292.2 L 985.6 292.2 L 985.6 293.5 L 984.4 293.5 L 984.4 292.2 M 984.4 288.1 L 985.6 288.1 L 985.6 289.3 L 984.4 289.3 L 984.4 288.1 \" fill=\"#000000\"/>\n",
       "<path class=\"legend\" d=\"\" fill=\"#000000\"/>\n",
       "<path class=\"legend\" d=\"M 990.6 289.4 Q 990.6 287.2, 991.6 286.1 Q 992.6 285.0, 994.5 285.0 Q 996.2 285.0, 997.2 286.2 L 996.4 286.9 Q 995.7 286.0, 994.5 286.0 Q 993.2 286.0, 992.5 286.9 Q 991.8 287.7, 991.8 289.4 Q 991.8 291.1, 992.5 291.9 Q 993.2 292.8, 994.6 292.8 Q 995.6 292.8, 996.7 292.2 L 997.0 293.1 Q 996.6 293.4, 995.9 293.6 Q 995.2 293.8, 994.4 293.8 Q 992.6 293.8, 991.6 292.6 Q 990.6 291.5, 990.6 289.4 \" fill=\"#000000\"/>\n",
       "<path class=\"legend\" d=\"M 997.7 289.4 Q 997.7 287.2, 998.7 286.1 Q 999.7 285.0, 1001.6 285.0 Q 1003.3 285.0, 1004.3 286.2 L 1003.5 286.9 Q 1002.8 286.0, 1001.6 286.0 Q 1000.3 286.0, 999.6 286.9 Q 998.9 287.7, 998.9 289.4 Q 998.9 291.1, 999.6 291.9 Q 1000.3 292.8, 1001.7 292.8 Q 1002.6 292.8, 1003.7 292.2 L 1004.1 293.1 Q 1003.6 293.4, 1003.0 293.6 Q 1002.3 293.8, 1001.5 293.8 Q 999.7 293.8, 998.7 292.6 Q 997.7 291.5, 997.7 289.4 \" fill=\"#000000\"/>\n",
       "<path class=\"legend\" d=\"M 1014.6 293.7 L 1013.4 293.7 L 1012.6 286.7 L 1010.2 293.7 L 1009.1 293.7 L 1006.8 286.7 L 1005.9 293.7 L 1004.8 293.7 L 1005.9 285.1 L 1007.3 285.1 L 1009.7 292.0 L 1012.0 285.1 L 1013.5 285.1 L 1014.6 293.7 \" fill=\"#000000\"/>\n",
       "<path class=\"legend\" d=\"M 1015.7 292.3 Q 1015.8 292.4, 1016.2 292.5 Q 1016.6 292.7, 1017.0 292.8 Q 1017.4 292.9, 1017.9 292.9 Q 1018.7 292.9, 1019.2 292.5 Q 1019.6 292.1, 1019.6 291.4 Q 1019.6 291.0, 1019.4 290.7 Q 1019.2 290.4, 1018.8 290.2 Q 1018.4 290.1, 1017.8 289.9 Q 1017.1 289.7, 1016.6 289.4 Q 1016.2 289.2, 1015.8 288.8 Q 1015.5 288.3, 1015.5 287.5 Q 1015.5 286.5, 1016.2 285.8 Q 1017.0 285.1, 1018.4 285.1 Q 1019.4 285.1, 1020.6 285.6 L 1020.3 286.5 Q 1019.2 286.1, 1018.5 286.1 Q 1017.6 286.1, 1017.2 286.5 Q 1016.7 286.8, 1016.7 287.4 Q 1016.7 287.8, 1017.0 288.1 Q 1017.2 288.4, 1017.5 288.6 Q 1017.9 288.7, 1018.5 288.9 Q 1019.2 289.1, 1019.7 289.4 Q 1020.2 289.6, 1020.5 290.1 Q 1020.8 290.6, 1020.8 291.4 Q 1020.8 292.6, 1020.0 293.3 Q 1019.2 293.9, 1017.9 293.9 Q 1017.2 293.9, 1016.6 293.7 Q 1016.0 293.6, 1015.3 293.3 L 1015.7 292.3 \" fill=\"#000000\"/>\n",
       "<path class=\"legend\" d=\"M 1021.4 285.1 L 1022.5 285.1 L 1022.5 292.7 L 1026.5 292.7 L 1026.5 293.7 L 1021.4 293.7 L 1021.4 285.1 \" fill=\"#000000\"/>\n",
       "<path class=\"legend\" d=\"M 1026.8 285.1 L 1028.0 285.1 L 1028.0 293.7 L 1026.8 293.7 L 1026.8 285.1 \" fill=\"#000000\"/>\n",
       "<path class=\"legend\" d=\"M 1033.2 289.2 Q 1034.0 289.4, 1034.4 289.9 Q 1034.8 290.4, 1034.8 291.1 Q 1034.8 292.3, 1034.1 293.0 Q 1033.3 293.7, 1031.9 293.7 L 1029.0 293.7 L 1029.0 285.1 L 1031.5 285.1 Q 1033.0 285.1, 1033.7 285.7 Q 1034.5 286.3, 1034.5 287.4 Q 1034.5 288.7, 1033.2 289.2 M 1030.2 286.1 L 1030.2 288.7 L 1031.5 288.7 Q 1032.4 288.7, 1032.8 288.4 Q 1033.3 288.1, 1033.3 287.4 Q 1033.3 286.1, 1031.5 286.1 L 1030.2 286.1 M 1031.9 292.7 Q 1032.7 292.7, 1033.2 292.3 Q 1033.6 291.9, 1033.6 291.1 Q 1033.6 290.4, 1033.1 290.1 Q 1032.6 289.7, 1031.7 289.7 L 1030.2 289.7 L 1030.2 292.7 L 1031.9 292.7 \" fill=\"#000000\"/>\n",
       "<path class=\"legend\" d=\"M 1038.5 293.8 Q 1037.0 293.8, 1036.2 292.6 Q 1035.4 291.4, 1035.4 289.4 Q 1035.4 287.3, 1036.2 286.1 Q 1036.9 285.0, 1038.5 285.0 Q 1040.1 285.0, 1040.9 286.1 Q 1041.7 287.3, 1041.7 289.4 Q 1041.7 291.4, 1040.9 292.6 Q 1040.1 293.8, 1038.5 293.8 M 1038.5 292.8 Q 1039.5 292.8, 1040.0 291.9 Q 1040.4 291.1, 1040.4 289.4 Q 1040.4 287.7, 1040.0 286.8 Q 1039.5 286.0, 1038.5 286.0 Q 1037.6 286.0, 1037.1 286.8 Q 1036.6 287.7, 1036.6 289.4 Q 1036.6 291.1, 1037.1 291.9 Q 1037.6 292.8, 1038.5 292.8 \" fill=\"#000000\"/>\n",
       "<path class=\"legend\" d=\"M 1045.6 293.8 Q 1044.0 293.8, 1043.2 292.6 Q 1042.4 291.4, 1042.4 289.4 Q 1042.4 287.3, 1043.2 286.1 Q 1044.0 285.0, 1045.6 285.0 Q 1047.2 285.0, 1047.9 286.1 Q 1048.7 287.3, 1048.7 289.4 Q 1048.7 291.4, 1047.9 292.6 Q 1047.2 293.8, 1045.6 293.8 M 1045.6 292.8 Q 1046.5 292.8, 1047.0 291.9 Q 1047.5 291.1, 1047.5 289.4 Q 1047.5 287.7, 1047.0 286.8 Q 1046.5 286.0, 1045.6 286.0 Q 1044.7 286.0, 1044.2 286.8 Q 1043.7 287.7, 1043.7 289.4 Q 1043.7 291.1, 1044.2 291.9 Q 1044.7 292.8, 1045.6 292.8 \" fill=\"#000000\"/>\n",
       "<path class=\"legend\" d=\"M 1052.6 293.8 Q 1051.1 293.8, 1050.3 292.6 Q 1049.5 291.4, 1049.5 289.4 Q 1049.5 287.3, 1050.3 286.1 Q 1051.0 285.0, 1052.6 285.0 Q 1054.2 285.0, 1055.0 286.1 Q 1055.8 287.3, 1055.8 289.4 Q 1055.8 291.4, 1055.0 292.6 Q 1054.2 293.8, 1052.6 293.8 M 1052.6 292.8 Q 1053.6 292.8, 1054.1 291.9 Q 1054.6 291.1, 1054.6 289.4 Q 1054.6 287.7, 1054.1 286.8 Q 1053.6 286.0, 1052.6 286.0 Q 1051.7 286.0, 1051.2 286.8 Q 1050.7 287.7, 1050.7 289.4 Q 1050.7 291.1, 1051.2 291.9 Q 1051.7 292.8, 1052.6 292.8 \" fill=\"#000000\"/>\n",
       "<path class=\"legend\" d=\"M 1059.7 293.8 Q 1058.1 293.8, 1057.3 292.6 Q 1056.6 291.4, 1056.6 289.4 Q 1056.6 287.3, 1057.3 286.1 Q 1058.1 285.0, 1059.7 285.0 Q 1061.3 285.0, 1062.0 286.1 Q 1062.8 287.3, 1062.8 289.4 Q 1062.8 291.4, 1062.0 292.6 Q 1061.3 293.8, 1059.7 293.8 M 1059.7 292.8 Q 1060.6 292.8, 1061.1 291.9 Q 1061.6 291.1, 1061.6 289.4 Q 1061.6 287.7, 1061.1 286.8 Q 1060.6 286.0, 1059.7 286.0 Q 1058.8 286.0, 1058.3 286.8 Q 1057.8 287.7, 1057.8 289.4 Q 1057.8 291.1, 1058.3 291.9 Q 1058.8 292.8, 1059.7 292.8 \" fill=\"#000000\"/>\n",
       "<path class=\"legend\" d=\"M 1066.7 288.3 Q 1067.5 288.3, 1068.1 288.6 Q 1068.7 288.9, 1069.0 289.5 Q 1069.4 290.1, 1069.4 291.0 Q 1069.4 291.8, 1069.0 292.5 Q 1068.5 293.1, 1067.8 293.4 Q 1067.1 293.8, 1066.3 293.8 Q 1065.6 293.8, 1064.8 293.5 Q 1064.1 293.2, 1063.6 292.6 L 1064.3 291.9 Q 1064.7 292.3, 1065.3 292.5 Q 1065.8 292.8, 1066.4 292.8 Q 1067.1 292.8, 1067.7 292.3 Q 1068.2 291.8, 1068.2 291.0 Q 1068.2 290.1, 1067.7 289.6 Q 1067.1 289.2, 1066.3 289.2 Q 1065.6 289.2, 1064.7 289.5 L 1064.1 289.2 L 1064.5 285.1 L 1068.9 285.1 L 1068.7 286.1 L 1065.5 286.1 L 1065.2 288.6 Q 1066.0 288.3, 1066.7 288.3 \" fill=\"#000000\"/>\n",
       "<path class=\"legend\" d=\"M 1074.3 289.1 Q 1075.1 289.5, 1075.6 290.0 Q 1076.0 290.5, 1076.0 291.3 Q 1076.0 292.0, 1075.7 292.6 Q 1075.3 293.2, 1074.6 293.5 Q 1073.9 293.8, 1073.1 293.8 Q 1071.6 293.8, 1070.8 293.1 Q 1070.0 292.5, 1070.0 291.3 Q 1070.0 290.6, 1070.3 290.1 Q 1070.7 289.6, 1071.5 289.2 Q 1070.9 288.8, 1070.6 288.4 Q 1070.3 287.9, 1070.3 287.2 Q 1070.3 286.2, 1071.0 285.6 Q 1071.8 285.0, 1073.0 285.0 Q 1074.2 285.0, 1075.0 285.6 Q 1075.7 286.2, 1075.7 287.2 Q 1075.7 287.8, 1075.4 288.3 Q 1075.0 288.7, 1074.3 289.1 M 1073.0 285.9 Q 1072.3 285.9, 1071.9 286.2 Q 1071.5 286.6, 1071.5 287.2 Q 1071.5 287.6, 1071.8 287.9 Q 1072.0 288.2, 1072.4 288.4 Q 1072.8 288.6, 1073.5 288.8 Q 1074.1 288.5, 1074.3 288.1 Q 1074.5 287.7, 1074.5 287.2 Q 1074.5 286.6, 1074.1 286.2 Q 1073.7 285.9, 1073.0 285.9 M 1073.1 292.9 Q 1073.8 292.9, 1074.3 292.5 Q 1074.8 292.0, 1074.8 291.3 Q 1074.8 290.8, 1074.6 290.6 Q 1074.3 290.3, 1073.9 290.1 Q 1073.5 289.9, 1072.9 289.7 L 1072.3 289.5 Q 1071.7 289.9, 1071.5 290.3 Q 1071.2 290.7, 1071.2 291.3 Q 1071.2 292.0, 1071.7 292.5 Q 1072.2 292.9, 1073.1 292.9 \" fill=\"#000000\"/>\n",
       "<path class=\"legend\" d=\"M 1081.2 289.1 Q 1081.9 289.5, 1082.4 290.0 Q 1082.8 290.5, 1082.8 291.3 Q 1082.8 292.0, 1082.5 292.6 Q 1082.1 293.2, 1081.4 293.5 Q 1080.7 293.8, 1079.9 293.8 Q 1078.4 293.8, 1077.6 293.1 Q 1076.8 292.5, 1076.8 291.3 Q 1076.8 290.6, 1077.2 290.1 Q 1077.5 289.6, 1078.3 289.2 Q 1077.7 288.8, 1077.4 288.4 Q 1077.1 287.9, 1077.1 287.2 Q 1077.1 286.2, 1077.8 285.6 Q 1078.6 285.0, 1079.8 285.0 Q 1081.1 285.0, 1081.8 285.6 Q 1082.5 286.2, 1082.5 287.2 Q 1082.5 287.8, 1082.2 288.3 Q 1081.8 288.7, 1081.2 289.1 M 1079.8 285.9 Q 1079.1 285.9, 1078.7 286.2 Q 1078.3 286.6, 1078.3 287.2 Q 1078.3 287.6, 1078.6 287.9 Q 1078.8 288.2, 1079.2 288.4 Q 1079.6 288.6, 1080.3 288.8 Q 1080.9 288.5, 1081.1 288.1 Q 1081.3 287.7, 1081.3 287.2 Q 1081.3 286.6, 1080.9 286.2 Q 1080.5 285.9, 1079.8 285.9 M 1079.9 292.9 Q 1080.7 292.9, 1081.1 292.5 Q 1081.6 292.0, 1081.6 291.3 Q 1081.6 290.8, 1081.4 290.6 Q 1081.1 290.3, 1080.7 290.1 Q 1080.4 289.9, 1079.7 289.7 L 1079.1 289.5 Q 1078.5 289.9, 1078.3 290.3 Q 1078.0 290.7, 1078.0 291.3 Q 1078.0 292.0, 1078.5 292.5 Q 1079.0 292.9, 1079.9 292.9 \" fill=\"#000000\"/>\n",
       "<path class=\"legend\" d=\"M 1089.2 290.7 L 1090.2 290.7 L 1090.2 291.7 L 1089.2 291.7 L 1089.2 293.7 L 1088.0 293.7 L 1088.0 291.7 L 1083.6 291.7 L 1083.6 290.9 L 1087.3 285.1 L 1089.2 285.1 L 1089.2 290.7 M 1085.0 290.7 L 1088.0 290.7 L 1088.0 285.9 L 1085.0 290.7 \" fill=\"#000000\"/>\n",
       "<path class=\"legend\" d=\"M 1093.7 285.0 Q 1095.2 285.0, 1095.9 286.0 Q 1096.7 287.1, 1096.7 289.1 Q 1096.7 291.4, 1095.8 292.6 Q 1094.8 293.8, 1093.0 293.8 Q 1092.5 293.8, 1092.0 293.6 Q 1091.6 293.5, 1091.1 293.3 L 1091.6 292.5 Q 1092.2 292.8, 1093.0 292.8 Q 1094.2 292.8, 1094.8 292.0 Q 1095.4 291.2, 1095.5 289.6 Q 1095.1 290.0, 1094.5 290.2 Q 1094.0 290.4, 1093.4 290.4 Q 1092.6 290.4, 1092.0 290.1 Q 1091.4 289.8, 1091.1 289.2 Q 1090.8 288.6, 1090.8 287.9 Q 1090.8 287.0, 1091.1 286.4 Q 1091.5 285.7, 1092.2 285.4 Q 1092.8 285.0, 1093.7 285.0 M 1092.0 287.8 Q 1092.0 288.6, 1092.4 289.0 Q 1092.8 289.5, 1093.6 289.5 Q 1094.1 289.5, 1094.6 289.3 Q 1095.1 289.1, 1095.5 288.7 Q 1095.5 287.3, 1095.0 286.6 Q 1094.6 286.0, 1093.7 286.0 Q 1093.2 286.0, 1092.8 286.2 Q 1092.4 286.5, 1092.2 286.9 Q 1092.0 287.3, 1092.0 287.8 \" fill=\"#000000\"/>\n",
       "<path class=\"legend\" d=\"M 1101.9 289.1 Q 1102.7 289.5, 1103.1 290.0 Q 1103.6 290.5, 1103.6 291.3 Q 1103.6 292.0, 1103.2 292.6 Q 1102.8 293.2, 1102.2 293.5 Q 1101.5 293.8, 1100.6 293.8 Q 1099.2 293.8, 1098.4 293.1 Q 1097.5 292.5, 1097.5 291.3 Q 1097.5 290.6, 1097.9 290.1 Q 1098.3 289.6, 1099.0 289.2 Q 1098.5 288.8, 1098.2 288.4 Q 1097.9 287.9, 1097.9 287.2 Q 1097.9 286.2, 1098.6 285.6 Q 1099.3 285.0, 1100.6 285.0 Q 1101.8 285.0, 1102.5 285.6 Q 1103.3 286.2, 1103.3 287.2 Q 1103.3 287.8, 1102.9 288.3 Q 1102.6 288.7, 1101.9 289.1 M 1100.6 285.9 Q 1099.9 285.9, 1099.5 286.2 Q 1099.1 286.6, 1099.1 287.2 Q 1099.1 287.6, 1099.3 287.9 Q 1099.6 288.2, 1100.0 288.4 Q 1100.4 288.6, 1101.1 288.8 Q 1101.6 288.5, 1101.8 288.1 Q 1102.1 287.7, 1102.1 287.2 Q 1102.1 286.6, 1101.7 286.2 Q 1101.3 285.9, 1100.6 285.9 M 1100.6 292.9 Q 1101.4 292.9, 1101.9 292.5 Q 1102.4 292.0, 1102.4 291.3 Q 1102.4 290.8, 1102.1 290.6 Q 1101.9 290.3, 1101.5 290.1 Q 1101.1 289.9, 1100.4 289.7 L 1099.9 289.5 Q 1099.3 289.9, 1099.0 290.3 Q 1098.8 290.7, 1098.8 291.3 Q 1098.8 292.0, 1099.3 292.5 Q 1099.8 292.9, 1100.6 292.9 \" fill=\"#000000\"/>\n",
       "<path class=\"legend\" d=\"M 1107.2 285.0 Q 1108.8 285.0, 1109.5 286.0 Q 1110.3 287.1, 1110.3 289.1 Q 1110.3 291.4, 1109.3 292.6 Q 1108.4 293.8, 1106.6 293.8 Q 1106.0 293.8, 1105.6 293.6 Q 1105.1 293.5, 1104.7 293.3 L 1105.2 292.5 Q 1105.8 292.8, 1106.6 292.8 Q 1107.8 292.8, 1108.4 292.0 Q 1109.0 291.2, 1109.1 289.6 Q 1108.6 290.0, 1108.1 290.2 Q 1107.5 290.4, 1106.9 290.4 Q 1106.2 290.4, 1105.6 290.1 Q 1105.0 289.8, 1104.7 289.2 Q 1104.4 288.6, 1104.4 287.9 Q 1104.4 287.0, 1104.7 286.4 Q 1105.1 285.7, 1105.7 285.4 Q 1106.4 285.0, 1107.2 285.0 M 1105.6 287.8 Q 1105.6 288.6, 1106.0 289.0 Q 1106.4 289.5, 1107.2 289.5 Q 1107.7 289.5, 1108.2 289.3 Q 1108.7 289.1, 1109.1 288.7 Q 1109.0 287.3, 1108.6 286.6 Q 1108.1 286.0, 1107.2 286.0 Q 1106.8 286.0, 1106.4 286.2 Q 1106.0 286.5, 1105.8 286.9 Q 1105.6 287.3, 1105.6 287.8 \" fill=\"#000000\"/>\n",
       "<path class=\"bond-0 atom-0 atom-1\" d=\"M 1453.8,206.4 L 1438.3,218.7\" style=\"fill:none;fill-rule:evenodd;stroke:#000000;stroke-width:2.0px;stroke-linecap:butt;stroke-linejoin:miter;stroke-opacity:1\"/>\n",
       "<path class=\"bond-1 atom-1 atom-2\" d=\"M 1438.3,218.7 L 1419.9,211.5\" style=\"fill:none;fill-rule:evenodd;stroke:#000000;stroke-width:2.0px;stroke-linecap:butt;stroke-linejoin:miter;stroke-opacity:1\"/>\n",
       "<path class=\"bond-2 atom-2 atom-3\" d=\"M 1417.9,211.8 L 1416.7,203.8\" style=\"fill:none;fill-rule:evenodd;stroke:#000000;stroke-width:2.0px;stroke-linecap:butt;stroke-linejoin:miter;stroke-opacity:1\"/>\n",
       "<path class=\"bond-2 atom-2 atom-3\" d=\"M 1416.7,203.8 L 1415.5,195.8\" style=\"fill:none;fill-rule:evenodd;stroke:#FF0000;stroke-width:2.0px;stroke-linecap:butt;stroke-linejoin:miter;stroke-opacity:1\"/>\n",
       "<path class=\"bond-2 atom-2 atom-3\" d=\"M 1421.8,211.2 L 1420.6,203.2\" style=\"fill:none;fill-rule:evenodd;stroke:#000000;stroke-width:2.0px;stroke-linecap:butt;stroke-linejoin:miter;stroke-opacity:1\"/>\n",
       "<path class=\"bond-2 atom-2 atom-3\" d=\"M 1420.6,203.2 L 1419.4,195.2\" style=\"fill:none;fill-rule:evenodd;stroke:#FF0000;stroke-width:2.0px;stroke-linecap:butt;stroke-linejoin:miter;stroke-opacity:1\"/>\n",
       "<path class=\"bond-3 atom-2 atom-4\" d=\"M 1419.9,211.5 L 1413.7,216.4\" style=\"fill:none;fill-rule:evenodd;stroke:#000000;stroke-width:2.0px;stroke-linecap:butt;stroke-linejoin:miter;stroke-opacity:1\"/>\n",
       "<path class=\"bond-3 atom-2 atom-4\" d=\"M 1413.7,216.4 L 1407.6,221.2\" style=\"fill:none;fill-rule:evenodd;stroke:#FF0000;stroke-width:2.0px;stroke-linecap:butt;stroke-linejoin:miter;stroke-opacity:1\"/>\n",
       "<path class=\"bond-4 atom-4 atom-5\" d=\"M 1401.2,222.5 L 1393.6,219.5\" style=\"fill:none;fill-rule:evenodd;stroke:#FF0000;stroke-width:2.0px;stroke-linecap:butt;stroke-linejoin:miter;stroke-opacity:1\"/>\n",
       "<path class=\"bond-4 atom-4 atom-5\" d=\"M 1393.6,219.5 L 1386.0,216.6\" style=\"fill:none;fill-rule:evenodd;stroke:#000000;stroke-width:2.0px;stroke-linecap:butt;stroke-linejoin:miter;stroke-opacity:1\"/>\n",
       "<path class=\"bond-5 atom-5 atom-6\" d=\"M 1380.4,220.1 L 1381.2,221.2\" style=\"fill:none;fill-rule:evenodd;stroke:#000000;stroke-width:1.0px;stroke-linecap:butt;stroke-linejoin:miter;stroke-opacity:1\"/>\n",
       "<path class=\"bond-5 atom-5 atom-6\" d=\"M 1374.8,223.7 L 1376.5,225.8\" style=\"fill:none;fill-rule:evenodd;stroke:#000000;stroke-width:1.0px;stroke-linecap:butt;stroke-linejoin:miter;stroke-opacity:1\"/>\n",
       "<path class=\"bond-5 atom-5 atom-6\" d=\"M 1369.3,227.3 L 1371.7,230.4\" style=\"fill:none;fill-rule:evenodd;stroke:#000000;stroke-width:1.0px;stroke-linecap:butt;stroke-linejoin:miter;stroke-opacity:1\"/>\n",
       "<path class=\"bond-6 atom-6 atom-7\" d=\"M 1370.5,228.9 L 1373.4,248.4\" style=\"fill:none;fill-rule:evenodd;stroke:#000000;stroke-width:2.0px;stroke-linecap:butt;stroke-linejoin:miter;stroke-opacity:1\"/>\n",
       "<path class=\"bond-7 atom-7 atom-8\" d=\"M 1373.4,248.4 L 1367.3,253.3\" style=\"fill:none;fill-rule:evenodd;stroke:#000000;stroke-width:2.0px;stroke-linecap:butt;stroke-linejoin:miter;stroke-opacity:1\"/>\n",
       "<path class=\"bond-7 atom-7 atom-8\" d=\"M 1367.3,253.3 L 1361.2,258.2\" style=\"fill:none;fill-rule:evenodd;stroke:#FF0000;stroke-width:2.0px;stroke-linecap:butt;stroke-linejoin:miter;stroke-opacity:1\"/>\n",
       "<path class=\"bond-8 atom-7 atom-9\" d=\"M 1374.1,246.6 L 1381.7,249.6\" style=\"fill:none;fill-rule:evenodd;stroke:#000000;stroke-width:2.0px;stroke-linecap:butt;stroke-linejoin:miter;stroke-opacity:1\"/>\n",
       "<path class=\"bond-8 atom-7 atom-9\" d=\"M 1381.7,249.6 L 1389.3,252.6\" style=\"fill:none;fill-rule:evenodd;stroke:#FF0000;stroke-width:2.0px;stroke-linecap:butt;stroke-linejoin:miter;stroke-opacity:1\"/>\n",
       "<path class=\"bond-8 atom-7 atom-9\" d=\"M 1372.7,250.3 L 1380.3,253.3\" style=\"fill:none;fill-rule:evenodd;stroke:#000000;stroke-width:2.0px;stroke-linecap:butt;stroke-linejoin:miter;stroke-opacity:1\"/>\n",
       "<path class=\"bond-8 atom-7 atom-9\" d=\"M 1380.3,253.3 L 1387.9,256.3\" style=\"fill:none;fill-rule:evenodd;stroke:#FF0000;stroke-width:2.0px;stroke-linecap:butt;stroke-linejoin:miter;stroke-opacity:1\"/>\n",
       "<path class=\"bond-9 atom-5 atom-10\" d=\"M 1386.0,216.6 L 1383.1,197.0\" style=\"fill:none;fill-rule:evenodd;stroke:#000000;stroke-width:2.0px;stroke-linecap:butt;stroke-linejoin:miter;stroke-opacity:1\"/>\n",
       "<path class=\"bond-10 atom-10 atom-11\" d=\"M 1383.1,197.0 L 1375.2,193.9\" style=\"fill:none;fill-rule:evenodd;stroke:#000000;stroke-width:2.0px;stroke-linecap:butt;stroke-linejoin:miter;stroke-opacity:1\"/>\n",
       "<path class=\"bond-10 atom-10 atom-11\" d=\"M 1375.2,193.9 L 1367.4,190.8\" style=\"fill:none;fill-rule:evenodd;stroke:#0000FF;stroke-width:2.0px;stroke-linecap:butt;stroke-linejoin:miter;stroke-opacity:1\"/>\n",
       "<path class=\"bond-11 atom-11 atom-12\" d=\"M 1363.3,193.2 L 1360.3,200.7\" style=\"fill:none;fill-rule:evenodd;stroke:#0000FF;stroke-width:2.0px;stroke-linecap:butt;stroke-linejoin:miter;stroke-opacity:1\"/>\n",
       "<path class=\"bond-11 atom-11 atom-12\" d=\"M 1360.3,200.7 L 1357.4,208.1\" style=\"fill:none;fill-rule:evenodd;stroke:#000000;stroke-width:2.0px;stroke-linecap:butt;stroke-linejoin:miter;stroke-opacity:1\"/>\n",
       "<path class=\"bond-12 atom-11 atom-13\" d=\"M 1366.0,186.3 L 1369.0,178.8\" style=\"fill:none;fill-rule:evenodd;stroke:#0000FF;stroke-width:2.0px;stroke-linecap:butt;stroke-linejoin:miter;stroke-opacity:1\"/>\n",
       "<path class=\"bond-12 atom-11 atom-13\" d=\"M 1369.0,178.8 L 1371.9,171.3\" style=\"fill:none;fill-rule:evenodd;stroke:#000000;stroke-width:2.0px;stroke-linecap:butt;stroke-linejoin:miter;stroke-opacity:1\"/>\n",
       "<path class=\"bond-13 atom-11 atom-14\" d=\"M 1361.9,188.6 L 1354.1,185.6\" style=\"fill:none;fill-rule:evenodd;stroke:#0000FF;stroke-width:2.0px;stroke-linecap:butt;stroke-linejoin:miter;stroke-opacity:1\"/>\n",
       "<path class=\"bond-13 atom-11 atom-14\" d=\"M 1354.1,185.6 L 1346.2,182.5\" style=\"fill:none;fill-rule:evenodd;stroke:#000000;stroke-width:2.0px;stroke-linecap:butt;stroke-linejoin:miter;stroke-opacity:1\"/>\n",
       "<path class=\"atom-3\" d=\"M 1414.4 191.9 Q 1414.4 190.6, 1415.0 189.8 Q 1415.7 189.1, 1416.9 189.1 Q 1418.2 189.1, 1418.9 189.8 Q 1419.5 190.6, 1419.5 191.9 Q 1419.5 193.3, 1418.8 194.1 Q 1418.2 194.8, 1416.9 194.8 Q 1415.7 194.8, 1415.0 194.1 Q 1414.4 193.3, 1414.4 191.9 M 1416.9 194.2 Q 1417.8 194.2, 1418.3 193.6 Q 1418.7 193.1, 1418.7 191.9 Q 1418.7 190.8, 1418.3 190.3 Q 1417.8 189.7, 1416.9 189.7 Q 1416.1 189.7, 1415.6 190.3 Q 1415.2 190.8, 1415.2 191.9 Q 1415.2 193.1, 1415.6 193.6 Q 1416.1 194.2, 1416.9 194.2 \" fill=\"#FF0000\"/>\n",
       "<path class=\"atom-4\" d=\"M 1401.8 223.8 Q 1401.8 222.5, 1402.5 221.7 Q 1403.1 221.0, 1404.4 221.0 Q 1405.6 221.0, 1406.3 221.7 Q 1407.0 222.5, 1407.0 223.8 Q 1407.0 225.2, 1406.3 226.0 Q 1405.6 226.7, 1404.4 226.7 Q 1403.2 226.7, 1402.5 226.0 Q 1401.8 225.2, 1401.8 223.8 M 1404.4 226.1 Q 1405.2 226.1, 1405.7 225.5 Q 1406.2 224.9, 1406.2 223.8 Q 1406.2 222.7, 1405.7 222.2 Q 1405.2 221.6, 1404.4 221.6 Q 1403.5 221.6, 1403.1 222.2 Q 1402.6 222.7, 1402.6 223.8 Q 1402.6 225.0, 1403.1 225.5 Q 1403.5 226.1, 1404.4 226.1 \" fill=\"#FF0000\"/>\n",
       "<path class=\"atom-8\" d=\"M 1350.3 258.0 L 1351.1 258.0 L 1351.1 260.4 L 1353.9 260.4 L 1353.9 258.0 L 1354.7 258.0 L 1354.7 263.6 L 1353.9 263.6 L 1353.9 261.0 L 1351.1 261.0 L 1351.1 263.6 L 1350.3 263.6 L 1350.3 258.0 \" fill=\"#FF0000\"/>\n",
       "<path class=\"atom-8\" d=\"M 1355.4 260.8 Q 1355.4 259.4, 1356.0 258.7 Q 1356.7 257.9, 1357.9 257.9 Q 1359.2 257.9, 1359.8 258.7 Q 1360.5 259.4, 1360.5 260.8 Q 1360.5 262.1, 1359.8 262.9 Q 1359.2 263.7, 1357.9 263.7 Q 1356.7 263.7, 1356.0 262.9 Q 1355.4 262.1, 1355.4 260.8 M 1357.9 263.0 Q 1358.8 263.0, 1359.3 262.5 Q 1359.7 261.9, 1359.7 260.8 Q 1359.7 259.7, 1359.3 259.1 Q 1358.8 258.5, 1357.9 258.5 Q 1357.1 258.5, 1356.6 259.1 Q 1356.2 259.7, 1356.2 260.8 Q 1356.2 261.9, 1356.6 262.5 Q 1357.1 263.0, 1357.9 263.0 \" fill=\"#FF0000\"/>\n",
       "<path class=\"atom-9\" d=\"M 1389.3 255.7 Q 1389.3 254.4, 1389.9 253.6 Q 1390.6 252.9, 1391.8 252.9 Q 1393.1 252.9, 1393.7 253.6 Q 1394.4 254.4, 1394.4 255.7 Q 1394.4 257.1, 1393.7 257.8 Q 1393.1 258.6, 1391.8 258.6 Q 1390.6 258.6, 1389.9 257.8 Q 1389.3 257.1, 1389.3 255.7 M 1391.8 258.0 Q 1392.7 258.0, 1393.1 257.4 Q 1393.6 256.8, 1393.6 255.7 Q 1393.6 254.6, 1393.1 254.0 Q 1392.7 253.5, 1391.8 253.5 Q 1391.0 253.5, 1390.5 254.0 Q 1390.0 254.6, 1390.0 255.7 Q 1390.0 256.8, 1390.5 257.4 Q 1391.0 258.0, 1391.8 258.0 \" fill=\"#FF0000\"/>\n",
       "<path class=\"atom-11\" d=\"M 1363.4 186.9 L 1365.2 189.9 Q 1365.4 190.2, 1365.7 190.7 Q 1366.0 191.3, 1366.0 191.3 L 1366.0 186.9 L 1366.8 186.9 L 1366.8 192.5 L 1366.0 192.5 L 1364.0 189.3 Q 1363.8 188.9, 1363.6 188.5 Q 1363.3 188.0, 1363.3 187.9 L 1363.3 192.5 L 1362.5 192.5 L 1362.5 186.9 L 1363.4 186.9 \" fill=\"#0000FF\"/>\n",
       "<path class=\"atom-11\" d=\"M 1367.4 187.9 L 1368.4 187.9 L 1368.4 186.9 L 1368.9 186.9 L 1368.9 187.9 L 1369.9 187.9 L 1369.9 188.3 L 1368.9 188.3 L 1368.9 189.4 L 1368.4 189.4 L 1368.4 188.3 L 1367.4 188.3 L 1367.4 187.9 \" fill=\"#0000FF\"/>\n",
       "<path class=\"legend\" d=\"M 1263.4 285.1 L 1263.4 292.4 Q 1263.4 293.7, 1264.1 294.2 Q 1264.8 294.8, 1266.2 294.8 Q 1267.6 294.8, 1268.3 294.3 Q 1269.0 293.7, 1269.0 292.5 L 1269.0 285.1 L 1270.4 285.1 L 1270.4 292.5 Q 1270.4 294.2, 1269.4 295.1 Q 1268.3 296.1, 1266.2 296.1 Q 1264.1 296.1, 1263.0 295.1 Q 1262.0 294.2, 1262.0 292.5 L 1262.0 285.1 L 1263.4 285.1 \" fill=\"#000000\"/>\n",
       "<path class=\"legend\" d=\"M 1271.6 285.1 L 1278.1 285.1 L 1278.1 286.4 L 1273.1 286.4 L 1273.1 289.7 L 1277.5 289.7 L 1277.5 290.9 L 1273.1 290.9 L 1273.1 296.0 L 1271.6 296.0 L 1271.6 285.1 \" fill=\"#000000\"/>\n",
       "<path class=\"legend\" d=\"M 1286.4 296.0 L 1285.3 292.8 L 1281.0 292.8 L 1279.9 296.0 L 1278.4 296.0 L 1282.2 285.1 L 1284.0 285.1 L 1287.8 296.0 L 1286.4 296.0 M 1281.4 291.6 L 1284.8 291.6 L 1283.1 286.6 L 1281.4 291.6 \" fill=\"#000000\"/>\n",
       "<path class=\"legend\" d=\"M 1288.0 285.1 L 1289.5 285.1 L 1289.5 289.7 L 1295.0 289.7 L 1295.0 285.1 L 1296.5 285.1 L 1296.5 296.0 L 1295.0 296.0 L 1295.0 291.0 L 1289.5 291.0 L 1289.5 296.0 L 1288.0 296.0 L 1288.0 285.1 \" fill=\"#000000\"/>\n",
       "<path class=\"legend\" d=\"M 1297.8 294.8 L 1303.3 286.4 L 1298.0 286.4 L 1298.0 285.1 L 1305.1 285.1 L 1305.1 286.2 L 1299.6 294.7 L 1305.0 294.7 L 1305.0 296.0 L 1297.8 296.0 L 1297.8 294.8 \" fill=\"#000000\"/>\n",
       "<path class=\"legend\" d=\"M 1305.8 285.1 L 1307.2 285.1 L 1307.2 296.0 L 1305.8 296.0 L 1305.8 285.1 \" fill=\"#000000\"/>\n",
       "<path class=\"legend\" d=\"M 1310.0 285.1 L 1310.0 292.4 Q 1310.0 293.7, 1310.7 294.2 Q 1311.4 294.8, 1312.8 294.8 Q 1314.1 294.8, 1314.8 294.3 Q 1315.6 293.7, 1315.6 292.5 L 1315.6 285.1 L 1317.0 285.1 L 1317.0 292.5 Q 1317.0 294.2, 1316.0 295.1 Q 1314.9 296.1, 1312.8 296.1 Q 1310.7 296.1, 1309.6 295.1 Q 1308.6 294.2, 1308.6 292.5 L 1308.6 285.1 L 1310.0 285.1 \" fill=\"#000000\"/>\n",
       "<path class=\"legend\" d=\"M 1318.2 285.1 L 1324.7 285.1 L 1324.7 286.4 L 1319.7 286.4 L 1319.7 289.7 L 1324.1 289.7 L 1324.1 290.9 L 1319.7 290.9 L 1319.7 296.0 L 1318.2 296.0 L 1318.2 285.1 \" fill=\"#000000\"/>\n",
       "<path class=\"legend\" d=\"M 1328.2 285.1 Q 1330.0 285.1, 1331.0 286.0 Q 1331.9 286.8, 1331.9 288.3 Q 1331.9 289.8, 1330.9 290.7 Q 1330.0 291.5, 1328.2 291.5 L 1326.5 291.5 L 1326.5 296.0 L 1325.0 296.0 L 1325.0 285.1 L 1328.2 285.1 M 1328.2 290.3 Q 1329.2 290.3, 1329.8 289.8 Q 1330.4 289.3, 1330.4 288.3 Q 1330.4 287.3, 1329.8 286.9 Q 1329.3 286.3, 1328.2 286.3 L 1326.5 286.3 L 1326.5 290.3 L 1328.2 290.3 \" fill=\"#000000\"/>\n",
       "<path class=\"legend\" d=\"M 1334.3 285.1 L 1337.9 290.9 Q 1338.2 291.4, 1338.8 292.5 Q 1339.4 293.5, 1339.4 293.5 L 1339.4 285.1 L 1340.9 285.1 L 1340.9 296.0 L 1339.4 296.0 L 1335.6 289.7 Q 1335.1 288.9, 1334.6 288.1 Q 1334.2 287.3, 1334.0 287.0 L 1334.0 296.0 L 1332.6 296.0 L 1332.6 285.1 L 1334.3 285.1 \" fill=\"#000000\"/>\n",
       "<path class=\"legend\" d=\"M 1342.5 294.3 Q 1342.7 294.3, 1343.2 294.5 Q 1343.7 294.8, 1344.2 294.9 Q 1344.8 295.0, 1345.3 295.0 Q 1346.4 295.0, 1347.0 294.5 Q 1347.6 294.0, 1347.6 293.1 Q 1347.6 292.5, 1347.2 292.2 Q 1347.0 291.8, 1346.5 291.6 Q 1346.0 291.4, 1345.3 291.2 Q 1344.3 290.9, 1343.7 290.6 Q 1343.2 290.3, 1342.7 289.8 Q 1342.4 289.2, 1342.4 288.2 Q 1342.4 286.8, 1343.3 286.0 Q 1344.2 285.2, 1346.0 285.2 Q 1347.3 285.2, 1348.7 285.8 L 1348.4 286.9 Q 1347.1 286.4, 1346.1 286.4 Q 1345.0 286.4, 1344.4 286.8 Q 1343.9 287.3, 1343.9 288.0 Q 1343.9 288.6, 1344.2 288.9 Q 1344.5 289.3, 1344.9 289.5 Q 1345.4 289.7, 1346.1 289.9 Q 1347.1 290.2, 1347.6 290.5 Q 1348.2 290.8, 1348.6 291.5 Q 1349.1 292.1, 1349.1 293.1 Q 1349.1 294.6, 1348.1 295.5 Q 1347.1 296.2, 1345.4 296.2 Q 1344.4 296.2, 1343.7 296.0 Q 1343.0 295.8, 1342.1 295.5 L 1342.5 294.3 \" fill=\"#000000\"/>\n",
       "<path class=\"legend\" d=\"M 1349.8 285.1 L 1351.3 285.1 L 1351.3 289.7 L 1356.8 289.7 L 1356.8 285.1 L 1358.3 285.1 L 1358.3 296.0 L 1356.8 296.0 L 1356.8 291.0 L 1351.3 291.0 L 1351.3 296.0 L 1349.8 296.0 L 1349.8 285.1 \" fill=\"#000000\"/>\n",
       "<path class=\"legend\" d=\"M 1360.0 294.3 Q 1360.1 294.3, 1360.6 294.5 Q 1361.1 294.8, 1361.7 294.9 Q 1362.2 295.0, 1362.8 295.0 Q 1363.8 295.0, 1364.4 294.5 Q 1365.0 294.0, 1365.0 293.1 Q 1365.0 292.5, 1364.7 292.2 Q 1364.4 291.8, 1363.9 291.6 Q 1363.5 291.4, 1362.7 291.2 Q 1361.8 290.9, 1361.2 290.6 Q 1360.6 290.3, 1360.2 289.8 Q 1359.8 289.2, 1359.8 288.2 Q 1359.8 286.8, 1360.7 286.0 Q 1361.7 285.2, 1363.5 285.2 Q 1364.7 285.2, 1366.2 285.8 L 1365.8 286.9 Q 1364.5 286.4, 1363.5 286.4 Q 1362.5 286.4, 1361.9 286.8 Q 1361.3 287.3, 1361.3 288.0 Q 1361.3 288.6, 1361.6 288.9 Q 1361.9 289.3, 1362.4 289.5 Q 1362.8 289.7, 1363.5 289.9 Q 1364.5 290.2, 1365.1 290.5 Q 1365.7 290.8, 1366.1 291.5 Q 1366.5 292.1, 1366.5 293.1 Q 1366.5 294.6, 1365.5 295.5 Q 1364.5 296.2, 1362.8 296.2 Q 1361.9 296.2, 1361.1 296.0 Q 1360.4 295.8, 1359.6 295.5 L 1360.0 294.3 \" fill=\"#000000\"/>\n",
       "<path class=\"legend\" d=\"M 1367.2 285.1 L 1368.7 285.1 L 1368.7 294.7 L 1373.7 294.7 L 1373.7 296.0 L 1367.2 296.0 L 1367.2 285.1 \" fill=\"#000000\"/>\n",
       "<path class=\"legend\" d=\"\" fill=\"#000000\"/>\n",
       "<path class=\"legend\" d=\"M 1379.2 294.2 L 1380.7 294.2 L 1380.7 295.7 L 1379.2 295.7 L 1379.2 294.2 M 1379.2 288.9 L 1380.7 288.9 L 1380.7 290.4 L 1379.2 290.4 L 1379.2 288.9 \" fill=\"#000000\"/>\n",
       "<path class=\"legend\" d=\"\" fill=\"#000000\"/>\n",
       "<path class=\"legend\" d=\"M 1387.0 290.5 Q 1387.0 287.8, 1388.2 286.4 Q 1389.5 285.0, 1391.9 285.0 Q 1394.1 285.0, 1395.3 286.6 L 1394.3 287.4 Q 1393.4 286.3, 1391.9 286.3 Q 1390.3 286.3, 1389.4 287.4 Q 1388.5 288.4, 1388.5 290.5 Q 1388.5 292.7, 1389.4 293.8 Q 1390.3 294.9, 1392.1 294.9 Q 1393.3 294.9, 1394.6 294.2 L 1395.1 295.3 Q 1394.5 295.7, 1393.7 295.9 Q 1392.8 296.1, 1391.8 296.1 Q 1389.5 296.1, 1388.2 294.7 Q 1387.0 293.2, 1387.0 290.5 \" fill=\"#000000\"/>\n",
       "<path class=\"legend\" d=\"M 1395.9 290.5 Q 1395.9 287.8, 1397.2 286.4 Q 1398.5 285.0, 1400.9 285.0 Q 1403.1 285.0, 1404.3 286.6 L 1403.3 287.4 Q 1402.4 286.3, 1400.9 286.3 Q 1399.2 286.3, 1398.4 287.4 Q 1397.5 288.4, 1397.5 290.5 Q 1397.5 292.7, 1398.4 293.8 Q 1399.3 294.9, 1401.0 294.9 Q 1402.2 294.9, 1403.6 294.2 L 1404.0 295.3 Q 1403.5 295.7, 1402.6 295.9 Q 1401.8 296.1, 1400.8 296.1 Q 1398.5 296.1, 1397.2 294.7 Q 1395.9 293.2, 1395.9 290.5 \" fill=\"#000000\"/>\n",
       "<path class=\"legend\" d=\"M 1417.3 296.0 L 1415.9 296.0 L 1414.8 287.1 L 1411.8 296.0 L 1410.4 296.0 L 1407.4 287.1 L 1406.3 296.0 L 1404.9 296.0 L 1406.3 285.1 L 1408.1 285.1 L 1411.1 293.8 L 1414.1 285.1 L 1415.9 285.1 L 1417.3 296.0 \" fill=\"#000000\"/>\n",
       "<path class=\"legend\" d=\"M 1418.7 294.3 Q 1418.8 294.3, 1419.3 294.5 Q 1419.8 294.8, 1420.4 294.9 Q 1420.9 295.0, 1421.5 295.0 Q 1422.5 295.0, 1423.1 294.5 Q 1423.7 294.0, 1423.7 293.1 Q 1423.7 292.5, 1423.4 292.2 Q 1423.1 291.8, 1422.7 291.6 Q 1422.2 291.4, 1421.4 291.2 Q 1420.5 290.9, 1419.9 290.6 Q 1419.3 290.3, 1418.9 289.8 Q 1418.5 289.2, 1418.5 288.2 Q 1418.5 286.8, 1419.4 286.0 Q 1420.4 285.2, 1422.2 285.2 Q 1423.5 285.2, 1424.9 285.8 L 1424.5 286.9 Q 1423.2 286.4, 1422.2 286.4 Q 1421.2 286.4, 1420.6 286.8 Q 1420.0 287.3, 1420.0 288.0 Q 1420.0 288.6, 1420.3 288.9 Q 1420.6 289.3, 1421.1 289.5 Q 1421.5 289.7, 1422.2 289.9 Q 1423.2 290.2, 1423.8 290.5 Q 1424.4 290.8, 1424.8 291.5 Q 1425.2 292.1, 1425.2 293.1 Q 1425.2 294.6, 1424.2 295.5 Q 1423.2 296.2, 1421.6 296.2 Q 1420.6 296.2, 1419.9 296.0 Q 1419.1 295.8, 1418.3 295.5 L 1418.7 294.3 \" fill=\"#000000\"/>\n",
       "<path class=\"legend\" d=\"M 1425.9 285.1 L 1427.4 285.1 L 1427.4 294.7 L 1432.4 294.7 L 1432.4 296.0 L 1425.9 296.0 L 1425.9 285.1 \" fill=\"#000000\"/>\n",
       "<path class=\"legend\" d=\"M 1432.8 285.1 L 1434.2 285.1 L 1434.2 296.0 L 1432.8 296.0 L 1432.8 285.1 \" fill=\"#000000\"/>\n",
       "<path class=\"legend\" d=\"M 1440.9 290.3 Q 1441.9 290.6, 1442.4 291.2 Q 1443.0 291.8, 1443.0 292.8 Q 1443.0 294.3, 1442.0 295.1 Q 1441.0 296.0, 1439.2 296.0 L 1435.6 296.0 L 1435.6 285.1 L 1438.8 285.1 Q 1440.6 285.1, 1441.6 285.9 Q 1442.5 286.6, 1442.5 288.0 Q 1442.5 289.6, 1440.9 290.3 M 1437.0 286.3 L 1437.0 289.7 L 1438.8 289.7 Q 1439.9 289.7, 1440.4 289.3 Q 1441.0 288.9, 1441.0 288.0 Q 1441.0 286.3, 1438.8 286.3 L 1437.0 286.3 M 1439.2 294.7 Q 1440.3 294.7, 1440.9 294.2 Q 1441.4 293.7, 1441.4 292.8 Q 1441.4 291.9, 1440.8 291.4 Q 1440.2 291.0, 1439.0 291.0 L 1437.0 291.0 L 1437.0 294.7 L 1439.2 294.7 \" fill=\"#000000\"/>\n",
       "<path class=\"legend\" d=\"M 1447.6 296.1 Q 1445.6 296.1, 1444.6 294.6 Q 1443.7 293.1, 1443.7 290.5 Q 1443.7 287.9, 1444.6 286.5 Q 1445.6 285.0, 1447.6 285.0 Q 1449.6 285.0, 1450.6 286.5 Q 1451.6 287.9, 1451.6 290.5 Q 1451.6 293.1, 1450.6 294.6 Q 1449.6 296.1, 1447.6 296.1 M 1447.6 294.9 Q 1448.8 294.9, 1449.4 293.8 Q 1450.1 292.7, 1450.1 290.5 Q 1450.1 288.4, 1449.4 287.3 Q 1448.8 286.2, 1447.6 286.2 Q 1446.5 286.2, 1445.8 287.3 Q 1445.2 288.4, 1445.2 290.5 Q 1445.2 292.7, 1445.8 293.8 Q 1446.5 294.9, 1447.6 294.9 \" fill=\"#000000\"/>\n",
       "<path class=\"legend\" d=\"M 1456.5 296.1 Q 1454.6 296.1, 1453.6 294.6 Q 1452.6 293.1, 1452.6 290.5 Q 1452.6 287.9, 1453.6 286.5 Q 1454.5 285.0, 1456.5 285.0 Q 1458.6 285.0, 1459.5 286.5 Q 1460.5 287.9, 1460.5 290.5 Q 1460.5 293.1, 1459.5 294.6 Q 1458.5 296.1, 1456.5 296.1 M 1456.5 294.9 Q 1457.7 294.9, 1458.4 293.8 Q 1459.0 292.7, 1459.0 290.5 Q 1459.0 288.4, 1458.4 287.3 Q 1457.7 286.2, 1456.5 286.2 Q 1455.4 286.2, 1454.7 287.3 Q 1454.1 288.4, 1454.1 290.5 Q 1454.1 292.7, 1454.7 293.8 Q 1455.4 294.9, 1456.5 294.9 \" fill=\"#000000\"/>\n",
       "<path class=\"legend\" d=\"M 1465.5 296.1 Q 1463.5 296.1, 1462.5 294.6 Q 1461.5 293.1, 1461.5 290.5 Q 1461.5 287.9, 1462.5 286.5 Q 1463.5 285.0, 1465.5 285.0 Q 1467.5 285.0, 1468.5 286.5 Q 1469.4 287.9, 1469.4 290.5 Q 1469.4 293.1, 1468.4 294.6 Q 1467.5 296.1, 1465.5 296.1 M 1465.5 294.9 Q 1466.6 294.9, 1467.3 293.8 Q 1467.9 292.7, 1467.9 290.5 Q 1467.9 288.4, 1467.3 287.3 Q 1466.6 286.2, 1465.5 286.2 Q 1464.3 286.2, 1463.7 287.3 Q 1463.0 288.4, 1463.0 290.5 Q 1463.0 292.7, 1463.7 293.8 Q 1464.3 294.9, 1465.5 294.9 \" fill=\"#000000\"/>\n",
       "<path class=\"legend\" d=\"M 1474.4 296.1 Q 1472.4 296.1, 1471.4 294.6 Q 1470.4 293.1, 1470.4 290.5 Q 1470.4 287.9, 1471.4 286.5 Q 1472.4 285.0, 1474.4 285.0 Q 1476.4 285.0, 1477.4 286.5 Q 1478.4 287.9, 1478.4 290.5 Q 1478.4 293.1, 1477.4 294.6 Q 1476.4 296.1, 1474.4 296.1 M 1474.4 294.9 Q 1475.6 294.9, 1476.2 293.8 Q 1476.8 292.7, 1476.8 290.5 Q 1476.8 288.4, 1476.2 287.3 Q 1475.6 286.2, 1474.4 286.2 Q 1473.2 286.2, 1472.6 287.3 Q 1472.0 288.4, 1472.0 290.5 Q 1472.0 292.7, 1472.6 293.8 Q 1473.2 294.9, 1474.4 294.9 \" fill=\"#000000\"/>\n",
       "<path class=\"legend\" d=\"M 1483.3 289.2 Q 1484.2 289.2, 1485.0 289.6 Q 1485.8 290.0, 1486.2 290.8 Q 1486.7 291.5, 1486.7 292.5 Q 1486.7 293.6, 1486.1 294.5 Q 1485.6 295.3, 1484.7 295.7 Q 1483.8 296.1, 1482.8 296.1 Q 1481.8 296.1, 1480.9 295.7 Q 1480.0 295.3, 1479.4 294.6 L 1480.3 293.7 Q 1480.8 294.2, 1481.5 294.6 Q 1482.2 294.8, 1482.9 294.8 Q 1483.8 294.8, 1484.5 294.2 Q 1485.2 293.6, 1485.2 292.6 Q 1485.2 291.4, 1484.5 290.9 Q 1483.8 290.3, 1482.8 290.3 Q 1481.8 290.3, 1480.8 290.7 L 1479.9 290.3 L 1480.4 285.1 L 1486.0 285.1 L 1485.9 286.3 L 1481.7 286.3 L 1481.4 289.6 Q 1482.3 289.2, 1483.3 289.2 \" fill=\"#000000\"/>\n",
       "<path class=\"legend\" d=\"M 1492.9 290.2 Q 1493.9 290.6, 1494.5 291.3 Q 1495.1 291.9, 1495.1 293.0 Q 1495.1 293.9, 1494.6 294.6 Q 1494.1 295.3, 1493.3 295.7 Q 1492.4 296.1, 1491.3 296.1 Q 1489.5 296.1, 1488.5 295.3 Q 1487.4 294.4, 1487.4 293.0 Q 1487.4 292.1, 1487.9 291.4 Q 1488.3 290.8, 1489.3 290.3 Q 1488.6 289.9, 1488.2 289.3 Q 1487.8 288.7, 1487.8 287.8 Q 1487.8 286.5, 1488.7 285.8 Q 1489.7 285.0, 1491.2 285.0 Q 1492.8 285.0, 1493.7 285.8 Q 1494.7 286.5, 1494.7 287.8 Q 1494.7 288.6, 1494.2 289.2 Q 1493.8 289.7, 1492.9 290.2 M 1491.2 286.1 Q 1490.3 286.1, 1489.8 286.6 Q 1489.3 287.0, 1489.3 287.8 Q 1489.3 288.3, 1489.7 288.7 Q 1490.0 289.1, 1490.5 289.3 Q 1491.0 289.5, 1491.9 289.8 Q 1492.6 289.4, 1492.9 288.9 Q 1493.1 288.4, 1493.1 287.8 Q 1493.1 287.0, 1492.6 286.6 Q 1492.1 286.1, 1491.2 286.1 M 1491.3 295.0 Q 1492.3 295.0, 1492.9 294.4 Q 1493.5 293.9, 1493.5 293.0 Q 1493.5 292.4, 1493.2 292.0 Q 1492.9 291.7, 1492.4 291.4 Q 1491.9 291.2, 1491.1 291.0 L 1490.4 290.7 Q 1489.6 291.2, 1489.3 291.7 Q 1488.9 292.3, 1488.9 293.0 Q 1488.9 293.9, 1489.6 294.4 Q 1490.2 295.0, 1491.3 295.0 \" fill=\"#000000\"/>\n",
       "<path class=\"legend\" d=\"M 1501.6 290.2 Q 1502.6 290.6, 1503.1 291.3 Q 1503.7 291.9, 1503.7 293.0 Q 1503.7 293.9, 1503.2 294.6 Q 1502.7 295.3, 1501.9 295.7 Q 1501.0 296.1, 1499.9 296.1 Q 1498.1 296.1, 1497.1 295.3 Q 1496.0 294.4, 1496.0 293.0 Q 1496.0 292.1, 1496.5 291.4 Q 1497.0 290.8, 1497.9 290.3 Q 1497.2 289.9, 1496.8 289.3 Q 1496.4 288.7, 1496.4 287.8 Q 1496.4 286.5, 1497.4 285.8 Q 1498.3 285.0, 1499.9 285.0 Q 1501.4 285.0, 1502.4 285.8 Q 1503.3 286.5, 1503.3 287.8 Q 1503.3 288.6, 1502.8 289.2 Q 1502.4 289.7, 1501.6 290.2 M 1499.9 286.1 Q 1499.0 286.1, 1498.5 286.6 Q 1498.0 287.0, 1498.0 287.8 Q 1498.0 288.3, 1498.3 288.7 Q 1498.6 289.1, 1499.1 289.3 Q 1499.6 289.5, 1500.5 289.8 Q 1501.2 289.4, 1501.5 288.9 Q 1501.8 288.4, 1501.8 287.8 Q 1501.8 287.0, 1501.3 286.6 Q 1500.8 286.1, 1499.9 286.1 M 1499.9 295.0 Q 1500.9 295.0, 1501.5 294.4 Q 1502.2 293.9, 1502.2 293.0 Q 1502.2 292.4, 1501.8 292.0 Q 1501.5 291.7, 1501.0 291.4 Q 1500.6 291.2, 1499.7 291.0 L 1499.0 290.7 Q 1498.2 291.2, 1497.9 291.7 Q 1497.6 292.3, 1497.6 293.0 Q 1497.6 293.9, 1498.2 294.4 Q 1498.9 295.0, 1499.9 295.0 \" fill=\"#000000\"/>\n",
       "<path class=\"legend\" d=\"M 1508.6 289.2 Q 1509.5 289.2, 1510.3 289.6 Q 1511.1 290.0, 1511.5 290.8 Q 1512.0 291.5, 1512.0 292.5 Q 1512.0 293.6, 1511.4 294.5 Q 1510.9 295.3, 1510.0 295.7 Q 1509.1 296.1, 1508.1 296.1 Q 1507.1 296.1, 1506.2 295.7 Q 1505.3 295.3, 1504.7 294.6 L 1505.6 293.7 Q 1506.1 294.2, 1506.8 294.6 Q 1507.5 294.8, 1508.2 294.8 Q 1509.1 294.8, 1509.8 294.2 Q 1510.5 293.6, 1510.5 292.6 Q 1510.5 291.4, 1509.8 290.9 Q 1509.1 290.3, 1508.1 290.3 Q 1507.1 290.3, 1506.1 290.7 L 1505.2 290.3 L 1505.7 285.1 L 1511.3 285.1 L 1511.2 286.3 L 1507.0 286.3 L 1506.7 289.6 Q 1507.6 289.2, 1508.6 289.2 \" fill=\"#000000\"/>\n",
       "<path class=\"legend\" d=\"M 1516.7 296.1 Q 1514.7 296.1, 1513.7 294.6 Q 1512.7 293.1, 1512.7 290.5 Q 1512.7 287.9, 1513.7 286.5 Q 1514.7 285.0, 1516.7 285.0 Q 1518.7 285.0, 1519.7 286.5 Q 1520.6 287.9, 1520.6 290.5 Q 1520.6 293.1, 1519.7 294.6 Q 1518.7 296.1, 1516.7 296.1 M 1516.7 294.9 Q 1517.9 294.9, 1518.5 293.8 Q 1519.1 292.7, 1519.1 290.5 Q 1519.1 288.4, 1518.5 287.3 Q 1517.9 286.2, 1516.7 286.2 Q 1515.5 286.2, 1514.9 287.3 Q 1514.3 288.4, 1514.3 290.5 Q 1514.3 292.7, 1514.9 293.8 Q 1515.5 294.9, 1516.7 294.9 \" fill=\"#000000\"/>\n",
       "<path class=\"legend\" d=\"M 1528.7 292.2 L 1530.0 292.2 L 1530.0 293.5 L 1528.7 293.5 L 1528.7 296.0 L 1527.2 296.0 L 1527.2 293.5 L 1521.6 293.5 L 1521.6 292.5 L 1526.4 285.1 L 1528.7 285.1 L 1528.7 292.2 M 1523.4 292.2 L 1527.2 292.2 L 1527.2 286.1 L 1523.4 292.2 \" fill=\"#000000\"/>\n",
       "<path class=\"legend\" d=\"M 1535.9 290.2 Q 1537.0 290.6, 1537.5 291.2 Q 1538.0 291.9, 1538.0 293.0 Q 1538.0 293.9, 1537.6 294.6 Q 1537.1 295.3, 1536.3 295.7 Q 1535.4 296.1, 1534.3 296.1 Q 1533.2 296.1, 1532.3 295.7 Q 1531.4 295.3, 1530.7 294.5 L 1531.6 293.6 Q 1532.3 294.3, 1532.8 294.6 Q 1533.4 294.9, 1534.3 294.9 Q 1535.3 294.9, 1535.9 294.4 Q 1536.5 293.8, 1536.5 293.0 Q 1536.5 291.9, 1535.9 291.4 Q 1535.2 290.9, 1533.9 290.9 L 1533.1 290.9 L 1533.1 289.8 L 1533.8 289.8 Q 1535.0 289.8, 1535.6 289.3 Q 1536.3 288.7, 1536.3 287.8 Q 1536.3 287.1, 1535.7 286.7 Q 1535.2 286.2, 1534.3 286.2 Q 1533.4 286.2, 1532.9 286.5 Q 1532.3 286.9, 1531.9 287.7 L 1530.8 287.1 Q 1531.2 286.2, 1532.1 285.6 Q 1533.0 285.0, 1534.3 285.0 Q 1535.9 285.0, 1536.9 285.8 Q 1537.8 286.5, 1537.8 287.8 Q 1537.8 288.6, 1537.3 289.3 Q 1536.8 289.9, 1535.9 290.2 \" fill=\"#000000\"/>\n",
       "<path class=\"bond-0 atom-0 atom-1\" d=\"M 137.1,364.0 L 155.5,356.7\" style=\"fill:none;fill-rule:evenodd;stroke:#000000;stroke-width:2.0px;stroke-linecap:butt;stroke-linejoin:miter;stroke-opacity:1\"/>\n",
       "<path class=\"bond-1 atom-1 atom-2\" d=\"M 155.5,356.7 L 171.0,369.0\" style=\"fill:none;fill-rule:evenodd;stroke:#000000;stroke-width:2.0px;stroke-linecap:butt;stroke-linejoin:miter;stroke-opacity:1\"/>\n",
       "<path class=\"bond-2 atom-2 atom-3\" d=\"M 171.0,369.0 L 189.4,361.7\" style=\"fill:none;fill-rule:evenodd;stroke:#000000;stroke-width:2.0px;stroke-linecap:butt;stroke-linejoin:miter;stroke-opacity:1\"/>\n",
       "<path class=\"bond-3 atom-3 atom-4\" d=\"M 187.4,361.4 L 188.6,353.4\" style=\"fill:none;fill-rule:evenodd;stroke:#000000;stroke-width:2.0px;stroke-linecap:butt;stroke-linejoin:miter;stroke-opacity:1\"/>\n",
       "<path class=\"bond-3 atom-3 atom-4\" d=\"M 188.6,353.4 L 189.8,345.4\" style=\"fill:none;fill-rule:evenodd;stroke:#FF0000;stroke-width:2.0px;stroke-linecap:butt;stroke-linejoin:miter;stroke-opacity:1\"/>\n",
       "<path class=\"bond-3 atom-3 atom-4\" d=\"M 191.3,361.9 L 192.5,353.9\" style=\"fill:none;fill-rule:evenodd;stroke:#000000;stroke-width:2.0px;stroke-linecap:butt;stroke-linejoin:miter;stroke-opacity:1\"/>\n",
       "<path class=\"bond-3 atom-3 atom-4\" d=\"M 192.5,353.9 L 193.7,345.9\" style=\"fill:none;fill-rule:evenodd;stroke:#FF0000;stroke-width:2.0px;stroke-linecap:butt;stroke-linejoin:miter;stroke-opacity:1\"/>\n",
       "<path class=\"bond-4 atom-3 atom-5\" d=\"M 189.4,361.7 L 195.5,366.5\" style=\"fill:none;fill-rule:evenodd;stroke:#000000;stroke-width:2.0px;stroke-linecap:butt;stroke-linejoin:miter;stroke-opacity:1\"/>\n",
       "<path class=\"bond-4 atom-3 atom-5\" d=\"M 195.5,366.5 L 201.7,371.4\" style=\"fill:none;fill-rule:evenodd;stroke:#FF0000;stroke-width:2.0px;stroke-linecap:butt;stroke-linejoin:miter;stroke-opacity:1\"/>\n",
       "<path class=\"bond-5 atom-5 atom-6\" d=\"M 208.1,372.6 L 215.7,369.6\" style=\"fill:none;fill-rule:evenodd;stroke:#FF0000;stroke-width:2.0px;stroke-linecap:butt;stroke-linejoin:miter;stroke-opacity:1\"/>\n",
       "<path class=\"bond-5 atom-5 atom-6\" d=\"M 215.7,369.6 L 223.3,366.6\" style=\"fill:none;fill-rule:evenodd;stroke:#000000;stroke-width:2.0px;stroke-linecap:butt;stroke-linejoin:miter;stroke-opacity:1\"/>\n",
       "<path class=\"bond-6 atom-6 atom-7\" d=\"M 223.3,366.6 L 240.0,377.3 L 237.6,380.4 Z\" style=\"fill:#000000;fill-rule:evenodd;fill-opacity:1;stroke:#000000;stroke-width:1.0px;stroke-linecap:butt;stroke-linejoin:miter;stroke-opacity:1;\"/>\n",
       "<path class=\"bond-7 atom-7 atom-8\" d=\"M 238.8,378.9 L 235.9,398.5\" style=\"fill:none;fill-rule:evenodd;stroke:#000000;stroke-width:2.0px;stroke-linecap:butt;stroke-linejoin:miter;stroke-opacity:1\"/>\n",
       "<path class=\"bond-8 atom-8 atom-9\" d=\"M 235.9,398.5 L 242.1,403.3\" style=\"fill:none;fill-rule:evenodd;stroke:#000000;stroke-width:2.0px;stroke-linecap:butt;stroke-linejoin:miter;stroke-opacity:1\"/>\n",
       "<path class=\"bond-8 atom-8 atom-9\" d=\"M 242.1,403.3 L 248.2,408.2\" style=\"fill:none;fill-rule:evenodd;stroke:#FF0000;stroke-width:2.0px;stroke-linecap:butt;stroke-linejoin:miter;stroke-opacity:1\"/>\n",
       "<path class=\"bond-9 atom-8 atom-10\" d=\"M 236.7,400.3 L 229.1,403.3\" style=\"fill:none;fill-rule:evenodd;stroke:#000000;stroke-width:2.0px;stroke-linecap:butt;stroke-linejoin:miter;stroke-opacity:1\"/>\n",
       "<path class=\"bond-9 atom-8 atom-10\" d=\"M 229.1,403.3 L 221.5,406.3\" style=\"fill:none;fill-rule:evenodd;stroke:#FF0000;stroke-width:2.0px;stroke-linecap:butt;stroke-linejoin:miter;stroke-opacity:1\"/>\n",
       "<path class=\"bond-9 atom-8 atom-10\" d=\"M 235.2,396.6 L 227.6,399.6\" style=\"fill:none;fill-rule:evenodd;stroke:#000000;stroke-width:2.0px;stroke-linecap:butt;stroke-linejoin:miter;stroke-opacity:1\"/>\n",
       "<path class=\"bond-9 atom-8 atom-10\" d=\"M 227.6,399.6 L 220.0,402.6\" style=\"fill:none;fill-rule:evenodd;stroke:#FF0000;stroke-width:2.0px;stroke-linecap:butt;stroke-linejoin:miter;stroke-opacity:1\"/>\n",
       "<path class=\"bond-10 atom-6 atom-11\" d=\"M 223.3,366.6 L 226.1,347.0\" style=\"fill:none;fill-rule:evenodd;stroke:#000000;stroke-width:2.0px;stroke-linecap:butt;stroke-linejoin:miter;stroke-opacity:1\"/>\n",
       "<path class=\"bond-11 atom-11 atom-12\" d=\"M 226.1,347.0 L 233.9,343.9\" style=\"fill:none;fill-rule:evenodd;stroke:#000000;stroke-width:2.0px;stroke-linecap:butt;stroke-linejoin:miter;stroke-opacity:1\"/>\n",
       "<path class=\"bond-11 atom-11 atom-12\" d=\"M 233.9,343.9 L 241.8,340.8\" style=\"fill:none;fill-rule:evenodd;stroke:#0000FF;stroke-width:2.0px;stroke-linecap:butt;stroke-linejoin:miter;stroke-opacity:1\"/>\n",
       "<path class=\"bond-12 atom-12 atom-13\" d=\"M 243.2,336.3 L 240.2,328.8\" style=\"fill:none;fill-rule:evenodd;stroke:#0000FF;stroke-width:2.0px;stroke-linecap:butt;stroke-linejoin:miter;stroke-opacity:1\"/>\n",
       "<path class=\"bond-12 atom-12 atom-13\" d=\"M 240.2,328.8 L 237.2,321.4\" style=\"fill:none;fill-rule:evenodd;stroke:#000000;stroke-width:2.0px;stroke-linecap:butt;stroke-linejoin:miter;stroke-opacity:1\"/>\n",
       "<path class=\"bond-13 atom-12 atom-14\" d=\"M 245.9,343.2 L 248.9,350.7\" style=\"fill:none;fill-rule:evenodd;stroke:#0000FF;stroke-width:2.0px;stroke-linecap:butt;stroke-linejoin:miter;stroke-opacity:1\"/>\n",
       "<path class=\"bond-13 atom-12 atom-14\" d=\"M 248.9,350.7 L 251.8,358.1\" style=\"fill:none;fill-rule:evenodd;stroke:#000000;stroke-width:2.0px;stroke-linecap:butt;stroke-linejoin:miter;stroke-opacity:1\"/>\n",
       "<path class=\"bond-14 atom-12 atom-15\" d=\"M 250.4,337.4 L 256.7,334.9\" style=\"fill:none;fill-rule:evenodd;stroke:#0000FF;stroke-width:2.0px;stroke-linecap:butt;stroke-linejoin:miter;stroke-opacity:1\"/>\n",
       "<path class=\"bond-14 atom-12 atom-15\" d=\"M 256.7,334.9 L 262.9,332.4\" style=\"fill:none;fill-rule:evenodd;stroke:#000000;stroke-width:2.0px;stroke-linecap:butt;stroke-linejoin:miter;stroke-opacity:1\"/>\n",
       "<path class=\"atom-4\" d=\"M 189.7 342.1 Q 189.7 340.8, 190.3 340.0 Q 191.0 339.2, 192.2 339.2 Q 193.5 339.2, 194.1 340.0 Q 194.8 340.8, 194.8 342.1 Q 194.8 343.5, 194.1 344.2 Q 193.5 345.0, 192.2 345.0 Q 191.0 345.0, 190.3 344.2 Q 189.7 343.5, 189.7 342.1 M 192.2 344.4 Q 193.1 344.4, 193.6 343.8 Q 194.0 343.2, 194.0 342.1 Q 194.0 341.0, 193.6 340.4 Q 193.1 339.9, 192.2 339.9 Q 191.4 339.9, 190.9 340.4 Q 190.5 341.0, 190.5 342.1 Q 190.5 343.2, 190.9 343.8 Q 191.4 344.4, 192.2 344.4 \" fill=\"#FF0000\"/>\n",
       "<path class=\"atom-5\" d=\"M 202.3 373.9 Q 202.3 372.6, 203.0 371.8 Q 203.7 371.1, 204.9 371.1 Q 206.1 371.1, 206.8 371.8 Q 207.5 372.6, 207.5 373.9 Q 207.5 375.3, 206.8 376.1 Q 206.1 376.8, 204.9 376.8 Q 203.7 376.8, 203.0 376.1 Q 202.3 375.3, 202.3 373.9 M 204.9 376.2 Q 205.8 376.2, 206.2 375.6 Q 206.7 375.1, 206.7 373.9 Q 206.7 372.8, 206.2 372.3 Q 205.8 371.7, 204.9 371.7 Q 204.0 371.7, 203.6 372.3 Q 203.1 372.8, 203.1 373.9 Q 203.1 375.1, 203.6 375.6 Q 204.0 376.2, 204.9 376.2 \" fill=\"#FF0000\"/>\n",
       "<path class=\"atom-9\" d=\"M 248.9 410.7 Q 248.9 409.4, 249.5 408.6 Q 250.2 407.9, 251.5 407.9 Q 252.7 407.9, 253.4 408.6 Q 254.0 409.4, 254.0 410.7 Q 254.0 412.1, 253.4 412.9 Q 252.7 413.6, 251.5 413.6 Q 250.2 413.6, 249.5 412.9 Q 248.9 412.1, 248.9 410.7 M 251.5 413.0 Q 252.3 413.0, 252.8 412.4 Q 253.2 411.9, 253.2 410.7 Q 253.2 409.6, 252.8 409.1 Q 252.3 408.5, 251.5 408.5 Q 250.6 408.5, 250.1 409.1 Q 249.7 409.6, 249.7 410.7 Q 249.7 411.9, 250.1 412.4 Q 250.6 413.0, 251.5 413.0 \" fill=\"#FF0000\"/>\n",
       "<path class=\"atom-9\" d=\"M 254.4 408.8 L 256.3 408.8 L 256.3 409.2 L 254.4 409.2 L 254.4 408.8 \" fill=\"#FF0000\"/>\n",
       "<path class=\"atom-10\" d=\"M 215.0 405.8 Q 215.0 404.4, 215.6 403.7 Q 216.3 402.9, 217.6 402.9 Q 218.8 402.9, 219.5 403.7 Q 220.1 404.4, 220.1 405.8 Q 220.1 407.1, 219.5 407.9 Q 218.8 408.7, 217.6 408.7 Q 216.3 408.7, 215.6 407.9 Q 215.0 407.2, 215.0 405.8 M 217.6 408.1 Q 218.4 408.1, 218.9 407.5 Q 219.3 406.9, 219.3 405.8 Q 219.3 404.7, 218.9 404.1 Q 218.4 403.6, 217.6 403.6 Q 216.7 403.6, 216.2 404.1 Q 215.8 404.7, 215.8 405.8 Q 215.8 406.9, 216.2 407.5 Q 216.7 408.1, 217.6 408.1 \" fill=\"#FF0000\"/>\n",
       "<path class=\"atom-12\" d=\"M 243.3 336.9 L 245.1 339.9 Q 245.3 340.2, 245.6 340.7 Q 245.9 341.3, 245.9 341.3 L 245.9 336.9 L 246.7 336.9 L 246.7 342.5 L 245.9 342.5 L 243.9 339.3 Q 243.7 338.9, 243.4 338.5 Q 243.2 338.0, 243.1 337.9 L 243.1 342.5 L 242.4 342.5 L 242.4 336.9 L 243.3 336.9 \" fill=\"#0000FF\"/>\n",
       "<path class=\"atom-12\" d=\"M 247.3 337.9 L 248.3 337.9 L 248.3 336.9 L 248.7 336.9 L 248.7 337.9 L 249.7 337.9 L 249.7 338.3 L 248.7 338.3 L 248.7 339.4 L 248.3 339.4 L 248.3 338.3 L 247.3 338.3 L 247.3 337.9 \" fill=\"#0000FF\"/>\n",
       "<path class=\"legend\" d=\"M 86.7 445.2 Q 87.1 445.2, 87.6 445.0 L 87.9 446.0 Q 87.3 446.2, 86.6 446.2 Q 85.6 446.2, 84.9 445.6 Q 84.2 445.0, 84.1 443.7 Q 82.5 443.5, 81.6 442.4 Q 80.8 441.2, 80.8 439.4 Q 80.8 437.3, 81.8 436.1 Q 82.8 435.0, 84.7 435.0 Q 86.6 435.0, 87.7 436.1 Q 88.7 437.3, 88.7 439.4 Q 88.7 441.4, 87.7 442.5 Q 86.8 443.7, 85.0 443.8 Q 85.2 444.4, 85.6 444.8 Q 86.1 445.2, 86.7 445.2 M 82.0 439.4 Q 82.0 441.1, 82.7 442.0 Q 83.4 442.8, 84.7 442.8 Q 86.1 442.8, 86.8 442.0 Q 87.5 441.1, 87.5 439.4 Q 87.5 437.7, 86.8 436.8 Q 86.1 436.0, 84.7 436.0 Q 83.4 436.0, 82.7 436.8 Q 82.0 437.7, 82.0 439.4 \" fill=\"#000000\"/>\n",
       "<path class=\"legend\" d=\"M 99.9 435.1 L 101.1 435.1 L 98.8 443.7 L 97.1 443.7 L 95.2 436.5 L 93.3 443.7 L 91.6 443.7 L 89.3 435.1 L 90.5 435.1 L 92.5 442.6 L 94.4 435.1 L 95.9 435.1 L 97.9 442.6 L 99.9 435.1 \" fill=\"#000000\"/>\n",
       "<path class=\"legend\" d=\"M 104.3 440.1 L 101.4 435.1 L 102.7 435.1 L 104.8 438.9 L 107.0 435.1 L 108.3 435.1 L 105.4 440.1 L 105.4 443.7 L 104.3 443.7 L 104.3 440.1 \" fill=\"#000000\"/>\n",
       "<path class=\"legend\" d=\"M 108.3 435.1 L 113.4 435.1 L 113.4 436.1 L 109.4 436.1 L 109.4 438.7 L 112.9 438.7 L 112.9 439.7 L 109.4 439.7 L 109.4 443.7 L 108.3 443.7 L 108.3 435.1 \" fill=\"#000000\"/>\n",
       "<path class=\"legend\" d=\"M 113.6 435.1 L 114.8 435.1 L 114.8 438.7 L 119.2 438.7 L 119.2 435.1 L 120.3 435.1 L 120.3 443.7 L 119.2 443.7 L 119.2 439.7 L 114.8 439.7 L 114.8 443.7 L 113.6 443.7 L 113.6 435.1 \" fill=\"#000000\"/>\n",
       "<path class=\"legend\" d=\"M 121.4 435.1 L 122.5 435.1 L 122.5 438.7 L 126.9 438.7 L 126.9 435.1 L 128.1 435.1 L 128.1 443.7 L 126.9 443.7 L 126.9 439.7 L 122.5 439.7 L 122.5 443.7 L 121.4 443.7 L 121.4 435.1 \" fill=\"#000000\"/>\n",
       "<path class=\"legend\" d=\"M 136.0 439.5 L 136.0 443.1 Q 134.8 443.8, 133.0 443.8 Q 131.1 443.8, 130.1 442.6 Q 129.1 441.5, 129.1 439.4 Q 129.1 437.2, 130.1 436.1 Q 131.1 435.0, 133.0 435.0 Q 134.0 435.0, 134.7 435.3 Q 135.4 435.6, 135.9 436.2 L 135.2 436.9 Q 134.4 436.0, 133.0 436.0 Q 131.7 436.0, 131.0 436.8 Q 130.3 437.7, 130.3 439.4 Q 130.3 441.1, 131.0 441.9 Q 131.8 442.8, 133.1 442.8 Q 134.0 442.8, 134.8 442.5 L 134.8 439.5 L 136.0 439.5 \" fill=\"#000000\"/>\n",
       "<path class=\"legend\" d=\"M 136.9 439.4 Q 136.9 437.2, 137.9 436.1 Q 138.9 435.0, 140.8 435.0 Q 142.6 435.0, 143.5 436.2 L 142.7 436.9 Q 142.0 436.0, 140.8 436.0 Q 139.5 436.0, 138.8 436.9 Q 138.1 437.7, 138.1 439.4 Q 138.1 441.1, 138.8 441.9 Q 139.5 442.8, 140.9 442.8 Q 141.9 442.8, 143.0 442.2 L 143.3 443.1 Q 142.9 443.4, 142.2 443.6 Q 141.5 443.8, 140.8 443.8 Q 138.9 443.8, 137.9 442.6 Q 136.9 441.5, 136.9 439.4 \" fill=\"#000000\"/>\n",
       "<path class=\"legend\" d=\"M 144.0 442.8 L 148.3 436.1 L 144.1 436.1 L 144.1 435.1 L 149.8 435.1 L 149.8 436.0 L 145.4 442.7 L 149.7 442.7 L 149.7 443.7 L 144.0 443.7 L 144.0 442.8 \" fill=\"#000000\"/>\n",
       "<path class=\"legend\" d=\"M 151.4 435.1 L 151.4 440.9 Q 151.4 441.8, 152.0 442.3 Q 152.5 442.8, 153.6 442.8 Q 154.7 442.8, 155.2 442.3 Q 155.8 441.9, 155.8 440.9 L 155.8 435.1 L 157.0 435.1 L 157.0 440.9 Q 157.0 442.3, 156.1 443.0 Q 155.3 443.8, 153.6 443.8 Q 151.9 443.8, 151.1 443.0 Q 150.3 442.3, 150.3 440.9 L 150.3 435.1 L 151.4 435.1 \" fill=\"#000000\"/>\n",
       "<path class=\"legend\" d=\"M 157.9 439.4 Q 157.9 437.2, 158.9 436.1 Q 159.9 435.0, 161.8 435.0 Q 163.6 435.0, 164.5 436.2 L 163.7 436.9 Q 163.0 436.0, 161.8 436.0 Q 160.5 436.0, 159.8 436.9 Q 159.1 437.7, 159.1 439.4 Q 159.1 441.1, 159.8 441.9 Q 160.6 442.8, 161.9 442.8 Q 162.9 442.8, 164.0 442.2 L 164.3 443.1 Q 163.9 443.4, 163.2 443.6 Q 162.5 443.8, 161.8 443.8 Q 159.9 443.8, 158.9 442.6 Q 157.9 441.5, 157.9 439.4 \" fill=\"#000000\"/>\n",
       "<path class=\"legend\" d=\"M 174.8 443.7 L 173.7 443.7 L 172.8 436.7 L 170.5 443.7 L 169.3 443.7 L 167.0 436.7 L 166.1 443.7 L 165.0 443.7 L 166.1 435.1 L 167.5 435.1 L 169.9 442.0 L 172.3 435.1 L 173.7 435.1 L 174.8 443.7 \" fill=\"#000000\"/>\n",
       "<path class=\"legend\" d=\"M 179.7 439.2 Q 180.6 439.4, 181.0 439.9 Q 181.4 440.4, 181.4 441.1 Q 181.4 442.3, 180.6 443.0 Q 179.9 443.7, 178.4 443.7 L 175.6 443.7 L 175.6 435.1 L 178.1 435.1 Q 179.6 435.1, 180.3 435.7 Q 181.0 436.3, 181.0 437.4 Q 181.0 438.7, 179.7 439.2 M 176.7 436.1 L 176.7 438.7 L 178.1 438.7 Q 178.9 438.7, 179.4 438.4 Q 179.8 438.1, 179.8 437.4 Q 179.8 436.1, 178.1 436.1 L 176.7 436.1 M 178.4 442.7 Q 179.3 442.7, 179.7 442.3 Q 180.2 441.9, 180.2 441.1 Q 180.2 440.4, 179.7 440.1 Q 179.2 439.7, 178.3 439.7 L 176.7 439.7 L 176.7 442.7 L 178.4 442.7 \" fill=\"#000000\"/>\n",
       "<path class=\"legend\" d=\"M 183.3 435.1 L 186.1 439.6 Q 186.4 440.1, 186.8 440.9 Q 187.3 441.7, 187.3 441.7 L 187.3 435.1 L 188.4 435.1 L 188.4 443.7 L 187.3 443.7 L 184.3 438.7 Q 183.9 438.1, 183.5 437.5 Q 183.2 436.8, 183.1 436.6 L 183.1 443.7 L 181.9 443.7 L 181.9 435.1 L 183.3 435.1 \" fill=\"#000000\"/>\n",
       "<path class=\"legend\" d=\"\" fill=\"#000000\"/>\n",
       "<path class=\"legend\" d=\"M 193.5 442.2 L 194.7 442.2 L 194.7 443.5 L 193.5 443.5 L 193.5 442.2 M 193.5 438.1 L 194.7 438.1 L 194.7 439.3 L 193.5 439.3 L 193.5 438.1 \" fill=\"#000000\"/>\n",
       "<path class=\"legend\" d=\"\" fill=\"#000000\"/>\n",
       "<path class=\"legend\" d=\"M 199.6 439.4 Q 199.6 437.2, 200.6 436.1 Q 201.6 435.0, 203.5 435.0 Q 205.3 435.0, 206.2 436.2 L 205.4 436.9 Q 204.7 436.0, 203.5 436.0 Q 202.2 436.0, 201.5 436.9 Q 200.9 437.7, 200.9 439.4 Q 200.9 441.1, 201.6 441.9 Q 202.3 442.8, 203.7 442.8 Q 204.6 442.8, 205.7 442.2 L 206.0 443.1 Q 205.6 443.4, 204.9 443.6 Q 204.2 443.8, 203.5 443.8 Q 201.6 443.8, 200.6 442.6 Q 199.6 441.5, 199.6 439.4 \" fill=\"#000000\"/>\n",
       "<path class=\"legend\" d=\"M 206.7 439.4 Q 206.7 437.2, 207.7 436.1 Q 208.7 435.0, 210.6 435.0 Q 212.4 435.0, 213.3 436.2 L 212.5 436.9 Q 211.8 436.0, 210.6 436.0 Q 209.3 436.0, 208.6 436.9 Q 207.9 437.7, 207.9 439.4 Q 207.9 441.1, 208.6 441.9 Q 209.4 442.8, 210.7 442.8 Q 211.7 442.8, 212.8 442.2 L 213.1 443.1 Q 212.7 443.4, 212.0 443.6 Q 211.3 443.8, 210.6 443.8 Q 208.7 443.8, 207.7 442.6 Q 206.7 441.5, 206.7 439.4 \" fill=\"#000000\"/>\n",
       "<path class=\"legend\" d=\"M 223.6 443.7 L 222.5 443.7 L 221.6 436.7 L 219.3 443.7 L 218.1 443.7 L 215.8 436.7 L 214.9 443.7 L 213.8 443.7 L 214.9 435.1 L 216.3 435.1 L 218.7 442.0 L 221.1 435.1 L 222.5 435.1 L 223.6 443.7 \" fill=\"#000000\"/>\n",
       "<path class=\"legend\" d=\"M 224.7 442.3 Q 224.8 442.4, 225.2 442.5 Q 225.6 442.7, 226.0 442.8 Q 226.5 442.9, 226.9 442.9 Q 227.7 442.9, 228.2 442.5 Q 228.7 442.1, 228.7 441.4 Q 228.7 441.0, 228.4 440.7 Q 228.2 440.4, 227.8 440.2 Q 227.5 440.1, 226.9 439.9 Q 226.1 439.7, 225.6 439.4 Q 225.2 439.2, 224.9 438.8 Q 224.6 438.3, 224.6 437.5 Q 224.6 436.5, 225.3 435.8 Q 226.0 435.1, 227.5 435.1 Q 228.5 435.1, 229.6 435.6 L 229.3 436.5 Q 228.3 436.1, 227.5 436.1 Q 226.7 436.1, 226.2 436.5 Q 225.8 436.8, 225.8 437.4 Q 225.8 437.8, 226.0 438.1 Q 226.2 438.4, 226.6 438.6 Q 226.9 438.7, 227.5 438.9 Q 228.3 439.1, 228.7 439.4 Q 229.2 439.6, 229.5 440.1 Q 229.9 440.6, 229.9 441.4 Q 229.9 442.6, 229.1 443.3 Q 228.3 443.9, 227.0 443.9 Q 226.2 443.9, 225.6 443.7 Q 225.1 443.6, 224.4 443.3 L 224.7 442.3 \" fill=\"#000000\"/>\n",
       "<path class=\"legend\" d=\"M 230.4 435.1 L 231.6 435.1 L 231.6 442.7 L 235.5 442.7 L 235.5 443.7 L 230.4 443.7 L 230.4 435.1 \" fill=\"#000000\"/>\n",
       "<path class=\"legend\" d=\"M 235.8 435.1 L 237.0 435.1 L 237.0 443.7 L 235.8 443.7 L 235.8 435.1 \" fill=\"#000000\"/>\n",
       "<path class=\"legend\" d=\"M 242.2 439.2 Q 243.0 439.4, 243.4 439.9 Q 243.9 440.4, 243.9 441.1 Q 243.9 442.3, 243.1 443.0 Q 242.4 443.7, 240.9 443.7 L 238.1 443.7 L 238.1 435.1 L 240.6 435.1 Q 242.0 435.1, 242.8 435.7 Q 243.5 436.3, 243.5 437.4 Q 243.5 438.7, 242.2 439.2 M 239.2 436.1 L 239.2 438.7 L 240.6 438.7 Q 241.4 438.7, 241.9 438.4 Q 242.3 438.1, 242.3 437.4 Q 242.3 436.1, 240.6 436.1 L 239.2 436.1 M 240.9 442.7 Q 241.8 442.7, 242.2 442.3 Q 242.7 441.9, 242.7 441.1 Q 242.7 440.4, 242.2 440.1 Q 241.7 439.7, 240.8 439.7 L 239.2 439.7 L 239.2 442.7 L 240.9 442.7 \" fill=\"#000000\"/>\n",
       "<path class=\"legend\" d=\"M 247.6 443.8 Q 246.0 443.8, 245.2 442.6 Q 244.4 441.4, 244.4 439.4 Q 244.4 437.3, 245.2 436.1 Q 246.0 435.0, 247.6 435.0 Q 249.1 435.0, 249.9 436.1 Q 250.7 437.3, 250.7 439.4 Q 250.7 441.4, 249.9 442.6 Q 249.1 443.8, 247.6 443.8 M 247.6 442.8 Q 248.5 442.8, 249.0 441.9 Q 249.5 441.1, 249.5 439.4 Q 249.5 437.7, 249.0 436.8 Q 248.5 436.0, 247.6 436.0 Q 246.6 436.0, 246.1 436.8 Q 245.6 437.7, 245.6 439.4 Q 245.6 441.1, 246.1 441.9 Q 246.6 442.8, 247.6 442.8 \" fill=\"#000000\"/>\n",
       "<path class=\"legend\" d=\"M 254.6 443.8 Q 253.0 443.8, 252.3 442.6 Q 251.5 441.4, 251.5 439.4 Q 251.5 437.3, 252.3 436.1 Q 253.0 435.0, 254.6 435.0 Q 256.2 435.0, 257.0 436.1 Q 257.7 437.3, 257.7 439.4 Q 257.7 441.4, 257.0 442.6 Q 256.2 443.8, 254.6 443.8 M 254.6 442.8 Q 255.5 442.8, 256.0 441.9 Q 256.5 441.1, 256.5 439.4 Q 256.5 437.7, 256.0 436.8 Q 255.5 436.0, 254.6 436.0 Q 253.7 436.0, 253.2 436.8 Q 252.7 437.7, 252.7 439.4 Q 252.7 441.1, 253.2 441.9 Q 253.7 442.8, 254.6 442.8 \" fill=\"#000000\"/>\n",
       "<path class=\"legend\" d=\"M 261.7 443.8 Q 260.1 443.8, 259.3 442.6 Q 258.5 441.4, 258.5 439.4 Q 258.5 437.3, 259.3 436.1 Q 260.1 435.0, 261.7 435.0 Q 263.3 435.0, 264.0 436.1 Q 264.8 437.3, 264.8 439.4 Q 264.8 441.4, 264.0 442.6 Q 263.2 443.8, 261.7 443.8 M 261.7 442.8 Q 262.6 442.8, 263.1 441.9 Q 263.6 441.1, 263.6 439.4 Q 263.6 437.7, 263.1 436.8 Q 262.6 436.0, 261.7 436.0 Q 260.7 436.0, 260.2 436.8 Q 259.7 437.7, 259.7 439.4 Q 259.7 441.1, 260.2 441.9 Q 260.7 442.8, 261.7 442.8 \" fill=\"#000000\"/>\n",
       "<path class=\"legend\" d=\"M 268.7 443.8 Q 267.1 443.8, 266.4 442.6 Q 265.6 441.4, 265.6 439.4 Q 265.6 437.3, 266.4 436.1 Q 267.1 435.0, 268.7 435.0 Q 270.3 435.0, 271.1 436.1 Q 271.9 437.3, 271.9 439.4 Q 271.9 441.4, 271.1 442.6 Q 270.3 443.8, 268.7 443.8 M 268.7 442.8 Q 269.7 442.8, 270.1 441.9 Q 270.6 441.1, 270.6 439.4 Q 270.6 437.7, 270.1 436.8 Q 269.7 436.0, 268.7 436.0 Q 267.8 436.0, 267.3 436.8 Q 266.8 437.7, 266.8 439.4 Q 266.8 441.1, 267.3 441.9 Q 267.8 442.8, 268.7 442.8 \" fill=\"#000000\"/>\n",
       "<path class=\"legend\" d=\"M 275.7 438.3 Q 276.5 438.3, 277.1 438.6 Q 277.7 438.9, 278.1 439.5 Q 278.4 440.1, 278.4 441.0 Q 278.4 441.8, 278.0 442.5 Q 277.6 443.1, 276.9 443.4 Q 276.2 443.8, 275.4 443.8 Q 274.6 443.8, 273.9 443.5 Q 273.1 443.2, 272.6 442.6 L 273.4 441.9 Q 273.8 442.3, 274.3 442.5 Q 274.9 442.8, 275.4 442.8 Q 276.2 442.8, 276.7 442.3 Q 277.2 441.8, 277.2 441.0 Q 277.2 440.1, 276.7 439.6 Q 276.2 439.2, 275.3 439.2 Q 274.6 439.2, 273.8 439.5 L 273.1 439.2 L 273.5 435.1 L 277.9 435.1 L 277.8 436.1 L 274.5 436.1 L 274.2 438.6 Q 275.0 438.3, 275.7 438.3 \" fill=\"#000000\"/>\n",
       "<path class=\"legend\" d=\"M 283.4 439.1 Q 284.2 439.5, 284.6 440.0 Q 285.1 440.5, 285.1 441.3 Q 285.1 442.0, 284.7 442.6 Q 284.3 443.2, 283.6 443.5 Q 283.0 443.8, 282.1 443.8 Q 280.7 443.8, 279.8 443.1 Q 279.0 442.5, 279.0 441.3 Q 279.0 440.6, 279.4 440.1 Q 279.7 439.6, 280.5 439.2 Q 279.9 438.8, 279.6 438.4 Q 279.3 437.9, 279.3 437.2 Q 279.3 436.2, 280.1 435.6 Q 280.8 435.0, 282.0 435.0 Q 283.3 435.0, 284.0 435.6 Q 284.7 436.2, 284.7 437.2 Q 284.7 437.8, 284.4 438.3 Q 284.1 438.7, 283.4 439.1 M 282.0 435.9 Q 281.3 435.9, 280.9 436.2 Q 280.5 436.6, 280.5 437.2 Q 280.5 437.6, 280.8 437.9 Q 281.1 438.2, 281.4 438.4 Q 281.8 438.6, 282.6 438.8 Q 283.1 438.5, 283.3 438.1 Q 283.5 437.7, 283.5 437.2 Q 283.5 436.6, 283.1 436.2 Q 282.8 435.9, 282.0 435.9 M 282.1 442.9 Q 282.9 442.9, 283.4 442.5 Q 283.9 442.0, 283.9 441.3 Q 283.9 440.8, 283.6 440.6 Q 283.3 440.3, 283.0 440.1 Q 282.6 439.9, 281.9 439.7 L 281.4 439.5 Q 280.8 439.9, 280.5 440.3 Q 280.2 440.7, 280.2 441.3 Q 280.2 442.0, 280.7 442.5 Q 281.2 442.9, 282.1 442.9 \" fill=\"#000000\"/>\n",
       "<path class=\"legend\" d=\"M 290.2 439.1 Q 291.0 439.5, 291.4 440.0 Q 291.9 440.5, 291.9 441.3 Q 291.9 442.0, 291.5 442.6 Q 291.1 443.2, 290.4 443.5 Q 289.8 443.8, 288.9 443.8 Q 287.5 443.8, 286.6 443.1 Q 285.8 442.5, 285.8 441.3 Q 285.8 440.6, 286.2 440.1 Q 286.6 439.6, 287.3 439.2 Q 286.7 438.8, 286.4 438.4 Q 286.1 437.9, 286.1 437.2 Q 286.1 436.2, 286.9 435.6 Q 287.6 435.0, 288.8 435.0 Q 290.1 435.0, 290.8 435.6 Q 291.6 436.2, 291.6 437.2 Q 291.6 437.8, 291.2 438.3 Q 290.9 438.7, 290.2 439.1 M 288.8 435.9 Q 288.1 435.9, 287.7 436.2 Q 287.3 436.6, 287.3 437.2 Q 287.3 437.6, 287.6 437.9 Q 287.9 438.2, 288.3 438.4 Q 288.6 438.6, 289.4 438.8 Q 289.9 438.5, 290.1 438.1 Q 290.3 437.7, 290.3 437.2 Q 290.3 436.6, 289.9 436.2 Q 289.6 435.9, 288.8 435.9 M 288.9 442.9 Q 289.7 442.9, 290.2 442.5 Q 290.7 442.0, 290.7 441.3 Q 290.7 440.8, 290.4 440.6 Q 290.2 440.3, 289.8 440.1 Q 289.4 439.9, 288.7 439.7 L 288.2 439.5 Q 287.6 439.9, 287.3 440.3 Q 287.0 440.7, 287.0 441.3 Q 287.0 442.0, 287.5 442.5 Q 288.1 442.9, 288.9 442.9 \" fill=\"#000000\"/>\n",
       "<path class=\"legend\" d=\"M 295.7 438.3 Q 296.5 438.3, 297.1 438.6 Q 297.7 438.9, 298.1 439.5 Q 298.4 440.1, 298.4 441.0 Q 298.4 441.8, 298.0 442.5 Q 297.6 443.1, 296.9 443.4 Q 296.2 443.8, 295.4 443.8 Q 294.6 443.8, 293.9 443.5 Q 293.1 443.2, 292.6 442.6 L 293.4 441.9 Q 293.8 442.3, 294.3 442.5 Q 294.8 442.8, 295.4 442.8 Q 296.2 442.8, 296.7 442.3 Q 297.2 441.8, 297.2 441.0 Q 297.2 440.1, 296.7 439.6 Q 296.2 439.2, 295.3 439.2 Q 294.6 439.2, 293.7 439.5 L 293.1 439.2 L 293.5 435.1 L 297.9 435.1 L 297.8 436.1 L 294.5 436.1 L 294.2 438.6 Q 295.0 438.3, 295.7 438.3 \" fill=\"#000000\"/>\n",
       "<path class=\"legend\" d=\"M 302.1 443.8 Q 300.6 443.8, 299.8 442.6 Q 299.0 441.4, 299.0 439.4 Q 299.0 437.3, 299.8 436.1 Q 300.6 435.0, 302.1 435.0 Q 303.7 435.0, 304.5 436.1 Q 305.3 437.3, 305.3 439.4 Q 305.3 441.4, 304.5 442.6 Q 303.7 443.8, 302.1 443.8 M 302.1 442.8 Q 303.1 442.8, 303.6 441.9 Q 304.1 441.1, 304.1 439.4 Q 304.1 437.7, 303.6 436.8 Q 303.1 436.0, 302.1 436.0 Q 301.2 436.0, 300.7 436.8 Q 300.2 437.7, 300.2 439.4 Q 300.2 441.1, 300.7 441.9 Q 301.2 442.8, 302.1 442.8 \" fill=\"#000000\"/>\n",
       "<path class=\"legend\" d=\"M 311.6 440.7 L 312.7 440.7 L 312.7 441.7 L 311.6 441.7 L 311.6 443.7 L 310.5 443.7 L 310.5 441.7 L 306.1 441.7 L 306.1 440.9 L 309.8 435.1 L 311.6 435.1 L 311.6 440.7 M 307.5 440.7 L 310.5 440.7 L 310.5 435.9 L 307.5 440.7 \" fill=\"#000000\"/>\n",
       "<path class=\"legend\" d=\"M 316.1 435.0 Q 317.7 435.0, 318.4 436.0 Q 319.2 437.1, 319.2 439.1 Q 319.2 441.4, 318.2 442.6 Q 317.3 443.8, 315.5 443.8 Q 314.9 443.8, 314.5 443.6 Q 314.0 443.5, 313.6 443.3 L 314.1 442.5 Q 314.7 442.8, 315.4 442.8 Q 316.7 442.8, 317.3 442.0 Q 317.9 441.2, 318.0 439.6 Q 317.5 440.0, 317.0 440.2 Q 316.4 440.4, 315.8 440.4 Q 315.1 440.4, 314.5 440.1 Q 313.9 439.8, 313.6 439.2 Q 313.2 438.6, 313.2 437.9 Q 313.2 437.0, 313.6 436.4 Q 314.0 435.7, 314.6 435.4 Q 315.3 435.0, 316.1 435.0 M 314.5 437.8 Q 314.5 438.6, 314.9 439.0 Q 315.3 439.5, 316.1 439.5 Q 316.6 439.5, 317.1 439.3 Q 317.6 439.1, 318.0 438.7 Q 317.9 437.3, 317.5 436.6 Q 317.0 436.0, 316.1 436.0 Q 315.7 436.0, 315.3 436.2 Q 314.9 436.5, 314.7 436.9 Q 314.5 437.3, 314.5 437.8 \" fill=\"#000000\"/>\n",
       "<path class=\"bond-0 atom-0 atom-1\" d=\"M 538.2,359.2 L 555.6,368.5\" style=\"fill:none;fill-rule:evenodd;stroke:#000000;stroke-width:2.0px;stroke-linecap:butt;stroke-linejoin:miter;stroke-opacity:1\"/>\n",
       "<path class=\"bond-1 atom-1 atom-2\" d=\"M 555.6,368.5 L 556.4,388.3\" style=\"fill:none;fill-rule:evenodd;stroke:#000000;stroke-width:2.0px;stroke-linecap:butt;stroke-linejoin:miter;stroke-opacity:1\"/>\n",
       "<path class=\"bond-2 atom-1 atom-3\" d=\"M 555.6,368.5 L 572.4,358.0\" style=\"fill:none;fill-rule:evenodd;stroke:#000000;stroke-width:2.0px;stroke-linecap:butt;stroke-linejoin:miter;stroke-opacity:1\"/>\n",
       "<path class=\"bond-3 atom-3 atom-4\" d=\"M 572.4,358.0 L 589.9,367.3\" style=\"fill:none;fill-rule:evenodd;stroke:#000000;stroke-width:2.0px;stroke-linecap:butt;stroke-linejoin:miter;stroke-opacity:1\"/>\n",
       "<path class=\"bond-4 atom-4 atom-5\" d=\"M 591.9,367.2 L 592.2,375.4\" style=\"fill:none;fill-rule:evenodd;stroke:#000000;stroke-width:2.0px;stroke-linecap:butt;stroke-linejoin:miter;stroke-opacity:1\"/>\n",
       "<path class=\"bond-4 atom-4 atom-5\" d=\"M 592.2,375.4 L 592.5,383.5\" style=\"fill:none;fill-rule:evenodd;stroke:#FF0000;stroke-width:2.0px;stroke-linecap:butt;stroke-linejoin:miter;stroke-opacity:1\"/>\n",
       "<path class=\"bond-4 atom-4 atom-5\" d=\"M 587.9,367.4 L 588.2,375.5\" style=\"fill:none;fill-rule:evenodd;stroke:#000000;stroke-width:2.0px;stroke-linecap:butt;stroke-linejoin:miter;stroke-opacity:1\"/>\n",
       "<path class=\"bond-4 atom-4 atom-5\" d=\"M 588.2,375.5 L 588.5,383.6\" style=\"fill:none;fill-rule:evenodd;stroke:#FF0000;stroke-width:2.0px;stroke-linecap:butt;stroke-linejoin:miter;stroke-opacity:1\"/>\n",
       "<path class=\"bond-5 atom-4 atom-6\" d=\"M 589.9,367.3 L 596.7,363.0\" style=\"fill:none;fill-rule:evenodd;stroke:#000000;stroke-width:2.0px;stroke-linecap:butt;stroke-linejoin:miter;stroke-opacity:1\"/>\n",
       "<path class=\"bond-5 atom-4 atom-6\" d=\"M 596.7,363.0 L 603.4,358.8\" style=\"fill:none;fill-rule:evenodd;stroke:#FF0000;stroke-width:2.0px;stroke-linecap:butt;stroke-linejoin:miter;stroke-opacity:1\"/>\n",
       "<path class=\"bond-6 atom-6 atom-7\" d=\"M 609.9,358.5 L 617.0,362.3\" style=\"fill:none;fill-rule:evenodd;stroke:#FF0000;stroke-width:2.0px;stroke-linecap:butt;stroke-linejoin:miter;stroke-opacity:1\"/>\n",
       "<path class=\"bond-6 atom-6 atom-7\" d=\"M 617.0,362.3 L 624.1,366.0\" style=\"fill:none;fill-rule:evenodd;stroke:#000000;stroke-width:2.0px;stroke-linecap:butt;stroke-linejoin:miter;stroke-opacity:1\"/>\n",
       "<path class=\"bond-7 atom-7 atom-8\" d=\"M 624.1,366.0 L 640.9,355.5\" style=\"fill:none;fill-rule:evenodd;stroke:#000000;stroke-width:2.0px;stroke-linecap:butt;stroke-linejoin:miter;stroke-opacity:1\"/>\n",
       "<path class=\"bond-8 atom-8 atom-9\" d=\"M 640.9,355.5 L 640.2,335.8\" style=\"fill:none;fill-rule:evenodd;stroke:#000000;stroke-width:2.0px;stroke-linecap:butt;stroke-linejoin:miter;stroke-opacity:1\"/>\n",
       "<path class=\"bond-9 atom-9 atom-10\" d=\"M 640.2,335.8 L 647.0,331.5\" style=\"fill:none;fill-rule:evenodd;stroke:#000000;stroke-width:2.0px;stroke-linecap:butt;stroke-linejoin:miter;stroke-opacity:1\"/>\n",
       "<path class=\"bond-9 atom-9 atom-10\" d=\"M 647.0,331.5 L 653.7,327.3\" style=\"fill:none;fill-rule:evenodd;stroke:#FF0000;stroke-width:2.0px;stroke-linecap:butt;stroke-linejoin:miter;stroke-opacity:1\"/>\n",
       "<path class=\"bond-10 atom-9 atom-11\" d=\"M 639.3,337.5 L 632.1,333.7\" style=\"fill:none;fill-rule:evenodd;stroke:#000000;stroke-width:2.0px;stroke-linecap:butt;stroke-linejoin:miter;stroke-opacity:1\"/>\n",
       "<path class=\"bond-10 atom-9 atom-11\" d=\"M 632.1,333.7 L 625.0,330.0\" style=\"fill:none;fill-rule:evenodd;stroke:#FF0000;stroke-width:2.0px;stroke-linecap:butt;stroke-linejoin:miter;stroke-opacity:1\"/>\n",
       "<path class=\"bond-10 atom-9 atom-11\" d=\"M 641.1,334.0 L 634.0,330.2\" style=\"fill:none;fill-rule:evenodd;stroke:#000000;stroke-width:2.0px;stroke-linecap:butt;stroke-linejoin:miter;stroke-opacity:1\"/>\n",
       "<path class=\"bond-10 atom-9 atom-11\" d=\"M 634.0,330.2 L 626.9,326.5\" style=\"fill:none;fill-rule:evenodd;stroke:#FF0000;stroke-width:2.0px;stroke-linecap:butt;stroke-linejoin:miter;stroke-opacity:1\"/>\n",
       "<path class=\"bond-11 atom-7 atom-12\" d=\"M 624.1,366.0 L 624.8,385.8\" style=\"fill:none;fill-rule:evenodd;stroke:#000000;stroke-width:2.0px;stroke-linecap:butt;stroke-linejoin:miter;stroke-opacity:1\"/>\n",
       "<path class=\"bond-12 atom-12 atom-13\" d=\"M 624.8,385.8 L 632.2,389.7\" style=\"fill:none;fill-rule:evenodd;stroke:#000000;stroke-width:2.0px;stroke-linecap:butt;stroke-linejoin:miter;stroke-opacity:1\"/>\n",
       "<path class=\"bond-12 atom-12 atom-13\" d=\"M 632.2,389.7 L 639.5,393.6\" style=\"fill:none;fill-rule:evenodd;stroke:#0000FF;stroke-width:2.0px;stroke-linecap:butt;stroke-linejoin:miter;stroke-opacity:1\"/>\n",
       "<path class=\"bond-13 atom-13 atom-14\" d=\"M 644.2,391.6 L 647.9,384.6\" style=\"fill:none;fill-rule:evenodd;stroke:#0000FF;stroke-width:2.0px;stroke-linecap:butt;stroke-linejoin:miter;stroke-opacity:1\"/>\n",
       "<path class=\"bond-13 atom-13 atom-14\" d=\"M 647.9,384.6 L 651.6,377.6\" style=\"fill:none;fill-rule:evenodd;stroke:#000000;stroke-width:2.0px;stroke-linecap:butt;stroke-linejoin:miter;stroke-opacity:1\"/>\n",
       "<path class=\"bond-14 atom-13 atom-15\" d=\"M 640.5,398.5 L 636.8,405.6\" style=\"fill:none;fill-rule:evenodd;stroke:#0000FF;stroke-width:2.0px;stroke-linecap:butt;stroke-linejoin:miter;stroke-opacity:1\"/>\n",
       "<path class=\"bond-14 atom-13 atom-15\" d=\"M 636.8,405.6 L 633.1,412.6\" style=\"fill:none;fill-rule:evenodd;stroke:#000000;stroke-width:2.0px;stroke-linecap:butt;stroke-linejoin:miter;stroke-opacity:1\"/>\n",
       "<path class=\"bond-15 atom-13 atom-16\" d=\"M 645.1,396.6 L 652.4,400.5\" style=\"fill:none;fill-rule:evenodd;stroke:#0000FF;stroke-width:2.0px;stroke-linecap:butt;stroke-linejoin:miter;stroke-opacity:1\"/>\n",
       "<path class=\"bond-15 atom-13 atom-16\" d=\"M 652.4,400.5 L 659.8,404.4\" style=\"fill:none;fill-rule:evenodd;stroke:#000000;stroke-width:2.0px;stroke-linecap:butt;stroke-linejoin:miter;stroke-opacity:1\"/>\n",
       "<path class=\"atom-5\" d=\"M 588.0 387.1 Q 588.0 385.7, 588.7 385.0 Q 589.4 384.2, 590.6 384.2 Q 591.8 384.2, 592.5 385.0 Q 593.2 385.7, 593.2 387.1 Q 593.2 388.4, 592.5 389.2 Q 591.8 390.0, 590.6 390.0 Q 589.4 390.0, 588.7 389.2 Q 588.0 388.4, 588.0 387.1 M 590.6 389.3 Q 591.5 389.3, 591.9 388.8 Q 592.4 388.2, 592.4 387.1 Q 592.4 386.0, 591.9 385.4 Q 591.5 384.9, 590.6 384.9 Q 589.7 384.9, 589.3 385.4 Q 588.8 386.0, 588.8 387.1 Q 588.8 388.2, 589.3 388.8 Q 589.7 389.3, 590.6 389.3 \" fill=\"#FF0000\"/>\n",
       "<path class=\"atom-6\" d=\"M 604.1 356.8 Q 604.1 355.4, 604.7 354.7 Q 605.4 353.9, 606.7 353.9 Q 607.9 353.9, 608.6 354.7 Q 609.2 355.4, 609.2 356.8 Q 609.2 358.2, 608.6 358.9 Q 607.9 359.7, 606.7 359.7 Q 605.4 359.7, 604.7 358.9 Q 604.1 358.2, 604.1 356.8 M 606.7 359.1 Q 607.5 359.1, 608.0 358.5 Q 608.4 357.9, 608.4 356.8 Q 608.4 355.7, 608.0 355.1 Q 607.5 354.6, 606.7 354.6 Q 605.8 354.6, 605.3 355.1 Q 604.9 355.7, 604.9 356.8 Q 604.9 357.9, 605.3 358.5 Q 605.8 359.1, 606.7 359.1 \" fill=\"#FF0000\"/>\n",
       "<path class=\"atom-10\" d=\"M 654.4 325.3 Q 654.4 323.9, 655.0 323.2 Q 655.7 322.4, 656.9 322.4 Q 658.2 322.4, 658.9 323.2 Q 659.5 323.9, 659.5 325.3 Q 659.5 326.6, 658.8 327.4 Q 658.2 328.2, 656.9 328.2 Q 655.7 328.2, 655.0 327.4 Q 654.4 326.7, 654.4 325.3 M 656.9 327.6 Q 657.8 327.6, 658.3 327.0 Q 658.7 326.4, 658.7 325.3 Q 658.7 324.2, 658.3 323.6 Q 657.8 323.1, 656.9 323.1 Q 656.1 323.1, 655.6 323.6 Q 655.2 324.2, 655.2 325.3 Q 655.2 326.4, 655.6 327.0 Q 656.1 327.6, 656.9 327.6 \" fill=\"#FF0000\"/>\n",
       "<path class=\"atom-10\" d=\"M 659.9 323.4 L 661.8 323.4 L 661.8 323.8 L 659.9 323.8 L 659.9 323.4 \" fill=\"#FF0000\"/>\n",
       "<path class=\"atom-11\" d=\"M 620.1 326.5 Q 620.1 325.2, 620.8 324.4 Q 621.5 323.7, 622.7 323.7 Q 623.9 323.7, 624.6 324.4 Q 625.3 325.2, 625.3 326.5 Q 625.3 327.9, 624.6 328.7 Q 623.9 329.4, 622.7 329.4 Q 621.5 329.4, 620.8 328.7 Q 620.1 327.9, 620.1 326.5 M 622.7 328.8 Q 623.6 328.8, 624.0 328.2 Q 624.5 327.6, 624.5 326.5 Q 624.5 325.4, 624.0 324.9 Q 623.6 324.3, 622.7 324.3 Q 621.9 324.3, 621.4 324.9 Q 620.9 325.4, 620.9 326.5 Q 620.9 327.7, 621.4 328.2 Q 621.9 328.8, 622.7 328.8 \" fill=\"#FF0000\"/>\n",
       "<path class=\"atom-13\" d=\"M 641.1 392.3 L 642.9 395.3 Q 643.1 395.5, 643.4 396.1 Q 643.7 396.6, 643.7 396.6 L 643.7 392.3 L 644.4 392.3 L 644.4 397.9 L 643.7 397.9 L 641.7 394.6 Q 641.5 394.3, 641.2 393.8 Q 641.0 393.4, 640.9 393.3 L 640.9 397.9 L 640.2 397.9 L 640.2 392.3 L 641.1 392.3 \" fill=\"#0000FF\"/>\n",
       "<path class=\"atom-13\" d=\"M 645.1 393.3 L 646.1 393.3 L 646.1 392.3 L 646.5 392.3 L 646.5 393.3 L 647.5 393.3 L 647.5 393.7 L 646.5 393.7 L 646.5 394.7 L 646.1 394.7 L 646.1 393.7 L 645.1 393.7 L 645.1 393.3 \" fill=\"#0000FF\"/>\n",
       "<path class=\"legend\" d=\"M 488.7 435.1 L 489.8 435.1 L 489.8 443.7 L 488.7 443.7 L 488.7 435.1 \" fill=\"#000000\"/>\n",
       "<path class=\"legend\" d=\"M 497.8 439.5 L 497.8 443.1 Q 496.6 443.8, 494.7 443.8 Q 492.9 443.8, 491.9 442.6 Q 490.9 441.5, 490.9 439.4 Q 490.9 437.2, 491.9 436.1 Q 492.9 435.0, 494.8 435.0 Q 495.8 435.0, 496.5 435.3 Q 497.2 435.6, 497.7 436.2 L 496.9 436.9 Q 496.2 436.0, 494.8 436.0 Q 493.5 436.0, 492.8 436.8 Q 492.1 437.7, 492.1 439.4 Q 492.1 441.1, 492.8 441.9 Q 493.5 442.8, 494.9 442.8 Q 495.8 442.8, 496.6 442.5 L 496.6 439.5 L 497.8 439.5 \" fill=\"#000000\"/>\n",
       "<path class=\"legend\" d=\"M 504.6 445.2 Q 505.0 445.2, 505.5 445.0 L 505.8 446.0 Q 505.1 446.2, 504.5 446.2 Q 503.4 446.2, 502.7 445.6 Q 502.0 445.0, 501.9 443.7 Q 500.3 443.5, 499.5 442.4 Q 498.7 441.2, 498.7 439.4 Q 498.7 437.3, 499.7 436.1 Q 500.7 435.0, 502.6 435.0 Q 504.5 435.0, 505.5 436.1 Q 506.5 437.3, 506.5 439.4 Q 506.5 441.4, 505.6 442.5 Q 504.6 443.7, 502.9 443.8 Q 503.0 444.4, 503.5 444.8 Q 503.9 445.2, 504.6 445.2 M 499.9 439.4 Q 499.9 441.1, 500.6 442.0 Q 501.3 442.8, 502.6 442.8 Q 503.9 442.8, 504.6 442.0 Q 505.3 441.1, 505.3 439.4 Q 505.3 437.7, 504.6 436.8 Q 503.9 436.0, 502.6 436.0 Q 501.3 436.0, 500.6 436.8 Q 499.9 437.7, 499.9 439.4 \" fill=\"#000000\"/>\n",
       "<path class=\"legend\" d=\"M 511.3 439.2 Q 512.1 439.4, 512.5 439.9 Q 513.0 440.4, 513.0 441.1 Q 513.0 442.3, 512.2 443.0 Q 511.5 443.7, 510.0 443.7 L 507.1 443.7 L 507.1 435.1 L 509.7 435.1 Q 511.1 435.1, 511.9 435.7 Q 512.6 436.3, 512.6 437.4 Q 512.6 438.7, 511.3 439.2 M 508.3 436.1 L 508.3 438.7 L 509.7 438.7 Q 510.5 438.7, 511.0 438.4 Q 511.4 438.1, 511.4 437.4 Q 511.4 436.1, 509.7 436.1 L 508.3 436.1 M 510.0 442.7 Q 510.9 442.7, 511.3 442.3 Q 511.8 441.9, 511.8 441.1 Q 511.8 440.4, 511.3 440.1 Q 510.8 439.7, 509.8 439.7 L 508.3 439.7 L 508.3 442.7 L 510.0 442.7 \" fill=\"#000000\"/>\n",
       "<path class=\"legend\" d=\"M 516.1 435.1 Q 517.5 435.1, 518.3 435.8 Q 519.0 436.4, 519.0 437.6 Q 519.0 438.8, 518.2 439.5 Q 517.5 440.1, 516.1 440.1 L 514.7 440.1 L 514.7 443.7 L 513.5 443.7 L 513.5 435.1 L 516.1 435.1 M 516.1 439.2 Q 516.9 439.2, 517.3 438.8 Q 517.8 438.4, 517.8 437.6 Q 517.8 436.9, 517.3 436.5 Q 516.9 436.1, 516.1 436.1 L 514.7 436.1 L 514.7 439.2 L 516.1 439.2 \" fill=\"#000000\"/>\n",
       "<path class=\"legend\" d=\"M 522.3 435.1 Q 524.2 435.1, 525.2 436.2 Q 526.3 437.3, 526.3 439.4 Q 526.3 441.4, 525.2 442.5 Q 524.2 443.7, 522.3 443.7 L 519.6 443.7 L 519.6 435.1 L 522.3 435.1 M 522.3 442.7 Q 523.6 442.7, 524.3 441.9 Q 525.1 441.0, 525.1 439.4 Q 525.1 437.7, 524.3 436.9 Q 523.6 436.1, 522.3 436.1 L 520.7 436.1 L 520.7 442.7 L 522.3 442.7 \" fill=\"#000000\"/>\n",
       "<path class=\"legend\" d=\"M 526.8 444.4 Q 526.8 444.5, 527.3 444.2 Q 527.9 443.8, 528.3 443.3 Q 528.7 442.9, 528.7 442.2 L 528.7 436.1 L 527.0 436.1 L 527.0 435.1 L 529.9 435.1 L 529.9 442.2 Q 529.9 443.2, 529.3 443.9 Q 528.7 444.6, 528.0 445.0 Q 527.3 445.4, 527.3 445.3 L 526.8 444.4 \" fill=\"#000000\"/>\n",
       "<path class=\"legend\" d=\"M 532.2 435.1 L 535.1 439.6 Q 535.3 440.1, 535.8 440.9 Q 536.2 441.7, 536.3 441.7 L 536.3 435.1 L 537.4 435.1 L 537.4 443.7 L 536.2 443.7 L 533.2 438.7 Q 532.9 438.1, 532.5 437.5 Q 532.1 436.8, 532.0 436.6 L 532.0 443.7 L 530.9 443.7 L 530.9 435.1 L 532.2 435.1 \" fill=\"#000000\"/>\n",
       "<path class=\"legend\" d=\"M 539.6 435.1 L 539.6 440.9 Q 539.6 441.8, 540.1 442.3 Q 540.7 442.8, 541.7 442.8 Q 542.8 442.8, 543.4 442.3 Q 543.9 441.9, 543.9 440.9 L 543.9 435.1 L 545.1 435.1 L 545.1 440.9 Q 545.1 442.3, 544.2 443.0 Q 543.4 443.8, 541.7 443.8 Q 540.1 443.8, 539.2 443.0 Q 538.4 442.3, 538.4 440.9 L 538.4 435.1 L 539.6 435.1 \" fill=\"#000000\"/>\n",
       "<path class=\"legend\" d=\"M 553.7 443.7 L 552.4 443.7 L 549.9 440.1 L 547.3 443.7 L 546.0 443.7 L 549.2 439.2 L 546.3 435.1 L 547.6 435.1 L 549.9 438.3 L 552.2 435.1 L 553.6 435.1 L 550.6 439.3 L 553.7 443.7 \" fill=\"#000000\"/>\n",
       "<path class=\"legend\" d=\"M 556.3 435.1 Q 557.8 435.1, 558.5 435.8 Q 559.3 436.4, 559.3 437.6 Q 559.3 438.8, 558.5 439.5 Q 557.7 440.1, 556.3 440.1 L 555.0 440.1 L 555.0 443.7 L 553.8 443.7 L 553.8 435.1 L 556.3 435.1 M 556.3 439.2 Q 557.2 439.2, 557.6 438.8 Q 558.1 438.4, 558.1 437.6 Q 558.1 436.9, 557.6 436.5 Q 557.2 436.1, 556.3 436.1 L 555.0 436.1 L 555.0 439.2 L 556.3 439.2 \" fill=\"#000000\"/>\n",
       "<path class=\"legend\" d=\"M 559.8 435.1 L 564.9 435.1 L 564.9 436.1 L 561.0 436.1 L 561.0 438.7 L 564.5 438.7 L 564.5 439.7 L 561.0 439.7 L 561.0 442.7 L 565.1 442.7 L 565.1 443.7 L 559.8 443.7 L 559.8 435.1 \" fill=\"#000000\"/>\n",
       "<path class=\"legend\" d=\"M 575.4 443.7 L 574.3 443.7 L 573.4 436.7 L 571.1 443.7 L 570.0 443.7 L 567.6 436.7 L 566.7 443.7 L 565.6 443.7 L 566.7 435.1 L 568.2 435.1 L 570.5 442.0 L 572.9 435.1 L 574.3 435.1 L 575.4 443.7 \" fill=\"#000000\"/>\n",
       "<path class=\"legend\" d=\"M 578.9 436.1 L 576.2 436.1 L 576.2 435.1 L 582.5 435.1 L 582.5 436.1 L 580.0 436.1 L 580.0 443.7 L 578.9 443.7 L 578.9 436.1 \" fill=\"#000000\"/>\n",
       "<path class=\"legend\" d=\"\" fill=\"#000000\"/>\n",
       "<path class=\"legend\" d=\"M 586.6 442.2 L 587.8 442.2 L 587.8 443.5 L 586.6 443.5 L 586.6 442.2 M 586.6 438.1 L 587.8 438.1 L 587.8 439.3 L 586.6 439.3 L 586.6 438.1 \" fill=\"#000000\"/>\n",
       "<path class=\"legend\" d=\"\" fill=\"#000000\"/>\n",
       "<path class=\"legend\" d=\"M 592.7 439.4 Q 592.7 437.2, 593.7 436.1 Q 594.7 435.0, 596.6 435.0 Q 598.4 435.0, 599.3 436.2 L 598.5 436.9 Q 597.8 436.0, 596.6 436.0 Q 595.3 436.0, 594.6 436.9 Q 593.9 437.7, 593.9 439.4 Q 593.9 441.1, 594.7 441.9 Q 595.4 442.8, 596.7 442.8 Q 597.7 442.8, 598.8 442.2 L 599.1 443.1 Q 598.7 443.4, 598.0 443.6 Q 597.3 443.8, 596.6 443.8 Q 594.7 443.8, 593.7 442.6 Q 592.7 441.5, 592.7 439.4 \" fill=\"#000000\"/>\n",
       "<path class=\"legend\" d=\"M 599.8 439.4 Q 599.8 437.2, 600.8 436.1 Q 601.8 435.0, 603.7 435.0 Q 605.5 435.0, 606.4 436.2 L 605.6 436.9 Q 604.9 436.0, 603.7 436.0 Q 602.4 436.0, 601.7 436.9 Q 601.0 437.7, 601.0 439.4 Q 601.0 441.1, 601.7 441.9 Q 602.5 442.8, 603.8 442.8 Q 604.8 442.8, 605.9 442.2 L 606.2 443.1 Q 605.8 443.4, 605.1 443.6 Q 604.4 443.8, 603.7 443.8 Q 601.8 443.8, 600.8 442.6 Q 599.8 441.5, 599.8 439.4 \" fill=\"#000000\"/>\n",
       "<path class=\"legend\" d=\"M 616.7 443.7 L 615.6 443.7 L 614.7 436.7 L 612.4 443.7 L 611.2 443.7 L 608.9 436.7 L 608.0 443.7 L 606.9 443.7 L 608.0 435.1 L 609.4 435.1 L 611.8 442.0 L 614.2 435.1 L 615.6 435.1 L 616.7 443.7 \" fill=\"#000000\"/>\n",
       "<path class=\"legend\" d=\"M 617.8 442.3 Q 617.9 442.4, 618.3 442.5 Q 618.7 442.7, 619.1 442.8 Q 619.6 442.9, 620.0 442.9 Q 620.8 442.9, 621.3 442.5 Q 621.8 442.1, 621.8 441.4 Q 621.8 441.0, 621.5 440.7 Q 621.3 440.4, 620.9 440.2 Q 620.6 440.1, 620.0 439.9 Q 619.2 439.7, 618.7 439.4 Q 618.3 439.2, 618.0 438.8 Q 617.6 438.3, 617.6 437.5 Q 617.6 436.5, 618.4 435.8 Q 619.1 435.1, 620.6 435.1 Q 621.6 435.1, 622.7 435.6 L 622.4 436.5 Q 621.4 436.1, 620.6 436.1 Q 619.8 436.1, 619.3 436.5 Q 618.8 436.8, 618.9 437.4 Q 618.9 437.8, 619.1 438.1 Q 619.3 438.4, 619.7 438.6 Q 620.0 438.7, 620.6 438.9 Q 621.4 439.1, 621.8 439.4 Q 622.3 439.6, 622.6 440.1 Q 623.0 440.6, 623.0 441.4 Q 623.0 442.6, 622.2 443.3 Q 621.4 443.9, 620.1 443.9 Q 619.3 443.9, 618.7 443.7 Q 618.1 443.6, 617.5 443.3 L 617.8 442.3 \" fill=\"#000000\"/>\n",
       "<path class=\"legend\" d=\"M 623.5 435.1 L 624.7 435.1 L 624.7 442.7 L 628.6 442.7 L 628.6 443.7 L 623.5 443.7 L 623.5 435.1 \" fill=\"#000000\"/>\n",
       "<path class=\"legend\" d=\"M 628.9 435.1 L 630.1 435.1 L 630.1 443.7 L 628.9 443.7 L 628.9 435.1 \" fill=\"#000000\"/>\n",
       "<path class=\"legend\" d=\"M 635.3 439.2 Q 636.1 439.4, 636.5 439.9 Q 637.0 440.4, 637.0 441.1 Q 637.0 442.3, 636.2 443.0 Q 635.5 443.7, 634.0 443.7 L 631.1 443.7 L 631.1 435.1 L 633.7 435.1 Q 635.1 435.1, 635.9 435.7 Q 636.6 436.3, 636.6 437.4 Q 636.6 438.7, 635.3 439.2 M 632.3 436.1 L 632.3 438.7 L 633.7 438.7 Q 634.5 438.7, 635.0 438.4 Q 635.4 438.1, 635.4 437.4 Q 635.4 436.1, 633.7 436.1 L 632.3 436.1 M 634.0 442.7 Q 634.9 442.7, 635.3 442.3 Q 635.8 441.9, 635.8 441.1 Q 635.8 440.4, 635.3 440.1 Q 634.8 439.7, 633.8 439.7 L 632.3 439.7 L 632.3 442.7 L 634.0 442.7 \" fill=\"#000000\"/>\n",
       "<path class=\"legend\" d=\"M 640.7 443.8 Q 639.1 443.8, 638.3 442.6 Q 637.5 441.4, 637.5 439.4 Q 637.5 437.3, 638.3 436.1 Q 639.1 435.0, 640.7 435.0 Q 642.2 435.0, 643.0 436.1 Q 643.8 437.3, 643.8 439.4 Q 643.8 441.4, 643.0 442.6 Q 642.2 443.8, 640.7 443.8 M 640.7 442.8 Q 641.6 442.8, 642.1 441.9 Q 642.6 441.1, 642.6 439.4 Q 642.6 437.7, 642.1 436.8 Q 641.6 436.0, 640.7 436.0 Q 639.7 436.0, 639.2 436.8 Q 638.7 437.7, 638.7 439.4 Q 638.7 441.1, 639.2 441.9 Q 639.7 442.8, 640.7 442.8 \" fill=\"#000000\"/>\n",
       "<path class=\"legend\" d=\"M 647.7 443.8 Q 646.1 443.8, 645.3 442.6 Q 644.6 441.4, 644.6 439.4 Q 644.6 437.3, 645.3 436.1 Q 646.1 435.0, 647.7 435.0 Q 649.3 435.0, 650.1 436.1 Q 650.8 437.3, 650.8 439.4 Q 650.8 441.4, 650.1 442.6 Q 649.3 443.8, 647.7 443.8 M 647.7 442.8 Q 648.6 442.8, 649.1 441.9 Q 649.6 441.1, 649.6 439.4 Q 649.6 437.7, 649.1 436.8 Q 648.6 436.0, 647.7 436.0 Q 646.8 436.0, 646.3 436.8 Q 645.8 437.7, 645.8 439.4 Q 645.8 441.1, 646.3 441.9 Q 646.8 442.8, 647.7 442.8 \" fill=\"#000000\"/>\n",
       "<path class=\"legend\" d=\"M 654.8 443.8 Q 653.2 443.8, 652.4 442.6 Q 651.6 441.4, 651.6 439.4 Q 651.6 437.3, 652.4 436.1 Q 653.2 435.0, 654.8 435.0 Q 656.3 435.0, 657.1 436.1 Q 657.9 437.3, 657.9 439.4 Q 657.9 441.4, 657.1 442.6 Q 656.3 443.8, 654.8 443.8 M 654.8 442.8 Q 655.7 442.8, 656.2 441.9 Q 656.7 441.1, 656.7 439.4 Q 656.7 437.7, 656.2 436.8 Q 655.7 436.0, 654.8 436.0 Q 653.8 436.0, 653.3 436.8 Q 652.8 437.7, 652.8 439.4 Q 652.8 441.1, 653.3 441.9 Q 653.8 442.8, 654.8 442.8 \" fill=\"#000000\"/>\n",
       "<path class=\"legend\" d=\"M 661.8 443.8 Q 660.2 443.8, 659.5 442.6 Q 658.7 441.4, 658.7 439.4 Q 658.7 437.3, 659.5 436.1 Q 660.2 435.0, 661.8 435.0 Q 663.4 435.0, 664.2 436.1 Q 664.9 437.3, 664.9 439.4 Q 664.9 441.4, 664.2 442.6 Q 663.4 443.8, 661.8 443.8 M 661.8 442.8 Q 662.7 442.8, 663.2 441.9 Q 663.7 441.1, 663.7 439.4 Q 663.7 437.7, 663.2 436.8 Q 662.7 436.0, 661.8 436.0 Q 660.9 436.0, 660.4 436.8 Q 659.9 437.7, 659.9 439.4 Q 659.9 441.1, 660.4 441.9 Q 660.9 442.8, 661.8 442.8 \" fill=\"#000000\"/>\n",
       "<path class=\"legend\" d=\"M 668.8 438.3 Q 669.6 438.3, 670.2 438.6 Q 670.8 438.9, 671.2 439.5 Q 671.5 440.1, 671.5 441.0 Q 671.5 441.8, 671.1 442.5 Q 670.7 443.1, 670.0 443.4 Q 669.3 443.8, 668.5 443.8 Q 667.7 443.8, 667.0 443.5 Q 666.2 443.2, 665.7 442.6 L 666.5 441.9 Q 666.9 442.3, 667.4 442.5 Q 667.9 442.8, 668.5 442.8 Q 669.3 442.8, 669.8 442.3 Q 670.3 441.8, 670.3 441.0 Q 670.3 440.1, 669.8 439.6 Q 669.3 439.2, 668.4 439.2 Q 667.7 439.2, 666.8 439.5 L 666.2 439.2 L 666.6 435.1 L 671.0 435.1 L 670.9 436.1 L 667.6 436.1 L 667.3 438.6 Q 668.1 438.3, 668.8 438.3 \" fill=\"#000000\"/>\n",
       "<path class=\"legend\" d=\"M 676.5 439.1 Q 677.3 439.5, 677.7 440.0 Q 678.2 440.5, 678.2 441.3 Q 678.2 442.0, 677.8 442.6 Q 677.4 443.2, 676.7 443.5 Q 676.1 443.8, 675.2 443.8 Q 673.8 443.8, 672.9 443.1 Q 672.1 442.5, 672.1 441.3 Q 672.1 440.6, 672.5 440.1 Q 672.8 439.6, 673.6 439.2 Q 673.0 438.8, 672.7 438.4 Q 672.4 437.9, 672.4 437.2 Q 672.4 436.2, 673.1 435.6 Q 673.9 435.0, 675.1 435.0 Q 676.4 435.0, 677.1 435.6 Q 677.8 436.2, 677.8 437.2 Q 677.8 437.8, 677.5 438.3 Q 677.2 438.7, 676.5 439.1 M 675.1 435.9 Q 674.4 435.9, 674.0 436.2 Q 673.6 436.6, 673.6 437.2 Q 673.6 437.6, 673.9 437.9 Q 674.2 438.2, 674.5 438.4 Q 674.9 438.6, 675.7 438.8 Q 676.2 438.5, 676.4 438.1 Q 676.6 437.7, 676.6 437.2 Q 676.6 436.6, 676.2 436.2 Q 675.8 435.9, 675.1 435.9 M 675.2 442.9 Q 676.0 442.9, 676.5 442.5 Q 676.9 442.0, 676.9 441.3 Q 676.9 440.8, 676.7 440.6 Q 676.4 440.3, 676.1 440.1 Q 675.7 439.9, 675.0 439.7 L 674.5 439.5 Q 673.8 439.9, 673.6 440.3 Q 673.3 440.7, 673.3 441.3 Q 673.3 442.0, 673.8 442.5 Q 674.3 442.9, 675.2 442.9 \" fill=\"#000000\"/>\n",
       "<path class=\"legend\" d=\"M 683.3 439.1 Q 684.1 439.5, 684.5 440.0 Q 685.0 440.5, 685.0 441.3 Q 685.0 442.0, 684.6 442.6 Q 684.2 443.2, 683.5 443.5 Q 682.9 443.8, 682.0 443.8 Q 680.6 443.8, 679.7 443.1 Q 678.9 442.5, 678.9 441.3 Q 678.9 440.6, 679.3 440.1 Q 679.6 439.6, 680.4 439.2 Q 679.8 438.8, 679.5 438.4 Q 679.2 437.9, 679.2 437.2 Q 679.2 436.2, 680.0 435.6 Q 680.7 435.0, 681.9 435.0 Q 683.2 435.0, 683.9 435.6 Q 684.7 436.2, 684.7 437.2 Q 684.7 437.8, 684.3 438.3 Q 684.0 438.7, 683.3 439.1 M 681.9 435.9 Q 681.2 435.9, 680.8 436.2 Q 680.4 436.6, 680.4 437.2 Q 680.4 437.6, 680.7 437.9 Q 681.0 438.2, 681.3 438.4 Q 681.7 438.6, 682.5 438.8 Q 683.0 438.5, 683.2 438.1 Q 683.4 437.7, 683.4 437.2 Q 683.4 436.6, 683.0 436.2 Q 682.7 435.9, 681.9 435.9 M 682.0 442.9 Q 682.8 442.9, 683.3 442.5 Q 683.8 442.0, 683.8 441.3 Q 683.8 440.8, 683.5 440.6 Q 683.2 440.3, 682.9 440.1 Q 682.5 439.9, 681.8 439.7 L 681.3 439.5 Q 680.7 439.9, 680.4 440.3 Q 680.1 440.7, 680.1 441.3 Q 680.1 442.0, 680.6 442.5 Q 681.1 442.9, 682.0 442.9 \" fill=\"#000000\"/>\n",
       "<path class=\"legend\" d=\"M 688.8 438.3 Q 689.6 438.3, 690.2 438.6 Q 690.8 438.9, 691.2 439.5 Q 691.5 440.1, 691.5 441.0 Q 691.5 441.8, 691.1 442.5 Q 690.7 443.1, 690.0 443.4 Q 689.3 443.8, 688.5 443.8 Q 687.7 443.8, 686.9 443.5 Q 686.2 443.2, 685.7 442.6 L 686.5 441.9 Q 686.9 442.3, 687.4 442.5 Q 687.9 442.8, 688.5 442.8 Q 689.3 442.8, 689.8 442.3 Q 690.3 441.8, 690.3 441.0 Q 690.3 440.1, 689.8 439.6 Q 689.3 439.2, 688.4 439.2 Q 687.7 439.2, 686.8 439.5 L 686.2 439.2 L 686.6 435.1 L 691.0 435.1 L 690.9 436.1 L 687.6 436.1 L 687.3 438.6 Q 688.1 438.3, 688.8 438.3 \" fill=\"#000000\"/>\n",
       "<path class=\"legend\" d=\"M 695.2 443.8 Q 693.7 443.8, 692.9 442.6 Q 692.1 441.4, 692.1 439.4 Q 692.1 437.3, 692.9 436.1 Q 693.7 435.0, 695.2 435.0 Q 696.8 435.0, 697.6 436.1 Q 698.4 437.3, 698.4 439.4 Q 698.4 441.4, 697.6 442.6 Q 696.8 443.8, 695.2 443.8 M 695.2 442.8 Q 696.2 442.8, 696.7 441.9 Q 697.2 441.1, 697.2 439.4 Q 697.2 437.7, 696.7 436.8 Q 696.2 436.0, 695.2 436.0 Q 694.3 436.0, 693.8 436.8 Q 693.3 437.7, 693.3 439.4 Q 693.3 441.1, 693.8 441.9 Q 694.3 442.8, 695.2 442.8 \" fill=\"#000000\"/>\n",
       "<path class=\"legend\" d=\"M 702.3 438.3 Q 703.0 438.3, 703.6 438.6 Q 704.2 438.9, 704.6 439.5 Q 704.9 440.1, 704.9 441.0 Q 704.9 441.8, 704.5 442.5 Q 704.1 443.1, 703.4 443.4 Q 702.7 443.8, 701.9 443.8 Q 701.1 443.8, 700.4 443.5 Q 699.7 443.2, 699.2 442.6 L 699.9 441.9 Q 700.3 442.3, 700.8 442.5 Q 701.4 442.8, 701.9 442.8 Q 702.7 442.8, 703.2 442.3 Q 703.7 441.8, 703.7 441.0 Q 703.7 440.1, 703.2 439.6 Q 702.7 439.2, 701.9 439.2 Q 701.1 439.2, 700.3 439.5 L 699.6 439.2 L 700.0 435.1 L 704.4 435.1 L 704.3 436.1 L 701.0 436.1 L 700.8 438.6 Q 701.5 438.3, 702.3 438.3 \" fill=\"#000000\"/>\n",
       "<path class=\"legend\" d=\"M 708.6 438.3 Q 709.4 438.3, 710.0 438.6 Q 710.6 438.9, 711.0 439.5 Q 711.3 440.1, 711.3 441.0 Q 711.3 441.8, 710.9 442.5 Q 710.5 443.1, 709.8 443.4 Q 709.1 443.8, 708.3 443.8 Q 707.5 443.8, 706.8 443.5 Q 706.0 443.2, 705.5 442.6 L 706.3 441.9 Q 706.7 442.3, 707.2 442.5 Q 707.7 442.8, 708.3 442.8 Q 709.1 442.8, 709.6 442.3 Q 710.1 441.8, 710.1 441.0 Q 710.1 440.1, 709.6 439.6 Q 709.1 439.2, 708.2 439.2 Q 707.5 439.2, 706.6 439.5 L 706.0 439.2 L 706.4 435.1 L 710.8 435.1 L 710.7 436.1 L 707.4 436.1 L 707.1 438.6 Q 707.9 438.3, 708.6 438.3 \" fill=\"#000000\"/>\n",
       "<path class=\"bond-0 atom-0 atom-1\" d=\"M 903.4,367.2 L 921.2,358.6\" style=\"fill:none;fill-rule:evenodd;stroke:#000000;stroke-width:2.0px;stroke-linecap:butt;stroke-linejoin:miter;stroke-opacity:1\"/>\n",
       "<path class=\"bond-1 atom-1 atom-2\" d=\"M 921.2,358.6 L 937.6,369.6\" style=\"fill:none;fill-rule:evenodd;stroke:#000000;stroke-width:2.0px;stroke-linecap:butt;stroke-linejoin:miter;stroke-opacity:1\"/>\n",
       "<path class=\"bond-2 atom-2 atom-3\" d=\"M 937.6,369.6 L 955.3,361.0\" style=\"fill:none;fill-rule:evenodd;stroke:#000000;stroke-width:2.0px;stroke-linecap:butt;stroke-linejoin:miter;stroke-opacity:1\"/>\n",
       "<path class=\"bond-3 atom-3 atom-4\" d=\"M 955.3,361.0 L 971.7,372.0\" style=\"fill:none;fill-rule:evenodd;stroke:#000000;stroke-width:2.0px;stroke-linecap:butt;stroke-linejoin:miter;stroke-opacity:1\"/>\n",
       "<path class=\"bond-4 atom-4 atom-5\" d=\"M 971.7,372.0 L 989.5,363.4\" style=\"fill:none;fill-rule:evenodd;stroke:#000000;stroke-width:2.0px;stroke-linecap:butt;stroke-linejoin:miter;stroke-opacity:1\"/>\n",
       "<path class=\"bond-5 atom-5 atom-6\" d=\"M 989.5,363.4 L 1005.9,374.5\" style=\"fill:none;fill-rule:evenodd;stroke:#000000;stroke-width:2.0px;stroke-linecap:butt;stroke-linejoin:miter;stroke-opacity:1\"/>\n",
       "<path class=\"bond-6 atom-6 atom-7\" d=\"M 1005.9,374.5 L 1023.7,365.8\" style=\"fill:none;fill-rule:evenodd;stroke:#000000;stroke-width:2.0px;stroke-linecap:butt;stroke-linejoin:miter;stroke-opacity:1\"/>\n",
       "<path class=\"bond-7 atom-7 atom-8\" d=\"M 1021.7,365.6 L 1022.3,357.6\" style=\"fill:none;fill-rule:evenodd;stroke:#000000;stroke-width:2.0px;stroke-linecap:butt;stroke-linejoin:miter;stroke-opacity:1\"/>\n",
       "<path class=\"bond-7 atom-7 atom-8\" d=\"M 1022.3,357.6 L 1022.9,349.5\" style=\"fill:none;fill-rule:evenodd;stroke:#FF0000;stroke-width:2.0px;stroke-linecap:butt;stroke-linejoin:miter;stroke-opacity:1\"/>\n",
       "<path class=\"bond-7 atom-7 atom-8\" d=\"M 1025.7,365.9 L 1026.2,357.8\" style=\"fill:none;fill-rule:evenodd;stroke:#000000;stroke-width:2.0px;stroke-linecap:butt;stroke-linejoin:miter;stroke-opacity:1\"/>\n",
       "<path class=\"bond-7 atom-7 atom-8\" d=\"M 1026.2,357.8 L 1026.8,349.8\" style=\"fill:none;fill-rule:evenodd;stroke:#FF0000;stroke-width:2.0px;stroke-linecap:butt;stroke-linejoin:miter;stroke-opacity:1\"/>\n",
       "<path class=\"bond-8 atom-7 atom-9\" d=\"M 1023.7,365.8 L 1030.3,370.2\" style=\"fill:none;fill-rule:evenodd;stroke:#000000;stroke-width:2.0px;stroke-linecap:butt;stroke-linejoin:miter;stroke-opacity:1\"/>\n",
       "<path class=\"bond-8 atom-7 atom-9\" d=\"M 1030.3,370.2 L 1036.9,374.7\" style=\"fill:none;fill-rule:evenodd;stroke:#FF0000;stroke-width:2.0px;stroke-linecap:butt;stroke-linejoin:miter;stroke-opacity:1\"/>\n",
       "<path class=\"bond-9 atom-9 atom-10\" d=\"M 1043.3,375.3 L 1050.6,371.7\" style=\"fill:none;fill-rule:evenodd;stroke:#FF0000;stroke-width:2.0px;stroke-linecap:butt;stroke-linejoin:miter;stroke-opacity:1\"/>\n",
       "<path class=\"bond-9 atom-9 atom-10\" d=\"M 1050.6,371.7 L 1057.9,368.2\" style=\"fill:none;fill-rule:evenodd;stroke:#000000;stroke-width:2.0px;stroke-linecap:butt;stroke-linejoin:miter;stroke-opacity:1\"/>\n",
       "<path class=\"bond-10 atom-10 atom-11\" d=\"M 1057.9,368.2 L 1075.4,377.6 L 1073.2,380.9 Z\" style=\"fill:#000000;fill-rule:evenodd;fill-opacity:1;stroke:#000000;stroke-width:1.0px;stroke-linecap:butt;stroke-linejoin:miter;stroke-opacity:1;\"/>\n",
       "<path class=\"bond-11 atom-11 atom-12\" d=\"M 1074.3,379.3 L 1072.9,399.0\" style=\"fill:none;fill-rule:evenodd;stroke:#000000;stroke-width:2.0px;stroke-linecap:butt;stroke-linejoin:miter;stroke-opacity:1\"/>\n",
       "<path class=\"bond-12 atom-12 atom-13\" d=\"M 1072.9,399.0 L 1079.5,403.4\" style=\"fill:none;fill-rule:evenodd;stroke:#000000;stroke-width:2.0px;stroke-linecap:butt;stroke-linejoin:miter;stroke-opacity:1\"/>\n",
       "<path class=\"bond-12 atom-12 atom-13\" d=\"M 1079.5,403.4 L 1086.1,407.9\" style=\"fill:none;fill-rule:evenodd;stroke:#FF0000;stroke-width:2.0px;stroke-linecap:butt;stroke-linejoin:miter;stroke-opacity:1\"/>\n",
       "<path class=\"bond-13 atom-12 atom-14\" d=\"M 1073.8,400.8 L 1066.5,404.3\" style=\"fill:none;fill-rule:evenodd;stroke:#000000;stroke-width:2.0px;stroke-linecap:butt;stroke-linejoin:miter;stroke-opacity:1\"/>\n",
       "<path class=\"bond-13 atom-12 atom-14\" d=\"M 1066.5,404.3 L 1059.2,407.9\" style=\"fill:none;fill-rule:evenodd;stroke:#FF0000;stroke-width:2.0px;stroke-linecap:butt;stroke-linejoin:miter;stroke-opacity:1\"/>\n",
       "<path class=\"bond-13 atom-12 atom-14\" d=\"M 1072.0,397.2 L 1064.7,400.8\" style=\"fill:none;fill-rule:evenodd;stroke:#000000;stroke-width:2.0px;stroke-linecap:butt;stroke-linejoin:miter;stroke-opacity:1\"/>\n",
       "<path class=\"bond-13 atom-12 atom-14\" d=\"M 1064.7,400.8 L 1057.5,404.3\" style=\"fill:none;fill-rule:evenodd;stroke:#FF0000;stroke-width:2.0px;stroke-linecap:butt;stroke-linejoin:miter;stroke-opacity:1\"/>\n",
       "<path class=\"bond-14 atom-10 atom-15\" d=\"M 1057.9,368.2 L 1059.3,348.5\" style=\"fill:none;fill-rule:evenodd;stroke:#000000;stroke-width:2.0px;stroke-linecap:butt;stroke-linejoin:miter;stroke-opacity:1\"/>\n",
       "<path class=\"bond-15 atom-15 atom-16\" d=\"M 1059.3,348.5 L 1066.8,344.8\" style=\"fill:none;fill-rule:evenodd;stroke:#000000;stroke-width:2.0px;stroke-linecap:butt;stroke-linejoin:miter;stroke-opacity:1\"/>\n",
       "<path class=\"bond-15 atom-15 atom-16\" d=\"M 1066.8,344.8 L 1074.3,341.1\" style=\"fill:none;fill-rule:evenodd;stroke:#0000FF;stroke-width:2.0px;stroke-linecap:butt;stroke-linejoin:miter;stroke-opacity:1\"/>\n",
       "<path class=\"bond-16 atom-16 atom-17\" d=\"M 1075.4,336.3 L 1071.9,329.2\" style=\"fill:none;fill-rule:evenodd;stroke:#0000FF;stroke-width:2.0px;stroke-linecap:butt;stroke-linejoin:miter;stroke-opacity:1\"/>\n",
       "<path class=\"bond-16 atom-16 atom-17\" d=\"M 1071.9,329.2 L 1068.4,322.0\" style=\"fill:none;fill-rule:evenodd;stroke:#000000;stroke-width:2.0px;stroke-linecap:butt;stroke-linejoin:miter;stroke-opacity:1\"/>\n",
       "<path class=\"bond-17 atom-16 atom-18\" d=\"M 1078.7,343.2 L 1082.2,350.4\" style=\"fill:none;fill-rule:evenodd;stroke:#0000FF;stroke-width:2.0px;stroke-linecap:butt;stroke-linejoin:miter;stroke-opacity:1\"/>\n",
       "<path class=\"bond-17 atom-16 atom-18\" d=\"M 1082.2,350.4 L 1085.7,357.6\" style=\"fill:none;fill-rule:evenodd;stroke:#000000;stroke-width:2.0px;stroke-linecap:butt;stroke-linejoin:miter;stroke-opacity:1\"/>\n",
       "<path class=\"bond-18 atom-16 atom-19\" d=\"M 1082.9,336.9 L 1088.9,334.0\" style=\"fill:none;fill-rule:evenodd;stroke:#0000FF;stroke-width:2.0px;stroke-linecap:butt;stroke-linejoin:miter;stroke-opacity:1\"/>\n",
       "<path class=\"bond-18 atom-16 atom-19\" d=\"M 1088.9,334.0 L 1094.8,331.1\" style=\"fill:none;fill-rule:evenodd;stroke:#000000;stroke-width:2.0px;stroke-linecap:butt;stroke-linejoin:miter;stroke-opacity:1\"/>\n",
       "<path class=\"atom-8\" d=\"M 1022.5 346.1 Q 1022.5 344.7, 1023.2 344.0 Q 1023.8 343.2, 1025.1 343.2 Q 1026.3 343.2, 1027.0 344.0 Q 1027.7 344.7, 1027.7 346.1 Q 1027.7 347.4, 1027.0 348.2 Q 1026.3 349.0, 1025.1 349.0 Q 1023.9 349.0, 1023.2 348.2 Q 1022.5 347.4, 1022.5 346.1 M 1025.1 348.3 Q 1025.9 348.3, 1026.4 347.8 Q 1026.9 347.2, 1026.9 346.1 Q 1026.9 345.0, 1026.4 344.4 Q 1025.9 343.9, 1025.1 343.9 Q 1024.2 343.9, 1023.8 344.4 Q 1023.3 345.0, 1023.3 346.1 Q 1023.3 347.2, 1023.8 347.8 Q 1024.2 348.3, 1025.1 348.3 \" fill=\"#FF0000\"/>\n",
       "<path class=\"atom-9\" d=\"M 1037.5 376.9 Q 1037.5 375.5, 1038.2 374.8 Q 1038.9 374.0, 1040.1 374.0 Q 1041.3 374.0, 1042.0 374.8 Q 1042.7 375.5, 1042.7 376.9 Q 1042.7 378.2, 1042.0 379.0 Q 1041.3 379.8, 1040.1 379.8 Q 1038.9 379.8, 1038.2 379.0 Q 1037.5 378.2, 1037.5 376.9 M 1040.1 379.1 Q 1040.9 379.1, 1041.4 378.6 Q 1041.9 378.0, 1041.9 376.9 Q 1041.9 375.8, 1041.4 375.2 Q 1040.9 374.7, 1040.1 374.7 Q 1039.2 374.7, 1038.8 375.2 Q 1038.3 375.8, 1038.3 376.9 Q 1038.3 378.0, 1038.8 378.6 Q 1039.2 379.1, 1040.1 379.1 \" fill=\"#FF0000\"/>\n",
       "<path class=\"atom-13\" d=\"M 1086.7 410.1 Q 1086.7 408.7, 1087.4 408.0 Q 1088.0 407.2, 1089.3 407.2 Q 1090.5 407.2, 1091.2 408.0 Q 1091.9 408.7, 1091.9 410.1 Q 1091.9 411.4, 1091.2 412.2 Q 1090.5 413.0, 1089.3 413.0 Q 1088.0 413.0, 1087.4 412.2 Q 1086.7 411.5, 1086.7 410.1 M 1089.3 412.4 Q 1090.1 412.4, 1090.6 411.8 Q 1091.1 411.2, 1091.1 410.1 Q 1091.1 409.0, 1090.6 408.4 Q 1090.1 407.9, 1089.3 407.9 Q 1088.4 407.9, 1088.0 408.4 Q 1087.5 409.0, 1087.5 410.1 Q 1087.5 411.2, 1088.0 411.8 Q 1088.4 412.4, 1089.3 412.4 \" fill=\"#FF0000\"/>\n",
       "<path class=\"atom-13\" d=\"M 1092.2 407.3 L 1093.0 407.3 L 1093.0 409.7 L 1095.9 409.7 L 1095.9 407.3 L 1096.6 407.3 L 1096.6 412.9 L 1095.9 412.9 L 1095.9 410.3 L 1093.0 410.3 L 1093.0 412.9 L 1092.2 412.9 L 1092.2 407.3 \" fill=\"#FF0000\"/>\n",
       "<path class=\"atom-14\" d=\"M 1052.5 407.7 Q 1052.5 406.3, 1053.2 405.6 Q 1053.9 404.8, 1055.1 404.8 Q 1056.3 404.8, 1057.0 405.6 Q 1057.7 406.3, 1057.7 407.7 Q 1057.7 409.0, 1057.0 409.8 Q 1056.3 410.6, 1055.1 410.6 Q 1053.9 410.6, 1053.2 409.8 Q 1052.5 409.0, 1052.5 407.7 M 1055.1 409.9 Q 1056.0 409.9, 1056.4 409.4 Q 1056.9 408.8, 1056.9 407.7 Q 1056.9 406.6, 1056.4 406.0 Q 1056.0 405.5, 1055.1 405.5 Q 1054.2 405.5, 1053.8 406.0 Q 1053.3 406.6, 1053.3 407.7 Q 1053.3 408.8, 1053.8 409.4 Q 1054.2 409.9, 1055.1 409.9 \" fill=\"#FF0000\"/>\n",
       "<path class=\"atom-16\" d=\"M 1075.8 337.0 L 1077.7 340.0 Q 1077.8 340.3, 1078.1 340.8 Q 1078.4 341.3, 1078.4 341.3 L 1078.4 337.0 L 1079.2 337.0 L 1079.2 342.6 L 1078.4 342.6 L 1076.4 339.4 Q 1076.2 339.0, 1076.0 338.5 Q 1075.7 338.1, 1075.7 338.0 L 1075.7 342.6 L 1074.9 342.6 L 1074.9 337.0 L 1075.8 337.0 \" fill=\"#0000FF\"/>\n",
       "<path class=\"atom-16\" d=\"M 1079.8 338.0 L 1080.8 338.0 L 1080.8 337.0 L 1081.3 337.0 L 1081.3 338.0 L 1082.3 338.0 L 1082.3 338.4 L 1081.3 338.4 L 1081.3 339.4 L 1080.8 339.4 L 1080.8 338.4 L 1079.8 338.4 L 1079.8 338.0 \" fill=\"#0000FF\"/>\n",
       "<path class=\"legend\" d=\"M 881.3 439.7 Q 881.3 437.4, 882.4 436.2 Q 883.5 435.0, 885.5 435.0 Q 887.4 435.0, 888.5 436.4 L 887.6 437.1 Q 886.8 436.1, 885.5 436.1 Q 884.1 436.1, 883.4 437.0 Q 882.6 438.0, 882.6 439.7 Q 882.6 441.6, 883.4 442.5 Q 884.2 443.5, 885.7 443.5 Q 886.7 443.5, 887.9 442.9 L 888.3 443.8 Q 887.8 444.2, 887.0 444.3 Q 886.3 444.5, 885.5 444.5 Q 883.5 444.5, 882.4 443.3 Q 881.3 442.1, 881.3 439.7 \" fill=\"#000000\"/>\n",
       "<path class=\"legend\" d=\"M 897.4 444.4 L 895.9 444.4 L 893.2 440.6 L 890.4 444.4 L 889.0 444.4 L 892.4 439.5 L 889.3 435.1 L 890.7 435.1 L 893.2 438.6 L 895.7 435.1 L 897.2 435.1 L 894.0 439.6 L 897.4 444.4 \" fill=\"#000000\"/>\n",
       "<path class=\"legend\" d=\"M 900.3 436.2 L 897.4 436.2 L 897.4 435.1 L 904.3 435.1 L 904.3 436.2 L 901.6 436.2 L 901.6 444.4 L 900.3 444.4 L 900.3 436.2 \" fill=\"#000000\"/>\n",
       "<path class=\"legend\" d=\"M 911.1 444.4 L 910.2 441.7 L 906.5 441.7 L 905.5 444.4 L 904.3 444.4 L 907.5 435.1 L 909.0 435.1 L 912.4 444.4 L 911.1 444.4 M 906.8 440.6 L 909.8 440.6 L 908.3 436.4 L 906.8 440.6 \" fill=\"#000000\"/>\n",
       "<path class=\"legend\" d=\"M 915.4 436.2 L 912.5 436.2 L 912.5 435.1 L 919.4 435.1 L 919.4 436.2 L 916.7 436.2 L 916.7 444.4 L 915.4 444.4 L 915.4 436.2 \" fill=\"#000000\"/>\n",
       "<path class=\"legend\" d=\"M 919.4 445.3 Q 919.4 445.3, 920.0 444.9 Q 920.5 444.6, 921.0 444.1 Q 921.5 443.5, 921.5 442.8 L 921.5 436.2 L 919.6 436.2 L 919.6 435.1 L 922.7 435.1 L 922.7 442.8 Q 922.7 443.9, 922.1 444.6 Q 921.5 445.4, 920.7 445.9 Q 919.9 446.3, 919.9 446.2 L 919.4 445.3 \" fill=\"#000000\"/>\n",
       "<path class=\"legend\" d=\"M 923.8 435.1 L 929.4 435.1 L 929.4 436.2 L 925.1 436.2 L 925.1 439.0 L 928.9 439.0 L 928.9 440.1 L 925.1 440.1 L 925.1 444.4 L 923.8 444.4 L 923.8 435.1 \" fill=\"#000000\"/>\n",
       "<path class=\"legend\" d=\"M 929.7 445.3 Q 929.7 445.3, 930.2 444.9 Q 930.8 444.6, 931.3 444.1 Q 931.7 443.5, 931.7 442.8 L 931.7 436.2 L 929.9 436.2 L 929.9 435.1 L 933.0 435.1 L 933.0 442.8 Q 933.0 443.9, 932.3 444.6 Q 931.7 445.4, 931.0 445.9 Q 930.2 446.3, 930.2 446.2 L 929.7 445.3 \" fill=\"#000000\"/>\n",
       "<path class=\"legend\" d=\"M 937.1 435.1 Q 939.2 435.1, 940.3 436.3 Q 941.4 437.5, 941.4 439.7 Q 941.4 441.9, 940.3 443.2 Q 939.2 444.4, 937.1 444.4 L 934.1 444.4 L 934.1 435.1 L 937.1 435.1 M 937.1 443.4 Q 938.5 443.4, 939.3 442.5 Q 940.1 441.5, 940.1 439.7 Q 940.1 437.9, 939.3 437.1 Q 938.5 436.2, 937.1 436.2 L 935.4 436.2 L 935.4 443.4 L 937.1 443.4 \" fill=\"#000000\"/>\n",
       "<path class=\"legend\" d=\"M 952.6 444.4 L 951.4 444.4 L 950.4 436.8 L 947.9 444.4 L 946.6 444.4 L 944.1 436.8 L 943.2 444.4 L 942.0 444.4 L 943.1 435.1 L 944.7 435.1 L 947.3 442.6 L 949.9 435.1 L 951.4 435.1 L 952.6 444.4 \" fill=\"#000000\"/>\n",
       "<path class=\"legend\" d=\"M 953.5 445.3 Q 953.5 445.3, 954.0 444.9 Q 954.6 444.6, 955.1 444.1 Q 955.5 443.5, 955.5 442.8 L 955.5 436.2 L 953.7 436.2 L 953.7 435.1 L 956.8 435.1 L 956.8 442.8 Q 956.8 443.9, 956.1 444.6 Q 955.5 445.4, 954.8 445.9 Q 954.0 446.3, 954.0 446.2 L 953.5 445.3 \" fill=\"#000000\"/>\n",
       "<path class=\"legend\" d=\"M 968.5 444.4 L 967.3 444.4 L 966.4 436.8 L 963.8 444.4 L 962.6 444.4 L 960.1 436.8 L 959.1 444.4 L 957.9 444.4 L 959.1 435.1 L 960.6 435.1 L 963.2 442.6 L 965.8 435.1 L 967.3 435.1 L 968.5 444.4 \" fill=\"#000000\"/>\n",
       "<path class=\"legend\" d=\"M 969.4 435.1 L 970.6 435.1 L 970.6 444.4 L 969.4 444.4 L 969.4 435.1 \" fill=\"#000000\"/>\n",
       "<path class=\"legend\" d=\"M 974.9 440.5 L 971.8 435.1 L 973.2 435.1 L 975.5 439.3 L 977.8 435.1 L 979.2 435.1 L 976.1 440.5 L 976.1 444.4 L 974.9 444.4 L 974.9 440.5 \" fill=\"#000000\"/>\n",
       "<path class=\"legend\" d=\"\" fill=\"#000000\"/>\n",
       "<path class=\"legend\" d=\"M 983.6 442.9 L 984.9 442.9 L 984.9 444.2 L 983.6 444.2 L 983.6 442.9 M 983.6 438.4 L 984.9 438.4 L 984.9 439.7 L 983.6 439.7 L 983.6 438.4 \" fill=\"#000000\"/>\n",
       "<path class=\"legend\" d=\"\" fill=\"#000000\"/>\n",
       "<path class=\"legend\" d=\"M 990.3 439.7 Q 990.3 437.4, 991.4 436.2 Q 992.5 435.0, 994.5 435.0 Q 996.4 435.0, 997.5 436.4 L 996.6 437.1 Q 995.8 436.1, 994.5 436.1 Q 993.1 436.1, 992.4 437.0 Q 991.6 438.0, 991.6 439.7 Q 991.6 441.6, 992.4 442.5 Q 993.2 443.5, 994.7 443.5 Q 995.7 443.5, 996.9 442.9 L 997.3 443.8 Q 996.8 444.2, 996.0 444.3 Q 995.3 444.5, 994.5 444.5 Q 992.5 444.5, 991.4 443.3 Q 990.3 442.1, 990.3 439.7 \" fill=\"#000000\"/>\n",
       "<path class=\"legend\" d=\"M 998.0 439.7 Q 998.0 437.4, 999.1 436.2 Q 1000.2 435.0, 1002.2 435.0 Q 1004.1 435.0, 1005.2 436.4 L 1004.3 437.1 Q 1003.5 436.1, 1002.2 436.1 Q 1000.8 436.1, 1000.1 437.0 Q 999.3 438.0, 999.3 439.7 Q 999.3 441.6, 1000.1 442.5 Q 1000.9 443.5, 1002.4 443.5 Q 1003.4 443.5, 1004.6 442.9 L 1005.0 443.8 Q 1004.5 444.2, 1003.7 444.3 Q 1003.0 444.5, 1002.2 444.5 Q 1000.2 444.5, 999.1 443.3 Q 998.0 442.1, 998.0 439.7 \" fill=\"#000000\"/>\n",
       "<path class=\"legend\" d=\"M 1016.3 444.4 L 1015.1 444.4 L 1014.2 436.8 L 1011.6 444.4 L 1010.4 444.4 L 1007.9 436.8 L 1006.9 444.4 L 1005.7 444.4 L 1006.9 435.1 L 1008.4 435.1 L 1011.0 442.6 L 1013.6 435.1 L 1015.1 435.1 L 1016.3 444.4 \" fill=\"#000000\"/>\n",
       "<path class=\"legend\" d=\"M 1017.5 443.0 Q 1017.6 443.0, 1018.1 443.2 Q 1018.5 443.4, 1019.0 443.5 Q 1019.5 443.6, 1019.9 443.6 Q 1020.8 443.6, 1021.3 443.2 Q 1021.8 442.7, 1021.8 442.0 Q 1021.8 441.5, 1021.6 441.2 Q 1021.3 440.8, 1020.9 440.7 Q 1020.5 440.5, 1019.9 440.3 Q 1019.1 440.1, 1018.6 439.8 Q 1018.1 439.6, 1017.7 439.1 Q 1017.4 438.6, 1017.4 437.7 Q 1017.4 436.6, 1018.2 435.9 Q 1019.0 435.1, 1020.5 435.1 Q 1021.6 435.1, 1022.8 435.6 L 1022.5 436.7 Q 1021.4 436.2, 1020.6 436.2 Q 1019.7 436.2, 1019.2 436.6 Q 1018.7 436.9, 1018.7 437.6 Q 1018.7 438.1, 1018.9 438.4 Q 1019.2 438.7, 1019.6 438.9 Q 1019.9 439.0, 1020.6 439.2 Q 1021.4 439.5, 1021.9 439.8 Q 1022.4 440.0, 1022.8 440.6 Q 1023.1 441.1, 1023.1 442.0 Q 1023.1 443.3, 1022.3 444.0 Q 1021.4 444.7, 1020.0 444.7 Q 1019.2 444.7, 1018.5 444.5 Q 1017.9 444.3, 1017.2 444.0 L 1017.5 443.0 \" fill=\"#000000\"/>\n",
       "<path class=\"legend\" d=\"M 1023.8 435.1 L 1025.0 435.1 L 1025.0 443.3 L 1029.3 443.3 L 1029.3 444.4 L 1023.8 444.4 L 1023.8 435.1 \" fill=\"#000000\"/>\n",
       "<path class=\"legend\" d=\"M 1029.6 435.1 L 1030.9 435.1 L 1030.9 444.4 L 1029.6 444.4 L 1029.6 435.1 \" fill=\"#000000\"/>\n",
       "<path class=\"legend\" d=\"M 1036.6 439.5 Q 1037.5 439.8, 1037.9 440.3 Q 1038.4 440.9, 1038.4 441.7 Q 1038.4 443.0, 1037.5 443.7 Q 1036.7 444.4, 1035.2 444.4 L 1032.0 444.4 L 1032.0 435.1 L 1034.8 435.1 Q 1036.4 435.1, 1037.2 435.7 Q 1038.0 436.4, 1038.0 437.6 Q 1038.0 439.0, 1036.6 439.5 M 1033.3 436.2 L 1033.3 439.1 L 1034.8 439.1 Q 1035.7 439.1, 1036.2 438.7 Q 1036.7 438.3, 1036.7 437.6 Q 1036.7 436.2, 1034.8 436.2 L 1033.3 436.2 M 1035.2 443.4 Q 1036.1 443.4, 1036.6 442.9 Q 1037.0 442.5, 1037.0 441.7 Q 1037.0 440.9, 1036.5 440.5 Q 1036.0 440.1, 1035.0 440.1 L 1033.3 440.1 L 1033.3 443.4 L 1035.2 443.4 \" fill=\"#000000\"/>\n",
       "<path class=\"legend\" d=\"M 1042.4 444.5 Q 1040.7 444.5, 1039.8 443.3 Q 1039.0 442.0, 1039.0 439.7 Q 1039.0 437.5, 1039.8 436.2 Q 1040.6 435.0, 1042.4 435.0 Q 1044.1 435.0, 1044.9 436.2 Q 1045.8 437.5, 1045.8 439.7 Q 1045.8 442.0, 1044.9 443.3 Q 1044.1 444.5, 1042.4 444.5 M 1042.4 443.5 Q 1043.4 443.5, 1043.9 442.5 Q 1044.5 441.6, 1044.5 439.7 Q 1044.5 437.9, 1043.9 437.0 Q 1043.4 436.1, 1042.4 436.1 Q 1041.4 436.1, 1040.8 437.0 Q 1040.3 437.9, 1040.3 439.7 Q 1040.3 441.6, 1040.8 442.5 Q 1041.4 443.5, 1042.4 443.5 \" fill=\"#000000\"/>\n",
       "<path class=\"legend\" d=\"M 1050.0 444.5 Q 1048.3 444.5, 1047.5 443.3 Q 1046.6 442.0, 1046.6 439.7 Q 1046.6 437.5, 1047.5 436.2 Q 1048.3 435.0, 1050.0 435.0 Q 1051.8 435.0, 1052.6 436.2 Q 1053.4 437.5, 1053.4 439.7 Q 1053.4 442.0, 1052.6 443.3 Q 1051.7 444.5, 1050.0 444.5 M 1050.0 443.5 Q 1051.0 443.5, 1051.6 442.5 Q 1052.1 441.6, 1052.1 439.7 Q 1052.1 437.9, 1051.6 437.0 Q 1051.0 436.1, 1050.0 436.1 Q 1049.0 436.1, 1048.5 437.0 Q 1047.9 437.9, 1047.9 439.7 Q 1047.9 441.6, 1048.5 442.5 Q 1049.0 443.5, 1050.0 443.5 \" fill=\"#000000\"/>\n",
       "<path class=\"legend\" d=\"M 1057.7 444.5 Q 1056.0 444.5, 1055.1 443.3 Q 1054.3 442.0, 1054.3 439.7 Q 1054.3 437.5, 1055.1 436.2 Q 1056.0 435.0, 1057.7 435.0 Q 1059.4 435.0, 1060.3 436.2 Q 1061.1 437.5, 1061.1 439.7 Q 1061.1 442.0, 1060.2 443.3 Q 1059.4 444.5, 1057.7 444.5 M 1057.7 443.5 Q 1058.7 443.5, 1059.2 442.5 Q 1059.8 441.6, 1059.8 439.7 Q 1059.8 437.9, 1059.2 437.0 Q 1058.7 436.1, 1057.7 436.1 Q 1056.7 436.1, 1056.1 437.0 Q 1055.6 437.9, 1055.6 439.7 Q 1055.6 441.6, 1056.1 442.5 Q 1056.7 443.5, 1057.7 443.5 \" fill=\"#000000\"/>\n",
       "<path class=\"legend\" d=\"M 1065.4 444.5 Q 1063.6 444.5, 1062.8 443.3 Q 1062.0 442.0, 1062.0 439.7 Q 1062.0 437.5, 1062.8 436.2 Q 1063.6 435.0, 1065.4 435.0 Q 1067.1 435.0, 1067.9 436.2 Q 1068.8 437.5, 1068.8 439.7 Q 1068.8 442.0, 1067.9 443.3 Q 1067.1 444.5, 1065.4 444.5 M 1065.4 443.5 Q 1066.4 443.5, 1066.9 442.5 Q 1067.4 441.6, 1067.4 439.7 Q 1067.4 437.9, 1066.9 437.0 Q 1066.4 436.1, 1065.4 436.1 Q 1064.4 436.1, 1063.8 437.0 Q 1063.3 437.9, 1063.3 439.7 Q 1063.3 441.6, 1063.8 442.5 Q 1064.4 443.5, 1065.4 443.5 \" fill=\"#000000\"/>\n",
       "<path class=\"legend\" d=\"M 1073.0 438.6 Q 1073.8 438.6, 1074.5 438.9 Q 1075.1 439.3, 1075.5 439.9 Q 1075.9 440.6, 1075.9 441.5 Q 1075.9 442.4, 1075.4 443.1 Q 1075.0 443.8, 1074.2 444.2 Q 1073.5 444.5, 1072.6 444.5 Q 1071.7 444.5, 1070.9 444.2 Q 1070.2 443.9, 1069.6 443.3 L 1070.4 442.5 Q 1070.8 442.9, 1071.4 443.2 Q 1072.0 443.5, 1072.6 443.5 Q 1073.5 443.5, 1074.0 442.9 Q 1074.6 442.4, 1074.6 441.5 Q 1074.6 440.5, 1074.0 440.0 Q 1073.5 439.6, 1072.5 439.6 Q 1071.7 439.6, 1070.8 439.9 L 1070.1 439.6 L 1070.5 435.1 L 1075.3 435.1 L 1075.2 436.2 L 1071.6 436.2 L 1071.3 438.9 Q 1072.2 438.6, 1073.0 438.6 \" fill=\"#000000\"/>\n",
       "<path class=\"legend\" d=\"M 1081.3 439.5 Q 1082.1 439.8, 1082.6 440.4 Q 1083.1 440.9, 1083.1 441.9 Q 1083.1 442.6, 1082.7 443.3 Q 1082.3 443.9, 1081.6 444.2 Q 1080.8 444.5, 1079.9 444.5 Q 1078.3 444.5, 1077.4 443.8 Q 1076.5 443.1, 1076.5 441.9 Q 1076.5 441.1, 1076.9 440.5 Q 1077.3 440.0, 1078.1 439.5 Q 1077.5 439.2, 1077.2 438.7 Q 1076.9 438.2, 1076.9 437.4 Q 1076.9 436.3, 1077.7 435.6 Q 1078.5 435.0, 1079.8 435.0 Q 1081.2 435.0, 1082.0 435.6 Q 1082.8 436.3, 1082.8 437.4 Q 1082.8 438.1, 1082.4 438.6 Q 1082.0 439.1, 1081.3 439.5 M 1079.8 436.0 Q 1079.1 436.0, 1078.6 436.4 Q 1078.2 436.7, 1078.2 437.4 Q 1078.2 437.9, 1078.5 438.2 Q 1078.8 438.5, 1079.2 438.7 Q 1079.6 438.9, 1080.4 439.2 Q 1081.0 438.8, 1081.2 438.3 Q 1081.5 437.9, 1081.5 437.4 Q 1081.5 436.7, 1081.0 436.4 Q 1080.6 436.0, 1079.8 436.0 M 1079.9 443.6 Q 1080.7 443.6, 1081.3 443.1 Q 1081.8 442.6, 1081.8 441.8 Q 1081.8 441.3, 1081.5 441.0 Q 1081.2 440.7, 1080.8 440.5 Q 1080.4 440.3, 1079.7 440.1 L 1079.1 439.9 Q 1078.4 440.3, 1078.1 440.8 Q 1077.9 441.2, 1077.9 441.8 Q 1077.9 442.6, 1078.4 443.1 Q 1079.0 443.6, 1079.9 443.6 \" fill=\"#000000\"/>\n",
       "<path class=\"legend\" d=\"M 1088.7 439.5 Q 1089.5 439.8, 1090.0 440.4 Q 1090.5 440.9, 1090.5 441.9 Q 1090.5 442.6, 1090.1 443.3 Q 1089.7 443.9, 1089.0 444.2 Q 1088.2 444.5, 1087.3 444.5 Q 1085.7 444.5, 1084.8 443.8 Q 1083.9 443.1, 1083.9 441.9 Q 1083.9 441.1, 1084.3 440.5 Q 1084.7 440.0, 1085.5 439.5 Q 1084.9 439.2, 1084.6 438.7 Q 1084.3 438.2, 1084.3 437.4 Q 1084.3 436.3, 1085.1 435.6 Q 1085.9 435.0, 1087.2 435.0 Q 1088.6 435.0, 1089.4 435.6 Q 1090.2 436.3, 1090.2 437.4 Q 1090.2 438.1, 1089.8 438.6 Q 1089.4 439.1, 1088.7 439.5 M 1087.2 436.0 Q 1086.4 436.0, 1086.0 436.4 Q 1085.6 436.7, 1085.6 437.4 Q 1085.6 437.9, 1085.9 438.2 Q 1086.2 438.5, 1086.6 438.7 Q 1087.0 438.9, 1087.8 439.2 Q 1088.4 438.8, 1088.6 438.3 Q 1088.9 437.9, 1088.9 437.4 Q 1088.9 436.7, 1088.4 436.4 Q 1088.0 436.0, 1087.2 436.0 M 1087.3 443.6 Q 1088.1 443.6, 1088.7 443.1 Q 1089.2 442.6, 1089.2 441.8 Q 1089.2 441.3, 1088.9 441.0 Q 1088.6 440.7, 1088.2 440.5 Q 1087.8 440.3, 1087.1 440.1 L 1086.5 439.9 Q 1085.8 440.3, 1085.5 440.8 Q 1085.3 441.2, 1085.3 441.8 Q 1085.3 442.6, 1085.8 443.1 Q 1086.4 443.6, 1087.3 443.6 \" fill=\"#000000\"/>\n",
       "<path class=\"legend\" d=\"M 1094.7 438.6 Q 1095.5 438.6, 1096.2 438.9 Q 1096.9 439.3, 1097.3 439.9 Q 1097.6 440.6, 1097.6 441.5 Q 1097.6 442.4, 1097.2 443.1 Q 1096.7 443.8, 1095.9 444.2 Q 1095.2 444.5, 1094.3 444.5 Q 1093.5 444.5, 1092.7 444.2 Q 1091.9 443.9, 1091.3 443.3 L 1092.1 442.5 Q 1092.6 442.9, 1093.2 443.2 Q 1093.7 443.5, 1094.3 443.5 Q 1095.2 443.5, 1095.7 442.9 Q 1096.3 442.4, 1096.3 441.5 Q 1096.3 440.5, 1095.7 440.0 Q 1095.2 439.6, 1094.3 439.6 Q 1093.5 439.6, 1092.5 439.9 L 1091.8 439.6 L 1092.3 435.1 L 1097.1 435.1 L 1096.9 436.2 L 1093.3 436.2 L 1093.1 438.9 Q 1093.9 438.6, 1094.7 438.6 \" fill=\"#000000\"/>\n",
       "<path class=\"legend\" d=\"M 1101.7 444.5 Q 1100.0 444.5, 1099.1 443.3 Q 1098.3 442.0, 1098.3 439.7 Q 1098.3 437.5, 1099.1 436.2 Q 1099.9 435.0, 1101.7 435.0 Q 1103.4 435.0, 1104.2 436.2 Q 1105.1 437.5, 1105.1 439.7 Q 1105.1 442.0, 1104.2 443.3 Q 1103.4 444.5, 1101.7 444.5 M 1101.7 443.5 Q 1102.7 443.5, 1103.2 442.5 Q 1103.8 441.6, 1103.8 439.7 Q 1103.8 437.9, 1103.2 437.0 Q 1102.7 436.1, 1101.7 436.1 Q 1100.7 436.1, 1100.1 437.0 Q 1099.6 437.9, 1099.6 439.7 Q 1099.6 441.6, 1100.1 442.5 Q 1100.7 443.5, 1101.7 443.5 \" fill=\"#000000\"/>\n",
       "<path class=\"legend\" d=\"M 1109.6 438.6 Q 1110.4 438.6, 1111.0 439.0 Q 1111.7 439.3, 1112.0 440.0 Q 1112.4 440.6, 1112.4 441.4 Q 1112.4 442.3, 1112.0 443.0 Q 1111.6 443.7, 1110.9 444.1 Q 1110.2 444.5, 1109.3 444.5 Q 1107.6 444.5, 1106.8 443.4 Q 1105.9 442.3, 1105.9 440.0 Q 1105.9 437.6, 1107.0 436.3 Q 1108.0 435.0, 1110.0 435.0 Q 1110.6 435.0, 1111.0 435.1 Q 1111.5 435.3, 1112.0 435.5 L 1111.5 436.4 Q 1110.8 436.1, 1110.0 436.1 Q 1108.7 436.1, 1108.0 436.9 Q 1107.3 437.7, 1107.3 439.5 Q 1107.7 439.1, 1108.3 438.8 Q 1108.9 438.6, 1109.6 438.6 M 1109.3 443.4 Q 1109.8 443.4, 1110.2 443.2 Q 1110.6 442.9, 1110.8 442.5 Q 1111.1 442.0, 1111.1 441.4 Q 1111.1 440.6, 1110.6 440.1 Q 1110.1 439.7, 1109.3 439.7 Q 1108.8 439.7, 1108.2 439.9 Q 1107.6 440.1, 1107.3 440.5 Q 1107.3 442.0, 1107.8 442.7 Q 1108.3 443.4, 1109.3 443.4 \" fill=\"#000000\"/>\n",
       "<path class=\"legend\" d=\"M 1113.6 443.4 L 1115.7 443.4 L 1115.7 436.4 L 1113.4 437.1 L 1113.1 436.3 L 1116.0 435.1 L 1116.9 435.2 L 1116.9 443.4 L 1118.7 443.4 L 1118.7 444.4 L 1113.6 444.4 L 1113.6 443.4 \" fill=\"#000000\"/>\n",
       "<path class=\"bond-0 atom-0 atom-1\" d=\"M 1565.0,327.0 L 1545.6,330.8\" style=\"fill:none;fill-rule:evenodd;stroke:#000000;stroke-width:2.0px;stroke-linecap:butt;stroke-linejoin:miter;stroke-opacity:1\"/>\n",
       "<path class=\"bond-1 atom-1 atom-2\" d=\"M 1545.6,330.8 L 1539.2,349.5\" style=\"fill:none;fill-rule:evenodd;stroke:#000000;stroke-width:2.0px;stroke-linecap:butt;stroke-linejoin:miter;stroke-opacity:1\"/>\n",
       "<path class=\"bond-2 atom-2 atom-3\" d=\"M 1539.2,349.5 L 1519.8,353.3\" style=\"fill:none;fill-rule:evenodd;stroke:#000000;stroke-width:2.0px;stroke-linecap:butt;stroke-linejoin:miter;stroke-opacity:1\"/>\n",
       "<path class=\"bond-3 atom-3 atom-4\" d=\"M 1519.8,353.3 L 1513.4,372.1\" style=\"fill:none;fill-rule:evenodd;stroke:#000000;stroke-width:2.0px;stroke-linecap:butt;stroke-linejoin:miter;stroke-opacity:1\"/>\n",
       "<path class=\"bond-4 atom-4 atom-5\" d=\"M 1513.4,372.1 L 1494.0,375.9\" style=\"fill:none;fill-rule:evenodd;stroke:#000000;stroke-width:2.0px;stroke-linecap:butt;stroke-linejoin:miter;stroke-opacity:1\"/>\n",
       "<path class=\"bond-5 atom-5 atom-6\" d=\"M 1494.0,375.9 L 1487.5,394.6\" style=\"fill:none;fill-rule:evenodd;stroke:#000000;stroke-width:2.0px;stroke-linecap:butt;stroke-linejoin:miter;stroke-opacity:1\"/>\n",
       "<path class=\"bond-6 atom-6 atom-7\" d=\"M 1487.5,394.6 L 1468.1,398.4\" style=\"fill:none;fill-rule:evenodd;stroke:#000000;stroke-width:2.0px;stroke-linecap:butt;stroke-linejoin:miter;stroke-opacity:1\"/>\n",
       "<path class=\"bond-7 atom-7 atom-8\" d=\"M 1468.1,398.4 L 1461.7,417.1\" style=\"fill:none;fill-rule:evenodd;stroke:#000000;stroke-width:2.0px;stroke-linecap:butt;stroke-linejoin:miter;stroke-opacity:1\"/>\n",
       "<path class=\"bond-8 atom-8 atom-9\" d=\"M 1461.7,417.1 L 1442.3,420.9\" style=\"fill:none;fill-rule:evenodd;stroke:#000000;stroke-width:2.0px;stroke-linecap:butt;stroke-linejoin:miter;stroke-opacity:1\"/>\n",
       "<path class=\"bond-8 atom-8 atom-9\" d=\"M 1458.1,413.8 L 1444.5,416.5\" style=\"fill:none;fill-rule:evenodd;stroke:#000000;stroke-width:2.0px;stroke-linecap:butt;stroke-linejoin:miter;stroke-opacity:1\"/>\n",
       "<path class=\"bond-9 atom-9 atom-10\" d=\"M 1442.3,420.9 L 1429.3,406.0\" style=\"fill:none;fill-rule:evenodd;stroke:#000000;stroke-width:2.0px;stroke-linecap:butt;stroke-linejoin:miter;stroke-opacity:1\"/>\n",
       "<path class=\"bond-10 atom-10 atom-11\" d=\"M 1429.3,406.0 L 1409.9,409.8\" style=\"fill:none;fill-rule:evenodd;stroke:#000000;stroke-width:2.0px;stroke-linecap:butt;stroke-linejoin:miter;stroke-opacity:1\"/>\n",
       "<path class=\"bond-11 atom-11 atom-12\" d=\"M 1409.9,409.8 L 1396.9,394.9\" style=\"fill:none;fill-rule:evenodd;stroke:#000000;stroke-width:2.0px;stroke-linecap:butt;stroke-linejoin:miter;stroke-opacity:1\"/>\n",
       "<path class=\"bond-12 atom-12 atom-13\" d=\"M 1396.9,394.9 L 1377.5,398.7\" style=\"fill:none;fill-rule:evenodd;stroke:#000000;stroke-width:2.0px;stroke-linecap:butt;stroke-linejoin:miter;stroke-opacity:1\"/>\n",
       "<path class=\"bond-13 atom-13 atom-14\" d=\"M 1377.5,398.7 L 1364.5,383.8\" style=\"fill:none;fill-rule:evenodd;stroke:#000000;stroke-width:2.0px;stroke-linecap:butt;stroke-linejoin:miter;stroke-opacity:1\"/>\n",
       "<path class=\"bond-14 atom-14 atom-15\" d=\"M 1364.5,383.8 L 1345.1,387.6\" style=\"fill:none;fill-rule:evenodd;stroke:#000000;stroke-width:2.0px;stroke-linecap:butt;stroke-linejoin:miter;stroke-opacity:1\"/>\n",
       "<path class=\"bond-15 atom-15 atom-16\" d=\"M 1345.1,387.6 L 1332.1,372.7\" style=\"fill:none;fill-rule:evenodd;stroke:#000000;stroke-width:2.0px;stroke-linecap:butt;stroke-linejoin:miter;stroke-opacity:1\"/>\n",
       "<path class=\"bond-16 atom-16 atom-17\" d=\"M 1332.1,372.7 L 1312.6,376.5\" style=\"fill:none;fill-rule:evenodd;stroke:#000000;stroke-width:2.0px;stroke-linecap:butt;stroke-linejoin:miter;stroke-opacity:1\"/>\n",
       "<path class=\"bond-17 atom-17 atom-18\" d=\"M 1314.5,377.2 L 1311.9,384.8\" style=\"fill:none;fill-rule:evenodd;stroke:#000000;stroke-width:2.0px;stroke-linecap:butt;stroke-linejoin:miter;stroke-opacity:1\"/>\n",
       "<path class=\"bond-17 atom-17 atom-18\" d=\"M 1311.9,384.8 L 1309.3,392.4\" style=\"fill:none;fill-rule:evenodd;stroke:#FF0000;stroke-width:2.0px;stroke-linecap:butt;stroke-linejoin:miter;stroke-opacity:1\"/>\n",
       "<path class=\"bond-17 atom-17 atom-18\" d=\"M 1310.8,375.9 L 1308.2,383.5\" style=\"fill:none;fill-rule:evenodd;stroke:#000000;stroke-width:2.0px;stroke-linecap:butt;stroke-linejoin:miter;stroke-opacity:1\"/>\n",
       "<path class=\"bond-17 atom-17 atom-18\" d=\"M 1308.2,383.5 L 1305.6,391.1\" style=\"fill:none;fill-rule:evenodd;stroke:#FF0000;stroke-width:2.0px;stroke-linecap:butt;stroke-linejoin:miter;stroke-opacity:1\"/>\n",
       "<path class=\"bond-18 atom-17 atom-19\" d=\"M 1312.6,376.5 L 1307.7,370.9\" style=\"fill:none;fill-rule:evenodd;stroke:#000000;stroke-width:2.0px;stroke-linecap:butt;stroke-linejoin:miter;stroke-opacity:1\"/>\n",
       "<path class=\"bond-18 atom-17 atom-19\" d=\"M 1307.7,370.9 L 1302.8,365.2\" style=\"fill:none;fill-rule:evenodd;stroke:#FF0000;stroke-width:2.0px;stroke-linecap:butt;stroke-linejoin:miter;stroke-opacity:1\"/>\n",
       "<path class=\"bond-19 atom-19 atom-20\" d=\"M 1296.4,362.3 L 1288.3,363.8\" style=\"fill:none;fill-rule:evenodd;stroke:#FF0000;stroke-width:2.0px;stroke-linecap:butt;stroke-linejoin:miter;stroke-opacity:1\"/>\n",
       "<path class=\"bond-19 atom-19 atom-20\" d=\"M 1288.3,363.8 L 1280.2,365.4\" style=\"fill:none;fill-rule:evenodd;stroke:#000000;stroke-width:2.0px;stroke-linecap:butt;stroke-linejoin:miter;stroke-opacity:1\"/>\n",
       "<path class=\"bond-20 atom-20 atom-21\" d=\"M 1280.2,365.4 L 1265.7,351.8 L 1268.7,349.2 Z\" style=\"fill:#000000;fill-rule:evenodd;fill-opacity:1;stroke:#000000;stroke-width:1.0px;stroke-linecap:butt;stroke-linejoin:miter;stroke-opacity:1;\"/>\n",
       "<path class=\"bond-21 atom-21 atom-22\" d=\"M 1267.2,350.5 L 1273.6,331.8\" style=\"fill:none;fill-rule:evenodd;stroke:#000000;stroke-width:2.0px;stroke-linecap:butt;stroke-linejoin:miter;stroke-opacity:1\"/>\n",
       "<path class=\"bond-22 atom-22 atom-23\" d=\"M 1273.2,329.9 L 1281.3,328.3\" style=\"fill:none;fill-rule:evenodd;stroke:#000000;stroke-width:2.0px;stroke-linecap:butt;stroke-linejoin:miter;stroke-opacity:1\"/>\n",
       "<path class=\"bond-22 atom-22 atom-23\" d=\"M 1281.3,328.3 L 1289.4,326.7\" style=\"fill:none;fill-rule:evenodd;stroke:#FF0000;stroke-width:2.0px;stroke-linecap:butt;stroke-linejoin:miter;stroke-opacity:1\"/>\n",
       "<path class=\"bond-22 atom-22 atom-23\" d=\"M 1274.0,333.8 L 1282.1,332.2\" style=\"fill:none;fill-rule:evenodd;stroke:#000000;stroke-width:2.0px;stroke-linecap:butt;stroke-linejoin:miter;stroke-opacity:1\"/>\n",
       "<path class=\"bond-22 atom-22 atom-23\" d=\"M 1282.1,332.2 L 1290.2,330.6\" style=\"fill:none;fill-rule:evenodd;stroke:#FF0000;stroke-width:2.0px;stroke-linecap:butt;stroke-linejoin:miter;stroke-opacity:1\"/>\n",
       "<path class=\"bond-23 atom-22 atom-24\" d=\"M 1273.6,331.8 L 1268.7,326.1\" style=\"fill:none;fill-rule:evenodd;stroke:#000000;stroke-width:2.0px;stroke-linecap:butt;stroke-linejoin:miter;stroke-opacity:1\"/>\n",
       "<path class=\"bond-23 atom-22 atom-24\" d=\"M 1268.7,326.1 L 1263.7,320.5\" style=\"fill:none;fill-rule:evenodd;stroke:#FF0000;stroke-width:2.0px;stroke-linecap:butt;stroke-linejoin:miter;stroke-opacity:1\"/>\n",
       "<path class=\"bond-24 atom-20 atom-25\" d=\"M 1280.2,365.4 L 1273.8,384.2\" style=\"fill:none;fill-rule:evenodd;stroke:#000000;stroke-width:2.0px;stroke-linecap:butt;stroke-linejoin:miter;stroke-opacity:1\"/>\n",
       "<path class=\"bond-25 atom-25 atom-26\" d=\"M 1273.8,384.2 L 1267.0,385.5\" style=\"fill:none;fill-rule:evenodd;stroke:#000000;stroke-width:2.0px;stroke-linecap:butt;stroke-linejoin:miter;stroke-opacity:1\"/>\n",
       "<path class=\"bond-25 atom-25 atom-26\" d=\"M 1267.0,385.5 L 1260.3,386.8\" style=\"fill:none;fill-rule:evenodd;stroke:#0000FF;stroke-width:2.0px;stroke-linecap:butt;stroke-linejoin:miter;stroke-opacity:1\"/>\n",
       "<path class=\"bond-26 atom-26 atom-27\" d=\"M 1255.1,391.4 L 1256.6,399.4\" style=\"fill:none;fill-rule:evenodd;stroke:#0000FF;stroke-width:2.0px;stroke-linecap:butt;stroke-linejoin:miter;stroke-opacity:1\"/>\n",
       "<path class=\"bond-26 atom-26 atom-27\" d=\"M 1256.6,399.4 L 1258.2,407.4\" style=\"fill:none;fill-rule:evenodd;stroke:#000000;stroke-width:2.0px;stroke-linecap:butt;stroke-linejoin:miter;stroke-opacity:1\"/>\n",
       "<path class=\"bond-27 atom-26 atom-28\" d=\"M 1253.7,384.5 L 1252.2,376.5\" style=\"fill:none;fill-rule:evenodd;stroke:#0000FF;stroke-width:2.0px;stroke-linecap:butt;stroke-linejoin:miter;stroke-opacity:1\"/>\n",
       "<path class=\"bond-27 atom-26 atom-28\" d=\"M 1252.2,376.5 L 1250.6,368.5\" style=\"fill:none;fill-rule:evenodd;stroke:#000000;stroke-width:2.0px;stroke-linecap:butt;stroke-linejoin:miter;stroke-opacity:1\"/>\n",
       "<path class=\"bond-28 atom-26 atom-29\" d=\"M 1251.6,388.5 L 1243.3,390.1\" style=\"fill:none;fill-rule:evenodd;stroke:#0000FF;stroke-width:2.0px;stroke-linecap:butt;stroke-linejoin:miter;stroke-opacity:1\"/>\n",
       "<path class=\"bond-28 atom-26 atom-29\" d=\"M 1243.3,390.1 L 1235.0,391.8\" style=\"fill:none;fill-rule:evenodd;stroke:#000000;stroke-width:2.0px;stroke-linecap:butt;stroke-linejoin:miter;stroke-opacity:1\"/>\n",
       "<path class=\"atom-18\" d=\"M 1303.7 395.3 Q 1303.7 393.9, 1304.3 393.2 Q 1305.0 392.4, 1306.2 392.4 Q 1307.5 392.4, 1308.1 393.2 Q 1308.8 393.9, 1308.8 395.3 Q 1308.8 396.6, 1308.1 397.4 Q 1307.5 398.2, 1306.2 398.2 Q 1305.0 398.2, 1304.3 397.4 Q 1303.7 396.6, 1303.7 395.3 M 1306.2 397.5 Q 1307.1 397.5, 1307.5 397.0 Q 1308.0 396.4, 1308.0 395.3 Q 1308.0 394.2, 1307.5 393.6 Q 1307.1 393.1, 1306.2 393.1 Q 1305.4 393.1, 1304.9 393.6 Q 1304.5 394.2, 1304.5 395.3 Q 1304.5 396.4, 1304.9 397.0 Q 1305.4 397.5, 1306.2 397.5 \" fill=\"#FF0000\"/>\n",
       "<path class=\"atom-19\" d=\"M 1297.1 361.6 Q 1297.1 360.3, 1297.7 359.5 Q 1298.4 358.8, 1299.6 358.8 Q 1300.9 358.8, 1301.5 359.5 Q 1302.2 360.3, 1302.2 361.6 Q 1302.2 363.0, 1301.5 363.8 Q 1300.9 364.5, 1299.6 364.5 Q 1298.4 364.5, 1297.7 363.8 Q 1297.1 363.0, 1297.1 361.6 M 1299.6 363.9 Q 1300.5 363.9, 1300.9 363.3 Q 1301.4 362.8, 1301.4 361.6 Q 1301.4 360.5, 1300.9 360.0 Q 1300.5 359.4, 1299.6 359.4 Q 1298.8 359.4, 1298.3 360.0 Q 1297.9 360.5, 1297.9 361.6 Q 1297.9 362.8, 1298.3 363.3 Q 1298.8 363.9, 1299.6 363.9 \" fill=\"#FF0000\"/>\n",
       "<path class=\"atom-23\" d=\"M 1290.5 328.0 Q 1290.5 326.7, 1291.1 325.9 Q 1291.8 325.2, 1293.0 325.2 Q 1294.3 325.2, 1294.9 325.9 Q 1295.6 326.7, 1295.6 328.0 Q 1295.6 329.4, 1294.9 330.2 Q 1294.3 330.9, 1293.0 330.9 Q 1291.8 330.9, 1291.1 330.2 Q 1290.5 329.4, 1290.5 328.0 M 1293.0 330.3 Q 1293.9 330.3, 1294.4 329.7 Q 1294.8 329.1, 1294.8 328.0 Q 1294.8 326.9, 1294.4 326.4 Q 1293.9 325.8, 1293.0 325.8 Q 1292.2 325.8, 1291.7 326.4 Q 1291.3 326.9, 1291.3 328.0 Q 1291.3 329.2, 1291.7 329.7 Q 1292.2 330.3, 1293.0 330.3 \" fill=\"#FF0000\"/>\n",
       "<path class=\"atom-24\" d=\"M 1258.0 316.9 Q 1258.0 315.6, 1258.7 314.8 Q 1259.4 314.1, 1260.6 314.1 Q 1261.9 314.1, 1262.5 314.8 Q 1263.2 315.6, 1263.2 316.9 Q 1263.2 318.3, 1262.5 319.1 Q 1261.8 319.8, 1260.6 319.8 Q 1259.4 319.8, 1258.7 319.1 Q 1258.0 318.3, 1258.0 316.9 M 1260.6 319.2 Q 1261.5 319.2, 1261.9 318.6 Q 1262.4 318.0, 1262.4 316.9 Q 1262.4 315.8, 1261.9 315.3 Q 1261.5 314.7, 1260.6 314.7 Q 1259.8 314.7, 1259.3 315.3 Q 1258.8 315.8, 1258.8 316.9 Q 1258.8 318.1, 1259.3 318.6 Q 1259.8 319.2, 1260.6 319.2 \" fill=\"#FF0000\"/>\n",
       "<path class=\"atom-24\" d=\"M 1263.6 315.0 L 1265.5 315.0 L 1265.5 315.4 L 1263.6 315.4 L 1263.6 315.0 \" fill=\"#FF0000\"/>\n",
       "<path class=\"atom-26\" d=\"M 1253.2 385.2 L 1255.0 388.1 Q 1255.2 388.4, 1255.5 389.0 Q 1255.8 389.5, 1255.8 389.5 L 1255.8 385.2 L 1256.5 385.2 L 1256.5 390.8 L 1255.8 390.8 L 1253.8 387.5 Q 1253.6 387.1, 1253.3 386.7 Q 1253.1 386.3, 1253.0 386.1 L 1253.0 390.8 L 1252.3 390.8 L 1252.3 385.2 L 1253.2 385.2 \" fill=\"#0000FF\"/>\n",
       "<path class=\"atom-26\" d=\"M 1257.2 386.2 L 1258.2 386.2 L 1258.2 385.1 L 1258.6 385.1 L 1258.6 386.2 L 1259.6 386.2 L 1259.6 386.5 L 1258.6 386.5 L 1258.6 387.6 L 1258.2 387.6 L 1258.2 386.5 L 1257.2 386.5 L 1257.2 386.2 \" fill=\"#0000FF\"/>\n",
       "<path class=\"legend\" d=\"M 1264.0 435.1 L 1265.4 435.1 L 1265.4 446.0 L 1264.0 446.0 L 1264.0 435.1 \" fill=\"#000000\"/>\n",
       "<path class=\"legend\" d=\"M 1270.0 435.1 Q 1271.8 435.1, 1272.7 436.0 Q 1273.7 436.8, 1273.7 438.3 Q 1273.7 439.8, 1272.7 440.7 Q 1271.8 441.5, 1270.0 441.5 L 1268.2 441.5 L 1268.2 446.0 L 1266.8 446.0 L 1266.8 435.1 L 1270.0 435.1 M 1270.0 440.3 Q 1271.0 440.3, 1271.6 439.8 Q 1272.1 439.3, 1272.1 438.3 Q 1272.1 437.3, 1271.6 436.9 Q 1271.0 436.3, 1270.0 436.3 L 1268.2 436.3 L 1268.2 440.3 L 1270.0 440.3 \" fill=\"#000000\"/>\n",
       "<path class=\"legend\" d=\"M 1274.4 440.5 Q 1274.4 437.9, 1275.7 436.5 Q 1277.0 435.0, 1279.4 435.0 Q 1281.8 435.0, 1283.1 436.5 Q 1284.3 437.9, 1284.3 440.5 Q 1284.3 443.1, 1283.0 444.6 Q 1281.7 446.1, 1279.4 446.1 Q 1277.0 446.1, 1275.7 444.6 Q 1274.4 443.2, 1274.4 440.5 M 1279.4 444.9 Q 1281.0 444.9, 1281.9 443.8 Q 1282.8 442.7, 1282.8 440.5 Q 1282.8 438.4, 1281.9 437.3 Q 1281.0 436.2, 1279.4 436.2 Q 1277.7 436.2, 1276.8 437.3 Q 1275.9 438.4, 1275.9 440.5 Q 1275.9 442.7, 1276.8 443.8 Q 1277.7 444.9, 1279.4 444.9 \" fill=\"#000000\"/>\n",
       "<path class=\"legend\" d=\"M 1285.1 435.1 L 1286.6 435.1 L 1286.6 444.7 L 1291.5 444.7 L 1291.5 446.0 L 1285.1 446.0 L 1285.1 435.1 \" fill=\"#000000\"/>\n",
       "<path class=\"legend\" d=\"M 1295.3 436.3 L 1291.9 436.3 L 1291.9 435.1 L 1299.9 435.1 L 1299.9 436.3 L 1296.8 436.3 L 1296.8 446.0 L 1295.3 446.0 L 1295.3 436.3 \" fill=\"#000000\"/>\n",
       "<path class=\"legend\" d=\"M 1301.4 435.1 L 1301.4 442.4 Q 1301.4 443.7, 1302.1 444.2 Q 1302.8 444.8, 1304.2 444.8 Q 1305.5 444.8, 1306.2 444.3 Q 1306.9 443.7, 1306.9 442.5 L 1306.9 435.1 L 1308.4 435.1 L 1308.4 442.5 Q 1308.4 444.2, 1307.3 445.1 Q 1306.3 446.1, 1304.2 446.1 Q 1302.0 446.1, 1301.0 445.1 Q 1299.9 444.2, 1299.9 442.5 L 1299.9 435.1 L 1301.4 435.1 \" fill=\"#000000\"/>\n",
       "<path class=\"legend\" d=\"M 1317.2 435.1 L 1318.6 435.1 L 1315.0 446.0 L 1313.1 446.0 L 1309.6 435.1 L 1311.1 435.1 L 1314.1 444.4 L 1317.2 435.1 \" fill=\"#000000\"/>\n",
       "<path class=\"legend\" d=\"M 1318.9 435.1 L 1325.4 435.1 L 1325.4 436.4 L 1320.4 436.4 L 1320.4 439.7 L 1324.8 439.7 L 1324.8 440.9 L 1320.4 440.9 L 1320.4 446.0 L 1318.9 446.0 L 1318.9 435.1 \" fill=\"#000000\"/>\n",
       "<path class=\"legend\" d=\"M 1335.5 446.0 L 1333.8 446.0 L 1330.6 441.5 L 1327.4 446.0 L 1325.7 446.0 L 1329.8 440.3 L 1326.0 435.1 L 1327.7 435.1 L 1330.7 439.2 L 1333.6 435.1 L 1335.3 435.1 L 1331.5 440.4 L 1335.5 446.0 \" fill=\"#000000\"/>\n",
       "<path class=\"legend\" d=\"M 1335.6 435.1 L 1342.0 435.1 L 1342.0 436.4 L 1337.0 436.4 L 1337.0 439.7 L 1341.4 439.7 L 1341.4 440.9 L 1337.0 440.9 L 1337.0 446.0 L 1335.6 446.0 L 1335.6 435.1 \" fill=\"#000000\"/>\n",
       "<path class=\"legend\" d=\"M 1342.3 435.1 L 1343.8 435.1 L 1343.8 439.7 L 1349.3 439.7 L 1349.3 435.1 L 1350.8 435.1 L 1350.8 446.0 L 1349.3 446.0 L 1349.3 441.0 L 1343.8 441.0 L 1343.8 446.0 L 1342.3 446.0 L 1342.3 435.1 \" fill=\"#000000\"/>\n",
       "<path class=\"legend\" d=\"M 1360.1 446.0 L 1359.0 442.8 L 1354.7 442.8 L 1353.6 446.0 L 1352.1 446.0 L 1355.9 435.1 L 1357.7 435.1 L 1361.5 446.0 L 1360.1 446.0 M 1355.1 441.6 L 1358.5 441.6 L 1356.8 436.6 L 1355.1 441.6 \" fill=\"#000000\"/>\n",
       "<path class=\"legend\" d=\"M 1361.7 435.1 L 1363.2 435.1 L 1363.2 439.7 L 1368.7 439.7 L 1368.7 435.1 L 1370.2 435.1 L 1370.2 446.0 L 1368.7 446.0 L 1368.7 441.0 L 1363.2 441.0 L 1363.2 446.0 L 1361.7 446.0 L 1361.7 435.1 \" fill=\"#000000\"/>\n",
       "<path class=\"legend\" d=\"M 1371.5 435.1 L 1372.9 435.1 L 1372.9 446.0 L 1371.5 446.0 L 1371.5 435.1 \" fill=\"#000000\"/>\n",
       "<path class=\"legend\" d=\"\" fill=\"#000000\"/>\n",
       "<path class=\"legend\" d=\"M 1379.4 444.2 L 1380.9 444.2 L 1380.9 445.7 L 1379.4 445.7 L 1379.4 444.2 M 1379.4 438.9 L 1380.9 438.9 L 1380.9 440.4 L 1379.4 440.4 L 1379.4 438.9 \" fill=\"#000000\"/>\n",
       "<path class=\"legend\" d=\"\" fill=\"#000000\"/>\n",
       "<path class=\"legend\" d=\"M 1387.2 440.5 Q 1387.2 437.8, 1388.4 436.4 Q 1389.7 435.0, 1392.1 435.0 Q 1394.3 435.0, 1395.5 436.6 L 1394.5 437.4 Q 1393.7 436.3, 1392.1 436.3 Q 1390.5 436.3, 1389.6 437.4 Q 1388.7 438.4, 1388.7 440.5 Q 1388.7 442.7, 1389.6 443.8 Q 1390.5 444.9, 1392.3 444.9 Q 1393.5 444.9, 1394.9 444.2 L 1395.3 445.3 Q 1394.7 445.7, 1393.9 445.9 Q 1393.0 446.1, 1392.1 446.1 Q 1389.7 446.1, 1388.4 444.7 Q 1387.2 443.2, 1387.2 440.5 \" fill=\"#000000\"/>\n",
       "<path class=\"legend\" d=\"M 1396.1 440.5 Q 1396.1 437.8, 1397.4 436.4 Q 1398.7 435.0, 1401.1 435.0 Q 1403.3 435.0, 1404.5 436.6 L 1403.5 437.4 Q 1402.6 436.3, 1401.1 436.3 Q 1399.4 436.3, 1398.6 437.4 Q 1397.7 438.4, 1397.7 440.5 Q 1397.7 442.7, 1398.6 443.8 Q 1399.5 444.9, 1401.2 444.9 Q 1402.4 444.9, 1403.8 444.2 L 1404.3 445.3 Q 1403.7 445.7, 1402.8 445.9 Q 1402.0 446.1, 1401.0 446.1 Q 1398.7 446.1, 1397.4 444.7 Q 1396.1 443.2, 1396.1 440.5 \" fill=\"#000000\"/>\n",
       "<path class=\"legend\" d=\"M 1417.5 446.0 L 1416.1 446.0 L 1415.0 437.1 L 1412.1 446.0 L 1410.6 446.0 L 1407.6 437.1 L 1406.5 446.0 L 1405.1 446.0 L 1406.5 435.1 L 1408.3 435.1 L 1411.3 443.8 L 1414.3 435.1 L 1416.1 435.1 L 1417.5 446.0 \" fill=\"#000000\"/>\n",
       "<path class=\"legend\" d=\"M 1418.9 444.3 Q 1419.0 444.3, 1419.5 444.5 Q 1420.0 444.8, 1420.6 444.9 Q 1421.2 445.0, 1421.7 445.0 Q 1422.7 445.0, 1423.3 444.5 Q 1423.9 444.0, 1423.9 443.1 Q 1423.9 442.5, 1423.6 442.2 Q 1423.3 441.8, 1422.9 441.6 Q 1422.4 441.4, 1421.6 441.2 Q 1420.7 440.9, 1420.1 440.6 Q 1419.5 440.3, 1419.1 439.8 Q 1418.7 439.2, 1418.7 438.2 Q 1418.7 436.8, 1419.6 436.0 Q 1420.6 435.2, 1422.4 435.2 Q 1423.7 435.2, 1425.1 435.8 L 1424.7 436.9 Q 1423.4 436.4, 1422.5 436.4 Q 1421.4 436.4, 1420.8 436.8 Q 1420.2 437.3, 1420.3 438.0 Q 1420.3 438.6, 1420.5 438.9 Q 1420.9 439.3, 1421.3 439.5 Q 1421.7 439.7, 1422.5 439.9 Q 1423.4 440.2, 1424.0 440.5 Q 1424.6 440.8, 1425.0 441.5 Q 1425.4 442.1, 1425.4 443.1 Q 1425.4 444.6, 1424.4 445.5 Q 1423.4 446.2, 1421.8 446.2 Q 1420.8 446.2, 1420.1 446.0 Q 1419.4 445.8, 1418.5 445.5 L 1418.9 444.3 \" fill=\"#000000\"/>\n",
       "<path class=\"legend\" d=\"M 1426.2 435.1 L 1427.6 435.1 L 1427.6 444.7 L 1432.6 444.7 L 1432.6 446.0 L 1426.2 446.0 L 1426.2 435.1 \" fill=\"#000000\"/>\n",
       "<path class=\"legend\" d=\"M 1433.0 435.1 L 1434.5 435.1 L 1434.5 446.0 L 1433.0 446.0 L 1433.0 435.1 \" fill=\"#000000\"/>\n",
       "<path class=\"legend\" d=\"M 1441.1 440.3 Q 1442.1 440.6, 1442.6 441.2 Q 1443.2 441.8, 1443.2 442.8 Q 1443.2 444.3, 1442.2 445.1 Q 1441.3 446.0, 1439.4 446.0 L 1435.8 446.0 L 1435.8 435.1 L 1439.0 435.1 Q 1440.9 435.1, 1441.8 435.9 Q 1442.7 436.6, 1442.7 438.0 Q 1442.7 439.6, 1441.1 440.3 M 1437.3 436.3 L 1437.3 439.7 L 1439.0 439.7 Q 1440.1 439.7, 1440.6 439.3 Q 1441.2 438.9, 1441.2 438.0 Q 1441.2 436.3, 1439.0 436.3 L 1437.3 436.3 M 1439.4 444.7 Q 1440.5 444.7, 1441.1 444.2 Q 1441.6 443.7, 1441.6 442.8 Q 1441.6 441.9, 1441.0 441.4 Q 1440.4 441.0, 1439.2 441.0 L 1437.3 441.0 L 1437.3 444.7 L 1439.4 444.7 \" fill=\"#000000\"/>\n",
       "<path class=\"legend\" d=\"M 1447.8 446.1 Q 1445.8 446.1, 1444.9 444.6 Q 1443.9 443.1, 1443.9 440.5 Q 1443.9 437.9, 1444.9 436.5 Q 1445.8 435.0, 1447.8 435.0 Q 1449.8 435.0, 1450.8 436.5 Q 1451.8 437.9, 1451.8 440.5 Q 1451.8 443.1, 1450.8 444.6 Q 1449.8 446.1, 1447.8 446.1 M 1447.8 444.9 Q 1449.0 444.9, 1449.6 443.8 Q 1450.3 442.7, 1450.3 440.5 Q 1450.3 438.4, 1449.6 437.3 Q 1449.0 436.2, 1447.8 436.2 Q 1446.7 436.2, 1446.0 437.3 Q 1445.4 438.4, 1445.4 440.5 Q 1445.4 442.7, 1446.0 443.8 Q 1446.7 444.9, 1447.8 444.9 \" fill=\"#000000\"/>\n",
       "<path class=\"legend\" d=\"M 1456.8 446.1 Q 1454.8 446.1, 1453.8 444.6 Q 1452.8 443.1, 1452.8 440.5 Q 1452.8 437.9, 1453.8 436.5 Q 1454.8 435.0, 1456.8 435.0 Q 1458.8 435.0, 1459.7 436.5 Q 1460.7 437.9, 1460.7 440.5 Q 1460.7 443.1, 1459.7 444.6 Q 1458.7 446.1, 1456.8 446.1 M 1456.8 444.9 Q 1457.9 444.9, 1458.6 443.8 Q 1459.2 442.7, 1459.2 440.5 Q 1459.2 438.4, 1458.6 437.3 Q 1457.9 436.2, 1456.8 436.2 Q 1455.6 436.2, 1455.0 437.3 Q 1454.3 438.4, 1454.3 440.5 Q 1454.3 442.7, 1455.0 443.8 Q 1455.6 444.9, 1456.8 444.9 \" fill=\"#000000\"/>\n",
       "<path class=\"legend\" d=\"M 1465.7 446.1 Q 1463.7 446.1, 1462.7 444.6 Q 1461.7 443.1, 1461.7 440.5 Q 1461.7 437.9, 1462.7 436.5 Q 1463.7 435.0, 1465.7 435.0 Q 1467.7 435.0, 1468.7 436.5 Q 1469.6 437.9, 1469.6 440.5 Q 1469.6 443.1, 1468.7 444.6 Q 1467.7 446.1, 1465.7 446.1 M 1465.7 444.9 Q 1466.9 444.9, 1467.5 443.8 Q 1468.1 442.7, 1468.1 440.5 Q 1468.1 438.4, 1467.5 437.3 Q 1466.9 436.2, 1465.7 436.2 Q 1464.5 436.2, 1463.9 437.3 Q 1463.2 438.4, 1463.2 440.5 Q 1463.2 442.7, 1463.9 443.8 Q 1464.5 444.9, 1465.7 444.9 \" fill=\"#000000\"/>\n",
       "<path class=\"legend\" d=\"M 1474.6 446.1 Q 1472.6 446.1, 1471.6 444.6 Q 1470.6 443.1, 1470.6 440.5 Q 1470.6 437.9, 1471.6 436.5 Q 1472.6 435.0, 1474.6 435.0 Q 1476.6 435.0, 1477.6 436.5 Q 1478.6 437.9, 1478.6 440.5 Q 1478.6 443.1, 1477.6 444.6 Q 1476.6 446.1, 1474.6 446.1 M 1474.6 444.9 Q 1475.8 444.9, 1476.4 443.8 Q 1477.0 442.7, 1477.0 440.5 Q 1477.0 438.4, 1476.4 437.3 Q 1475.8 436.2, 1474.6 436.2 Q 1473.4 436.2, 1472.8 437.3 Q 1472.2 438.4, 1472.2 440.5 Q 1472.2 442.7, 1472.8 443.8 Q 1473.4 444.9, 1474.6 444.9 \" fill=\"#000000\"/>\n",
       "<path class=\"legend\" d=\"M 1483.8 439.2 Q 1484.8 439.2, 1485.5 439.6 Q 1486.3 440.0, 1486.7 440.8 Q 1487.1 441.5, 1487.1 442.5 Q 1487.1 443.5, 1486.6 444.4 Q 1486.1 445.2, 1485.3 445.6 Q 1484.5 446.1, 1483.4 446.1 Q 1481.5 446.1, 1480.5 444.8 Q 1479.6 443.5, 1479.6 440.9 Q 1479.6 438.0, 1480.8 436.5 Q 1482.0 435.0, 1484.3 435.0 Q 1485.0 435.0, 1485.5 435.2 Q 1486.1 435.3, 1486.7 435.6 L 1486.1 436.7 Q 1485.3 436.2, 1484.3 436.2 Q 1482.8 436.2, 1482.0 437.2 Q 1481.2 438.2, 1481.1 440.2 Q 1481.7 439.7, 1482.4 439.5 Q 1483.1 439.2, 1483.8 439.2 M 1483.5 444.8 Q 1484.0 444.8, 1484.5 444.5 Q 1485.0 444.2, 1485.3 443.7 Q 1485.6 443.1, 1485.6 442.5 Q 1485.6 441.5, 1485.0 441.0 Q 1484.5 440.4, 1483.5 440.4 Q 1482.9 440.4, 1482.2 440.7 Q 1481.6 441.0, 1481.1 441.4 Q 1481.2 443.2, 1481.7 444.0 Q 1482.3 444.8, 1483.5 444.8 \" fill=\"#000000\"/>\n",
       "<path class=\"legend\" d=\"M 1491.9 439.2 Q 1492.8 439.2, 1493.6 439.6 Q 1494.4 440.0, 1494.8 440.8 Q 1495.3 441.5, 1495.3 442.5 Q 1495.3 443.6, 1494.7 444.5 Q 1494.2 445.3, 1493.3 445.7 Q 1492.4 446.1, 1491.4 446.1 Q 1490.4 446.1, 1489.5 445.7 Q 1488.6 445.3, 1487.9 444.6 L 1488.8 443.7 Q 1489.3 444.2, 1490.0 444.6 Q 1490.7 444.8, 1491.4 444.8 Q 1492.4 444.8, 1493.1 444.2 Q 1493.7 443.6, 1493.7 442.6 Q 1493.7 441.4, 1493.1 440.9 Q 1492.4 440.3, 1491.3 440.3 Q 1490.4 440.3, 1489.3 440.7 L 1488.5 440.3 L 1489.0 435.1 L 1494.6 435.1 L 1494.4 436.3 L 1490.3 436.3 L 1489.9 439.6 Q 1490.9 439.2, 1491.9 439.2 \" fill=\"#000000\"/>\n",
       "<path class=\"legend\" d=\"M 1501.5 440.2 Q 1502.5 440.6, 1503.1 441.3 Q 1503.6 441.9, 1503.6 443.0 Q 1503.6 443.9, 1503.2 444.6 Q 1502.7 445.3, 1501.8 445.7 Q 1501.0 446.1, 1499.9 446.1 Q 1498.1 446.1, 1497.0 445.3 Q 1496.0 444.4, 1496.0 443.0 Q 1496.0 442.1, 1496.4 441.4 Q 1496.9 440.8, 1497.9 440.3 Q 1497.2 439.9, 1496.8 439.3 Q 1496.4 438.7, 1496.4 437.8 Q 1496.4 436.5, 1497.3 435.8 Q 1498.2 435.0, 1499.8 435.0 Q 1501.4 435.0, 1502.3 435.8 Q 1503.2 436.5, 1503.2 437.8 Q 1503.2 438.6, 1502.8 439.2 Q 1502.4 439.7, 1501.5 440.2 M 1499.8 436.1 Q 1498.9 436.1, 1498.4 436.6 Q 1497.9 437.0, 1497.9 437.8 Q 1497.9 438.3, 1498.3 438.7 Q 1498.6 439.1, 1499.1 439.3 Q 1499.6 439.5, 1500.5 439.8 Q 1501.1 439.4, 1501.4 438.9 Q 1501.7 438.4, 1501.7 437.8 Q 1501.7 437.0, 1501.2 436.6 Q 1500.7 436.1, 1499.8 436.1 M 1499.9 445.0 Q 1500.9 445.0, 1501.5 444.4 Q 1502.1 443.9, 1502.1 443.0 Q 1502.1 442.4, 1501.8 442.0 Q 1501.5 441.7, 1501.0 441.4 Q 1500.5 441.2, 1499.6 441.0 L 1499.0 440.7 Q 1498.2 441.2, 1497.9 441.7 Q 1497.5 442.3, 1497.5 443.0 Q 1497.5 443.9, 1498.2 444.4 Q 1498.8 445.0, 1499.9 445.0 \" fill=\"#000000\"/>\n",
       "<path class=\"legend\" d=\"M 1505.2 444.7 L 1507.6 444.7 L 1507.6 436.6 L 1505.0 437.4 L 1504.6 436.5 L 1507.9 435.1 L 1509.0 435.2 L 1509.0 444.7 L 1511.1 444.7 L 1511.1 446.0 L 1505.2 446.0 L 1505.2 444.7 \" fill=\"#000000\"/>\n",
       "<path class=\"legend\" d=\"M 1515.4 435.0 Q 1517.4 435.0, 1518.3 436.3 Q 1519.3 437.6, 1519.3 440.2 Q 1519.3 443.1, 1518.1 444.6 Q 1516.9 446.1, 1514.6 446.1 Q 1513.9 446.1, 1513.3 445.9 Q 1512.8 445.8, 1512.2 445.5 L 1512.8 444.4 Q 1513.6 444.9, 1514.6 444.9 Q 1516.1 444.9, 1516.9 443.9 Q 1517.7 442.9, 1517.8 440.8 Q 1517.2 441.4, 1516.5 441.6 Q 1515.8 441.9, 1515.1 441.9 Q 1514.1 441.9, 1513.4 441.5 Q 1512.6 441.1, 1512.2 440.3 Q 1511.8 439.6, 1511.8 438.6 Q 1511.8 437.6, 1512.2 436.7 Q 1512.7 435.9, 1513.5 435.5 Q 1514.4 435.0, 1515.4 435.0 M 1513.3 438.6 Q 1513.3 439.6, 1513.9 440.1 Q 1514.4 440.7, 1515.3 440.7 Q 1516.0 440.7, 1516.6 440.4 Q 1517.3 440.1, 1517.8 439.7 Q 1517.7 437.9, 1517.1 437.1 Q 1516.6 436.3, 1515.4 436.3 Q 1514.8 436.3, 1514.3 436.6 Q 1513.9 436.9, 1513.6 437.4 Q 1513.3 437.9, 1513.3 438.6 \" fill=\"#000000\"/>\n",
       "<path class=\"legend\" d=\"M 1525.5 440.2 Q 1526.6 440.6, 1527.1 441.2 Q 1527.6 441.9, 1527.6 443.0 Q 1527.6 443.9, 1527.2 444.6 Q 1526.7 445.3, 1525.9 445.7 Q 1525.0 446.1, 1523.9 446.1 Q 1522.8 446.1, 1521.9 445.7 Q 1521.0 445.3, 1520.3 444.5 L 1521.2 443.6 Q 1521.9 444.3, 1522.5 444.6 Q 1523.0 444.9, 1523.9 444.9 Q 1524.9 444.9, 1525.5 444.4 Q 1526.1 443.8, 1526.1 443.0 Q 1526.1 441.9, 1525.5 441.4 Q 1524.9 440.9, 1523.5 440.9 L 1522.7 440.9 L 1522.7 439.8 L 1523.4 439.8 Q 1524.6 439.8, 1525.2 439.3 Q 1525.9 438.7, 1525.9 437.8 Q 1525.9 437.1, 1525.3 436.7 Q 1524.8 436.2, 1523.9 436.2 Q 1523.0 436.2, 1522.5 436.5 Q 1521.9 436.9, 1521.5 437.7 L 1520.4 437.1 Q 1520.8 436.2, 1521.7 435.6 Q 1522.7 435.0, 1523.9 435.0 Q 1525.5 435.0, 1526.5 435.8 Q 1527.4 436.5, 1527.4 437.8 Q 1527.4 438.6, 1526.9 439.3 Q 1526.4 439.9, 1525.5 440.2 \" fill=\"#000000\"/>\n",
       "<path class=\"legend\" d=\"M 1532.8 439.2 Q 1533.7 439.2, 1534.5 439.6 Q 1535.2 440.0, 1535.6 440.8 Q 1536.0 441.5, 1536.0 442.5 Q 1536.0 443.5, 1535.6 444.4 Q 1535.1 445.2, 1534.3 445.6 Q 1533.5 446.1, 1532.4 446.1 Q 1530.5 446.1, 1529.5 444.8 Q 1528.5 443.5, 1528.5 440.9 Q 1528.5 438.0, 1529.7 436.5 Q 1530.9 435.0, 1533.2 435.0 Q 1533.9 435.0, 1534.5 435.2 Q 1535.1 435.3, 1535.6 435.6 L 1535.0 436.7 Q 1534.2 436.2, 1533.3 436.2 Q 1531.7 436.2, 1530.9 437.2 Q 1530.2 438.2, 1530.1 440.2 Q 1530.6 439.7, 1531.3 439.5 Q 1532.0 439.2, 1532.8 439.2 M 1532.4 444.8 Q 1533.0 444.8, 1533.5 444.5 Q 1534.0 444.2, 1534.2 443.7 Q 1534.5 443.1, 1534.5 442.5 Q 1534.5 441.5, 1534.0 441.0 Q 1533.4 440.4, 1532.5 440.4 Q 1531.8 440.4, 1531.2 440.7 Q 1530.5 441.0, 1530.1 441.4 Q 1530.1 443.2, 1530.7 444.0 Q 1531.3 444.8, 1532.4 444.8 \" fill=\"#000000\"/>\n",
       "<path class=\"bond-0 atom-0 atom-1\" d=\"M 251.1,490.9 L 253.1,510.5\" style=\"fill:none;fill-rule:evenodd;stroke:#000000;stroke-width:2.0px;stroke-linecap:butt;stroke-linejoin:miter;stroke-opacity:1\"/>\n",
       "<path class=\"bond-1 atom-1 atom-2\" d=\"M 253.1,510.5 L 237.1,522.1\" style=\"fill:none;fill-rule:evenodd;stroke:#000000;stroke-width:2.0px;stroke-linecap:butt;stroke-linejoin:miter;stroke-opacity:1\"/>\n",
       "<path class=\"bond-2 atom-2 atom-3\" d=\"M 237.1,522.1 L 239.1,541.8\" style=\"fill:none;fill-rule:evenodd;stroke:#000000;stroke-width:2.0px;stroke-linecap:butt;stroke-linejoin:miter;stroke-opacity:1\"/>\n",
       "<path class=\"bond-3 atom-2 atom-4\" d=\"M 237.1,522.1 L 219.1,514.0\" style=\"fill:none;fill-rule:evenodd;stroke:#000000;stroke-width:2.0px;stroke-linecap:butt;stroke-linejoin:miter;stroke-opacity:1\"/>\n",
       "<path class=\"bond-4 atom-4 atom-5\" d=\"M 217.1,514.2 L 216.3,506.2\" style=\"fill:none;fill-rule:evenodd;stroke:#000000;stroke-width:2.0px;stroke-linecap:butt;stroke-linejoin:miter;stroke-opacity:1\"/>\n",
       "<path class=\"bond-4 atom-4 atom-5\" d=\"M 216.3,506.2 L 215.4,498.1\" style=\"fill:none;fill-rule:evenodd;stroke:#FF0000;stroke-width:2.0px;stroke-linecap:butt;stroke-linejoin:miter;stroke-opacity:1\"/>\n",
       "<path class=\"bond-4 atom-4 atom-5\" d=\"M 221.0,513.8 L 220.2,505.8\" style=\"fill:none;fill-rule:evenodd;stroke:#000000;stroke-width:2.0px;stroke-linecap:butt;stroke-linejoin:miter;stroke-opacity:1\"/>\n",
       "<path class=\"bond-4 atom-4 atom-5\" d=\"M 220.2,505.8 L 219.4,497.7\" style=\"fill:none;fill-rule:evenodd;stroke:#FF0000;stroke-width:2.0px;stroke-linecap:butt;stroke-linejoin:miter;stroke-opacity:1\"/>\n",
       "<path class=\"bond-5 atom-4 atom-6\" d=\"M 219.1,514.0 L 212.7,518.7\" style=\"fill:none;fill-rule:evenodd;stroke:#000000;stroke-width:2.0px;stroke-linecap:butt;stroke-linejoin:miter;stroke-opacity:1\"/>\n",
       "<path class=\"bond-5 atom-4 atom-6\" d=\"M 212.7,518.7 L 206.2,523.3\" style=\"fill:none;fill-rule:evenodd;stroke:#FF0000;stroke-width:2.0px;stroke-linecap:butt;stroke-linejoin:miter;stroke-opacity:1\"/>\n",
       "<path class=\"bond-6 atom-6 atom-7\" d=\"M 199.8,524.2 L 192.4,520.9\" style=\"fill:none;fill-rule:evenodd;stroke:#FF0000;stroke-width:2.0px;stroke-linecap:butt;stroke-linejoin:miter;stroke-opacity:1\"/>\n",
       "<path class=\"bond-6 atom-6 atom-7\" d=\"M 192.4,520.9 L 185.0,517.5\" style=\"fill:none;fill-rule:evenodd;stroke:#000000;stroke-width:2.0px;stroke-linecap:butt;stroke-linejoin:miter;stroke-opacity:1\"/>\n",
       "<path class=\"bond-7 atom-7 atom-8\" d=\"M 185.0,517.5 L 168.9,529.1\" style=\"fill:none;fill-rule:evenodd;stroke:#000000;stroke-width:2.0px;stroke-linecap:butt;stroke-linejoin:miter;stroke-opacity:1\"/>\n",
       "<path class=\"bond-8 atom-8 atom-9\" d=\"M 168.9,529.1 L 171.0,548.8\" style=\"fill:none;fill-rule:evenodd;stroke:#000000;stroke-width:2.0px;stroke-linecap:butt;stroke-linejoin:miter;stroke-opacity:1\"/>\n",
       "<path class=\"bond-9 atom-9 atom-10\" d=\"M 171.8,547.0 L 179.2,550.3\" style=\"fill:none;fill-rule:evenodd;stroke:#000000;stroke-width:2.0px;stroke-linecap:butt;stroke-linejoin:miter;stroke-opacity:1\"/>\n",
       "<path class=\"bond-9 atom-9 atom-10\" d=\"M 179.2,550.3 L 186.6,553.6\" style=\"fill:none;fill-rule:evenodd;stroke:#FF0000;stroke-width:2.0px;stroke-linecap:butt;stroke-linejoin:miter;stroke-opacity:1\"/>\n",
       "<path class=\"bond-9 atom-9 atom-10\" d=\"M 170.1,550.6 L 177.6,553.9\" style=\"fill:none;fill-rule:evenodd;stroke:#000000;stroke-width:2.0px;stroke-linecap:butt;stroke-linejoin:miter;stroke-opacity:1\"/>\n",
       "<path class=\"bond-9 atom-9 atom-10\" d=\"M 177.6,553.9 L 185.0,557.2\" style=\"fill:none;fill-rule:evenodd;stroke:#FF0000;stroke-width:2.0px;stroke-linecap:butt;stroke-linejoin:miter;stroke-opacity:1\"/>\n",
       "<path class=\"bond-10 atom-9 atom-11\" d=\"M 171.0,548.8 L 164.7,553.3\" style=\"fill:none;fill-rule:evenodd;stroke:#000000;stroke-width:2.0px;stroke-linecap:butt;stroke-linejoin:miter;stroke-opacity:1\"/>\n",
       "<path class=\"bond-10 atom-9 atom-11\" d=\"M 164.7,553.3 L 158.5,557.8\" style=\"fill:none;fill-rule:evenodd;stroke:#FF0000;stroke-width:2.0px;stroke-linecap:butt;stroke-linejoin:miter;stroke-opacity:1\"/>\n",
       "<path class=\"bond-11 atom-7 atom-12\" d=\"M 185.0,517.5 L 183.0,497.8\" style=\"fill:none;fill-rule:evenodd;stroke:#000000;stroke-width:2.0px;stroke-linecap:butt;stroke-linejoin:miter;stroke-opacity:1\"/>\n",
       "<path class=\"bond-12 atom-12 atom-13\" d=\"M 183.0,497.8 L 175.3,494.4\" style=\"fill:none;fill-rule:evenodd;stroke:#000000;stroke-width:2.0px;stroke-linecap:butt;stroke-linejoin:miter;stroke-opacity:1\"/>\n",
       "<path class=\"bond-12 atom-12 atom-13\" d=\"M 175.3,494.4 L 167.7,491.0\" style=\"fill:none;fill-rule:evenodd;stroke:#0000FF;stroke-width:2.0px;stroke-linecap:butt;stroke-linejoin:miter;stroke-opacity:1\"/>\n",
       "<path class=\"bond-13 atom-13 atom-14\" d=\"M 163.4,493.2 L 160.1,500.5\" style=\"fill:none;fill-rule:evenodd;stroke:#0000FF;stroke-width:2.0px;stroke-linecap:butt;stroke-linejoin:miter;stroke-opacity:1\"/>\n",
       "<path class=\"bond-13 atom-13 atom-14\" d=\"M 160.1,500.5 L 156.8,507.8\" style=\"fill:none;fill-rule:evenodd;stroke:#000000;stroke-width:2.0px;stroke-linecap:butt;stroke-linejoin:miter;stroke-opacity:1\"/>\n",
       "<path class=\"bond-14 atom-13 atom-15\" d=\"M 166.5,486.3 L 169.7,479.0\" style=\"fill:none;fill-rule:evenodd;stroke:#0000FF;stroke-width:2.0px;stroke-linecap:butt;stroke-linejoin:miter;stroke-opacity:1\"/>\n",
       "<path class=\"bond-14 atom-13 atom-15\" d=\"M 169.7,479.0 L 173.0,471.7\" style=\"fill:none;fill-rule:evenodd;stroke:#000000;stroke-width:2.0px;stroke-linecap:butt;stroke-linejoin:miter;stroke-opacity:1\"/>\n",
       "<path class=\"bond-15 atom-13 atom-16\" d=\"M 162.1,488.5 L 154.5,485.1\" style=\"fill:none;fill-rule:evenodd;stroke:#0000FF;stroke-width:2.0px;stroke-linecap:butt;stroke-linejoin:miter;stroke-opacity:1\"/>\n",
       "<path class=\"bond-15 atom-13 atom-16\" d=\"M 154.5,485.1 L 146.9,481.7\" style=\"fill:none;fill-rule:evenodd;stroke:#000000;stroke-width:2.0px;stroke-linecap:butt;stroke-linejoin:miter;stroke-opacity:1\"/>\n",
       "<path class=\"atom-5\" d=\"M 214.5 494.4 Q 214.5 493.0, 215.1 492.3 Q 215.8 491.5, 217.0 491.5 Q 218.3 491.5, 219.0 492.3 Q 219.6 493.0, 219.6 494.4 Q 219.6 495.7, 218.9 496.5 Q 218.3 497.3, 217.0 497.3 Q 215.8 497.3, 215.1 496.5 Q 214.5 495.7, 214.5 494.4 M 217.0 496.6 Q 217.9 496.6, 218.4 496.1 Q 218.8 495.5, 218.8 494.4 Q 218.8 493.3, 218.4 492.7 Q 217.9 492.2, 217.0 492.2 Q 216.2 492.2, 215.7 492.7 Q 215.3 493.3, 215.3 494.4 Q 215.3 495.5, 215.7 496.1 Q 216.2 496.6, 217.0 496.6 \" fill=\"#FF0000\"/>\n",
       "<path class=\"atom-6\" d=\"M 200.5 525.6 Q 200.5 524.3, 201.1 523.5 Q 201.8 522.8, 203.0 522.8 Q 204.3 522.8, 204.9 523.5 Q 205.6 524.3, 205.6 525.6 Q 205.6 527.0, 204.9 527.8 Q 204.3 528.5, 203.0 528.5 Q 201.8 528.5, 201.1 527.8 Q 200.5 527.0, 200.5 525.6 M 203.0 527.9 Q 203.9 527.9, 204.3 527.3 Q 204.8 526.8, 204.8 525.6 Q 204.8 524.5, 204.3 524.0 Q 203.9 523.4, 203.0 523.4 Q 202.2 523.4, 201.7 524.0 Q 201.2 524.5, 201.2 525.6 Q 201.2 526.8, 201.7 527.3 Q 202.2 527.9, 203.0 527.9 \" fill=\"#FF0000\"/>\n",
       "<path class=\"atom-10\" d=\"M 186.4 556.9 Q 186.4 555.6, 187.1 554.8 Q 187.8 554.1, 189.0 554.1 Q 190.2 554.1, 190.9 554.8 Q 191.6 555.6, 191.6 556.9 Q 191.6 558.3, 190.9 559.0 Q 190.2 559.8, 189.0 559.8 Q 187.8 559.8, 187.1 559.0 Q 186.4 558.3, 186.4 556.9 M 189.0 559.2 Q 189.9 559.2, 190.3 558.6 Q 190.8 558.0, 190.8 556.9 Q 190.8 555.8, 190.3 555.2 Q 189.9 554.7, 189.0 554.7 Q 188.2 554.7, 187.7 555.2 Q 187.2 555.8, 187.2 556.9 Q 187.2 558.0, 187.7 558.6 Q 188.2 559.2, 189.0 559.2 \" fill=\"#FF0000\"/>\n",
       "<path class=\"atom-11\" d=\"M 152.3 560.4 Q 152.3 559.0, 153.0 558.3 Q 153.7 557.5, 154.9 557.5 Q 156.2 557.5, 156.8 558.3 Q 157.5 559.0, 157.5 560.4 Q 157.5 561.8, 156.8 562.5 Q 156.1 563.3, 154.9 563.3 Q 153.7 563.3, 153.0 562.5 Q 152.3 561.8, 152.3 560.4 M 154.9 562.7 Q 155.8 562.7, 156.2 562.1 Q 156.7 561.5, 156.7 560.4 Q 156.7 559.3, 156.2 558.7 Q 155.8 558.2, 154.9 558.2 Q 154.1 558.2, 153.6 558.7 Q 153.1 559.3, 153.1 560.4 Q 153.1 561.5, 153.6 562.1 Q 154.1 562.7, 154.9 562.7 \" fill=\"#FF0000\"/>\n",
       "<path class=\"atom-11\" d=\"M 157.9 558.5 L 159.8 558.5 L 159.8 558.9 L 157.9 558.9 L 157.9 558.5 \" fill=\"#FF0000\"/>\n",
       "<path class=\"atom-13\" d=\"M 163.7 487.0 L 165.5 489.9 Q 165.7 490.2, 166.0 490.7 Q 166.3 491.3, 166.3 491.3 L 166.3 487.0 L 167.0 487.0 L 167.0 492.6 L 166.3 492.6 L 164.3 489.3 Q 164.1 488.9, 163.8 488.5 Q 163.6 488.1, 163.5 487.9 L 163.5 492.6 L 162.8 492.6 L 162.8 487.0 L 163.7 487.0 \" fill=\"#0000FF\"/>\n",
       "<path class=\"atom-13\" d=\"M 167.7 488.0 L 168.7 488.0 L 168.7 486.9 L 169.1 486.9 L 169.1 488.0 L 170.1 488.0 L 170.1 488.3 L 169.1 488.3 L 169.1 489.4 L 168.7 489.4 L 168.7 488.3 L 167.7 488.3 L 167.7 488.0 \" fill=\"#0000FF\"/>\n",
       "<path class=\"legend\" d=\"M 85.9 585.1 L 87.1 585.1 L 87.1 594.4 L 85.9 594.4 L 85.9 585.1 \" fill=\"#000000\"/>\n",
       "<path class=\"legend\" d=\"M 88.3 585.1 L 89.6 585.1 L 89.6 589.1 L 94.3 589.1 L 94.3 585.1 L 95.6 585.1 L 95.6 594.4 L 94.3 594.4 L 94.3 590.1 L 89.6 590.1 L 89.6 594.4 L 88.3 594.4 L 88.3 585.1 \" fill=\"#000000\"/>\n",
       "<path class=\"legend\" d=\"M 96.7 589.7 Q 96.7 587.4, 97.8 586.2 Q 98.9 585.0, 100.9 585.0 Q 102.9 585.0, 103.9 586.4 L 103.0 587.1 Q 102.3 586.1, 100.9 586.1 Q 99.5 586.1, 98.8 587.0 Q 98.0 588.0, 98.0 589.7 Q 98.0 591.6, 98.8 592.5 Q 99.6 593.5, 101.1 593.5 Q 102.1 593.5, 103.3 592.9 L 103.7 593.8 Q 103.2 594.2, 102.4 594.3 Q 101.7 594.5, 100.9 594.5 Q 98.9 594.5, 97.8 593.3 Q 96.7 592.1, 96.7 589.7 \" fill=\"#000000\"/>\n",
       "<path class=\"legend\" d=\"M 107.2 585.1 Q 108.7 585.1, 109.5 585.8 Q 110.3 586.5, 110.3 587.8 Q 110.3 589.1, 109.5 589.9 Q 108.7 590.6, 107.2 590.6 L 105.7 590.6 L 105.7 594.4 L 104.4 594.4 L 104.4 585.1 L 107.2 585.1 M 107.2 589.5 Q 108.1 589.5, 108.5 589.1 Q 109.0 588.7, 109.0 587.8 Q 109.0 587.0, 108.5 586.6 Q 108.1 586.2, 107.2 586.2 L 105.7 586.2 L 105.7 589.5 L 107.2 589.5 \" fill=\"#000000\"/>\n",
       "<path class=\"legend\" d=\"M 114.0 585.1 Q 116.0 585.1, 117.1 586.3 Q 118.2 587.5, 118.2 589.7 Q 118.2 591.9, 117.1 593.2 Q 116.0 594.4, 114.0 594.4 L 111.0 594.4 L 111.0 585.1 L 114.0 585.1 M 114.0 593.4 Q 115.4 593.4, 116.2 592.5 Q 116.9 591.5, 116.9 589.7 Q 116.9 587.9, 116.2 587.1 Q 115.4 586.2, 114.0 586.2 L 112.2 586.2 L 112.2 593.4 L 114.0 593.4 \" fill=\"#000000\"/>\n",
       "<path class=\"legend\" d=\"M 123.4 589.5 Q 124.2 589.8, 124.7 590.3 Q 125.2 590.9, 125.2 591.7 Q 125.2 593.0, 124.3 593.7 Q 123.5 594.4, 122.0 594.4 L 118.8 594.4 L 118.8 585.1 L 121.6 585.1 Q 123.2 585.1, 124.0 585.7 Q 124.8 586.4, 124.8 587.6 Q 124.8 589.0, 123.4 589.5 M 120.1 586.2 L 120.1 589.1 L 121.6 589.1 Q 122.5 589.1, 123.0 588.7 Q 123.5 588.3, 123.5 587.6 Q 123.5 586.2, 121.6 586.2 L 120.1 586.2 M 122.0 593.4 Q 122.9 593.4, 123.4 592.9 Q 123.8 592.5, 123.8 591.7 Q 123.8 590.9, 123.3 590.5 Q 122.8 590.1, 121.8 590.1 L 120.1 590.1 L 120.1 593.4 L 122.0 593.4 \" fill=\"#000000\"/>\n",
       "<path class=\"legend\" d=\"M 130.3 589.5 Q 131.2 589.8, 131.6 590.3 Q 132.1 590.9, 132.1 591.7 Q 132.1 593.0, 131.3 593.7 Q 130.4 594.4, 128.9 594.4 L 125.8 594.4 L 125.8 585.1 L 128.5 585.1 Q 130.1 585.1, 130.9 585.7 Q 131.7 586.4, 131.7 587.6 Q 131.7 589.0, 130.3 589.5 M 127.0 586.2 L 127.0 589.1 L 128.5 589.1 Q 129.4 589.1, 129.9 588.7 Q 130.4 588.3, 130.4 587.6 Q 130.4 586.2, 128.5 586.2 L 127.0 586.2 M 128.9 593.4 Q 129.8 593.4, 130.3 592.9 Q 130.8 592.5, 130.8 591.7 Q 130.8 590.9, 130.2 590.5 Q 129.7 590.1, 128.7 590.1 L 127.0 590.1 L 127.0 593.4 L 128.9 593.4 \" fill=\"#000000\"/>\n",
       "<path class=\"legend\" d=\"M 135.8 590.5 L 132.7 585.1 L 134.1 585.1 L 136.4 589.3 L 138.7 585.1 L 140.1 585.1 L 137.0 590.5 L 137.0 594.4 L 135.8 594.4 L 135.8 590.5 \" fill=\"#000000\"/>\n",
       "<path class=\"legend\" d=\"M 143.0 586.2 L 140.1 586.2 L 140.1 585.1 L 147.0 585.1 L 147.0 586.2 L 144.3 586.2 L 144.3 594.4 L 143.0 594.4 L 143.0 586.2 \" fill=\"#000000\"/>\n",
       "<path class=\"legend\" d=\"M 150.1 590.5 L 147.0 585.1 L 148.4 585.1 L 150.7 589.3 L 153.0 585.1 L 154.4 585.1 L 151.3 590.5 L 151.3 594.4 L 150.1 594.4 L 150.1 590.5 \" fill=\"#000000\"/>\n",
       "<path class=\"legend\" d=\"M 154.4 595.3 Q 154.4 595.3, 155.0 594.9 Q 155.6 594.6, 156.0 594.1 Q 156.5 593.5, 156.5 592.8 L 156.5 586.2 L 154.7 586.2 L 154.7 585.1 L 157.7 585.1 L 157.7 592.8 Q 157.7 593.9, 157.1 594.6 Q 156.5 595.4, 155.7 595.9 Q 155.0 596.3, 155.0 596.2 L 154.4 595.3 \" fill=\"#000000\"/>\n",
       "<path class=\"legend\" d=\"M 161.9 590.5 L 158.9 585.1 L 160.2 585.1 L 162.6 589.3 L 164.9 585.1 L 166.3 585.1 L 163.2 590.5 L 163.2 594.4 L 161.9 594.4 L 161.9 590.5 \" fill=\"#000000\"/>\n",
       "<path class=\"legend\" d=\"M 166.3 585.1 L 167.6 585.1 L 167.6 594.4 L 166.3 594.4 L 166.3 585.1 \" fill=\"#000000\"/>\n",
       "<path class=\"legend\" d=\"M 168.7 585.1 L 170.0 585.1 L 170.0 593.3 L 174.2 593.3 L 174.2 594.4 L 168.7 594.4 L 168.7 585.1 \" fill=\"#000000\"/>\n",
       "<path class=\"legend\" d=\"\" fill=\"#000000\"/>\n",
       "<path class=\"legend\" d=\"M 179.0 592.9 L 180.3 592.9 L 180.3 594.2 L 179.0 594.2 L 179.0 592.9 M 179.0 588.4 L 180.3 588.4 L 180.3 589.7 L 179.0 589.7 L 179.0 588.4 \" fill=\"#000000\"/>\n",
       "<path class=\"legend\" d=\"\" fill=\"#000000\"/>\n",
       "<path class=\"legend\" d=\"M 185.6 589.7 Q 185.6 587.4, 186.7 586.2 Q 187.8 585.0, 189.9 585.0 Q 191.8 585.0, 192.8 586.4 L 192.0 587.1 Q 191.2 586.1, 189.9 586.1 Q 188.5 586.1, 187.7 587.0 Q 187.0 588.0, 187.0 589.7 Q 187.0 591.6, 187.7 592.5 Q 188.5 593.5, 190.0 593.5 Q 191.0 593.5, 192.2 592.9 L 192.6 593.8 Q 192.1 594.2, 191.4 594.3 Q 190.7 594.5, 189.8 594.5 Q 187.8 594.5, 186.7 593.3 Q 185.6 592.1, 185.6 589.7 \" fill=\"#000000\"/>\n",
       "<path class=\"legend\" d=\"M 193.3 589.7 Q 193.3 587.4, 194.4 586.2 Q 195.5 585.0, 197.6 585.0 Q 199.5 585.0, 200.5 586.4 L 199.7 587.1 Q 198.9 586.1, 197.6 586.1 Q 196.2 586.1, 195.4 587.0 Q 194.7 588.0, 194.7 589.7 Q 194.7 591.6, 195.5 592.5 Q 196.2 593.5, 197.7 593.5 Q 198.7 593.5, 199.9 592.9 L 200.3 593.8 Q 199.8 594.2, 199.1 594.3 Q 198.4 594.5, 197.5 594.5 Q 195.5 594.5, 194.4 593.3 Q 193.3 592.1, 193.3 589.7 \" fill=\"#000000\"/>\n",
       "<path class=\"legend\" d=\"M 211.7 594.4 L 210.5 594.4 L 209.5 586.8 L 207.0 594.4 L 205.7 594.4 L 203.2 586.8 L 202.2 594.4 L 201.0 594.4 L 202.2 585.1 L 203.8 585.1 L 206.4 592.6 L 208.9 585.1 L 210.5 585.1 L 211.7 594.4 \" fill=\"#000000\"/>\n",
       "<path class=\"legend\" d=\"M 212.9 593.0 Q 213.0 593.0, 213.4 593.2 Q 213.9 593.4, 214.3 593.5 Q 214.8 593.6, 215.3 593.6 Q 216.2 593.6, 216.7 593.2 Q 217.2 592.7, 217.2 592.0 Q 217.2 591.5, 216.9 591.2 Q 216.7 590.8, 216.3 590.7 Q 215.9 590.5, 215.2 590.3 Q 214.4 590.1, 213.9 589.8 Q 213.4 589.6, 213.1 589.1 Q 212.7 588.6, 212.7 587.7 Q 212.7 586.6, 213.5 585.9 Q 214.3 585.1, 215.9 585.1 Q 217.0 585.1, 218.2 585.6 L 217.9 586.7 Q 216.8 586.2, 215.9 586.2 Q 215.0 586.2, 214.5 586.6 Q 214.0 586.9, 214.0 587.6 Q 214.0 588.1, 214.3 588.4 Q 214.6 588.7, 214.9 588.9 Q 215.3 589.0, 215.9 589.2 Q 216.8 589.5, 217.3 589.8 Q 217.8 590.0, 218.1 590.6 Q 218.5 591.1, 218.5 592.0 Q 218.5 593.3, 217.6 594.0 Q 216.8 594.7, 215.3 594.7 Q 214.5 594.7, 213.9 594.5 Q 213.3 594.3, 212.5 594.0 L 212.9 593.0 \" fill=\"#000000\"/>\n",
       "<path class=\"legend\" d=\"M 219.1 585.1 L 220.4 585.1 L 220.4 593.3 L 224.6 593.3 L 224.6 594.4 L 219.1 594.4 L 219.1 585.1 \" fill=\"#000000\"/>\n",
       "<path class=\"legend\" d=\"M 225.0 585.1 L 226.2 585.1 L 226.2 594.4 L 225.0 594.4 L 225.0 585.1 \" fill=\"#000000\"/>\n",
       "<path class=\"legend\" d=\"M 231.9 589.5 Q 232.8 589.8, 233.3 590.3 Q 233.7 590.9, 233.7 591.7 Q 233.7 593.0, 232.9 593.7 Q 232.1 594.4, 230.5 594.4 L 227.4 594.4 L 227.4 585.1 L 230.1 585.1 Q 231.7 585.1, 232.5 585.7 Q 233.3 586.4, 233.3 587.6 Q 233.3 589.0, 231.9 589.5 M 228.6 586.2 L 228.6 589.1 L 230.1 589.1 Q 231.1 589.1, 231.5 588.7 Q 232.0 588.3, 232.0 587.6 Q 232.0 586.2, 230.1 586.2 L 228.6 586.2 M 230.5 593.4 Q 231.4 593.4, 231.9 592.9 Q 232.4 592.5, 232.4 591.7 Q 232.4 590.9, 231.9 590.5 Q 231.3 590.1, 230.3 590.1 L 228.6 590.1 L 228.6 593.4 L 230.5 593.4 \" fill=\"#000000\"/>\n",
       "<path class=\"legend\" d=\"M 237.7 594.5 Q 236.0 594.5, 235.2 593.3 Q 234.3 592.0, 234.3 589.7 Q 234.3 587.5, 235.2 586.2 Q 236.0 585.0, 237.7 585.0 Q 239.5 585.0, 240.3 586.2 Q 241.1 587.5, 241.1 589.7 Q 241.1 592.0, 240.3 593.3 Q 239.4 594.5, 237.7 594.5 M 237.7 593.5 Q 238.7 593.5, 239.3 592.5 Q 239.8 591.6, 239.8 589.7 Q 239.8 587.9, 239.3 587.0 Q 238.7 586.1, 237.7 586.1 Q 236.7 586.1, 236.2 587.0 Q 235.6 587.9, 235.6 589.7 Q 235.6 591.6, 236.2 592.5 Q 236.7 593.5, 237.7 593.5 \" fill=\"#000000\"/>\n",
       "<path class=\"legend\" d=\"M 245.4 594.5 Q 243.7 594.5, 242.8 593.3 Q 242.0 592.0, 242.0 589.7 Q 242.0 587.5, 242.8 586.2 Q 243.7 585.0, 245.4 585.0 Q 247.1 585.0, 248.0 586.2 Q 248.8 587.5, 248.8 589.7 Q 248.8 592.0, 247.9 593.3 Q 247.1 594.5, 245.4 594.5 M 245.4 593.5 Q 246.4 593.5, 246.9 592.5 Q 247.5 591.6, 247.5 589.7 Q 247.5 587.9, 246.9 587.0 Q 246.4 586.1, 245.4 586.1 Q 244.4 586.1, 243.8 587.0 Q 243.3 587.9, 243.3 589.7 Q 243.3 591.6, 243.8 592.5 Q 244.4 593.5, 245.4 593.5 \" fill=\"#000000\"/>\n",
       "<path class=\"legend\" d=\"M 253.1 594.5 Q 251.3 594.5, 250.5 593.3 Q 249.7 592.0, 249.7 589.7 Q 249.7 587.5, 250.5 586.2 Q 251.3 585.0, 253.1 585.0 Q 254.8 585.0, 255.6 586.2 Q 256.5 587.5, 256.5 589.7 Q 256.5 592.0, 255.6 593.3 Q 254.8 594.5, 253.1 594.5 M 253.1 593.5 Q 254.1 593.5, 254.6 592.5 Q 255.1 591.6, 255.1 589.7 Q 255.1 587.9, 254.6 587.0 Q 254.1 586.1, 253.1 586.1 Q 252.1 586.1, 251.5 587.0 Q 251.0 587.9, 251.0 589.7 Q 251.0 591.6, 251.5 592.5 Q 252.1 593.5, 253.1 593.5 \" fill=\"#000000\"/>\n",
       "<path class=\"legend\" d=\"M 260.7 594.5 Q 259.0 594.5, 258.2 593.3 Q 257.3 592.0, 257.3 589.7 Q 257.3 587.5, 258.2 586.2 Q 259.0 585.0, 260.7 585.0 Q 262.4 585.0, 263.3 586.2 Q 264.1 587.5, 264.1 589.7 Q 264.1 592.0, 263.3 593.3 Q 262.4 594.5, 260.7 594.5 M 260.7 593.5 Q 261.7 593.5, 262.3 592.5 Q 262.8 591.6, 262.8 589.7 Q 262.8 587.9, 262.3 587.0 Q 261.7 586.1, 260.7 586.1 Q 259.7 586.1, 259.2 587.0 Q 258.6 587.9, 258.6 589.7 Q 258.6 591.6, 259.2 592.5 Q 259.7 593.5, 260.7 593.5 \" fill=\"#000000\"/>\n",
       "<path class=\"legend\" d=\"M 268.6 588.6 Q 269.4 588.6, 270.1 589.0 Q 270.7 589.3, 271.1 590.0 Q 271.4 590.6, 271.4 591.4 Q 271.4 592.3, 271.0 593.0 Q 270.6 593.7, 269.9 594.1 Q 269.2 594.5, 268.3 594.5 Q 266.6 594.5, 265.8 593.4 Q 265.0 592.3, 265.0 590.0 Q 265.0 587.6, 266.0 586.3 Q 267.0 585.0, 269.0 585.0 Q 269.6 585.0, 270.1 585.1 Q 270.6 585.3, 271.1 585.5 L 270.5 586.4 Q 269.9 586.1, 269.0 586.1 Q 267.7 586.1, 267.1 586.9 Q 266.4 587.7, 266.3 589.5 Q 266.8 589.1, 267.4 588.8 Q 268.0 588.6, 268.6 588.6 M 268.3 593.4 Q 268.8 593.4, 269.2 593.2 Q 269.6 592.9, 269.9 592.5 Q 270.1 592.0, 270.1 591.4 Q 270.1 590.6, 269.7 590.1 Q 269.2 589.7, 268.4 589.7 Q 267.8 589.7, 267.2 589.9 Q 266.7 590.1, 266.3 590.5 Q 266.4 592.0, 266.8 592.7 Q 267.3 593.4, 268.3 593.4 \" fill=\"#000000\"/>\n",
       "<path class=\"legend\" d=\"M 275.5 588.6 Q 276.3 588.6, 277.0 588.9 Q 277.7 589.3, 278.1 589.9 Q 278.4 590.6, 278.4 591.5 Q 278.4 592.4, 278.0 593.1 Q 277.5 593.8, 276.8 594.2 Q 276.0 594.5, 275.1 594.5 Q 274.3 594.5, 273.5 594.2 Q 272.7 593.9, 272.2 593.3 L 272.9 592.5 Q 273.4 592.9, 274.0 593.2 Q 274.6 593.5, 275.2 593.5 Q 276.0 593.5, 276.6 592.9 Q 277.1 592.4, 277.1 591.5 Q 277.1 590.5, 276.6 590.0 Q 276.0 589.6, 275.1 589.6 Q 274.3 589.6, 273.4 589.9 L 272.6 589.6 L 273.1 585.1 L 277.9 585.1 L 277.7 586.2 L 274.2 586.2 L 273.9 588.9 Q 274.7 588.6, 275.5 588.6 \" fill=\"#000000\"/>\n",
       "<path class=\"legend\" d=\"M 283.8 589.5 Q 284.7 589.8, 285.2 590.4 Q 285.6 590.9, 285.6 591.9 Q 285.6 592.6, 285.2 593.3 Q 284.8 593.9, 284.1 594.2 Q 283.4 594.5, 282.4 594.5 Q 280.9 594.5, 280.0 593.8 Q 279.1 593.1, 279.1 591.9 Q 279.1 591.1, 279.5 590.5 Q 279.9 590.0, 280.7 589.5 Q 280.1 589.2, 279.7 588.7 Q 279.4 588.2, 279.4 587.4 Q 279.4 586.3, 280.2 585.6 Q 281.0 585.0, 282.4 585.0 Q 283.7 585.0, 284.5 585.6 Q 285.3 586.3, 285.3 587.4 Q 285.3 588.1, 284.9 588.6 Q 284.6 589.1, 283.8 589.5 M 282.4 586.0 Q 281.6 586.0, 281.2 586.4 Q 280.7 586.7, 280.7 587.4 Q 280.7 587.9, 281.0 588.2 Q 281.3 588.5, 281.7 588.7 Q 282.1 588.9, 282.9 589.2 Q 283.5 588.8, 283.7 588.3 Q 284.0 587.9, 284.0 587.4 Q 284.0 586.7, 283.6 586.4 Q 283.1 586.0, 282.4 586.0 M 282.4 593.6 Q 283.3 593.6, 283.8 593.1 Q 284.3 592.6, 284.3 591.8 Q 284.3 591.3, 284.1 591.0 Q 283.8 590.7, 283.4 590.5 Q 283.0 590.3, 282.2 590.1 L 281.6 589.9 Q 281.0 590.3, 280.7 590.8 Q 280.4 591.2, 280.4 591.8 Q 280.4 592.6, 280.9 593.1 Q 281.5 593.6, 282.4 593.6 \" fill=\"#000000\"/>\n",
       "<path class=\"legend\" d=\"M 287.0 593.4 L 289.0 593.4 L 289.0 586.4 L 286.8 587.1 L 286.5 586.3 L 289.3 585.1 L 290.3 585.2 L 290.3 593.4 L 292.1 593.4 L 292.1 594.4 L 287.0 594.4 L 287.0 593.4 \" fill=\"#000000\"/>\n",
       "<path class=\"legend\" d=\"M 295.8 585.0 Q 297.4 585.0, 298.3 586.1 Q 299.1 587.2, 299.1 589.5 Q 299.1 592.0, 298.1 593.2 Q 297.0 594.5, 295.0 594.5 Q 294.5 594.5, 294.0 594.4 Q 293.5 594.3, 293.0 594.0 L 293.5 593.1 Q 294.2 593.5, 295.0 593.5 Q 296.3 593.5, 297.0 592.6 Q 297.7 591.8, 297.8 590.0 Q 297.3 590.5, 296.7 590.7 Q 296.1 590.9, 295.5 590.9 Q 294.6 590.9, 294.0 590.6 Q 293.3 590.2, 293.0 589.6 Q 292.6 588.9, 292.6 588.1 Q 292.6 587.2, 293.0 586.5 Q 293.4 585.8, 294.2 585.4 Q 294.9 585.0, 295.8 585.0 M 294.0 588.1 Q 294.0 588.9, 294.4 589.4 Q 294.9 589.9, 295.7 589.9 Q 296.3 589.9, 296.8 589.6 Q 297.4 589.4, 297.8 589.0 Q 297.7 587.5, 297.2 586.8 Q 296.7 586.1, 295.8 586.1 Q 295.3 586.1, 294.8 586.3 Q 294.4 586.6, 294.2 587.1 Q 294.0 587.5, 294.0 588.1 \" fill=\"#000000\"/>\n",
       "<path class=\"legend\" d=\"M 303.4 594.5 Q 301.7 594.5, 300.8 593.3 Q 300.0 592.0, 300.0 589.7 Q 300.0 587.5, 300.8 586.2 Q 301.7 585.0, 303.4 585.0 Q 305.1 585.0, 306.0 586.2 Q 306.8 587.5, 306.8 589.7 Q 306.8 592.0, 305.9 593.3 Q 305.1 594.5, 303.4 594.5 M 303.4 593.5 Q 304.4 593.5, 304.9 592.5 Q 305.5 591.6, 305.5 589.7 Q 305.5 587.9, 304.9 587.0 Q 304.4 586.1, 303.4 586.1 Q 302.4 586.1, 301.8 587.0 Q 301.3 587.9, 301.3 589.7 Q 301.3 591.6, 301.8 592.5 Q 302.4 593.5, 303.4 593.5 \" fill=\"#000000\"/>\n",
       "<path class=\"legend\" d=\"M 311.3 588.6 Q 312.1 588.6, 312.7 589.0 Q 313.4 589.3, 313.7 590.0 Q 314.1 590.6, 314.1 591.4 Q 314.1 592.3, 313.7 593.0 Q 313.3 593.7, 312.6 594.1 Q 311.9 594.5, 311.0 594.5 Q 309.3 594.5, 308.5 593.4 Q 307.6 592.3, 307.6 590.0 Q 307.6 587.6, 308.7 586.3 Q 309.7 585.0, 311.7 585.0 Q 312.3 585.0, 312.8 585.1 Q 313.3 585.3, 313.7 585.5 L 313.2 586.4 Q 312.5 586.1, 311.7 586.1 Q 310.4 586.1, 309.7 586.9 Q 309.1 587.7, 309.0 589.5 Q 309.4 589.1, 310.0 588.8 Q 310.6 588.6, 311.3 588.6 M 311.0 593.4 Q 311.5 593.4, 311.9 593.2 Q 312.3 592.9, 312.6 592.5 Q 312.8 592.0, 312.8 591.4 Q 312.8 590.6, 312.3 590.1 Q 311.9 589.7, 311.1 589.7 Q 310.5 589.7, 309.9 589.9 Q 309.4 590.1, 309.0 590.5 Q 309.0 592.0, 309.5 592.7 Q 310.0 593.4, 311.0 593.4 \" fill=\"#000000\"/>\n",
       "<path class=\"bond-0 atom-0 atom-1\" d=\"M 670.0,508.9 L 653.8,520.2\" style=\"fill:none;fill-rule:evenodd;stroke:#000000;stroke-width:2.0px;stroke-linecap:butt;stroke-linejoin:miter;stroke-opacity:1\"/>\n",
       "<path class=\"bond-1 atom-1 atom-2\" d=\"M 653.8,520.2 L 635.9,511.9\" style=\"fill:none;fill-rule:evenodd;stroke:#000000;stroke-width:2.0px;stroke-linecap:butt;stroke-linejoin:miter;stroke-opacity:1\"/>\n",
       "<path class=\"bond-2 atom-2 atom-3\" d=\"M 635.9,511.9 L 619.7,523.2\" style=\"fill:none;fill-rule:evenodd;stroke:#000000;stroke-width:2.0px;stroke-linecap:butt;stroke-linejoin:miter;stroke-opacity:1\"/>\n",
       "<path class=\"bond-3 atom-3 atom-4\" d=\"M 619.7,523.2 L 601.7,514.9\" style=\"fill:none;fill-rule:evenodd;stroke:#000000;stroke-width:2.0px;stroke-linecap:butt;stroke-linejoin:miter;stroke-opacity:1\"/>\n",
       "<path class=\"bond-4 atom-4 atom-5\" d=\"M 599.8,515.0 L 599.0,507.0\" style=\"fill:none;fill-rule:evenodd;stroke:#000000;stroke-width:2.0px;stroke-linecap:butt;stroke-linejoin:miter;stroke-opacity:1\"/>\n",
       "<path class=\"bond-4 atom-4 atom-5\" d=\"M 599.0,507.0 L 598.3,498.9\" style=\"fill:none;fill-rule:evenodd;stroke:#FF0000;stroke-width:2.0px;stroke-linecap:butt;stroke-linejoin:miter;stroke-opacity:1\"/>\n",
       "<path class=\"bond-4 atom-4 atom-5\" d=\"M 603.7,514.7 L 603.0,506.6\" style=\"fill:none;fill-rule:evenodd;stroke:#000000;stroke-width:2.0px;stroke-linecap:butt;stroke-linejoin:miter;stroke-opacity:1\"/>\n",
       "<path class=\"bond-4 atom-4 atom-5\" d=\"M 603.0,506.6 L 602.3,498.5\" style=\"fill:none;fill-rule:evenodd;stroke:#FF0000;stroke-width:2.0px;stroke-linecap:butt;stroke-linejoin:miter;stroke-opacity:1\"/>\n",
       "<path class=\"bond-5 atom-4 atom-6\" d=\"M 601.7,514.9 L 595.2,519.4\" style=\"fill:none;fill-rule:evenodd;stroke:#000000;stroke-width:2.0px;stroke-linecap:butt;stroke-linejoin:miter;stroke-opacity:1\"/>\n",
       "<path class=\"bond-5 atom-4 atom-6\" d=\"M 595.2,519.4 L 588.7,523.9\" style=\"fill:none;fill-rule:evenodd;stroke:#FF0000;stroke-width:2.0px;stroke-linecap:butt;stroke-linejoin:miter;stroke-opacity:1\"/>\n",
       "<path class=\"bond-6 atom-6 atom-7\" d=\"M 582.3,524.7 L 574.9,521.3\" style=\"fill:none;fill-rule:evenodd;stroke:#FF0000;stroke-width:2.0px;stroke-linecap:butt;stroke-linejoin:miter;stroke-opacity:1\"/>\n",
       "<path class=\"bond-6 atom-6 atom-7\" d=\"M 574.9,521.3 L 567.6,517.8\" style=\"fill:none;fill-rule:evenodd;stroke:#000000;stroke-width:2.0px;stroke-linecap:butt;stroke-linejoin:miter;stroke-opacity:1\"/>\n",
       "<path class=\"bond-7 atom-7 atom-8\" d=\"M 567.6,517.8 L 551.4,529.2\" style=\"fill:none;fill-rule:evenodd;stroke:#000000;stroke-width:2.0px;stroke-linecap:butt;stroke-linejoin:miter;stroke-opacity:1\"/>\n",
       "<path class=\"bond-8 atom-8 atom-9\" d=\"M 551.4,529.2 L 553.1,548.9\" style=\"fill:none;fill-rule:evenodd;stroke:#000000;stroke-width:2.0px;stroke-linecap:butt;stroke-linejoin:miter;stroke-opacity:1\"/>\n",
       "<path class=\"bond-9 atom-9 atom-10\" d=\"M 553.9,547.1 L 561.3,550.5\" style=\"fill:none;fill-rule:evenodd;stroke:#000000;stroke-width:2.0px;stroke-linecap:butt;stroke-linejoin:miter;stroke-opacity:1\"/>\n",
       "<path class=\"bond-9 atom-9 atom-10\" d=\"M 561.3,550.5 L 568.6,554.0\" style=\"fill:none;fill-rule:evenodd;stroke:#FF0000;stroke-width:2.0px;stroke-linecap:butt;stroke-linejoin:miter;stroke-opacity:1\"/>\n",
       "<path class=\"bond-9 atom-9 atom-10\" d=\"M 552.3,550.7 L 559.6,554.1\" style=\"fill:none;fill-rule:evenodd;stroke:#000000;stroke-width:2.0px;stroke-linecap:butt;stroke-linejoin:miter;stroke-opacity:1\"/>\n",
       "<path class=\"bond-9 atom-9 atom-10\" d=\"M 559.6,554.1 L 567.0,557.5\" style=\"fill:none;fill-rule:evenodd;stroke:#FF0000;stroke-width:2.0px;stroke-linecap:butt;stroke-linejoin:miter;stroke-opacity:1\"/>\n",
       "<path class=\"bond-10 atom-9 atom-11\" d=\"M 553.1,548.9 L 546.8,553.3\" style=\"fill:none;fill-rule:evenodd;stroke:#000000;stroke-width:2.0px;stroke-linecap:butt;stroke-linejoin:miter;stroke-opacity:1\"/>\n",
       "<path class=\"bond-10 atom-9 atom-11\" d=\"M 546.8,553.3 L 540.6,557.7\" style=\"fill:none;fill-rule:evenodd;stroke:#FF0000;stroke-width:2.0px;stroke-linecap:butt;stroke-linejoin:miter;stroke-opacity:1\"/>\n",
       "<path class=\"bond-11 atom-7 atom-12\" d=\"M 567.6,517.8 L 565.9,498.1\" style=\"fill:none;fill-rule:evenodd;stroke:#000000;stroke-width:2.0px;stroke-linecap:butt;stroke-linejoin:miter;stroke-opacity:1\"/>\n",
       "<path class=\"bond-12 atom-12 atom-13\" d=\"M 565.9,498.1 L 558.3,494.6\" style=\"fill:none;fill-rule:evenodd;stroke:#000000;stroke-width:2.0px;stroke-linecap:butt;stroke-linejoin:miter;stroke-opacity:1\"/>\n",
       "<path class=\"bond-12 atom-12 atom-13\" d=\"M 558.3,494.6 L 550.7,491.1\" style=\"fill:none;fill-rule:evenodd;stroke:#0000FF;stroke-width:2.0px;stroke-linecap:butt;stroke-linejoin:miter;stroke-opacity:1\"/>\n",
       "<path class=\"bond-13 atom-13 atom-14\" d=\"M 546.3,493.2 L 542.9,500.5\" style=\"fill:none;fill-rule:evenodd;stroke:#0000FF;stroke-width:2.0px;stroke-linecap:butt;stroke-linejoin:miter;stroke-opacity:1\"/>\n",
       "<path class=\"bond-13 atom-13 atom-14\" d=\"M 542.9,500.5 L 539.6,507.7\" style=\"fill:none;fill-rule:evenodd;stroke:#000000;stroke-width:2.0px;stroke-linecap:butt;stroke-linejoin:miter;stroke-opacity:1\"/>\n",
       "<path class=\"bond-14 atom-13 atom-15\" d=\"M 549.5,486.3 L 552.9,479.1\" style=\"fill:none;fill-rule:evenodd;stroke:#0000FF;stroke-width:2.0px;stroke-linecap:butt;stroke-linejoin:miter;stroke-opacity:1\"/>\n",
       "<path class=\"bond-14 atom-13 atom-15\" d=\"M 552.9,479.1 L 556.3,471.8\" style=\"fill:none;fill-rule:evenodd;stroke:#000000;stroke-width:2.0px;stroke-linecap:butt;stroke-linejoin:miter;stroke-opacity:1\"/>\n",
       "<path class=\"bond-15 atom-13 atom-16\" d=\"M 545.2,488.5 L 537.6,484.9\" style=\"fill:none;fill-rule:evenodd;stroke:#0000FF;stroke-width:2.0px;stroke-linecap:butt;stroke-linejoin:miter;stroke-opacity:1\"/>\n",
       "<path class=\"bond-15 atom-13 atom-16\" d=\"M 537.6,484.9 L 530.0,481.4\" style=\"fill:none;fill-rule:evenodd;stroke:#000000;stroke-width:2.0px;stroke-linecap:butt;stroke-linejoin:miter;stroke-opacity:1\"/>\n",
       "<path class=\"atom-5\" d=\"M 597.4 495.2 Q 597.4 493.8, 598.1 493.1 Q 598.8 492.3, 600.0 492.3 Q 601.2 492.3, 601.9 493.1 Q 602.6 493.8, 602.6 495.2 Q 602.6 496.5, 601.9 497.3 Q 601.2 498.1, 600.0 498.1 Q 598.8 498.1, 598.1 497.3 Q 597.4 496.5, 597.4 495.2 M 600.0 497.4 Q 600.9 497.4, 601.3 496.9 Q 601.8 496.3, 601.8 495.2 Q 601.8 494.1, 601.3 493.5 Q 600.9 492.9, 600.0 492.9 Q 599.1 492.9, 598.7 493.5 Q 598.2 494.1, 598.2 495.2 Q 598.2 496.3, 598.7 496.9 Q 599.1 497.4, 600.0 497.4 \" fill=\"#FF0000\"/>\n",
       "<path class=\"atom-6\" d=\"M 582.9 526.2 Q 582.9 524.9, 583.6 524.1 Q 584.3 523.4, 585.5 523.4 Q 586.8 523.4, 587.4 524.1 Q 588.1 524.9, 588.1 526.2 Q 588.1 527.6, 587.4 528.4 Q 586.7 529.1, 585.5 529.1 Q 584.3 529.1, 583.6 528.4 Q 582.9 527.6, 582.9 526.2 M 585.5 528.5 Q 586.4 528.5, 586.8 527.9 Q 587.3 527.3, 587.3 526.2 Q 587.3 525.1, 586.8 524.6 Q 586.4 524.0, 585.5 524.0 Q 584.7 524.0, 584.2 524.6 Q 583.7 525.1, 583.7 526.2 Q 583.7 527.3, 584.2 527.9 Q 584.7 528.5, 585.5 528.5 \" fill=\"#FF0000\"/>\n",
       "<path class=\"atom-10\" d=\"M 568.5 557.3 Q 568.5 555.9, 569.1 555.2 Q 569.8 554.4, 571.0 554.4 Q 572.3 554.4, 572.9 555.2 Q 573.6 555.9, 573.6 557.3 Q 573.6 558.6, 572.9 559.4 Q 572.3 560.2, 571.0 560.2 Q 569.8 560.2, 569.1 559.4 Q 568.5 558.6, 568.5 557.3 M 571.0 559.5 Q 571.9 559.5, 572.3 559.0 Q 572.8 558.4, 572.8 557.3 Q 572.8 556.2, 572.3 555.6 Q 571.9 555.1, 571.0 555.1 Q 570.2 555.1, 569.7 555.6 Q 569.3 556.2, 569.3 557.3 Q 569.3 558.4, 569.7 559.0 Q 570.2 559.5, 571.0 559.5 \" fill=\"#FF0000\"/>\n",
       "<path class=\"atom-11\" d=\"M 534.3 560.3 Q 534.3 558.9, 535.0 558.2 Q 535.7 557.4, 536.9 557.4 Q 538.1 557.4, 538.8 558.2 Q 539.5 558.9, 539.5 560.3 Q 539.5 561.6, 538.8 562.4 Q 538.1 563.2, 536.9 563.2 Q 535.7 563.2, 535.0 562.4 Q 534.3 561.6, 534.3 560.3 M 536.9 562.5 Q 537.8 562.5, 538.2 562.0 Q 538.7 561.4, 538.7 560.3 Q 538.7 559.2, 538.2 558.6 Q 537.8 558.0, 536.9 558.0 Q 536.0 558.0, 535.6 558.6 Q 535.1 559.1, 535.1 560.3 Q 535.1 561.4, 535.6 562.0 Q 536.0 562.5, 536.9 562.5 \" fill=\"#FF0000\"/>\n",
       "<path class=\"atom-11\" d=\"M 539.9 558.3 L 541.8 558.3 L 541.8 558.7 L 539.9 558.7 L 539.9 558.3 \" fill=\"#FF0000\"/>\n",
       "<path class=\"atom-13\" d=\"M 546.7 487.0 L 548.5 489.9 Q 548.7 490.2, 549.0 490.8 Q 549.3 491.3, 549.3 491.3 L 549.3 487.0 L 550.1 487.0 L 550.1 492.6 L 549.3 492.6 L 547.3 489.3 Q 547.1 488.9, 546.8 488.5 Q 546.6 488.1, 546.5 487.9 L 546.5 492.6 L 545.8 492.6 L 545.8 487.0 L 546.7 487.0 \" fill=\"#0000FF\"/>\n",
       "<path class=\"atom-13\" d=\"M 550.7 488.0 L 551.7 488.0 L 551.7 486.9 L 552.1 486.9 L 552.1 488.0 L 553.2 488.0 L 553.2 488.4 L 552.1 488.4 L 552.1 489.4 L 551.7 489.4 L 551.7 488.4 L 550.7 488.4 L 550.7 488.0 \" fill=\"#0000FF\"/>\n",
       "<path class=\"legend\" d=\"M 491.4 585.1 L 492.5 585.1 L 489.6 593.7 L 488.2 593.7 L 485.4 585.1 L 486.5 585.1 L 488.9 592.4 L 491.4 585.1 \" fill=\"#000000\"/>\n",
       "<path class=\"legend\" d=\"M 493.1 592.3 Q 493.2 592.4, 493.6 592.5 Q 494.0 592.7, 494.4 592.8 Q 494.9 592.9, 495.3 592.9 Q 496.1 592.9, 496.6 592.5 Q 497.1 592.1, 497.1 591.4 Q 497.1 591.0, 496.8 590.7 Q 496.6 590.4, 496.2 590.2 Q 495.9 590.1, 495.3 589.9 Q 494.5 589.7, 494.0 589.4 Q 493.6 589.2, 493.3 588.8 Q 492.9 588.3, 492.9 587.5 Q 492.9 586.5, 493.7 585.8 Q 494.4 585.1, 495.9 585.1 Q 496.9 585.1, 498.0 585.6 L 497.7 586.5 Q 496.7 586.1, 495.9 586.1 Q 495.1 586.1, 494.6 586.5 Q 494.1 586.8, 494.2 587.4 Q 494.2 587.8, 494.4 588.1 Q 494.6 588.4, 495.0 588.6 Q 495.3 588.7, 495.9 588.9 Q 496.7 589.1, 497.1 589.4 Q 497.6 589.6, 497.9 590.1 Q 498.3 590.6, 498.3 591.4 Q 498.3 592.6, 497.5 593.3 Q 496.7 593.9, 495.4 593.9 Q 494.6 593.9, 494.0 593.7 Q 493.4 593.6, 492.8 593.3 L 493.1 592.3 \" fill=\"#000000\"/>\n",
       "<path class=\"legend\" d=\"M 500.2 585.1 L 503.0 589.6 Q 503.3 590.1, 503.7 590.9 Q 504.2 591.7, 504.2 591.8 L 504.2 585.1 L 505.3 585.1 L 505.3 593.7 L 504.1 593.7 L 501.1 588.7 Q 500.8 588.1, 500.4 587.5 Q 500.0 586.8, 499.9 586.6 L 499.9 593.7 L 498.8 593.7 L 498.8 585.1 L 500.2 585.1 \" fill=\"#000000\"/>\n",
       "<path class=\"legend\" d=\"M 506.3 585.1 L 511.4 585.1 L 511.4 586.1 L 507.5 586.1 L 507.5 588.7 L 511.0 588.7 L 511.0 589.7 L 507.5 589.7 L 507.5 593.7 L 506.3 593.7 L 506.3 585.1 \" fill=\"#000000\"/>\n",
       "<path class=\"legend\" d=\"M 517.6 595.2 Q 518.0 595.2, 518.5 595.0 L 518.8 596.0 Q 518.1 596.3, 517.5 596.3 Q 516.4 596.3, 515.7 595.6 Q 515.0 595.0, 514.9 593.7 Q 513.4 593.5, 512.5 592.4 Q 511.7 591.2, 511.7 589.4 Q 511.7 587.3, 512.7 586.1 Q 513.7 585.0, 515.6 585.0 Q 517.5 585.0, 518.5 586.1 Q 519.5 587.3, 519.5 589.4 Q 519.5 591.4, 518.6 592.5 Q 517.6 593.7, 515.9 593.8 Q 516.0 594.4, 516.5 594.8 Q 516.9 595.2, 517.6 595.2 M 512.9 589.4 Q 512.9 591.1, 513.6 592.0 Q 514.3 592.8, 515.6 592.8 Q 516.9 592.8, 517.6 592.0 Q 518.3 591.1, 518.3 589.4 Q 518.3 587.7, 517.6 586.8 Q 516.9 586.0, 515.6 586.0 Q 514.3 586.0, 513.6 586.8 Q 512.9 587.7, 512.9 589.4 \" fill=\"#000000\"/>\n",
       "<path class=\"legend\" d=\"M 526.1 595.2 Q 526.5 595.2, 526.9 595.0 L 527.3 596.0 Q 526.6 596.3, 526.0 596.3 Q 524.9 596.3, 524.2 595.6 Q 523.5 595.0, 523.4 593.7 Q 521.8 593.5, 521.0 592.4 Q 520.2 591.2, 520.2 589.4 Q 520.2 587.3, 521.2 586.1 Q 522.2 585.0, 524.1 585.0 Q 526.0 585.0, 527.0 586.1 Q 528.0 587.3, 528.0 589.4 Q 528.0 591.4, 527.1 592.5 Q 526.1 593.7, 524.4 593.8 Q 524.5 594.4, 524.9 594.8 Q 525.4 595.2, 526.1 595.2 M 521.4 589.4 Q 521.4 591.1, 522.1 592.0 Q 522.8 592.8, 524.1 592.8 Q 525.4 592.8, 526.1 592.0 Q 526.8 591.1, 526.8 589.4 Q 526.8 587.7, 526.1 586.8 Q 525.4 586.0, 524.1 586.0 Q 522.8 586.0, 522.1 586.8 Q 521.4 587.7, 521.4 589.4 \" fill=\"#000000\"/>\n",
       "<path class=\"legend\" d=\"M 536.3 593.7 L 535.0 593.7 L 532.5 590.1 L 529.9 593.7 L 528.6 593.7 L 531.8 589.2 L 528.9 585.1 L 530.2 585.1 L 532.5 588.3 L 534.8 585.1 L 536.2 585.1 L 533.2 589.3 L 536.3 593.7 \" fill=\"#000000\"/>\n",
       "<path class=\"legend\" d=\"M 542.4 585.1 L 543.5 585.1 L 540.6 593.7 L 539.2 593.7 L 536.4 585.1 L 537.5 585.1 L 539.9 592.4 L 542.4 585.1 \" fill=\"#000000\"/>\n",
       "<path class=\"legend\" d=\"M 553.6 593.7 L 552.5 593.7 L 551.6 586.7 L 549.3 593.7 L 548.1 593.7 L 545.8 586.7 L 544.9 593.7 L 543.8 593.7 L 544.9 585.1 L 546.3 585.1 L 548.7 592.0 L 551.0 585.1 L 552.5 585.1 L 553.6 593.7 \" fill=\"#000000\"/>\n",
       "<path class=\"legend\" d=\"M 556.9 585.1 Q 558.3 585.1, 559.1 585.8 Q 559.8 586.4, 559.8 587.6 Q 559.8 588.8, 559.1 589.5 Q 558.3 590.1, 556.9 590.1 L 555.5 590.1 L 555.5 593.7 L 554.3 593.7 L 554.3 585.1 L 556.9 585.1 M 556.9 589.2 Q 557.7 589.2, 558.2 588.8 Q 558.6 588.4, 558.6 587.6 Q 558.6 586.9, 558.2 586.5 Q 557.7 586.1, 556.9 586.1 L 555.5 586.1 L 555.5 589.2 L 556.9 589.2 \" fill=\"#000000\"/>\n",
       "<path class=\"legend\" d=\"M 560.7 592.3 Q 560.8 592.4, 561.2 592.5 Q 561.6 592.7, 562.0 592.8 Q 562.5 592.9, 562.9 592.9 Q 563.7 592.9, 564.2 592.5 Q 564.7 592.1, 564.7 591.4 Q 564.7 591.0, 564.4 590.7 Q 564.2 590.4, 563.8 590.2 Q 563.5 590.1, 562.9 589.9 Q 562.1 589.7, 561.7 589.4 Q 561.2 589.2, 560.9 588.8 Q 560.6 588.3, 560.6 587.5 Q 560.6 586.5, 561.3 585.8 Q 562.0 585.1, 563.5 585.1 Q 564.5 585.1, 565.6 585.6 L 565.3 586.5 Q 564.3 586.1, 563.5 586.1 Q 562.7 586.1, 562.2 586.5 Q 561.8 586.8, 561.8 587.4 Q 561.8 587.8, 562.0 588.1 Q 562.2 588.4, 562.6 588.6 Q 562.9 588.7, 563.5 588.9 Q 564.3 589.1, 564.8 589.4 Q 565.2 589.6, 565.5 590.1 Q 565.9 590.6, 565.9 591.4 Q 565.9 592.6, 565.1 593.3 Q 564.3 593.9, 563.0 593.9 Q 562.2 593.9, 561.6 593.7 Q 561.1 593.6, 560.4 593.3 L 560.7 592.3 \" fill=\"#000000\"/>\n",
       "<path class=\"legend\" d=\"M 572.8 593.7 L 571.9 591.1 L 568.5 591.1 L 567.6 593.7 L 566.4 593.7 L 569.4 585.1 L 570.8 585.1 L 573.9 593.7 L 572.8 593.7 M 568.8 590.2 L 571.5 590.2 L 570.1 586.3 L 568.8 590.2 \" fill=\"#000000\"/>\n",
       "<path class=\"legend\" d=\"M 574.4 592.3 Q 574.5 592.4, 574.9 592.5 Q 575.3 592.7, 575.7 592.8 Q 576.1 592.9, 576.6 592.9 Q 577.4 592.9, 577.9 592.5 Q 578.3 592.1, 578.3 591.4 Q 578.3 591.0, 578.1 590.7 Q 577.9 590.4, 577.5 590.2 Q 577.1 590.1, 576.5 589.9 Q 575.8 589.7, 575.3 589.4 Q 574.9 589.2, 574.5 588.8 Q 574.2 588.3, 574.2 587.5 Q 574.2 586.5, 574.9 585.8 Q 575.7 585.1, 577.1 585.1 Q 578.1 585.1, 579.2 585.6 L 579.0 586.5 Q 577.9 586.1, 577.2 586.1 Q 576.3 586.1, 575.9 586.5 Q 575.4 586.8, 575.4 587.4 Q 575.4 587.8, 575.7 588.1 Q 575.9 588.4, 576.2 588.6 Q 576.6 588.7, 577.2 588.9 Q 577.9 589.1, 578.4 589.4 Q 578.9 589.6, 579.2 590.1 Q 579.5 590.6, 579.5 591.4 Q 579.5 592.6, 578.7 593.3 Q 577.9 593.9, 576.6 593.9 Q 575.9 593.9, 575.3 593.7 Q 574.7 593.6, 574.0 593.3 L 574.4 592.3 \" fill=\"#000000\"/>\n",
       "<path class=\"legend\" d=\"M 584.3 589.2 Q 585.1 589.4, 585.5 589.9 Q 585.9 590.4, 585.9 591.1 Q 585.9 592.3, 585.1 593.0 Q 584.4 593.7, 583.0 593.7 L 580.1 593.7 L 580.1 585.1 L 582.6 585.1 Q 584.1 585.1, 584.8 585.7 Q 585.6 586.3, 585.6 587.4 Q 585.6 588.7, 584.3 589.2 M 581.2 586.1 L 581.2 588.8 L 582.6 588.8 Q 583.5 588.8, 583.9 588.4 Q 584.3 588.1, 584.3 587.4 Q 584.3 586.1, 582.6 586.1 L 581.2 586.1 M 583.0 592.7 Q 583.8 592.7, 584.3 592.3 Q 584.7 591.9, 584.7 591.1 Q 584.7 590.4, 584.2 590.1 Q 583.7 589.7, 582.8 589.7 L 581.2 589.7 L 581.2 592.7 L 583.0 592.7 \" fill=\"#000000\"/>\n",
       "<path class=\"legend\" d=\"\" fill=\"#000000\"/>\n",
       "<path class=\"legend\" d=\"M 590.5 592.2 L 591.7 592.2 L 591.7 593.5 L 590.5 593.5 L 590.5 592.2 M 590.5 588.1 L 591.7 588.1 L 591.7 589.3 L 590.5 589.3 L 590.5 588.1 \" fill=\"#000000\"/>\n",
       "<path class=\"legend\" d=\"\" fill=\"#000000\"/>\n",
       "<path class=\"legend\" d=\"M 596.6 589.4 Q 596.6 587.2, 597.6 586.1 Q 598.6 585.0, 600.5 585.0 Q 602.3 585.0, 603.3 586.2 L 602.5 586.9 Q 601.8 586.0, 600.5 586.0 Q 599.2 586.0, 598.6 586.9 Q 597.9 587.7, 597.9 589.4 Q 597.9 591.1, 598.6 591.9 Q 599.3 592.8, 600.7 592.8 Q 601.6 592.8, 602.7 592.2 L 603.1 593.1 Q 602.6 593.4, 601.9 593.6 Q 601.3 593.8, 600.5 593.8 Q 598.6 593.8, 597.6 592.6 Q 596.6 591.5, 596.6 589.4 \" fill=\"#000000\"/>\n",
       "<path class=\"legend\" d=\"M 603.7 589.4 Q 603.7 587.2, 604.7 586.1 Q 605.7 585.0, 607.6 585.0 Q 609.4 585.0, 610.3 586.2 L 609.5 586.9 Q 608.9 586.0, 607.6 586.0 Q 606.3 586.0, 605.6 586.9 Q 605.0 587.7, 605.0 589.4 Q 605.0 591.1, 605.7 591.9 Q 606.4 592.8, 607.8 592.8 Q 608.7 592.8, 609.8 592.2 L 610.1 593.1 Q 609.7 593.4, 609.0 593.6 Q 608.3 593.8, 607.6 593.8 Q 605.7 593.8, 604.7 592.6 Q 603.7 591.5, 603.7 589.4 \" fill=\"#000000\"/>\n",
       "<path class=\"legend\" d=\"M 620.6 593.7 L 619.5 593.7 L 618.6 586.7 L 616.3 593.7 L 615.1 593.7 L 612.8 586.7 L 611.9 593.7 L 610.8 593.7 L 611.9 585.1 L 613.4 585.1 L 615.7 592.0 L 618.1 585.1 L 619.5 585.1 L 620.6 593.7 \" fill=\"#000000\"/>\n",
       "<path class=\"legend\" d=\"M 621.7 592.3 Q 621.8 592.4, 622.2 592.5 Q 622.6 592.7, 623.1 592.8 Q 623.5 592.9, 623.9 592.9 Q 624.7 592.9, 625.2 592.5 Q 625.7 592.1, 625.7 591.4 Q 625.7 591.0, 625.4 590.7 Q 625.2 590.4, 624.9 590.2 Q 624.5 590.1, 623.9 589.9 Q 623.1 589.7, 622.7 589.4 Q 622.2 589.2, 621.9 588.8 Q 621.6 588.3, 621.6 587.5 Q 621.6 586.5, 622.3 585.8 Q 623.0 585.1, 624.5 585.1 Q 625.5 585.1, 626.6 585.6 L 626.3 586.5 Q 625.3 586.1, 624.5 586.1 Q 623.7 586.1, 623.2 586.5 Q 622.8 586.8, 622.8 587.4 Q 622.8 587.8, 623.0 588.1 Q 623.3 588.4, 623.6 588.6 Q 623.9 588.7, 624.5 588.9 Q 625.3 589.1, 625.8 589.4 Q 626.2 589.6, 626.6 590.1 Q 626.9 590.6, 626.9 591.4 Q 626.9 592.6, 626.1 593.3 Q 625.3 593.9, 624.0 593.9 Q 623.2 593.9, 622.6 593.7 Q 622.1 593.6, 621.4 593.3 L 621.7 592.3 \" fill=\"#000000\"/>\n",
       "<path class=\"legend\" d=\"M 627.5 585.1 L 628.6 585.1 L 628.6 592.7 L 632.5 592.7 L 632.5 593.7 L 627.5 593.7 L 627.5 585.1 \" fill=\"#000000\"/>\n",
       "<path class=\"legend\" d=\"M 632.9 585.1 L 634.0 585.1 L 634.0 593.7 L 632.9 593.7 L 632.9 585.1 \" fill=\"#000000\"/>\n",
       "<path class=\"legend\" d=\"M 639.2 589.2 Q 640.1 589.4, 640.5 589.9 Q 640.9 590.4, 640.9 591.1 Q 640.9 592.3, 640.1 593.0 Q 639.4 593.7, 638.0 593.7 L 635.1 593.7 L 635.1 585.1 L 637.6 585.1 Q 639.1 585.1, 639.8 585.7 Q 640.5 586.3, 640.5 587.4 Q 640.5 588.7, 639.2 589.2 M 636.2 586.1 L 636.2 588.8 L 637.6 588.8 Q 638.5 588.8, 638.9 588.4 Q 639.3 588.1, 639.3 587.4 Q 639.3 586.1, 637.6 586.1 L 636.2 586.1 M 638.0 592.7 Q 638.8 592.7, 639.2 592.3 Q 639.7 591.9, 639.7 591.1 Q 639.7 590.4, 639.2 590.1 Q 638.7 589.7, 637.8 589.7 L 636.2 589.7 L 636.2 592.7 L 638.0 592.7 \" fill=\"#000000\"/>\n",
       "<path class=\"legend\" d=\"M 644.6 593.8 Q 643.0 593.8, 642.2 592.6 Q 641.5 591.4, 641.5 589.4 Q 641.5 587.3, 642.2 586.1 Q 643.0 585.0, 644.6 585.0 Q 646.2 585.0, 646.9 586.1 Q 647.7 587.3, 647.7 589.4 Q 647.7 591.4, 646.9 592.6 Q 646.2 593.8, 644.6 593.8 M 644.6 592.8 Q 645.5 592.8, 646.0 591.9 Q 646.5 591.1, 646.5 589.4 Q 646.5 587.7, 646.0 586.8 Q 645.5 586.0, 644.6 586.0 Q 643.7 586.0, 643.2 586.8 Q 642.7 587.7, 642.7 589.4 Q 642.7 591.1, 643.2 591.9 Q 643.7 592.8, 644.6 592.8 \" fill=\"#000000\"/>\n",
       "<path class=\"legend\" d=\"M 651.6 593.8 Q 650.1 593.8, 649.3 592.6 Q 648.5 591.4, 648.5 589.4 Q 648.5 587.3, 649.3 586.1 Q 650.1 585.0, 651.6 585.0 Q 653.2 585.0, 654.0 586.1 Q 654.8 587.3, 654.8 589.4 Q 654.8 591.4, 654.0 592.6 Q 653.2 593.8, 651.6 593.8 M 651.6 592.8 Q 652.6 592.8, 653.1 591.9 Q 653.6 591.1, 653.6 589.4 Q 653.6 587.7, 653.1 586.8 Q 652.6 586.0, 651.6 586.0 Q 650.7 586.0, 650.2 586.8 Q 649.7 587.7, 649.7 589.4 Q 649.7 591.1, 650.2 591.9 Q 650.7 592.8, 651.6 592.8 \" fill=\"#000000\"/>\n",
       "<path class=\"legend\" d=\"M 658.7 593.8 Q 657.1 593.8, 656.3 592.6 Q 655.6 591.4, 655.6 589.4 Q 655.6 587.3, 656.3 586.1 Q 657.1 585.0, 658.7 585.0 Q 660.3 585.0, 661.1 586.1 Q 661.8 587.3, 661.8 589.4 Q 661.8 591.4, 661.0 592.6 Q 660.3 593.8, 658.7 593.8 M 658.7 592.8 Q 659.6 592.8, 660.1 591.9 Q 660.6 591.1, 660.6 589.4 Q 660.6 587.7, 660.1 586.8 Q 659.6 586.0, 658.7 586.0 Q 657.8 586.0, 657.3 586.8 Q 656.8 587.7, 656.8 589.4 Q 656.8 591.1, 657.3 591.9 Q 657.8 592.8, 658.7 592.8 \" fill=\"#000000\"/>\n",
       "<path class=\"legend\" d=\"M 665.7 593.8 Q 664.2 593.8, 663.4 592.6 Q 662.6 591.4, 662.6 589.4 Q 662.6 587.3, 663.4 586.1 Q 664.2 585.0, 665.7 585.0 Q 667.3 585.0, 668.1 586.1 Q 668.9 587.3, 668.9 589.4 Q 668.9 591.4, 668.1 592.6 Q 667.3 593.8, 665.7 593.8 M 665.7 592.8 Q 666.7 592.8, 667.2 591.9 Q 667.7 591.1, 667.7 589.4 Q 667.7 587.7, 667.2 586.8 Q 666.7 586.0, 665.7 586.0 Q 664.8 586.0, 664.3 586.8 Q 663.8 587.7, 663.8 589.4 Q 663.8 591.1, 664.3 591.9 Q 664.8 592.8, 665.7 592.8 \" fill=\"#000000\"/>\n",
       "<path class=\"legend\" d=\"M 673.0 588.3 Q 673.8 588.3, 674.4 588.6 Q 674.9 589.0, 675.3 589.6 Q 675.6 590.2, 675.6 590.9 Q 675.6 591.7, 675.2 592.4 Q 674.9 593.0, 674.2 593.4 Q 673.6 593.8, 672.7 593.8 Q 671.2 593.8, 670.4 592.7 Q 669.7 591.7, 669.7 589.6 Q 669.7 587.4, 670.6 586.2 Q 671.6 585.0, 673.4 585.0 Q 673.9 585.0, 674.4 585.1 Q 674.8 585.2, 675.3 585.5 L 674.8 586.3 Q 674.2 586.0, 673.4 586.0 Q 672.2 586.0, 671.6 586.8 Q 671.0 587.5, 670.9 589.1 Q 671.3 588.7, 671.9 588.5 Q 672.4 588.3, 673.0 588.3 M 672.7 592.8 Q 673.2 592.8, 673.6 592.5 Q 674.0 592.3, 674.2 591.9 Q 674.4 591.4, 674.4 590.9 Q 674.4 590.2, 674.0 589.7 Q 673.5 589.3, 672.8 589.3 Q 672.3 589.3, 671.8 589.5 Q 671.2 589.7, 670.9 590.1 Q 670.9 591.5, 671.4 592.1 Q 671.8 592.8, 672.7 592.8 \" fill=\"#000000\"/>\n",
       "<path class=\"legend\" d=\"M 679.4 588.3 Q 680.1 588.3, 680.7 588.6 Q 681.4 588.9, 681.7 589.5 Q 682.1 590.1, 682.1 591.0 Q 682.1 591.8, 681.6 592.5 Q 681.2 593.1, 680.5 593.4 Q 679.8 593.8, 679.0 593.8 Q 678.2 593.8, 677.5 593.5 Q 676.8 593.2, 676.3 592.6 L 677.0 591.9 Q 677.4 592.3, 677.9 592.5 Q 678.5 592.8, 679.0 592.8 Q 679.8 592.8, 680.3 592.3 Q 680.9 591.8, 680.9 591.0 Q 680.9 590.1, 680.3 589.6 Q 679.8 589.2, 679.0 589.2 Q 678.2 589.2, 677.4 589.5 L 676.7 589.2 L 677.1 585.1 L 681.5 585.1 L 681.4 586.1 L 678.1 586.1 L 677.9 588.6 Q 678.6 588.3, 679.4 588.3 \" fill=\"#000000\"/>\n",
       "<path class=\"legend\" d=\"M 687.0 589.1 Q 687.8 589.5, 688.2 590.0 Q 688.7 590.5, 688.7 591.3 Q 688.7 592.0, 688.3 592.6 Q 687.9 593.2, 687.3 593.5 Q 686.6 593.8, 685.7 593.8 Q 684.3 593.8, 683.5 593.1 Q 682.6 592.5, 682.6 591.3 Q 682.6 590.6, 683.0 590.1 Q 683.4 589.6, 684.1 589.2 Q 683.6 588.8, 683.3 588.4 Q 683.0 587.9, 683.0 587.2 Q 683.0 586.2, 683.7 585.6 Q 684.4 585.0, 685.7 585.0 Q 686.9 585.0, 687.6 585.6 Q 688.4 586.2, 688.4 587.2 Q 688.4 587.8, 688.0 588.3 Q 687.7 588.8, 687.0 589.1 M 685.7 585.9 Q 685.0 585.9, 684.6 586.2 Q 684.2 586.6, 684.2 587.2 Q 684.2 587.6, 684.4 587.9 Q 684.7 588.2, 685.1 588.4 Q 685.5 588.6, 686.2 588.8 Q 686.7 588.5, 686.9 588.1 Q 687.2 587.7, 687.2 587.2 Q 687.2 586.6, 686.8 586.2 Q 686.4 585.9, 685.7 585.9 M 685.7 592.9 Q 686.5 592.9, 687.0 592.5 Q 687.5 592.0, 687.5 591.3 Q 687.5 590.8, 687.2 590.6 Q 687.0 590.3, 686.6 590.1 Q 686.2 589.9, 685.5 589.7 L 685.0 589.5 Q 684.4 589.9, 684.1 590.3 Q 683.9 590.7, 683.9 591.3 Q 683.9 592.0, 684.4 592.5 Q 684.9 592.9, 685.7 592.9 \" fill=\"#000000\"/>\n",
       "<path class=\"legend\" d=\"M 689.9 592.7 L 691.8 592.7 L 691.8 586.3 L 689.7 586.9 L 689.5 586.2 L 692.1 585.0 L 692.9 585.2 L 692.9 592.7 L 694.6 592.7 L 694.6 593.7 L 689.9 593.7 L 689.9 592.7 \" fill=\"#000000\"/>\n",
       "<path class=\"legend\" d=\"M 698.0 585.0 Q 699.5 585.0, 700.3 586.0 Q 701.1 587.1, 701.1 589.1 Q 701.1 591.4, 700.1 592.6 Q 699.2 593.8, 697.3 593.8 Q 696.8 593.8, 696.3 593.6 Q 695.9 593.5, 695.5 593.3 L 695.9 592.5 Q 696.6 592.8, 697.3 592.8 Q 698.5 592.8, 699.2 592.0 Q 699.8 591.2, 699.8 589.6 Q 699.4 590.0, 698.9 590.2 Q 698.3 590.4, 697.7 590.4 Q 697.0 590.4, 696.4 590.1 Q 695.8 589.8, 695.5 589.2 Q 695.1 588.6, 695.1 587.9 Q 695.1 587.0, 695.5 586.4 Q 695.9 585.7, 696.5 585.4 Q 697.2 585.0, 698.0 585.0 M 696.3 587.8 Q 696.3 588.6, 696.8 589.0 Q 697.2 589.5, 697.9 589.5 Q 698.5 589.5, 699.0 589.3 Q 699.5 589.1, 699.8 588.7 Q 699.8 587.3, 699.3 586.6 Q 698.9 586.0, 698.0 586.0 Q 697.5 586.0, 697.1 586.2 Q 696.8 586.5, 696.6 586.9 Q 696.3 587.3, 696.3 587.8 \" fill=\"#000000\"/>\n",
       "<path class=\"legend\" d=\"M 706.0 589.1 Q 706.8 589.4, 707.2 589.9 Q 707.6 590.5, 707.6 591.3 Q 707.6 592.0, 707.3 592.6 Q 706.9 593.2, 706.3 593.5 Q 705.6 593.8, 704.7 593.8 Q 703.8 593.8, 703.1 593.5 Q 702.4 593.1, 701.9 592.5 L 702.6 591.8 Q 703.1 592.4, 703.6 592.6 Q 704.0 592.8, 704.7 592.8 Q 705.5 592.8, 706.0 592.4 Q 706.4 592.0, 706.4 591.3 Q 706.4 590.4, 705.9 590.0 Q 705.5 589.6, 704.4 589.6 L 703.8 589.6 L 703.8 588.8 L 704.3 588.8 Q 705.3 588.8, 705.8 588.4 Q 706.3 588.0, 706.3 587.2 Q 706.3 586.6, 705.8 586.3 Q 705.4 586.0, 704.7 586.0 Q 704.0 586.0, 703.6 586.2 Q 703.1 586.5, 702.8 587.1 L 702.0 586.7 Q 702.3 586.0, 703.0 585.5 Q 703.7 585.0, 704.7 585.0 Q 706.0 585.0, 706.7 585.6 Q 707.5 586.2, 707.5 587.2 Q 707.5 587.9, 707.1 588.4 Q 706.7 588.9, 706.0 589.1 \" fill=\"#000000\"/>\n",
       "<path class=\"legend\" d=\"M 711.5 593.8 Q 709.9 593.8, 709.1 592.6 Q 708.4 591.4, 708.4 589.4 Q 708.4 587.3, 709.1 586.1 Q 709.9 585.0, 711.5 585.0 Q 713.1 585.0, 713.9 586.1 Q 714.6 587.3, 714.6 589.4 Q 714.6 591.4, 713.8 592.6 Q 713.1 593.8, 711.5 593.8 M 711.5 592.8 Q 712.4 592.8, 712.9 591.9 Q 713.4 591.1, 713.4 589.4 Q 713.4 587.7, 712.9 586.8 Q 712.4 586.0, 711.5 586.0 Q 710.6 586.0, 710.1 586.8 Q 709.6 587.7, 709.6 589.4 Q 709.6 591.1, 710.1 591.9 Q 710.6 592.8, 711.5 592.8 \" fill=\"#000000\"/>\n",
       "<path class=\"bond-0 atom-0 atom-1\" d=\"M 818.2,519.3 L 835.6,509.9\" style=\"fill:none;fill-rule:evenodd;stroke:#000000;stroke-width:2.0px;stroke-linecap:butt;stroke-linejoin:miter;stroke-opacity:1\"/>\n",
       "<path class=\"bond-1 atom-1 atom-2\" d=\"M 835.6,509.9 L 852.4,520.3\" style=\"fill:none;fill-rule:evenodd;stroke:#000000;stroke-width:2.0px;stroke-linecap:butt;stroke-linejoin:miter;stroke-opacity:1\"/>\n",
       "<path class=\"bond-2 atom-2 atom-3\" d=\"M 852.4,520.3 L 869.9,510.9\" style=\"fill:none;fill-rule:evenodd;stroke:#000000;stroke-width:2.0px;stroke-linecap:butt;stroke-linejoin:miter;stroke-opacity:1\"/>\n",
       "<path class=\"bond-3 atom-3 atom-4\" d=\"M 869.9,510.9 L 886.7,521.3\" style=\"fill:none;fill-rule:evenodd;stroke:#000000;stroke-width:2.0px;stroke-linecap:butt;stroke-linejoin:miter;stroke-opacity:1\"/>\n",
       "<path class=\"bond-4 atom-4 atom-5\" d=\"M 886.7,521.3 L 904.1,512.0\" style=\"fill:none;fill-rule:evenodd;stroke:#000000;stroke-width:2.0px;stroke-linecap:butt;stroke-linejoin:miter;stroke-opacity:1\"/>\n",
       "<path class=\"bond-5 atom-5 atom-6\" d=\"M 904.1,512.0 L 920.9,522.3\" style=\"fill:none;fill-rule:evenodd;stroke:#000000;stroke-width:2.0px;stroke-linecap:butt;stroke-linejoin:miter;stroke-opacity:1\"/>\n",
       "<path class=\"bond-6 atom-6 atom-7\" d=\"M 920.9,522.3 L 938.4,513.0\" style=\"fill:none;fill-rule:evenodd;stroke:#000000;stroke-width:2.0px;stroke-linecap:butt;stroke-linejoin:miter;stroke-opacity:1\"/>\n",
       "<path class=\"bond-7 atom-7 atom-8\" d=\"M 938.4,513.0 L 955.2,523.4\" style=\"fill:none;fill-rule:evenodd;stroke:#000000;stroke-width:2.0px;stroke-linecap:butt;stroke-linejoin:miter;stroke-opacity:1\"/>\n",
       "<path class=\"bond-8 atom-8 atom-9\" d=\"M 955.2,523.4 L 972.6,514.0\" style=\"fill:none;fill-rule:evenodd;stroke:#000000;stroke-width:2.0px;stroke-linecap:butt;stroke-linejoin:miter;stroke-opacity:1\"/>\n",
       "<path class=\"bond-9 atom-9 atom-10\" d=\"M 972.6,514.0 L 989.4,524.4\" style=\"fill:none;fill-rule:evenodd;stroke:#000000;stroke-width:2.0px;stroke-linecap:butt;stroke-linejoin:miter;stroke-opacity:1\"/>\n",
       "<path class=\"bond-10 atom-10 atom-11\" d=\"M 989.4,524.4 L 1006.9,515.0\" style=\"fill:none;fill-rule:evenodd;stroke:#000000;stroke-width:2.0px;stroke-linecap:butt;stroke-linejoin:miter;stroke-opacity:1\"/>\n",
       "<path class=\"bond-11 atom-11 atom-12\" d=\"M 1006.9,515.0 L 1023.7,525.4\" style=\"fill:none;fill-rule:evenodd;stroke:#000000;stroke-width:2.0px;stroke-linecap:butt;stroke-linejoin:miter;stroke-opacity:1\"/>\n",
       "<path class=\"bond-12 atom-12 atom-13\" d=\"M 1023.7,525.4 L 1041.1,516.0\" style=\"fill:none;fill-rule:evenodd;stroke:#000000;stroke-width:2.0px;stroke-linecap:butt;stroke-linejoin:miter;stroke-opacity:1\"/>\n",
       "<path class=\"bond-13 atom-13 atom-14\" d=\"M 1041.1,516.0 L 1057.9,526.4\" style=\"fill:none;fill-rule:evenodd;stroke:#000000;stroke-width:2.0px;stroke-linecap:butt;stroke-linejoin:miter;stroke-opacity:1\"/>\n",
       "<path class=\"bond-14 atom-14 atom-15\" d=\"M 1057.9,526.4 L 1075.4,517.0\" style=\"fill:none;fill-rule:evenodd;stroke:#000000;stroke-width:2.0px;stroke-linecap:butt;stroke-linejoin:miter;stroke-opacity:1\"/>\n",
       "<path class=\"bond-15 atom-15 atom-16\" d=\"M 1075.4,517.0 L 1092.2,527.4\" style=\"fill:none;fill-rule:evenodd;stroke:#000000;stroke-width:2.0px;stroke-linecap:butt;stroke-linejoin:miter;stroke-opacity:1\"/>\n",
       "<path class=\"bond-16 atom-16 atom-17\" d=\"M 1092.2,527.4 L 1109.6,518.0\" style=\"fill:none;fill-rule:evenodd;stroke:#000000;stroke-width:2.0px;stroke-linecap:butt;stroke-linejoin:miter;stroke-opacity:1\"/>\n",
       "<path class=\"bond-17 atom-17 atom-18\" d=\"M 1107.6,518.0 L 1107.9,509.9\" style=\"fill:none;fill-rule:evenodd;stroke:#000000;stroke-width:2.0px;stroke-linecap:butt;stroke-linejoin:miter;stroke-opacity:1\"/>\n",
       "<path class=\"bond-17 atom-17 atom-18\" d=\"M 1107.9,509.9 L 1108.1,501.8\" style=\"fill:none;fill-rule:evenodd;stroke:#FF0000;stroke-width:2.0px;stroke-linecap:butt;stroke-linejoin:miter;stroke-opacity:1\"/>\n",
       "<path class=\"bond-17 atom-17 atom-18\" d=\"M 1111.6,518.1 L 1111.8,510.0\" style=\"fill:none;fill-rule:evenodd;stroke:#000000;stroke-width:2.0px;stroke-linecap:butt;stroke-linejoin:miter;stroke-opacity:1\"/>\n",
       "<path class=\"bond-17 atom-17 atom-18\" d=\"M 1111.8,510.0 L 1112.1,501.9\" style=\"fill:none;fill-rule:evenodd;stroke:#FF0000;stroke-width:2.0px;stroke-linecap:butt;stroke-linejoin:miter;stroke-opacity:1\"/>\n",
       "<path class=\"bond-18 atom-17 atom-19\" d=\"M 1109.6,518.0 L 1116.4,522.2\" style=\"fill:none;fill-rule:evenodd;stroke:#000000;stroke-width:2.0px;stroke-linecap:butt;stroke-linejoin:miter;stroke-opacity:1\"/>\n",
       "<path class=\"bond-18 atom-17 atom-19\" d=\"M 1116.4,522.2 L 1123.2,526.4\" style=\"fill:none;fill-rule:evenodd;stroke:#FF0000;stroke-width:2.0px;stroke-linecap:butt;stroke-linejoin:miter;stroke-opacity:1\"/>\n",
       "<path class=\"bond-19 atom-19 atom-20\" d=\"M 1129.7,526.7 L 1136.8,522.9\" style=\"fill:none;fill-rule:evenodd;stroke:#FF0000;stroke-width:2.0px;stroke-linecap:butt;stroke-linejoin:miter;stroke-opacity:1\"/>\n",
       "<path class=\"bond-19 atom-19 atom-20\" d=\"M 1136.8,522.9 L 1143.9,519.0\" style=\"fill:none;fill-rule:evenodd;stroke:#000000;stroke-width:2.0px;stroke-linecap:butt;stroke-linejoin:miter;stroke-opacity:1\"/>\n",
       "<path class=\"bond-20 atom-20 atom-21\" d=\"M 1143.9,519.0 L 1160.7,529.4\" style=\"fill:none;fill-rule:evenodd;stroke:#000000;stroke-width:2.0px;stroke-linecap:butt;stroke-linejoin:miter;stroke-opacity:1\"/>\n",
       "<path class=\"bond-21 atom-21 atom-22\" d=\"M 1160.7,529.4 L 1160.1,549.2\" style=\"fill:none;fill-rule:evenodd;stroke:#000000;stroke-width:2.0px;stroke-linecap:butt;stroke-linejoin:miter;stroke-opacity:1\"/>\n",
       "<path class=\"bond-22 atom-22 atom-23\" d=\"M 1161.0,551.0 L 1153.9,554.8\" style=\"fill:none;fill-rule:evenodd;stroke:#000000;stroke-width:2.0px;stroke-linecap:butt;stroke-linejoin:miter;stroke-opacity:1\"/>\n",
       "<path class=\"bond-22 atom-22 atom-23\" d=\"M 1153.9,554.8 L 1146.8,558.6\" style=\"fill:none;fill-rule:evenodd;stroke:#FF0000;stroke-width:2.0px;stroke-linecap:butt;stroke-linejoin:miter;stroke-opacity:1\"/>\n",
       "<path class=\"bond-22 atom-22 atom-23\" d=\"M 1159.2,547.5 L 1152.1,551.3\" style=\"fill:none;fill-rule:evenodd;stroke:#000000;stroke-width:2.0px;stroke-linecap:butt;stroke-linejoin:miter;stroke-opacity:1\"/>\n",
       "<path class=\"bond-22 atom-22 atom-23\" d=\"M 1152.1,551.3 L 1145.0,555.1\" style=\"fill:none;fill-rule:evenodd;stroke:#FF0000;stroke-width:2.0px;stroke-linecap:butt;stroke-linejoin:miter;stroke-opacity:1\"/>\n",
       "<path class=\"bond-23 atom-22 atom-24\" d=\"M 1160.1,549.2 L 1166.9,553.4\" style=\"fill:none;fill-rule:evenodd;stroke:#000000;stroke-width:2.0px;stroke-linecap:butt;stroke-linejoin:miter;stroke-opacity:1\"/>\n",
       "<path class=\"bond-23 atom-22 atom-24\" d=\"M 1166.9,553.4 L 1173.7,557.6\" style=\"fill:none;fill-rule:evenodd;stroke:#FF0000;stroke-width:2.0px;stroke-linecap:butt;stroke-linejoin:miter;stroke-opacity:1\"/>\n",
       "<path class=\"bond-24 atom-20 atom-25\" d=\"M 1143.9,519.0 L 1144.4,499.3\" style=\"fill:none;fill-rule:evenodd;stroke:#000000;stroke-width:2.0px;stroke-linecap:butt;stroke-linejoin:miter;stroke-opacity:1\"/>\n",
       "<path class=\"bond-25 atom-25 atom-26\" d=\"M 1144.4,499.3 L 1151.8,495.3\" style=\"fill:none;fill-rule:evenodd;stroke:#000000;stroke-width:2.0px;stroke-linecap:butt;stroke-linejoin:miter;stroke-opacity:1\"/>\n",
       "<path class=\"bond-25 atom-25 atom-26\" d=\"M 1151.8,495.3 L 1159.1,491.4\" style=\"fill:none;fill-rule:evenodd;stroke:#0000FF;stroke-width:2.0px;stroke-linecap:butt;stroke-linejoin:miter;stroke-opacity:1\"/>\n",
       "<path class=\"bond-26 atom-26 atom-27\" d=\"M 1160.0,486.4 L 1156.2,479.5\" style=\"fill:none;fill-rule:evenodd;stroke:#0000FF;stroke-width:2.0px;stroke-linecap:butt;stroke-linejoin:miter;stroke-opacity:1\"/>\n",
       "<path class=\"bond-26 atom-26 atom-27\" d=\"M 1156.2,479.5 L 1152.5,472.5\" style=\"fill:none;fill-rule:evenodd;stroke:#000000;stroke-width:2.0px;stroke-linecap:butt;stroke-linejoin:miter;stroke-opacity:1\"/>\n",
       "<path class=\"bond-27 atom-26 atom-28\" d=\"M 1163.7,493.3 L 1167.5,500.3\" style=\"fill:none;fill-rule:evenodd;stroke:#0000FF;stroke-width:2.0px;stroke-linecap:butt;stroke-linejoin:miter;stroke-opacity:1\"/>\n",
       "<path class=\"bond-27 atom-26 atom-28\" d=\"M 1167.5,500.3 L 1171.2,507.3\" style=\"fill:none;fill-rule:evenodd;stroke:#000000;stroke-width:2.0px;stroke-linecap:butt;stroke-linejoin:miter;stroke-opacity:1\"/>\n",
       "<path class=\"bond-28 atom-26 atom-29\" d=\"M 1167.7,486.7 L 1173.5,483.6\" style=\"fill:none;fill-rule:evenodd;stroke:#0000FF;stroke-width:2.0px;stroke-linecap:butt;stroke-linejoin:miter;stroke-opacity:1\"/>\n",
       "<path class=\"bond-28 atom-26 atom-29\" d=\"M 1173.5,483.6 L 1179.3,480.5\" style=\"fill:none;fill-rule:evenodd;stroke:#000000;stroke-width:2.0px;stroke-linecap:butt;stroke-linejoin:miter;stroke-opacity:1\"/>\n",
       "<path class=\"atom-18\" d=\"M 1107.6 498.3 Q 1107.6 496.9, 1108.3 496.2 Q 1108.9 495.4, 1110.2 495.4 Q 1111.4 495.4, 1112.1 496.2 Q 1112.8 496.9, 1112.8 498.3 Q 1112.8 499.6, 1112.1 500.4 Q 1111.4 501.2, 1110.2 501.2 Q 1109.0 501.2, 1108.3 500.4 Q 1107.6 499.6, 1107.6 498.3 M 1110.2 500.5 Q 1111.0 500.5, 1111.5 500.0 Q 1112.0 499.4, 1112.0 498.3 Q 1112.0 497.2, 1111.5 496.6 Q 1111.0 496.1, 1110.2 496.1 Q 1109.3 496.1, 1108.9 496.6 Q 1108.4 497.2, 1108.4 498.3 Q 1108.4 499.4, 1108.9 500.0 Q 1109.3 500.5, 1110.2 500.5 \" fill=\"#FF0000\"/>\n",
       "<path class=\"atom-19\" d=\"M 1123.9 528.4 Q 1123.9 527.1, 1124.5 526.3 Q 1125.2 525.6, 1126.4 525.6 Q 1127.7 525.6, 1128.3 526.3 Q 1129.0 527.1, 1129.0 528.4 Q 1129.0 529.8, 1128.3 530.6 Q 1127.7 531.3, 1126.4 531.3 Q 1125.2 531.3, 1124.5 530.6 Q 1123.9 529.8, 1123.9 528.4 M 1126.4 530.7 Q 1127.3 530.7, 1127.7 530.1 Q 1128.2 529.6, 1128.2 528.4 Q 1128.2 527.3, 1127.7 526.8 Q 1127.3 526.2, 1126.4 526.2 Q 1125.6 526.2, 1125.1 526.8 Q 1124.7 527.3, 1124.7 528.4 Q 1124.7 529.6, 1125.1 530.1 Q 1125.6 530.7, 1126.4 530.7 \" fill=\"#FF0000\"/>\n",
       "<path class=\"atom-23\" d=\"M 1140.1 558.6 Q 1140.1 557.3, 1140.8 556.5 Q 1141.4 555.8, 1142.7 555.8 Q 1143.9 555.8, 1144.6 556.5 Q 1145.3 557.3, 1145.3 558.6 Q 1145.3 560.0, 1144.6 560.7 Q 1143.9 561.5, 1142.7 561.5 Q 1141.4 561.5, 1140.8 560.7 Q 1140.1 560.0, 1140.1 558.6 M 1142.7 560.9 Q 1143.5 560.9, 1144.0 560.3 Q 1144.5 559.7, 1144.5 558.6 Q 1144.5 557.5, 1144.0 557.0 Q 1143.5 556.4, 1142.7 556.4 Q 1141.8 556.4, 1141.4 556.9 Q 1140.9 557.5, 1140.9 558.6 Q 1140.9 559.7, 1141.4 560.3 Q 1141.8 560.9, 1142.7 560.9 \" fill=\"#FF0000\"/>\n",
       "<path class=\"atom-24\" d=\"M 1174.4 559.6 Q 1174.4 558.3, 1175.0 557.5 Q 1175.7 556.8, 1176.9 556.8 Q 1178.2 556.8, 1178.8 557.5 Q 1179.5 558.3, 1179.5 559.6 Q 1179.5 561.0, 1178.8 561.8 Q 1178.2 562.5, 1176.9 562.5 Q 1175.7 562.5, 1175.0 561.8 Q 1174.4 561.0, 1174.4 559.6 M 1176.9 561.9 Q 1177.8 561.9, 1178.2 561.3 Q 1178.7 560.7, 1178.7 559.6 Q 1178.7 558.5, 1178.2 558.0 Q 1177.8 557.4, 1176.9 557.4 Q 1176.1 557.4, 1175.6 558.0 Q 1175.2 558.5, 1175.2 559.6 Q 1175.2 560.8, 1175.6 561.3 Q 1176.1 561.9, 1176.9 561.9 \" fill=\"#FF0000\"/>\n",
       "<path class=\"atom-24\" d=\"M 1179.9 557.7 L 1181.8 557.7 L 1181.8 558.1 L 1179.9 558.1 L 1179.9 557.7 \" fill=\"#FF0000\"/>\n",
       "<path class=\"atom-26\" d=\"M 1160.6 487.1 L 1162.5 490.1 Q 1162.6 490.3, 1162.9 490.9 Q 1163.2 491.4, 1163.2 491.4 L 1163.2 487.1 L 1164.0 487.1 L 1164.0 492.7 L 1163.2 492.7 L 1161.2 489.4 Q 1161.0 489.1, 1160.8 488.6 Q 1160.5 488.2, 1160.5 488.1 L 1160.5 492.7 L 1159.7 492.7 L 1159.7 487.1 L 1160.6 487.1 \" fill=\"#0000FF\"/>\n",
       "<path class=\"atom-26\" d=\"M 1164.6 488.1 L 1165.6 488.1 L 1165.6 487.1 L 1166.1 487.1 L 1166.1 488.1 L 1167.1 488.1 L 1167.1 488.5 L 1166.1 488.5 L 1166.1 489.5 L 1165.6 489.5 L 1165.6 488.5 L 1164.6 488.5 L 1164.6 488.1 \" fill=\"#0000FF\"/>\n",
       "<path class=\"legend\" d=\"M 879.2 585.1 L 884.8 585.1 L 884.8 586.2 L 880.5 586.2 L 880.5 589.0 L 884.3 589.0 L 884.3 590.1 L 880.5 590.1 L 880.5 594.4 L 879.2 594.4 L 879.2 585.1 \" fill=\"#000000\"/>\n",
       "<path class=\"legend\" d=\"M 886.5 585.1 L 889.6 590.0 Q 889.9 590.5, 890.4 591.4 Q 890.9 592.3, 890.9 592.3 L 890.9 585.1 L 892.1 585.1 L 892.1 594.4 L 890.8 594.4 L 887.6 589.0 Q 887.2 588.4, 886.8 587.7 Q 886.4 586.9, 886.3 586.7 L 886.3 594.4 L 885.1 594.4 L 885.1 585.1 L 886.5 585.1 \" fill=\"#000000\"/>\n",
       "<path class=\"legend\" d=\"M 896.0 585.1 Q 897.5 585.1, 898.3 585.8 Q 899.1 586.5, 899.1 587.8 Q 899.1 589.1, 898.3 589.9 Q 897.5 590.6, 896.0 590.6 L 894.5 590.6 L 894.5 594.4 L 893.2 594.4 L 893.2 585.1 L 896.0 585.1 M 896.0 589.5 Q 896.9 589.5, 897.3 589.1 Q 897.8 588.7, 897.8 587.8 Q 897.8 587.0, 897.3 586.6 Q 896.9 586.2, 896.0 586.2 L 894.5 586.2 L 894.5 589.5 L 896.0 589.5 \" fill=\"#000000\"/>\n",
       "<path class=\"legend\" d=\"M 899.8 585.1 L 901.0 585.1 L 901.0 589.1 L 905.8 589.1 L 905.8 585.1 L 907.0 585.1 L 907.0 594.4 L 905.8 594.4 L 905.8 590.1 L 901.0 590.1 L 901.0 594.4 L 899.8 594.4 L 899.8 585.1 \" fill=\"#000000\"/>\n",
       "<path class=\"legend\" d=\"M 909.6 585.1 L 912.7 590.0 Q 913.0 590.5, 913.5 591.4 Q 914.0 592.3, 914.0 592.3 L 914.0 585.1 L 915.2 585.1 L 915.2 594.4 L 913.9 594.4 L 910.7 589.0 Q 910.3 588.4, 909.9 587.7 Q 909.5 586.9, 909.4 586.7 L 909.4 594.4 L 908.2 594.4 L 908.2 585.1 L 909.6 585.1 \" fill=\"#000000\"/>\n",
       "<path class=\"legend\" d=\"M 916.3 585.1 L 917.6 585.1 L 917.6 593.3 L 921.8 593.3 L 921.8 594.4 L 916.3 594.4 L 916.3 585.1 \" fill=\"#000000\"/>\n",
       "<path class=\"legend\" d=\"M 923.7 585.1 L 926.7 590.0 Q 927.0 590.5, 927.5 591.4 Q 928.0 592.3, 928.0 592.3 L 928.0 585.1 L 929.2 585.1 L 929.2 594.4 L 928.0 594.4 L 924.7 589.0 Q 924.3 588.4, 923.9 587.7 Q 923.5 586.9, 923.4 586.7 L 923.4 594.4 L 922.2 594.4 L 922.2 585.1 L 923.7 585.1 \" fill=\"#000000\"/>\n",
       "<path class=\"legend\" d=\"M 933.2 586.2 L 930.3 586.2 L 930.3 585.1 L 937.2 585.1 L 937.2 586.2 L 934.5 586.2 L 934.5 594.4 L 933.2 594.4 L 933.2 586.2 \" fill=\"#000000\"/>\n",
       "<path class=\"legend\" d=\"M 937.2 595.3 Q 937.2 595.3, 937.8 594.9 Q 938.4 594.6, 938.8 594.1 Q 939.3 593.5, 939.3 592.8 L 939.3 586.2 L 937.4 586.2 L 937.4 585.1 L 940.5 585.1 L 940.5 592.8 Q 940.5 593.9, 939.9 594.6 Q 939.3 595.4, 938.5 595.9 Q 937.7 596.3, 937.7 596.2 L 937.2 595.3 \" fill=\"#000000\"/>\n",
       "<path class=\"legend\" d=\"M 943.1 585.1 L 946.2 590.0 Q 946.5 590.5, 946.9 591.4 Q 947.4 592.3, 947.5 592.3 L 947.5 585.1 L 948.7 585.1 L 948.7 594.4 L 947.4 594.4 L 944.1 589.0 Q 943.8 588.4, 943.4 587.7 Q 943.0 586.9, 942.8 586.7 L 942.8 594.4 L 941.6 594.4 L 941.6 585.1 L 943.1 585.1 \" fill=\"#000000\"/>\n",
       "<path class=\"legend\" d=\"M 960.4 594.4 L 959.2 594.4 L 958.2 586.8 L 955.7 594.4 L 954.5 594.4 L 952.0 586.8 L 951.0 594.4 L 949.8 594.4 L 951.0 585.1 L 952.5 585.1 L 955.1 592.6 L 957.7 585.1 L 959.2 585.1 L 960.4 594.4 \" fill=\"#000000\"/>\n",
       "<path class=\"legend\" d=\"M 968.1 594.4 L 967.2 591.7 L 963.5 591.7 L 962.5 594.4 L 961.3 594.4 L 964.5 585.1 L 966.0 585.1 L 969.4 594.4 L 968.1 594.4 M 963.8 590.6 L 966.8 590.6 L 965.3 586.4 L 963.8 590.6 \" fill=\"#000000\"/>\n",
       "<path class=\"legend\" d=\"M 969.5 585.1 L 975.0 585.1 L 975.0 586.2 L 970.8 586.2 L 970.8 589.0 L 974.6 589.0 L 974.6 590.1 L 970.8 590.1 L 970.8 593.3 L 975.2 593.3 L 975.2 594.4 L 969.5 594.4 L 969.5 585.1 \" fill=\"#000000\"/>\n",
       "<path class=\"legend\" d=\"M 975.8 585.1 L 981.4 585.1 L 981.4 586.2 L 977.1 586.2 L 977.1 589.0 L 980.9 589.0 L 980.9 590.1 L 977.1 590.1 L 977.1 593.3 L 981.5 593.3 L 981.5 594.4 L 975.8 594.4 L 975.8 585.1 \" fill=\"#000000\"/>\n",
       "<path class=\"legend\" d=\"\" fill=\"#000000\"/>\n",
       "<path class=\"legend\" d=\"M 986.5 592.9 L 987.8 592.9 L 987.8 594.2 L 986.5 594.2 L 986.5 592.9 M 986.5 588.4 L 987.8 588.4 L 987.8 589.7 L 986.5 589.7 L 986.5 588.4 \" fill=\"#000000\"/>\n",
       "<path class=\"legend\" d=\"\" fill=\"#000000\"/>\n",
       "<path class=\"legend\" d=\"M 993.2 589.7 Q 993.2 587.4, 994.3 586.2 Q 995.4 585.0, 997.4 585.0 Q 999.4 585.0, 1000.4 586.4 L 999.5 587.1 Q 998.8 586.1, 997.4 586.1 Q 996.0 586.1, 995.3 587.0 Q 994.6 588.0, 994.6 589.7 Q 994.6 591.6, 995.3 592.5 Q 996.1 593.5, 997.6 593.5 Q 998.6 593.5, 999.8 592.9 L 1000.2 593.8 Q 999.7 594.2, 999.0 594.3 Q 998.2 594.5, 997.4 594.5 Q 995.4 594.5, 994.3 593.3 Q 993.2 592.1, 993.2 589.7 \" fill=\"#000000\"/>\n",
       "<path class=\"legend\" d=\"M 1000.9 589.7 Q 1000.9 587.4, 1002.0 586.2 Q 1003.1 585.0, 1005.1 585.0 Q 1007.1 585.0, 1008.1 586.4 L 1007.2 587.1 Q 1006.5 586.1, 1005.1 586.1 Q 1003.7 586.1, 1003.0 587.0 Q 1002.3 588.0, 1002.3 589.7 Q 1002.3 591.6, 1003.0 592.5 Q 1003.8 593.5, 1005.3 593.5 Q 1006.3 593.5, 1007.5 592.9 L 1007.9 593.8 Q 1007.4 594.2, 1006.7 594.3 Q 1005.9 594.5, 1005.1 594.5 Q 1003.1 594.5, 1002.0 593.3 Q 1000.9 592.1, 1000.9 589.7 \" fill=\"#000000\"/>\n",
       "<path class=\"legend\" d=\"M 1019.3 594.4 L 1018.1 594.4 L 1017.1 586.8 L 1014.6 594.4 L 1013.3 594.4 L 1010.8 586.8 L 1009.8 594.4 L 1008.6 594.4 L 1009.8 585.1 L 1011.4 585.1 L 1013.9 592.6 L 1016.5 585.1 L 1018.1 585.1 L 1019.3 594.4 \" fill=\"#000000\"/>\n",
       "<path class=\"legend\" d=\"M 1020.5 593.0 Q 1020.6 593.0, 1021.0 593.2 Q 1021.4 593.4, 1021.9 593.5 Q 1022.4 593.6, 1022.9 593.6 Q 1023.7 593.6, 1024.3 593.2 Q 1024.8 592.7, 1024.8 592.0 Q 1024.8 591.5, 1024.5 591.2 Q 1024.3 590.8, 1023.9 590.7 Q 1023.5 590.5, 1022.8 590.3 Q 1022.0 590.1, 1021.5 589.8 Q 1021.0 589.6, 1020.6 589.1 Q 1020.3 588.6, 1020.3 587.7 Q 1020.3 586.6, 1021.1 585.9 Q 1021.9 585.1, 1023.5 585.1 Q 1024.5 585.1, 1025.8 585.6 L 1025.5 586.7 Q 1024.4 586.2, 1023.5 586.2 Q 1022.6 586.2, 1022.1 586.6 Q 1021.6 586.9, 1021.6 587.6 Q 1021.6 588.1, 1021.9 588.4 Q 1022.1 588.7, 1022.5 588.9 Q 1022.9 589.0, 1023.5 589.2 Q 1024.4 589.5, 1024.9 589.8 Q 1025.3 590.0, 1025.7 590.6 Q 1026.1 591.1, 1026.1 592.0 Q 1026.1 593.3, 1025.2 594.0 Q 1024.4 594.7, 1022.9 594.7 Q 1022.1 594.7, 1021.5 594.5 Q 1020.8 594.3, 1020.1 594.0 L 1020.5 593.0 \" fill=\"#000000\"/>\n",
       "<path class=\"legend\" d=\"M 1026.7 585.1 L 1027.9 585.1 L 1027.9 593.3 L 1032.2 593.3 L 1032.2 594.4 L 1026.7 594.4 L 1026.7 585.1 \" fill=\"#000000\"/>\n",
       "<path class=\"legend\" d=\"M 1032.6 585.1 L 1033.8 585.1 L 1033.8 594.4 L 1032.6 594.4 L 1032.6 585.1 \" fill=\"#000000\"/>\n",
       "<path class=\"legend\" d=\"M 1039.5 589.5 Q 1040.4 589.8, 1040.8 590.3 Q 1041.3 590.9, 1041.3 591.7 Q 1041.3 593.0, 1040.5 593.7 Q 1039.6 594.4, 1038.1 594.4 L 1035.0 594.4 L 1035.0 585.1 L 1037.7 585.1 Q 1039.3 585.1, 1040.1 585.7 Q 1040.9 586.4, 1040.9 587.6 Q 1040.9 589.0, 1039.5 589.5 M 1036.2 586.2 L 1036.2 589.1 L 1037.7 589.1 Q 1038.6 589.1, 1039.1 588.7 Q 1039.6 588.3, 1039.6 587.6 Q 1039.6 586.2, 1037.7 586.2 L 1036.2 586.2 M 1038.1 593.4 Q 1039.0 593.4, 1039.5 592.9 Q 1040.0 592.5, 1040.0 591.7 Q 1040.0 590.9, 1039.4 590.5 Q 1038.9 590.1, 1037.9 590.1 L 1036.2 590.1 L 1036.2 593.4 L 1038.1 593.4 \" fill=\"#000000\"/>\n",
       "<path class=\"legend\" d=\"M 1045.3 594.5 Q 1043.6 594.5, 1042.7 593.3 Q 1041.9 592.0, 1041.9 589.7 Q 1041.9 587.5, 1042.7 586.2 Q 1043.6 585.0, 1045.3 585.0 Q 1047.0 585.0, 1047.9 586.2 Q 1048.7 587.5, 1048.7 589.7 Q 1048.7 592.0, 1047.8 593.3 Q 1047.0 594.5, 1045.3 594.5 M 1045.3 593.5 Q 1046.3 593.5, 1046.9 592.5 Q 1047.4 591.6, 1047.4 589.7 Q 1047.4 587.9, 1046.9 587.0 Q 1046.3 586.1, 1045.3 586.1 Q 1044.3 586.1, 1043.7 587.0 Q 1043.2 587.9, 1043.2 589.7 Q 1043.2 591.6, 1043.7 592.5 Q 1044.3 593.5, 1045.3 593.5 \" fill=\"#000000\"/>\n",
       "<path class=\"legend\" d=\"M 1053.0 594.5 Q 1051.3 594.5, 1050.4 593.3 Q 1049.6 592.0, 1049.6 589.7 Q 1049.6 587.5, 1050.4 586.2 Q 1051.2 585.0, 1053.0 585.0 Q 1054.7 585.0, 1055.5 586.2 Q 1056.4 587.5, 1056.4 589.7 Q 1056.4 592.0, 1055.5 593.3 Q 1054.7 594.5, 1053.0 594.5 M 1053.0 593.5 Q 1054.0 593.5, 1054.5 592.5 Q 1055.1 591.6, 1055.1 589.7 Q 1055.1 587.9, 1054.5 587.0 Q 1054.0 586.1, 1053.0 586.1 Q 1052.0 586.1, 1051.4 587.0 Q 1050.9 587.9, 1050.9 589.7 Q 1050.9 591.6, 1051.4 592.5 Q 1052.0 593.5, 1053.0 593.5 \" fill=\"#000000\"/>\n",
       "<path class=\"legend\" d=\"M 1060.6 594.5 Q 1058.9 594.5, 1058.1 593.3 Q 1057.2 592.0, 1057.2 589.7 Q 1057.2 587.5, 1058.1 586.2 Q 1058.9 585.0, 1060.6 585.0 Q 1062.3 585.0, 1063.2 586.2 Q 1064.0 587.5, 1064.0 589.7 Q 1064.0 592.0, 1063.2 593.3 Q 1062.3 594.5, 1060.6 594.5 M 1060.6 593.5 Q 1061.6 593.5, 1062.2 592.5 Q 1062.7 591.6, 1062.7 589.7 Q 1062.7 587.9, 1062.2 587.0 Q 1061.6 586.1, 1060.6 586.1 Q 1059.6 586.1, 1059.1 587.0 Q 1058.5 587.9, 1058.5 589.7 Q 1058.5 591.6, 1059.1 592.5 Q 1059.6 593.5, 1060.6 593.5 \" fill=\"#000000\"/>\n",
       "<path class=\"legend\" d=\"M 1068.3 594.5 Q 1066.6 594.5, 1065.7 593.3 Q 1064.9 592.0, 1064.9 589.7 Q 1064.9 587.5, 1065.7 586.2 Q 1066.6 585.0, 1068.3 585.0 Q 1070.0 585.0, 1070.8 586.2 Q 1071.7 587.5, 1071.7 589.7 Q 1071.7 592.0, 1070.8 593.3 Q 1070.0 594.5, 1068.3 594.5 M 1068.3 593.5 Q 1069.3 593.5, 1069.8 592.5 Q 1070.4 591.6, 1070.4 589.7 Q 1070.4 587.9, 1069.8 587.0 Q 1069.3 586.1, 1068.3 586.1 Q 1067.3 586.1, 1066.7 587.0 Q 1066.2 587.9, 1066.2 589.7 Q 1066.2 591.6, 1066.7 592.5 Q 1067.3 593.5, 1068.3 593.5 \" fill=\"#000000\"/>\n",
       "<path class=\"legend\" d=\"M 1076.2 588.6 Q 1077.0 588.6, 1077.6 589.0 Q 1078.3 589.3, 1078.6 590.0 Q 1079.0 590.6, 1079.0 591.4 Q 1079.0 592.3, 1078.6 593.0 Q 1078.2 593.7, 1077.5 594.1 Q 1076.8 594.5, 1075.9 594.5 Q 1074.2 594.5, 1073.4 593.4 Q 1072.5 592.3, 1072.5 590.0 Q 1072.5 587.6, 1073.6 586.3 Q 1074.6 585.0, 1076.6 585.0 Q 1077.2 585.0, 1077.7 585.1 Q 1078.2 585.3, 1078.6 585.5 L 1078.1 586.4 Q 1077.4 586.1, 1076.6 586.1 Q 1075.3 586.1, 1074.6 586.9 Q 1074.0 587.7, 1073.9 589.5 Q 1074.3 589.1, 1074.9 588.8 Q 1075.5 588.6, 1076.2 588.6 M 1075.9 593.4 Q 1076.4 593.4, 1076.8 593.2 Q 1077.2 592.9, 1077.4 592.5 Q 1077.7 592.0, 1077.7 591.4 Q 1077.7 590.6, 1077.2 590.1 Q 1076.8 589.7, 1075.9 589.7 Q 1075.4 589.7, 1074.8 589.9 Q 1074.3 590.1, 1073.9 590.5 Q 1073.9 592.0, 1074.4 592.7 Q 1074.9 593.4, 1075.9 593.4 \" fill=\"#000000\"/>\n",
       "<path class=\"legend\" d=\"M 1083.1 588.6 Q 1083.9 588.6, 1084.6 588.9 Q 1085.3 589.3, 1085.6 589.9 Q 1086.0 590.6, 1086.0 591.5 Q 1086.0 592.4, 1085.5 593.1 Q 1085.1 593.8, 1084.3 594.2 Q 1083.6 594.5, 1082.7 594.5 Q 1081.8 594.5, 1081.0 594.2 Q 1080.3 593.9, 1079.7 593.3 L 1080.5 592.5 Q 1080.9 592.9, 1081.5 593.2 Q 1082.1 593.5, 1082.7 593.5 Q 1083.6 593.5, 1084.1 592.9 Q 1084.7 592.4, 1084.7 591.5 Q 1084.7 590.5, 1084.1 590.0 Q 1083.6 589.6, 1082.7 589.6 Q 1081.8 589.6, 1080.9 589.9 L 1080.2 589.6 L 1080.7 585.1 L 1085.4 585.1 L 1085.3 586.2 L 1081.7 586.2 L 1081.5 588.9 Q 1082.3 588.6, 1083.1 588.6 \" fill=\"#000000\"/>\n",
       "<path class=\"legend\" d=\"M 1091.4 589.5 Q 1092.2 589.8, 1092.7 590.4 Q 1093.2 590.9, 1093.2 591.9 Q 1093.2 592.6, 1092.8 593.3 Q 1092.4 593.9, 1091.7 594.2 Q 1090.9 594.5, 1090.0 594.5 Q 1088.4 594.5, 1087.5 593.8 Q 1086.6 593.1, 1086.6 591.9 Q 1086.6 591.1, 1087.0 590.5 Q 1087.4 590.0, 1088.2 589.5 Q 1087.6 589.2, 1087.3 588.7 Q 1087.0 588.2, 1087.0 587.4 Q 1087.0 586.3, 1087.8 585.6 Q 1088.6 585.0, 1089.9 585.0 Q 1091.3 585.0, 1092.1 585.6 Q 1092.9 586.3, 1092.9 587.4 Q 1092.9 588.1, 1092.5 588.6 Q 1092.1 589.1, 1091.4 589.5 M 1089.9 586.0 Q 1089.2 586.0, 1088.7 586.4 Q 1088.3 586.7, 1088.3 587.4 Q 1088.3 587.9, 1088.6 588.2 Q 1088.9 588.5, 1089.3 588.7 Q 1089.7 588.9, 1090.5 589.2 Q 1091.1 588.8, 1091.3 588.3 Q 1091.6 587.9, 1091.6 587.4 Q 1091.6 586.7, 1091.1 586.4 Q 1090.7 586.0, 1089.9 586.0 M 1090.0 593.6 Q 1090.9 593.6, 1091.4 593.1 Q 1091.9 592.6, 1091.9 591.8 Q 1091.9 591.3, 1091.6 591.0 Q 1091.4 590.7, 1090.9 590.5 Q 1090.5 590.3, 1089.8 590.1 L 1089.2 589.9 Q 1088.5 590.3, 1088.2 590.8 Q 1088.0 591.2, 1088.0 591.8 Q 1088.0 592.6, 1088.5 593.1 Q 1089.1 593.6, 1090.0 593.6 \" fill=\"#000000\"/>\n",
       "<path class=\"legend\" d=\"M 1094.6 593.4 L 1096.6 593.4 L 1096.6 586.4 L 1094.3 587.1 L 1094.0 586.3 L 1096.9 585.1 L 1097.8 585.2 L 1097.8 593.4 L 1099.7 593.4 L 1099.7 594.4 L 1094.6 594.4 L 1094.6 593.4 \" fill=\"#000000\"/>\n",
       "<path class=\"legend\" d=\"M 1103.3 585.0 Q 1105.0 585.0, 1105.8 586.1 Q 1106.7 587.2, 1106.7 589.5 Q 1106.7 592.0, 1105.6 593.2 Q 1104.6 594.5, 1102.6 594.5 Q 1102.0 594.5, 1101.5 594.4 Q 1101.1 594.3, 1100.6 594.0 L 1101.1 593.1 Q 1101.8 593.5, 1102.6 593.5 Q 1103.9 593.5, 1104.6 592.6 Q 1105.3 591.8, 1105.3 590.0 Q 1104.9 590.5, 1104.3 590.7 Q 1103.7 590.9, 1103.0 590.9 Q 1102.2 590.9, 1101.6 590.6 Q 1100.9 590.2, 1100.6 589.6 Q 1100.2 588.9, 1100.2 588.1 Q 1100.2 587.2, 1100.6 586.5 Q 1101.0 585.8, 1101.7 585.4 Q 1102.4 585.0, 1103.3 585.0 M 1101.5 588.1 Q 1101.5 588.9, 1102.0 589.4 Q 1102.4 589.9, 1103.3 589.9 Q 1103.8 589.9, 1104.4 589.6 Q 1104.9 589.4, 1105.3 589.0 Q 1105.3 587.5, 1104.8 586.8 Q 1104.3 586.1, 1103.3 586.1 Q 1102.8 586.1, 1102.4 586.3 Q 1102.0 586.6, 1101.8 587.1 Q 1101.5 587.5, 1101.5 588.1 \" fill=\"#000000\"/>\n",
       "<path class=\"legend\" d=\"M 1112.0 589.5 Q 1112.9 589.8, 1113.4 590.4 Q 1113.8 590.9, 1113.8 591.9 Q 1113.8 592.6, 1113.4 593.3 Q 1113.0 593.9, 1112.3 594.2 Q 1111.6 594.5, 1110.6 594.5 Q 1109.6 594.5, 1108.9 594.2 Q 1108.1 593.8, 1107.6 593.1 L 1108.3 592.4 Q 1108.9 593.0, 1109.4 593.3 Q 1109.9 593.5, 1110.6 593.5 Q 1111.5 593.5, 1112.0 593.0 Q 1112.5 592.6, 1112.5 591.8 Q 1112.5 590.9, 1112.0 590.5 Q 1111.4 590.0, 1110.3 590.0 L 1109.6 590.0 L 1109.6 589.1 L 1110.2 589.1 Q 1111.2 589.1, 1111.8 588.7 Q 1112.3 588.2, 1112.3 587.4 Q 1112.3 586.8, 1111.9 586.4 Q 1111.4 586.1, 1110.6 586.1 Q 1109.9 586.1, 1109.4 586.3 Q 1108.9 586.6, 1108.5 587.3 L 1107.6 586.8 Q 1108.0 586.0, 1108.8 585.5 Q 1109.5 585.0, 1110.6 585.0 Q 1112.0 585.0, 1112.8 585.6 Q 1113.6 586.3, 1113.6 587.4 Q 1113.6 588.1, 1113.2 588.7 Q 1112.8 589.2, 1112.0 589.5 \" fill=\"#000000\"/>\n",
       "<path class=\"legend\" d=\"M 1119.5 586.2 L 1114.6 586.2 L 1114.6 585.1 L 1120.8 585.1 L 1120.8 586.0 L 1117.0 594.4 L 1115.7 594.4 L 1119.5 586.2 \" fill=\"#000000\"/>\n",
       "<path class=\"bond-0 atom-0 atom-1\" d=\"M 1338.2,525.7 L 1355.6,516.4\" style=\"fill:none;fill-rule:evenodd;stroke:#000000;stroke-width:2.0px;stroke-linecap:butt;stroke-linejoin:miter;stroke-opacity:1\"/>\n",
       "<path class=\"bond-1 atom-1 atom-2\" d=\"M 1355.6,516.4 L 1355.9,508.3\" style=\"fill:none;fill-rule:evenodd;stroke:#000000;stroke-width:2.0px;stroke-linecap:butt;stroke-linejoin:miter;stroke-opacity:1\"/>\n",
       "<path class=\"bond-1 atom-1 atom-2\" d=\"M 1355.9,508.3 L 1356.2,500.2\" style=\"fill:none;fill-rule:evenodd;stroke:#FF0000;stroke-width:2.0px;stroke-linecap:butt;stroke-linejoin:miter;stroke-opacity:1\"/>\n",
       "<path class=\"bond-2 atom-1 atom-3\" d=\"M 1355.6,516.4 L 1372.4,526.9\" style=\"fill:none;fill-rule:evenodd;stroke:#000000;stroke-width:2.0px;stroke-linecap:butt;stroke-linejoin:miter;stroke-opacity:1\"/>\n",
       "<path class=\"bond-3 atom-3 atom-4\" d=\"M 1372.4,526.9 L 1389.9,517.7\" style=\"fill:none;fill-rule:evenodd;stroke:#000000;stroke-width:2.0px;stroke-linecap:butt;stroke-linejoin:miter;stroke-opacity:1\"/>\n",
       "<path class=\"bond-4 atom-4 atom-5\" d=\"M 1387.9,517.6 L 1388.2,509.5\" style=\"fill:none;fill-rule:evenodd;stroke:#000000;stroke-width:2.0px;stroke-linecap:butt;stroke-linejoin:miter;stroke-opacity:1\"/>\n",
       "<path class=\"bond-4 atom-4 atom-5\" d=\"M 1388.2,509.5 L 1388.5,501.4\" style=\"fill:none;fill-rule:evenodd;stroke:#FF0000;stroke-width:2.0px;stroke-linecap:butt;stroke-linejoin:miter;stroke-opacity:1\"/>\n",
       "<path class=\"bond-4 atom-4 atom-5\" d=\"M 1391.9,517.7 L 1392.2,509.6\" style=\"fill:none;fill-rule:evenodd;stroke:#000000;stroke-width:2.0px;stroke-linecap:butt;stroke-linejoin:miter;stroke-opacity:1\"/>\n",
       "<path class=\"bond-4 atom-4 atom-5\" d=\"M 1392.2,509.6 L 1392.4,501.6\" style=\"fill:none;fill-rule:evenodd;stroke:#FF0000;stroke-width:2.0px;stroke-linecap:butt;stroke-linejoin:miter;stroke-opacity:1\"/>\n",
       "<path class=\"bond-5 atom-4 atom-6\" d=\"M 1389.9,517.7 L 1396.7,521.9\" style=\"fill:none;fill-rule:evenodd;stroke:#000000;stroke-width:2.0px;stroke-linecap:butt;stroke-linejoin:miter;stroke-opacity:1\"/>\n",
       "<path class=\"bond-5 atom-4 atom-6\" d=\"M 1396.7,521.9 L 1403.4,526.2\" style=\"fill:none;fill-rule:evenodd;stroke:#FF0000;stroke-width:2.0px;stroke-linecap:butt;stroke-linejoin:miter;stroke-opacity:1\"/>\n",
       "<path class=\"bond-6 atom-6 atom-7\" d=\"M 1409.9,526.5 L 1417.0,522.7\" style=\"fill:none;fill-rule:evenodd;stroke:#FF0000;stroke-width:2.0px;stroke-linecap:butt;stroke-linejoin:miter;stroke-opacity:1\"/>\n",
       "<path class=\"bond-6 atom-6 atom-7\" d=\"M 1417.0,522.7 L 1424.1,518.9\" style=\"fill:none;fill-rule:evenodd;stroke:#000000;stroke-width:2.0px;stroke-linecap:butt;stroke-linejoin:miter;stroke-opacity:1\"/>\n",
       "<path class=\"bond-7 atom-7 atom-8\" d=\"M 1424.1,518.9 L 1440.9,529.4\" style=\"fill:none;fill-rule:evenodd;stroke:#000000;stroke-width:2.0px;stroke-linecap:butt;stroke-linejoin:miter;stroke-opacity:1\"/>\n",
       "<path class=\"bond-8 atom-8 atom-9\" d=\"M 1440.9,529.4 L 1440.2,549.2\" style=\"fill:none;fill-rule:evenodd;stroke:#000000;stroke-width:2.0px;stroke-linecap:butt;stroke-linejoin:miter;stroke-opacity:1\"/>\n",
       "<path class=\"bond-9 atom-9 atom-10\" d=\"M 1440.2,549.2 L 1447.0,553.4\" style=\"fill:none;fill-rule:evenodd;stroke:#000000;stroke-width:2.0px;stroke-linecap:butt;stroke-linejoin:miter;stroke-opacity:1\"/>\n",
       "<path class=\"bond-9 atom-9 atom-10\" d=\"M 1447.0,553.4 L 1453.7,557.7\" style=\"fill:none;fill-rule:evenodd;stroke:#FF0000;stroke-width:2.0px;stroke-linecap:butt;stroke-linejoin:miter;stroke-opacity:1\"/>\n",
       "<path class=\"bond-10 atom-9 atom-11\" d=\"M 1441.1,550.9 L 1434.0,554.7\" style=\"fill:none;fill-rule:evenodd;stroke:#000000;stroke-width:2.0px;stroke-linecap:butt;stroke-linejoin:miter;stroke-opacity:1\"/>\n",
       "<path class=\"bond-10 atom-9 atom-11\" d=\"M 1434.0,554.7 L 1426.9,558.5\" style=\"fill:none;fill-rule:evenodd;stroke:#FF0000;stroke-width:2.0px;stroke-linecap:butt;stroke-linejoin:miter;stroke-opacity:1\"/>\n",
       "<path class=\"bond-10 atom-9 atom-11\" d=\"M 1439.3,547.4 L 1432.1,551.2\" style=\"fill:none;fill-rule:evenodd;stroke:#000000;stroke-width:2.0px;stroke-linecap:butt;stroke-linejoin:miter;stroke-opacity:1\"/>\n",
       "<path class=\"bond-10 atom-9 atom-11\" d=\"M 1432.1,551.2 L 1425.0,555.0\" style=\"fill:none;fill-rule:evenodd;stroke:#FF0000;stroke-width:2.0px;stroke-linecap:butt;stroke-linejoin:miter;stroke-opacity:1\"/>\n",
       "<path class=\"bond-11 atom-7 atom-12\" d=\"M 1424.1,518.9 L 1424.8,499.1\" style=\"fill:none;fill-rule:evenodd;stroke:#000000;stroke-width:2.0px;stroke-linecap:butt;stroke-linejoin:miter;stroke-opacity:1\"/>\n",
       "<path class=\"bond-12 atom-12 atom-13\" d=\"M 1424.8,499.1 L 1432.2,495.2\" style=\"fill:none;fill-rule:evenodd;stroke:#000000;stroke-width:2.0px;stroke-linecap:butt;stroke-linejoin:miter;stroke-opacity:1\"/>\n",
       "<path class=\"bond-12 atom-12 atom-13\" d=\"M 1432.2,495.2 L 1439.5,491.3\" style=\"fill:none;fill-rule:evenodd;stroke:#0000FF;stroke-width:2.0px;stroke-linecap:butt;stroke-linejoin:miter;stroke-opacity:1\"/>\n",
       "<path class=\"bond-13 atom-13 atom-14\" d=\"M 1440.5,486.4 L 1436.8,479.4\" style=\"fill:none;fill-rule:evenodd;stroke:#0000FF;stroke-width:2.0px;stroke-linecap:butt;stroke-linejoin:miter;stroke-opacity:1\"/>\n",
       "<path class=\"bond-13 atom-13 atom-14\" d=\"M 1436.8,479.4 L 1433.1,472.4\" style=\"fill:none;fill-rule:evenodd;stroke:#000000;stroke-width:2.0px;stroke-linecap:butt;stroke-linejoin:miter;stroke-opacity:1\"/>\n",
       "<path class=\"bond-14 atom-13 atom-15\" d=\"M 1444.2,493.3 L 1447.9,500.3\" style=\"fill:none;fill-rule:evenodd;stroke:#0000FF;stroke-width:2.0px;stroke-linecap:butt;stroke-linejoin:miter;stroke-opacity:1\"/>\n",
       "<path class=\"bond-14 atom-13 atom-15\" d=\"M 1447.9,500.3 L 1451.6,507.4\" style=\"fill:none;fill-rule:evenodd;stroke:#000000;stroke-width:2.0px;stroke-linecap:butt;stroke-linejoin:miter;stroke-opacity:1\"/>\n",
       "<path class=\"bond-15 atom-13 atom-16\" d=\"M 1448.2,486.8 L 1454.0,483.7\" style=\"fill:none;fill-rule:evenodd;stroke:#0000FF;stroke-width:2.0px;stroke-linecap:butt;stroke-linejoin:miter;stroke-opacity:1\"/>\n",
       "<path class=\"bond-15 atom-13 atom-16\" d=\"M 1454.0,483.7 L 1459.8,480.6\" style=\"fill:none;fill-rule:evenodd;stroke:#000000;stroke-width:2.0px;stroke-linecap:butt;stroke-linejoin:miter;stroke-opacity:1\"/>\n",
       "<path class=\"atom-2\" d=\"M 1353.8 496.7 Q 1353.8 495.3, 1354.4 494.6 Q 1355.1 493.8, 1356.4 493.8 Q 1357.6 493.8, 1358.3 494.6 Q 1358.9 495.3, 1358.9 496.7 Q 1358.9 498.0, 1358.3 498.8 Q 1357.6 499.6, 1356.4 499.6 Q 1355.1 499.6, 1354.4 498.8 Q 1353.8 498.1, 1353.8 496.7 M 1356.4 499.0 Q 1357.2 499.0, 1357.7 498.4 Q 1358.1 497.8, 1358.1 496.7 Q 1358.1 495.6, 1357.7 495.0 Q 1357.2 494.5, 1356.4 494.5 Q 1355.5 494.5, 1355.0 495.0 Q 1354.6 495.6, 1354.6 496.7 Q 1354.6 497.8, 1355.0 498.4 Q 1355.5 499.0, 1356.4 499.0 \" fill=\"#FF0000\"/>\n",
       "<path class=\"atom-2\" d=\"M 1359.3 493.9 L 1360.1 493.9 L 1360.1 496.3 L 1362.9 496.3 L 1362.9 493.9 L 1363.7 493.9 L 1363.7 499.5 L 1362.9 499.5 L 1362.9 496.9 L 1360.1 496.9 L 1360.1 499.5 L 1359.3 499.5 L 1359.3 493.9 \" fill=\"#FF0000\"/>\n",
       "<path class=\"atom-5\" d=\"M 1388.0 497.9 Q 1388.0 496.6, 1388.7 495.8 Q 1389.4 495.1, 1390.6 495.1 Q 1391.8 495.1, 1392.5 495.8 Q 1393.2 496.6, 1393.2 497.9 Q 1393.2 499.3, 1392.5 500.1 Q 1391.8 500.8, 1390.6 500.8 Q 1389.4 500.8, 1388.7 500.1 Q 1388.0 499.3, 1388.0 497.9 M 1390.6 500.2 Q 1391.5 500.2, 1391.9 499.6 Q 1392.4 499.0, 1392.4 497.9 Q 1392.4 496.8, 1391.9 496.3 Q 1391.5 495.7, 1390.6 495.7 Q 1389.7 495.7, 1389.3 496.3 Q 1388.8 496.8, 1388.8 497.9 Q 1388.8 499.1, 1389.3 499.6 Q 1389.7 500.2, 1390.6 500.2 \" fill=\"#FF0000\"/>\n",
       "<path class=\"atom-6\" d=\"M 1404.1 528.2 Q 1404.1 526.8, 1404.7 526.1 Q 1405.4 525.3, 1406.7 525.3 Q 1407.9 525.3, 1408.6 526.1 Q 1409.2 526.8, 1409.2 528.2 Q 1409.2 529.6, 1408.6 530.3 Q 1407.9 531.1, 1406.7 531.1 Q 1405.4 531.1, 1404.7 530.3 Q 1404.1 529.6, 1404.1 528.2 M 1406.7 530.5 Q 1407.5 530.5, 1408.0 529.9 Q 1408.4 529.3, 1408.4 528.2 Q 1408.4 527.1, 1408.0 526.5 Q 1407.5 526.0, 1406.7 526.0 Q 1405.8 526.0, 1405.3 526.5 Q 1404.9 527.1, 1404.9 528.2 Q 1404.9 529.3, 1405.3 529.9 Q 1405.8 530.5, 1406.7 530.5 \" fill=\"#FF0000\"/>\n",
       "<path class=\"atom-10\" d=\"M 1454.4 559.7 Q 1454.4 558.4, 1455.0 557.6 Q 1455.7 556.9, 1456.9 556.9 Q 1458.2 556.9, 1458.9 557.6 Q 1459.5 558.4, 1459.5 559.7 Q 1459.5 561.1, 1458.8 561.8 Q 1458.2 562.6, 1456.9 562.6 Q 1455.7 562.6, 1455.0 561.8 Q 1454.4 561.1, 1454.4 559.7 M 1456.9 562.0 Q 1457.8 562.0, 1458.3 561.4 Q 1458.7 560.8, 1458.7 559.7 Q 1458.7 558.6, 1458.3 558.0 Q 1457.8 557.5, 1456.9 557.5 Q 1456.1 557.5, 1455.6 558.0 Q 1455.2 558.6, 1455.2 559.7 Q 1455.2 560.8, 1455.6 561.4 Q 1456.1 562.0, 1456.9 562.0 \" fill=\"#FF0000\"/>\n",
       "<path class=\"atom-10\" d=\"M 1459.9 557.8 L 1461.8 557.8 L 1461.8 558.2 L 1459.9 558.2 L 1459.9 557.8 \" fill=\"#FF0000\"/>\n",
       "<path class=\"atom-11\" d=\"M 1420.1 558.5 Q 1420.1 557.1, 1420.8 556.4 Q 1421.5 555.6, 1422.7 555.6 Q 1423.9 555.6, 1424.6 556.4 Q 1425.3 557.1, 1425.3 558.5 Q 1425.3 559.8, 1424.6 560.6 Q 1423.9 561.4, 1422.7 561.4 Q 1421.5 561.4, 1420.8 560.6 Q 1420.1 559.8, 1420.1 558.5 M 1422.7 560.7 Q 1423.6 560.7, 1424.0 560.2 Q 1424.5 559.6, 1424.5 558.5 Q 1424.5 557.4, 1424.0 556.8 Q 1423.6 556.3, 1422.7 556.3 Q 1421.9 556.3, 1421.4 556.8 Q 1420.9 557.4, 1420.9 558.5 Q 1420.9 559.6, 1421.4 560.2 Q 1421.9 560.7, 1422.7 560.7 \" fill=\"#FF0000\"/>\n",
       "<path class=\"atom-13\" d=\"M 1441.1 487.1 L 1442.9 490.0 Q 1443.1 490.3, 1443.4 490.9 Q 1443.7 491.4, 1443.7 491.4 L 1443.7 487.1 L 1444.4 487.1 L 1444.4 492.7 L 1443.7 492.7 L 1441.7 489.4 Q 1441.5 489.0, 1441.2 488.6 Q 1441.0 488.2, 1440.9 488.0 L 1440.9 492.7 L 1440.2 492.7 L 1440.2 487.1 L 1441.1 487.1 \" fill=\"#0000FF\"/>\n",
       "<path class=\"atom-13\" d=\"M 1445.1 488.1 L 1446.1 488.1 L 1446.1 487.0 L 1446.5 487.0 L 1446.5 488.1 L 1447.5 488.1 L 1447.5 488.5 L 1446.5 488.5 L 1446.5 489.5 L 1446.1 489.5 L 1446.1 488.5 L 1445.1 488.5 L 1445.1 488.1 \" fill=\"#0000FF\"/>\n",
       "<path class=\"legend\" d=\"M 1283.4 585.1 L 1283.4 590.9 Q 1283.4 591.8, 1284.0 592.3 Q 1284.5 592.8, 1285.6 592.8 Q 1286.7 592.8, 1287.2 592.3 Q 1287.8 591.9, 1287.8 590.9 L 1287.8 585.1 L 1289.0 585.1 L 1289.0 590.9 Q 1289.0 592.3, 1288.1 593.0 Q 1287.3 593.8, 1285.6 593.8 Q 1283.9 593.8, 1283.1 593.0 Q 1282.3 592.3, 1282.3 590.9 L 1282.3 585.1 L 1283.4 585.1 \" fill=\"#000000\"/>\n",
       "<path class=\"legend\" d=\"M 1289.9 585.1 L 1295.0 585.1 L 1295.0 586.1 L 1291.1 586.1 L 1291.1 588.7 L 1294.6 588.7 L 1294.6 589.7 L 1291.1 589.7 L 1291.1 592.7 L 1295.1 592.7 L 1295.1 593.7 L 1289.9 593.7 L 1289.9 585.1 \" fill=\"#000000\"/>\n",
       "<path class=\"legend\" d=\"M 1295.7 585.1 L 1300.8 585.1 L 1300.8 586.1 L 1296.9 586.1 L 1296.9 588.7 L 1300.4 588.7 L 1300.4 589.7 L 1296.9 589.7 L 1296.9 593.7 L 1295.7 593.7 L 1295.7 585.1 \" fill=\"#000000\"/>\n",
       "<path class=\"legend\" d=\"M 1305.7 593.7 L 1303.6 590.1 L 1303.6 590.1 L 1302.2 590.1 L 1302.2 593.7 L 1301.1 593.7 L 1301.1 585.1 L 1303.6 585.1 Q 1305.1 585.1, 1305.8 585.8 Q 1306.6 586.4, 1306.6 587.6 Q 1306.6 588.5, 1306.1 589.1 Q 1305.7 589.7, 1304.8 590.0 L 1307.0 593.7 L 1305.7 593.7 M 1302.2 589.2 L 1303.6 589.2 Q 1304.4 589.2, 1304.9 588.8 Q 1305.3 588.4, 1305.3 587.6 Q 1305.3 586.9, 1304.9 586.5 Q 1304.5 586.1, 1303.6 586.1 L 1302.2 586.1 L 1302.2 589.2 \" fill=\"#000000\"/>\n",
       "<path class=\"legend\" d=\"M 1310.0 585.1 Q 1311.9 585.1, 1313.0 586.2 Q 1314.0 587.3, 1314.0 589.4 Q 1314.0 591.4, 1312.9 592.5 Q 1311.9 593.7, 1310.0 593.7 L 1307.3 593.7 L 1307.3 585.1 L 1310.0 585.1 M 1310.0 592.7 Q 1311.3 592.7, 1312.0 591.9 Q 1312.8 591.0, 1312.8 589.4 Q 1312.8 587.7, 1312.0 586.9 Q 1311.3 586.1, 1310.0 586.1 L 1308.4 586.1 L 1308.4 592.7 L 1310.0 592.7 \" fill=\"#000000\"/>\n",
       "<path class=\"legend\" d=\"M 1320.4 595.2 Q 1320.8 595.2, 1321.3 595.0 L 1321.6 596.0 Q 1321.0 596.3, 1320.3 596.3 Q 1319.3 596.3, 1318.6 595.6 Q 1317.9 595.0, 1317.8 593.7 Q 1316.2 593.5, 1315.3 592.4 Q 1314.5 591.2, 1314.5 589.4 Q 1314.5 587.3, 1315.5 586.1 Q 1316.5 585.0, 1318.4 585.0 Q 1320.3 585.0, 1321.4 586.1 Q 1322.4 587.3, 1322.4 589.4 Q 1322.4 591.4, 1321.4 592.5 Q 1320.5 593.7, 1318.7 593.8 Q 1318.9 594.4, 1319.3 594.8 Q 1319.8 595.2, 1320.4 595.2 M 1315.7 589.4 Q 1315.7 591.1, 1316.4 592.0 Q 1317.1 592.8, 1318.4 592.8 Q 1319.8 592.8, 1320.5 592.0 Q 1321.2 591.1, 1321.2 589.4 Q 1321.2 587.7, 1320.5 586.8 Q 1319.8 586.0, 1318.4 586.0 Q 1317.1 586.0, 1316.4 586.8 Q 1315.7 587.7, 1315.7 589.4 \" fill=\"#000000\"/>\n",
       "<path class=\"legend\" d=\"M 1323.3 592.3 Q 1323.4 592.4, 1323.8 592.5 Q 1324.2 592.7, 1324.6 592.8 Q 1325.1 592.9, 1325.5 592.9 Q 1326.3 592.9, 1326.8 592.5 Q 1327.3 592.1, 1327.3 591.4 Q 1327.3 591.0, 1327.0 590.7 Q 1326.8 590.4, 1326.4 590.2 Q 1326.1 590.1, 1325.5 589.9 Q 1324.7 589.7, 1324.3 589.4 Q 1323.8 589.2, 1323.5 588.8 Q 1323.2 588.3, 1323.2 587.5 Q 1323.2 586.5, 1323.9 585.8 Q 1324.6 585.1, 1326.1 585.1 Q 1327.1 585.1, 1328.2 585.6 L 1327.9 586.5 Q 1326.9 586.1, 1326.1 586.1 Q 1325.3 586.1, 1324.8 586.5 Q 1324.4 586.8, 1324.4 587.4 Q 1324.4 587.8, 1324.6 588.1 Q 1324.8 588.4, 1325.2 588.6 Q 1325.5 588.7, 1326.1 588.9 Q 1326.9 589.1, 1327.3 589.4 Q 1327.8 589.6, 1328.1 590.1 Q 1328.5 590.6, 1328.5 591.4 Q 1328.5 592.6, 1327.7 593.3 Q 1326.9 593.9, 1325.6 593.9 Q 1324.8 593.9, 1324.2 593.7 Q 1323.7 593.6, 1323.0 593.3 L 1323.3 592.3 \" fill=\"#000000\"/>\n",
       "<path class=\"legend\" d=\"M 1338.8 593.7 L 1337.7 593.7 L 1336.8 586.7 L 1334.5 593.7 L 1333.3 593.7 L 1331.0 586.7 L 1330.1 593.7 L 1329.0 593.7 L 1330.1 585.1 L 1331.6 585.1 L 1333.9 592.0 L 1336.3 585.1 L 1337.7 585.1 L 1338.8 593.7 \" fill=\"#000000\"/>\n",
       "<path class=\"legend\" d=\"M 1345.5 595.2 Q 1345.9 595.2, 1346.4 595.0 L 1346.7 596.0 Q 1346.1 596.3, 1345.4 596.3 Q 1344.4 596.3, 1343.7 595.6 Q 1343.0 595.0, 1342.9 593.7 Q 1341.3 593.5, 1340.4 592.4 Q 1339.6 591.2, 1339.6 589.4 Q 1339.6 587.3, 1340.6 586.1 Q 1341.6 585.0, 1343.5 585.0 Q 1345.4 585.0, 1346.5 586.1 Q 1347.5 587.3, 1347.5 589.4 Q 1347.5 591.4, 1346.5 592.5 Q 1345.6 593.7, 1343.8 593.8 Q 1344.0 594.4, 1344.4 594.8 Q 1344.9 595.2, 1345.5 595.2 M 1340.8 589.4 Q 1340.8 591.1, 1341.5 592.0 Q 1342.2 592.8, 1343.5 592.8 Q 1344.9 592.8, 1345.6 592.0 Q 1346.3 591.1, 1346.3 589.4 Q 1346.3 587.7, 1345.6 586.8 Q 1344.9 586.0, 1343.5 586.0 Q 1342.2 586.0, 1341.5 586.8 Q 1340.8 587.7, 1340.8 589.4 \" fill=\"#000000\"/>\n",
       "<path class=\"legend\" d=\"M 1355.8 593.7 L 1354.5 593.7 L 1351.9 590.1 L 1349.4 593.7 L 1348.1 593.7 L 1351.3 589.2 L 1348.3 585.1 L 1349.7 585.1 L 1352.0 588.3 L 1354.3 585.1 L 1355.6 585.1 L 1352.7 589.3 L 1355.8 593.7 \" fill=\"#000000\"/>\n",
       "<path class=\"legend\" d=\"M 1358.6 585.1 Q 1360.5 585.1, 1361.5 586.2 Q 1362.6 587.3, 1362.6 589.4 Q 1362.6 591.4, 1361.5 592.5 Q 1360.5 593.7, 1358.6 593.7 L 1355.8 593.7 L 1355.8 585.1 L 1358.6 585.1 M 1358.6 592.7 Q 1359.9 592.7, 1360.6 591.9 Q 1361.3 591.0, 1361.3 589.4 Q 1361.3 587.7, 1360.6 586.9 Q 1359.9 586.1, 1358.6 586.1 L 1357.0 586.1 L 1357.0 592.7 L 1358.6 592.7 \" fill=\"#000000\"/>\n",
       "<path class=\"legend\" d=\"M 1373.8 585.1 L 1374.9 585.1 L 1372.6 593.7 L 1370.9 593.7 L 1369.0 586.5 L 1367.1 593.7 L 1365.4 593.7 L 1363.1 585.1 L 1364.3 585.1 L 1366.3 592.6 L 1368.2 585.1 L 1369.8 585.1 L 1371.7 592.6 L 1373.8 585.1 \" fill=\"#000000\"/>\n",
       "<path class=\"legend\" d=\"M 1377.9 586.1 L 1375.3 586.1 L 1375.3 585.1 L 1381.6 585.1 L 1381.6 586.1 L 1379.1 586.1 L 1379.1 593.7 L 1377.9 593.7 L 1377.9 586.1 \" fill=\"#000000\"/>\n",
       "<path class=\"legend\" d=\"M 1381.6 589.4 Q 1381.6 587.3, 1382.6 586.1 Q 1383.6 585.0, 1385.5 585.0 Q 1387.4 585.0, 1388.4 586.1 Q 1389.4 587.3, 1389.4 589.4 Q 1389.4 591.4, 1388.4 592.6 Q 1387.4 593.8, 1385.5 593.8 Q 1383.6 593.8, 1382.6 592.6 Q 1381.6 591.4, 1381.6 589.4 M 1385.5 592.8 Q 1386.8 592.8, 1387.5 592.0 Q 1388.2 591.1, 1388.2 589.4 Q 1388.2 587.7, 1387.5 586.8 Q 1386.8 586.0, 1385.5 586.0 Q 1384.2 586.0, 1383.5 586.8 Q 1382.8 587.7, 1382.8 589.4 Q 1382.8 591.1, 1383.5 592.0 Q 1384.2 592.8, 1385.5 592.8 \" fill=\"#000000\"/>\n",
       "<path class=\"legend\" d=\"\" fill=\"#000000\"/>\n",
       "<path class=\"legend\" d=\"M 1394.1 592.2 L 1395.3 592.2 L 1395.3 593.5 L 1394.1 593.5 L 1394.1 592.2 M 1394.1 588.1 L 1395.3 588.1 L 1395.3 589.3 L 1394.1 589.3 L 1394.1 588.1 \" fill=\"#000000\"/>\n",
       "<path class=\"legend\" d=\"\" fill=\"#000000\"/>\n",
       "<path class=\"legend\" d=\"M 1400.2 589.4 Q 1400.2 587.2, 1401.2 586.1 Q 1402.2 585.0, 1404.1 585.0 Q 1405.9 585.0, 1406.8 586.2 L 1406.0 586.9 Q 1405.3 586.0, 1404.1 586.0 Q 1402.8 586.0, 1402.1 586.9 Q 1401.4 587.7, 1401.4 589.4 Q 1401.4 591.1, 1402.2 591.9 Q 1402.9 592.8, 1404.2 592.8 Q 1405.2 592.8, 1406.3 592.2 L 1406.6 593.1 Q 1406.2 593.4, 1405.5 593.6 Q 1404.8 593.8, 1404.1 593.8 Q 1402.2 593.8, 1401.2 592.6 Q 1400.2 591.5, 1400.2 589.4 \" fill=\"#000000\"/>\n",
       "<path class=\"legend\" d=\"M 1407.3 589.4 Q 1407.3 587.2, 1408.3 586.1 Q 1409.3 585.0, 1411.2 585.0 Q 1413.0 585.0, 1413.9 586.2 L 1413.1 586.9 Q 1412.4 586.0, 1411.2 586.0 Q 1409.9 586.0, 1409.2 586.9 Q 1408.5 587.7, 1408.5 589.4 Q 1408.5 591.1, 1409.2 591.9 Q 1410.0 592.8, 1411.3 592.8 Q 1412.3 592.8, 1413.4 592.2 L 1413.7 593.1 Q 1413.3 593.4, 1412.6 593.6 Q 1411.9 593.8, 1411.2 593.8 Q 1409.3 593.8, 1408.3 592.6 Q 1407.3 591.5, 1407.3 589.4 \" fill=\"#000000\"/>\n",
       "<path class=\"legend\" d=\"M 1424.2 593.7 L 1423.1 593.7 L 1422.2 586.7 L 1419.9 593.7 L 1418.7 593.7 L 1416.4 586.7 L 1415.5 593.7 L 1414.4 593.7 L 1415.5 585.1 L 1416.9 585.1 L 1419.3 592.0 L 1421.7 585.1 L 1423.1 585.1 L 1424.2 593.7 \" fill=\"#000000\"/>\n",
       "<path class=\"legend\" d=\"M 1425.3 592.3 Q 1425.4 592.4, 1425.8 592.5 Q 1426.2 592.7, 1426.6 592.8 Q 1427.1 592.9, 1427.5 592.9 Q 1428.3 592.9, 1428.8 592.5 Q 1429.3 592.1, 1429.3 591.4 Q 1429.3 591.0, 1429.0 590.7 Q 1428.8 590.4, 1428.4 590.2 Q 1428.1 590.1, 1427.5 589.9 Q 1426.7 589.7, 1426.2 589.4 Q 1425.8 589.2, 1425.5 588.8 Q 1425.1 588.3, 1425.1 587.5 Q 1425.1 586.5, 1425.9 585.8 Q 1426.6 585.1, 1428.1 585.1 Q 1429.1 585.1, 1430.2 585.6 L 1429.9 586.5 Q 1428.9 586.1, 1428.1 586.1 Q 1427.3 586.1, 1426.8 586.5 Q 1426.3 586.8, 1426.4 587.4 Q 1426.4 587.8, 1426.6 588.1 Q 1426.8 588.4, 1427.2 588.6 Q 1427.5 588.7, 1428.1 588.9 Q 1428.9 589.1, 1429.3 589.4 Q 1429.8 589.6, 1430.1 590.1 Q 1430.5 590.6, 1430.5 591.4 Q 1430.5 592.6, 1429.7 593.3 Q 1428.9 593.9, 1427.6 593.9 Q 1426.8 593.9, 1426.2 593.7 Q 1425.6 593.6, 1425.0 593.3 L 1425.3 592.3 \" fill=\"#000000\"/>\n",
       "<path class=\"legend\" d=\"M 1431.0 585.1 L 1432.2 585.1 L 1432.2 592.7 L 1436.1 592.7 L 1436.1 593.7 L 1431.0 593.7 L 1431.0 585.1 \" fill=\"#000000\"/>\n",
       "<path class=\"legend\" d=\"M 1436.4 585.1 L 1437.6 585.1 L 1437.6 593.7 L 1436.4 593.7 L 1436.4 585.1 \" fill=\"#000000\"/>\n",
       "<path class=\"legend\" d=\"M 1442.8 589.2 Q 1443.6 589.4, 1444.0 589.9 Q 1444.5 590.4, 1444.5 591.1 Q 1444.5 592.3, 1443.7 593.0 Q 1443.0 593.7, 1441.5 593.7 L 1438.6 593.7 L 1438.6 585.1 L 1441.2 585.1 Q 1442.6 585.1, 1443.4 585.7 Q 1444.1 586.3, 1444.1 587.4 Q 1444.1 588.7, 1442.8 589.2 M 1439.8 586.1 L 1439.8 588.8 L 1441.2 588.8 Q 1442.0 588.8, 1442.5 588.4 Q 1442.9 588.1, 1442.9 587.4 Q 1442.9 586.1, 1441.2 586.1 L 1439.8 586.1 M 1441.5 592.7 Q 1442.4 592.7, 1442.8 592.3 Q 1443.3 591.9, 1443.3 591.1 Q 1443.3 590.4, 1442.8 590.1 Q 1442.3 589.7, 1441.3 589.7 L 1439.8 589.7 L 1439.8 592.7 L 1441.5 592.7 \" fill=\"#000000\"/>\n",
       "<path class=\"legend\" d=\"M 1448.2 593.8 Q 1446.6 593.8, 1445.8 592.6 Q 1445.0 591.4, 1445.0 589.4 Q 1445.0 587.3, 1445.8 586.1 Q 1446.6 585.0, 1448.2 585.0 Q 1449.7 585.0, 1450.5 586.1 Q 1451.3 587.3, 1451.3 589.4 Q 1451.3 591.4, 1450.5 592.6 Q 1449.7 593.8, 1448.2 593.8 M 1448.2 592.8 Q 1449.1 592.8, 1449.6 591.9 Q 1450.1 591.1, 1450.1 589.4 Q 1450.1 587.7, 1449.6 586.8 Q 1449.1 586.0, 1448.2 586.0 Q 1447.2 586.0, 1446.7 586.8 Q 1446.2 587.7, 1446.2 589.4 Q 1446.2 591.1, 1446.7 591.9 Q 1447.2 592.8, 1448.2 592.8 \" fill=\"#000000\"/>\n",
       "<path class=\"legend\" d=\"M 1455.2 593.8 Q 1453.6 593.8, 1452.8 592.6 Q 1452.1 591.4, 1452.1 589.4 Q 1452.1 587.3, 1452.8 586.1 Q 1453.6 585.0, 1455.2 585.0 Q 1456.8 585.0, 1457.6 586.1 Q 1458.3 587.3, 1458.3 589.4 Q 1458.3 591.4, 1457.6 592.6 Q 1456.8 593.8, 1455.2 593.8 M 1455.2 592.8 Q 1456.1 592.8, 1456.6 591.9 Q 1457.1 591.1, 1457.1 589.4 Q 1457.1 587.7, 1456.6 586.8 Q 1456.1 586.0, 1455.2 586.0 Q 1454.3 586.0, 1453.8 586.8 Q 1453.3 587.7, 1453.3 589.4 Q 1453.3 591.1, 1453.8 591.9 Q 1454.3 592.8, 1455.2 592.8 \" fill=\"#000000\"/>\n",
       "<path class=\"legend\" d=\"M 1462.3 593.8 Q 1460.7 593.8, 1459.9 592.6 Q 1459.1 591.4, 1459.1 589.4 Q 1459.1 587.3, 1459.9 586.1 Q 1460.7 585.0, 1462.3 585.0 Q 1463.8 585.0, 1464.6 586.1 Q 1465.4 587.3, 1465.4 589.4 Q 1465.4 591.4, 1464.6 592.6 Q 1463.8 593.8, 1462.3 593.8 M 1462.3 592.8 Q 1463.2 592.8, 1463.7 591.9 Q 1464.2 591.1, 1464.2 589.4 Q 1464.2 587.7, 1463.7 586.8 Q 1463.2 586.0, 1462.3 586.0 Q 1461.3 586.0, 1460.8 586.8 Q 1460.3 587.7, 1460.3 589.4 Q 1460.3 591.1, 1460.8 591.9 Q 1461.3 592.8, 1462.3 592.8 \" fill=\"#000000\"/>\n",
       "<path class=\"legend\" d=\"M 1469.3 593.8 Q 1467.7 593.8, 1467.0 592.6 Q 1466.2 591.4, 1466.2 589.4 Q 1466.2 587.3, 1467.0 586.1 Q 1467.7 585.0, 1469.3 585.0 Q 1470.9 585.0, 1471.7 586.1 Q 1472.4 587.3, 1472.4 589.4 Q 1472.4 591.4, 1471.7 592.6 Q 1470.9 593.8, 1469.3 593.8 M 1469.3 592.8 Q 1470.2 592.8, 1470.7 591.9 Q 1471.2 591.1, 1471.2 589.4 Q 1471.2 587.7, 1470.7 586.8 Q 1470.2 586.0, 1469.3 586.0 Q 1468.4 586.0, 1467.9 586.8 Q 1467.4 587.7, 1467.4 589.4 Q 1467.4 591.1, 1467.9 591.9 Q 1468.4 592.8, 1469.3 592.8 \" fill=\"#000000\"/>\n",
       "<path class=\"legend\" d=\"M 1476.6 588.3 Q 1477.3 588.3, 1477.9 588.6 Q 1478.5 589.0, 1478.8 589.6 Q 1479.2 590.2, 1479.2 590.9 Q 1479.2 591.7, 1478.8 592.4 Q 1478.4 593.0, 1477.8 593.4 Q 1477.1 593.8, 1476.3 593.8 Q 1474.8 593.8, 1474.0 592.7 Q 1473.2 591.7, 1473.2 589.6 Q 1473.2 587.4, 1474.2 586.2 Q 1475.1 585.0, 1477.0 585.0 Q 1477.5 585.0, 1477.9 585.1 Q 1478.4 585.2, 1478.8 585.5 L 1478.4 586.3 Q 1477.7 586.0, 1477.0 586.0 Q 1475.8 586.0, 1475.1 586.8 Q 1474.5 587.5, 1474.5 589.1 Q 1474.9 588.7, 1475.4 588.5 Q 1476.0 588.3, 1476.6 588.3 M 1476.3 592.8 Q 1476.8 592.8, 1477.1 592.5 Q 1477.5 592.3, 1477.7 591.9 Q 1478.0 591.4, 1478.0 590.9 Q 1478.0 590.2, 1477.5 589.7 Q 1477.1 589.3, 1476.4 589.3 Q 1475.8 589.3, 1475.3 589.5 Q 1474.8 589.7, 1474.5 590.1 Q 1474.5 591.5, 1474.9 592.1 Q 1475.4 592.8, 1476.3 592.8 \" fill=\"#000000\"/>\n",
       "<path class=\"legend\" d=\"M 1482.9 588.3 Q 1483.7 588.3, 1484.3 588.6 Q 1484.9 588.9, 1485.3 589.5 Q 1485.6 590.1, 1485.6 591.0 Q 1485.6 591.8, 1485.2 592.5 Q 1484.8 593.1, 1484.1 593.4 Q 1483.4 593.8, 1482.6 593.8 Q 1481.8 593.8, 1481.1 593.5 Q 1480.3 593.2, 1479.8 592.6 L 1480.6 591.9 Q 1481.0 592.3, 1481.5 592.5 Q 1482.1 592.8, 1482.6 592.8 Q 1483.4 592.8, 1483.9 592.3 Q 1484.4 591.8, 1484.4 591.0 Q 1484.4 590.1, 1483.9 589.6 Q 1483.4 589.2, 1482.5 589.2 Q 1481.8 589.2, 1480.9 589.5 L 1480.3 589.2 L 1480.7 585.1 L 1485.1 585.1 L 1485.0 586.1 L 1481.7 586.1 L 1481.4 588.6 Q 1482.2 588.3, 1482.9 588.3 \" fill=\"#000000\"/>\n",
       "<path class=\"legend\" d=\"M 1490.6 589.1 Q 1491.4 589.5, 1491.8 590.0 Q 1492.3 590.5, 1492.3 591.3 Q 1492.3 592.0, 1491.9 592.6 Q 1491.5 593.2, 1490.8 593.5 Q 1490.2 593.8, 1489.3 593.8 Q 1487.9 593.8, 1487.0 593.1 Q 1486.2 592.5, 1486.2 591.3 Q 1486.2 590.6, 1486.6 590.1 Q 1486.9 589.6, 1487.7 589.2 Q 1487.1 588.8, 1486.8 588.4 Q 1486.5 587.9, 1486.5 587.2 Q 1486.5 586.2, 1487.3 585.6 Q 1488.0 585.0, 1489.2 585.0 Q 1490.5 585.0, 1491.2 585.6 Q 1491.9 586.2, 1491.9 587.2 Q 1491.9 587.8, 1491.6 588.3 Q 1491.3 588.8, 1490.6 589.1 M 1489.2 585.9 Q 1488.5 585.9, 1488.1 586.2 Q 1487.7 586.6, 1487.7 587.2 Q 1487.7 587.6, 1488.0 587.9 Q 1488.3 588.2, 1488.6 588.4 Q 1489.0 588.6, 1489.8 588.8 Q 1490.3 588.5, 1490.5 588.1 Q 1490.7 587.7, 1490.7 587.2 Q 1490.7 586.6, 1490.3 586.2 Q 1489.9 585.9, 1489.2 585.9 M 1489.3 592.9 Q 1490.1 592.9, 1490.6 592.5 Q 1491.1 592.0, 1491.1 591.3 Q 1491.1 590.8, 1490.8 590.6 Q 1490.5 590.3, 1490.2 590.1 Q 1489.8 589.9, 1489.1 589.7 L 1488.6 589.5 Q 1488.0 589.9, 1487.7 590.3 Q 1487.4 590.7, 1487.4 591.3 Q 1487.4 592.0, 1487.9 592.5 Q 1488.4 592.9, 1489.3 592.9 \" fill=\"#000000\"/>\n",
       "<path class=\"legend\" d=\"M 1493.5 592.7 L 1495.4 592.7 L 1495.4 586.3 L 1493.3 586.9 L 1493.0 586.2 L 1495.6 585.0 L 1496.5 585.2 L 1496.5 592.7 L 1498.2 592.7 L 1498.2 593.7 L 1493.5 593.7 L 1493.5 592.7 \" fill=\"#000000\"/>\n",
       "<path class=\"legend\" d=\"M 1501.6 585.0 Q 1503.1 585.0, 1503.9 586.0 Q 1504.6 587.1, 1504.6 589.1 Q 1504.6 591.4, 1503.7 592.6 Q 1502.7 593.8, 1500.9 593.8 Q 1500.4 593.8, 1499.9 593.6 Q 1499.5 593.5, 1499.0 593.3 L 1499.5 592.5 Q 1500.1 592.8, 1500.9 592.8 Q 1502.1 592.8, 1502.7 592.0 Q 1503.3 591.2, 1503.4 589.6 Q 1503.0 590.0, 1502.4 590.2 Q 1501.9 590.4, 1501.3 590.4 Q 1500.5 590.4, 1499.9 590.1 Q 1499.3 589.8, 1499.0 589.2 Q 1498.7 588.6, 1498.7 587.9 Q 1498.7 587.0, 1499.1 586.4 Q 1499.4 585.7, 1500.1 585.4 Q 1500.7 585.0, 1501.6 585.0 M 1499.9 587.8 Q 1499.9 588.6, 1500.3 589.0 Q 1500.8 589.5, 1501.5 589.5 Q 1502.0 589.5, 1502.5 589.3 Q 1503.1 589.1, 1503.4 588.7 Q 1503.4 587.3, 1502.9 586.6 Q 1502.5 586.0, 1501.6 586.0 Q 1501.1 586.0, 1500.7 586.2 Q 1500.3 586.5, 1500.1 586.9 Q 1499.9 587.3, 1499.9 587.8 \" fill=\"#000000\"/>\n",
       "<path class=\"legend\" d=\"M 1505.9 592.7 L 1507.8 592.7 L 1507.8 586.3 L 1505.7 586.9 L 1505.5 586.2 L 1508.1 585.0 L 1508.9 585.2 L 1508.9 592.7 L 1510.6 592.7 L 1510.6 593.7 L 1505.9 593.7 L 1505.9 592.7 \" fill=\"#000000\"/>\n",
       "<path class=\"legend\" d=\"M 1516.7 590.7 L 1517.7 590.7 L 1517.7 591.7 L 1516.7 591.7 L 1516.7 593.7 L 1515.6 593.7 L 1515.6 591.7 L 1511.1 591.7 L 1511.1 590.9 L 1514.9 585.1 L 1516.7 585.1 L 1516.7 590.7 M 1512.5 590.7 L 1515.6 590.7 L 1515.6 585.9 L 1512.5 590.7 \" fill=\"#000000\"/>\n",
       "<path class=\"bond-0 atom-0 atom-1\" d=\"M 195.2,631.2 L 198.2,638.7\" style=\"fill:none;fill-rule:evenodd;stroke:#000000;stroke-width:2.0px;stroke-linecap:butt;stroke-linejoin:miter;stroke-opacity:1\"/>\n",
       "<path class=\"bond-0 atom-0 atom-1\" d=\"M 198.2,638.7 L 201.3,646.1\" style=\"fill:none;fill-rule:evenodd;stroke:#0000FF;stroke-width:2.0px;stroke-linecap:butt;stroke-linejoin:miter;stroke-opacity:1\"/>\n",
       "<path class=\"bond-1 atom-1 atom-2\" d=\"M 204.1,653.0 L 207.2,660.4\" style=\"fill:none;fill-rule:evenodd;stroke:#0000FF;stroke-width:2.0px;stroke-linecap:butt;stroke-linejoin:miter;stroke-opacity:1\"/>\n",
       "<path class=\"bond-1 atom-1 atom-2\" d=\"M 207.2,660.4 L 210.2,667.8\" style=\"fill:none;fill-rule:evenodd;stroke:#000000;stroke-width:2.0px;stroke-linecap:butt;stroke-linejoin:miter;stroke-opacity:1\"/>\n",
       "<path class=\"bond-2 atom-1 atom-3\" d=\"M 199.9,650.7 L 192.2,653.9\" style=\"fill:none;fill-rule:evenodd;stroke:#0000FF;stroke-width:2.0px;stroke-linecap:butt;stroke-linejoin:miter;stroke-opacity:1\"/>\n",
       "<path class=\"bond-2 atom-1 atom-3\" d=\"M 192.2,653.9 L 184.4,657.1\" style=\"fill:none;fill-rule:evenodd;stroke:#000000;stroke-width:2.0px;stroke-linecap:butt;stroke-linejoin:miter;stroke-opacity:1\"/>\n",
       "<path class=\"bond-3 atom-1 atom-4\" d=\"M 208.6,647.1 L 214.8,644.6\" style=\"fill:none;fill-rule:evenodd;stroke:#0000FF;stroke-width:2.0px;stroke-linecap:butt;stroke-linejoin:miter;stroke-opacity:1\"/>\n",
       "<path class=\"bond-3 atom-1 atom-4\" d=\"M 214.8,644.6 L 221.0,642.0\" style=\"fill:none;fill-rule:evenodd;stroke:#000000;stroke-width:2.0px;stroke-linecap:butt;stroke-linejoin:miter;stroke-opacity:1\"/>\n",
       "<path class=\"bond-4 atom-4 atom-5\" d=\"M 221.0,642.0 L 236.7,654.1\" style=\"fill:none;fill-rule:evenodd;stroke:#000000;stroke-width:2.0px;stroke-linecap:butt;stroke-linejoin:miter;stroke-opacity:1\"/>\n",
       "<path class=\"bond-5 atom-5 atom-6\" d=\"M 236.7,654.1 L 255.0,646.6\" style=\"fill:none;fill-rule:evenodd;stroke:#000000;stroke-width:2.0px;stroke-linecap:butt;stroke-linejoin:miter;stroke-opacity:1\"/>\n",
       "<path class=\"bond-6 atom-6 atom-7\" d=\"M 255.0,646.6 L 270.6,658.7\" style=\"fill:none;fill-rule:evenodd;stroke:#000000;stroke-width:2.0px;stroke-linecap:butt;stroke-linejoin:miter;stroke-opacity:1\"/>\n",
       "<path class=\"bond-7 atom-7 atom-8\" d=\"M 270.6,658.7 L 278.1,655.6\" style=\"fill:none;fill-rule:evenodd;stroke:#000000;stroke-width:2.0px;stroke-linecap:butt;stroke-linejoin:miter;stroke-opacity:1\"/>\n",
       "<path class=\"bond-7 atom-7 atom-8\" d=\"M 278.1,655.6 L 285.7,652.5\" style=\"fill:none;fill-rule:evenodd;stroke:#FF0000;stroke-width:2.0px;stroke-linecap:butt;stroke-linejoin:miter;stroke-opacity:1\"/>\n",
       "<path class=\"bond-8 atom-7 atom-9\" d=\"M 272.6,659.0 L 271.5,667.0\" style=\"fill:none;fill-rule:evenodd;stroke:#000000;stroke-width:2.0px;stroke-linecap:butt;stroke-linejoin:miter;stroke-opacity:1\"/>\n",
       "<path class=\"bond-8 atom-7 atom-9\" d=\"M 271.5,667.0 L 270.4,675.1\" style=\"fill:none;fill-rule:evenodd;stroke:#FF0000;stroke-width:2.0px;stroke-linecap:butt;stroke-linejoin:miter;stroke-opacity:1\"/>\n",
       "<path class=\"bond-8 atom-7 atom-9\" d=\"M 268.6,658.4 L 267.6,666.5\" style=\"fill:none;fill-rule:evenodd;stroke:#000000;stroke-width:2.0px;stroke-linecap:butt;stroke-linejoin:miter;stroke-opacity:1\"/>\n",
       "<path class=\"bond-8 atom-7 atom-9\" d=\"M 267.6,666.5 L 266.5,674.6\" style=\"fill:none;fill-rule:evenodd;stroke:#FF0000;stroke-width:2.0px;stroke-linecap:butt;stroke-linejoin:miter;stroke-opacity:1\"/>\n",
       "<path class=\"bond-9 atom-5 atom-10\" d=\"M 236.7,654.1 L 235.6,662.2\" style=\"fill:none;fill-rule:evenodd;stroke:#000000;stroke-width:2.0px;stroke-linecap:butt;stroke-linejoin:miter;stroke-opacity:1\"/>\n",
       "<path class=\"bond-9 atom-5 atom-10\" d=\"M 235.6,662.2 L 234.5,670.2\" style=\"fill:none;fill-rule:evenodd;stroke:#FF0000;stroke-width:2.0px;stroke-linecap:butt;stroke-linejoin:miter;stroke-opacity:1\"/>\n",
       "<path class=\"bond-10 atom-10 atom-11\" d=\"M 230.8,675.0 L 223.2,678.1\" style=\"fill:none;fill-rule:evenodd;stroke:#FF0000;stroke-width:2.0px;stroke-linecap:butt;stroke-linejoin:miter;stroke-opacity:1\"/>\n",
       "<path class=\"bond-10 atom-10 atom-11\" d=\"M 223.2,678.1 L 215.7,681.2\" style=\"fill:none;fill-rule:evenodd;stroke:#000000;stroke-width:2.0px;stroke-linecap:butt;stroke-linejoin:miter;stroke-opacity:1\"/>\n",
       "<path class=\"bond-11 atom-11 atom-12\" d=\"M 217.7,681.5 L 216.6,689.6\" style=\"fill:none;fill-rule:evenodd;stroke:#000000;stroke-width:2.0px;stroke-linecap:butt;stroke-linejoin:miter;stroke-opacity:1\"/>\n",
       "<path class=\"bond-11 atom-11 atom-12\" d=\"M 216.6,689.6 L 215.5,697.6\" style=\"fill:none;fill-rule:evenodd;stroke:#FF0000;stroke-width:2.0px;stroke-linecap:butt;stroke-linejoin:miter;stroke-opacity:1\"/>\n",
       "<path class=\"bond-11 atom-11 atom-12\" d=\"M 213.7,681.0 L 212.7,689.0\" style=\"fill:none;fill-rule:evenodd;stroke:#000000;stroke-width:2.0px;stroke-linecap:butt;stroke-linejoin:miter;stroke-opacity:1\"/>\n",
       "<path class=\"bond-11 atom-11 atom-12\" d=\"M 212.7,689.0 L 211.6,697.1\" style=\"fill:none;fill-rule:evenodd;stroke:#FF0000;stroke-width:2.0px;stroke-linecap:butt;stroke-linejoin:miter;stroke-opacity:1\"/>\n",
       "<path class=\"bond-12 atom-11 atom-13\" d=\"M 215.7,681.2 L 200.1,669.1\" style=\"fill:none;fill-rule:evenodd;stroke:#000000;stroke-width:2.0px;stroke-linecap:butt;stroke-linejoin:miter;stroke-opacity:1\"/>\n",
       "<path class=\"bond-13 atom-13 atom-14\" d=\"M 200.1,669.1 L 181.7,676.7\" style=\"fill:none;fill-rule:evenodd;stroke:#000000;stroke-width:2.0px;stroke-linecap:butt;stroke-linejoin:miter;stroke-opacity:1\"/>\n",
       "<path class=\"bond-14 atom-14 atom-15\" d=\"M 181.7,676.7 L 166.1,664.6\" style=\"fill:none;fill-rule:evenodd;stroke:#000000;stroke-width:2.0px;stroke-linecap:butt;stroke-linejoin:miter;stroke-opacity:1\"/>\n",
       "<path class=\"bond-15 atom-15 atom-16\" d=\"M 166.1,664.6 L 147.8,672.1\" style=\"fill:none;fill-rule:evenodd;stroke:#000000;stroke-width:2.0px;stroke-linecap:butt;stroke-linejoin:miter;stroke-opacity:1\"/>\n",
       "<path class=\"bond-16 atom-16 atom-17\" d=\"M 147.8,672.1 L 132.1,660.0\" style=\"fill:none;fill-rule:evenodd;stroke:#000000;stroke-width:2.0px;stroke-linecap:butt;stroke-linejoin:miter;stroke-opacity:1\"/>\n",
       "<path class=\"bond-17 atom-17 atom-18\" d=\"M 132.1,660.0 L 124.6,663.1\" style=\"fill:none;fill-rule:evenodd;stroke:#000000;stroke-width:2.0px;stroke-linecap:butt;stroke-linejoin:miter;stroke-opacity:1\"/>\n",
       "<path class=\"bond-17 atom-17 atom-18\" d=\"M 124.6,663.1 L 117.1,666.2\" style=\"fill:none;fill-rule:evenodd;stroke:#FF0000;stroke-width:2.0px;stroke-linecap:butt;stroke-linejoin:miter;stroke-opacity:1\"/>\n",
       "<path class=\"bond-18 atom-17 atom-19\" d=\"M 130.2,659.7 L 131.3,651.7\" style=\"fill:none;fill-rule:evenodd;stroke:#000000;stroke-width:2.0px;stroke-linecap:butt;stroke-linejoin:miter;stroke-opacity:1\"/>\n",
       "<path class=\"bond-18 atom-17 atom-19\" d=\"M 131.3,651.7 L 132.3,643.7\" style=\"fill:none;fill-rule:evenodd;stroke:#FF0000;stroke-width:2.0px;stroke-linecap:butt;stroke-linejoin:miter;stroke-opacity:1\"/>\n",
       "<path class=\"bond-18 atom-17 atom-19\" d=\"M 134.1,660.3 L 135.2,652.2\" style=\"fill:none;fill-rule:evenodd;stroke:#000000;stroke-width:2.0px;stroke-linecap:butt;stroke-linejoin:miter;stroke-opacity:1\"/>\n",
       "<path class=\"bond-18 atom-17 atom-19\" d=\"M 135.2,652.2 L 136.3,644.2\" style=\"fill:none;fill-rule:evenodd;stroke:#FF0000;stroke-width:2.0px;stroke-linecap:butt;stroke-linejoin:miter;stroke-opacity:1\"/>\n",
       "<path class=\"atom-1\" d=\"M 201.5 646.7 L 203.3 649.7 Q 203.5 650.0, 203.8 650.5 Q 204.1 651.1, 204.1 651.1 L 204.1 646.7 L 204.8 646.7 L 204.8 652.3 L 204.1 652.3 L 202.1 649.1 Q 201.9 648.7, 201.6 648.3 Q 201.4 647.8, 201.3 647.7 L 201.3 652.3 L 200.6 652.3 L 200.6 646.7 L 201.5 646.7 \" fill=\"#0000FF\"/>\n",
       "<path class=\"atom-1\" d=\"M 205.5 647.7 L 206.5 647.7 L 206.5 646.7 L 206.9 646.7 L 206.9 647.7 L 207.9 647.7 L 207.9 648.1 L 206.9 648.1 L 206.9 649.2 L 206.5 649.2 L 206.5 648.1 L 205.5 648.1 L 205.5 647.7 \" fill=\"#0000FF\"/>\n",
       "<path class=\"atom-8\" d=\"M 286.3 651.2 Q 286.3 649.9, 287.0 649.1 Q 287.7 648.3, 288.9 648.3 Q 290.2 648.3, 290.8 649.1 Q 291.5 649.9, 291.5 651.2 Q 291.5 652.6, 290.8 653.3 Q 290.1 654.1, 288.9 654.1 Q 287.7 654.1, 287.0 653.3 Q 286.3 652.6, 286.3 651.2 M 288.9 653.5 Q 289.8 653.5, 290.2 652.9 Q 290.7 652.3, 290.7 651.2 Q 290.7 650.1, 290.2 649.5 Q 289.8 649.0, 288.9 649.0 Q 288.1 649.0, 287.6 649.5 Q 287.1 650.1, 287.1 651.2 Q 287.1 652.3, 287.6 652.9 Q 288.1 653.5, 288.9 653.5 \" fill=\"#FF0000\"/>\n",
       "<path class=\"atom-8\" d=\"M 291.9 649.3 L 293.8 649.3 L 293.8 649.7 L 291.9 649.7 L 291.9 649.3 \" fill=\"#FF0000\"/>\n",
       "<path class=\"atom-9\" d=\"M 265.4 678.3 Q 265.4 677.0, 266.1 676.2 Q 266.7 675.5, 268.0 675.5 Q 269.2 675.5, 269.9 676.2 Q 270.5 677.0, 270.5 678.3 Q 270.5 679.7, 269.9 680.5 Q 269.2 681.2, 268.0 681.2 Q 266.7 681.2, 266.1 680.5 Q 265.4 679.7, 265.4 678.3 M 268.0 680.6 Q 268.8 680.6, 269.3 680.0 Q 269.7 679.4, 269.7 678.3 Q 269.7 677.2, 269.3 676.7 Q 268.8 676.1, 268.0 676.1 Q 267.1 676.1, 266.6 676.7 Q 266.2 677.2, 266.2 678.3 Q 266.2 679.4, 266.6 680.0 Q 267.1 680.6, 268.0 680.6 \" fill=\"#FF0000\"/>\n",
       "<path class=\"atom-10\" d=\"M 231.4 673.7 Q 231.4 672.4, 232.1 671.6 Q 232.8 670.9, 234.0 670.9 Q 235.3 670.9, 235.9 671.6 Q 236.6 672.4, 236.6 673.7 Q 236.6 675.1, 235.9 675.9 Q 235.2 676.6, 234.0 676.6 Q 232.8 676.6, 232.1 675.9 Q 231.4 675.1, 231.4 673.7 M 234.0 676.0 Q 234.9 676.0, 235.3 675.4 Q 235.8 674.9, 235.8 673.7 Q 235.8 672.6, 235.3 672.1 Q 234.9 671.5, 234.0 671.5 Q 233.2 671.5, 232.7 672.1 Q 232.2 672.6, 232.2 673.7 Q 232.2 674.9, 232.7 675.4 Q 233.2 676.0, 234.0 676.0 \" fill=\"#FF0000\"/>\n",
       "<path class=\"atom-12\" d=\"M 210.5 700.9 Q 210.5 699.5, 211.2 698.8 Q 211.8 698.0, 213.1 698.0 Q 214.3 698.0, 215.0 698.8 Q 215.6 699.5, 215.6 700.9 Q 215.6 702.2, 215.0 703.0 Q 214.3 703.8, 213.1 703.8 Q 211.8 703.8, 211.2 703.0 Q 210.5 702.2, 210.5 700.9 M 213.1 703.1 Q 213.9 703.1, 214.4 702.6 Q 214.8 702.0, 214.8 700.9 Q 214.8 699.8, 214.4 699.2 Q 213.9 698.6, 213.1 698.6 Q 212.2 698.6, 211.7 699.2 Q 211.3 699.8, 211.3 700.9 Q 211.3 702.0, 211.7 702.6 Q 212.2 703.1, 213.1 703.1 \" fill=\"#FF0000\"/>\n",
       "<path class=\"atom-18\" d=\"M 106.2 664.7 L 107.0 664.7 L 107.0 667.1 L 109.8 667.1 L 109.8 664.7 L 110.6 664.7 L 110.6 670.3 L 109.8 670.3 L 109.8 667.7 L 107.0 667.7 L 107.0 670.3 L 106.2 670.3 L 106.2 664.7 \" fill=\"#FF0000\"/>\n",
       "<path class=\"atom-18\" d=\"M 111.3 667.5 Q 111.3 666.2, 111.9 665.4 Q 112.6 664.7, 113.8 664.7 Q 115.1 664.7, 115.7 665.4 Q 116.4 666.2, 116.4 667.5 Q 116.4 668.9, 115.7 669.7 Q 115.1 670.4, 113.8 670.4 Q 112.6 670.4, 111.9 669.7 Q 111.3 668.9, 111.3 667.5 M 113.8 669.8 Q 114.7 669.8, 115.1 669.2 Q 115.6 668.6, 115.6 667.5 Q 115.6 666.4, 115.1 665.9 Q 114.7 665.3, 113.8 665.3 Q 113.0 665.3, 112.5 665.9 Q 112.1 666.4, 112.1 667.5 Q 112.1 668.6, 112.5 669.2 Q 113.0 669.8, 113.8 669.8 \" fill=\"#FF0000\"/>\n",
       "<path class=\"atom-19\" d=\"M 132.2 640.4 Q 132.2 639.1, 132.9 638.3 Q 133.5 637.5, 134.8 637.5 Q 136.0 637.5, 136.7 638.3 Q 137.3 639.1, 137.3 640.4 Q 137.3 641.8, 136.7 642.5 Q 136.0 643.3, 134.8 643.3 Q 133.5 643.3, 132.9 642.5 Q 132.2 641.8, 132.2 640.4 M 134.8 642.7 Q 135.6 642.7, 136.1 642.1 Q 136.6 641.5, 136.6 640.4 Q 136.6 639.3, 136.1 638.7 Q 135.6 638.2, 134.8 638.2 Q 133.9 638.2, 133.5 638.7 Q 133.0 639.3, 133.0 640.4 Q 133.0 641.5, 133.5 642.1 Q 133.9 642.7, 134.8 642.7 \" fill=\"#FF0000\"/>\n",
       "<path class=\"legend\" d=\"M 80.0 739.5 Q 80.9 739.8, 81.4 740.3 Q 81.8 740.9, 81.8 741.7 Q 81.8 743.0, 81.0 743.7 Q 80.2 744.4, 78.6 744.4 L 75.5 744.4 L 75.5 735.1 L 78.2 735.1 Q 79.8 735.1, 80.6 735.7 Q 81.4 736.4, 81.4 737.6 Q 81.4 739.0, 80.0 739.5 M 76.7 736.2 L 76.7 739.1 L 78.2 739.1 Q 79.2 739.1, 79.6 738.7 Q 80.1 738.3, 80.1 737.6 Q 80.1 736.2, 78.2 736.2 L 76.7 736.2 M 78.6 743.4 Q 79.5 743.4, 80.0 742.9 Q 80.5 742.5, 80.5 741.7 Q 80.5 740.9, 80.0 740.5 Q 79.4 740.1, 78.4 740.1 L 76.7 740.1 L 76.7 743.4 L 78.6 743.4 \" fill=\"#000000\"/>\n",
       "<path class=\"legend\" d=\"M 82.8 743.0 Q 82.9 743.0, 83.3 743.2 Q 83.7 743.4, 84.2 743.5 Q 84.7 743.6, 85.2 743.6 Q 86.1 743.6, 86.6 743.2 Q 87.1 742.7, 87.1 742.0 Q 87.1 741.5, 86.8 741.2 Q 86.6 740.8, 86.2 740.7 Q 85.8 740.5, 85.1 740.3 Q 84.3 740.1, 83.8 739.8 Q 83.3 739.6, 83.0 739.1 Q 82.6 738.6, 82.6 737.7 Q 82.6 736.6, 83.4 735.9 Q 84.2 735.1, 85.8 735.1 Q 86.9 735.1, 88.1 735.6 L 87.8 736.7 Q 86.7 736.2, 85.8 736.2 Q 84.9 736.2, 84.4 736.6 Q 83.9 736.9, 83.9 737.6 Q 83.9 738.1, 84.2 738.4 Q 84.4 738.7, 84.8 738.9 Q 85.2 739.0, 85.8 739.2 Q 86.7 739.5, 87.2 739.8 Q 87.7 740.0, 88.0 740.6 Q 88.4 741.1, 88.4 742.0 Q 88.4 743.3, 87.5 744.0 Q 86.7 744.7, 85.2 744.7 Q 84.4 744.7, 83.8 744.5 Q 83.2 744.3, 82.4 744.0 L 82.8 743.0 \" fill=\"#000000\"/>\n",
       "<path class=\"legend\" d=\"M 95.5 735.1 L 96.8 735.1 L 93.6 744.4 L 92.0 744.4 L 89.0 735.1 L 90.3 735.1 L 92.9 743.0 L 95.5 735.1 \" fill=\"#000000\"/>\n",
       "<path class=\"legend\" d=\"M 97.0 735.1 L 98.3 735.1 L 98.3 739.1 L 103.0 739.1 L 103.0 735.1 L 104.3 735.1 L 104.3 744.4 L 103.0 744.4 L 103.0 740.1 L 98.3 740.1 L 98.3 744.4 L 97.0 744.4 L 97.0 735.1 \" fill=\"#000000\"/>\n",
       "<path class=\"legend\" d=\"M 112.3 744.4 L 111.3 741.7 L 107.6 741.7 L 106.7 744.4 L 105.4 744.4 L 108.6 735.1 L 110.2 735.1 L 113.5 744.4 L 112.3 744.4 M 108.0 740.6 L 110.9 740.6 L 109.4 736.4 L 108.0 740.6 \" fill=\"#000000\"/>\n",
       "<path class=\"legend\" d=\"M 122.1 744.4 L 120.6 744.4 L 117.8 740.6 L 115.1 744.4 L 113.7 744.4 L 117.1 739.5 L 113.9 735.1 L 115.4 735.1 L 117.9 738.6 L 120.4 735.1 L 121.9 735.1 L 118.6 739.6 L 122.1 744.4 \" fill=\"#000000\"/>\n",
       "<path class=\"legend\" d=\"M 122.1 745.3 Q 122.1 745.3, 122.7 744.9 Q 123.3 744.6, 123.7 744.1 Q 124.2 743.5, 124.2 742.8 L 124.2 736.2 L 122.4 736.2 L 122.4 735.1 L 125.4 735.1 L 125.4 742.8 Q 125.4 743.9, 124.8 744.6 Q 124.2 745.4, 123.4 745.9 Q 122.6 746.3, 122.6 746.2 L 122.1 745.3 \" fill=\"#000000\"/>\n",
       "<path class=\"legend\" d=\"M 126.5 735.1 L 127.8 735.1 L 127.8 744.4 L 126.5 744.4 L 126.5 735.1 M 131.7 735.1 L 133.4 735.1 L 129.7 739.3 L 133.7 744.4 L 132.1 744.4 L 128.1 739.4 L 131.7 735.1 \" fill=\"#000000\"/>\n",
       "<path class=\"legend\" d=\"M 138.3 739.5 Q 139.2 739.8, 139.7 740.3 Q 140.1 740.9, 140.1 741.7 Q 140.1 743.0, 139.3 743.7 Q 138.5 744.4, 136.9 744.4 L 133.8 744.4 L 133.8 735.1 L 136.6 735.1 Q 138.1 735.1, 138.9 735.7 Q 139.7 736.4, 139.7 737.6 Q 139.7 739.0, 138.3 739.5 M 135.1 736.2 L 135.1 739.1 L 136.6 739.1 Q 137.5 739.1, 137.9 738.7 Q 138.4 738.3, 138.4 737.6 Q 138.4 736.2, 136.6 736.2 L 135.1 736.2 M 136.9 743.4 Q 137.8 743.4, 138.3 742.9 Q 138.8 742.5, 138.8 741.7 Q 138.8 740.9, 138.3 740.5 Q 137.7 740.1, 136.7 740.1 L 135.1 740.1 L 135.1 743.4 L 136.9 743.4 \" fill=\"#000000\"/>\n",
       "<path class=\"legend\" d=\"M 140.7 739.7 Q 140.7 737.4, 141.8 736.2 Q 142.9 735.0, 145.0 735.0 Q 146.9 735.0, 147.9 736.4 L 147.0 737.1 Q 146.3 736.1, 145.0 736.1 Q 143.6 736.1, 142.8 737.0 Q 142.1 738.0, 142.1 739.7 Q 142.1 741.6, 142.8 742.5 Q 143.6 743.5, 145.1 743.5 Q 146.1 743.5, 147.3 742.9 L 147.7 743.8 Q 147.2 744.2, 146.5 744.3 Q 145.7 744.5, 144.9 744.5 Q 142.9 744.5, 141.8 743.3 Q 140.7 742.1, 140.7 739.7 \" fill=\"#000000\"/>\n",
       "<path class=\"legend\" d=\"M 160.0 735.1 L 161.3 735.1 L 158.8 744.4 L 156.9 744.4 L 154.9 736.7 L 152.8 744.4 L 150.9 744.4 L 148.4 735.1 L 149.7 735.1 L 151.9 743.3 L 154.0 735.1 L 155.7 735.1 L 157.8 743.3 L 160.0 735.1 \" fill=\"#000000\"/>\n",
       "<path class=\"legend\" d=\"M 168.2 735.1 L 169.4 735.1 L 166.2 744.4 L 164.7 744.4 L 161.6 735.1 L 162.9 735.1 L 165.5 743.0 L 168.2 735.1 \" fill=\"#000000\"/>\n",
       "<path class=\"legend\" d=\"M 172.7 735.1 Q 174.7 735.1, 175.8 736.3 Q 177.0 737.5, 177.0 739.7 Q 177.0 741.9, 175.8 743.2 Q 174.7 744.4, 172.7 744.4 L 169.7 744.4 L 169.7 735.1 L 172.7 735.1 M 172.7 743.4 Q 174.1 743.4, 174.9 742.5 Q 175.6 741.5, 175.6 739.7 Q 175.6 737.9, 174.9 737.1 Q 174.1 736.2, 172.7 736.2 L 170.9 736.2 L 170.9 743.4 L 172.7 743.4 \" fill=\"#000000\"/>\n",
       "<path class=\"legend\" d=\"M 184.4 744.4 L 183.4 741.7 L 179.7 741.7 L 178.8 744.4 L 177.5 744.4 L 180.7 735.1 L 182.3 735.1 L 185.6 744.4 L 184.4 744.4 M 180.1 740.6 L 183.0 740.6 L 181.6 736.4 L 180.1 740.6 \" fill=\"#000000\"/>\n",
       "<path class=\"legend\" d=\"\" fill=\"#000000\"/>\n",
       "<path class=\"legend\" d=\"M 190.2 742.9 L 191.5 742.9 L 191.5 744.2 L 190.2 744.2 L 190.2 742.9 M 190.2 738.4 L 191.5 738.4 L 191.5 739.7 L 190.2 739.7 L 190.2 738.4 \" fill=\"#000000\"/>\n",
       "<path class=\"legend\" d=\"\" fill=\"#000000\"/>\n",
       "<path class=\"legend\" d=\"M 196.8 739.7 Q 196.8 737.4, 197.9 736.2 Q 199.0 735.0, 201.1 735.0 Q 203.0 735.0, 204.0 736.4 L 203.2 737.1 Q 202.4 736.1, 201.1 736.1 Q 199.7 736.1, 198.9 737.0 Q 198.2 738.0, 198.2 739.7 Q 198.2 741.6, 198.9 742.5 Q 199.7 743.5, 201.2 743.5 Q 202.2 743.5, 203.4 742.9 L 203.8 743.8 Q 203.3 744.2, 202.6 744.3 Q 201.9 744.5, 201.0 744.5 Q 199.0 744.5, 197.9 743.3 Q 196.8 742.1, 196.8 739.7 \" fill=\"#000000\"/>\n",
       "<path class=\"legend\" d=\"M 204.5 739.7 Q 204.5 737.4, 205.6 736.2 Q 206.7 735.0, 208.8 735.0 Q 210.7 735.0, 211.7 736.4 L 210.9 737.1 Q 210.1 736.1, 208.8 736.1 Q 207.4 736.1, 206.6 737.0 Q 205.9 738.0, 205.9 739.7 Q 205.9 741.6, 206.6 742.5 Q 207.4 743.5, 208.9 743.5 Q 209.9 743.5, 211.1 742.9 L 211.5 743.8 Q 211.0 744.2, 210.3 744.3 Q 209.6 744.5, 208.7 744.5 Q 206.7 744.5, 205.6 743.3 Q 204.5 742.1, 204.5 739.7 \" fill=\"#000000\"/>\n",
       "<path class=\"legend\" d=\"M 222.9 744.4 L 221.7 744.4 L 220.7 736.8 L 218.2 744.4 L 216.9 744.4 L 214.4 736.8 L 213.4 744.4 L 212.2 744.4 L 213.4 735.1 L 215.0 735.1 L 217.6 742.6 L 220.1 735.1 L 221.7 735.1 L 222.9 744.4 \" fill=\"#000000\"/>\n",
       "<path class=\"legend\" d=\"M 224.1 743.0 Q 224.2 743.0, 224.6 743.2 Q 225.1 743.4, 225.5 743.5 Q 226.0 743.6, 226.5 743.6 Q 227.4 743.6, 227.9 743.2 Q 228.4 742.7, 228.4 742.0 Q 228.4 741.5, 228.1 741.2 Q 227.9 740.8, 227.5 740.7 Q 227.1 740.5, 226.4 740.3 Q 225.6 740.1, 225.1 739.8 Q 224.6 739.6, 224.3 739.1 Q 223.9 738.6, 223.9 737.7 Q 223.9 736.6, 224.7 735.9 Q 225.5 735.1, 227.1 735.1 Q 228.2 735.1, 229.4 735.6 L 229.1 736.7 Q 228.0 736.2, 227.1 736.2 Q 226.2 736.2, 225.7 736.6 Q 225.2 736.9, 225.2 737.6 Q 225.2 738.1, 225.5 738.4 Q 225.8 738.7, 226.1 738.9 Q 226.5 739.0, 227.1 739.2 Q 228.0 739.5, 228.5 739.8 Q 229.0 740.0, 229.3 740.6 Q 229.7 741.1, 229.7 742.0 Q 229.7 743.3, 228.8 744.0 Q 228.0 744.7, 226.5 744.7 Q 225.7 744.7, 225.1 744.5 Q 224.5 744.3, 223.7 744.0 L 224.1 743.0 \" fill=\"#000000\"/>\n",
       "<path class=\"legend\" d=\"M 230.3 735.1 L 231.6 735.1 L 231.6 743.3 L 235.8 743.3 L 235.8 744.4 L 230.3 744.4 L 230.3 735.1 \" fill=\"#000000\"/>\n",
       "<path class=\"legend\" d=\"M 236.2 735.1 L 237.4 735.1 L 237.4 744.4 L 236.2 744.4 L 236.2 735.1 \" fill=\"#000000\"/>\n",
       "<path class=\"legend\" d=\"M 243.1 739.5 Q 244.0 739.8, 244.5 740.3 Q 244.9 740.9, 244.9 741.7 Q 244.9 743.0, 244.1 743.7 Q 243.3 744.4, 241.7 744.4 L 238.6 744.4 L 238.6 735.1 L 241.3 735.1 Q 242.9 735.1, 243.7 735.7 Q 244.5 736.4, 244.5 737.6 Q 244.5 739.0, 243.1 739.5 M 239.8 736.2 L 239.8 739.1 L 241.3 739.1 Q 242.3 739.1, 242.7 738.7 Q 243.2 738.3, 243.2 737.6 Q 243.2 736.2, 241.3 736.2 L 239.8 736.2 M 241.7 743.4 Q 242.6 743.4, 243.1 742.9 Q 243.6 742.5, 243.6 741.7 Q 243.6 740.9, 243.1 740.5 Q 242.5 740.1, 241.5 740.1 L 239.8 740.1 L 239.8 743.4 L 241.7 743.4 \" fill=\"#000000\"/>\n",
       "<path class=\"legend\" d=\"M 248.9 744.5 Q 247.2 744.5, 246.4 743.3 Q 245.5 742.0, 245.5 739.7 Q 245.5 737.5, 246.4 736.2 Q 247.2 735.0, 248.9 735.0 Q 250.6 735.0, 251.5 736.2 Q 252.3 737.5, 252.3 739.7 Q 252.3 742.0, 251.5 743.3 Q 250.6 744.5, 248.9 744.5 M 248.9 743.5 Q 249.9 743.5, 250.5 742.5 Q 251.0 741.6, 251.0 739.7 Q 251.0 737.9, 250.5 737.0 Q 249.9 736.1, 248.9 736.1 Q 247.9 736.1, 247.4 737.0 Q 246.8 737.9, 246.8 739.7 Q 246.8 741.6, 247.4 742.5 Q 247.9 743.5, 248.9 743.5 \" fill=\"#000000\"/>\n",
       "<path class=\"legend\" d=\"M 256.6 744.5 Q 254.9 744.5, 254.0 743.3 Q 253.2 742.0, 253.2 739.7 Q 253.2 737.5, 254.0 736.2 Q 254.9 735.0, 256.6 735.0 Q 258.3 735.0, 259.2 736.2 Q 260.0 737.5, 260.0 739.7 Q 260.0 742.0, 259.1 743.3 Q 258.3 744.5, 256.6 744.5 M 256.6 743.5 Q 257.6 743.5, 258.1 742.5 Q 258.7 741.6, 258.7 739.7 Q 258.7 737.9, 258.1 737.0 Q 257.6 736.1, 256.6 736.1 Q 255.6 736.1, 255.0 737.0 Q 254.5 737.9, 254.5 739.7 Q 254.5 741.6, 255.0 742.5 Q 255.6 743.5, 256.6 743.5 \" fill=\"#000000\"/>\n",
       "<path class=\"legend\" d=\"M 264.3 744.5 Q 262.5 744.5, 261.7 743.3 Q 260.8 742.0, 260.8 739.7 Q 260.8 737.5, 261.7 736.2 Q 262.5 735.0, 264.3 735.0 Q 266.0 735.0, 266.8 736.2 Q 267.7 737.5, 267.7 739.7 Q 267.7 742.0, 266.8 743.3 Q 266.0 744.5, 264.3 744.5 M 264.3 743.5 Q 265.3 743.5, 265.8 742.5 Q 266.3 741.6, 266.3 739.7 Q 266.3 737.9, 265.8 737.0 Q 265.3 736.1, 264.3 736.1 Q 263.3 736.1, 262.7 737.0 Q 262.2 737.9, 262.2 739.7 Q 262.2 741.6, 262.7 742.5 Q 263.3 743.5, 264.3 743.5 \" fill=\"#000000\"/>\n",
       "<path class=\"legend\" d=\"M 271.9 744.5 Q 270.2 744.5, 269.4 743.3 Q 268.5 742.0, 268.5 739.7 Q 268.5 737.5, 269.4 736.2 Q 270.2 735.0, 271.9 735.0 Q 273.6 735.0, 274.5 736.2 Q 275.3 737.5, 275.3 739.7 Q 275.3 742.0, 274.5 743.3 Q 273.6 744.5, 271.9 744.5 M 271.9 743.5 Q 272.9 743.5, 273.5 742.5 Q 274.0 741.6, 274.0 739.7 Q 274.0 737.9, 273.5 737.0 Q 272.9 736.1, 271.9 736.1 Q 270.9 736.1, 270.4 737.0 Q 269.8 737.9, 269.8 739.7 Q 269.8 741.6, 270.4 742.5 Q 270.9 743.5, 271.9 743.5 \" fill=\"#000000\"/>\n",
       "<path class=\"legend\" d=\"M 279.8 738.6 Q 280.6 738.6, 281.3 739.0 Q 281.9 739.3, 282.3 740.0 Q 282.6 740.6, 282.6 741.4 Q 282.6 742.3, 282.2 743.0 Q 281.8 743.7, 281.1 744.1 Q 280.4 744.5, 279.5 744.5 Q 277.8 744.5, 277.0 743.4 Q 276.2 742.3, 276.2 740.0 Q 276.2 737.6, 277.2 736.3 Q 278.2 735.0, 280.2 735.0 Q 280.8 735.0, 281.3 735.1 Q 281.8 735.3, 282.3 735.5 L 281.7 736.4 Q 281.1 736.1, 280.2 736.1 Q 278.9 736.1, 278.2 736.9 Q 277.6 737.7, 277.5 739.5 Q 278.0 739.1, 278.6 738.8 Q 279.2 738.6, 279.8 738.6 M 279.5 743.4 Q 280.0 743.4, 280.4 743.2 Q 280.8 742.9, 281.1 742.5 Q 281.3 742.0, 281.3 741.4 Q 281.3 740.6, 280.9 740.1 Q 280.4 739.7, 279.6 739.7 Q 279.0 739.7, 278.4 739.9 Q 277.9 740.1, 277.5 740.5 Q 277.6 742.0, 278.0 742.7 Q 278.5 743.4, 279.5 743.4 \" fill=\"#000000\"/>\n",
       "<path class=\"legend\" d=\"M 286.7 738.6 Q 287.5 738.6, 288.2 738.9 Q 288.9 739.3, 289.3 739.9 Q 289.6 740.6, 289.6 741.5 Q 289.6 742.4, 289.2 743.1 Q 288.7 743.8, 287.9 744.2 Q 287.2 744.5, 286.3 744.5 Q 285.5 744.5, 284.7 744.2 Q 283.9 743.9, 283.3 743.3 L 284.1 742.5 Q 284.6 742.9, 285.2 743.2 Q 285.8 743.5, 286.4 743.5 Q 287.2 743.5, 287.8 742.9 Q 288.3 742.4, 288.3 741.5 Q 288.3 740.5, 287.8 740.0 Q 287.2 739.6, 286.3 739.6 Q 285.5 739.6, 284.6 739.9 L 283.8 739.6 L 284.3 735.1 L 289.1 735.1 L 288.9 736.2 L 285.4 736.2 L 285.1 738.9 Q 285.9 738.6, 286.7 738.6 \" fill=\"#000000\"/>\n",
       "<path class=\"legend\" d=\"M 295.0 739.5 Q 295.9 739.8, 296.4 740.4 Q 296.8 740.9, 296.8 741.9 Q 296.8 742.6, 296.4 743.3 Q 296.0 743.9, 295.3 744.2 Q 294.6 744.5, 293.6 744.5 Q 292.1 744.5, 291.2 743.8 Q 290.3 743.1, 290.3 741.9 Q 290.3 741.1, 290.7 740.5 Q 291.1 740.0, 291.9 739.5 Q 291.3 739.2, 290.9 738.7 Q 290.6 738.2, 290.6 737.4 Q 290.6 736.3, 291.4 735.6 Q 292.2 735.0, 293.6 735.0 Q 294.9 735.0, 295.7 735.6 Q 296.5 736.3, 296.5 737.4 Q 296.5 738.1, 296.1 738.6 Q 295.8 739.1, 295.0 739.5 M 293.6 736.0 Q 292.8 736.0, 292.4 736.4 Q 291.9 736.7, 291.9 737.4 Q 291.9 737.9, 292.2 738.2 Q 292.5 738.5, 292.9 738.7 Q 293.3 738.9, 294.1 739.2 Q 294.7 738.8, 294.9 738.3 Q 295.2 737.9, 295.2 737.4 Q 295.2 736.7, 294.8 736.4 Q 294.3 736.0, 293.6 736.0 M 293.6 743.6 Q 294.5 743.6, 295.0 743.1 Q 295.5 742.6, 295.5 741.8 Q 295.5 741.3, 295.3 741.0 Q 295.0 740.7, 294.6 740.5 Q 294.2 740.3, 293.4 740.1 L 292.8 739.9 Q 292.2 740.3, 291.9 740.8 Q 291.6 741.2, 291.6 741.8 Q 291.6 742.6, 292.1 743.1 Q 292.7 743.6, 293.6 743.6 \" fill=\"#000000\"/>\n",
       "<path class=\"legend\" d=\"M 298.2 743.4 L 300.2 743.4 L 300.2 736.4 L 298.0 737.1 L 297.7 736.3 L 300.5 735.1 L 301.5 735.2 L 301.5 743.4 L 303.3 743.4 L 303.3 744.4 L 298.2 744.4 L 298.2 743.4 \" fill=\"#000000\"/>\n",
       "<path class=\"legend\" d=\"M 307.0 735.0 Q 308.6 735.0, 309.4 736.1 Q 310.3 737.2, 310.3 739.5 Q 310.3 742.0, 309.3 743.2 Q 308.2 744.5, 306.2 744.5 Q 305.7 744.5, 305.2 744.4 Q 304.7 744.3, 304.2 744.0 L 304.7 743.1 Q 305.4 743.5, 306.2 743.5 Q 307.5 743.5, 308.2 742.6 Q 308.9 741.8, 309.0 740.0 Q 308.5 740.5, 307.9 740.7 Q 307.3 740.9, 306.6 740.9 Q 305.8 740.9, 305.2 740.6 Q 304.5 740.2, 304.2 739.6 Q 303.8 738.9, 303.8 738.1 Q 303.8 737.2, 304.2 736.5 Q 304.6 735.8, 305.3 735.4 Q 306.1 735.0, 307.0 735.0 M 305.2 738.1 Q 305.2 738.9, 305.6 739.4 Q 306.1 739.9, 306.9 739.9 Q 307.5 739.9, 308.0 739.6 Q 308.6 739.4, 309.0 739.0 Q 308.9 737.5, 308.4 736.8 Q 307.9 736.1, 307.0 736.1 Q 306.5 736.1, 306.0 736.3 Q 305.6 736.6, 305.4 737.1 Q 305.2 737.5, 305.2 738.1 \" fill=\"#000000\"/>\n",
       "<path class=\"legend\" d=\"M 311.2 736.9 Q 311.6 736.0, 312.4 735.5 Q 313.2 735.0, 314.3 735.0 Q 315.7 735.0, 316.5 735.8 Q 317.3 736.5, 317.3 737.9 Q 317.3 739.3, 316.3 740.5 Q 315.3 741.8, 313.2 743.4 L 317.5 743.4 L 317.5 744.4 L 311.2 744.4 L 311.2 743.5 Q 312.9 742.3, 313.9 741.4 Q 315.0 740.5, 315.5 739.6 Q 316.0 738.8, 316.0 737.9 Q 316.0 737.1, 315.5 736.6 Q 315.1 736.1, 314.3 736.1 Q 313.6 736.1, 313.1 736.4 Q 312.6 736.7, 312.2 737.3 L 311.2 736.9 \" fill=\"#000000\"/>\n",
       "<path class=\"legend\" d=\"M 318.3 736.9 Q 318.6 736.0, 319.4 735.5 Q 320.2 735.0, 321.4 735.0 Q 322.8 735.0, 323.6 735.8 Q 324.4 736.5, 324.4 737.9 Q 324.4 739.3, 323.3 740.5 Q 322.3 741.8, 320.2 743.4 L 324.5 743.4 L 324.5 744.4 L 318.2 744.4 L 318.2 743.5 Q 320.0 742.3, 321.0 741.4 Q 322.0 740.5, 322.5 739.6 Q 323.0 738.8, 323.0 737.9 Q 323.0 737.1, 322.6 736.6 Q 322.1 736.1, 321.4 736.1 Q 320.6 736.1, 320.1 736.4 Q 319.6 736.7, 319.3 737.3 L 318.3 736.9 \" fill=\"#000000\"/>\n",
       "<path class=\"bond-0 atom-0 atom-1\" d=\"M 579.1,631.0 L 581.9,638.5\" style=\"fill:none;fill-rule:evenodd;stroke:#000000;stroke-width:2.0px;stroke-linecap:butt;stroke-linejoin:miter;stroke-opacity:1\"/>\n",
       "<path class=\"bond-0 atom-0 atom-1\" d=\"M 581.9,638.5 L 584.8,646.1\" style=\"fill:none;fill-rule:evenodd;stroke:#0000FF;stroke-width:2.0px;stroke-linecap:butt;stroke-linejoin:miter;stroke-opacity:1\"/>\n",
       "<path class=\"bond-1 atom-1 atom-2\" d=\"M 587.4,653.0 L 590.2,660.5\" style=\"fill:none;fill-rule:evenodd;stroke:#0000FF;stroke-width:2.0px;stroke-linecap:butt;stroke-linejoin:miter;stroke-opacity:1\"/>\n",
       "<path class=\"bond-1 atom-1 atom-2\" d=\"M 590.2,660.5 L 593.1,668.0\" style=\"fill:none;fill-rule:evenodd;stroke:#000000;stroke-width:2.0px;stroke-linecap:butt;stroke-linejoin:miter;stroke-opacity:1\"/>\n",
       "<path class=\"bond-2 atom-1 atom-3\" d=\"M 583.3,650.6 L 575.4,653.5\" style=\"fill:none;fill-rule:evenodd;stroke:#0000FF;stroke-width:2.0px;stroke-linecap:butt;stroke-linejoin:miter;stroke-opacity:1\"/>\n",
       "<path class=\"bond-2 atom-1 atom-3\" d=\"M 575.4,653.5 L 567.6,656.5\" style=\"fill:none;fill-rule:evenodd;stroke:#000000;stroke-width:2.0px;stroke-linecap:butt;stroke-linejoin:miter;stroke-opacity:1\"/>\n",
       "<path class=\"bond-3 atom-1 atom-4\" d=\"M 591.9,647.3 L 598.2,644.9\" style=\"fill:none;fill-rule:evenodd;stroke:#0000FF;stroke-width:2.0px;stroke-linecap:butt;stroke-linejoin:miter;stroke-opacity:1\"/>\n",
       "<path class=\"bond-3 atom-1 atom-4\" d=\"M 598.2,644.9 L 604.6,642.5\" style=\"fill:none;fill-rule:evenodd;stroke:#000000;stroke-width:2.0px;stroke-linecap:butt;stroke-linejoin:miter;stroke-opacity:1\"/>\n",
       "<path class=\"bond-4 atom-4 atom-5\" d=\"M 604.6,642.5 L 619.9,655.0\" style=\"fill:none;fill-rule:evenodd;stroke:#000000;stroke-width:2.0px;stroke-linecap:butt;stroke-linejoin:miter;stroke-opacity:1\"/>\n",
       "<path class=\"bond-5 atom-5 atom-6\" d=\"M 619.9,655.0 L 638.4,648.0\" style=\"fill:none;fill-rule:evenodd;stroke:#000000;stroke-width:2.0px;stroke-linecap:butt;stroke-linejoin:miter;stroke-opacity:1\"/>\n",
       "<path class=\"bond-6 atom-6 atom-7\" d=\"M 638.4,648.0 L 653.7,660.6\" style=\"fill:none;fill-rule:evenodd;stroke:#000000;stroke-width:2.0px;stroke-linecap:butt;stroke-linejoin:miter;stroke-opacity:1\"/>\n",
       "<path class=\"bond-7 atom-7 atom-8\" d=\"M 653.7,660.6 L 661.3,657.7\" style=\"fill:none;fill-rule:evenodd;stroke:#000000;stroke-width:2.0px;stroke-linecap:butt;stroke-linejoin:miter;stroke-opacity:1\"/>\n",
       "<path class=\"bond-7 atom-7 atom-8\" d=\"M 661.3,657.7 L 669.0,654.8\" style=\"fill:none;fill-rule:evenodd;stroke:#FF0000;stroke-width:2.0px;stroke-linecap:butt;stroke-linejoin:miter;stroke-opacity:1\"/>\n",
       "<path class=\"bond-8 atom-7 atom-9\" d=\"M 655.6,660.9 L 654.3,668.9\" style=\"fill:none;fill-rule:evenodd;stroke:#000000;stroke-width:2.0px;stroke-linecap:butt;stroke-linejoin:miter;stroke-opacity:1\"/>\n",
       "<path class=\"bond-8 atom-7 atom-9\" d=\"M 654.3,668.9 L 653.0,676.9\" style=\"fill:none;fill-rule:evenodd;stroke:#FF0000;stroke-width:2.0px;stroke-linecap:butt;stroke-linejoin:miter;stroke-opacity:1\"/>\n",
       "<path class=\"bond-8 atom-7 atom-9\" d=\"M 651.7,660.2 L 650.4,668.3\" style=\"fill:none;fill-rule:evenodd;stroke:#000000;stroke-width:2.0px;stroke-linecap:butt;stroke-linejoin:miter;stroke-opacity:1\"/>\n",
       "<path class=\"bond-8 atom-7 atom-9\" d=\"M 650.4,668.3 L 649.1,676.3\" style=\"fill:none;fill-rule:evenodd;stroke:#FF0000;stroke-width:2.0px;stroke-linecap:butt;stroke-linejoin:miter;stroke-opacity:1\"/>\n",
       "<path class=\"bond-9 atom-5 atom-10\" d=\"M 619.9,655.0 L 618.6,663.1\" style=\"fill:none;fill-rule:evenodd;stroke:#000000;stroke-width:2.0px;stroke-linecap:butt;stroke-linejoin:miter;stroke-opacity:1\"/>\n",
       "<path class=\"bond-9 atom-5 atom-10\" d=\"M 618.6,663.1 L 617.3,671.1\" style=\"fill:none;fill-rule:evenodd;stroke:#FF0000;stroke-width:2.0px;stroke-linecap:butt;stroke-linejoin:miter;stroke-opacity:1\"/>\n",
       "<path class=\"bond-10 atom-10 atom-11\" d=\"M 613.5,675.8 L 605.8,678.7\" style=\"fill:none;fill-rule:evenodd;stroke:#FF0000;stroke-width:2.0px;stroke-linecap:butt;stroke-linejoin:miter;stroke-opacity:1\"/>\n",
       "<path class=\"bond-10 atom-10 atom-11\" d=\"M 605.8,678.7 L 598.2,681.6\" style=\"fill:none;fill-rule:evenodd;stroke:#000000;stroke-width:2.0px;stroke-linecap:butt;stroke-linejoin:miter;stroke-opacity:1\"/>\n",
       "<path class=\"bond-11 atom-11 atom-12\" d=\"M 600.1,681.9 L 598.8,689.9\" style=\"fill:none;fill-rule:evenodd;stroke:#000000;stroke-width:2.0px;stroke-linecap:butt;stroke-linejoin:miter;stroke-opacity:1\"/>\n",
       "<path class=\"bond-11 atom-11 atom-12\" d=\"M 598.8,689.9 L 597.5,697.9\" style=\"fill:none;fill-rule:evenodd;stroke:#FF0000;stroke-width:2.0px;stroke-linecap:butt;stroke-linejoin:miter;stroke-opacity:1\"/>\n",
       "<path class=\"bond-11 atom-11 atom-12\" d=\"M 596.2,681.2 L 594.9,689.3\" style=\"fill:none;fill-rule:evenodd;stroke:#000000;stroke-width:2.0px;stroke-linecap:butt;stroke-linejoin:miter;stroke-opacity:1\"/>\n",
       "<path class=\"bond-11 atom-11 atom-12\" d=\"M 594.9,689.3 L 593.6,697.3\" style=\"fill:none;fill-rule:evenodd;stroke:#FF0000;stroke-width:2.0px;stroke-linecap:butt;stroke-linejoin:miter;stroke-opacity:1\"/>\n",
       "<path class=\"bond-12 atom-11 atom-13\" d=\"M 598.2,681.6 L 582.9,669.0\" style=\"fill:none;fill-rule:evenodd;stroke:#000000;stroke-width:2.0px;stroke-linecap:butt;stroke-linejoin:miter;stroke-opacity:1\"/>\n",
       "<path class=\"bond-13 atom-13 atom-14\" d=\"M 582.9,669.0 L 564.4,676.0\" style=\"fill:none;fill-rule:evenodd;stroke:#000000;stroke-width:2.0px;stroke-linecap:butt;stroke-linejoin:miter;stroke-opacity:1\"/>\n",
       "<path class=\"bond-14 atom-14 atom-15\" d=\"M 564.4,676.0 L 549.1,663.5\" style=\"fill:none;fill-rule:evenodd;stroke:#000000;stroke-width:2.0px;stroke-linecap:butt;stroke-linejoin:miter;stroke-opacity:1\"/>\n",
       "<path class=\"bond-15 atom-15 atom-16\" d=\"M 549.1,663.5 L 541.4,666.4\" style=\"fill:none;fill-rule:evenodd;stroke:#000000;stroke-width:2.0px;stroke-linecap:butt;stroke-linejoin:miter;stroke-opacity:1\"/>\n",
       "<path class=\"bond-15 atom-15 atom-16\" d=\"M 541.4,666.4 L 533.8,669.3\" style=\"fill:none;fill-rule:evenodd;stroke:#FF0000;stroke-width:2.0px;stroke-linecap:butt;stroke-linejoin:miter;stroke-opacity:1\"/>\n",
       "<path class=\"bond-16 atom-15 atom-17\" d=\"M 547.1,663.2 L 548.4,655.2\" style=\"fill:none;fill-rule:evenodd;stroke:#000000;stroke-width:2.0px;stroke-linecap:butt;stroke-linejoin:miter;stroke-opacity:1\"/>\n",
       "<path class=\"bond-16 atom-15 atom-17\" d=\"M 548.4,655.2 L 549.7,647.2\" style=\"fill:none;fill-rule:evenodd;stroke:#FF0000;stroke-width:2.0px;stroke-linecap:butt;stroke-linejoin:miter;stroke-opacity:1\"/>\n",
       "<path class=\"bond-16 atom-15 atom-17\" d=\"M 551.0,663.8 L 552.3,655.8\" style=\"fill:none;fill-rule:evenodd;stroke:#000000;stroke-width:2.0px;stroke-linecap:butt;stroke-linejoin:miter;stroke-opacity:1\"/>\n",
       "<path class=\"bond-16 atom-15 atom-17\" d=\"M 552.3,655.8 L 553.6,647.9\" style=\"fill:none;fill-rule:evenodd;stroke:#FF0000;stroke-width:2.0px;stroke-linecap:butt;stroke-linejoin:miter;stroke-opacity:1\"/>\n",
       "<path class=\"atom-1\" d=\"M 584.8 646.7 L 586.7 649.7 Q 586.8 650.0, 587.1 650.5 Q 587.4 651.0, 587.4 651.1 L 587.4 646.7 L 588.2 646.7 L 588.2 652.3 L 587.4 652.3 L 585.4 649.1 Q 585.2 648.7, 585.0 648.2 Q 584.7 647.8, 584.7 647.7 L 584.7 652.3 L 583.9 652.3 L 583.9 646.7 L 584.8 646.7 \" fill=\"#0000FF\"/>\n",
       "<path class=\"atom-1\" d=\"M 588.8 647.7 L 589.8 647.7 L 589.8 646.7 L 590.3 646.7 L 590.3 647.7 L 591.3 647.7 L 591.3 648.1 L 590.3 648.1 L 590.3 649.1 L 589.8 649.1 L 589.8 648.1 L 588.8 648.1 L 588.8 647.7 \" fill=\"#0000FF\"/>\n",
       "<path class=\"atom-8\" d=\"M 669.6 653.6 Q 669.6 652.2, 670.3 651.5 Q 671.0 650.7, 672.2 650.7 Q 673.4 650.7, 674.1 651.5 Q 674.8 652.2, 674.8 653.6 Q 674.8 654.9, 674.1 655.7 Q 673.4 656.5, 672.2 656.5 Q 671.0 656.5, 670.3 655.7 Q 669.6 655.0, 669.6 653.6 M 672.2 655.9 Q 673.1 655.9, 673.5 655.3 Q 674.0 654.7, 674.0 653.6 Q 674.0 652.5, 673.5 651.9 Q 673.1 651.4, 672.2 651.4 Q 671.3 651.4, 670.9 651.9 Q 670.4 652.5, 670.4 653.6 Q 670.4 654.7, 670.9 655.3 Q 671.3 655.9, 672.2 655.9 \" fill=\"#FF0000\"/>\n",
       "<path class=\"atom-8\" d=\"M 675.2 651.7 L 677.1 651.7 L 677.1 652.1 L 675.2 652.1 L 675.2 651.7 \" fill=\"#FF0000\"/>\n",
       "<path class=\"atom-9\" d=\"M 647.9 680.1 Q 647.9 678.8, 648.6 678.0 Q 649.3 677.3, 650.5 677.3 Q 651.7 677.3, 652.4 678.0 Q 653.1 678.8, 653.1 680.1 Q 653.1 681.5, 652.4 682.2 Q 651.7 683.0, 650.5 683.0 Q 649.3 683.0, 648.6 682.2 Q 647.9 681.5, 647.9 680.1 M 650.5 682.4 Q 651.4 682.4, 651.8 681.8 Q 652.3 681.2, 652.3 680.1 Q 652.3 679.0, 651.8 678.5 Q 651.4 677.9, 650.5 677.9 Q 649.6 677.9, 649.2 678.4 Q 648.7 679.0, 648.7 680.1 Q 648.7 681.2, 649.2 681.8 Q 649.6 682.4, 650.5 682.4 \" fill=\"#FF0000\"/>\n",
       "<path class=\"atom-10\" d=\"M 614.1 674.6 Q 614.1 673.2, 614.8 672.5 Q 615.4 671.7, 616.7 671.7 Q 617.9 671.7, 618.6 672.5 Q 619.3 673.2, 619.3 674.6 Q 619.3 675.9, 618.6 676.7 Q 617.9 677.5, 616.7 677.5 Q 615.4 677.5, 614.8 676.7 Q 614.1 675.9, 614.1 674.6 M 616.7 676.8 Q 617.5 676.8, 618.0 676.3 Q 618.5 675.7, 618.5 674.6 Q 618.5 673.5, 618.0 672.9 Q 617.5 672.4, 616.7 672.4 Q 615.8 672.4, 615.4 672.9 Q 614.9 673.5, 614.9 674.6 Q 614.9 675.7, 615.4 676.3 Q 615.8 676.8, 616.7 676.8 \" fill=\"#FF0000\"/>\n",
       "<path class=\"atom-12\" d=\"M 592.4 701.1 Q 592.4 699.8, 593.1 699.0 Q 593.7 698.2, 595.0 698.2 Q 596.2 698.2, 596.9 699.0 Q 597.6 699.8, 597.6 701.1 Q 597.6 702.5, 596.9 703.2 Q 596.2 704.0, 595.0 704.0 Q 593.8 704.0, 593.1 703.2 Q 592.4 702.5, 592.4 701.1 M 595.0 703.4 Q 595.8 703.4, 596.3 702.8 Q 596.8 702.2, 596.8 701.1 Q 596.8 700.0, 596.3 699.4 Q 595.8 698.9, 595.0 698.9 Q 594.1 698.9, 593.7 699.4 Q 593.2 700.0, 593.2 701.1 Q 593.2 702.2, 593.7 702.8 Q 594.1 703.4, 595.0 703.4 \" fill=\"#FF0000\"/>\n",
       "<path class=\"atom-16\" d=\"M 522.9 667.7 L 523.7 667.7 L 523.7 670.1 L 526.5 670.1 L 526.5 667.7 L 527.3 667.7 L 527.3 673.3 L 526.5 673.3 L 526.5 670.7 L 523.7 670.7 L 523.7 673.3 L 522.9 673.3 L 522.9 667.7 \" fill=\"#FF0000\"/>\n",
       "<path class=\"atom-16\" d=\"M 528.0 670.5 Q 528.0 669.2, 528.6 668.4 Q 529.3 667.7, 530.5 667.7 Q 531.8 667.7, 532.5 668.4 Q 533.1 669.2, 533.1 670.5 Q 533.1 671.9, 532.4 672.6 Q 531.8 673.4, 530.5 673.4 Q 529.3 673.4, 528.6 672.6 Q 528.0 671.9, 528.0 670.5 M 530.5 672.8 Q 531.4 672.8, 531.9 672.2 Q 532.3 671.6, 532.3 670.5 Q 532.3 669.4, 531.9 668.9 Q 531.4 668.3, 530.5 668.3 Q 529.7 668.3, 529.2 668.8 Q 528.8 669.4, 528.8 670.5 Q 528.8 671.6, 529.2 672.2 Q 529.7 672.8, 530.5 672.8 \" fill=\"#FF0000\"/>\n",
       "<path class=\"atom-17\" d=\"M 549.7 644.0 Q 549.7 642.6, 550.3 641.9 Q 551.0 641.1, 552.2 641.1 Q 553.5 641.1, 554.2 641.9 Q 554.8 642.6, 554.8 644.0 Q 554.8 645.4, 554.1 646.1 Q 553.5 646.9, 552.2 646.9 Q 551.0 646.9, 550.3 646.1 Q 549.7 645.4, 549.7 644.0 M 552.2 646.3 Q 553.1 646.3, 553.6 645.7 Q 554.0 645.1, 554.0 644.0 Q 554.0 642.9, 553.6 642.3 Q 553.1 641.8, 552.2 641.8 Q 551.4 641.8, 550.9 642.3 Q 550.5 642.9, 550.5 644.0 Q 550.5 645.1, 550.9 645.7 Q 551.4 646.3, 552.2 646.3 \" fill=\"#FF0000\"/>\n",
       "<path class=\"legend\" d=\"M 460.3 735.1 L 461.8 735.1 L 461.8 739.7 L 467.3 739.7 L 467.3 735.1 L 468.8 735.1 L 468.8 746.0 L 467.3 746.0 L 467.3 741.0 L 461.8 741.0 L 461.8 746.0 L 460.3 746.0 L 460.3 735.1 \" fill=\"#000000\"/>\n",
       "<path class=\"legend\" d=\"M 478.1 746.0 L 476.9 742.8 L 472.6 742.8 L 471.5 746.0 L 470.1 746.0 L 473.8 735.1 L 475.6 735.1 L 479.5 746.0 L 478.1 746.0 M 473.1 741.6 L 476.5 741.6 L 474.7 736.6 L 473.1 741.6 \" fill=\"#000000\"/>\n",
       "<path class=\"legend\" d=\"M 479.7 735.1 L 486.1 735.1 L 486.1 736.4 L 481.1 736.4 L 481.1 739.7 L 485.6 739.7 L 485.6 740.9 L 481.1 740.9 L 481.1 744.7 L 486.3 744.7 L 486.3 746.0 L 479.7 746.0 L 479.7 735.1 \" fill=\"#000000\"/>\n",
       "<path class=\"legend\" d=\"M 494.7 735.1 L 496.1 735.1 L 492.4 746.0 L 490.6 746.0 L 487.0 735.1 L 488.5 735.1 L 491.5 744.4 L 494.7 735.1 \" fill=\"#000000\"/>\n",
       "<path class=\"legend\" d=\"M 498.1 735.1 L 501.6 740.9 Q 502.0 741.4, 502.6 742.5 Q 503.1 743.5, 503.2 743.5 L 503.2 735.1 L 504.6 735.1 L 504.6 746.0 L 503.1 746.0 L 499.3 739.7 Q 498.9 738.9, 498.4 738.1 Q 497.9 737.3, 497.8 737.0 L 497.8 746.0 L 496.4 746.0 L 496.4 735.1 L 498.1 735.1 \" fill=\"#000000\"/>\n",
       "<path class=\"legend\" d=\"M 509.5 741.4 L 505.9 735.1 L 507.5 735.1 L 510.2 740.0 L 512.9 735.1 L 514.5 735.1 L 510.9 741.4 L 510.9 746.0 L 509.5 746.0 L 509.5 741.4 \" fill=\"#000000\"/>\n",
       "<path class=\"legend\" d=\"M 519.8 740.3 Q 520.8 740.6, 521.4 741.2 Q 521.9 741.8, 521.9 742.8 Q 521.9 744.3, 520.9 745.1 Q 520.0 746.0, 518.2 746.0 L 514.5 746.0 L 514.5 735.1 L 517.7 735.1 Q 519.6 735.1, 520.5 735.9 Q 521.5 736.6, 521.5 738.0 Q 521.5 739.6, 519.8 740.3 M 516.0 736.3 L 516.0 739.7 L 517.7 739.7 Q 518.8 739.7, 519.4 739.3 Q 519.9 738.9, 519.9 738.0 Q 519.9 736.3, 517.7 736.3 L 516.0 736.3 M 518.2 744.7 Q 519.2 744.7, 519.8 744.2 Q 520.4 743.7, 520.4 742.8 Q 520.4 741.9, 519.7 741.4 Q 519.1 741.0, 517.9 741.0 L 516.0 741.0 L 516.0 744.7 L 518.2 744.7 \" fill=\"#000000\"/>\n",
       "<path class=\"legend\" d=\"M 522.6 740.5 Q 522.6 737.8, 523.9 736.4 Q 525.1 735.0, 527.5 735.0 Q 529.8 735.0, 531.0 736.6 L 529.9 737.4 Q 529.1 736.3, 527.5 736.3 Q 525.9 736.3, 525.0 737.4 Q 524.2 738.4, 524.2 740.5 Q 524.2 742.7, 525.0 743.8 Q 526.0 744.9, 527.7 744.9 Q 528.9 744.9, 530.3 744.2 L 530.7 745.3 Q 530.1 745.7, 529.3 745.9 Q 528.4 746.1, 527.5 746.1 Q 525.1 746.1, 523.9 744.7 Q 522.6 743.2, 522.6 740.5 \" fill=\"#000000\"/>\n",
       "<path class=\"legend\" d=\"M 535.2 741.4 L 531.6 735.1 L 533.2 735.1 L 535.9 740.0 L 538.6 735.1 L 540.2 735.1 L 536.6 741.4 L 536.6 746.0 L 535.2 746.0 L 535.2 741.4 \" fill=\"#000000\"/>\n",
       "<path class=\"legend\" d=\"M 540.2 744.8 L 545.7 736.4 L 540.4 736.4 L 540.4 735.1 L 547.5 735.1 L 547.5 736.2 L 542.0 744.7 L 547.5 744.7 L 547.5 746.0 L 540.2 746.0 L 540.2 744.8 \" fill=\"#000000\"/>\n",
       "<path class=\"legend\" d=\"M 548.2 744.8 L 553.7 736.4 L 548.4 736.4 L 548.4 735.1 L 555.5 735.1 L 555.5 736.2 L 550.0 744.7 L 555.4 744.7 L 555.4 746.0 L 548.2 746.0 L 548.2 744.8 \" fill=\"#000000\"/>\n",
       "<path class=\"legend\" d=\"M 559.7 735.1 Q 562.1 735.1, 563.3 736.5 Q 564.6 738.0, 564.6 740.5 Q 564.6 743.1, 563.3 744.5 Q 562.0 746.0, 559.7 746.0 L 556.2 746.0 L 556.2 735.1 L 559.7 735.1 M 559.7 744.7 Q 561.3 744.7, 562.2 743.7 Q 563.1 742.6, 563.1 740.5 Q 563.1 738.4, 562.2 737.4 Q 561.3 736.3, 559.7 736.3 L 557.6 736.3 L 557.6 744.7 L 559.7 744.7 \" fill=\"#000000\"/>\n",
       "<path class=\"legend\" d=\"M 565.3 735.1 L 571.8 735.1 L 571.8 736.4 L 566.8 736.4 L 566.8 739.7 L 571.2 739.7 L 571.2 740.9 L 566.8 740.9 L 566.8 746.0 L 565.3 746.0 L 565.3 735.1 \" fill=\"#000000\"/>\n",
       "<path class=\"legend\" d=\"M 572.1 735.1 L 573.6 735.1 L 573.6 744.7 L 578.5 744.7 L 578.5 746.0 L 572.1 746.0 L 572.1 735.1 \" fill=\"#000000\"/>\n",
       "<path class=\"legend\" d=\"\" fill=\"#000000\"/>\n",
       "<path class=\"legend\" d=\"M 584.0 744.2 L 585.6 744.2 L 585.6 745.7 L 584.0 745.7 L 584.0 744.2 M 584.0 738.9 L 585.6 738.9 L 585.6 740.4 L 584.0 740.4 L 584.0 738.9 \" fill=\"#000000\"/>\n",
       "<path class=\"legend\" d=\"\" fill=\"#000000\"/>\n",
       "<path class=\"legend\" d=\"M 591.8 740.5 Q 591.8 737.8, 593.1 736.4 Q 594.3 735.0, 596.8 735.0 Q 599.0 735.0, 600.2 736.6 L 599.2 737.4 Q 598.3 736.3, 596.8 736.3 Q 595.1 736.3, 594.2 737.4 Q 593.4 738.4, 593.4 740.5 Q 593.4 742.7, 594.3 743.8 Q 595.2 744.9, 596.9 744.9 Q 598.1 744.9, 599.5 744.2 L 599.9 745.3 Q 599.4 745.7, 598.5 745.9 Q 597.7 746.1, 596.7 746.1 Q 594.3 746.1, 593.1 744.7 Q 591.8 743.2, 591.8 740.5 \" fill=\"#000000\"/>\n",
       "<path class=\"legend\" d=\"M 600.8 740.5 Q 600.8 737.8, 602.0 736.4 Q 603.3 735.0, 605.7 735.0 Q 608.0 735.0, 609.2 736.6 L 608.1 737.4 Q 607.3 736.3, 605.7 736.3 Q 604.1 736.3, 603.2 737.4 Q 602.4 738.4, 602.4 740.5 Q 602.4 742.7, 603.2 743.8 Q 604.1 744.9, 605.9 744.9 Q 607.1 744.9, 608.5 744.2 L 608.9 745.3 Q 608.3 745.7, 607.5 745.9 Q 606.6 746.1, 605.7 746.1 Q 603.3 746.1, 602.0 744.7 Q 600.8 743.2, 600.8 740.5 \" fill=\"#000000\"/>\n",
       "<path class=\"legend\" d=\"M 622.1 746.0 L 620.8 746.0 L 619.6 737.1 L 616.7 746.0 L 615.2 746.0 L 612.3 737.1 L 611.2 746.0 L 609.8 746.0 L 611.1 735.1 L 613.0 735.1 L 616.0 743.8 L 618.9 735.1 L 620.8 735.1 L 622.1 746.0 \" fill=\"#000000\"/>\n",
       "<path class=\"legend\" d=\"M 623.6 744.3 Q 623.7 744.3, 624.2 744.5 Q 624.7 744.8, 625.2 744.9 Q 625.8 745.0, 626.4 745.0 Q 627.4 745.0, 628.0 744.5 Q 628.6 744.0, 628.6 743.1 Q 628.6 742.5, 628.3 742.2 Q 628.0 741.8, 627.5 741.6 Q 627.1 741.4, 626.3 741.2 Q 625.3 740.9, 624.7 740.6 Q 624.2 740.3, 623.8 739.8 Q 623.4 739.2, 623.4 738.2 Q 623.4 736.8, 624.3 736.0 Q 625.2 735.2, 627.1 735.2 Q 628.3 735.2, 629.7 735.8 L 629.4 736.9 Q 628.1 736.4, 627.1 736.4 Q 626.0 736.4, 625.5 736.8 Q 624.9 737.3, 624.9 738.0 Q 624.9 738.6, 625.2 738.9 Q 625.5 739.3, 625.9 739.5 Q 626.4 739.7, 627.1 739.9 Q 628.1 740.2, 628.7 740.5 Q 629.2 740.8, 629.7 741.5 Q 630.1 742.1, 630.1 743.1 Q 630.1 744.6, 629.1 745.5 Q 628.1 746.2, 626.4 746.2 Q 625.5 746.2, 624.7 746.0 Q 624.0 745.8, 623.1 745.5 L 623.6 744.3 \" fill=\"#000000\"/>\n",
       "<path class=\"legend\" d=\"M 630.8 735.1 L 632.3 735.1 L 632.3 744.7 L 637.2 744.7 L 637.2 746.0 L 630.8 746.0 L 630.8 735.1 \" fill=\"#000000\"/>\n",
       "<path class=\"legend\" d=\"M 637.7 735.1 L 639.1 735.1 L 639.1 746.0 L 637.7 746.0 L 637.7 735.1 \" fill=\"#000000\"/>\n",
       "<path class=\"legend\" d=\"M 645.7 740.3 Q 646.8 740.6, 647.3 741.2 Q 647.8 741.8, 647.8 742.8 Q 647.8 744.3, 646.8 745.1 Q 645.9 746.0, 644.1 746.0 L 640.5 746.0 L 640.5 735.1 L 643.7 735.1 Q 645.5 735.1, 646.4 735.9 Q 647.4 736.6, 647.4 738.0 Q 647.4 739.6, 645.7 740.3 M 641.9 736.3 L 641.9 739.7 L 643.7 739.7 Q 644.7 739.7, 645.3 739.3 Q 645.8 738.9, 645.8 738.0 Q 645.8 736.3, 643.7 736.3 L 641.9 736.3 M 644.1 744.7 Q 645.2 744.7, 645.7 744.2 Q 646.3 743.7, 646.3 742.8 Q 646.3 741.9, 645.7 741.4 Q 645.0 741.0, 643.9 741.0 L 641.9 741.0 L 641.9 744.7 L 644.1 744.7 \" fill=\"#000000\"/>\n",
       "<path class=\"legend\" d=\"M 652.5 746.1 Q 650.5 746.1, 649.5 744.6 Q 648.5 743.1, 648.5 740.5 Q 648.5 737.9, 649.5 736.5 Q 650.5 735.0, 652.5 735.0 Q 654.5 735.0, 655.5 736.5 Q 656.4 737.9, 656.4 740.5 Q 656.4 743.1, 655.5 744.6 Q 654.5 746.1, 652.5 746.1 M 652.5 744.9 Q 653.7 744.9, 654.3 743.8 Q 654.9 742.7, 654.9 740.5 Q 654.9 738.4, 654.3 737.3 Q 653.7 736.2, 652.5 736.2 Q 651.3 736.2, 650.7 737.3 Q 650.0 738.4, 650.0 740.5 Q 650.0 742.7, 650.7 743.8 Q 651.3 744.9, 652.5 744.9 \" fill=\"#000000\"/>\n",
       "<path class=\"legend\" d=\"M 661.4 746.1 Q 659.4 746.1, 658.4 744.6 Q 657.4 743.1, 657.4 740.5 Q 657.4 737.9, 658.4 736.5 Q 659.4 735.0, 661.4 735.0 Q 663.4 735.0, 664.4 736.5 Q 665.4 737.9, 665.4 740.5 Q 665.4 743.1, 664.4 744.6 Q 663.4 746.1, 661.4 746.1 M 661.4 744.9 Q 662.6 744.9, 663.2 743.8 Q 663.8 742.7, 663.8 740.5 Q 663.8 738.4, 663.2 737.3 Q 662.6 736.2, 661.4 736.2 Q 660.2 736.2, 659.6 737.3 Q 659.0 738.4, 659.0 740.5 Q 659.0 742.7, 659.6 743.8 Q 660.2 744.9, 661.4 744.9 \" fill=\"#000000\"/>\n",
       "<path class=\"legend\" d=\"M 670.3 746.1 Q 668.3 746.1, 667.3 744.6 Q 666.4 743.1, 666.4 740.5 Q 666.4 737.9, 667.3 736.5 Q 668.3 735.0, 670.3 735.0 Q 672.3 735.0, 673.3 736.5 Q 674.3 737.9, 674.3 740.5 Q 674.3 743.1, 673.3 744.6 Q 672.3 746.1, 670.3 746.1 M 670.3 744.9 Q 671.5 744.9, 672.1 743.8 Q 672.8 742.7, 672.8 740.5 Q 672.8 738.4, 672.1 737.3 Q 671.5 736.2, 670.3 736.2 Q 669.2 736.2, 668.5 737.3 Q 667.9 738.4, 667.9 740.5 Q 667.9 742.7, 668.5 743.8 Q 669.2 744.9, 670.3 744.9 \" fill=\"#000000\"/>\n",
       "<path class=\"legend\" d=\"M 679.3 746.1 Q 677.3 746.1, 676.3 744.6 Q 675.3 743.1, 675.3 740.5 Q 675.3 737.9, 676.3 736.5 Q 677.2 735.0, 679.3 735.0 Q 681.3 735.0, 682.2 736.5 Q 683.2 737.9, 683.2 740.5 Q 683.2 743.1, 682.2 744.6 Q 681.2 746.1, 679.3 746.1 M 679.3 744.9 Q 680.4 744.9, 681.1 743.8 Q 681.7 742.7, 681.7 740.5 Q 681.7 738.4, 681.1 737.3 Q 680.4 736.2, 679.3 736.2 Q 678.1 736.2, 677.4 737.3 Q 676.8 738.4, 676.8 740.5 Q 676.8 742.7, 677.4 743.8 Q 678.1 744.9, 679.3 744.9 \" fill=\"#000000\"/>\n",
       "<path class=\"legend\" d=\"M 688.5 739.2 Q 689.4 739.2, 690.2 739.6 Q 690.9 740.0, 691.3 740.8 Q 691.7 741.5, 691.7 742.5 Q 691.7 743.5, 691.3 744.4 Q 690.8 745.2, 690.0 745.6 Q 689.1 746.1, 688.1 746.1 Q 686.2 746.1, 685.2 744.8 Q 684.2 743.5, 684.2 740.9 Q 684.2 738.0, 685.4 736.5 Q 686.6 735.0, 688.9 735.0 Q 689.6 735.0, 690.2 735.2 Q 690.7 735.3, 691.3 735.6 L 690.7 736.7 Q 689.9 736.2, 688.9 736.2 Q 687.4 736.2, 686.6 737.2 Q 685.8 738.2, 685.8 740.2 Q 686.3 739.7, 687.0 739.5 Q 687.7 739.2, 688.5 739.2 M 688.1 744.8 Q 688.7 744.8, 689.2 744.5 Q 689.6 744.2, 689.9 743.7 Q 690.2 743.1, 690.2 742.5 Q 690.2 741.5, 689.7 741.0 Q 689.1 740.4, 688.2 740.4 Q 687.5 740.4, 686.9 740.7 Q 686.2 741.0, 685.8 741.4 Q 685.8 743.2, 686.4 744.0 Q 687.0 744.8, 688.1 744.8 \" fill=\"#000000\"/>\n",
       "<path class=\"legend\" d=\"M 696.5 739.2 Q 697.5 739.2, 698.2 739.6 Q 699.0 740.0, 699.5 740.8 Q 699.9 741.5, 699.9 742.5 Q 699.9 743.6, 699.3 744.5 Q 698.8 745.3, 697.9 745.7 Q 697.0 746.1, 696.0 746.1 Q 695.0 746.1, 694.1 745.7 Q 693.2 745.3, 692.6 744.6 L 693.5 743.7 Q 694.0 744.2, 694.7 744.6 Q 695.4 744.8, 696.1 744.8 Q 697.0 744.8, 697.7 744.2 Q 698.4 743.6, 698.4 742.6 Q 698.4 741.4, 697.7 740.9 Q 697.0 740.3, 696.0 740.3 Q 695.0 740.3, 694.0 740.7 L 693.1 740.3 L 693.7 735.1 L 699.2 735.1 L 699.1 736.3 L 694.9 736.3 L 694.6 739.6 Q 695.6 739.2, 696.5 739.2 \" fill=\"#000000\"/>\n",
       "<path class=\"legend\" d=\"M 706.2 740.2 Q 707.2 740.6, 707.7 741.3 Q 708.3 741.9, 708.3 743.0 Q 708.3 743.9, 707.8 744.6 Q 707.3 745.3, 706.5 745.7 Q 705.6 746.1, 704.5 746.1 Q 702.7 746.1, 701.7 745.3 Q 700.6 744.4, 700.6 743.0 Q 700.6 742.1, 701.1 741.4 Q 701.6 740.8, 702.5 740.3 Q 701.8 739.9, 701.4 739.3 Q 701.0 738.7, 701.0 737.8 Q 701.0 736.5, 702.0 735.8 Q 702.9 735.0, 704.5 735.0 Q 706.0 735.0, 707.0 735.8 Q 707.9 736.5, 707.9 737.8 Q 707.9 738.6, 707.4 739.2 Q 707.0 739.7, 706.2 740.2 M 704.5 736.1 Q 703.6 736.1, 703.1 736.6 Q 702.6 737.0, 702.6 737.8 Q 702.6 738.3, 702.9 738.7 Q 703.2 739.1, 703.7 739.3 Q 704.2 739.5, 705.1 739.8 Q 705.8 739.4, 706.1 738.9 Q 706.4 738.4, 706.4 737.8 Q 706.4 737.0, 705.9 736.6 Q 705.4 736.1, 704.5 736.1 M 704.5 745.0 Q 705.5 745.0, 706.1 744.4 Q 706.8 743.9, 706.8 743.0 Q 706.8 742.4, 706.4 742.0 Q 706.1 741.7, 705.6 741.4 Q 705.2 741.2, 704.3 741.0 L 703.6 740.7 Q 702.8 741.2, 702.5 741.7 Q 702.2 742.3, 702.2 743.0 Q 702.2 743.9, 702.8 744.4 Q 703.5 745.0, 704.5 745.0 \" fill=\"#000000\"/>\n",
       "<path class=\"legend\" d=\"M 709.8 744.7 L 712.2 744.7 L 712.2 736.6 L 709.6 737.4 L 709.3 736.5 L 712.6 735.1 L 713.7 735.2 L 713.7 744.7 L 715.8 744.7 L 715.8 746.0 L 709.8 746.0 L 709.8 744.7 \" fill=\"#000000\"/>\n",
       "<path class=\"legend\" d=\"M 720.1 735.0 Q 722.0 735.0, 723.0 736.3 Q 723.9 737.6, 723.9 740.2 Q 723.9 743.1, 722.7 744.6 Q 721.5 746.1, 719.2 746.1 Q 718.6 746.1, 718.0 745.9 Q 717.4 745.8, 716.9 745.5 L 717.5 744.4 Q 718.3 744.9, 719.2 744.9 Q 720.7 744.9, 721.5 743.9 Q 722.3 742.9, 722.4 740.8 Q 721.8 741.4, 721.1 741.6 Q 720.5 741.9, 719.7 741.9 Q 718.8 741.9, 718.0 741.5 Q 717.3 741.1, 716.8 740.3 Q 716.4 739.6, 716.4 738.6 Q 716.4 737.6, 716.9 736.7 Q 717.4 735.9, 718.2 735.5 Q 719.0 735.0, 720.1 735.0 M 718.0 738.6 Q 718.0 739.6, 718.5 740.1 Q 719.0 740.7, 720.0 740.7 Q 720.6 740.7, 721.3 740.4 Q 721.9 740.1, 722.4 739.7 Q 722.3 737.9, 721.8 737.1 Q 721.2 736.3, 720.1 736.3 Q 719.5 736.3, 719.0 736.6 Q 718.5 736.9, 718.2 737.4 Q 718.0 737.9, 718.0 738.6 \" fill=\"#000000\"/>\n",
       "<path class=\"legend\" d=\"M 730.2 740.2 Q 731.2 740.6, 731.8 741.2 Q 732.3 741.9, 732.3 743.0 Q 732.3 743.9, 731.8 744.6 Q 731.4 745.3, 730.5 745.7 Q 729.7 746.1, 728.6 746.1 Q 727.4 746.1, 726.5 745.7 Q 725.7 745.3, 725.0 744.5 L 725.9 743.6 Q 726.5 744.3, 727.1 744.6 Q 727.7 744.9, 728.6 744.9 Q 729.5 744.9, 730.1 744.4 Q 730.7 743.8, 730.7 743.0 Q 730.7 741.9, 730.1 741.4 Q 729.5 740.9, 728.2 740.9 L 727.4 740.9 L 727.4 739.8 L 728.1 739.8 Q 729.3 739.8, 729.9 739.3 Q 730.5 738.7, 730.5 737.8 Q 730.5 737.1, 730.0 736.7 Q 729.5 736.2, 728.6 736.2 Q 727.7 736.2, 727.1 736.5 Q 726.6 736.9, 726.1 737.7 L 725.1 737.1 Q 725.5 736.2, 726.4 735.6 Q 727.3 735.0, 728.6 735.0 Q 730.2 735.0, 731.1 735.8 Q 732.0 736.5, 732.0 737.8 Q 732.0 738.6, 731.6 739.3 Q 731.1 739.9, 730.2 740.2 \" fill=\"#000000\"/>\n",
       "<path class=\"legend\" d=\"M 733.8 744.7 L 736.1 744.7 L 736.1 736.6 L 733.5 737.4 L 733.2 736.5 L 736.5 735.1 L 737.6 735.2 L 737.6 744.7 L 739.7 744.7 L 739.7 746.0 L 733.8 746.0 L 733.8 744.7 \" fill=\"#000000\"/>\n",
       "<path class=\"bond-0 atom-0 atom-1\" d=\"M 904.3,667.2 L 922.1,658.6\" style=\"fill:none;fill-rule:evenodd;stroke:#000000;stroke-width:2.0px;stroke-linecap:butt;stroke-linejoin:miter;stroke-opacity:1\"/>\n",
       "<path class=\"bond-1 atom-1 atom-2\" d=\"M 922.1,658.6 L 938.4,669.6\" style=\"fill:none;fill-rule:evenodd;stroke:#000000;stroke-width:2.0px;stroke-linecap:butt;stroke-linejoin:miter;stroke-opacity:1\"/>\n",
       "<path class=\"bond-2 atom-2 atom-3\" d=\"M 938.4,669.6 L 956.2,661.0\" style=\"fill:none;fill-rule:evenodd;stroke:#000000;stroke-width:2.0px;stroke-linecap:butt;stroke-linejoin:miter;stroke-opacity:1\"/>\n",
       "<path class=\"bond-3 atom-3 atom-4\" d=\"M 956.2,661.0 L 972.6,672.0\" style=\"fill:none;fill-rule:evenodd;stroke:#000000;stroke-width:2.0px;stroke-linecap:butt;stroke-linejoin:miter;stroke-opacity:1\"/>\n",
       "<path class=\"bond-4 atom-4 atom-5\" d=\"M 972.6,672.0 L 990.4,663.4\" style=\"fill:none;fill-rule:evenodd;stroke:#000000;stroke-width:2.0px;stroke-linecap:butt;stroke-linejoin:miter;stroke-opacity:1\"/>\n",
       "<path class=\"bond-5 atom-5 atom-6\" d=\"M 990.4,663.4 L 1006.8,674.5\" style=\"fill:none;fill-rule:evenodd;stroke:#000000;stroke-width:2.0px;stroke-linecap:butt;stroke-linejoin:miter;stroke-opacity:1\"/>\n",
       "<path class=\"bond-5 atom-5 atom-6\" d=\"M 990.7,668.3 L 1002.1,676.1\" style=\"fill:none;fill-rule:evenodd;stroke:#000000;stroke-width:2.0px;stroke-linecap:butt;stroke-linejoin:miter;stroke-opacity:1\"/>\n",
       "<path class=\"bond-6 atom-6 atom-7\" d=\"M 1006.8,674.5 L 1024.6,665.8\" style=\"fill:none;fill-rule:evenodd;stroke:#000000;stroke-width:2.0px;stroke-linecap:butt;stroke-linejoin:miter;stroke-opacity:1\"/>\n",
       "<path class=\"bond-7 atom-7 atom-8\" d=\"M 1022.6,665.6 L 1023.2,657.6\" style=\"fill:none;fill-rule:evenodd;stroke:#000000;stroke-width:2.0px;stroke-linecap:butt;stroke-linejoin:miter;stroke-opacity:1\"/>\n",
       "<path class=\"bond-7 atom-7 atom-8\" d=\"M 1023.2,657.6 L 1023.8,649.5\" style=\"fill:none;fill-rule:evenodd;stroke:#FF0000;stroke-width:2.0px;stroke-linecap:butt;stroke-linejoin:miter;stroke-opacity:1\"/>\n",
       "<path class=\"bond-7 atom-7 atom-8\" d=\"M 1026.6,665.9 L 1027.1,657.8\" style=\"fill:none;fill-rule:evenodd;stroke:#000000;stroke-width:2.0px;stroke-linecap:butt;stroke-linejoin:miter;stroke-opacity:1\"/>\n",
       "<path class=\"bond-7 atom-7 atom-8\" d=\"M 1027.1,657.8 L 1027.7,649.8\" style=\"fill:none;fill-rule:evenodd;stroke:#FF0000;stroke-width:2.0px;stroke-linecap:butt;stroke-linejoin:miter;stroke-opacity:1\"/>\n",
       "<path class=\"bond-8 atom-7 atom-9\" d=\"M 1024.6,665.8 L 1031.2,670.2\" style=\"fill:none;fill-rule:evenodd;stroke:#000000;stroke-width:2.0px;stroke-linecap:butt;stroke-linejoin:miter;stroke-opacity:1\"/>\n",
       "<path class=\"bond-8 atom-7 atom-9\" d=\"M 1031.2,670.2 L 1037.8,674.7\" style=\"fill:none;fill-rule:evenodd;stroke:#FF0000;stroke-width:2.0px;stroke-linecap:butt;stroke-linejoin:miter;stroke-opacity:1\"/>\n",
       "<path class=\"bond-9 atom-9 atom-10\" d=\"M 1044.2,675.3 L 1051.5,671.7\" style=\"fill:none;fill-rule:evenodd;stroke:#FF0000;stroke-width:2.0px;stroke-linecap:butt;stroke-linejoin:miter;stroke-opacity:1\"/>\n",
       "<path class=\"bond-9 atom-9 atom-10\" d=\"M 1051.5,671.7 L 1058.8,668.2\" style=\"fill:none;fill-rule:evenodd;stroke:#000000;stroke-width:2.0px;stroke-linecap:butt;stroke-linejoin:miter;stroke-opacity:1\"/>\n",
       "<path class=\"bond-10 atom-10 atom-11\" d=\"M 1058.8,668.2 L 1075.2,679.3\" style=\"fill:none;fill-rule:evenodd;stroke:#000000;stroke-width:2.0px;stroke-linecap:butt;stroke-linejoin:miter;stroke-opacity:1\"/>\n",
       "<path class=\"bond-11 atom-11 atom-12\" d=\"M 1075.2,679.3 L 1073.8,699.0\" style=\"fill:none;fill-rule:evenodd;stroke:#000000;stroke-width:2.0px;stroke-linecap:butt;stroke-linejoin:miter;stroke-opacity:1\"/>\n",
       "<path class=\"bond-12 atom-12 atom-13\" d=\"M 1073.8,699.0 L 1080.4,703.4\" style=\"fill:none;fill-rule:evenodd;stroke:#000000;stroke-width:2.0px;stroke-linecap:butt;stroke-linejoin:miter;stroke-opacity:1\"/>\n",
       "<path class=\"bond-12 atom-12 atom-13\" d=\"M 1080.4,703.4 L 1087.0,707.9\" style=\"fill:none;fill-rule:evenodd;stroke:#FF0000;stroke-width:2.0px;stroke-linecap:butt;stroke-linejoin:miter;stroke-opacity:1\"/>\n",
       "<path class=\"bond-13 atom-12 atom-14\" d=\"M 1074.6,700.8 L 1067.4,704.3\" style=\"fill:none;fill-rule:evenodd;stroke:#000000;stroke-width:2.0px;stroke-linecap:butt;stroke-linejoin:miter;stroke-opacity:1\"/>\n",
       "<path class=\"bond-13 atom-12 atom-14\" d=\"M 1067.4,704.3 L 1060.1,707.9\" style=\"fill:none;fill-rule:evenodd;stroke:#FF0000;stroke-width:2.0px;stroke-linecap:butt;stroke-linejoin:miter;stroke-opacity:1\"/>\n",
       "<path class=\"bond-13 atom-12 atom-14\" d=\"M 1072.9,697.2 L 1065.6,700.8\" style=\"fill:none;fill-rule:evenodd;stroke:#000000;stroke-width:2.0px;stroke-linecap:butt;stroke-linejoin:miter;stroke-opacity:1\"/>\n",
       "<path class=\"bond-13 atom-12 atom-14\" d=\"M 1065.6,700.8 L 1058.4,704.3\" style=\"fill:none;fill-rule:evenodd;stroke:#FF0000;stroke-width:2.0px;stroke-linecap:butt;stroke-linejoin:miter;stroke-opacity:1\"/>\n",
       "<path class=\"bond-14 atom-10 atom-15\" d=\"M 1058.8,668.2 L 1060.2,648.5\" style=\"fill:none;fill-rule:evenodd;stroke:#000000;stroke-width:2.0px;stroke-linecap:butt;stroke-linejoin:miter;stroke-opacity:1\"/>\n",
       "<path class=\"bond-15 atom-15 atom-16\" d=\"M 1060.2,648.5 L 1067.7,644.8\" style=\"fill:none;fill-rule:evenodd;stroke:#000000;stroke-width:2.0px;stroke-linecap:butt;stroke-linejoin:miter;stroke-opacity:1\"/>\n",
       "<path class=\"bond-15 atom-15 atom-16\" d=\"M 1067.7,644.8 L 1075.2,641.1\" style=\"fill:none;fill-rule:evenodd;stroke:#0000FF;stroke-width:2.0px;stroke-linecap:butt;stroke-linejoin:miter;stroke-opacity:1\"/>\n",
       "<path class=\"bond-16 atom-16 atom-17\" d=\"M 1079.6,643.2 L 1083.1,650.4\" style=\"fill:none;fill-rule:evenodd;stroke:#0000FF;stroke-width:2.0px;stroke-linecap:butt;stroke-linejoin:miter;stroke-opacity:1\"/>\n",
       "<path class=\"bond-16 atom-16 atom-17\" d=\"M 1083.1,650.4 L 1086.6,657.6\" style=\"fill:none;fill-rule:evenodd;stroke:#000000;stroke-width:2.0px;stroke-linecap:butt;stroke-linejoin:miter;stroke-opacity:1\"/>\n",
       "<path class=\"bond-17 atom-16 atom-18\" d=\"M 1076.3,636.3 L 1072.8,629.2\" style=\"fill:none;fill-rule:evenodd;stroke:#0000FF;stroke-width:2.0px;stroke-linecap:butt;stroke-linejoin:miter;stroke-opacity:1\"/>\n",
       "<path class=\"bond-17 atom-16 atom-18\" d=\"M 1072.8,629.2 L 1069.3,622.0\" style=\"fill:none;fill-rule:evenodd;stroke:#000000;stroke-width:2.0px;stroke-linecap:butt;stroke-linejoin:miter;stroke-opacity:1\"/>\n",
       "<path class=\"bond-18 atom-16 atom-19\" d=\"M 1083.8,636.9 L 1089.8,634.0\" style=\"fill:none;fill-rule:evenodd;stroke:#0000FF;stroke-width:2.0px;stroke-linecap:butt;stroke-linejoin:miter;stroke-opacity:1\"/>\n",
       "<path class=\"bond-18 atom-16 atom-19\" d=\"M 1089.8,634.0 L 1095.7,631.1\" style=\"fill:none;fill-rule:evenodd;stroke:#000000;stroke-width:2.0px;stroke-linecap:butt;stroke-linejoin:miter;stroke-opacity:1\"/>\n",
       "<path class=\"atom-8\" d=\"M 1023.4 646.1 Q 1023.4 644.7, 1024.1 644.0 Q 1024.7 643.2, 1026.0 643.2 Q 1027.2 643.2, 1027.9 644.0 Q 1028.6 644.7, 1028.6 646.1 Q 1028.6 647.4, 1027.9 648.2 Q 1027.2 649.0, 1026.0 649.0 Q 1024.7 649.0, 1024.1 648.2 Q 1023.4 647.4, 1023.4 646.1 M 1026.0 648.3 Q 1026.8 648.3, 1027.3 647.8 Q 1027.8 647.2, 1027.8 646.1 Q 1027.8 645.0, 1027.3 644.4 Q 1026.8 643.9, 1026.0 643.9 Q 1025.1 643.9, 1024.7 644.4 Q 1024.2 645.0, 1024.2 646.1 Q 1024.2 647.2, 1024.7 647.8 Q 1025.1 648.3, 1026.0 648.3 \" fill=\"#FF0000\"/>\n",
       "<path class=\"atom-9\" d=\"M 1038.4 676.9 Q 1038.4 675.5, 1039.1 674.8 Q 1039.7 674.0, 1041.0 674.0 Q 1042.2 674.0, 1042.9 674.8 Q 1043.6 675.5, 1043.6 676.9 Q 1043.6 678.2, 1042.9 679.0 Q 1042.2 679.8, 1041.0 679.8 Q 1039.8 679.8, 1039.1 679.0 Q 1038.4 678.2, 1038.4 676.9 M 1041.0 679.1 Q 1041.8 679.1, 1042.3 678.6 Q 1042.8 678.0, 1042.8 676.9 Q 1042.8 675.8, 1042.3 675.2 Q 1041.8 674.7, 1041.0 674.7 Q 1040.1 674.7, 1039.7 675.2 Q 1039.2 675.8, 1039.2 676.9 Q 1039.2 678.0, 1039.7 678.6 Q 1040.1 679.1, 1041.0 679.1 \" fill=\"#FF0000\"/>\n",
       "<path class=\"atom-13\" d=\"M 1087.6 710.1 Q 1087.6 708.7, 1088.3 708.0 Q 1088.9 707.2, 1090.2 707.2 Q 1091.4 707.2, 1092.1 708.0 Q 1092.7 708.7, 1092.7 710.1 Q 1092.7 711.4, 1092.1 712.2 Q 1091.4 713.0, 1090.2 713.0 Q 1088.9 713.0, 1088.3 712.2 Q 1087.6 711.5, 1087.6 710.1 M 1090.2 712.4 Q 1091.0 712.4, 1091.5 711.8 Q 1092.0 711.2, 1092.0 710.1 Q 1092.0 709.0, 1091.5 708.4 Q 1091.0 707.9, 1090.2 707.9 Q 1089.3 707.9, 1088.9 708.4 Q 1088.4 709.0, 1088.4 710.1 Q 1088.4 711.2, 1088.9 711.8 Q 1089.3 712.4, 1090.2 712.4 \" fill=\"#FF0000\"/>\n",
       "<path class=\"atom-13\" d=\"M 1093.1 708.2 L 1095.1 708.2 L 1095.1 708.6 L 1093.1 708.6 L 1093.1 708.2 \" fill=\"#FF0000\"/>\n",
       "<path class=\"atom-14\" d=\"M 1053.4 707.7 Q 1053.4 706.3, 1054.1 705.6 Q 1054.8 704.8, 1056.0 704.8 Q 1057.2 704.8, 1057.9 705.6 Q 1058.6 706.3, 1058.6 707.7 Q 1058.6 709.0, 1057.9 709.8 Q 1057.2 710.6, 1056.0 710.6 Q 1054.8 710.6, 1054.1 709.8 Q 1053.4 709.0, 1053.4 707.7 M 1056.0 709.9 Q 1056.8 709.9, 1057.3 709.4 Q 1057.8 708.8, 1057.8 707.7 Q 1057.8 706.6, 1057.3 706.0 Q 1056.8 705.5, 1056.0 705.5 Q 1055.1 705.5, 1054.7 706.0 Q 1054.2 706.6, 1054.2 707.7 Q 1054.2 708.8, 1054.7 709.4 Q 1055.1 709.9, 1056.0 709.9 \" fill=\"#FF0000\"/>\n",
       "<path class=\"atom-16\" d=\"M 1076.7 637.0 L 1078.5 640.0 Q 1078.7 640.3, 1079.0 640.8 Q 1079.3 641.3, 1079.3 641.3 L 1079.3 637.0 L 1080.1 637.0 L 1080.1 642.6 L 1079.3 642.6 L 1077.3 639.4 Q 1077.1 639.0, 1076.9 638.5 Q 1076.6 638.1, 1076.6 638.0 L 1076.6 642.6 L 1075.8 642.6 L 1075.8 637.0 L 1076.7 637.0 \" fill=\"#0000FF\"/>\n",
       "<path class=\"atom-16\" d=\"M 1080.7 638.0 L 1081.7 638.0 L 1081.7 637.0 L 1082.2 637.0 L 1082.2 638.0 L 1083.2 638.0 L 1083.2 638.4 L 1082.2 638.4 L 1082.2 639.4 L 1081.7 639.4 L 1081.7 638.4 L 1080.7 638.4 L 1080.7 638.0 \" fill=\"#0000FF\"/>\n",
       "<path class=\"legend\" d=\"M 858.2 735.1 L 859.6 735.1 L 859.6 744.7 L 864.6 744.7 L 864.6 746.0 L 858.2 746.0 L 858.2 735.1 \" fill=\"#000000\"/>\n",
       "<path class=\"legend\" d=\"M 865.0 740.5 Q 865.0 737.9, 866.3 736.5 Q 867.6 735.0, 870.0 735.0 Q 872.4 735.0, 873.7 736.5 Q 875.0 737.9, 875.0 740.5 Q 875.0 743.1, 873.7 744.6 Q 872.4 746.1, 870.0 746.1 Q 867.6 746.1, 866.3 744.6 Q 865.0 743.2, 865.0 740.5 M 870.0 744.9 Q 871.7 744.9, 872.5 743.8 Q 873.4 742.7, 873.4 740.5 Q 873.4 738.4, 872.5 737.3 Q 871.7 736.2, 870.0 736.2 Q 868.3 736.2, 867.4 737.3 Q 866.6 738.4, 866.6 740.5 Q 866.6 742.7, 867.4 743.8 Q 868.3 744.9, 870.0 744.9 \" fill=\"#000000\"/>\n",
       "<path class=\"legend\" d=\"M 876.2 744.3 Q 876.3 744.3, 876.8 744.5 Q 877.3 744.8, 877.8 744.9 Q 878.4 745.0, 879.0 745.0 Q 880.0 745.0, 880.6 744.5 Q 881.2 744.0, 881.2 743.1 Q 881.2 742.5, 880.9 742.2 Q 880.6 741.8, 880.1 741.6 Q 879.7 741.4, 878.9 741.2 Q 877.9 740.9, 877.3 740.6 Q 876.8 740.3, 876.4 739.8 Q 876.0 739.2, 876.0 738.2 Q 876.0 736.8, 876.9 736.0 Q 877.8 735.2, 879.7 735.2 Q 880.9 735.2, 882.3 735.8 L 882.0 736.9 Q 880.7 736.4, 879.7 736.4 Q 878.6 736.4, 878.1 736.8 Q 877.5 737.3, 877.5 738.0 Q 877.5 738.6, 877.8 738.9 Q 878.1 739.3, 878.5 739.5 Q 879.0 739.7, 879.7 739.9 Q 880.7 740.2, 881.3 740.5 Q 881.8 740.8, 882.3 741.5 Q 882.7 742.1, 882.7 743.1 Q 882.7 744.6, 881.7 745.5 Q 880.7 746.2, 879.0 746.2 Q 878.1 746.2, 877.3 746.0 Q 876.6 745.8, 875.7 745.5 L 876.2 744.3 \" fill=\"#000000\"/>\n",
       "<path class=\"legend\" d=\"M 883.4 735.1 L 884.9 735.1 L 884.9 739.7 L 890.4 739.7 L 890.4 735.1 L 891.9 735.1 L 891.9 746.0 L 890.4 746.0 L 890.4 741.0 L 884.9 741.0 L 884.9 746.0 L 883.4 746.0 L 883.4 735.1 \" fill=\"#000000\"/>\n",
       "<path class=\"legend\" d=\"M 901.2 746.0 L 900.0 742.8 L 895.7 742.8 L 894.7 746.0 L 893.2 746.0 L 896.9 735.1 L 898.7 735.1 L 902.6 746.0 L 901.2 746.0 M 896.2 741.6 L 899.6 741.6 L 897.9 736.6 L 896.2 741.6 \" fill=\"#000000\"/>\n",
       "<path class=\"legend\" d=\"M 902.8 735.1 L 904.3 735.1 L 904.3 739.7 L 909.8 739.7 L 909.8 735.1 L 911.3 735.1 L 911.3 746.0 L 909.8 746.0 L 909.8 741.0 L 904.3 741.0 L 904.3 746.0 L 902.8 746.0 L 902.8 735.1 \" fill=\"#000000\"/>\n",
       "<path class=\"legend\" d=\"M 916.1 735.1 Q 918.5 735.1, 919.8 736.5 Q 921.0 738.0, 921.0 740.5 Q 921.0 743.1, 919.7 744.5 Q 918.5 746.0, 916.1 746.0 L 912.6 746.0 L 912.6 735.1 L 916.1 735.1 M 916.1 744.7 Q 917.7 744.7, 918.6 743.7 Q 919.5 742.6, 919.5 740.5 Q 919.5 738.4, 918.6 737.4 Q 917.7 736.3, 916.1 736.3 L 914.0 736.3 L 914.0 744.7 L 916.1 744.7 \" fill=\"#000000\"/>\n",
       "<path class=\"legend\" d=\"M 922.1 744.3 Q 922.3 744.3, 922.8 744.5 Q 923.3 744.8, 923.8 744.9 Q 924.4 745.0, 924.9 745.0 Q 926.0 745.0, 926.6 744.5 Q 927.2 744.0, 927.2 743.1 Q 927.2 742.5, 926.9 742.2 Q 926.6 741.8, 926.1 741.6 Q 925.7 741.4, 924.9 741.2 Q 923.9 740.9, 923.3 740.6 Q 922.8 740.3, 922.4 739.8 Q 922.0 739.2, 922.0 738.2 Q 922.0 736.8, 922.9 736.0 Q 923.8 735.2, 925.7 735.2 Q 926.9 735.2, 928.3 735.8 L 928.0 736.9 Q 926.7 736.4, 925.7 736.4 Q 924.6 736.4, 924.1 736.8 Q 923.5 737.3, 923.5 738.0 Q 923.5 738.6, 923.8 738.9 Q 924.1 739.3, 924.5 739.5 Q 925.0 739.7, 925.7 739.9 Q 926.7 740.2, 927.3 740.5 Q 927.8 740.8, 928.3 741.5 Q 928.7 742.1, 928.7 743.1 Q 928.7 744.6, 927.7 745.5 Q 926.7 746.2, 925.0 746.2 Q 924.0 746.2, 923.3 746.0 Q 922.6 745.8, 921.7 745.5 L 922.1 744.3 \" fill=\"#000000\"/>\n",
       "<path class=\"legend\" d=\"M 929.4 735.1 L 935.8 735.1 L 935.8 736.4 L 930.9 736.4 L 930.9 739.7 L 935.3 739.7 L 935.3 740.9 L 930.9 740.9 L 930.9 746.0 L 929.4 746.0 L 929.4 735.1 \" fill=\"#000000\"/>\n",
       "<path class=\"legend\" d=\"M 936.2 744.8 L 941.6 736.4 L 936.4 736.4 L 936.4 735.1 L 943.5 735.1 L 943.5 736.2 L 938.0 744.7 L 943.4 744.7 L 943.4 746.0 L 936.2 746.0 L 936.2 744.8 \" fill=\"#000000\"/>\n",
       "<path class=\"legend\" d=\"M 953.9 746.0 L 952.2 746.0 L 949.0 741.5 L 945.8 746.0 L 944.1 746.0 L 948.2 740.3 L 944.4 735.1 L 946.1 735.1 L 949.1 739.2 L 952.0 735.1 L 953.7 735.1 L 949.9 740.4 L 953.9 746.0 \" fill=\"#000000\"/>\n",
       "<path class=\"legend\" d=\"M 961.6 735.1 L 963.0 735.1 L 959.3 746.0 L 957.5 746.0 L 954.0 735.1 L 955.4 735.1 L 958.5 744.4 L 961.6 735.1 \" fill=\"#000000\"/>\n",
       "<path class=\"legend\" d=\"M 963.3 740.5 Q 963.3 737.8, 964.6 736.4 Q 965.8 735.0, 968.2 735.0 Q 970.5 735.0, 971.7 736.6 L 970.7 737.4 Q 969.8 736.3, 968.2 736.3 Q 966.6 736.3, 965.7 737.4 Q 964.9 738.4, 964.9 740.5 Q 964.9 742.7, 965.8 743.8 Q 966.7 744.9, 968.4 744.9 Q 969.6 744.9, 971.0 744.2 L 971.4 745.3 Q 970.9 745.7, 970.0 745.9 Q 969.2 746.1, 968.2 746.1 Q 965.8 746.1, 964.6 744.7 Q 963.3 743.2, 963.3 740.5 \" fill=\"#000000\"/>\n",
       "<path class=\"legend\" d=\"M 975.6 736.3 L 972.3 736.3 L 972.3 735.1 L 980.3 735.1 L 980.3 736.3 L 977.1 736.3 L 977.1 746.0 L 975.6 746.0 L 975.6 736.3 \" fill=\"#000000\"/>\n",
       "<path class=\"legend\" d=\"\" fill=\"#000000\"/>\n",
       "<path class=\"legend\" d=\"M 985.4 744.2 L 986.9 744.2 L 986.9 745.7 L 985.4 745.7 L 985.4 744.2 M 985.4 738.9 L 986.9 738.9 L 986.9 740.4 L 985.4 740.4 L 985.4 738.9 \" fill=\"#000000\"/>\n",
       "<path class=\"legend\" d=\"\" fill=\"#000000\"/>\n",
       "<path class=\"legend\" d=\"M 993.2 740.5 Q 993.2 737.8, 994.4 736.4 Q 995.7 735.0, 998.1 735.0 Q 1000.3 735.0, 1001.5 736.6 L 1000.5 737.4 Q 999.6 736.3, 998.1 736.3 Q 996.5 736.3, 995.6 737.4 Q 994.7 738.4, 994.7 740.5 Q 994.7 742.7, 995.6 743.8 Q 996.5 744.9, 998.3 744.9 Q 999.5 744.9, 1000.8 744.2 L 1001.3 745.3 Q 1000.7 745.7, 999.9 745.9 Q 999.0 746.1, 998.0 746.1 Q 995.7 746.1, 994.4 744.7 Q 993.2 743.2, 993.2 740.5 \" fill=\"#000000\"/>\n",
       "<path class=\"legend\" d=\"M 1002.1 740.5 Q 1002.1 737.8, 1003.4 736.4 Q 1004.7 735.0, 1007.1 735.0 Q 1009.3 735.0, 1010.5 736.6 L 1009.5 737.4 Q 1008.6 736.3, 1007.1 736.3 Q 1005.4 736.3, 1004.6 737.4 Q 1003.7 738.4, 1003.7 740.5 Q 1003.7 742.7, 1004.6 743.8 Q 1005.5 744.9, 1007.2 744.9 Q 1008.4 744.9, 1009.8 744.2 L 1010.2 745.3 Q 1009.7 745.7, 1008.8 745.9 Q 1008.0 746.1, 1007.0 746.1 Q 1004.7 746.1, 1003.4 744.7 Q 1002.1 743.2, 1002.1 740.5 \" fill=\"#000000\"/>\n",
       "<path class=\"legend\" d=\"M 1023.5 746.0 L 1022.1 746.0 L 1021.0 737.1 L 1018.0 746.0 L 1016.6 746.0 L 1013.6 737.1 L 1012.5 746.0 L 1011.1 746.0 L 1012.5 735.1 L 1014.3 735.1 L 1017.3 743.8 L 1020.3 735.1 L 1022.1 735.1 L 1023.5 746.0 \" fill=\"#000000\"/>\n",
       "<path class=\"legend\" d=\"M 1024.9 744.3 Q 1025.0 744.3, 1025.5 744.5 Q 1026.0 744.8, 1026.6 744.9 Q 1027.1 745.0, 1027.7 745.0 Q 1028.7 745.0, 1029.3 744.5 Q 1029.9 744.0, 1029.9 743.1 Q 1029.9 742.5, 1029.6 742.2 Q 1029.3 741.8, 1028.9 741.6 Q 1028.4 741.4, 1027.6 741.2 Q 1026.7 740.9, 1026.1 740.6 Q 1025.5 740.3, 1025.1 739.8 Q 1024.7 739.2, 1024.7 738.2 Q 1024.7 736.8, 1025.6 736.0 Q 1026.6 735.2, 1028.4 735.2 Q 1029.7 735.2, 1031.1 735.8 L 1030.7 736.9 Q 1029.4 736.4, 1028.4 736.4 Q 1027.4 736.4, 1026.8 736.8 Q 1026.2 737.3, 1026.2 738.0 Q 1026.2 738.6, 1026.5 738.9 Q 1026.8 739.3, 1027.3 739.5 Q 1027.7 739.7, 1028.4 739.9 Q 1029.4 740.2, 1030.0 740.5 Q 1030.6 740.8, 1031.0 741.5 Q 1031.4 742.1, 1031.4 743.1 Q 1031.4 744.6, 1030.4 745.5 Q 1029.4 746.2, 1027.8 746.2 Q 1026.8 746.2, 1026.1 746.0 Q 1025.3 745.8, 1024.5 745.5 L 1024.9 744.3 \" fill=\"#000000\"/>\n",
       "<path class=\"legend\" d=\"M 1032.1 735.1 L 1033.6 735.1 L 1033.6 744.7 L 1038.6 744.7 L 1038.6 746.0 L 1032.1 746.0 L 1032.1 735.1 \" fill=\"#000000\"/>\n",
       "<path class=\"legend\" d=\"M 1039.0 735.1 L 1040.4 735.1 L 1040.4 746.0 L 1039.0 746.0 L 1039.0 735.1 \" fill=\"#000000\"/>\n",
       "<path class=\"legend\" d=\"M 1047.1 740.3 Q 1048.1 740.6, 1048.6 741.2 Q 1049.2 741.8, 1049.2 742.8 Q 1049.2 744.3, 1048.2 745.1 Q 1047.2 746.0, 1045.4 746.0 L 1041.8 746.0 L 1041.8 735.1 L 1045.0 735.1 Q 1046.8 735.1, 1047.8 735.9 Q 1048.7 736.6, 1048.7 738.0 Q 1048.7 739.6, 1047.1 740.3 M 1043.2 736.3 L 1043.2 739.7 L 1045.0 739.7 Q 1046.1 739.7, 1046.6 739.3 Q 1047.2 738.9, 1047.2 738.0 Q 1047.2 736.3, 1045.0 736.3 L 1043.2 736.3 M 1045.4 744.7 Q 1046.5 744.7, 1047.1 744.2 Q 1047.6 743.7, 1047.6 742.8 Q 1047.6 741.9, 1047.0 741.4 Q 1046.4 741.0, 1045.2 741.0 L 1043.2 741.0 L 1043.2 744.7 L 1045.4 744.7 \" fill=\"#000000\"/>\n",
       "<path class=\"legend\" d=\"M 1053.8 746.1 Q 1051.8 746.1, 1050.8 744.6 Q 1049.9 743.1, 1049.9 740.5 Q 1049.9 737.9, 1050.8 736.5 Q 1051.8 735.0, 1053.8 735.0 Q 1055.8 735.0, 1056.8 736.5 Q 1057.8 737.9, 1057.8 740.5 Q 1057.8 743.1, 1056.8 744.6 Q 1055.8 746.1, 1053.8 746.1 M 1053.8 744.9 Q 1055.0 744.9, 1055.6 743.8 Q 1056.3 742.7, 1056.3 740.5 Q 1056.3 738.4, 1055.6 737.3 Q 1055.0 736.2, 1053.8 736.2 Q 1052.7 736.2, 1052.0 737.3 Q 1051.4 738.4, 1051.4 740.5 Q 1051.4 742.7, 1052.0 743.8 Q 1052.7 744.9, 1053.8 744.9 \" fill=\"#000000\"/>\n",
       "<path class=\"legend\" d=\"M 1062.7 746.1 Q 1060.8 746.1, 1059.8 744.6 Q 1058.8 743.1, 1058.8 740.5 Q 1058.8 737.9, 1059.8 736.5 Q 1060.7 735.0, 1062.7 735.0 Q 1064.8 735.0, 1065.7 736.5 Q 1066.7 737.9, 1066.7 740.5 Q 1066.7 743.1, 1065.7 744.6 Q 1064.7 746.1, 1062.7 746.1 M 1062.7 744.9 Q 1063.9 744.9, 1064.6 743.8 Q 1065.2 742.7, 1065.2 740.5 Q 1065.2 738.4, 1064.6 737.3 Q 1063.9 736.2, 1062.7 736.2 Q 1061.6 736.2, 1060.9 737.3 Q 1060.3 738.4, 1060.3 740.5 Q 1060.3 742.7, 1060.9 743.8 Q 1061.6 744.9, 1062.7 744.9 \" fill=\"#000000\"/>\n",
       "<path class=\"legend\" d=\"M 1071.7 746.1 Q 1069.7 746.1, 1068.7 744.6 Q 1067.7 743.1, 1067.7 740.5 Q 1067.7 737.9, 1068.7 736.5 Q 1069.7 735.0, 1071.7 735.0 Q 1073.7 735.0, 1074.7 736.5 Q 1075.6 737.9, 1075.6 740.5 Q 1075.6 743.1, 1074.6 744.6 Q 1073.7 746.1, 1071.7 746.1 M 1071.7 744.9 Q 1072.8 744.9, 1073.5 743.8 Q 1074.1 742.7, 1074.1 740.5 Q 1074.1 738.4, 1073.5 737.3 Q 1072.8 736.2, 1071.7 736.2 Q 1070.5 736.2, 1069.9 737.3 Q 1069.2 738.4, 1069.2 740.5 Q 1069.2 742.7, 1069.9 743.8 Q 1070.5 744.9, 1071.7 744.9 \" fill=\"#000000\"/>\n",
       "<path class=\"legend\" d=\"M 1080.6 746.1 Q 1078.6 746.1, 1077.6 744.6 Q 1076.6 743.1, 1076.6 740.5 Q 1076.6 737.9, 1077.6 736.5 Q 1078.6 735.0, 1080.6 735.0 Q 1082.6 735.0, 1083.6 736.5 Q 1084.6 737.9, 1084.6 740.5 Q 1084.6 743.1, 1083.6 744.6 Q 1082.6 746.1, 1080.6 746.1 M 1080.6 744.9 Q 1081.8 744.9, 1082.4 743.8 Q 1083.0 742.7, 1083.0 740.5 Q 1083.0 738.4, 1082.4 737.3 Q 1081.8 736.2, 1080.6 736.2 Q 1079.4 736.2, 1078.8 737.3 Q 1078.2 738.4, 1078.2 740.5 Q 1078.2 742.7, 1078.8 743.8 Q 1079.4 744.9, 1080.6 744.9 \" fill=\"#000000\"/>\n",
       "<path class=\"legend\" d=\"M 1089.8 739.2 Q 1090.7 739.2, 1091.5 739.6 Q 1092.2 740.0, 1092.7 740.8 Q 1093.1 741.5, 1093.1 742.5 Q 1093.1 743.5, 1092.6 744.4 Q 1092.1 745.2, 1091.3 745.6 Q 1090.5 746.1, 1089.4 746.1 Q 1087.5 746.1, 1086.5 744.8 Q 1085.6 743.5, 1085.6 740.9 Q 1085.6 738.0, 1086.7 736.5 Q 1088.0 735.0, 1090.3 735.0 Q 1090.9 735.0, 1091.5 735.2 Q 1092.1 735.3, 1092.6 735.6 L 1092.0 736.7 Q 1091.2 736.2, 1090.3 736.2 Q 1088.7 736.2, 1088.0 737.2 Q 1087.2 738.2, 1087.1 740.2 Q 1087.6 739.7, 1088.3 739.5 Q 1089.0 739.2, 1089.8 739.2 M 1089.4 744.8 Q 1090.0 744.8, 1090.5 744.5 Q 1091.0 744.2, 1091.3 743.7 Q 1091.5 743.1, 1091.5 742.5 Q 1091.5 741.5, 1091.0 741.0 Q 1090.5 740.4, 1089.5 740.4 Q 1088.9 740.4, 1088.2 740.7 Q 1087.6 741.0, 1087.1 741.4 Q 1087.2 743.2, 1087.7 744.0 Q 1088.3 744.8, 1089.4 744.8 \" fill=\"#000000\"/>\n",
       "<path class=\"legend\" d=\"M 1097.8 739.2 Q 1098.8 739.2, 1099.6 739.6 Q 1100.4 740.0, 1100.8 740.8 Q 1101.2 741.5, 1101.2 742.5 Q 1101.2 743.6, 1100.7 744.5 Q 1100.2 745.3, 1099.3 745.7 Q 1098.4 746.1, 1097.4 746.1 Q 1096.4 746.1, 1095.5 745.7 Q 1094.5 745.3, 1093.9 744.6 L 1094.8 743.7 Q 1095.3 744.2, 1096.0 744.6 Q 1096.7 744.8, 1097.4 744.8 Q 1098.4 744.8, 1099.0 744.2 Q 1099.7 743.6, 1099.7 742.6 Q 1099.7 741.4, 1099.0 740.9 Q 1098.4 740.3, 1097.3 740.3 Q 1096.4 740.3, 1095.3 740.7 L 1094.5 740.3 L 1095.0 735.1 L 1100.6 735.1 L 1100.4 736.3 L 1096.2 736.3 L 1095.9 739.6 Q 1096.9 739.2, 1097.8 739.2 \" fill=\"#000000\"/>\n",
       "<path class=\"legend\" d=\"M 1107.5 740.2 Q 1108.5 740.6, 1109.1 741.3 Q 1109.6 741.9, 1109.6 743.0 Q 1109.6 743.9, 1109.2 744.6 Q 1108.7 745.3, 1107.8 745.7 Q 1107.0 746.1, 1105.9 746.1 Q 1104.1 746.1, 1103.0 745.3 Q 1102.0 744.4, 1102.0 743.0 Q 1102.0 742.1, 1102.4 741.4 Q 1102.9 740.8, 1103.8 740.3 Q 1103.1 739.9, 1102.8 739.3 Q 1102.4 738.7, 1102.4 737.8 Q 1102.4 736.5, 1103.3 735.8 Q 1104.2 735.0, 1105.8 735.0 Q 1107.4 735.0, 1108.3 735.8 Q 1109.2 736.5, 1109.2 737.8 Q 1109.2 738.6, 1108.8 739.2 Q 1108.4 739.7, 1107.5 740.2 M 1105.8 736.1 Q 1104.9 736.1, 1104.4 736.6 Q 1103.9 737.0, 1103.9 737.8 Q 1103.9 738.3, 1104.2 738.7 Q 1104.6 739.1, 1105.1 739.3 Q 1105.5 739.5, 1106.5 739.8 Q 1107.1 739.4, 1107.4 738.9 Q 1107.7 738.4, 1107.7 737.8 Q 1107.7 737.0, 1107.2 736.6 Q 1106.7 736.1, 1105.8 736.1 M 1105.9 745.0 Q 1106.9 745.0, 1107.5 744.4 Q 1108.1 743.9, 1108.1 743.0 Q 1108.1 742.4, 1107.8 742.0 Q 1107.5 741.7, 1107.0 741.4 Q 1106.5 741.2, 1105.6 741.0 L 1104.9 740.7 Q 1104.2 741.2, 1103.8 741.7 Q 1103.5 742.3, 1103.5 743.0 Q 1103.5 743.9, 1104.1 744.4 Q 1104.8 745.0, 1105.9 745.0 \" fill=\"#000000\"/>\n",
       "<path class=\"legend\" d=\"M 1111.2 744.7 L 1113.6 744.7 L 1113.6 736.6 L 1110.9 737.4 L 1110.6 736.5 L 1113.9 735.1 L 1115.0 735.2 L 1115.0 744.7 L 1117.1 744.7 L 1117.1 746.0 L 1111.2 746.0 L 1111.2 744.7 \" fill=\"#000000\"/>\n",
       "<path class=\"legend\" d=\"M 1121.4 735.0 Q 1123.3 735.0, 1124.3 736.3 Q 1125.3 737.6, 1125.3 740.2 Q 1125.3 743.1, 1124.1 744.6 Q 1122.9 746.1, 1120.6 746.1 Q 1119.9 746.1, 1119.3 745.9 Q 1118.8 745.8, 1118.2 745.5 L 1118.8 744.4 Q 1119.6 744.9, 1120.6 744.9 Q 1122.1 744.9, 1122.9 743.9 Q 1123.6 742.9, 1123.7 740.8 Q 1123.2 741.4, 1122.5 741.6 Q 1121.8 741.9, 1121.0 741.9 Q 1120.1 741.9, 1119.3 741.5 Q 1118.6 741.1, 1118.2 740.3 Q 1117.8 739.6, 1117.8 738.6 Q 1117.8 737.6, 1118.2 736.7 Q 1118.7 735.9, 1119.5 735.5 Q 1120.4 735.0, 1121.4 735.0 M 1119.3 738.6 Q 1119.3 739.6, 1119.8 740.1 Q 1120.4 740.7, 1121.3 740.7 Q 1122.0 740.7, 1122.6 740.4 Q 1123.3 740.1, 1123.7 739.7 Q 1123.7 737.9, 1123.1 737.1 Q 1122.5 736.3, 1121.4 736.3 Q 1120.8 736.3, 1120.3 736.6 Q 1119.9 736.9, 1119.6 737.4 Q 1119.3 737.9, 1119.3 738.6 \" fill=\"#000000\"/>\n",
       "<path class=\"legend\" d=\"M 1131.5 740.2 Q 1132.6 740.6, 1133.1 741.2 Q 1133.6 741.9, 1133.6 743.0 Q 1133.6 743.9, 1133.2 744.6 Q 1132.7 745.3, 1131.9 745.7 Q 1131.0 746.1, 1129.9 746.1 Q 1128.7 746.1, 1127.9 745.7 Q 1127.0 745.3, 1126.3 744.5 L 1127.2 743.6 Q 1127.9 744.3, 1128.4 744.6 Q 1129.0 744.9, 1129.9 744.9 Q 1130.9 744.9, 1131.5 744.4 Q 1132.1 743.8, 1132.1 743.0 Q 1132.1 741.9, 1131.5 741.4 Q 1130.8 740.9, 1129.5 740.9 L 1128.7 740.9 L 1128.7 739.8 L 1129.4 739.8 Q 1130.6 739.8, 1131.2 739.3 Q 1131.9 738.7, 1131.9 737.8 Q 1131.9 737.1, 1131.3 736.7 Q 1130.8 736.2, 1129.9 736.2 Q 1129.0 736.2, 1128.5 736.5 Q 1127.9 736.9, 1127.5 737.7 L 1126.4 737.1 Q 1126.8 736.2, 1127.7 735.6 Q 1128.6 735.0, 1129.9 735.0 Q 1131.5 735.0, 1132.4 735.8 Q 1133.4 736.5, 1133.4 737.8 Q 1133.4 738.6, 1132.9 739.3 Q 1132.4 739.9, 1131.5 740.2 \" fill=\"#000000\"/>\n",
       "<path class=\"legend\" d=\"M 1134.5 737.2 Q 1134.9 736.1, 1135.9 735.6 Q 1136.8 735.0, 1138.2 735.0 Q 1139.8 735.0, 1140.7 735.9 Q 1141.6 736.8, 1141.6 738.4 Q 1141.6 740.0, 1140.4 741.5 Q 1139.3 743.0, 1136.8 744.7 L 1141.8 744.7 L 1141.8 746.0 L 1134.5 746.0 L 1134.5 744.9 Q 1136.5 743.5, 1137.7 742.4 Q 1138.9 741.4, 1139.5 740.4 Q 1140.1 739.4, 1140.1 738.4 Q 1140.1 737.4, 1139.6 736.8 Q 1139.1 736.2, 1138.2 736.2 Q 1137.3 736.2, 1136.7 736.6 Q 1136.1 736.9, 1135.7 737.7 L 1134.5 737.2 \" fill=\"#000000\"/>\n",
       "<path class=\"bond-0 atom-0 atom-1\" d=\"M 1376.6,709.8 L 1371.0,690.8\" style=\"fill:none;fill-rule:evenodd;stroke:#000000;stroke-width:2.0px;stroke-linecap:butt;stroke-linejoin:miter;stroke-opacity:1\"/>\n",
       "<path class=\"bond-1 atom-1 atom-2\" d=\"M 1371.0,690.8 L 1351.7,686.2\" style=\"fill:none;fill-rule:evenodd;stroke:#000000;stroke-width:2.0px;stroke-linecap:butt;stroke-linejoin:miter;stroke-opacity:1\"/>\n",
       "<path class=\"bond-2 atom-2 atom-3\" d=\"M 1351.7,686.2 L 1346.1,667.2\" style=\"fill:none;fill-rule:evenodd;stroke:#000000;stroke-width:2.0px;stroke-linecap:butt;stroke-linejoin:miter;stroke-opacity:1\"/>\n",
       "<path class=\"bond-3 atom-3 atom-4\" d=\"M 1346.1,667.2 L 1338.1,665.3\" style=\"fill:none;fill-rule:evenodd;stroke:#000000;stroke-width:2.0px;stroke-linecap:butt;stroke-linejoin:miter;stroke-opacity:1\"/>\n",
       "<path class=\"bond-3 atom-3 atom-4\" d=\"M 1338.1,665.3 L 1330.1,663.4\" style=\"fill:none;fill-rule:evenodd;stroke:#FF0000;stroke-width:2.0px;stroke-linecap:butt;stroke-linejoin:miter;stroke-opacity:1\"/>\n",
       "<path class=\"bond-4 atom-3 atom-5\" d=\"M 1344.7,665.8 L 1349.9,660.4\" style=\"fill:none;fill-rule:evenodd;stroke:#000000;stroke-width:2.0px;stroke-linecap:butt;stroke-linejoin:miter;stroke-opacity:1\"/>\n",
       "<path class=\"bond-4 atom-3 atom-5\" d=\"M 1349.9,660.4 L 1355.1,654.9\" style=\"fill:none;fill-rule:evenodd;stroke:#FF0000;stroke-width:2.0px;stroke-linecap:butt;stroke-linejoin:miter;stroke-opacity:1\"/>\n",
       "<path class=\"bond-4 atom-3 atom-5\" d=\"M 1347.5,668.6 L 1352.7,663.1\" style=\"fill:none;fill-rule:evenodd;stroke:#000000;stroke-width:2.0px;stroke-linecap:butt;stroke-linejoin:miter;stroke-opacity:1\"/>\n",
       "<path class=\"bond-4 atom-3 atom-5\" d=\"M 1352.7,663.1 L 1357.9,657.6\" style=\"fill:none;fill-rule:evenodd;stroke:#FF0000;stroke-width:2.0px;stroke-linecap:butt;stroke-linejoin:miter;stroke-opacity:1\"/>\n",
       "<path class=\"bond-5 atom-1 atom-6\" d=\"M 1371.0,690.8 L 1384.6,676.4\" style=\"fill:none;fill-rule:evenodd;stroke:#000000;stroke-width:2.0px;stroke-linecap:butt;stroke-linejoin:miter;stroke-opacity:1\"/>\n",
       "<path class=\"bond-6 atom-6 atom-7\" d=\"M 1384.6,676.4 L 1403.8,681.1\" style=\"fill:none;fill-rule:evenodd;stroke:#000000;stroke-width:2.0px;stroke-linecap:butt;stroke-linejoin:miter;stroke-opacity:1\"/>\n",
       "<path class=\"bond-7 atom-7 atom-8\" d=\"M 1405.7,680.5 L 1408.0,688.2\" style=\"fill:none;fill-rule:evenodd;stroke:#000000;stroke-width:2.0px;stroke-linecap:butt;stroke-linejoin:miter;stroke-opacity:1\"/>\n",
       "<path class=\"bond-7 atom-7 atom-8\" d=\"M 1408.0,688.2 L 1410.3,696.0\" style=\"fill:none;fill-rule:evenodd;stroke:#FF0000;stroke-width:2.0px;stroke-linecap:butt;stroke-linejoin:miter;stroke-opacity:1\"/>\n",
       "<path class=\"bond-7 atom-7 atom-8\" d=\"M 1401.9,681.6 L 1404.2,689.4\" style=\"fill:none;fill-rule:evenodd;stroke:#000000;stroke-width:2.0px;stroke-linecap:butt;stroke-linejoin:miter;stroke-opacity:1\"/>\n",
       "<path class=\"bond-7 atom-7 atom-8\" d=\"M 1404.2,689.4 L 1406.5,697.1\" style=\"fill:none;fill-rule:evenodd;stroke:#FF0000;stroke-width:2.0px;stroke-linecap:butt;stroke-linejoin:miter;stroke-opacity:1\"/>\n",
       "<path class=\"bond-8 atom-7 atom-9\" d=\"M 1403.8,681.1 L 1409.0,675.6\" style=\"fill:none;fill-rule:evenodd;stroke:#000000;stroke-width:2.0px;stroke-linecap:butt;stroke-linejoin:miter;stroke-opacity:1\"/>\n",
       "<path class=\"bond-8 atom-7 atom-9\" d=\"M 1409.0,675.6 L 1414.2,670.1\" style=\"fill:none;fill-rule:evenodd;stroke:#FF0000;stroke-width:2.0px;stroke-linecap:butt;stroke-linejoin:miter;stroke-opacity:1\"/>\n",
       "<path class=\"bond-9 atom-9 atom-10\" d=\"M 1420.7,667.5 L 1428.7,669.4\" style=\"fill:none;fill-rule:evenodd;stroke:#FF0000;stroke-width:2.0px;stroke-linecap:butt;stroke-linejoin:miter;stroke-opacity:1\"/>\n",
       "<path class=\"bond-9 atom-9 atom-10\" d=\"M 1428.7,669.4 L 1436.7,671.3\" style=\"fill:none;fill-rule:evenodd;stroke:#000000;stroke-width:2.0px;stroke-linecap:butt;stroke-linejoin:miter;stroke-opacity:1\"/>\n",
       "<path class=\"bond-10 atom-10 atom-11\" d=\"M 1436.7,671.3 L 1450.3,657.0\" style=\"fill:none;fill-rule:evenodd;stroke:#000000;stroke-width:2.0px;stroke-linecap:butt;stroke-linejoin:miter;stroke-opacity:1\"/>\n",
       "<path class=\"bond-11 atom-11 atom-12\" d=\"M 1450.3,657.0 L 1444.7,638.0\" style=\"fill:none;fill-rule:evenodd;stroke:#000000;stroke-width:2.0px;stroke-linecap:butt;stroke-linejoin:miter;stroke-opacity:1\"/>\n",
       "<path class=\"bond-12 atom-12 atom-13\" d=\"M 1444.7,638.0 L 1449.9,632.5\" style=\"fill:none;fill-rule:evenodd;stroke:#000000;stroke-width:2.0px;stroke-linecap:butt;stroke-linejoin:miter;stroke-opacity:1\"/>\n",
       "<path class=\"bond-12 atom-12 atom-13\" d=\"M 1449.9,632.5 L 1455.1,627.1\" style=\"fill:none;fill-rule:evenodd;stroke:#FF0000;stroke-width:2.0px;stroke-linecap:butt;stroke-linejoin:miter;stroke-opacity:1\"/>\n",
       "<path class=\"bond-13 atom-12 atom-14\" d=\"M 1444.2,639.9 L 1436.2,638.0\" style=\"fill:none;fill-rule:evenodd;stroke:#000000;stroke-width:2.0px;stroke-linecap:butt;stroke-linejoin:miter;stroke-opacity:1\"/>\n",
       "<path class=\"bond-13 atom-12 atom-14\" d=\"M 1436.2,638.0 L 1428.2,636.1\" style=\"fill:none;fill-rule:evenodd;stroke:#FF0000;stroke-width:2.0px;stroke-linecap:butt;stroke-linejoin:miter;stroke-opacity:1\"/>\n",
       "<path class=\"bond-13 atom-12 atom-14\" d=\"M 1445.1,636.1 L 1437.1,634.2\" style=\"fill:none;fill-rule:evenodd;stroke:#000000;stroke-width:2.0px;stroke-linecap:butt;stroke-linejoin:miter;stroke-opacity:1\"/>\n",
       "<path class=\"bond-13 atom-12 atom-14\" d=\"M 1437.1,634.2 L 1429.1,632.2\" style=\"fill:none;fill-rule:evenodd;stroke:#FF0000;stroke-width:2.0px;stroke-linecap:butt;stroke-linejoin:miter;stroke-opacity:1\"/>\n",
       "<path class=\"bond-14 atom-10 atom-15\" d=\"M 1436.7,671.3 L 1442.3,690.3\" style=\"fill:none;fill-rule:evenodd;stroke:#000000;stroke-width:2.0px;stroke-linecap:butt;stroke-linejoin:miter;stroke-opacity:1\"/>\n",
       "<path class=\"bond-15 atom-15 atom-16\" d=\"M 1442.3,690.3 L 1450.5,692.3\" style=\"fill:none;fill-rule:evenodd;stroke:#000000;stroke-width:2.0px;stroke-linecap:butt;stroke-linejoin:miter;stroke-opacity:1\"/>\n",
       "<path class=\"bond-15 atom-15 atom-16\" d=\"M 1450.5,692.3 L 1458.7,694.3\" style=\"fill:none;fill-rule:evenodd;stroke:#0000FF;stroke-width:2.0px;stroke-linecap:butt;stroke-linejoin:miter;stroke-opacity:1\"/>\n",
       "<path class=\"bond-16 atom-16 atom-17\" d=\"M 1462.4,691.5 L 1464.2,683.6\" style=\"fill:none;fill-rule:evenodd;stroke:#0000FF;stroke-width:2.0px;stroke-linecap:butt;stroke-linejoin:miter;stroke-opacity:1\"/>\n",
       "<path class=\"bond-16 atom-16 atom-17\" d=\"M 1464.2,683.6 L 1466.1,675.7\" style=\"fill:none;fill-rule:evenodd;stroke:#000000;stroke-width:2.0px;stroke-linecap:butt;stroke-linejoin:miter;stroke-opacity:1\"/>\n",
       "<path class=\"bond-17 atom-16 atom-18\" d=\"M 1460.7,698.4 L 1458.8,706.3\" style=\"fill:none;fill-rule:evenodd;stroke:#0000FF;stroke-width:2.0px;stroke-linecap:butt;stroke-linejoin:miter;stroke-opacity:1\"/>\n",
       "<path class=\"bond-17 atom-16 atom-18\" d=\"M 1458.8,706.3 L 1456.9,714.2\" style=\"fill:none;fill-rule:evenodd;stroke:#000000;stroke-width:2.0px;stroke-linecap:butt;stroke-linejoin:miter;stroke-opacity:1\"/>\n",
       "<path class=\"bond-18 atom-16 atom-19\" d=\"M 1464.3,695.6 L 1472.5,697.6\" style=\"fill:none;fill-rule:evenodd;stroke:#0000FF;stroke-width:2.0px;stroke-linecap:butt;stroke-linejoin:miter;stroke-opacity:1\"/>\n",
       "<path class=\"bond-18 atom-16 atom-19\" d=\"M 1472.5,697.6 L 1480.8,699.5\" style=\"fill:none;fill-rule:evenodd;stroke:#000000;stroke-width:2.0px;stroke-linecap:butt;stroke-linejoin:miter;stroke-opacity:1\"/>\n",
       "<path class=\"atom-4\" d=\"M 1319.2 659.8 L 1320.0 659.8 L 1320.0 662.2 L 1322.9 662.2 L 1322.9 659.8 L 1323.6 659.8 L 1323.6 665.4 L 1322.9 665.4 L 1322.9 662.8 L 1320.0 662.8 L 1320.0 665.4 L 1319.2 665.4 L 1319.2 659.8 \" fill=\"#FF0000\"/>\n",
       "<path class=\"atom-4\" d=\"M 1324.3 662.6 Q 1324.3 661.3, 1325.0 660.5 Q 1325.6 659.7, 1326.9 659.7 Q 1328.1 659.7, 1328.8 660.5 Q 1329.4 661.3, 1329.4 662.6 Q 1329.4 664.0, 1328.8 664.7 Q 1328.1 665.5, 1326.9 665.5 Q 1325.6 665.5, 1325.0 664.7 Q 1324.3 664.0, 1324.3 662.6 M 1326.9 664.9 Q 1327.7 664.9, 1328.2 664.3 Q 1328.7 663.7, 1328.7 662.6 Q 1328.7 661.5, 1328.2 660.9 Q 1327.7 660.4, 1326.9 660.4 Q 1326.0 660.4, 1325.5 660.9 Q 1325.1 661.5, 1325.1 662.6 Q 1325.1 663.7, 1325.5 664.3 Q 1326.0 664.9, 1326.9 664.9 \" fill=\"#FF0000\"/>\n",
       "<path class=\"atom-5\" d=\"M 1357.2 652.9 Q 1357.2 651.5, 1357.8 650.8 Q 1358.5 650.0, 1359.7 650.0 Q 1361.0 650.0, 1361.6 650.8 Q 1362.3 651.5, 1362.3 652.9 Q 1362.3 654.2, 1361.6 655.0 Q 1361.0 655.8, 1359.7 655.8 Q 1358.5 655.8, 1357.8 655.0 Q 1357.2 654.2, 1357.2 652.9 M 1359.7 655.1 Q 1360.6 655.1, 1361.0 654.6 Q 1361.5 654.0, 1361.5 652.9 Q 1361.5 651.8, 1361.0 651.2 Q 1360.6 650.7, 1359.7 650.7 Q 1358.9 650.7, 1358.4 651.2 Q 1357.9 651.8, 1357.9 652.9 Q 1357.9 654.0, 1358.4 654.6 Q 1358.9 655.1, 1359.7 655.1 \" fill=\"#FF0000\"/>\n",
       "<path class=\"atom-8\" d=\"M 1406.9 700.0 Q 1406.9 698.7, 1407.5 698.0 Q 1408.2 697.2, 1409.4 697.2 Q 1410.7 697.2, 1411.3 698.0 Q 1412.0 698.7, 1412.0 700.0 Q 1412.0 701.4, 1411.3 702.2 Q 1410.7 703.0, 1409.4 703.0 Q 1408.2 703.0, 1407.5 702.2 Q 1406.9 701.4, 1406.9 700.0 M 1409.4 702.3 Q 1410.3 702.3, 1410.7 701.8 Q 1411.2 701.2, 1411.2 700.0 Q 1411.2 698.9, 1410.7 698.4 Q 1410.3 697.8, 1409.4 697.8 Q 1408.6 697.8, 1408.1 698.4 Q 1407.7 698.9, 1407.7 700.0 Q 1407.7 701.2, 1408.1 701.8 Q 1408.6 702.3, 1409.4 702.3 \" fill=\"#FF0000\"/>\n",
       "<path class=\"atom-9\" d=\"M 1414.9 666.7 Q 1414.9 665.4, 1415.5 664.6 Q 1416.2 663.9, 1417.4 663.9 Q 1418.7 663.9, 1419.3 664.6 Q 1420.0 665.4, 1420.0 666.7 Q 1420.0 668.1, 1419.3 668.9 Q 1418.7 669.6, 1417.4 669.6 Q 1416.2 669.6, 1415.5 668.9 Q 1414.9 668.1, 1414.9 666.7 M 1417.4 669.0 Q 1418.3 669.0, 1418.7 668.4 Q 1419.2 667.9, 1419.2 666.7 Q 1419.2 665.6, 1418.7 665.1 Q 1418.3 664.5, 1417.4 664.5 Q 1416.6 664.5, 1416.1 665.1 Q 1415.7 665.6, 1415.7 666.7 Q 1415.7 667.9, 1416.1 668.4 Q 1416.6 669.0, 1417.4 669.0 \" fill=\"#FF0000\"/>\n",
       "<path class=\"atom-13\" d=\"M 1455.7 623.7 Q 1455.7 622.3, 1456.4 621.6 Q 1457.0 620.8, 1458.3 620.8 Q 1459.5 620.8, 1460.2 621.6 Q 1460.9 622.3, 1460.9 623.7 Q 1460.9 625.0, 1460.2 625.8 Q 1459.5 626.6, 1458.3 626.6 Q 1457.1 626.6, 1456.4 625.8 Q 1455.7 625.1, 1455.7 623.7 M 1458.3 626.0 Q 1459.1 626.0, 1459.6 625.4 Q 1460.1 624.8, 1460.1 623.7 Q 1460.1 622.6, 1459.6 622.0 Q 1459.1 621.5, 1458.3 621.5 Q 1457.4 621.5, 1457.0 622.0 Q 1456.5 622.6, 1456.5 623.7 Q 1456.5 624.8, 1457.0 625.4 Q 1457.4 626.0, 1458.3 626.0 \" fill=\"#FF0000\"/>\n",
       "<path class=\"atom-13\" d=\"M 1461.3 621.8 L 1463.2 621.8 L 1463.2 622.2 L 1461.3 622.2 L 1461.3 621.8 \" fill=\"#FF0000\"/>\n",
       "<path class=\"atom-14\" d=\"M 1422.9 633.4 Q 1422.9 632.1, 1423.5 631.3 Q 1424.2 630.6, 1425.4 630.6 Q 1426.7 630.6, 1427.3 631.3 Q 1428.0 632.1, 1428.0 633.4 Q 1428.0 634.8, 1427.3 635.6 Q 1426.7 636.3, 1425.4 636.3 Q 1424.2 636.3, 1423.5 635.6 Q 1422.9 634.8, 1422.9 633.4 M 1425.4 635.7 Q 1426.3 635.7, 1426.8 635.1 Q 1427.2 634.5, 1427.2 633.4 Q 1427.2 632.3, 1426.8 631.8 Q 1426.3 631.2, 1425.4 631.2 Q 1424.6 631.2, 1424.1 631.8 Q 1423.7 632.3, 1423.7 633.4 Q 1423.7 634.5, 1424.1 635.1 Q 1424.6 635.7, 1425.4 635.7 \" fill=\"#FF0000\"/>\n",
       "<path class=\"atom-16\" d=\"M 1460.3 692.1 L 1462.1 695.1 Q 1462.3 695.4, 1462.6 695.9 Q 1462.9 696.4, 1462.9 696.5 L 1462.9 692.1 L 1463.6 692.1 L 1463.6 697.7 L 1462.9 697.7 L 1460.9 694.5 Q 1460.7 694.1, 1460.4 693.7 Q 1460.2 693.2, 1460.1 693.1 L 1460.1 697.7 L 1459.4 697.7 L 1459.4 692.1 L 1460.3 692.1 \" fill=\"#0000FF\"/>\n",
       "<path class=\"atom-16\" d=\"M 1464.3 693.1 L 1465.3 693.1 L 1465.3 692.1 L 1465.7 692.1 L 1465.7 693.1 L 1466.7 693.1 L 1466.7 693.5 L 1465.7 693.5 L 1465.7 694.6 L 1465.3 694.6 L 1465.3 693.5 L 1464.3 693.5 L 1464.3 693.1 \" fill=\"#0000FF\"/>\n",
       "<path class=\"legend\" d=\"M 1292.0 735.1 L 1293.2 735.1 L 1293.2 738.7 L 1297.6 738.7 L 1297.6 735.1 L 1298.7 735.1 L 1298.7 743.7 L 1297.6 743.7 L 1297.6 739.7 L 1293.2 739.7 L 1293.2 743.7 L 1292.0 743.7 L 1292.0 735.1 \" fill=\"#000000\"/>\n",
       "<path class=\"legend\" d=\"M 1299.8 735.1 L 1304.8 735.1 L 1304.8 736.1 L 1300.9 736.1 L 1300.9 738.7 L 1304.4 738.7 L 1304.4 739.7 L 1300.9 739.7 L 1300.9 743.7 L 1299.8 743.7 L 1299.8 735.1 \" fill=\"#000000\"/>\n",
       "<path class=\"legend\" d=\"M 1305.1 739.4 Q 1305.1 737.2, 1306.1 736.1 Q 1307.1 735.0, 1309.0 735.0 Q 1310.8 735.0, 1311.7 736.2 L 1310.9 736.9 Q 1310.2 736.0, 1309.0 736.0 Q 1307.7 736.0, 1307.0 736.9 Q 1306.3 737.7, 1306.3 739.4 Q 1306.3 741.1, 1307.0 741.9 Q 1307.8 742.8, 1309.1 742.8 Q 1310.1 742.8, 1311.2 742.2 L 1311.5 743.1 Q 1311.1 743.4, 1310.4 743.6 Q 1309.7 743.8, 1309.0 743.8 Q 1307.1 743.8, 1306.1 742.6 Q 1305.1 741.5, 1305.1 739.4 \" fill=\"#000000\"/>\n",
       "<path class=\"legend\" d=\"M 1314.7 735.1 Q 1316.2 735.1, 1316.9 735.8 Q 1317.7 736.4, 1317.7 737.6 Q 1317.7 738.8, 1316.9 739.5 Q 1316.2 740.1, 1314.7 740.1 L 1313.4 740.1 L 1313.4 743.7 L 1312.2 743.7 L 1312.2 735.1 L 1314.7 735.1 M 1314.7 739.2 Q 1315.6 739.2, 1316.0 738.8 Q 1316.5 738.4, 1316.5 737.6 Q 1316.5 736.9, 1316.0 736.5 Q 1315.6 736.1, 1314.7 736.1 L 1313.4 736.1 L 1313.4 739.2 L 1314.7 739.2 \" fill=\"#000000\"/>\n",
       "<path class=\"legend\" d=\"M 1318.2 735.1 L 1323.3 735.1 L 1323.3 736.1 L 1319.4 736.1 L 1319.4 738.7 L 1322.9 738.7 L 1322.9 739.7 L 1319.4 739.7 L 1319.4 743.7 L 1318.2 743.7 L 1318.2 735.1 \" fill=\"#000000\"/>\n",
       "<path class=\"legend\" d=\"M 1323.6 744.4 Q 1323.6 744.5, 1324.1 744.2 Q 1324.7 743.8, 1325.1 743.3 Q 1325.5 742.9, 1325.5 742.2 L 1325.5 736.1 L 1323.8 736.1 L 1323.8 735.1 L 1326.6 735.1 L 1326.6 742.2 Q 1326.6 743.2, 1326.1 743.9 Q 1325.5 744.6, 1324.8 745.0 Q 1324.1 745.4, 1324.1 745.3 L 1323.6 744.4 \" fill=\"#000000\"/>\n",
       "<path class=\"legend\" d=\"M 1329.0 735.1 L 1331.8 739.6 Q 1332.1 740.1, 1332.6 740.9 Q 1333.0 741.7, 1333.0 741.8 L 1333.0 735.1 L 1334.2 735.1 L 1334.2 743.7 L 1333.0 743.7 L 1330.0 738.7 Q 1329.6 738.1, 1329.3 737.5 Q 1328.9 736.8, 1328.8 736.6 L 1328.8 743.7 L 1327.7 743.7 L 1327.7 735.1 L 1329.0 735.1 \" fill=\"#000000\"/>\n",
       "<path class=\"legend\" d=\"M 1335.5 742.3 Q 1335.6 742.4, 1336.0 742.5 Q 1336.4 742.7, 1336.8 742.8 Q 1337.3 742.9, 1337.7 742.9 Q 1338.5 742.9, 1339.0 742.5 Q 1339.5 742.1, 1339.5 741.4 Q 1339.5 741.0, 1339.2 740.7 Q 1339.0 740.4, 1338.6 740.2 Q 1338.3 740.1, 1337.7 739.9 Q 1336.9 739.7, 1336.5 739.4 Q 1336.0 739.2, 1335.7 738.8 Q 1335.4 738.3, 1335.4 737.5 Q 1335.4 736.5, 1336.1 735.8 Q 1336.8 735.1, 1338.3 735.1 Q 1339.3 735.1, 1340.4 735.6 L 1340.1 736.5 Q 1339.1 736.1, 1338.3 736.1 Q 1337.5 736.1, 1337.0 736.5 Q 1336.6 736.8, 1336.6 737.4 Q 1336.6 737.8, 1336.8 738.1 Q 1337.0 738.4, 1337.4 738.6 Q 1337.7 738.7, 1338.3 738.9 Q 1339.1 739.1, 1339.5 739.4 Q 1340.0 739.6, 1340.3 740.1 Q 1340.7 740.6, 1340.7 741.4 Q 1340.7 742.6, 1339.9 743.3 Q 1339.1 743.9, 1337.8 743.9 Q 1337.0 743.9, 1336.4 743.7 Q 1335.9 743.6, 1335.2 743.3 L 1335.5 742.3 \" fill=\"#000000\"/>\n",
       "<path class=\"legend\" d=\"M 1345.4 739.2 Q 1346.2 739.4, 1346.6 739.9 Q 1347.1 740.4, 1347.1 741.1 Q 1347.1 742.3, 1346.3 743.0 Q 1345.5 743.7, 1344.1 743.7 L 1341.2 743.7 L 1341.2 735.1 L 1343.8 735.1 Q 1345.2 735.1, 1346.0 735.7 Q 1346.7 736.3, 1346.7 737.4 Q 1346.7 738.7, 1345.4 739.2 M 1342.4 736.1 L 1342.4 738.8 L 1343.8 738.8 Q 1344.6 738.8, 1345.1 738.4 Q 1345.5 738.1, 1345.5 737.4 Q 1345.5 736.1, 1343.8 736.1 L 1342.4 736.1 M 1344.1 742.7 Q 1345.0 742.7, 1345.4 742.3 Q 1345.9 741.9, 1345.9 741.1 Q 1345.9 740.4, 1345.4 740.1 Q 1344.9 739.7, 1343.9 739.7 L 1342.4 739.7 L 1342.4 742.7 L 1344.1 742.7 \" fill=\"#000000\"/>\n",
       "<path class=\"legend\" d=\"M 1350.1 735.1 Q 1351.6 735.1, 1352.3 735.8 Q 1353.1 736.4, 1353.1 737.6 Q 1353.1 738.8, 1352.3 739.5 Q 1351.6 740.1, 1350.1 740.1 L 1348.8 740.1 L 1348.8 743.7 L 1347.6 743.7 L 1347.6 735.1 L 1350.1 735.1 M 1350.1 739.2 Q 1351.0 739.2, 1351.4 738.8 Q 1351.9 738.4, 1351.9 737.6 Q 1351.9 736.9, 1351.4 736.5 Q 1351.0 736.1, 1350.1 736.1 L 1348.8 736.1 L 1348.8 739.2 L 1350.1 739.2 \" fill=\"#000000\"/>\n",
       "<path class=\"legend\" d=\"M 1359.6 745.2 Q 1360.0 745.2, 1360.4 745.0 L 1360.8 746.0 Q 1360.1 746.3, 1359.5 746.3 Q 1358.4 746.3, 1357.7 745.6 Q 1357.0 745.0, 1356.9 743.7 Q 1355.3 743.5, 1354.5 742.4 Q 1353.7 741.2, 1353.7 739.4 Q 1353.7 737.3, 1354.7 736.1 Q 1355.7 735.0, 1357.6 735.0 Q 1359.5 735.0, 1360.5 736.1 Q 1361.5 737.3, 1361.5 739.4 Q 1361.5 741.4, 1360.6 742.5 Q 1359.6 743.7, 1357.9 743.8 Q 1358.0 744.4, 1358.4 744.8 Q 1358.9 745.2, 1359.6 745.2 M 1354.9 739.4 Q 1354.9 741.1, 1355.6 742.0 Q 1356.3 742.8, 1357.6 742.8 Q 1358.9 742.8, 1359.6 742.0 Q 1360.3 741.1, 1360.3 739.4 Q 1360.3 737.7, 1359.6 736.8 Q 1358.9 736.0, 1357.6 736.0 Q 1356.3 736.0, 1355.6 736.8 Q 1354.9 737.7, 1354.9 739.4 \" fill=\"#000000\"/>\n",
       "<path class=\"legend\" d=\"M 1362.1 744.4 Q 1362.1 744.5, 1362.7 744.2 Q 1363.2 743.8, 1363.6 743.3 Q 1364.0 742.9, 1364.0 742.2 L 1364.0 736.1 L 1362.4 736.1 L 1362.4 735.1 L 1365.2 735.1 L 1365.2 742.2 Q 1365.2 743.2, 1364.6 743.9 Q 1364.0 744.6, 1363.3 745.0 Q 1362.6 745.4, 1362.6 745.3 L 1362.1 744.4 \" fill=\"#000000\"/>\n",
       "<path class=\"legend\" d=\"M 1369.0 735.1 Q 1370.9 735.1, 1371.9 736.2 Q 1372.9 737.3, 1372.9 739.4 Q 1372.9 741.4, 1371.9 742.5 Q 1370.9 743.7, 1369.0 743.7 L 1366.2 743.7 L 1366.2 735.1 L 1369.0 735.1 M 1369.0 742.7 Q 1370.3 742.7, 1371.0 741.9 Q 1371.7 741.0, 1371.7 739.4 Q 1371.7 737.7, 1371.0 736.9 Q 1370.3 736.1, 1369.0 736.1 L 1367.4 736.1 L 1367.4 742.7 L 1369.0 742.7 \" fill=\"#000000\"/>\n",
       "<path class=\"legend\" d=\"M 1376.0 735.1 Q 1377.4 735.1, 1378.2 735.8 Q 1378.9 736.4, 1378.9 737.6 Q 1378.9 738.8, 1378.2 739.5 Q 1377.4 740.1, 1376.0 740.1 L 1374.6 740.1 L 1374.6 743.7 L 1373.5 743.7 L 1373.5 735.1 L 1376.0 735.1 M 1376.0 739.2 Q 1376.8 739.2, 1377.3 738.8 Q 1377.7 738.4, 1377.7 737.6 Q 1377.7 736.9, 1377.3 736.5 Q 1376.8 736.1, 1376.0 736.1 L 1374.6 736.1 L 1374.6 739.2 L 1376.0 739.2 \" fill=\"#000000\"/>\n",
       "<path class=\"legend\" d=\"\" fill=\"#000000\"/>\n",
       "<path class=\"legend\" d=\"M 1383.5 742.2 L 1384.7 742.2 L 1384.7 743.5 L 1383.5 743.5 L 1383.5 742.2 M 1383.5 738.1 L 1384.7 738.1 L 1384.7 739.3 L 1383.5 739.3 L 1383.5 738.1 \" fill=\"#000000\"/>\n",
       "<path class=\"legend\" d=\"\" fill=\"#000000\"/>\n",
       "<path class=\"legend\" d=\"M 1389.7 739.4 Q 1389.7 737.2, 1390.7 736.1 Q 1391.7 735.0, 1393.6 735.0 Q 1395.3 735.0, 1396.3 736.2 L 1395.5 736.9 Q 1394.8 736.0, 1393.6 736.0 Q 1392.3 736.0, 1391.6 736.9 Q 1390.9 737.7, 1390.9 739.4 Q 1390.9 741.1, 1391.6 741.9 Q 1392.3 742.8, 1393.7 742.8 Q 1394.6 742.8, 1395.7 742.2 L 1396.1 743.1 Q 1395.6 743.4, 1395.0 743.6 Q 1394.3 743.8, 1393.5 743.8 Q 1391.7 743.8, 1390.7 742.6 Q 1389.7 741.5, 1389.7 739.4 \" fill=\"#000000\"/>\n",
       "<path class=\"legend\" d=\"M 1396.8 739.4 Q 1396.8 737.2, 1397.8 736.1 Q 1398.8 735.0, 1400.7 735.0 Q 1402.4 735.0, 1403.4 736.2 L 1402.6 736.9 Q 1401.9 736.0, 1400.7 736.0 Q 1399.4 736.0, 1398.7 736.9 Q 1398.0 737.7, 1398.0 739.4 Q 1398.0 741.1, 1398.7 741.9 Q 1399.4 742.8, 1400.8 742.8 Q 1401.7 742.8, 1402.8 742.2 L 1403.2 743.1 Q 1402.7 743.4, 1402.0 743.6 Q 1401.4 743.8, 1400.6 743.8 Q 1398.8 743.8, 1397.8 742.6 Q 1396.8 741.5, 1396.8 739.4 \" fill=\"#000000\"/>\n",
       "<path class=\"legend\" d=\"M 1413.6 743.7 L 1412.5 743.7 L 1411.6 736.7 L 1409.3 743.7 L 1408.2 743.7 L 1405.8 736.7 L 1405.0 743.7 L 1403.9 743.7 L 1404.9 735.1 L 1406.4 735.1 L 1408.8 742.0 L 1411.1 735.1 L 1412.5 735.1 L 1413.6 743.7 \" fill=\"#000000\"/>\n",
       "<path class=\"legend\" d=\"M 1414.8 742.3 Q 1414.8 742.4, 1415.2 742.5 Q 1415.6 742.7, 1416.1 742.8 Q 1416.5 742.9, 1417.0 742.9 Q 1417.8 742.9, 1418.2 742.5 Q 1418.7 742.1, 1418.7 741.4 Q 1418.7 741.0, 1418.5 740.7 Q 1418.2 740.4, 1417.9 740.2 Q 1417.5 740.1, 1416.9 739.9 Q 1416.2 739.7, 1415.7 739.4 Q 1415.2 739.2, 1414.9 738.8 Q 1414.6 738.3, 1414.6 737.5 Q 1414.6 736.5, 1415.3 735.8 Q 1416.1 735.1, 1417.5 735.1 Q 1418.5 735.1, 1419.6 735.6 L 1419.4 736.5 Q 1418.3 736.1, 1417.6 736.1 Q 1416.7 736.1, 1416.3 736.5 Q 1415.8 736.8, 1415.8 737.4 Q 1415.8 737.8, 1416.0 738.1 Q 1416.3 738.4, 1416.6 738.6 Q 1417.0 738.7, 1417.6 738.9 Q 1418.3 739.1, 1418.8 739.4 Q 1419.3 739.6, 1419.6 740.1 Q 1419.9 740.6, 1419.9 741.4 Q 1419.9 742.6, 1419.1 743.3 Q 1418.3 743.9, 1417.0 743.9 Q 1416.3 743.9, 1415.7 743.7 Q 1415.1 743.6, 1414.4 743.3 L 1414.8 742.3 \" fill=\"#000000\"/>\n",
       "<path class=\"legend\" d=\"M 1420.5 735.1 L 1421.6 735.1 L 1421.6 742.7 L 1425.6 742.7 L 1425.6 743.7 L 1420.5 743.7 L 1420.5 735.1 \" fill=\"#000000\"/>\n",
       "<path class=\"legend\" d=\"M 1425.9 735.1 L 1427.0 735.1 L 1427.0 743.7 L 1425.9 743.7 L 1425.9 735.1 \" fill=\"#000000\"/>\n",
       "<path class=\"legend\" d=\"M 1432.3 739.2 Q 1433.1 739.4, 1433.5 739.9 Q 1433.9 740.4, 1433.9 741.1 Q 1433.9 742.3, 1433.2 743.0 Q 1432.4 743.7, 1431.0 743.7 L 1428.1 743.7 L 1428.1 735.1 L 1430.6 735.1 Q 1432.1 735.1, 1432.8 735.7 Q 1433.6 736.3, 1433.6 737.4 Q 1433.6 738.7, 1432.3 739.2 M 1429.3 736.1 L 1429.3 738.8 L 1430.6 738.8 Q 1431.5 738.8, 1431.9 738.4 Q 1432.4 738.1, 1432.4 737.4 Q 1432.4 736.1, 1430.6 736.1 L 1429.3 736.1 M 1431.0 742.7 Q 1431.8 742.7, 1432.3 742.3 Q 1432.7 741.9, 1432.7 741.1 Q 1432.7 740.4, 1432.2 740.1 Q 1431.7 739.7, 1430.8 739.7 L 1429.3 739.7 L 1429.3 742.7 L 1431.0 742.7 \" fill=\"#000000\"/>\n",
       "<path class=\"legend\" d=\"M 1437.6 743.8 Q 1436.0 743.8, 1435.3 742.6 Q 1434.5 741.4, 1434.5 739.4 Q 1434.5 737.3, 1435.3 736.1 Q 1436.0 735.0, 1437.6 735.0 Q 1439.2 735.0, 1440.0 736.1 Q 1440.7 737.3, 1440.7 739.4 Q 1440.7 741.4, 1440.0 742.6 Q 1439.2 743.8, 1437.6 743.8 M 1437.6 742.8 Q 1438.5 742.8, 1439.0 741.9 Q 1439.5 741.1, 1439.5 739.4 Q 1439.5 737.7, 1439.0 736.8 Q 1438.5 736.0, 1437.6 736.0 Q 1436.7 736.0, 1436.2 736.8 Q 1435.7 737.7, 1435.7 739.4 Q 1435.7 741.1, 1436.2 741.9 Q 1436.7 742.8, 1437.6 742.8 \" fill=\"#000000\"/>\n",
       "<path class=\"legend\" d=\"M 1444.7 743.8 Q 1443.1 743.8, 1442.3 742.6 Q 1441.5 741.4, 1441.5 739.4 Q 1441.5 737.3, 1442.3 736.1 Q 1443.1 735.0, 1444.7 735.0 Q 1446.2 735.0, 1447.0 736.1 Q 1447.8 737.3, 1447.8 739.4 Q 1447.8 741.4, 1447.0 742.6 Q 1446.2 743.8, 1444.7 743.8 M 1444.7 742.8 Q 1445.6 742.8, 1446.1 741.9 Q 1446.6 741.1, 1446.6 739.4 Q 1446.6 737.7, 1446.1 736.8 Q 1445.6 736.0, 1444.7 736.0 Q 1443.7 736.0, 1443.2 736.8 Q 1442.7 737.7, 1442.7 739.4 Q 1442.7 741.1, 1443.2 741.9 Q 1443.7 742.8, 1444.7 742.8 \" fill=\"#000000\"/>\n",
       "<path class=\"legend\" d=\"M 1451.7 743.8 Q 1450.1 743.8, 1449.4 742.6 Q 1448.6 741.4, 1448.6 739.4 Q 1448.6 737.3, 1449.4 736.1 Q 1450.1 735.0, 1451.7 735.0 Q 1453.3 735.0, 1454.1 736.1 Q 1454.9 737.3, 1454.9 739.4 Q 1454.9 741.4, 1454.1 742.6 Q 1453.3 743.8, 1451.7 743.8 M 1451.7 742.8 Q 1452.6 742.8, 1453.1 741.9 Q 1453.6 741.1, 1453.6 739.4 Q 1453.6 737.7, 1453.1 736.8 Q 1452.6 736.0, 1451.7 736.0 Q 1450.8 736.0, 1450.3 736.8 Q 1449.8 737.7, 1449.8 739.4 Q 1449.8 741.1, 1450.3 741.9 Q 1450.8 742.8, 1451.7 742.8 \" fill=\"#000000\"/>\n",
       "<path class=\"legend\" d=\"M 1458.8 743.8 Q 1457.2 743.8, 1456.4 742.6 Q 1455.6 741.4, 1455.6 739.4 Q 1455.6 737.3, 1456.4 736.1 Q 1457.2 735.0, 1458.8 735.0 Q 1460.4 735.0, 1461.1 736.1 Q 1461.9 737.3, 1461.9 739.4 Q 1461.9 741.4, 1461.1 742.6 Q 1460.3 743.8, 1458.8 743.8 M 1458.8 742.8 Q 1459.7 742.8, 1460.2 741.9 Q 1460.7 741.1, 1460.7 739.4 Q 1460.7 737.7, 1460.2 736.8 Q 1459.7 736.0, 1458.8 736.0 Q 1457.9 736.0, 1457.3 736.8 Q 1456.8 737.7, 1456.8 739.4 Q 1456.8 741.1, 1457.3 741.9 Q 1457.9 742.8, 1458.8 742.8 \" fill=\"#000000\"/>\n",
       "<path class=\"legend\" d=\"M 1466.0 738.3 Q 1466.8 738.3, 1467.4 738.6 Q 1468.0 739.0, 1468.3 739.6 Q 1468.6 740.2, 1468.6 740.9 Q 1468.6 741.7, 1468.3 742.4 Q 1467.9 743.0, 1467.2 743.4 Q 1466.6 743.8, 1465.8 743.8 Q 1464.2 743.8, 1463.5 742.7 Q 1462.7 741.7, 1462.7 739.6 Q 1462.7 737.4, 1463.6 736.2 Q 1464.6 735.0, 1466.4 735.0 Q 1466.9 735.0, 1467.4 735.1 Q 1467.9 735.2, 1468.3 735.5 L 1467.8 736.3 Q 1467.2 736.0, 1466.4 736.0 Q 1465.2 736.0, 1464.6 736.8 Q 1464.0 737.5, 1463.9 739.1 Q 1464.3 738.7, 1464.9 738.5 Q 1465.4 738.3, 1466.0 738.3 M 1465.8 742.8 Q 1466.2 742.8, 1466.6 742.5 Q 1467.0 742.3, 1467.2 741.9 Q 1467.4 741.4, 1467.4 740.9 Q 1467.4 740.2, 1467.0 739.7 Q 1466.6 739.3, 1465.8 739.3 Q 1465.3 739.3, 1464.8 739.5 Q 1464.3 739.7, 1463.9 740.1 Q 1464.0 741.5, 1464.4 742.1 Q 1464.9 742.8, 1465.8 742.8 \" fill=\"#000000\"/>\n",
       "<path class=\"legend\" d=\"M 1472.4 738.3 Q 1473.2 738.3, 1473.8 738.6 Q 1474.4 738.9, 1474.7 739.5 Q 1475.1 740.1, 1475.1 741.0 Q 1475.1 741.8, 1474.7 742.5 Q 1474.2 743.1, 1473.5 743.4 Q 1472.8 743.8, 1472.0 743.8 Q 1471.2 743.8, 1470.5 743.5 Q 1469.8 743.2, 1469.3 742.6 L 1470.0 741.9 Q 1470.4 742.3, 1471.0 742.5 Q 1471.5 742.8, 1472.1 742.8 Q 1472.8 742.8, 1473.3 742.3 Q 1473.9 741.8, 1473.9 741.0 Q 1473.9 740.1, 1473.3 739.6 Q 1472.8 739.2, 1472.0 739.2 Q 1471.2 739.2, 1470.4 739.5 L 1469.7 739.2 L 1470.2 735.1 L 1474.6 735.1 L 1474.4 736.1 L 1471.1 736.1 L 1470.9 738.6 Q 1471.7 738.3, 1472.4 738.3 \" fill=\"#000000\"/>\n",
       "<path class=\"legend\" d=\"M 1480.0 739.1 Q 1480.8 739.5, 1481.3 740.0 Q 1481.7 740.5, 1481.7 741.3 Q 1481.7 742.0, 1481.3 742.6 Q 1481.0 743.2, 1480.3 743.5 Q 1479.6 743.8, 1478.7 743.8 Q 1477.3 743.8, 1476.5 743.1 Q 1475.7 742.5, 1475.7 741.3 Q 1475.7 740.6, 1476.0 740.1 Q 1476.4 739.6, 1477.1 739.2 Q 1476.6 738.8, 1476.3 738.4 Q 1476.0 737.9, 1476.0 737.2 Q 1476.0 736.2, 1476.7 735.6 Q 1477.4 735.0, 1478.7 735.0 Q 1479.9 735.0, 1480.7 735.6 Q 1481.4 736.2, 1481.4 737.2 Q 1481.4 737.8, 1481.1 738.3 Q 1480.7 738.8, 1480.0 739.1 M 1478.7 735.9 Q 1478.0 735.9, 1477.6 736.2 Q 1477.2 736.6, 1477.2 737.2 Q 1477.2 737.6, 1477.5 737.9 Q 1477.7 738.2, 1478.1 738.4 Q 1478.5 738.6, 1479.2 738.8 Q 1479.7 738.5, 1480.0 738.1 Q 1480.2 737.7, 1480.2 737.2 Q 1480.2 736.6, 1479.8 736.2 Q 1479.4 735.9, 1478.7 735.9 M 1478.7 742.9 Q 1479.5 742.9, 1480.0 742.5 Q 1480.5 742.0, 1480.5 741.3 Q 1480.5 740.8, 1480.3 740.6 Q 1480.0 740.3, 1479.6 740.1 Q 1479.2 739.9, 1478.6 739.7 L 1478.0 739.5 Q 1477.4 739.9, 1477.1 740.3 Q 1476.9 740.7, 1476.9 741.3 Q 1476.9 742.0, 1477.4 742.5 Q 1477.9 742.9, 1478.7 742.9 \" fill=\"#000000\"/>\n",
       "<path class=\"legend\" d=\"M 1483.0 742.7 L 1484.8 742.7 L 1484.8 736.3 L 1482.8 736.9 L 1482.5 736.2 L 1485.1 735.0 L 1486.0 735.2 L 1486.0 742.7 L 1487.6 742.7 L 1487.6 743.7 L 1483.0 743.7 L 1483.0 742.7 \" fill=\"#000000\"/>\n",
       "<path class=\"legend\" d=\"M 1491.0 735.0 Q 1492.6 735.0, 1493.3 736.0 Q 1494.1 737.1, 1494.1 739.1 Q 1494.1 741.4, 1493.1 742.6 Q 1492.2 743.8, 1490.4 743.8 Q 1489.8 743.8, 1489.4 743.6 Q 1488.9 743.5, 1488.5 743.3 L 1489.0 742.5 Q 1489.6 742.8, 1490.4 742.8 Q 1491.6 742.8, 1492.2 742.0 Q 1492.8 741.2, 1492.9 739.6 Q 1492.4 740.0, 1491.9 740.2 Q 1491.3 740.4, 1490.7 740.4 Q 1490.0 740.4, 1489.4 740.1 Q 1488.8 739.8, 1488.5 739.2 Q 1488.2 738.6, 1488.2 737.9 Q 1488.2 737.0, 1488.5 736.4 Q 1488.9 735.7, 1489.5 735.4 Q 1490.2 735.0, 1491.0 735.0 M 1489.4 737.8 Q 1489.4 738.6, 1489.8 739.0 Q 1490.2 739.5, 1491.0 739.5 Q 1491.5 739.5, 1492.0 739.3 Q 1492.5 739.1, 1492.9 738.7 Q 1492.8 737.3, 1492.4 736.6 Q 1491.9 736.0, 1491.0 736.0 Q 1490.6 736.0, 1490.2 736.2 Q 1489.8 736.5, 1489.6 736.9 Q 1489.4 737.3, 1489.4 737.8 \" fill=\"#000000\"/>\n",
       "<path class=\"legend\" d=\"M 1499.0 739.1 Q 1499.9 739.4, 1500.3 739.9 Q 1500.7 740.5, 1500.7 741.3 Q 1500.7 742.0, 1500.3 742.6 Q 1499.9 743.2, 1499.3 743.5 Q 1498.6 743.8, 1497.7 743.8 Q 1496.8 743.8, 1496.1 743.5 Q 1495.5 743.1, 1494.9 742.5 L 1495.6 741.8 Q 1496.1 742.4, 1496.6 742.6 Q 1497.0 742.8, 1497.7 742.8 Q 1498.5 742.8, 1499.0 742.4 Q 1499.5 742.0, 1499.5 741.3 Q 1499.5 740.4, 1499.0 740.0 Q 1498.5 739.6, 1497.4 739.6 L 1496.8 739.6 L 1496.8 738.8 L 1497.4 738.8 Q 1498.3 738.8, 1498.8 738.4 Q 1499.3 738.0, 1499.3 737.2 Q 1499.3 736.6, 1498.9 736.3 Q 1498.5 736.0, 1497.8 736.0 Q 1497.0 736.0, 1496.6 736.2 Q 1496.2 736.5, 1495.8 737.1 L 1495.0 736.7 Q 1495.3 736.0, 1496.0 735.5 Q 1496.7 735.0, 1497.8 735.0 Q 1499.0 735.0, 1499.8 735.6 Q 1500.5 736.2, 1500.5 737.2 Q 1500.5 737.9, 1500.1 738.4 Q 1499.7 738.9, 1499.0 739.1 \" fill=\"#000000\"/>\n",
       "<path class=\"legend\" d=\"M 1507.0 740.7 L 1508.0 740.7 L 1508.0 741.7 L 1507.0 741.7 L 1507.0 743.7 L 1505.8 743.7 L 1505.8 741.7 L 1501.4 741.7 L 1501.4 740.9 L 1505.1 735.1 L 1507.0 735.1 L 1507.0 740.7 M 1502.8 740.7 L 1505.8 740.7 L 1505.8 735.9 L 1502.8 740.7 \" fill=\"#000000\"/>\n",
       "<path class=\"bond-0 atom-0 atom-1\" d=\"M 52.6,818.6 L 70.1,809.4\" style=\"fill:none;fill-rule:evenodd;stroke:#000000;stroke-width:2.0px;stroke-linecap:butt;stroke-linejoin:miter;stroke-opacity:1\"/>\n",
       "<path class=\"bond-1 atom-1 atom-2\" d=\"M 70.1,809.4 L 86.9,820.0\" style=\"fill:none;fill-rule:evenodd;stroke:#000000;stroke-width:2.0px;stroke-linecap:butt;stroke-linejoin:miter;stroke-opacity:1\"/>\n",
       "<path class=\"bond-2 atom-2 atom-3\" d=\"M 86.9,820.0 L 104.4,810.7\" style=\"fill:none;fill-rule:evenodd;stroke:#000000;stroke-width:2.0px;stroke-linecap:butt;stroke-linejoin:miter;stroke-opacity:1\"/>\n",
       "<path class=\"bond-3 atom-3 atom-4\" d=\"M 104.4,810.7 L 121.1,821.3\" style=\"fill:none;fill-rule:evenodd;stroke:#000000;stroke-width:2.0px;stroke-linecap:butt;stroke-linejoin:miter;stroke-opacity:1\"/>\n",
       "<path class=\"bond-4 atom-4 atom-5\" d=\"M 121.1,821.3 L 138.6,812.1\" style=\"fill:none;fill-rule:evenodd;stroke:#000000;stroke-width:2.0px;stroke-linecap:butt;stroke-linejoin:miter;stroke-opacity:1\"/>\n",
       "<path class=\"bond-5 atom-5 atom-6\" d=\"M 138.6,812.1 L 155.3,822.7\" style=\"fill:none;fill-rule:evenodd;stroke:#000000;stroke-width:2.0px;stroke-linecap:butt;stroke-linejoin:miter;stroke-opacity:1\"/>\n",
       "<path class=\"bond-6 atom-6 atom-7\" d=\"M 155.3,822.7 L 172.9,813.4\" style=\"fill:none;fill-rule:evenodd;stroke:#000000;stroke-width:2.0px;stroke-linecap:butt;stroke-linejoin:miter;stroke-opacity:1\"/>\n",
       "<path class=\"bond-7 atom-7 atom-8\" d=\"M 172.9,813.4 L 189.6,824.0\" style=\"fill:none;fill-rule:evenodd;stroke:#000000;stroke-width:2.0px;stroke-linecap:butt;stroke-linejoin:miter;stroke-opacity:1\"/>\n",
       "<path class=\"bond-8 atom-8 atom-9\" d=\"M 189.6,824.0 L 207.1,814.8\" style=\"fill:none;fill-rule:evenodd;stroke:#000000;stroke-width:2.0px;stroke-linecap:butt;stroke-linejoin:miter;stroke-opacity:1\"/>\n",
       "<path class=\"bond-9 atom-9 atom-10\" d=\"M 207.1,814.8 L 223.8,825.4\" style=\"fill:none;fill-rule:evenodd;stroke:#000000;stroke-width:2.0px;stroke-linecap:butt;stroke-linejoin:miter;stroke-opacity:1\"/>\n",
       "<path class=\"bond-10 atom-10 atom-11\" d=\"M 223.8,825.4 L 241.3,816.1\" style=\"fill:none;fill-rule:evenodd;stroke:#000000;stroke-width:2.0px;stroke-linecap:butt;stroke-linejoin:miter;stroke-opacity:1\"/>\n",
       "<path class=\"bond-11 atom-11 atom-12\" d=\"M 241.3,816.1 L 258.1,826.7\" style=\"fill:none;fill-rule:evenodd;stroke:#000000;stroke-width:2.0px;stroke-linecap:butt;stroke-linejoin:miter;stroke-opacity:1\"/>\n",
       "<path class=\"bond-11 atom-11 atom-12\" d=\"M 241.7,821.1 L 253.4,828.5\" style=\"fill:none;fill-rule:evenodd;stroke:#000000;stroke-width:2.0px;stroke-linecap:butt;stroke-linejoin:miter;stroke-opacity:1\"/>\n",
       "<path class=\"bond-12 atom-12 atom-13\" d=\"M 258.1,826.7 L 275.6,817.5\" style=\"fill:none;fill-rule:evenodd;stroke:#000000;stroke-width:2.0px;stroke-linecap:butt;stroke-linejoin:miter;stroke-opacity:1\"/>\n",
       "<path class=\"bond-13 atom-13 atom-14\" d=\"M 273.6,817.4 L 273.9,809.3\" style=\"fill:none;fill-rule:evenodd;stroke:#000000;stroke-width:2.0px;stroke-linecap:butt;stroke-linejoin:miter;stroke-opacity:1\"/>\n",
       "<path class=\"bond-13 atom-13 atom-14\" d=\"M 273.9,809.3 L 274.2,801.2\" style=\"fill:none;fill-rule:evenodd;stroke:#FF0000;stroke-width:2.0px;stroke-linecap:butt;stroke-linejoin:miter;stroke-opacity:1\"/>\n",
       "<path class=\"bond-13 atom-13 atom-14\" d=\"M 277.5,817.6 L 277.9,809.5\" style=\"fill:none;fill-rule:evenodd;stroke:#000000;stroke-width:2.0px;stroke-linecap:butt;stroke-linejoin:miter;stroke-opacity:1\"/>\n",
       "<path class=\"bond-13 atom-13 atom-14\" d=\"M 277.9,809.5 L 278.2,801.4\" style=\"fill:none;fill-rule:evenodd;stroke:#FF0000;stroke-width:2.0px;stroke-linecap:butt;stroke-linejoin:miter;stroke-opacity:1\"/>\n",
       "<path class=\"bond-14 atom-13 atom-15\" d=\"M 275.6,817.5 L 282.3,821.8\" style=\"fill:none;fill-rule:evenodd;stroke:#000000;stroke-width:2.0px;stroke-linecap:butt;stroke-linejoin:miter;stroke-opacity:1\"/>\n",
       "<path class=\"bond-14 atom-13 atom-15\" d=\"M 282.3,821.8 L 289.1,826.0\" style=\"fill:none;fill-rule:evenodd;stroke:#FF0000;stroke-width:2.0px;stroke-linecap:butt;stroke-linejoin:miter;stroke-opacity:1\"/>\n",
       "<path class=\"bond-15 atom-15 atom-16\" d=\"M 295.5,826.4 L 302.7,822.6\" style=\"fill:none;fill-rule:evenodd;stroke:#FF0000;stroke-width:2.0px;stroke-linecap:butt;stroke-linejoin:miter;stroke-opacity:1\"/>\n",
       "<path class=\"bond-15 atom-15 atom-16\" d=\"M 302.7,822.6 L 309.8,818.8\" style=\"fill:none;fill-rule:evenodd;stroke:#000000;stroke-width:2.0px;stroke-linecap:butt;stroke-linejoin:miter;stroke-opacity:1\"/>\n",
       "<path class=\"bond-16 atom-16 atom-17\" d=\"M 309.8,818.8 L 326.5,829.4\" style=\"fill:none;fill-rule:evenodd;stroke:#000000;stroke-width:2.0px;stroke-linecap:butt;stroke-linejoin:miter;stroke-opacity:1\"/>\n",
       "<path class=\"bond-17 atom-17 atom-18\" d=\"M 326.5,829.4 L 325.8,849.2\" style=\"fill:none;fill-rule:evenodd;stroke:#000000;stroke-width:2.0px;stroke-linecap:butt;stroke-linejoin:miter;stroke-opacity:1\"/>\n",
       "<path class=\"bond-18 atom-18 atom-19\" d=\"M 325.8,849.2 L 332.5,853.4\" style=\"fill:none;fill-rule:evenodd;stroke:#000000;stroke-width:2.0px;stroke-linecap:butt;stroke-linejoin:miter;stroke-opacity:1\"/>\n",
       "<path class=\"bond-18 atom-18 atom-19\" d=\"M 332.5,853.4 L 339.3,857.7\" style=\"fill:none;fill-rule:evenodd;stroke:#FF0000;stroke-width:2.0px;stroke-linecap:butt;stroke-linejoin:miter;stroke-opacity:1\"/>\n",
       "<path class=\"bond-19 atom-18 atom-20\" d=\"M 326.7,850.9 L 319.5,854.7\" style=\"fill:none;fill-rule:evenodd;stroke:#000000;stroke-width:2.0px;stroke-linecap:butt;stroke-linejoin:miter;stroke-opacity:1\"/>\n",
       "<path class=\"bond-19 atom-18 atom-20\" d=\"M 319.5,854.7 L 312.4,858.4\" style=\"fill:none;fill-rule:evenodd;stroke:#FF0000;stroke-width:2.0px;stroke-linecap:butt;stroke-linejoin:miter;stroke-opacity:1\"/>\n",
       "<path class=\"bond-19 atom-18 atom-20\" d=\"M 324.8,847.4 L 317.7,851.2\" style=\"fill:none;fill-rule:evenodd;stroke:#000000;stroke-width:2.0px;stroke-linecap:butt;stroke-linejoin:miter;stroke-opacity:1\"/>\n",
       "<path class=\"bond-19 atom-18 atom-20\" d=\"M 317.7,851.2 L 310.6,854.9\" style=\"fill:none;fill-rule:evenodd;stroke:#FF0000;stroke-width:2.0px;stroke-linecap:butt;stroke-linejoin:miter;stroke-opacity:1\"/>\n",
       "<path class=\"bond-20 atom-16 atom-21\" d=\"M 309.8,818.8 L 310.6,799.1\" style=\"fill:none;fill-rule:evenodd;stroke:#000000;stroke-width:2.0px;stroke-linecap:butt;stroke-linejoin:miter;stroke-opacity:1\"/>\n",
       "<path class=\"bond-21 atom-21 atom-22\" d=\"M 310.6,799.1 L 318.0,795.2\" style=\"fill:none;fill-rule:evenodd;stroke:#000000;stroke-width:2.0px;stroke-linecap:butt;stroke-linejoin:miter;stroke-opacity:1\"/>\n",
       "<path class=\"bond-21 atom-21 atom-22\" d=\"M 318.0,795.2 L 325.3,791.3\" style=\"fill:none;fill-rule:evenodd;stroke:#0000FF;stroke-width:2.0px;stroke-linecap:butt;stroke-linejoin:miter;stroke-opacity:1\"/>\n",
       "<path class=\"bond-22 atom-22 atom-23\" d=\"M 326.3,786.4 L 322.6,779.4\" style=\"fill:none;fill-rule:evenodd;stroke:#0000FF;stroke-width:2.0px;stroke-linecap:butt;stroke-linejoin:miter;stroke-opacity:1\"/>\n",
       "<path class=\"bond-22 atom-22 atom-23\" d=\"M 322.6,779.4 L 318.9,772.4\" style=\"fill:none;fill-rule:evenodd;stroke:#000000;stroke-width:2.0px;stroke-linecap:butt;stroke-linejoin:miter;stroke-opacity:1\"/>\n",
       "<path class=\"bond-23 atom-22 atom-24\" d=\"M 329.9,793.3 L 333.6,800.3\" style=\"fill:none;fill-rule:evenodd;stroke:#0000FF;stroke-width:2.0px;stroke-linecap:butt;stroke-linejoin:miter;stroke-opacity:1\"/>\n",
       "<path class=\"bond-23 atom-22 atom-24\" d=\"M 333.6,800.3 L 337.3,807.4\" style=\"fill:none;fill-rule:evenodd;stroke:#000000;stroke-width:2.0px;stroke-linecap:butt;stroke-linejoin:miter;stroke-opacity:1\"/>\n",
       "<path class=\"bond-24 atom-22 atom-25\" d=\"M 334.0,786.8 L 339.8,783.7\" style=\"fill:none;fill-rule:evenodd;stroke:#0000FF;stroke-width:2.0px;stroke-linecap:butt;stroke-linejoin:miter;stroke-opacity:1\"/>\n",
       "<path class=\"bond-24 atom-22 atom-25\" d=\"M 339.8,783.7 L 345.6,780.7\" style=\"fill:none;fill-rule:evenodd;stroke:#000000;stroke-width:2.0px;stroke-linecap:butt;stroke-linejoin:miter;stroke-opacity:1\"/>\n",
       "<path class=\"atom-14\" d=\"M 273.8 797.7 Q 273.8 796.4, 274.4 795.6 Q 275.1 794.9, 276.3 794.9 Q 277.6 794.9, 278.3 795.6 Q 278.9 796.4, 278.9 797.7 Q 278.9 799.1, 278.2 799.9 Q 277.6 800.6, 276.3 800.6 Q 275.1 800.6, 274.4 799.9 Q 273.8 799.1, 273.8 797.7 M 276.3 800.0 Q 277.2 800.0, 277.7 799.4 Q 278.1 798.9, 278.1 797.7 Q 278.1 796.6, 277.7 796.1 Q 277.2 795.5, 276.3 795.5 Q 275.5 795.5, 275.0 796.1 Q 274.6 796.6, 274.6 797.7 Q 274.6 798.9, 275.0 799.4 Q 275.5 800.0, 276.3 800.0 \" fill=\"#FF0000\"/>\n",
       "<path class=\"atom-15\" d=\"M 289.7 828.1 Q 289.7 826.7, 290.4 826.0 Q 291.1 825.2, 292.3 825.2 Q 293.5 825.2, 294.2 826.0 Q 294.9 826.7, 294.9 828.1 Q 294.9 829.4, 294.2 830.2 Q 293.5 831.0, 292.3 831.0 Q 291.1 831.0, 290.4 830.2 Q 289.7 829.4, 289.7 828.1 M 292.3 830.3 Q 293.2 830.3, 293.6 829.8 Q 294.1 829.2, 294.1 828.1 Q 294.1 827.0, 293.6 826.4 Q 293.2 825.9, 292.3 825.9 Q 291.4 825.9, 291.0 826.4 Q 290.5 827.0, 290.5 828.1 Q 290.5 829.2, 291.0 829.8 Q 291.4 830.3, 292.3 830.3 \" fill=\"#FF0000\"/>\n",
       "<path class=\"atom-19\" d=\"M 339.9 859.7 Q 339.9 858.4, 340.6 857.6 Q 341.2 856.9, 342.5 856.9 Q 343.7 856.9, 344.4 857.6 Q 345.1 858.4, 345.1 859.7 Q 345.1 861.1, 344.4 861.9 Q 343.7 862.6, 342.5 862.6 Q 341.3 862.6, 340.6 861.9 Q 339.9 861.1, 339.9 859.7 M 342.5 862.0 Q 343.3 862.0, 343.8 861.4 Q 344.3 860.9, 344.3 859.7 Q 344.3 858.6, 343.8 858.1 Q 343.3 857.5, 342.5 857.5 Q 341.6 857.5, 341.2 858.1 Q 340.7 858.6, 340.7 859.7 Q 340.7 860.9, 341.2 861.4 Q 341.6 862.0, 342.5 862.0 \" fill=\"#FF0000\"/>\n",
       "<path class=\"atom-19\" d=\"M 345.5 857.8 L 347.4 857.8 L 347.4 858.2 L 345.5 858.2 L 345.5 857.8 \" fill=\"#FF0000\"/>\n",
       "<path class=\"atom-20\" d=\"M 305.7 858.4 Q 305.7 857.0, 306.3 856.3 Q 307.0 855.5, 308.3 855.5 Q 309.5 855.5, 310.2 856.3 Q 310.8 857.0, 310.8 858.4 Q 310.8 859.8, 310.1 860.5 Q 309.5 861.3, 308.3 861.3 Q 307.0 861.3, 306.3 860.5 Q 305.7 859.8, 305.7 858.4 M 308.3 860.7 Q 309.1 860.7, 309.6 860.1 Q 310.0 859.5, 310.0 858.4 Q 310.0 857.3, 309.6 856.7 Q 309.1 856.2, 308.3 856.2 Q 307.4 856.2, 306.9 856.7 Q 306.5 857.3, 306.5 858.4 Q 306.5 859.5, 306.9 860.1 Q 307.4 860.7, 308.3 860.7 \" fill=\"#FF0000\"/>\n",
       "<path class=\"atom-22\" d=\"M 326.9 787.1 L 328.7 790.0 Q 328.9 790.3, 329.2 790.9 Q 329.5 791.4, 329.5 791.4 L 329.5 787.1 L 330.2 787.1 L 330.2 792.7 L 329.5 792.7 L 327.5 789.4 Q 327.3 789.0, 327.0 788.6 Q 326.8 788.2, 326.7 788.0 L 326.7 792.7 L 326.0 792.7 L 326.0 787.1 L 326.9 787.1 \" fill=\"#0000FF\"/>\n",
       "<path class=\"atom-22\" d=\"M 330.9 788.1 L 331.9 788.1 L 331.9 787.0 L 332.3 787.0 L 332.3 788.1 L 333.3 788.1 L 333.3 788.4 L 332.3 788.4 L 332.3 789.5 L 331.9 789.5 L 331.9 788.4 L 330.9 788.4 L 330.9 788.1 \" fill=\"#0000FF\"/>\n",
       "<path class=\"legend\" d=\"M 60.6 890.3 Q 61.7 890.6, 62.2 891.2 Q 62.7 891.8, 62.7 892.8 Q 62.7 894.3, 61.7 895.1 Q 60.8 896.0, 59.0 896.0 L 55.4 896.0 L 55.4 885.1 L 58.6 885.1 Q 60.4 885.1, 61.3 885.9 Q 62.3 886.6, 62.3 888.0 Q 62.3 889.6, 60.6 890.3 M 56.8 886.3 L 56.8 889.7 L 58.6 889.7 Q 59.6 889.7, 60.2 889.3 Q 60.7 888.9, 60.7 888.0 Q 60.7 886.3, 58.6 886.3 L 56.8 886.3 M 59.0 894.7 Q 60.1 894.7, 60.6 894.2 Q 61.2 893.7, 61.2 892.8 Q 61.2 891.9, 60.6 891.4 Q 59.9 891.0, 58.8 891.0 L 56.8 891.0 L 56.8 894.7 L 59.0 894.7 \" fill=\"#000000\"/>\n",
       "<path class=\"legend\" d=\"M 64.9 885.1 L 64.9 892.4 Q 64.9 893.7, 65.6 894.2 Q 66.3 894.8, 67.6 894.8 Q 69.0 894.8, 69.7 894.3 Q 70.4 893.7, 70.4 892.5 L 70.4 885.1 L 71.9 885.1 L 71.9 892.5 Q 71.9 894.2, 70.8 895.1 Q 69.8 896.1, 67.6 896.1 Q 65.5 896.1, 64.5 895.1 Q 63.4 894.2, 63.4 892.5 L 63.4 885.1 L 64.9 885.1 \" fill=\"#000000\"/>\n",
       "<path class=\"legend\" d=\"M 78.3 890.3 Q 79.4 890.6, 79.9 891.2 Q 80.4 891.8, 80.4 892.8 Q 80.4 894.3, 79.5 895.1 Q 78.5 896.0, 76.7 896.0 L 73.1 896.0 L 73.1 885.1 L 76.3 885.1 Q 78.1 885.1, 79.1 885.9 Q 80.0 886.6, 80.0 888.0 Q 80.0 889.6, 78.3 890.3 M 74.5 886.3 L 74.5 889.7 L 76.3 889.7 Q 77.3 889.7, 77.9 889.3 Q 78.5 888.9, 78.5 888.0 Q 78.5 886.3, 76.3 886.3 L 74.5 886.3 M 76.7 894.7 Q 77.8 894.7, 78.3 894.2 Q 78.9 893.7, 78.9 892.8 Q 78.9 891.9, 78.3 891.4 Q 77.7 891.0, 76.5 891.0 L 74.5 891.0 L 74.5 894.7 L 76.7 894.7 \" fill=\"#000000\"/>\n",
       "<path class=\"legend\" d=\"M 81.1 885.1 L 82.6 885.1 L 82.6 889.7 L 88.2 889.7 L 88.2 885.1 L 89.6 885.1 L 89.6 896.0 L 88.2 896.0 L 88.2 891.0 L 82.6 891.0 L 82.6 896.0 L 81.1 896.0 L 81.1 885.1 \" fill=\"#000000\"/>\n",
       "<path class=\"legend\" d=\"M 90.9 885.1 L 92.4 885.1 L 92.4 889.7 L 97.9 889.7 L 97.9 885.1 L 99.4 885.1 L 99.4 896.0 L 97.9 896.0 L 97.9 891.0 L 92.4 891.0 L 92.4 896.0 L 90.9 896.0 L 90.9 885.1 \" fill=\"#000000\"/>\n",
       "<path class=\"legend\" d=\"M 101.1 894.3 Q 101.2 894.3, 101.7 894.5 Q 102.2 894.8, 102.8 894.9 Q 103.4 895.0, 103.9 895.0 Q 104.9 895.0, 105.5 894.5 Q 106.1 894.0, 106.1 893.1 Q 106.1 892.5, 105.8 892.2 Q 105.5 891.8, 105.1 891.6 Q 104.6 891.4, 103.9 891.2 Q 102.9 890.9, 102.3 890.6 Q 101.7 890.3, 101.3 889.8 Q 100.9 889.2, 100.9 888.2 Q 100.9 886.8, 101.9 886.0 Q 102.8 885.2, 104.6 885.2 Q 105.9 885.2, 107.3 885.8 L 106.9 886.9 Q 105.6 886.4, 104.7 886.4 Q 103.6 886.4, 103.0 886.8 Q 102.4 887.3, 102.5 888.0 Q 102.5 888.6, 102.8 888.9 Q 103.1 889.3, 103.5 889.5 Q 103.9 889.7, 104.7 889.9 Q 105.6 890.2, 106.2 890.5 Q 106.8 890.8, 107.2 891.5 Q 107.7 892.1, 107.7 893.1 Q 107.7 894.6, 106.6 895.5 Q 105.6 896.2, 104.0 896.2 Q 103.0 896.2, 102.3 896.0 Q 101.6 895.8, 100.7 895.5 L 101.1 894.3 \" fill=\"#000000\"/>\n",
       "<path class=\"legend\" d=\"M 108.4 885.1 L 109.8 885.1 L 109.8 889.7 L 115.4 889.7 L 115.4 885.1 L 116.9 885.1 L 116.9 896.0 L 115.4 896.0 L 115.4 891.0 L 109.8 891.0 L 109.8 896.0 L 108.4 896.0 L 108.4 885.1 \" fill=\"#000000\"/>\n",
       "<path class=\"legend\" d=\"M 123.4 890.3 Q 124.5 890.6, 125.0 891.2 Q 125.5 891.8, 125.5 892.8 Q 125.5 894.3, 124.6 895.1 Q 123.6 896.0, 121.8 896.0 L 118.2 896.0 L 118.2 885.1 L 121.4 885.1 Q 123.2 885.1, 124.1 885.9 Q 125.1 886.6, 125.1 888.0 Q 125.1 889.6, 123.4 890.3 M 119.6 886.3 L 119.6 889.7 L 121.4 889.7 Q 122.4 889.7, 123.0 889.3 Q 123.5 888.9, 123.5 888.0 Q 123.5 886.3, 121.4 886.3 L 119.6 886.3 M 121.8 894.7 Q 122.9 894.7, 123.4 894.2 Q 124.0 893.7, 124.0 892.8 Q 124.0 891.9, 123.4 891.4 Q 122.7 891.0, 121.6 891.0 L 119.6 891.0 L 119.6 894.7 L 121.8 894.7 \" fill=\"#000000\"/>\n",
       "<path class=\"legend\" d=\"M 126.2 885.1 L 127.7 885.1 L 127.7 896.0 L 126.2 896.0 L 126.2 885.1 M 132.2 885.1 L 134.2 885.1 L 129.9 890.1 L 134.6 896.0 L 132.6 896.0 L 128.0 890.1 L 132.2 885.1 \" fill=\"#000000\"/>\n",
       "<path class=\"legend\" d=\"M 148.2 885.1 L 149.6 885.1 L 146.7 896.0 L 144.5 896.0 L 142.2 886.9 L 139.8 896.0 L 137.6 896.0 L 134.7 885.1 L 136.2 885.1 L 138.7 894.6 L 141.2 885.1 L 143.1 885.1 L 145.6 894.6 L 148.2 885.1 \" fill=\"#000000\"/>\n",
       "<path class=\"legend\" d=\"M 151.8 885.1 L 155.3 890.9 Q 155.7 891.4, 156.2 892.5 Q 156.8 893.5, 156.8 893.5 L 156.8 885.1 L 158.3 885.1 L 158.3 896.0 L 156.8 896.0 L 153.0 889.7 Q 152.5 888.9, 152.1 888.1 Q 151.6 887.3, 151.5 887.0 L 151.5 896.0 L 150.1 896.0 L 150.1 885.1 L 151.8 885.1 \" fill=\"#000000\"/>\n",
       "<path class=\"legend\" d=\"M 159.5 885.1 L 161.0 885.1 L 161.0 894.7 L 166.0 894.7 L 166.0 896.0 L 159.5 896.0 L 159.5 885.1 \" fill=\"#000000\"/>\n",
       "<path class=\"legend\" d=\"M 166.4 885.1 L 167.8 885.1 L 167.8 894.7 L 172.8 894.7 L 172.8 896.0 L 166.4 896.0 L 166.4 885.1 \" fill=\"#000000\"/>\n",
       "<path class=\"legend\" d=\"M 181.9 890.6 L 181.9 895.2 Q 180.4 896.1, 178.1 896.1 Q 175.7 896.1, 174.5 894.7 Q 173.2 893.2, 173.2 890.5 Q 173.2 887.8, 174.5 886.4 Q 175.7 885.0, 178.2 885.0 Q 179.4 885.0, 180.3 885.4 Q 181.2 885.8, 181.9 886.6 L 180.9 887.4 Q 179.9 886.2, 178.2 886.2 Q 176.5 886.2, 175.6 887.3 Q 174.8 888.4, 174.8 890.5 Q 174.8 892.7, 175.7 893.8 Q 176.6 894.9, 178.3 894.9 Q 179.5 894.9, 180.5 894.5 L 180.5 890.6 L 181.9 890.6 \" fill=\"#000000\"/>\n",
       "<path class=\"legend\" d=\"\" fill=\"#000000\"/>\n",
       "<path class=\"legend\" d=\"M 188.2 894.2 L 189.7 894.2 L 189.7 895.7 L 188.2 895.7 L 188.2 894.2 M 188.2 888.9 L 189.7 888.9 L 189.7 890.4 L 188.2 890.4 L 188.2 888.9 \" fill=\"#000000\"/>\n",
       "<path class=\"legend\" d=\"\" fill=\"#000000\"/>\n",
       "<path class=\"legend\" d=\"M 196.0 890.5 Q 196.0 887.8, 197.2 886.4 Q 198.5 885.0, 200.9 885.0 Q 203.1 885.0, 204.3 886.6 L 203.3 887.4 Q 202.4 886.3, 200.9 886.3 Q 199.3 886.3, 198.4 887.4 Q 197.5 888.4, 197.5 890.5 Q 197.5 892.7, 198.4 893.8 Q 199.3 894.9, 201.1 894.9 Q 202.3 894.9, 203.6 894.2 L 204.1 895.3 Q 203.5 895.7, 202.7 895.9 Q 201.8 896.1, 200.8 896.1 Q 198.5 896.1, 197.2 894.7 Q 196.0 893.2, 196.0 890.5 \" fill=\"#000000\"/>\n",
       "<path class=\"legend\" d=\"M 204.9 890.5 Q 204.9 887.8, 206.2 886.4 Q 207.5 885.0, 209.9 885.0 Q 212.1 885.0, 213.3 886.6 L 212.3 887.4 Q 211.4 886.3, 209.9 886.3 Q 208.2 886.3, 207.4 887.4 Q 206.5 888.4, 206.5 890.5 Q 206.5 892.7, 207.4 893.8 Q 208.3 894.9, 210.0 894.9 Q 211.2 894.9, 212.6 894.2 L 213.0 895.3 Q 212.5 895.7, 211.6 895.9 Q 210.8 896.1, 209.8 896.1 Q 207.5 896.1, 206.2 894.7 Q 204.9 893.2, 204.9 890.5 \" fill=\"#000000\"/>\n",
       "<path class=\"legend\" d=\"M 226.3 896.0 L 224.9 896.0 L 223.8 887.1 L 220.8 896.0 L 219.4 896.0 L 216.4 887.1 L 215.3 896.0 L 213.9 896.0 L 215.3 885.1 L 217.1 885.1 L 220.1 893.8 L 223.1 885.1 L 224.9 885.1 L 226.3 896.0 \" fill=\"#000000\"/>\n",
       "<path class=\"legend\" d=\"M 227.7 894.3 Q 227.8 894.3, 228.3 894.5 Q 228.8 894.8, 229.4 894.9 Q 229.9 895.0, 230.5 895.0 Q 231.5 895.0, 232.1 894.5 Q 232.7 894.0, 232.7 893.1 Q 232.7 892.5, 232.4 892.2 Q 232.1 891.8, 231.7 891.6 Q 231.2 891.4, 230.4 891.2 Q 229.5 890.9, 228.9 890.6 Q 228.3 890.3, 227.9 889.8 Q 227.5 889.2, 227.5 888.2 Q 227.5 886.8, 228.4 886.0 Q 229.4 885.2, 231.2 885.2 Q 232.5 885.2, 233.9 885.8 L 233.5 886.9 Q 232.2 886.4, 231.2 886.4 Q 230.2 886.4, 229.6 886.8 Q 229.0 887.3, 229.0 888.0 Q 229.0 888.6, 229.3 888.9 Q 229.6 889.3, 230.1 889.5 Q 230.5 889.7, 231.2 889.9 Q 232.2 890.2, 232.8 890.5 Q 233.4 890.8, 233.8 891.5 Q 234.2 892.1, 234.2 893.1 Q 234.2 894.6, 233.2 895.5 Q 232.2 896.2, 230.6 896.2 Q 229.6 896.2, 228.9 896.0 Q 228.1 895.8, 227.3 895.5 L 227.7 894.3 \" fill=\"#000000\"/>\n",
       "<path class=\"legend\" d=\"M 234.9 885.1 L 236.4 885.1 L 236.4 894.7 L 241.4 894.7 L 241.4 896.0 L 234.9 896.0 L 234.9 885.1 \" fill=\"#000000\"/>\n",
       "<path class=\"legend\" d=\"M 241.8 885.1 L 243.2 885.1 L 243.2 896.0 L 241.8 896.0 L 241.8 885.1 \" fill=\"#000000\"/>\n",
       "<path class=\"legend\" d=\"M 249.9 890.3 Q 250.9 890.6, 251.4 891.2 Q 252.0 891.8, 252.0 892.8 Q 252.0 894.3, 251.0 895.1 Q 250.0 896.0, 248.2 896.0 L 244.6 896.0 L 244.6 885.1 L 247.8 885.1 Q 249.6 885.1, 250.6 885.9 Q 251.5 886.6, 251.5 888.0 Q 251.5 889.6, 249.9 890.3 M 246.0 886.3 L 246.0 889.7 L 247.8 889.7 Q 248.9 889.7, 249.4 889.3 Q 250.0 888.9, 250.0 888.0 Q 250.0 886.3, 247.8 886.3 L 246.0 886.3 M 248.2 894.7 Q 249.3 894.7, 249.9 894.2 Q 250.4 893.7, 250.4 892.8 Q 250.4 891.9, 249.8 891.4 Q 249.2 891.0, 248.0 891.0 L 246.0 891.0 L 246.0 894.7 L 248.2 894.7 \" fill=\"#000000\"/>\n",
       "<path class=\"legend\" d=\"M 256.6 896.1 Q 254.6 896.1, 253.6 894.6 Q 252.7 893.1, 252.7 890.5 Q 252.7 887.9, 253.6 886.5 Q 254.6 885.0, 256.6 885.0 Q 258.6 885.0, 259.6 886.5 Q 260.6 887.9, 260.6 890.5 Q 260.6 893.1, 259.6 894.6 Q 258.6 896.1, 256.6 896.1 M 256.6 894.9 Q 257.8 894.9, 258.4 893.8 Q 259.1 892.7, 259.1 890.5 Q 259.1 888.4, 258.4 887.3 Q 257.8 886.2, 256.6 886.2 Q 255.5 886.2, 254.8 887.3 Q 254.2 888.4, 254.2 890.5 Q 254.2 892.7, 254.8 893.8 Q 255.5 894.9, 256.6 894.9 \" fill=\"#000000\"/>\n",
       "<path class=\"legend\" d=\"M 265.5 896.1 Q 263.6 896.1, 262.6 894.6 Q 261.6 893.1, 261.6 890.5 Q 261.6 887.9, 262.6 886.5 Q 263.5 885.0, 265.5 885.0 Q 267.6 885.0, 268.5 886.5 Q 269.5 887.9, 269.5 890.5 Q 269.5 893.1, 268.5 894.6 Q 267.5 896.1, 265.5 896.1 M 265.5 894.9 Q 266.7 894.9, 267.4 893.8 Q 268.0 892.7, 268.0 890.5 Q 268.0 888.4, 267.4 887.3 Q 266.7 886.2, 265.5 886.2 Q 264.4 886.2, 263.7 887.3 Q 263.1 888.4, 263.1 890.5 Q 263.1 892.7, 263.7 893.8 Q 264.4 894.9, 265.5 894.9 \" fill=\"#000000\"/>\n",
       "<path class=\"legend\" d=\"M 274.5 896.1 Q 272.5 896.1, 271.5 894.6 Q 270.5 893.1, 270.5 890.5 Q 270.5 887.9, 271.5 886.5 Q 272.5 885.0, 274.5 885.0 Q 276.5 885.0, 277.5 886.5 Q 278.4 887.9, 278.4 890.5 Q 278.4 893.1, 277.4 894.6 Q 276.5 896.1, 274.5 896.1 M 274.5 894.9 Q 275.6 894.9, 276.3 893.8 Q 276.9 892.7, 276.9 890.5 Q 276.9 888.4, 276.3 887.3 Q 275.6 886.2, 274.5 886.2 Q 273.3 886.2, 272.7 887.3 Q 272.0 888.4, 272.0 890.5 Q 272.0 892.7, 272.7 893.8 Q 273.3 894.9, 274.5 894.9 \" fill=\"#000000\"/>\n",
       "<path class=\"legend\" d=\"M 283.4 896.1 Q 281.4 896.1, 280.4 894.6 Q 279.4 893.1, 279.4 890.5 Q 279.4 887.9, 280.4 886.5 Q 281.4 885.0, 283.4 885.0 Q 285.4 885.0, 286.4 886.5 Q 287.4 887.9, 287.4 890.5 Q 287.4 893.1, 286.4 894.6 Q 285.4 896.1, 283.4 896.1 M 283.4 894.9 Q 284.6 894.9, 285.2 893.8 Q 285.8 892.7, 285.8 890.5 Q 285.8 888.4, 285.2 887.3 Q 284.6 886.2, 283.4 886.2 Q 282.2 886.2, 281.6 887.3 Q 281.0 888.4, 281.0 890.5 Q 281.0 892.7, 281.6 893.8 Q 282.2 894.9, 283.4 894.9 \" fill=\"#000000\"/>\n",
       "<path class=\"legend\" d=\"M 292.6 889.2 Q 293.5 889.2, 294.3 889.6 Q 295.0 890.0, 295.5 890.8 Q 295.9 891.5, 295.9 892.5 Q 295.9 893.5, 295.4 894.4 Q 294.9 895.2, 294.1 895.6 Q 293.3 896.1, 292.2 896.1 Q 290.3 896.1, 289.3 894.8 Q 288.4 893.5, 288.4 890.9 Q 288.4 888.0, 289.5 886.5 Q 290.8 885.0, 293.1 885.0 Q 293.7 885.0, 294.3 885.2 Q 294.9 885.3, 295.4 885.6 L 294.8 886.7 Q 294.0 886.2, 293.1 886.2 Q 291.6 886.2, 290.8 887.2 Q 290.0 888.2, 289.9 890.2 Q 290.4 889.7, 291.1 889.5 Q 291.8 889.2, 292.6 889.2 M 292.2 894.8 Q 292.8 894.8, 293.3 894.5 Q 293.8 894.2, 294.1 893.7 Q 294.3 893.1, 294.3 892.5 Q 294.3 891.5, 293.8 891.0 Q 293.3 890.4, 292.3 890.4 Q 291.7 890.4, 291.0 890.7 Q 290.4 891.0, 289.9 891.4 Q 290.0 893.2, 290.5 894.0 Q 291.1 894.8, 292.2 894.8 \" fill=\"#000000\"/>\n",
       "<path class=\"legend\" d=\"M 300.6 889.2 Q 301.6 889.2, 302.4 889.6 Q 303.2 890.0, 303.6 890.8 Q 304.0 891.5, 304.0 892.5 Q 304.0 893.6, 303.5 894.5 Q 303.0 895.3, 302.1 895.7 Q 301.2 896.1, 300.2 896.1 Q 299.2 896.1, 298.3 895.7 Q 297.3 895.3, 296.7 894.6 L 297.6 893.7 Q 298.1 894.2, 298.8 894.6 Q 299.5 894.8, 300.2 894.8 Q 301.2 894.8, 301.8 894.2 Q 302.5 893.6, 302.5 892.6 Q 302.5 891.4, 301.8 890.9 Q 301.2 890.3, 300.1 890.3 Q 299.2 890.3, 298.1 890.7 L 297.3 890.3 L 297.8 885.1 L 303.4 885.1 L 303.2 886.3 L 299.1 886.3 L 298.7 889.6 Q 299.7 889.2, 300.6 889.2 \" fill=\"#000000\"/>\n",
       "<path class=\"legend\" d=\"M 310.3 890.2 Q 311.3 890.6, 311.9 891.3 Q 312.4 891.9, 312.4 893.0 Q 312.4 893.9, 312.0 894.6 Q 311.5 895.3, 310.6 895.7 Q 309.8 896.1, 308.7 896.1 Q 306.9 896.1, 305.8 895.3 Q 304.8 894.4, 304.8 893.0 Q 304.8 892.1, 305.2 891.4 Q 305.7 890.8, 306.6 890.3 Q 305.9 889.9, 305.6 889.3 Q 305.2 888.7, 305.2 887.8 Q 305.2 886.5, 306.1 885.8 Q 307.0 885.0, 308.6 885.0 Q 310.2 885.0, 311.1 885.8 Q 312.0 886.5, 312.0 887.8 Q 312.0 888.6, 311.6 889.2 Q 311.2 889.7, 310.3 890.2 M 308.6 886.1 Q 307.7 886.1, 307.2 886.6 Q 306.7 887.0, 306.7 887.8 Q 306.7 888.3, 307.0 888.7 Q 307.4 889.1, 307.9 889.3 Q 308.3 889.5, 309.3 889.8 Q 309.9 889.4, 310.2 888.9 Q 310.5 888.4, 310.5 887.8 Q 310.5 887.0, 310.0 886.6 Q 309.5 886.1, 308.6 886.1 M 308.7 895.0 Q 309.7 895.0, 310.3 894.4 Q 310.9 893.9, 310.9 893.0 Q 310.9 892.4, 310.6 892.0 Q 310.3 891.7, 309.8 891.4 Q 309.3 891.2, 308.4 891.0 L 307.7 890.7 Q 307.0 891.2, 306.6 891.7 Q 306.3 892.3, 306.3 893.0 Q 306.3 893.9, 306.9 894.4 Q 307.6 895.0, 308.7 895.0 \" fill=\"#000000\"/>\n",
       "<path class=\"legend\" d=\"M 314.0 894.7 L 316.4 894.7 L 316.4 886.6 L 313.7 887.4 L 313.4 886.5 L 316.7 885.1 L 317.8 885.2 L 317.8 894.7 L 319.9 894.7 L 319.9 896.0 L 314.0 896.0 L 314.0 894.7 \" fill=\"#000000\"/>\n",
       "<path class=\"legend\" d=\"M 324.2 885.0 Q 326.1 885.0, 327.1 886.3 Q 328.1 887.6, 328.1 890.2 Q 328.1 893.1, 326.9 894.6 Q 325.7 896.1, 323.4 896.1 Q 322.7 896.1, 322.1 895.9 Q 321.6 895.8, 321.0 895.5 L 321.6 894.4 Q 322.4 894.9, 323.4 894.9 Q 324.9 894.9, 325.7 893.9 Q 326.4 892.9, 326.5 890.8 Q 326.0 891.4, 325.3 891.6 Q 324.6 891.9, 323.8 891.9 Q 322.9 891.9, 322.1 891.5 Q 321.4 891.1, 321.0 890.3 Q 320.6 889.6, 320.6 888.6 Q 320.6 887.6, 321.0 886.7 Q 321.5 885.9, 322.3 885.5 Q 323.2 885.0, 324.2 885.0 M 322.1 888.6 Q 322.1 889.6, 322.6 890.1 Q 323.2 890.7, 324.1 890.7 Q 324.8 890.7, 325.4 890.4 Q 326.1 890.1, 326.5 889.7 Q 326.5 887.9, 325.9 887.1 Q 325.3 886.3, 324.2 886.3 Q 323.6 886.3, 323.1 886.6 Q 322.7 886.9, 322.4 887.4 Q 322.1 887.9, 322.1 888.6 \" fill=\"#000000\"/>\n",
       "<path class=\"legend\" d=\"M 334.3 890.2 Q 335.4 890.6, 335.9 891.2 Q 336.4 891.9, 336.4 893.0 Q 336.4 893.9, 336.0 894.6 Q 335.5 895.3, 334.7 895.7 Q 333.8 896.1, 332.7 896.1 Q 331.5 896.1, 330.7 895.7 Q 329.8 895.3, 329.1 894.5 L 330.0 893.6 Q 330.7 894.3, 331.2 894.6 Q 331.8 894.9, 332.7 894.9 Q 333.7 894.9, 334.3 894.4 Q 334.9 893.8, 334.9 893.0 Q 334.9 891.9, 334.3 891.4 Q 333.6 890.9, 332.3 890.9 L 331.5 890.9 L 331.5 889.8 L 332.2 889.8 Q 333.4 889.8, 334.0 889.3 Q 334.7 888.7, 334.7 887.8 Q 334.7 887.1, 334.1 886.7 Q 333.6 886.2, 332.7 886.2 Q 331.8 886.2, 331.3 886.5 Q 330.7 886.9, 330.3 887.7 L 329.2 887.1 Q 329.6 886.2, 330.5 885.6 Q 331.4 885.0, 332.7 885.0 Q 334.3 885.0, 335.3 885.8 Q 336.2 886.5, 336.2 887.8 Q 336.2 888.6, 335.7 889.3 Q 335.2 889.9, 334.3 890.2 \" fill=\"#000000\"/>\n",
       "<path class=\"legend\" d=\"M 341.3 889.2 Q 342.2 889.2, 343.0 889.6 Q 343.8 890.0, 344.2 890.8 Q 344.6 891.5, 344.6 892.5 Q 344.6 893.6, 344.1 894.5 Q 343.6 895.3, 342.7 895.7 Q 341.8 896.1, 340.8 896.1 Q 339.8 896.1, 338.9 895.7 Q 337.9 895.3, 337.3 894.6 L 338.2 893.7 Q 338.7 894.2, 339.4 894.6 Q 340.1 894.8, 340.8 894.8 Q 341.8 894.8, 342.4 894.2 Q 343.1 893.6, 343.1 892.6 Q 343.1 891.4, 342.4 890.9 Q 341.8 890.3, 340.7 890.3 Q 339.8 890.3, 338.7 890.7 L 337.9 890.3 L 338.4 885.1 L 344.0 885.1 L 343.8 886.3 L 339.7 886.3 L 339.3 889.6 Q 340.3 889.2, 341.3 889.2 \" fill=\"#000000\"/>\n",
       "</svg>"
      ],
      "text/plain": [
       "<IPython.core.display.SVG object>"
      ]
     },
     "execution_count": 215,
     "metadata": {},
     "output_type": "execute_result"
    }
   ],
   "source": [
    "# used in SI Figure 2a\n",
    "Draw.MolsToGridImage(inner_name_df_examples_spectra_merged.mol, molsPerRow = 4,subImgSize=(400,150), useSVG = False, maxMols=100,\n",
    "                    legends=legend_inner_name)"
   ]
  },
  {
   "cell_type": "markdown",
   "id": "d07c7e80-dd9a-4cb2-8bf6-2577509e538a",
   "metadata": {
    "tags": []
   },
   "source": [
    "### Section 11: Outer structures **ONLY** captured by **annotation search**\n",
    "- associated with Venn diagram in Section 8"
   ]
  },
  {
   "cell_type": "code",
   "execution_count": 265,
   "id": "9787345b-086b-4e8c-9d56-ed2dd1f6dc99",
   "metadata": {},
   "outputs": [],
   "source": [
    "# InChIKey first blocks that describe the structures exclusively identified by library annotation search\n",
    "first_block_only_annot = set(unique_library_df_w_carnitine_name_SMILES_INCHIKEY_df) - set(unique_library_df_w_carnitine_substruc_SMILES_INCHIKEY_df)"
   ]
  },
  {
   "cell_type": "code",
   "execution_count": 266,
   "id": "b8745741-3089-4a5c-8976-3abbdc0cfcfb",
   "metadata": {},
   "outputs": [
    {
     "data": {
      "text/html": [
       "<div>\n",
       "<style scoped>\n",
       "    .dataframe tbody tr th:only-of-type {\n",
       "        vertical-align: middle;\n",
       "    }\n",
       "\n",
       "    .dataframe tbody tr th {\n",
       "        vertical-align: top;\n",
       "    }\n",
       "\n",
       "    .dataframe thead th {\n",
       "        text-align: right;\n",
       "    }\n",
       "</style>\n",
       "<table border=\"1\" class=\"dataframe\">\n",
       "  <thead>\n",
       "    <tr style=\"text-align: right;\">\n",
       "      <th></th>\n",
       "      <th>smiles</th>\n",
       "      <th>mol</th>\n",
       "      <th>inchikey</th>\n",
       "      <th>inchikey_first_block</th>\n",
       "    </tr>\n",
       "  </thead>\n",
       "  <tbody>\n",
       "    <tr>\n",
       "      <th>6</th>\n",
       "      <td>C[N+](C)(C)CCCC([O-])=O</td>\n",
       "      <td>&lt;rdkit.Chem.rdchem.Mol object at 0x7fbd0fc153c0&gt;</td>\n",
       "      <td>JHPNVNIEXXLNTR-UHFFFAOYSA-N</td>\n",
       "      <td>JHPNVNIEXXLNTR</td>\n",
       "    </tr>\n",
       "    <tr>\n",
       "      <th>60</th>\n",
       "      <td>[O-1]C(=O)C(N)CC[S+1](C)CC(O1)C(O)C(O)C1n(c3)c...</td>\n",
       "      <td>&lt;rdkit.Chem.rdchem.Mol object at 0x7fbd0fc16b60&gt;</td>\n",
       "      <td>MEFKEPWMEQBLKI-UHFFFAOYSA-N</td>\n",
       "      <td>MEFKEPWMEQBLKI</td>\n",
       "    </tr>\n",
       "  </tbody>\n",
       "</table>\n",
       "</div>"
      ],
      "text/plain": [
       "                                               smiles  \\\n",
       "6                             C[N+](C)(C)CCCC([O-])=O   \n",
       "60  [O-1]C(=O)C(N)CC[S+1](C)CC(O1)C(O)C(O)C1n(c3)c...   \n",
       "\n",
       "                                                 mol  \\\n",
       "6   <rdkit.Chem.rdchem.Mol object at 0x7fbd0fc153c0>   \n",
       "60  <rdkit.Chem.rdchem.Mol object at 0x7fbd0fc16b60>   \n",
       "\n",
       "                       inchikey inchikey_first_block  \n",
       "6   JHPNVNIEXXLNTR-UHFFFAOYSA-N       JHPNVNIEXXLNTR  \n",
       "60  MEFKEPWMEQBLKI-UHFFFAOYSA-N       MEFKEPWMEQBLKI  "
      ]
     },
     "execution_count": 266,
     "metadata": {},
     "output_type": "execute_result"
    }
   ],
   "source": [
    "# identify structures exclusively identified by library annotation\n",
    "outer_annot_search_only = library_df_w_carnitine_name_SMILES_INCHIKEY_df_no_dup[library_df_w_carnitine_name_SMILES_INCHIKEY_df_no_dup['inchikey_first_block'].isin(first_block_only_annot)]"
   ]
  },
  {
   "cell_type": "markdown",
   "id": "a845bb5d-8ad5-4b3e-90e4-74f1d8b8bf5a",
   "metadata": {
    "tags": []
   },
   "source": [
    "#### Identify example spectra associated with outer structures exclusively identified by annotation search\n",
    "- for visualizing structure with InChIkey first blocks and example spectrum_id"
   ]
  },
  {
   "cell_type": "code",
   "execution_count": 143,
   "id": "aca6e46c-9f20-49df-9970-ab78f043bb91",
   "metadata": {},
   "outputs": [],
   "source": [
    "# spectra data associated with outer structures exclusively identified by annotation search\n",
    "library_df_w_carnitine_name_outer_annot_search_only =  library_df_w_carnitine_name[library_df_w_carnitine_name['Smiles'].isin(outer_annot_search_only.smiles)]"
   ]
  },
  {
   "cell_type": "code",
   "execution_count": 144,
   "id": "989efe92-d3f2-4aa8-878d-a23eb073108c",
   "metadata": {},
   "outputs": [],
   "source": [
    "library_df_w_carnitine_name_outer_annot_search_only_no_dup = library_df_w_carnitine_name_outer_annot_search_only.drop_duplicates(subset=['Smiles'])"
   ]
  },
  {
   "cell_type": "markdown",
   "id": "d723ba4b-2826-48f6-a016-730e0e193bca",
   "metadata": {},
   "source": [
    "##### merge structural data with outer_annot_search_only on structrual (InChIkey first block) data"
   ]
  },
  {
   "cell_type": "code",
   "execution_count": 145,
   "id": "485e2431-3c1a-4789-b984-f10380b73aea",
   "metadata": {},
   "outputs": [],
   "source": [
    "outer_annot_search_only_library_merged = pd.merge(outer_annot_search_only, library_df_w_carnitine_name_outer_annot_search_only_no_dup[['first_block','spectrum_id']], left_on='inchikey_first_block', right_on='first_block', how='left')"
   ]
  },
  {
   "cell_type": "markdown",
   "id": "301d7fa7-21e5-4ad9-8b1b-96fa795b136e",
   "metadata": {},
   "source": [
    "##### make legend describing InChIkey first blocks and spectrum_id to show under structure"
   ]
  },
  {
   "cell_type": "code",
   "execution_count": 217,
   "id": "d55681a7-a5e0-4b6d-a697-9bf18eee5597",
   "metadata": {
    "tags": []
   },
   "outputs": [],
   "source": [
    "legend_outer_annot_only = [inchikey_first_block +\" : \"+ spec_id for inchikey_first_block,spec_id in zip(outer_annot_search_only_library_merged['inchikey_first_block'], outer_annot_search_only_library_merged['spectrum_id'])]"
   ]
  },
  {
   "cell_type": "markdown",
   "id": "5e54b8c9-6db8-4e77-866a-9303406b1f7a",
   "metadata": {},
   "source": [
    "#### Draw structures with associated InChIkey first blocks and example spectrum_id"
   ]
  },
  {
   "cell_type": "code",
   "execution_count": 218,
   "id": "4fc866d8-109a-4661-b5af-8fe413ee3e28",
   "metadata": {
    "tags": []
   },
   "outputs": [
    {
     "data": {
      "image/svg+xml": [
       "<svg xmlns=\"http://www.w3.org/2000/svg\" xmlns:rdkit=\"http://www.rdkit.org/xml\" xmlns:xlink=\"http://www.w3.org/1999/xlink\" version=\"1.1\" baseProfile=\"full\" xml:space=\"preserve\" width=\"1500px\" height=\"200px\" viewBox=\"0 0 1500 200\">\n",
       "<!-- END OF HEADER -->\n",
       "<rect style=\"opacity:1.0;fill:#FFFFFF;stroke:none\" width=\"1500.0\" height=\"200.0\" x=\"0.0\" y=\"0.0\"> </rect>\n",
       "<path class=\"bond-0 atom-0 atom-1\" d=\"M 158.4,50.8 L 166.1,64.3\" style=\"fill:none;fill-rule:evenodd;stroke:#000000;stroke-width:2.0px;stroke-linecap:butt;stroke-linejoin:miter;stroke-opacity:1\"/>\n",
       "<path class=\"bond-0 atom-0 atom-1\" d=\"M 166.1,64.3 L 173.9,77.7\" style=\"fill:none;fill-rule:evenodd;stroke:#0000FF;stroke-width:2.0px;stroke-linecap:butt;stroke-linejoin:miter;stroke-opacity:1\"/>\n",
       "<path class=\"bond-1 atom-1 atom-2\" d=\"M 181.7,91.3 L 189.5,104.8\" style=\"fill:none;fill-rule:evenodd;stroke:#0000FF;stroke-width:2.0px;stroke-linecap:butt;stroke-linejoin:miter;stroke-opacity:1\"/>\n",
       "<path class=\"bond-1 atom-1 atom-2\" d=\"M 189.5,104.8 L 197.3,118.2\" style=\"fill:none;fill-rule:evenodd;stroke:#000000;stroke-width:2.0px;stroke-linecap:butt;stroke-linejoin:miter;stroke-opacity:1\"/>\n",
       "<path class=\"bond-2 atom-1 atom-3\" d=\"M 172.4,87.7 L 158.3,95.8\" style=\"fill:none;fill-rule:evenodd;stroke:#0000FF;stroke-width:2.0px;stroke-linecap:butt;stroke-linejoin:miter;stroke-opacity:1\"/>\n",
       "<path class=\"bond-2 atom-1 atom-3\" d=\"M 158.3,95.8 L 144.1,104.0\" style=\"fill:none;fill-rule:evenodd;stroke:#000000;stroke-width:2.0px;stroke-linecap:butt;stroke-linejoin:miter;stroke-opacity:1\"/>\n",
       "<path class=\"bond-3 atom-1 atom-4\" d=\"M 189.4,77.9 L 200.4,71.5\" style=\"fill:none;fill-rule:evenodd;stroke:#0000FF;stroke-width:2.0px;stroke-linecap:butt;stroke-linejoin:miter;stroke-opacity:1\"/>\n",
       "<path class=\"bond-3 atom-1 atom-4\" d=\"M 200.4,71.5 L 211.5,65.1\" style=\"fill:none;fill-rule:evenodd;stroke:#000000;stroke-width:2.0px;stroke-linecap:butt;stroke-linejoin:miter;stroke-opacity:1\"/>\n",
       "<path class=\"bond-4 atom-4 atom-5\" d=\"M 211.5,65.1 L 245.2,84.5\" style=\"fill:none;fill-rule:evenodd;stroke:#000000;stroke-width:2.0px;stroke-linecap:butt;stroke-linejoin:miter;stroke-opacity:1\"/>\n",
       "<path class=\"bond-5 atom-5 atom-6\" d=\"M 245.2,84.5 L 278.9,65.1\" style=\"fill:none;fill-rule:evenodd;stroke:#000000;stroke-width:2.0px;stroke-linecap:butt;stroke-linejoin:miter;stroke-opacity:1\"/>\n",
       "<path class=\"bond-6 atom-6 atom-7\" d=\"M 278.9,65.1 L 312.6,84.5\" style=\"fill:none;fill-rule:evenodd;stroke:#000000;stroke-width:2.0px;stroke-linecap:butt;stroke-linejoin:miter;stroke-opacity:1\"/>\n",
       "<path class=\"bond-7 atom-7 atom-8\" d=\"M 312.6,84.5 L 326.2,76.6\" style=\"fill:none;fill-rule:evenodd;stroke:#000000;stroke-width:2.0px;stroke-linecap:butt;stroke-linejoin:miter;stroke-opacity:1\"/>\n",
       "<path class=\"bond-7 atom-7 atom-8\" d=\"M 326.2,76.6 L 339.9,68.7\" style=\"fill:none;fill-rule:evenodd;stroke:#FF0000;stroke-width:2.0px;stroke-linecap:butt;stroke-linejoin:miter;stroke-opacity:1\"/>\n",
       "<path class=\"bond-8 atom-7 atom-9\" d=\"M 316.5,84.5 L 316.5,100.5\" style=\"fill:none;fill-rule:evenodd;stroke:#000000;stroke-width:2.0px;stroke-linecap:butt;stroke-linejoin:miter;stroke-opacity:1\"/>\n",
       "<path class=\"bond-8 atom-7 atom-9\" d=\"M 316.5,100.5 L 316.5,116.6\" style=\"fill:none;fill-rule:evenodd;stroke:#FF0000;stroke-width:2.0px;stroke-linecap:butt;stroke-linejoin:miter;stroke-opacity:1\"/>\n",
       "<path class=\"bond-8 atom-7 atom-9\" d=\"M 308.7,84.5 L 308.7,100.5\" style=\"fill:none;fill-rule:evenodd;stroke:#000000;stroke-width:2.0px;stroke-linecap:butt;stroke-linejoin:miter;stroke-opacity:1\"/>\n",
       "<path class=\"bond-8 atom-7 atom-9\" d=\"M 308.7,100.5 L 308.7,116.6\" style=\"fill:none;fill-rule:evenodd;stroke:#FF0000;stroke-width:2.0px;stroke-linecap:butt;stroke-linejoin:miter;stroke-opacity:1\"/>\n",
       "<path class=\"atom-1\" d=\"M 175.4 79.0 L 179.0 84.9 Q 179.4 85.4, 179.9 86.5 Q 180.5 87.5, 180.5 87.6 L 180.5 79.0 L 182.0 79.0 L 182.0 90.0 L 180.5 90.0 L 176.6 83.7 Q 176.2 82.9, 175.7 82.0 Q 175.2 81.2, 175.1 80.9 L 175.1 90.0 L 173.6 90.0 L 173.6 79.0 L 175.4 79.0 \" fill=\"#0000FF\"/>\n",
       "<path class=\"atom-1\" d=\"M 183.3 81.0 L 185.2 81.0 L 185.2 79.0 L 186.1 79.0 L 186.1 81.0 L 188.1 81.0 L 188.1 81.7 L 186.1 81.7 L 186.1 83.8 L 185.2 83.8 L 185.2 81.7 L 183.3 81.7 L 183.3 81.0 \" fill=\"#0000FF\"/>\n",
       "<path class=\"atom-8\" d=\"M 341.2 65.1 Q 341.2 62.5, 342.5 61.0 Q 343.8 59.5, 346.3 59.5 Q 348.7 59.5, 350.0 61.0 Q 351.3 62.5, 351.3 65.1 Q 351.3 67.8, 350.0 69.3 Q 348.7 70.8, 346.3 70.8 Q 343.8 70.8, 342.5 69.3 Q 341.2 67.8, 341.2 65.1 M 346.3 69.6 Q 347.9 69.6, 348.8 68.5 Q 349.8 67.3, 349.8 65.1 Q 349.8 62.9, 348.8 61.9 Q 347.9 60.8, 346.3 60.8 Q 344.6 60.8, 343.7 61.8 Q 342.8 62.9, 342.8 65.1 Q 342.8 67.3, 343.7 68.5 Q 344.6 69.6, 346.3 69.6 \" fill=\"#FF0000\"/>\n",
       "<path class=\"atom-8\" d=\"M 352.1 61.3 L 355.9 61.3 L 355.9 62.1 L 352.1 62.1 L 352.1 61.3 \" fill=\"#FF0000\"/>\n",
       "<path class=\"atom-9\" d=\"M 307.5 123.5 Q 307.5 120.8, 308.8 119.3 Q 310.1 117.9, 312.6 117.9 Q 315.0 117.9, 316.3 119.3 Q 317.6 120.8, 317.6 123.5 Q 317.6 126.1, 316.3 127.7 Q 315.0 129.2, 312.6 129.2 Q 310.1 129.2, 308.8 127.7 Q 307.5 126.1, 307.5 123.5 M 312.6 127.9 Q 314.3 127.9, 315.2 126.8 Q 316.1 125.7, 316.1 123.5 Q 316.1 121.3, 315.2 120.2 Q 314.3 119.1, 312.6 119.1 Q 310.9 119.1, 310.0 120.2 Q 309.1 121.3, 309.1 123.5 Q 309.1 125.7, 310.0 126.8 Q 310.9 127.9, 312.6 127.9 \" fill=\"#FF0000\"/>\n",
       "<path class=\"legend\" d=\"M 105.7 193.8 Q 105.7 193.8, 106.4 193.4 Q 107.1 193.0, 107.6 192.3 Q 108.2 191.7, 108.2 190.8 L 108.2 182.7 L 106.0 182.7 L 106.0 181.4 L 109.7 181.4 L 109.7 190.8 Q 109.7 192.1, 108.9 193.0 Q 108.2 194.0, 107.2 194.5 Q 106.3 195.1, 106.3 195.0 L 105.7 193.8 \" fill=\"#000000\"/>\n",
       "<path class=\"legend\" d=\"M 111.1 181.4 L 112.6 181.4 L 112.6 186.2 L 118.4 186.2 L 118.4 181.4 L 119.9 181.4 L 119.9 192.8 L 118.4 192.8 L 118.4 187.5 L 112.6 187.5 L 112.6 192.8 L 111.1 192.8 L 111.1 181.4 \" fill=\"#000000\"/>\n",
       "<path class=\"legend\" d=\"M 124.6 181.4 Q 126.6 181.4, 127.5 182.3 Q 128.5 183.2, 128.5 184.8 Q 128.5 186.3, 127.5 187.2 Q 126.5 188.1, 124.6 188.1 L 122.8 188.1 L 122.8 192.8 L 121.3 192.8 L 121.3 181.4 L 124.6 181.4 M 124.6 186.8 Q 125.7 186.8, 126.3 186.3 Q 126.9 185.8, 126.9 184.8 Q 126.9 183.8, 126.3 183.2 Q 125.7 182.7, 124.6 182.7 L 122.8 182.7 L 122.8 186.8 L 124.6 186.8 \" fill=\"#000000\"/>\n",
       "<path class=\"legend\" d=\"M 131.1 181.4 L 134.8 187.4 Q 135.1 188.0, 135.7 189.1 Q 136.3 190.2, 136.4 190.2 L 136.4 181.4 L 137.9 181.4 L 137.9 192.8 L 136.3 192.8 L 132.3 186.2 Q 131.9 185.4, 131.4 184.6 Q 130.9 183.7, 130.7 183.4 L 130.7 192.8 L 129.3 192.8 L 129.3 181.4 L 131.1 181.4 \" fill=\"#000000\"/>\n",
       "<path class=\"legend\" d=\"M 147.2 181.4 L 148.6 181.4 L 144.8 192.8 L 142.9 192.8 L 139.2 181.4 L 140.7 181.4 L 143.9 191.1 L 147.2 181.4 \" fill=\"#000000\"/>\n",
       "<path class=\"legend\" d=\"M 150.8 181.4 L 154.5 187.4 Q 154.8 188.0, 155.4 189.1 Q 156.0 190.2, 156.1 190.2 L 156.1 181.4 L 157.6 181.4 L 157.6 192.8 L 156.0 192.8 L 152.0 186.2 Q 151.6 185.4, 151.1 184.6 Q 150.6 183.7, 150.4 183.4 L 150.4 192.8 L 149.0 192.8 L 149.0 181.4 L 150.8 181.4 \" fill=\"#000000\"/>\n",
       "<path class=\"legend\" d=\"M 158.9 181.4 L 160.4 181.4 L 160.4 192.8 L 158.9 192.8 L 158.9 181.4 \" fill=\"#000000\"/>\n",
       "<path class=\"legend\" d=\"M 161.8 181.4 L 168.5 181.4 L 168.5 182.7 L 163.3 182.7 L 163.3 186.2 L 168.0 186.2 L 168.0 187.5 L 163.3 187.5 L 163.3 191.4 L 168.7 191.4 L 168.7 192.8 L 161.8 192.8 L 161.8 181.4 \" fill=\"#000000\"/>\n",
       "<path class=\"legend\" d=\"M 179.7 192.8 L 178.0 192.8 L 174.6 188.1 L 171.3 192.8 L 169.5 192.8 L 173.7 186.8 L 169.8 181.4 L 171.6 181.4 L 174.7 185.7 L 177.7 181.4 L 179.5 181.4 L 175.6 187.0 L 179.7 192.8 \" fill=\"#000000\"/>\n",
       "<path class=\"legend\" d=\"M 190.0 192.8 L 188.2 192.8 L 184.9 188.1 L 181.5 192.8 L 179.8 192.8 L 184.0 186.8 L 180.1 181.4 L 181.9 181.4 L 184.9 185.7 L 188.0 181.4 L 189.7 181.4 L 185.8 187.0 L 190.0 192.8 \" fill=\"#000000\"/>\n",
       "<path class=\"legend\" d=\"M 190.1 181.4 L 191.6 181.4 L 191.6 191.4 L 196.8 191.4 L 196.8 192.8 L 190.1 192.8 L 190.1 181.4 \" fill=\"#000000\"/>\n",
       "<path class=\"legend\" d=\"M 199.0 181.4 L 202.7 187.4 Q 203.1 188.0, 203.7 189.1 Q 204.3 190.2, 204.3 190.2 L 204.3 181.4 L 205.8 181.4 L 205.8 192.8 L 204.2 192.8 L 200.3 186.2 Q 199.8 185.4, 199.3 184.6 Q 198.8 183.7, 198.7 183.4 L 198.7 192.8 L 197.2 192.8 L 197.2 181.4 L 199.0 181.4 \" fill=\"#000000\"/>\n",
       "<path class=\"legend\" d=\"M 210.6 182.7 L 207.1 182.7 L 207.1 181.4 L 215.5 181.4 L 215.5 182.7 L 212.2 182.7 L 212.2 192.8 L 210.6 192.8 L 210.6 182.7 \" fill=\"#000000\"/>\n",
       "<path class=\"legend\" d=\"M 221.6 192.8 L 218.9 188.1 L 218.8 188.1 L 217.0 188.1 L 217.0 192.8 L 215.5 192.8 L 215.5 181.4 L 218.8 181.4 Q 220.8 181.4, 221.7 182.3 Q 222.7 183.2, 222.7 184.8 Q 222.7 186.0, 222.1 186.8 Q 221.5 187.6, 220.4 187.9 L 223.3 192.8 L 221.6 192.8 M 217.0 186.8 L 218.8 186.8 Q 219.9 186.8, 220.5 186.3 Q 221.1 185.8, 221.1 184.8 Q 221.1 183.8, 220.5 183.2 Q 219.9 182.7, 218.8 182.7 L 217.0 182.7 L 217.0 186.8 \" fill=\"#000000\"/>\n",
       "<path class=\"legend\" d=\"\" fill=\"#000000\"/>\n",
       "<path class=\"legend\" d=\"M 229.0 190.9 L 230.6 190.9 L 230.6 192.5 L 229.0 192.5 L 229.0 190.9 M 229.0 185.4 L 230.6 185.4 L 230.6 187.0 L 229.0 187.0 L 229.0 185.4 \" fill=\"#000000\"/>\n",
       "<path class=\"legend\" d=\"\" fill=\"#000000\"/>\n",
       "<path class=\"legend\" d=\"M 237.1 187.1 Q 237.1 184.3, 238.4 182.8 Q 239.8 181.3, 242.3 181.3 Q 244.6 181.3, 245.9 183.0 L 244.8 183.8 Q 243.9 182.6, 242.3 182.6 Q 240.6 182.6, 239.6 183.8 Q 238.7 184.9, 238.7 187.1 Q 238.7 189.3, 239.7 190.5 Q 240.6 191.6, 242.4 191.6 Q 243.7 191.6, 245.1 190.9 L 245.6 192.1 Q 245.0 192.5, 244.1 192.7 Q 243.2 192.9, 242.2 192.9 Q 239.8 192.9, 238.4 191.4 Q 237.1 189.9, 237.1 187.1 \" fill=\"#000000\"/>\n",
       "<path class=\"legend\" d=\"M 246.5 187.1 Q 246.5 184.3, 247.8 182.8 Q 249.1 181.3, 251.6 181.3 Q 254.0 181.3, 255.2 183.0 L 254.2 183.8 Q 253.3 182.6, 251.6 182.6 Q 249.9 182.6, 249.0 183.8 Q 248.1 184.9, 248.1 187.1 Q 248.1 189.3, 249.1 190.5 Q 250.0 191.6, 251.8 191.6 Q 253.1 191.6, 254.5 190.9 L 255.0 192.1 Q 254.4 192.5, 253.5 192.7 Q 252.6 192.9, 251.6 192.9 Q 249.1 192.9, 247.8 191.4 Q 246.5 189.9, 246.5 187.1 \" fill=\"#000000\"/>\n",
       "<path class=\"legend\" d=\"M 268.8 192.8 L 267.4 192.8 L 266.2 183.5 L 263.1 192.8 L 261.6 192.8 L 258.5 183.5 L 257.3 192.8 L 255.9 192.8 L 257.3 181.4 L 259.2 181.4 L 262.3 190.6 L 265.5 181.4 L 267.4 181.4 L 268.8 192.8 \" fill=\"#000000\"/>\n",
       "<path class=\"legend\" d=\"M 270.3 191.0 Q 270.4 191.0, 270.9 191.3 Q 271.5 191.5, 272.0 191.6 Q 272.6 191.8, 273.2 191.8 Q 274.3 191.8, 274.9 191.3 Q 275.5 190.7, 275.5 189.8 Q 275.5 189.2, 275.2 188.8 Q 274.9 188.4, 274.4 188.2 Q 273.9 188.0, 273.1 187.8 Q 272.1 187.5, 271.5 187.2 Q 270.9 186.9, 270.5 186.3 Q 270.1 185.7, 270.1 184.6 Q 270.1 183.2, 271.1 182.3 Q 272.0 181.5, 273.9 181.5 Q 275.3 181.5, 276.7 182.1 L 276.4 183.3 Q 275.0 182.8, 274.0 182.8 Q 272.9 182.8, 272.3 183.2 Q 271.7 183.7, 271.7 184.5 Q 271.7 185.1, 272.0 185.4 Q 272.3 185.8, 272.8 186.0 Q 273.2 186.2, 274.0 186.5 Q 275.0 186.8, 275.6 187.1 Q 276.2 187.4, 276.7 188.1 Q 277.1 188.7, 277.1 189.8 Q 277.1 191.4, 276.1 192.2 Q 275.0 193.1, 273.3 193.1 Q 272.3 193.1, 271.5 192.8 Q 270.7 192.6, 269.9 192.3 L 270.3 191.0 \" fill=\"#000000\"/>\n",
       "<path class=\"legend\" d=\"M 277.9 181.4 L 279.4 181.4 L 279.4 191.4 L 284.6 191.4 L 284.6 192.8 L 277.9 192.8 L 277.9 181.4 \" fill=\"#000000\"/>\n",
       "<path class=\"legend\" d=\"M 285.0 181.4 L 286.5 181.4 L 286.5 192.8 L 285.0 192.8 L 285.0 181.4 \" fill=\"#000000\"/>\n",
       "<path class=\"legend\" d=\"M 293.5 186.8 Q 294.5 187.1, 295.1 187.8 Q 295.6 188.4, 295.6 189.4 Q 295.6 191.0, 294.6 191.9 Q 293.6 192.8, 291.8 192.8 L 287.9 192.8 L 287.9 181.4 L 291.3 181.4 Q 293.2 181.4, 294.2 182.2 Q 295.2 183.0, 295.2 184.4 Q 295.2 186.2, 293.5 186.8 M 289.5 182.7 L 289.5 186.3 L 291.3 186.3 Q 292.4 186.3, 293.0 185.8 Q 293.6 185.4, 293.6 184.4 Q 293.6 182.7, 291.3 182.7 L 289.5 182.7 M 291.8 191.5 Q 292.9 191.5, 293.5 191.0 Q 294.0 190.4, 294.0 189.4 Q 294.0 188.5, 293.4 188.0 Q 292.7 187.5, 291.5 187.5 L 289.5 187.5 L 289.5 191.5 L 291.8 191.5 \" fill=\"#000000\"/>\n",
       "<path class=\"legend\" d=\"M 300.5 192.9 Q 298.4 192.9, 297.4 191.4 Q 296.4 189.8, 296.4 187.1 Q 296.4 184.3, 297.4 182.8 Q 298.4 181.3, 300.5 181.3 Q 302.6 181.3, 303.6 182.8 Q 304.7 184.3, 304.7 187.1 Q 304.7 189.8, 303.6 191.4 Q 302.6 192.9, 300.5 192.9 M 300.5 191.6 Q 301.8 191.6, 302.4 190.5 Q 303.1 189.3, 303.1 187.1 Q 303.1 184.9, 302.4 183.7 Q 301.8 182.6, 300.5 182.6 Q 299.3 182.6, 298.6 183.7 Q 298.0 184.9, 298.0 187.1 Q 298.0 189.3, 298.6 190.5 Q 299.3 191.6, 300.5 191.6 \" fill=\"#000000\"/>\n",
       "<path class=\"legend\" d=\"M 309.9 192.9 Q 307.8 192.9, 306.7 191.4 Q 305.7 189.8, 305.7 187.1 Q 305.7 184.3, 306.7 182.8 Q 307.8 181.3, 309.9 181.3 Q 311.9 181.3, 313.0 182.8 Q 314.0 184.3, 314.0 187.1 Q 314.0 189.8, 313.0 191.4 Q 311.9 192.9, 309.9 192.9 M 309.9 191.6 Q 311.1 191.6, 311.7 190.5 Q 312.4 189.3, 312.4 187.1 Q 312.4 184.9, 311.7 183.7 Q 311.1 182.6, 309.9 182.6 Q 308.6 182.6, 308.0 183.7 Q 307.3 184.9, 307.3 187.1 Q 307.3 189.3, 308.0 190.5 Q 308.6 191.6, 309.9 191.6 \" fill=\"#000000\"/>\n",
       "<path class=\"legend\" d=\"M 319.2 192.9 Q 317.1 192.9, 316.1 191.4 Q 315.0 189.8, 315.0 187.1 Q 315.0 184.3, 316.1 182.8 Q 317.1 181.3, 319.2 181.3 Q 321.3 181.3, 322.3 182.8 Q 323.3 184.3, 323.3 187.1 Q 323.3 189.8, 322.3 191.4 Q 321.3 192.9, 319.2 192.9 M 319.2 191.6 Q 320.4 191.6, 321.1 190.5 Q 321.7 189.3, 321.7 187.1 Q 321.7 184.9, 321.1 183.7 Q 320.4 182.6, 319.2 182.6 Q 318.0 182.6, 317.3 183.7 Q 316.6 184.9, 316.6 187.1 Q 316.6 189.3, 317.3 190.5 Q 318.0 191.6, 319.2 191.6 \" fill=\"#000000\"/>\n",
       "<path class=\"legend\" d=\"M 328.5 192.9 Q 326.4 192.9, 325.4 191.4 Q 324.4 189.8, 324.4 187.1 Q 324.4 184.3, 325.4 182.8 Q 326.4 181.3, 328.5 181.3 Q 330.6 181.3, 331.6 182.8 Q 332.7 184.3, 332.7 187.1 Q 332.7 189.8, 331.6 191.4 Q 330.6 192.9, 328.5 192.9 M 328.5 191.6 Q 329.7 191.6, 330.4 190.5 Q 331.1 189.3, 331.1 187.1 Q 331.1 184.9, 330.4 183.7 Q 329.7 182.6, 328.5 182.6 Q 327.3 182.6, 326.6 183.7 Q 326.0 184.9, 326.0 187.1 Q 326.0 189.3, 326.6 190.5 Q 327.3 191.6, 328.5 191.6 \" fill=\"#000000\"/>\n",
       "<path class=\"legend\" d=\"M 337.8 185.7 Q 338.8 185.7, 339.6 186.1 Q 340.4 186.5, 340.9 187.3 Q 341.4 188.1, 341.4 189.2 Q 341.4 190.3, 340.8 191.2 Q 340.2 192.0, 339.3 192.5 Q 338.4 192.9, 337.3 192.9 Q 336.3 192.9, 335.3 192.5 Q 334.3 192.1, 333.7 191.4 L 334.7 190.4 Q 335.2 191.0, 335.9 191.3 Q 336.6 191.6, 337.4 191.6 Q 338.4 191.6, 339.1 191.0 Q 339.8 190.3, 339.8 189.2 Q 339.8 188.0, 339.1 187.4 Q 338.4 186.9, 337.3 186.9 Q 336.3 186.9, 335.2 187.3 L 334.3 186.9 L 334.8 181.4 L 340.7 181.4 L 340.5 182.7 L 336.1 182.7 L 335.8 186.1 Q 336.8 185.7, 337.8 185.7 \" fill=\"#000000\"/>\n",
       "<path class=\"legend\" d=\"M 347.9 186.8 Q 348.9 187.2, 349.5 187.9 Q 350.1 188.5, 350.1 189.7 Q 350.1 190.6, 349.6 191.4 Q 349.1 192.1, 348.2 192.5 Q 347.4 192.9, 346.2 192.9 Q 344.3 192.9, 343.2 192.1 Q 342.1 191.2, 342.1 189.7 Q 342.1 188.7, 342.6 188.0 Q 343.1 187.3, 344.1 186.8 Q 343.3 186.4, 342.9 185.8 Q 342.5 185.2, 342.5 184.2 Q 342.5 182.9, 343.5 182.1 Q 344.5 181.3, 346.1 181.3 Q 347.8 181.3, 348.7 182.1 Q 349.7 182.9, 349.7 184.2 Q 349.7 185.0, 349.2 185.7 Q 348.8 186.3, 347.9 186.8 M 346.1 182.5 Q 345.2 182.5, 344.7 183.0 Q 344.1 183.4, 344.1 184.2 Q 344.1 184.8, 344.5 185.2 Q 344.8 185.6, 345.3 185.8 Q 345.9 186.0, 346.8 186.4 Q 347.5 185.9, 347.8 185.4 Q 348.1 184.9, 348.1 184.2 Q 348.1 183.4, 347.6 183.0 Q 347.1 182.5, 346.1 182.5 M 346.2 191.7 Q 347.2 191.7, 347.9 191.2 Q 348.5 190.6, 348.5 189.6 Q 348.5 189.0, 348.2 188.6 Q 347.9 188.3, 347.3 188.0 Q 346.8 187.8, 345.9 187.5 L 345.2 187.3 Q 344.4 187.8, 344.1 188.3 Q 343.7 188.9, 343.7 189.6 Q 343.7 190.6, 344.4 191.2 Q 345.1 191.7, 346.2 191.7 \" fill=\"#000000\"/>\n",
       "<path class=\"legend\" d=\"M 356.9 186.8 Q 357.9 187.2, 358.5 187.9 Q 359.1 188.5, 359.1 189.7 Q 359.1 190.6, 358.6 191.4 Q 358.1 192.1, 357.2 192.5 Q 356.4 192.9, 355.2 192.9 Q 353.3 192.9, 352.2 192.1 Q 351.1 191.2, 351.1 189.7 Q 351.1 188.7, 351.6 188.0 Q 352.1 187.3, 353.1 186.8 Q 352.3 186.4, 351.9 185.8 Q 351.5 185.2, 351.5 184.2 Q 351.5 182.9, 352.5 182.1 Q 353.5 181.3, 355.1 181.3 Q 356.8 181.3, 357.7 182.1 Q 358.7 182.9, 358.7 184.2 Q 358.7 185.0, 358.3 185.7 Q 357.8 186.3, 356.9 186.8 M 355.1 182.5 Q 354.2 182.5, 353.7 183.0 Q 353.1 183.4, 353.1 184.2 Q 353.1 184.8, 353.5 185.2 Q 353.9 185.6, 354.3 185.8 Q 354.9 186.0, 355.8 186.4 Q 356.5 185.9, 356.8 185.4 Q 357.1 184.9, 357.1 184.2 Q 357.1 183.4, 356.6 183.0 Q 356.1 182.5, 355.1 182.5 M 355.2 191.7 Q 356.3 191.7, 356.9 191.2 Q 357.5 190.6, 357.5 189.6 Q 357.5 189.0, 357.2 188.6 Q 356.9 188.3, 356.3 188.0 Q 355.9 187.8, 355.0 187.5 L 354.2 187.3 Q 353.4 187.8, 353.1 188.3 Q 352.7 188.9, 352.7 189.6 Q 352.7 190.6, 353.4 191.2 Q 354.1 191.7, 355.2 191.7 \" fill=\"#000000\"/>\n",
       "<path class=\"legend\" d=\"M 367.5 188.9 L 368.9 188.9 L 368.9 190.2 L 367.5 190.2 L 367.5 192.8 L 366.0 192.8 L 366.0 190.2 L 360.1 190.2 L 360.1 189.1 L 365.1 181.4 L 367.5 181.4 L 367.5 188.9 M 362.0 188.9 L 366.0 188.9 L 366.0 182.5 L 362.0 188.9 \" fill=\"#000000\"/>\n",
       "<path class=\"legend\" d=\"M 369.7 183.6 Q 370.1 182.5, 371.1 181.9 Q 372.1 181.3, 373.5 181.3 Q 375.2 181.3, 376.1 182.2 Q 377.1 183.2, 377.1 184.8 Q 377.1 186.5, 375.8 188.1 Q 374.6 189.6, 372.0 191.5 L 377.3 191.5 L 377.3 192.8 L 369.6 192.8 L 369.6 191.7 Q 371.8 190.2, 373.0 189.1 Q 374.3 187.9, 374.9 186.9 Q 375.5 185.9, 375.5 184.9 Q 375.5 183.8, 374.9 183.2 Q 374.4 182.6, 373.5 182.6 Q 372.5 182.6, 371.9 183.0 Q 371.3 183.3, 370.9 184.1 L 369.7 183.6 \" fill=\"#000000\"/>\n",
       "<path class=\"legend\" d=\"M 378.3 183.6 Q 378.7 182.5, 379.7 181.9 Q 380.7 181.3, 382.0 181.3 Q 383.8 181.3, 384.7 182.2 Q 385.7 183.2, 385.7 184.8 Q 385.7 186.5, 384.4 188.1 Q 383.2 189.6, 380.6 191.5 L 385.9 191.5 L 385.9 192.8 L 378.2 192.8 L 378.2 191.7 Q 380.3 190.2, 381.6 189.1 Q 382.9 187.9, 383.5 186.9 Q 384.1 185.9, 384.1 184.9 Q 384.1 183.8, 383.5 183.2 Q 383.0 182.6, 382.0 182.6 Q 381.1 182.6, 380.5 183.0 Q 379.9 183.3, 379.5 184.1 L 378.3 183.6 \" fill=\"#000000\"/>\n",
       "<path class=\"legend\" d=\"M 392.8 182.7 L 386.8 182.7 L 386.8 181.4 L 394.3 181.4 L 394.3 182.6 L 389.8 192.8 L 388.2 192.8 L 392.8 182.7 \" fill=\"#000000\"/>\n",
       "<path class=\"bond-0 atom-0 atom-1\" d=\"M 546.7,33.1 L 553.1,47.3\" style=\"fill:none;fill-rule:evenodd;stroke:#FF0000;stroke-width:2.0px;stroke-linecap:butt;stroke-linejoin:miter;stroke-opacity:1\"/>\n",
       "<path class=\"bond-0 atom-0 atom-1\" d=\"M 553.1,47.3 L 559.5,61.5\" style=\"fill:none;fill-rule:evenodd;stroke:#000000;stroke-width:2.0px;stroke-linecap:butt;stroke-linejoin:miter;stroke-opacity:1\"/>\n",
       "<path class=\"bond-1 atom-1 atom-2\" d=\"M 562.7,63.8 L 553.8,76.1\" style=\"fill:none;fill-rule:evenodd;stroke:#000000;stroke-width:2.0px;stroke-linecap:butt;stroke-linejoin:miter;stroke-opacity:1\"/>\n",
       "<path class=\"bond-1 atom-1 atom-2\" d=\"M 553.8,76.1 L 544.9,88.5\" style=\"fill:none;fill-rule:evenodd;stroke:#FF0000;stroke-width:2.0px;stroke-linecap:butt;stroke-linejoin:miter;stroke-opacity:1\"/>\n",
       "<path class=\"bond-1 atom-1 atom-2\" d=\"M 556.4,59.2 L 547.5,71.6\" style=\"fill:none;fill-rule:evenodd;stroke:#000000;stroke-width:2.0px;stroke-linecap:butt;stroke-linejoin:miter;stroke-opacity:1\"/>\n",
       "<path class=\"bond-1 atom-1 atom-2\" d=\"M 547.5,71.6 L 538.6,84.0\" style=\"fill:none;fill-rule:evenodd;stroke:#FF0000;stroke-width:2.0px;stroke-linecap:butt;stroke-linejoin:miter;stroke-opacity:1\"/>\n",
       "<path class=\"bond-2 atom-1 atom-3\" d=\"M 559.5,61.5 L 598.2,65.4\" style=\"fill:none;fill-rule:evenodd;stroke:#000000;stroke-width:2.0px;stroke-linecap:butt;stroke-linejoin:miter;stroke-opacity:1\"/>\n",
       "<path class=\"bond-3 atom-3 atom-4\" d=\"M 598.2,65.4 L 607.2,53.0\" style=\"fill:none;fill-rule:evenodd;stroke:#000000;stroke-width:2.0px;stroke-linecap:butt;stroke-linejoin:miter;stroke-opacity:1\"/>\n",
       "<path class=\"bond-3 atom-3 atom-4\" d=\"M 607.2,53.0 L 616.1,40.6\" style=\"fill:none;fill-rule:evenodd;stroke:#0000FF;stroke-width:2.0px;stroke-linecap:butt;stroke-linejoin:miter;stroke-opacity:1\"/>\n",
       "<path class=\"bond-4 atom-3 atom-5\" d=\"M 598.2,65.4 L 614.2,100.9\" style=\"fill:none;fill-rule:evenodd;stroke:#000000;stroke-width:2.0px;stroke-linecap:butt;stroke-linejoin:miter;stroke-opacity:1\"/>\n",
       "<path class=\"bond-5 atom-5 atom-6\" d=\"M 614.2,100.9 L 652.9,104.8\" style=\"fill:none;fill-rule:evenodd;stroke:#000000;stroke-width:2.0px;stroke-linecap:butt;stroke-linejoin:miter;stroke-opacity:1\"/>\n",
       "<path class=\"bond-6 atom-6 atom-7\" d=\"M 652.9,104.8 L 659.4,119.1\" style=\"fill:none;fill-rule:evenodd;stroke:#000000;stroke-width:2.0px;stroke-linecap:butt;stroke-linejoin:miter;stroke-opacity:1\"/>\n",
       "<path class=\"bond-6 atom-6 atom-7\" d=\"M 659.4,119.1 L 665.8,133.5\" style=\"fill:none;fill-rule:evenodd;stroke:#CCCC00;stroke-width:2.0px;stroke-linecap:butt;stroke-linejoin:miter;stroke-opacity:1\"/>\n",
       "<path class=\"bond-7 atom-7 atom-8\" d=\"M 664.1,146.9 L 655.1,159.4\" style=\"fill:none;fill-rule:evenodd;stroke:#CCCC00;stroke-width:2.0px;stroke-linecap:butt;stroke-linejoin:miter;stroke-opacity:1\"/>\n",
       "<path class=\"bond-7 atom-7 atom-8\" d=\"M 655.1,159.4 L 646.2,171.8\" style=\"fill:none;fill-rule:evenodd;stroke:#000000;stroke-width:2.0px;stroke-linecap:butt;stroke-linejoin:miter;stroke-opacity:1\"/>\n",
       "<path class=\"bond-8 atom-7 atom-9\" d=\"M 673.7,140.7 L 690.7,142.4\" style=\"fill:none;fill-rule:evenodd;stroke:#CCCC00;stroke-width:2.0px;stroke-linecap:butt;stroke-linejoin:miter;stroke-opacity:1\"/>\n",
       "<path class=\"bond-8 atom-7 atom-9\" d=\"M 690.7,142.4 L 707.6,144.2\" style=\"fill:none;fill-rule:evenodd;stroke:#000000;stroke-width:2.0px;stroke-linecap:butt;stroke-linejoin:miter;stroke-opacity:1\"/>\n",
       "<path class=\"bond-9 atom-9 atom-10\" d=\"M 707.6,144.2 L 730.3,112.6\" style=\"fill:none;fill-rule:evenodd;stroke:#000000;stroke-width:2.0px;stroke-linecap:butt;stroke-linejoin:miter;stroke-opacity:1\"/>\n",
       "<path class=\"bond-10 atom-10 atom-11\" d=\"M 730.3,112.6 L 746.6,112.5\" style=\"fill:none;fill-rule:evenodd;stroke:#000000;stroke-width:2.0px;stroke-linecap:butt;stroke-linejoin:miter;stroke-opacity:1\"/>\n",
       "<path class=\"bond-10 atom-10 atom-11\" d=\"M 746.6,112.5 L 762.9,112.4\" style=\"fill:none;fill-rule:evenodd;stroke:#FF0000;stroke-width:2.0px;stroke-linecap:butt;stroke-linejoin:miter;stroke-opacity:1\"/>\n",
       "<path class=\"bond-11 atom-10 atom-12\" d=\"M 730.3,112.6 L 718.1,75.6\" style=\"fill:none;fill-rule:evenodd;stroke:#000000;stroke-width:2.0px;stroke-linecap:butt;stroke-linejoin:miter;stroke-opacity:1\"/>\n",
       "<path class=\"bond-12 atom-12 atom-13\" d=\"M 718.1,75.6 L 702.8,70.7\" style=\"fill:none;fill-rule:evenodd;stroke:#000000;stroke-width:2.0px;stroke-linecap:butt;stroke-linejoin:miter;stroke-opacity:1\"/>\n",
       "<path class=\"bond-12 atom-12 atom-13\" d=\"M 702.8,70.7 L 687.4,65.8\" style=\"fill:none;fill-rule:evenodd;stroke:#FF0000;stroke-width:2.0px;stroke-linecap:butt;stroke-linejoin:miter;stroke-opacity:1\"/>\n",
       "<path class=\"bond-13 atom-12 atom-14\" d=\"M 718.1,75.6 L 749.5,52.6\" style=\"fill:none;fill-rule:evenodd;stroke:#000000;stroke-width:2.0px;stroke-linecap:butt;stroke-linejoin:miter;stroke-opacity:1\"/>\n",
       "<path class=\"bond-14 atom-14 atom-15\" d=\"M 749.5,52.6 L 749.4,36.7\" style=\"fill:none;fill-rule:evenodd;stroke:#000000;stroke-width:2.0px;stroke-linecap:butt;stroke-linejoin:miter;stroke-opacity:1\"/>\n",
       "<path class=\"bond-14 atom-14 atom-15\" d=\"M 749.4,36.7 L 749.4,20.8\" style=\"fill:none;fill-rule:evenodd;stroke:#FF0000;stroke-width:2.0px;stroke-linecap:butt;stroke-linejoin:miter;stroke-opacity:1\"/>\n",
       "<path class=\"bond-15 atom-14 atom-16\" d=\"M 749.5,52.6 L 781.1,75.4\" style=\"fill:none;fill-rule:evenodd;stroke:#000000;stroke-width:2.0px;stroke-linecap:butt;stroke-linejoin:miter;stroke-opacity:1\"/>\n",
       "<path class=\"bond-16 atom-16 atom-17\" d=\"M 781.1,75.4 L 796.8,70.2\" style=\"fill:none;fill-rule:evenodd;stroke:#000000;stroke-width:2.0px;stroke-linecap:butt;stroke-linejoin:miter;stroke-opacity:1\"/>\n",
       "<path class=\"bond-16 atom-16 atom-17\" d=\"M 796.8,70.2 L 812.6,65.0\" style=\"fill:none;fill-rule:evenodd;stroke:#0000FF;stroke-width:2.0px;stroke-linecap:butt;stroke-linejoin:miter;stroke-opacity:1\"/>\n",
       "<path class=\"bond-17 atom-17 atom-18\" d=\"M 820.2,56.4 L 825.0,41.3\" style=\"fill:none;fill-rule:evenodd;stroke:#0000FF;stroke-width:2.0px;stroke-linecap:butt;stroke-linejoin:miter;stroke-opacity:1\"/>\n",
       "<path class=\"bond-17 atom-17 atom-18\" d=\"M 825.0,41.3 L 829.9,26.2\" style=\"fill:none;fill-rule:evenodd;stroke:#000000;stroke-width:2.0px;stroke-linecap:butt;stroke-linejoin:miter;stroke-opacity:1\"/>\n",
       "<path class=\"bond-18 atom-17 atom-19\" d=\"M 823.5,67.1 L 836.5,76.5\" style=\"fill:none;fill-rule:evenodd;stroke:#0000FF;stroke-width:2.0px;stroke-linecap:butt;stroke-linejoin:miter;stroke-opacity:1\"/>\n",
       "<path class=\"bond-18 atom-17 atom-19\" d=\"M 836.5,76.5 L 849.6,85.9\" style=\"fill:none;fill-rule:evenodd;stroke:#000000;stroke-width:2.0px;stroke-linecap:butt;stroke-linejoin:miter;stroke-opacity:1\"/>\n",
       "<path class=\"bond-19 atom-19 atom-20\" d=\"M 849.6,85.9 L 851.3,101.9\" style=\"fill:none;fill-rule:evenodd;stroke:#000000;stroke-width:2.0px;stroke-linecap:butt;stroke-linejoin:miter;stroke-opacity:1\"/>\n",
       "<path class=\"bond-19 atom-19 atom-20\" d=\"M 851.3,101.9 L 853.1,117.8\" style=\"fill:none;fill-rule:evenodd;stroke:#0000FF;stroke-width:2.0px;stroke-linecap:butt;stroke-linejoin:miter;stroke-opacity:1\"/>\n",
       "<path class=\"bond-19 atom-19 atom-20\" d=\"M 857.8,89.9 L 859.1,101.0\" style=\"fill:none;fill-rule:evenodd;stroke:#000000;stroke-width:2.0px;stroke-linecap:butt;stroke-linejoin:miter;stroke-opacity:1\"/>\n",
       "<path class=\"bond-19 atom-19 atom-20\" d=\"M 859.1,101.0 L 860.3,112.2\" style=\"fill:none;fill-rule:evenodd;stroke:#0000FF;stroke-width:2.0px;stroke-linecap:butt;stroke-linejoin:miter;stroke-opacity:1\"/>\n",
       "<path class=\"bond-20 atom-19 atom-21\" d=\"M 849.6,85.9 L 881.0,62.9\" style=\"fill:none;fill-rule:evenodd;stroke:#000000;stroke-width:2.0px;stroke-linecap:butt;stroke-linejoin:miter;stroke-opacity:1\"/>\n",
       "<path class=\"bond-21 atom-21 atom-22\" d=\"M 881.0,62.9 L 876.0,47.9\" style=\"fill:none;fill-rule:evenodd;stroke:#000000;stroke-width:2.0px;stroke-linecap:butt;stroke-linejoin:miter;stroke-opacity:1\"/>\n",
       "<path class=\"bond-21 atom-21 atom-22\" d=\"M 876.0,47.9 L 871.0,32.8\" style=\"fill:none;fill-rule:evenodd;stroke:#0000FF;stroke-width:2.0px;stroke-linecap:butt;stroke-linejoin:miter;stroke-opacity:1\"/>\n",
       "<path class=\"bond-22 atom-21 atom-23\" d=\"M 881.0,62.9 L 916.6,78.6\" style=\"fill:none;fill-rule:evenodd;stroke:#000000;stroke-width:2.0px;stroke-linecap:butt;stroke-linejoin:miter;stroke-opacity:1\"/>\n",
       "<path class=\"bond-22 atom-21 atom-23\" d=\"M 883.2,72.4 L 908.1,83.4\" style=\"fill:none;fill-rule:evenodd;stroke:#000000;stroke-width:2.0px;stroke-linecap:butt;stroke-linejoin:miter;stroke-opacity:1\"/>\n",
       "<path class=\"bond-23 atom-23 atom-24\" d=\"M 916.6,78.6 L 929.5,69.1\" style=\"fill:none;fill-rule:evenodd;stroke:#000000;stroke-width:2.0px;stroke-linecap:butt;stroke-linejoin:miter;stroke-opacity:1\"/>\n",
       "<path class=\"bond-23 atom-23 atom-24\" d=\"M 929.5,69.1 L 942.5,59.6\" style=\"fill:none;fill-rule:evenodd;stroke:#0000FF;stroke-width:2.0px;stroke-linecap:butt;stroke-linejoin:miter;stroke-opacity:1\"/>\n",
       "<path class=\"bond-24 atom-23 atom-25\" d=\"M 916.6,78.6 L 918.3,94.5\" style=\"fill:none;fill-rule:evenodd;stroke:#000000;stroke-width:2.0px;stroke-linecap:butt;stroke-linejoin:miter;stroke-opacity:1\"/>\n",
       "<path class=\"bond-24 atom-23 atom-25\" d=\"M 918.3,94.5 L 920.0,110.5\" style=\"fill:none;fill-rule:evenodd;stroke:#0000FF;stroke-width:2.0px;stroke-linecap:butt;stroke-linejoin:miter;stroke-opacity:1\"/>\n",
       "<path class=\"bond-25 atom-25 atom-26\" d=\"M 915.3,121.3 L 902.4,130.8\" style=\"fill:none;fill-rule:evenodd;stroke:#0000FF;stroke-width:2.0px;stroke-linecap:butt;stroke-linejoin:miter;stroke-opacity:1\"/>\n",
       "<path class=\"bond-25 atom-25 atom-26\" d=\"M 902.4,130.8 L 889.4,140.3\" style=\"fill:none;fill-rule:evenodd;stroke:#000000;stroke-width:2.0px;stroke-linecap:butt;stroke-linejoin:miter;stroke-opacity:1\"/>\n",
       "<path class=\"bond-25 atom-25 atom-26\" d=\"M 906.8,117.8 L 897.8,124.5\" style=\"fill:none;fill-rule:evenodd;stroke:#0000FF;stroke-width:2.0px;stroke-linecap:butt;stroke-linejoin:miter;stroke-opacity:1\"/>\n",
       "<path class=\"bond-25 atom-25 atom-26\" d=\"M 897.8,124.5 L 888.7,131.1\" style=\"fill:none;fill-rule:evenodd;stroke:#000000;stroke-width:2.0px;stroke-linecap:butt;stroke-linejoin:miter;stroke-opacity:1\"/>\n",
       "<path class=\"bond-26 atom-16 atom-11\" d=\"M 781.1,75.4 L 776.2,90.5\" style=\"fill:none;fill-rule:evenodd;stroke:#000000;stroke-width:2.0px;stroke-linecap:butt;stroke-linejoin:miter;stroke-opacity:1\"/>\n",
       "<path class=\"bond-26 atom-16 atom-11\" d=\"M 776.2,90.5 L 771.4,105.6\" style=\"fill:none;fill-rule:evenodd;stroke:#FF0000;stroke-width:2.0px;stroke-linecap:butt;stroke-linejoin:miter;stroke-opacity:1\"/>\n",
       "<path class=\"bond-27 atom-26 atom-20\" d=\"M 889.4,140.3 L 874.3,133.6\" style=\"fill:none;fill-rule:evenodd;stroke:#000000;stroke-width:2.0px;stroke-linecap:butt;stroke-linejoin:miter;stroke-opacity:1\"/>\n",
       "<path class=\"bond-27 atom-26 atom-20\" d=\"M 874.3,133.6 L 859.3,127.0\" style=\"fill:none;fill-rule:evenodd;stroke:#0000FF;stroke-width:2.0px;stroke-linecap:butt;stroke-linejoin:miter;stroke-opacity:1\"/>\n",
       "<path class=\"bond-28 atom-22 atom-18\" d=\"M 863.3,26.0 L 846.6,26.1\" style=\"fill:none;fill-rule:evenodd;stroke:#0000FF;stroke-width:2.0px;stroke-linecap:butt;stroke-linejoin:miter;stroke-opacity:1\"/>\n",
       "<path class=\"bond-28 atom-22 atom-18\" d=\"M 846.6,26.1 L 829.9,26.2\" style=\"fill:none;fill-rule:evenodd;stroke:#000000;stroke-width:2.0px;stroke-linecap:butt;stroke-linejoin:miter;stroke-opacity:1\"/>\n",
       "<path class=\"bond-28 atom-22 atom-18\" d=\"M 858.3,33.8 L 846.6,33.9\" style=\"fill:none;fill-rule:evenodd;stroke:#0000FF;stroke-width:2.0px;stroke-linecap:butt;stroke-linejoin:miter;stroke-opacity:1\"/>\n",
       "<path class=\"bond-28 atom-22 atom-18\" d=\"M 846.6,33.9 L 834.9,33.9\" style=\"fill:none;fill-rule:evenodd;stroke:#000000;stroke-width:2.0px;stroke-linecap:butt;stroke-linejoin:miter;stroke-opacity:1\"/>\n",
       "<path class=\"atom-0\" d=\"M 538.5 26.1 Q 538.5 23.4, 539.8 22.0 Q 541.1 20.5, 543.6 20.5 Q 546.0 20.5, 547.3 22.0 Q 548.6 23.4, 548.6 26.1 Q 548.6 28.8, 547.3 30.3 Q 546.0 31.8, 543.6 31.8 Q 541.1 31.8, 539.8 30.3 Q 538.5 28.8, 538.5 26.1 M 543.6 30.5 Q 545.3 30.5, 546.2 29.4 Q 547.1 28.3, 547.1 26.1 Q 547.1 23.9, 546.2 22.8 Q 545.3 21.7, 543.6 21.7 Q 541.9 21.7, 541.0 22.8 Q 540.1 23.9, 540.1 26.1 Q 540.1 28.3, 541.0 29.4 Q 541.9 30.5, 543.6 30.5 \" fill=\"#FF0000\"/>\n",
       "<path class=\"atom-0\" d=\"M 549.4 22.3 L 553.2 22.3 L 553.2 23.1 L 549.4 23.1 L 549.4 22.3 \" fill=\"#FF0000\"/>\n",
       "<path class=\"atom-2\" d=\"M 531.8 93.1 Q 531.8 90.5, 533.1 89.0 Q 534.4 87.5, 536.8 87.5 Q 539.3 87.5, 540.6 89.0 Q 541.9 90.5, 541.9 93.1 Q 541.9 95.8, 540.6 97.3 Q 539.2 98.8, 536.8 98.8 Q 534.4 98.8, 533.1 97.3 Q 531.8 95.8, 531.8 93.1 M 536.8 97.6 Q 538.5 97.6, 539.4 96.5 Q 540.3 95.3, 540.3 93.1 Q 540.3 91.0, 539.4 89.9 Q 538.5 88.8, 536.8 88.8 Q 535.1 88.8, 534.2 89.8 Q 533.3 90.9, 533.3 93.1 Q 533.3 95.3, 534.2 96.5 Q 535.1 97.6, 536.8 97.6 \" fill=\"#FF0000\"/>\n",
       "<path class=\"atom-4\" d=\"M 618.5 28.3 L 622.2 34.2 Q 622.5 34.8, 623.1 35.8 Q 623.7 36.8, 623.7 36.9 L 623.7 28.3 L 625.2 28.3 L 625.2 39.4 L 623.6 39.4 L 619.8 33.0 Q 619.3 32.2, 618.8 31.4 Q 618.4 30.5, 618.2 30.3 L 618.2 39.4 L 616.8 39.4 L 616.8 28.3 L 618.5 28.3 \" fill=\"#0000FF\"/>\n",
       "<path class=\"atom-4\" d=\"M 626.4 28.3 L 627.9 28.3 L 627.9 33.0 L 633.6 33.0 L 633.6 28.3 L 635.1 28.3 L 635.1 39.4 L 633.6 39.4 L 633.6 34.3 L 627.9 34.3 L 627.9 39.4 L 626.4 39.4 L 626.4 28.3 \" fill=\"#0000FF\"/>\n",
       "<path class=\"atom-4\" d=\"M 636.4 39.0 Q 636.7 38.3, 637.3 37.9 Q 637.9 37.5, 638.8 37.5 Q 639.9 37.5, 640.5 38.1 Q 641.2 38.7, 641.2 39.8 Q 641.2 40.8, 640.4 41.9 Q 639.6 42.9, 637.9 44.0 L 641.3 44.0 L 641.3 44.9 L 636.4 44.9 L 636.4 44.2 Q 637.7 43.2, 638.5 42.5 Q 639.4 41.8, 639.7 41.1 Q 640.1 40.5, 640.1 39.8 Q 640.1 39.1, 639.8 38.7 Q 639.4 38.3, 638.8 38.3 Q 638.2 38.3, 637.9 38.6 Q 637.5 38.8, 637.2 39.3 L 636.4 39.0 \" fill=\"#0000FF\"/>\n",
       "<path class=\"atom-7\" d=\"M 665.8 144.0 Q 665.9 144.1, 666.4 144.3 Q 666.9 144.5, 667.5 144.7 Q 668.1 144.8, 668.6 144.8 Q 669.7 144.8, 670.3 144.3 Q 670.9 143.8, 670.9 142.9 Q 670.9 142.3, 670.6 141.9 Q 670.3 141.5, 669.8 141.3 Q 669.3 141.1, 668.6 140.9 Q 667.6 140.6, 667.0 140.3 Q 666.4 140.0, 666.0 139.4 Q 665.6 138.9, 665.6 137.9 Q 665.6 136.5, 666.5 135.6 Q 667.5 134.8, 669.3 134.8 Q 670.6 134.8, 672.1 135.4 L 671.7 136.6 Q 670.4 136.0, 669.4 136.0 Q 668.3 136.0, 667.7 136.5 Q 667.1 136.9, 667.2 137.7 Q 667.2 138.3, 667.4 138.6 Q 667.8 139.0, 668.2 139.2 Q 668.6 139.4, 669.4 139.6 Q 670.4 139.9, 671.0 140.2 Q 671.6 140.5, 672.0 141.2 Q 672.4 141.8, 672.4 142.9 Q 672.4 144.4, 671.4 145.2 Q 670.4 146.0, 668.7 146.0 Q 667.7 146.0, 667.0 145.8 Q 666.2 145.6, 665.4 145.3 L 665.8 144.0 \" fill=\"#CCCC00\"/>\n",
       "<path class=\"atom-7\" d=\"M 673.2 136.6 L 675.1 136.6 L 675.1 134.5 L 676.0 134.5 L 676.0 136.6 L 678.0 136.6 L 678.0 137.3 L 676.0 137.3 L 676.0 139.4 L 675.1 139.4 L 675.1 137.3 L 673.2 137.3 L 673.2 136.6 \" fill=\"#CCCC00\"/>\n",
       "<path class=\"atom-11\" d=\"M 764.2 112.5 Q 764.2 109.8, 765.5 108.3 Q 766.8 106.9, 769.2 106.9 Q 771.7 106.9, 773.0 108.3 Q 774.3 109.8, 774.3 112.5 Q 774.3 115.1, 773.0 116.7 Q 771.6 118.2, 769.2 118.2 Q 766.8 118.2, 765.5 116.7 Q 764.2 115.1, 764.2 112.5 M 769.2 116.9 Q 770.9 116.9, 771.8 115.8 Q 772.7 114.7, 772.7 112.5 Q 772.7 110.3, 771.8 109.2 Q 770.9 108.1, 769.2 108.1 Q 767.5 108.1, 766.6 109.2 Q 765.7 110.3, 765.7 112.5 Q 765.7 114.7, 766.6 115.8 Q 767.5 116.9, 769.2 116.9 \" fill=\"#FF0000\"/>\n",
       "<path class=\"atom-13\" d=\"M 666.1 58.3 L 667.6 58.3 L 667.6 63.0 L 673.2 63.0 L 673.2 58.3 L 674.7 58.3 L 674.7 69.4 L 673.2 69.4 L 673.2 64.3 L 667.6 64.3 L 667.6 69.4 L 666.1 69.4 L 666.1 58.3 \" fill=\"#FF0000\"/>\n",
       "<path class=\"atom-13\" d=\"M 676.0 63.8 Q 676.0 61.2, 677.4 59.7 Q 678.7 58.2, 681.1 58.2 Q 683.5 58.2, 684.8 59.7 Q 686.2 61.2, 686.2 63.8 Q 686.2 66.5, 684.8 68.0 Q 683.5 69.5, 681.1 69.5 Q 678.7 69.5, 677.4 68.0 Q 676.0 66.5, 676.0 63.8 M 681.1 68.3 Q 682.8 68.3, 683.7 67.2 Q 684.6 66.0, 684.6 63.8 Q 684.6 61.7, 683.7 60.6 Q 682.8 59.5, 681.1 59.5 Q 679.4 59.5, 678.5 60.5 Q 677.6 61.6, 677.6 63.8 Q 677.6 66.0, 678.5 67.2 Q 679.4 68.3, 681.1 68.3 \" fill=\"#FF0000\"/>\n",
       "<path class=\"atom-15\" d=\"M 744.3 13.8 Q 744.3 11.1, 745.6 9.7 Q 746.9 8.2, 749.3 8.2 Q 751.8 8.2, 753.1 9.7 Q 754.4 11.1, 754.4 13.8 Q 754.4 16.5, 753.1 18.0 Q 751.8 19.5, 749.3 19.5 Q 746.9 19.5, 745.6 18.0 Q 744.3 16.5, 744.3 13.8 M 749.3 18.2 Q 751.0 18.2, 751.9 17.1 Q 752.8 16.0, 752.8 13.8 Q 752.8 11.6, 751.9 10.5 Q 751.0 9.4, 749.3 9.4 Q 747.7 9.4, 746.8 10.5 Q 745.8 11.6, 745.8 13.8 Q 745.8 16.0, 746.8 17.1 Q 747.7 18.2, 749.3 18.2 \" fill=\"#FF0000\"/>\n",
       "<path class=\"atom-15\" d=\"M 755.2 8.3 L 756.7 8.3 L 756.7 13.0 L 762.3 13.0 L 762.3 8.3 L 763.8 8.3 L 763.8 19.3 L 762.3 19.3 L 762.3 14.2 L 756.7 14.2 L 756.7 19.3 L 755.2 19.3 L 755.2 8.3 \" fill=\"#FF0000\"/>\n",
       "<path class=\"atom-17\" d=\"M 815.6 57.7 L 819.2 63.5 Q 819.6 64.1, 820.1 65.1 Q 820.7 66.2, 820.7 66.2 L 820.7 57.7 L 822.2 57.7 L 822.2 68.7 L 820.7 68.7 L 816.8 62.3 Q 816.4 61.6, 815.9 60.7 Q 815.4 59.9, 815.3 59.6 L 815.3 68.7 L 813.8 68.7 L 813.8 57.7 L 815.6 57.7 \" fill=\"#0000FF\"/>\n",
       "<path class=\"atom-20\" d=\"M 851.4 119.1 L 855.0 124.9 Q 855.4 125.5, 855.9 126.5 Q 856.5 127.6, 856.5 127.6 L 856.5 119.1 L 858.0 119.1 L 858.0 130.1 L 856.5 130.1 L 852.6 123.7 Q 852.2 123.0, 851.7 122.1 Q 851.2 121.3, 851.1 121.0 L 851.1 130.1 L 849.6 130.1 L 849.6 119.1 L 851.4 119.1 \" fill=\"#0000FF\"/>\n",
       "<path class=\"atom-22\" d=\"M 866.3 20.5 L 870.0 26.3 Q 870.3 26.9, 870.9 27.9 Q 871.5 29.0, 871.5 29.0 L 871.5 20.5 L 873.0 20.5 L 873.0 31.5 L 871.4 31.5 L 867.6 25.1 Q 867.1 24.4, 866.6 23.5 Q 866.2 22.7, 866.0 22.4 L 866.0 31.5 L 864.6 31.5 L 864.6 20.5 L 866.3 20.5 \" fill=\"#0000FF\"/>\n",
       "<path class=\"atom-24\" d=\"M 945.5 50.1 L 949.1 55.9 Q 949.5 56.5, 950.0 57.5 Q 950.6 58.6, 950.6 58.7 L 950.6 50.1 L 952.1 50.1 L 952.1 61.1 L 950.6 61.1 L 946.7 54.7 Q 946.3 54.0, 945.8 53.1 Q 945.3 52.3, 945.2 52.0 L 945.2 61.1 L 943.8 61.1 L 943.8 50.1 L 945.5 50.1 \" fill=\"#0000FF\"/>\n",
       "<path class=\"atom-24\" d=\"M 953.4 50.1 L 954.9 50.1 L 954.9 54.8 L 960.5 54.8 L 960.5 50.1 L 962.0 50.1 L 962.0 61.1 L 960.5 61.1 L 960.5 56.0 L 954.9 56.0 L 954.9 61.1 L 953.4 61.1 L 953.4 50.1 \" fill=\"#0000FF\"/>\n",
       "<path class=\"atom-24\" d=\"M 963.4 60.7 Q 963.6 60.0, 964.3 59.7 Q 964.9 59.3, 965.8 59.3 Q 966.9 59.3, 967.5 59.9 Q 968.1 60.5, 968.1 61.5 Q 968.1 62.6, 967.3 63.6 Q 966.5 64.6, 964.9 65.8 L 968.2 65.8 L 968.2 66.6 L 963.3 66.6 L 963.3 65.9 Q 964.7 65.0, 965.5 64.2 Q 966.3 63.5, 966.7 62.9 Q 967.1 62.2, 967.1 61.6 Q 967.1 60.9, 966.7 60.5 Q 966.4 60.1, 965.8 60.1 Q 965.2 60.1, 964.8 60.3 Q 964.4 60.6, 964.1 61.1 L 963.4 60.7 \" fill=\"#0000FF\"/>\n",
       "<path class=\"atom-25\" d=\"M 918.4 111.8 L 922.0 117.6 Q 922.3 118.2, 922.9 119.2 Q 923.5 120.3, 923.5 120.3 L 923.5 111.8 L 925.0 111.8 L 925.0 122.8 L 923.5 122.8 L 919.6 116.4 Q 919.1 115.6, 918.7 114.8 Q 918.2 113.9, 918.0 113.7 L 918.0 122.8 L 916.6 122.8 L 916.6 111.8 L 918.4 111.8 \" fill=\"#0000FF\"/>\n",
       "<path class=\"legend\" d=\"M 614.1 191.6 L 612.6 191.6 L 611.4 182.3 L 608.4 191.6 L 606.8 191.6 L 603.8 182.3 L 602.6 191.6 L 601.1 191.6 L 602.6 180.2 L 604.5 180.2 L 607.6 189.4 L 610.7 180.2 L 612.6 180.2 L 614.1 191.6 \" fill=\"#000000\"/>\n",
       "<path class=\"legend\" d=\"M 615.1 180.2 L 621.8 180.2 L 621.8 181.5 L 616.6 181.5 L 616.6 185.0 L 621.3 185.0 L 621.3 186.3 L 616.6 186.3 L 616.6 190.2 L 622.0 190.2 L 622.0 191.6 L 615.1 191.6 L 615.1 180.2 \" fill=\"#000000\"/>\n",
       "<path class=\"legend\" d=\"M 622.8 180.2 L 629.5 180.2 L 629.5 181.5 L 624.3 181.5 L 624.3 185.0 L 629.0 185.0 L 629.0 186.3 L 624.3 186.3 L 624.3 191.6 L 622.8 191.6 L 622.8 180.2 \" fill=\"#000000\"/>\n",
       "<path class=\"legend\" d=\"M 629.9 180.2 L 631.4 180.2 L 631.4 191.6 L 629.9 191.6 L 629.9 180.2 M 636.2 180.2 L 638.3 180.2 L 633.8 185.4 L 638.6 191.6 L 636.6 191.6 L 631.8 185.5 L 636.2 180.2 \" fill=\"#000000\"/>\n",
       "<path class=\"legend\" d=\"M 638.7 180.2 L 645.5 180.2 L 645.5 181.5 L 640.2 181.5 L 640.2 185.0 L 644.9 185.0 L 644.9 186.3 L 640.2 186.3 L 640.2 190.2 L 645.6 190.2 L 645.6 191.6 L 638.7 191.6 L 638.7 180.2 \" fill=\"#000000\"/>\n",
       "<path class=\"legend\" d=\"M 649.8 180.2 Q 651.7 180.2, 652.7 181.1 Q 653.7 182.0, 653.7 183.6 Q 653.7 185.1, 652.6 186.0 Q 651.7 186.9, 649.8 186.9 L 648.0 186.9 L 648.0 191.6 L 646.4 191.6 L 646.4 180.2 L 649.8 180.2 M 649.8 185.6 Q 650.9 185.6, 651.5 185.1 Q 652.1 184.6, 652.1 183.6 Q 652.1 182.6, 651.5 182.1 Q 650.9 181.5, 649.8 181.5 L 648.0 181.5 L 648.0 185.6 L 649.8 185.6 \" fill=\"#000000\"/>\n",
       "<path class=\"legend\" d=\"M 668.5 180.3 L 670.0 180.3 L 667.0 191.6 L 664.7 191.6 L 662.2 182.1 L 659.7 191.6 L 657.4 191.6 L 654.4 180.3 L 656.0 180.3 L 658.6 190.2 L 661.2 180.3 L 663.2 180.3 L 665.8 190.2 L 668.5 180.3 \" fill=\"#000000\"/>\n",
       "<path class=\"legend\" d=\"M 683.4 191.6 L 682.0 191.6 L 680.8 182.3 L 677.7 191.6 L 676.2 191.6 L 673.1 182.3 L 671.9 191.6 L 670.5 191.6 L 671.9 180.2 L 673.8 180.2 L 677.0 189.4 L 680.1 180.2 L 682.0 180.2 L 683.4 191.6 \" fill=\"#000000\"/>\n",
       "<path class=\"legend\" d=\"M 684.5 180.2 L 691.2 180.2 L 691.2 181.5 L 686.0 181.5 L 686.0 185.0 L 690.7 185.0 L 690.7 186.3 L 686.0 186.3 L 686.0 190.2 L 691.4 190.2 L 691.4 191.6 L 684.5 191.6 L 684.5 180.2 \" fill=\"#000000\"/>\n",
       "<path class=\"legend\" d=\"M 700.0 193.6 Q 700.5 193.6, 701.1 193.4 L 701.6 194.7 Q 700.7 195.0, 699.9 195.0 Q 698.5 195.0, 697.5 194.2 Q 696.6 193.3, 696.5 191.7 Q 694.4 191.4, 693.3 189.9 Q 692.2 188.4, 692.2 185.9 Q 692.2 183.2, 693.5 181.6 Q 694.9 180.1, 697.4 180.1 Q 699.9 180.1, 701.2 181.6 Q 702.6 183.2, 702.6 185.9 Q 702.6 188.5, 701.3 190.1 Q 700.1 191.6, 697.7 191.7 Q 697.9 192.6, 698.5 193.1 Q 699.1 193.6, 700.0 193.6 M 693.8 185.9 Q 693.8 188.2, 694.7 189.3 Q 695.6 190.5, 697.4 190.5 Q 699.1 190.5, 700.0 189.3 Q 701.0 188.2, 701.0 185.9 Q 701.0 183.7, 700.0 182.5 Q 699.1 181.4, 697.4 181.4 Q 695.6 181.4, 694.7 182.5 Q 693.8 183.6, 693.8 185.9 \" fill=\"#000000\"/>\n",
       "<path class=\"legend\" d=\"M 708.9 185.6 Q 710.0 185.9, 710.5 186.6 Q 711.1 187.3, 711.1 188.2 Q 711.1 189.8, 710.1 190.7 Q 709.1 191.6, 707.2 191.6 L 703.4 191.6 L 703.4 180.2 L 706.7 180.2 Q 708.6 180.2, 709.6 181.0 Q 710.6 181.8, 710.6 183.3 Q 710.6 185.0, 708.9 185.6 M 704.9 181.5 L 704.9 185.1 L 706.7 185.1 Q 707.8 185.1, 708.4 184.6 Q 709.0 184.2, 709.0 183.3 Q 709.0 181.5, 706.7 181.5 L 704.9 181.5 M 707.2 190.3 Q 708.3 190.3, 708.9 189.8 Q 709.5 189.2, 709.5 188.2 Q 709.5 187.3, 708.8 186.8 Q 708.2 186.4, 706.9 186.4 L 704.9 186.4 L 704.9 190.3 L 707.2 190.3 \" fill=\"#000000\"/>\n",
       "<path class=\"legend\" d=\"M 711.8 180.2 L 713.3 180.2 L 713.3 190.2 L 718.5 190.2 L 718.5 191.6 L 711.8 191.6 L 711.8 180.2 \" fill=\"#000000\"/>\n",
       "<path class=\"legend\" d=\"M 718.9 180.2 L 720.5 180.2 L 720.5 191.6 L 718.9 191.6 L 718.9 180.2 M 725.2 180.2 L 727.3 180.2 L 722.8 185.4 L 727.7 191.6 L 725.7 191.6 L 720.8 185.5 L 725.2 180.2 \" fill=\"#000000\"/>\n",
       "<path class=\"legend\" d=\"M 727.8 180.2 L 729.3 180.2 L 729.3 191.6 L 727.8 191.6 L 727.8 180.2 \" fill=\"#000000\"/>\n",
       "<path class=\"legend\" d=\"\" fill=\"#000000\"/>\n",
       "<path class=\"legend\" d=\"M 736.0 189.7 L 737.6 189.7 L 737.6 191.3 L 736.0 191.3 L 736.0 189.7 M 736.0 184.2 L 737.6 184.2 L 737.6 185.8 L 736.0 185.8 L 736.0 184.2 \" fill=\"#000000\"/>\n",
       "<path class=\"legend\" d=\"\" fill=\"#000000\"/>\n",
       "<path class=\"legend\" d=\"M 744.2 185.9 Q 744.2 183.1, 745.5 181.6 Q 746.8 180.1, 749.3 180.1 Q 751.7 180.1, 752.9 181.8 L 751.9 182.6 Q 750.9 181.4, 749.3 181.4 Q 747.6 181.4, 746.7 182.6 Q 745.8 183.7, 745.8 185.9 Q 745.8 188.1, 746.7 189.3 Q 747.7 190.4, 749.5 190.4 Q 750.7 190.4, 752.2 189.7 L 752.7 190.9 Q 752.1 191.3, 751.2 191.5 Q 750.3 191.7, 749.3 191.7 Q 746.8 191.7, 745.5 190.2 Q 744.2 188.7, 744.2 185.9 \" fill=\"#000000\"/>\n",
       "<path class=\"legend\" d=\"M 753.5 185.9 Q 753.5 183.1, 754.9 181.6 Q 756.2 180.1, 758.7 180.1 Q 761.0 180.1, 762.3 181.8 L 761.2 182.6 Q 760.3 181.4, 758.7 181.4 Q 757.0 181.4, 756.1 182.6 Q 755.2 183.7, 755.2 185.9 Q 755.2 188.1, 756.1 189.3 Q 757.1 190.4, 758.9 190.4 Q 760.1 190.4, 761.6 189.7 L 762.0 190.9 Q 761.4 191.3, 760.5 191.5 Q 759.6 191.7, 758.7 191.7 Q 756.2 191.7, 754.9 190.2 Q 753.5 188.7, 753.5 185.9 \" fill=\"#000000\"/>\n",
       "<path class=\"legend\" d=\"M 775.9 191.6 L 774.4 191.6 L 773.2 182.3 L 770.2 191.6 L 768.6 191.6 L 765.6 182.3 L 764.4 191.6 L 762.9 191.6 L 764.4 180.2 L 766.3 180.2 L 769.4 189.4 L 772.5 180.2 L 774.4 180.2 L 775.9 191.6 \" fill=\"#000000\"/>\n",
       "<path class=\"legend\" d=\"M 777.3 189.8 Q 777.5 189.9, 778.0 190.1 Q 778.5 190.3, 779.1 190.5 Q 779.7 190.6, 780.3 190.6 Q 781.3 190.6, 782.0 190.1 Q 782.6 189.5, 782.6 188.6 Q 782.6 188.0, 782.3 187.6 Q 782.0 187.2, 781.5 187.0 Q 781.0 186.8, 780.2 186.6 Q 779.2 186.3, 778.6 186.0 Q 778.0 185.7, 777.6 185.1 Q 777.1 184.5, 777.1 183.5 Q 777.1 182.0, 778.1 181.2 Q 779.1 180.3, 781.0 180.3 Q 782.3 180.3, 783.8 180.9 L 783.4 182.1 Q 782.1 181.6, 781.1 181.6 Q 779.9 181.6, 779.3 182.0 Q 778.7 182.5, 778.7 183.3 Q 778.7 183.9, 779.1 184.2 Q 779.4 184.6, 779.8 184.8 Q 780.3 185.0, 781.1 185.3 Q 782.1 185.6, 782.7 185.9 Q 783.3 186.2, 783.7 186.9 Q 784.2 187.5, 784.2 188.6 Q 784.2 190.2, 783.1 191.0 Q 782.1 191.9, 780.3 191.9 Q 779.3 191.9, 778.6 191.7 Q 777.8 191.4, 776.9 191.1 L 777.3 189.8 \" fill=\"#000000\"/>\n",
       "<path class=\"legend\" d=\"M 784.9 180.2 L 786.4 180.2 L 786.4 190.2 L 791.6 190.2 L 791.6 191.6 L 784.9 191.6 L 784.9 180.2 \" fill=\"#000000\"/>\n",
       "<path class=\"legend\" d=\"M 792.1 180.2 L 793.6 180.2 L 793.6 191.6 L 792.1 191.6 L 792.1 180.2 \" fill=\"#000000\"/>\n",
       "<path class=\"legend\" d=\"M 800.5 185.6 Q 801.6 185.9, 802.1 186.6 Q 802.7 187.3, 802.7 188.2 Q 802.7 189.8, 801.7 190.7 Q 800.7 191.6, 798.8 191.6 L 795.0 191.6 L 795.0 180.2 L 798.3 180.2 Q 800.3 180.2, 801.3 181.0 Q 802.2 181.8, 802.2 183.3 Q 802.2 185.0, 800.5 185.6 M 796.5 181.5 L 796.5 185.1 L 798.3 185.1 Q 799.5 185.1, 800.0 184.6 Q 800.6 184.2, 800.6 183.3 Q 800.6 181.5, 798.3 181.5 L 796.5 181.5 M 798.8 190.3 Q 799.9 190.3, 800.5 189.8 Q 801.1 189.2, 801.1 188.2 Q 801.1 187.3, 800.4 186.8 Q 799.8 186.4, 798.6 186.4 L 796.5 186.4 L 796.5 190.3 L 798.8 190.3 \" fill=\"#000000\"/>\n",
       "<path class=\"legend\" d=\"M 807.6 191.7 Q 805.5 191.7, 804.5 190.2 Q 803.4 188.6, 803.4 185.9 Q 803.4 183.2, 804.5 181.6 Q 805.5 180.1, 807.6 180.1 Q 809.7 180.1, 810.7 181.6 Q 811.7 183.2, 811.7 185.9 Q 811.7 188.6, 810.7 190.2 Q 809.7 191.7, 807.6 191.7 M 807.6 190.4 Q 808.8 190.4, 809.5 189.3 Q 810.1 188.1, 810.1 185.9 Q 810.1 183.7, 809.5 182.5 Q 808.8 181.4, 807.6 181.4 Q 806.4 181.4, 805.7 182.5 Q 805.0 183.7, 805.0 185.9 Q 805.0 188.1, 805.7 189.3 Q 806.4 190.4, 807.6 190.4 \" fill=\"#000000\"/>\n",
       "<path class=\"legend\" d=\"M 816.9 191.7 Q 814.8 191.7, 813.8 190.2 Q 812.8 188.6, 812.8 185.9 Q 812.8 183.2, 813.8 181.6 Q 814.8 180.1, 816.9 180.1 Q 819.0 180.1, 820.0 181.6 Q 821.1 183.2, 821.1 185.9 Q 821.1 188.6, 820.0 190.2 Q 819.0 191.7, 816.9 191.7 M 816.9 190.4 Q 818.1 190.4, 818.8 189.3 Q 819.5 188.1, 819.5 185.9 Q 819.5 183.7, 818.8 182.5 Q 818.1 181.4, 816.9 181.4 Q 815.7 181.4, 815.0 182.5 Q 814.4 183.7, 814.4 185.9 Q 814.4 188.1, 815.0 189.3 Q 815.7 190.4, 816.9 190.4 \" fill=\"#000000\"/>\n",
       "<path class=\"legend\" d=\"M 826.2 191.7 Q 824.2 191.7, 823.1 190.2 Q 822.1 188.6, 822.1 185.9 Q 822.1 183.2, 823.1 181.6 Q 824.1 180.1, 826.2 180.1 Q 828.3 180.1, 829.4 181.6 Q 830.4 183.2, 830.4 185.9 Q 830.4 188.6, 829.3 190.2 Q 828.3 191.7, 826.2 191.7 M 826.2 190.4 Q 827.5 190.4, 828.1 189.3 Q 828.8 188.1, 828.8 185.9 Q 828.8 183.7, 828.1 182.5 Q 827.5 181.4, 826.2 181.4 Q 825.0 181.4, 824.3 182.5 Q 823.7 183.7, 823.7 185.9 Q 823.7 188.1, 824.3 189.3 Q 825.0 190.4, 826.2 190.4 \" fill=\"#000000\"/>\n",
       "<path class=\"legend\" d=\"M 835.6 191.7 Q 833.5 191.7, 832.4 190.2 Q 831.4 188.6, 831.4 185.9 Q 831.4 183.2, 832.4 181.6 Q 833.5 180.1, 835.6 180.1 Q 837.7 180.1, 838.7 181.6 Q 839.7 183.2, 839.7 185.9 Q 839.7 188.6, 838.7 190.2 Q 837.6 191.7, 835.6 191.7 M 835.6 190.4 Q 836.8 190.4, 837.5 189.3 Q 838.1 188.1, 838.1 185.9 Q 838.1 183.7, 837.5 182.5 Q 836.8 181.4, 835.6 181.4 Q 834.3 181.4, 833.7 182.5 Q 833.0 183.7, 833.0 185.9 Q 833.0 188.1, 833.7 189.3 Q 834.3 190.4, 835.6 190.4 \" fill=\"#000000\"/>\n",
       "<path class=\"legend\" d=\"M 844.9 191.7 Q 842.8 191.7, 841.8 190.2 Q 840.7 188.6, 840.7 185.9 Q 840.7 183.2, 841.8 181.6 Q 842.8 180.1, 844.9 180.1 Q 847.0 180.1, 848.0 181.6 Q 849.0 183.2, 849.0 185.9 Q 849.0 188.6, 848.0 190.2 Q 847.0 191.7, 844.9 191.7 M 844.9 190.4 Q 846.1 190.4, 846.8 189.3 Q 847.4 188.1, 847.4 185.9 Q 847.4 183.7, 846.8 182.5 Q 846.1 181.4, 844.9 181.4 Q 843.7 181.4, 843.0 182.5 Q 842.3 183.7, 842.3 185.9 Q 842.3 188.1, 843.0 189.3 Q 843.7 190.4, 844.9 190.4 \" fill=\"#000000\"/>\n",
       "<path class=\"legend\" d=\"M 850.1 182.4 Q 850.5 181.3, 851.5 180.7 Q 852.5 180.1, 853.9 180.1 Q 855.6 180.1, 856.6 181.0 Q 857.5 182.0, 857.5 183.6 Q 857.5 185.3, 856.3 186.9 Q 855.0 188.4, 852.5 190.3 L 857.7 190.3 L 857.7 191.6 L 850.1 191.6 L 850.1 190.5 Q 852.2 189.0, 853.4 187.9 Q 854.7 186.8, 855.3 185.8 Q 855.9 184.7, 855.9 183.7 Q 855.9 182.6, 855.4 182.0 Q 854.8 181.4, 853.9 181.4 Q 853.0 181.4, 852.4 181.8 Q 851.8 182.1, 851.3 183.0 L 850.1 182.4 \" fill=\"#000000\"/>\n",
       "<path class=\"legend\" d=\"M 859.3 190.3 L 861.8 190.3 L 861.8 181.8 L 859.0 182.7 L 858.7 181.7 L 862.1 180.2 L 863.3 180.4 L 863.3 190.3 L 865.5 190.3 L 865.5 191.6 L 859.3 191.6 L 859.3 190.3 \" fill=\"#000000\"/>\n",
       "<path class=\"legend\" d=\"M 870.6 184.5 Q 871.6 184.5, 872.4 184.9 Q 873.2 185.4, 873.6 186.2 Q 874.0 186.9, 874.0 187.9 Q 874.0 189.0, 873.5 189.9 Q 873.1 190.7, 872.2 191.2 Q 871.3 191.7, 870.2 191.7 Q 868.2 191.7, 867.2 190.3 Q 866.2 189.0, 866.2 186.2 Q 866.2 183.2, 867.4 181.7 Q 868.7 180.1, 871.1 180.1 Q 871.8 180.1, 872.4 180.3 Q 873.0 180.4, 873.6 180.8 L 873.0 181.8 Q 872.1 181.4, 871.1 181.4 Q 869.5 181.4, 868.7 182.4 Q 867.9 183.5, 867.8 185.6 Q 868.4 185.1, 869.1 184.8 Q 869.8 184.5, 870.6 184.5 M 870.2 190.4 Q 870.8 190.4, 871.3 190.1 Q 871.9 189.8, 872.1 189.2 Q 872.4 188.6, 872.4 187.9 Q 872.4 186.9, 871.9 186.4 Q 871.3 185.8, 870.3 185.8 Q 869.6 185.8, 868.9 186.1 Q 868.3 186.3, 867.8 186.8 Q 867.9 188.7, 868.4 189.5 Q 869.0 190.4, 870.2 190.4 \" fill=\"#000000\"/>\n",
       "<path class=\"legend\" d=\"M 875.5 190.3 L 878.0 190.3 L 878.0 181.8 L 875.3 182.7 L 874.9 181.7 L 878.4 180.2 L 879.5 180.4 L 879.5 190.3 L 881.7 190.3 L 881.7 191.6 L 875.5 191.6 L 875.5 190.3 \" fill=\"#000000\"/>\n",
       "<path class=\"legend\" d=\"M 886.2 180.1 Q 888.2 180.1, 889.2 181.5 Q 890.3 182.9, 890.3 185.6 Q 890.3 188.6, 889.0 190.2 Q 887.8 191.7, 885.3 191.7 Q 884.6 191.7, 884.0 191.5 Q 883.4 191.4, 882.9 191.0 L 883.5 190.0 Q 884.3 190.4, 885.3 190.4 Q 886.9 190.4, 887.7 189.4 Q 888.6 188.4, 888.7 186.2 Q 888.1 186.8, 887.3 187.0 Q 886.6 187.3, 885.8 187.3 Q 884.8 187.3, 884.1 186.9 Q 883.3 186.5, 882.8 185.7 Q 882.4 184.9, 882.4 183.9 Q 882.4 182.8, 882.9 181.9 Q 883.4 181.1, 884.3 180.6 Q 885.1 180.1, 886.2 180.1 M 884.0 183.9 Q 884.0 184.9, 884.6 185.5 Q 885.1 186.0, 886.1 186.0 Q 886.8 186.0, 887.5 185.8 Q 888.2 185.5, 888.7 185.0 Q 888.6 183.1, 888.0 182.3 Q 887.4 181.4, 886.2 181.4 Q 885.6 181.4, 885.1 181.8 Q 884.6 182.1, 884.3 182.6 Q 884.0 183.2, 884.0 183.9 \" fill=\"#000000\"/>\n",
       "<path class=\"legend\" d=\"M 897.3 181.5 L 891.4 181.5 L 891.4 180.2 L 898.9 180.2 L 898.9 181.4 L 894.3 191.6 L 892.8 191.6 L 897.3 181.5 \" fill=\"#000000\"/>\n",
       "</svg>"
      ],
      "text/plain": [
       "<IPython.core.display.SVG object>"
      ]
     },
     "execution_count": 218,
     "metadata": {},
     "output_type": "execute_result"
    }
   ],
   "source": [
    "# used in SI Figure 2b\n",
    "Draw.MolsToGridImage(outer_annot_search_only_library_merged.mol,subImgSize=(500,200), useSVG = False, maxMols=100,\n",
    "                    legends=legend_outer_annot_only)"
   ]
  }
 ],
 "metadata": {
  "kernelspec": {
   "display_name": "Python 3 (ipykernel)",
   "language": "python",
   "name": "python3"
  },
  "language_info": {
   "codemirror_mode": {
    "name": "ipython",
    "version": 3
   },
   "file_extension": ".py",
   "mimetype": "text/x-python",
   "name": "python",
   "nbconvert_exporter": "python",
   "pygments_lexer": "ipython3",
   "version": "3.10.5"
  }
 },
 "nbformat": 4,
 "nbformat_minor": 5
}
