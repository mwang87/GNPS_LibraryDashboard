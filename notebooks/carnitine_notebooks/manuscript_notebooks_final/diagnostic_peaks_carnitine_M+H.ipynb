{
 "cells": [
  {
   "cell_type": "markdown",
   "id": "0a3bd3ea-b561-41a6-8f33-038694a8d0b2",
   "metadata": {
    "tags": []
   },
   "source": [
    "## This notebook identifies **characteristic peaks** for **carnitine compounds**\n",
    "(original notebook content: v_boxplot_carnitines_M+H_for_manuscript.ipynb)\n",
    "\n",
    "---\n",
    "\n",
    "\n",
    "- Carnitines were determined by annotation described in **annotation_search_identify_carnitine.ipynb**\n",
    "- **output is a boxplot (and corresponding dataframes)** describing the characteristic peaks and their stats\n",
    "\n",
    "---\n",
    "\n",
    "### About the process\n",
    "The process for determining consistent patterns of fragmentation is as follows:\n",
    "\n",
    "1. MS/MS peaks are grouped in 0.01 M/Z bins to understand fragmentation patterns with higher peak precision\n",
    "2. Peaks attributed to noise are removed by isolating peaks above a normalized intensity of 0.05\n",
    "3. Minimum percent occurrence for peaks of interest (after removing noise) was specified to occur in at least 20% of the grouped spectra\n",
    "\n",
    "Final output summarizes the MS/MS peak intensity distribution represented by those peaks occurring at least 20% of the time.\n",
    "\n",
    "---\n",
    "## Notebook organization\n",
    "\n",
    "### Section 1: Reading input data\n",
    "- MS/MS peak data\n",
    "- carnitines (identified by annotation)-specific metadata in GNPS Library\n",
    "\n",
    "### Section 2: Matching peak data with metadata\n",
    "\n",
    "### Section 3: Investigate peak fragmentation\n",
    "- Make 0.01 M/Z bins\n",
    "- Define minimum intensity and percent occurrence parameters\n",
    "- Identify peaks that satisfy parameters\n",
    "\n",
    "### Section 4: Plotting"
   ]
  },
  {
   "cell_type": "markdown",
   "id": "e370522d-0381-4e7b-9dca-8dd663311b68",
   "metadata": {},
   "source": [
    "## Input files needed for the Notebook\n",
    "1. MS/MS peak data\n",
    "2. Dataframe output of carnitine metadata in GNPS Library from **annotation_search_identify_carnitine.ipynb**"
   ]
  },
  {
   "cell_type": "code",
   "execution_count": 1,
   "id": "93ca2956-4a4f-444b-aafa-ac35ba0c54a5",
   "metadata": {},
   "outputs": [],
   "source": [
    "import pandas as pd\n",
    "import plotly\n",
    "import plotly.express as px"
   ]
  },
  {
   "cell_type": "markdown",
   "id": "3c7fff4b-a985-45ba-9e6c-3f9d9ee33843",
   "metadata": {},
   "source": [
    "### Section 1: Read input data"
   ]
  },
  {
   "cell_type": "markdown",
   "id": "c350f46a-2ba1-4b25-9e1b-12b8f7d45b29",
   "metadata": {
    "tags": []
   },
   "source": [
    "#### Read peak data\n",
    "- from v_get_peaks_files.ipynb\n",
    "\n",
    "(Neededed to break into 5 parts due to file size)"
   ]
  },
  {
   "cell_type": "code",
   "execution_count": 2,
   "id": "23a5c49e-2aaf-41d1-873f-34eaaa11c557",
   "metadata": {},
   "outputs": [],
   "source": [
    "all_file_peaks_part_1 = pd.read_parquet('/home/jovyan/work/notebooks/outputs/all_file_peaks_part_1.gzip')"
   ]
  },
  {
   "cell_type": "code",
   "execution_count": 3,
   "id": "552393f0-25de-4866-8ff1-60f04fb39ec5",
   "metadata": {},
   "outputs": [],
   "source": [
    "all_file_peaks_part_2 = pd.read_parquet('/home/jovyan/work/notebooks/outputs/all_file_peaks_part_2.gzip')"
   ]
  },
  {
   "cell_type": "code",
   "execution_count": 4,
   "id": "7d133235-8025-479b-bf2d-37aaf092496a",
   "metadata": {},
   "outputs": [],
   "source": [
    "all_file_peaks_part_3 = pd.read_parquet('/home/jovyan/work/notebooks/outputs/all_file_peaks_part_3.gzip')"
   ]
  },
  {
   "cell_type": "code",
   "execution_count": 5,
   "id": "31670280-a1e1-48e6-b636-1e1d2008744d",
   "metadata": {},
   "outputs": [],
   "source": [
    "all_file_peaks_part_4 = pd.read_parquet('/home/jovyan/work/notebooks/outputs/all_file_peaks_part_4.gzip')"
   ]
  },
  {
   "cell_type": "code",
   "execution_count": 6,
   "id": "f8e6d2f1-5769-4a42-ba42-39a820f9e394",
   "metadata": {},
   "outputs": [],
   "source": [
    "all_file_peaks_part_5 = pd.read_parquet('/home/jovyan/work/notebooks/outputs/all_file_peaks_part_5.gzip')"
   ]
  },
  {
   "cell_type": "markdown",
   "id": "dc064d56-3a74-4424-9941-0ce129efb7b4",
   "metadata": {
    "tags": []
   },
   "source": [
    "#### Read carnitine metadata from GNPS Library\n",
    "- from annotation_search_identify_carnitine.ipynb"
   ]
  },
  {
   "cell_type": "code",
   "execution_count": 7,
   "id": "1050a4e9-18ce-4c48-bf85-1b6e91e9a4d2",
   "metadata": {},
   "outputs": [],
   "source": [
    "carnitine_table = pd.read_csv('/home/jovyan/work/notebooks/outputs/library_df_carnitine_case_insen_M+H.csv',sep=',', index_col='spectrum_id')"
   ]
  },
  {
   "cell_type": "code",
   "execution_count": 8,
   "id": "b09f6079-07e8-4ef9-b9bc-a50f391a1857",
   "metadata": {},
   "outputs": [],
   "source": [
    "# list of spectrum_id\n",
    "carnitine_table_ID = carnitine_table.index.to_list()"
   ]
  },
  {
   "cell_type": "markdown",
   "id": "c9962774-ba51-47bd-9eff-c6a303c2ee62",
   "metadata": {},
   "source": [
    "### Section 2: Matching peak data with metadata\n",
    "- Need to identify MS/MS peak data for spectra identified as carnitines in GNPS Library by annotation search"
   ]
  },
  {
   "cell_type": "code",
   "execution_count": 9,
   "id": "5a7c7cda-6115-4bb5-a280-01486b4a7739",
   "metadata": {},
   "outputs": [],
   "source": [
    "all_file_peaks_part_1_carnitine = all_file_peaks_part_1[all_file_peaks_part_1.index.isin(carnitine_table_ID)]"
   ]
  },
  {
   "cell_type": "code",
   "execution_count": 10,
   "id": "66ed6c04-905b-48ef-8b57-f3183415fa30",
   "metadata": {},
   "outputs": [],
   "source": [
    "all_file_peaks_part_2_carnitine = all_file_peaks_part_2[all_file_peaks_part_2.index.isin(carnitine_table_ID)]"
   ]
  },
  {
   "cell_type": "code",
   "execution_count": 11,
   "id": "908b03e1-5336-4925-9395-9f3bb6c04a63",
   "metadata": {},
   "outputs": [],
   "source": [
    "all_file_peaks_part_3_carnitine = all_file_peaks_part_3[all_file_peaks_part_3.index.isin(carnitine_table_ID)]"
   ]
  },
  {
   "cell_type": "code",
   "execution_count": 12,
   "id": "49c41771-41e3-4f52-bb08-5a0b585415bc",
   "metadata": {},
   "outputs": [],
   "source": [
    "all_file_peaks_part_4_carnitine = all_file_peaks_part_4[all_file_peaks_part_4.index.isin(carnitine_table_ID)]"
   ]
  },
  {
   "cell_type": "code",
   "execution_count": 13,
   "id": "9b1887ec-0ee4-4870-a3a2-56f1d8b5463e",
   "metadata": {},
   "outputs": [],
   "source": [
    "all_file_peaks_part_5_carnitine = all_file_peaks_part_5[all_file_peaks_part_5.index.isin(carnitine_table_ID)]"
   ]
  },
  {
   "cell_type": "code",
   "execution_count": 14,
   "id": "cc4ff627-9d6d-4e9e-a7d0-6057fcb969eb",
   "metadata": {},
   "outputs": [],
   "source": [
    "# Combine individual dataframes to make complete dataframe of all peak data associated with carnitines\n",
    "all_file_peaks_carnitine = pd.concat([all_file_peaks_part_1_carnitine, all_file_peaks_part_2_carnitine, all_file_peaks_part_3_carnitine,\n",
    "                                      all_file_peaks_part_4_carnitine, all_file_peaks_part_5_carnitine], axis=0)"
   ]
  },
  {
   "cell_type": "code",
   "execution_count": 15,
   "id": "13173277-0e96-4fc8-af59-72c2099fa8ee",
   "metadata": {},
   "outputs": [
    {
     "data": {
      "text/html": [
       "<div>\n",
       "<style scoped>\n",
       "    .dataframe tbody tr th:only-of-type {\n",
       "        vertical-align: middle;\n",
       "    }\n",
       "\n",
       "    .dataframe tbody tr th {\n",
       "        vertical-align: top;\n",
       "    }\n",
       "\n",
       "    .dataframe thead th {\n",
       "        text-align: right;\n",
       "    }\n",
       "</style>\n",
       "<table border=\"1\" class=\"dataframe\">\n",
       "  <thead>\n",
       "    <tr style=\"text-align: right;\">\n",
       "      <th></th>\n",
       "      <th>level_0</th>\n",
       "      <th>index</th>\n",
       "      <th>i</th>\n",
       "      <th>i_norm</th>\n",
       "      <th>i_tic_norm</th>\n",
       "      <th>mz</th>\n",
       "      <th>mz_nl</th>\n",
       "      <th>precmz</th>\n",
       "    </tr>\n",
       "    <tr>\n",
       "      <th>scan</th>\n",
       "      <th></th>\n",
       "      <th></th>\n",
       "      <th></th>\n",
       "      <th></th>\n",
       "      <th></th>\n",
       "      <th></th>\n",
       "      <th></th>\n",
       "      <th></th>\n",
       "    </tr>\n",
       "  </thead>\n",
       "  <tbody>\n",
       "    <tr>\n",
       "      <th>CCMSLIB00000216197</th>\n",
       "      <td>399442</td>\n",
       "      <td>0</td>\n",
       "      <td>2177.529053</td>\n",
       "      <td>0.056863</td>\n",
       "      <td>0.034625</td>\n",
       "      <td>73.961777</td>\n",
       "      <td>126.118223</td>\n",
       "      <td>200.080</td>\n",
       "    </tr>\n",
       "    <tr>\n",
       "      <th>CCMSLIB00000216197</th>\n",
       "      <td>399443</td>\n",
       "      <td>1</td>\n",
       "      <td>25.951593</td>\n",
       "      <td>0.000678</td>\n",
       "      <td>0.000413</td>\n",
       "      <td>74.977188</td>\n",
       "      <td>125.102812</td>\n",
       "      <td>200.080</td>\n",
       "    </tr>\n",
       "    <tr>\n",
       "      <th>CCMSLIB00000216197</th>\n",
       "      <td>399444</td>\n",
       "      <td>2</td>\n",
       "      <td>503.461060</td>\n",
       "      <td>0.013147</td>\n",
       "      <td>0.008006</td>\n",
       "      <td>84.048637</td>\n",
       "      <td>116.031363</td>\n",
       "      <td>200.080</td>\n",
       "    </tr>\n",
       "    <tr>\n",
       "      <th>CCMSLIB00000216197</th>\n",
       "      <td>399445</td>\n",
       "      <td>3</td>\n",
       "      <td>21725.027344</td>\n",
       "      <td>0.567317</td>\n",
       "      <td>0.345450</td>\n",
       "      <td>102.003937</td>\n",
       "      <td>98.076063</td>\n",
       "      <td>200.080</td>\n",
       "    </tr>\n",
       "    <tr>\n",
       "      <th>CCMSLIB00000216197</th>\n",
       "      <td>399446</td>\n",
       "      <td>4</td>\n",
       "      <td>37.872719</td>\n",
       "      <td>0.000989</td>\n",
       "      <td>0.000602</td>\n",
       "      <td>158.435135</td>\n",
       "      <td>41.644865</td>\n",
       "      <td>200.080</td>\n",
       "    </tr>\n",
       "    <tr>\n",
       "      <th>...</th>\n",
       "      <td>...</td>\n",
       "      <td>...</td>\n",
       "      <td>...</td>\n",
       "      <td>...</td>\n",
       "      <td>...</td>\n",
       "      <td>...</td>\n",
       "      <td>...</td>\n",
       "      <td>...</td>\n",
       "    </tr>\n",
       "    <tr>\n",
       "      <th>CCMSLIB00000221337</th>\n",
       "      <td>35834</td>\n",
       "      <td>3</td>\n",
       "      <td>473.000000</td>\n",
       "      <td>0.473473</td>\n",
       "      <td>0.229500</td>\n",
       "      <td>103.041199</td>\n",
       "      <td>59.071801</td>\n",
       "      <td>162.113</td>\n",
       "    </tr>\n",
       "    <tr>\n",
       "      <th>CCMSLIB00000221337</th>\n",
       "      <td>35835</td>\n",
       "      <td>4</td>\n",
       "      <td>999.000000</td>\n",
       "      <td>1.000000</td>\n",
       "      <td>0.484716</td>\n",
       "      <td>162.113007</td>\n",
       "      <td>-0.000007</td>\n",
       "      <td>162.113</td>\n",
       "    </tr>\n",
       "    <tr>\n",
       "      <th>CCMSLIB00000221529</th>\n",
       "      <td>36687</td>\n",
       "      <td>0</td>\n",
       "      <td>999.000000</td>\n",
       "      <td>1.000000</td>\n",
       "      <td>0.676371</td>\n",
       "      <td>85.029900</td>\n",
       "      <td>119.094100</td>\n",
       "      <td>204.124</td>\n",
       "    </tr>\n",
       "    <tr>\n",
       "      <th>CCMSLIB00000221529</th>\n",
       "      <td>36688</td>\n",
       "      <td>1</td>\n",
       "      <td>141.000000</td>\n",
       "      <td>0.141141</td>\n",
       "      <td>0.095464</td>\n",
       "      <td>145.053894</td>\n",
       "      <td>59.070106</td>\n",
       "      <td>204.124</td>\n",
       "    </tr>\n",
       "    <tr>\n",
       "      <th>CCMSLIB00000221529</th>\n",
       "      <td>36689</td>\n",
       "      <td>2</td>\n",
       "      <td>337.000000</td>\n",
       "      <td>0.337337</td>\n",
       "      <td>0.228165</td>\n",
       "      <td>204.123596</td>\n",
       "      <td>0.000404</td>\n",
       "      <td>204.124</td>\n",
       "    </tr>\n",
       "  </tbody>\n",
       "</table>\n",
       "<p>29166 rows × 8 columns</p>\n",
       "</div>"
      ],
      "text/plain": [
       "                    level_0  index             i    i_norm  i_tic_norm  \\\n",
       "scan                                                                     \n",
       "CCMSLIB00000216197   399442      0   2177.529053  0.056863    0.034625   \n",
       "CCMSLIB00000216197   399443      1     25.951593  0.000678    0.000413   \n",
       "CCMSLIB00000216197   399444      2    503.461060  0.013147    0.008006   \n",
       "CCMSLIB00000216197   399445      3  21725.027344  0.567317    0.345450   \n",
       "CCMSLIB00000216197   399446      4     37.872719  0.000989    0.000602   \n",
       "...                     ...    ...           ...       ...         ...   \n",
       "CCMSLIB00000221337    35834      3    473.000000  0.473473    0.229500   \n",
       "CCMSLIB00000221337    35835      4    999.000000  1.000000    0.484716   \n",
       "CCMSLIB00000221529    36687      0    999.000000  1.000000    0.676371   \n",
       "CCMSLIB00000221529    36688      1    141.000000  0.141141    0.095464   \n",
       "CCMSLIB00000221529    36689      2    337.000000  0.337337    0.228165   \n",
       "\n",
       "                            mz       mz_nl   precmz  \n",
       "scan                                                 \n",
       "CCMSLIB00000216197   73.961777  126.118223  200.080  \n",
       "CCMSLIB00000216197   74.977188  125.102812  200.080  \n",
       "CCMSLIB00000216197   84.048637  116.031363  200.080  \n",
       "CCMSLIB00000216197  102.003937   98.076063  200.080  \n",
       "CCMSLIB00000216197  158.435135   41.644865  200.080  \n",
       "...                        ...         ...      ...  \n",
       "CCMSLIB00000221337  103.041199   59.071801  162.113  \n",
       "CCMSLIB00000221337  162.113007   -0.000007  162.113  \n",
       "CCMSLIB00000221529   85.029900  119.094100  204.124  \n",
       "CCMSLIB00000221529  145.053894   59.070106  204.124  \n",
       "CCMSLIB00000221529  204.123596    0.000404  204.124  \n",
       "\n",
       "[29166 rows x 8 columns]"
      ]
     },
     "execution_count": 15,
     "metadata": {},
     "output_type": "execute_result"
    }
   ],
   "source": [
    "all_file_peaks_carnitine"
   ]
  },
  {
   "cell_type": "code",
   "execution_count": 16,
   "id": "8f15d6eb-7727-4678-8cd6-03c2b0bcad0a",
   "metadata": {},
   "outputs": [
    {
     "data": {
      "text/plain": [
       "387"
      ]
     },
     "execution_count": 16,
     "metadata": {},
     "output_type": "execute_result"
    }
   ],
   "source": [
    "# check that all spectrum_id are accounted for\n",
    "len(all_file_peaks_carnitine.index.unique().to_list())"
   ]
  },
  {
   "cell_type": "markdown",
   "id": "46d25425-8d2a-4cdc-9bdc-54d474d7168a",
   "metadata": {},
   "source": [
    "### Section 3: Investigate peak fragmentation"
   ]
  },
  {
   "cell_type": "code",
   "execution_count": 17,
   "id": "06db649a-676b-47b0-a9b3-0fa7e2780a5e",
   "metadata": {},
   "outputs": [],
   "source": [
    "# rename combined dataframe\n",
    "peak_df = all_file_peaks_carnitine"
   ]
  },
  {
   "cell_type": "code",
   "execution_count": 18,
   "id": "3ce6a9fb-1209-4f1b-b3a4-598e98753a4a",
   "metadata": {},
   "outputs": [],
   "source": [
    "# Identifying small bins of MZ values\n",
    "peak_df['mz_binned_small'] = peak_df['mz'].round(decimals = 2)\n",
    "unique_mz_binned = peak_df['mz_binned_small'].unique()"
   ]
  },
  {
   "cell_type": "code",
   "execution_count": 19,
   "id": "721ae7bf-547f-4ebc-9223-59b4c2f32ed7",
   "metadata": {},
   "outputs": [
    {
     "data": {
      "text/html": [
       "<div>\n",
       "<style scoped>\n",
       "    .dataframe tbody tr th:only-of-type {\n",
       "        vertical-align: middle;\n",
       "    }\n",
       "\n",
       "    .dataframe tbody tr th {\n",
       "        vertical-align: top;\n",
       "    }\n",
       "\n",
       "    .dataframe thead th {\n",
       "        text-align: right;\n",
       "    }\n",
       "</style>\n",
       "<table border=\"1\" class=\"dataframe\">\n",
       "  <thead>\n",
       "    <tr style=\"text-align: right;\">\n",
       "      <th></th>\n",
       "      <th>level_0</th>\n",
       "      <th>index</th>\n",
       "      <th>i</th>\n",
       "      <th>i_norm</th>\n",
       "      <th>i_tic_norm</th>\n",
       "      <th>mz</th>\n",
       "      <th>mz_nl</th>\n",
       "      <th>precmz</th>\n",
       "      <th>mz_binned_small</th>\n",
       "    </tr>\n",
       "    <tr>\n",
       "      <th>scan</th>\n",
       "      <th></th>\n",
       "      <th></th>\n",
       "      <th></th>\n",
       "      <th></th>\n",
       "      <th></th>\n",
       "      <th></th>\n",
       "      <th></th>\n",
       "      <th></th>\n",
       "      <th></th>\n",
       "    </tr>\n",
       "  </thead>\n",
       "  <tbody>\n",
       "    <tr>\n",
       "      <th>CCMSLIB00000216197</th>\n",
       "      <td>399442</td>\n",
       "      <td>0</td>\n",
       "      <td>2177.529053</td>\n",
       "      <td>0.056863</td>\n",
       "      <td>0.034625</td>\n",
       "      <td>73.961777</td>\n",
       "      <td>126.118223</td>\n",
       "      <td>200.08</td>\n",
       "      <td>73.96</td>\n",
       "    </tr>\n",
       "    <tr>\n",
       "      <th>CCMSLIB00000216197</th>\n",
       "      <td>399443</td>\n",
       "      <td>1</td>\n",
       "      <td>25.951593</td>\n",
       "      <td>0.000678</td>\n",
       "      <td>0.000413</td>\n",
       "      <td>74.977188</td>\n",
       "      <td>125.102812</td>\n",
       "      <td>200.08</td>\n",
       "      <td>74.98</td>\n",
       "    </tr>\n",
       "    <tr>\n",
       "      <th>CCMSLIB00000216197</th>\n",
       "      <td>399444</td>\n",
       "      <td>2</td>\n",
       "      <td>503.461060</td>\n",
       "      <td>0.013147</td>\n",
       "      <td>0.008006</td>\n",
       "      <td>84.048637</td>\n",
       "      <td>116.031363</td>\n",
       "      <td>200.08</td>\n",
       "      <td>84.05</td>\n",
       "    </tr>\n",
       "    <tr>\n",
       "      <th>CCMSLIB00000216197</th>\n",
       "      <td>399445</td>\n",
       "      <td>3</td>\n",
       "      <td>21725.027344</td>\n",
       "      <td>0.567317</td>\n",
       "      <td>0.345450</td>\n",
       "      <td>102.003937</td>\n",
       "      <td>98.076063</td>\n",
       "      <td>200.08</td>\n",
       "      <td>102.00</td>\n",
       "    </tr>\n",
       "    <tr>\n",
       "      <th>CCMSLIB00000216197</th>\n",
       "      <td>399446</td>\n",
       "      <td>4</td>\n",
       "      <td>37.872719</td>\n",
       "      <td>0.000989</td>\n",
       "      <td>0.000602</td>\n",
       "      <td>158.435135</td>\n",
       "      <td>41.644865</td>\n",
       "      <td>200.08</td>\n",
       "      <td>158.44</td>\n",
       "    </tr>\n",
       "  </tbody>\n",
       "</table>\n",
       "</div>"
      ],
      "text/plain": [
       "                    level_0  index             i    i_norm  i_tic_norm  \\\n",
       "scan                                                                     \n",
       "CCMSLIB00000216197   399442      0   2177.529053  0.056863    0.034625   \n",
       "CCMSLIB00000216197   399443      1     25.951593  0.000678    0.000413   \n",
       "CCMSLIB00000216197   399444      2    503.461060  0.013147    0.008006   \n",
       "CCMSLIB00000216197   399445      3  21725.027344  0.567317    0.345450   \n",
       "CCMSLIB00000216197   399446      4     37.872719  0.000989    0.000602   \n",
       "\n",
       "                            mz       mz_nl  precmz  mz_binned_small  \n",
       "scan                                                                 \n",
       "CCMSLIB00000216197   73.961777  126.118223  200.08            73.96  \n",
       "CCMSLIB00000216197   74.977188  125.102812  200.08            74.98  \n",
       "CCMSLIB00000216197   84.048637  116.031363  200.08            84.05  \n",
       "CCMSLIB00000216197  102.003937   98.076063  200.08           102.00  \n",
       "CCMSLIB00000216197  158.435135   41.644865  200.08           158.44  "
      ]
     },
     "execution_count": 19,
     "metadata": {},
     "output_type": "execute_result"
    }
   ],
   "source": [
    "peak_df.head(5)"
   ]
  },
  {
   "cell_type": "code",
   "execution_count": 20,
   "id": "8fbe6e43-7b4e-4637-bb8f-5175d97fa290",
   "metadata": {},
   "outputs": [],
   "source": [
    "# Defining parameters --> can be modified by user\n",
    "\n",
    "intensitynormmin  = 0.05\n",
    "percentoccurmin = 20"
   ]
  },
  {
   "cell_type": "code",
   "execution_count": 21,
   "id": "d5c2ac09-51a9-4972-933f-43e5a2ceb64e",
   "metadata": {},
   "outputs": [],
   "source": [
    "# identifying peaks that satisfy minimum normalized intensity parameter\n",
    "\n",
    "filtered_peak_df_i_norm = peak_df[peak_df[\"i_norm\"] >= intensitynormmin]"
   ]
  },
  {
   "cell_type": "code",
   "execution_count": 22,
   "id": "177419d6-7730-4a67-a392-7ea790ac756c",
   "metadata": {},
   "outputs": [],
   "source": [
    "# For counting percent occurrence of peaks above miniumum intensity\n",
    "occurs_above_intensitynormmin = {}\n",
    "\n",
    "# Total number of spectral IDs\n",
    "total_ids = len(peak_df.index.unique())\n",
    "\n",
    "for peak in unique_mz_binned:\n",
    "    mz_df_above_intensitynormmin = filtered_peak_df_i_norm.loc[(filtered_peak_df_i_norm['mz_binned_small'] == peak)]\n",
    "\n",
    "    # Number of spectra where peak occurs above miniumum intensity\n",
    "    peak_occurs_above_intensitynormmin = len(mz_df_above_intensitynormmin)\n",
    "\n",
    "    if peak_occurs_above_intensitynormmin/total_ids >= (percentoccurmin/100):\n",
    "        occurs_above_intensitynormmin[peak] = peak_occurs_above_intensitynormmin/total_ids"
   ]
  },
  {
   "cell_type": "code",
   "execution_count": 23,
   "id": "8d10dea8-0bfd-4a28-b9d6-d334488c1218",
   "metadata": {},
   "outputs": [],
   "source": [
    "# Filtering to only include peaks that are present in at least 20% of the scans\n",
    "filtered_peak_df = filtered_peak_df_i_norm[filtered_peak_df_i_norm[\"mz_binned_small\"].isin(occurs_above_intensitynormmin.keys())]"
   ]
  },
  {
   "cell_type": "code",
   "execution_count": 24,
   "id": "0b17950b-cfb6-4577-9bec-01de8f507144",
   "metadata": {},
   "outputs": [
    {
     "data": {
      "text/html": [
       "<div>\n",
       "<style scoped>\n",
       "    .dataframe tbody tr th:only-of-type {\n",
       "        vertical-align: middle;\n",
       "    }\n",
       "\n",
       "    .dataframe tbody tr th {\n",
       "        vertical-align: top;\n",
       "    }\n",
       "\n",
       "    .dataframe thead th {\n",
       "        text-align: right;\n",
       "    }\n",
       "</style>\n",
       "<table border=\"1\" class=\"dataframe\">\n",
       "  <thead>\n",
       "    <tr style=\"text-align: right;\">\n",
       "      <th></th>\n",
       "      <th>level_0</th>\n",
       "      <th>index</th>\n",
       "      <th>i</th>\n",
       "      <th>i_norm</th>\n",
       "      <th>i_tic_norm</th>\n",
       "      <th>mz</th>\n",
       "      <th>mz_nl</th>\n",
       "      <th>precmz</th>\n",
       "      <th>mz_binned_small</th>\n",
       "    </tr>\n",
       "    <tr>\n",
       "      <th>scan</th>\n",
       "      <th></th>\n",
       "      <th></th>\n",
       "      <th></th>\n",
       "      <th></th>\n",
       "      <th></th>\n",
       "      <th></th>\n",
       "      <th></th>\n",
       "      <th></th>\n",
       "      <th></th>\n",
       "    </tr>\n",
       "  </thead>\n",
       "  <tbody>\n",
       "    <tr>\n",
       "      <th>CCMSLIB00000577974</th>\n",
       "      <td>8496</td>\n",
       "      <td>3</td>\n",
       "      <td>5.706804e+06</td>\n",
       "      <td>0.284907</td>\n",
       "      <td>0.151077</td>\n",
       "      <td>60.081528</td>\n",
       "      <td>86.038472</td>\n",
       "      <td>146.120</td>\n",
       "      <td>60.08</td>\n",
       "    </tr>\n",
       "    <tr>\n",
       "      <th>CCMSLIB00000577982</th>\n",
       "      <td>9113</td>\n",
       "      <td>6</td>\n",
       "      <td>5.514857e+06</td>\n",
       "      <td>0.107815</td>\n",
       "      <td>0.081476</td>\n",
       "      <td>60.081532</td>\n",
       "      <td>102.028468</td>\n",
       "      <td>162.110</td>\n",
       "      <td>60.08</td>\n",
       "    </tr>\n",
       "    <tr>\n",
       "      <th>CCMSLIB00000577990</th>\n",
       "      <td>9792</td>\n",
       "      <td>13</td>\n",
       "      <td>3.082949e+07</td>\n",
       "      <td>0.105989</td>\n",
       "      <td>0.077327</td>\n",
       "      <td>60.081486</td>\n",
       "      <td>284.198514</td>\n",
       "      <td>344.280</td>\n",
       "      <td>60.08</td>\n",
       "    </tr>\n",
       "    <tr>\n",
       "      <th>CCMSLIB00000577990</th>\n",
       "      <td>9806</td>\n",
       "      <td>27</td>\n",
       "      <td>2.908738e+08</td>\n",
       "      <td>1.000000</td>\n",
       "      <td>0.729578</td>\n",
       "      <td>85.028687</td>\n",
       "      <td>259.251313</td>\n",
       "      <td>344.280</td>\n",
       "      <td>85.03</td>\n",
       "    </tr>\n",
       "    <tr>\n",
       "      <th>CCMSLIB00003134527</th>\n",
       "      <td>5818</td>\n",
       "      <td>3</td>\n",
       "      <td>5.757238e+05</td>\n",
       "      <td>1.000000</td>\n",
       "      <td>0.561997</td>\n",
       "      <td>85.028221</td>\n",
       "      <td>259.250779</td>\n",
       "      <td>344.279</td>\n",
       "      <td>85.03</td>\n",
       "    </tr>\n",
       "    <tr>\n",
       "      <th>...</th>\n",
       "      <td>...</td>\n",
       "      <td>...</td>\n",
       "      <td>...</td>\n",
       "      <td>...</td>\n",
       "      <td>...</td>\n",
       "      <td>...</td>\n",
       "      <td>...</td>\n",
       "      <td>...</td>\n",
       "      <td>...</td>\n",
       "    </tr>\n",
       "    <tr>\n",
       "      <th>CCMSLIB00000221015</th>\n",
       "      <td>34821</td>\n",
       "      <td>3</td>\n",
       "      <td>3.950000e+02</td>\n",
       "      <td>0.395395</td>\n",
       "      <td>0.124606</td>\n",
       "      <td>60.081902</td>\n",
       "      <td>102.031098</td>\n",
       "      <td>162.113</td>\n",
       "      <td>60.08</td>\n",
       "    </tr>\n",
       "    <tr>\n",
       "      <th>CCMSLIB00000221015</th>\n",
       "      <td>34823</td>\n",
       "      <td>5</td>\n",
       "      <td>9.990000e+02</td>\n",
       "      <td>1.000000</td>\n",
       "      <td>0.315142</td>\n",
       "      <td>85.028702</td>\n",
       "      <td>77.084298</td>\n",
       "      <td>162.113</td>\n",
       "      <td>85.03</td>\n",
       "    </tr>\n",
       "    <tr>\n",
       "      <th>CCMSLIB00000221337</th>\n",
       "      <td>35831</td>\n",
       "      <td>0</td>\n",
       "      <td>1.320000e+02</td>\n",
       "      <td>0.132132</td>\n",
       "      <td>0.064047</td>\n",
       "      <td>60.082901</td>\n",
       "      <td>102.030099</td>\n",
       "      <td>162.113</td>\n",
       "      <td>60.08</td>\n",
       "    </tr>\n",
       "    <tr>\n",
       "      <th>CCMSLIB00000221337</th>\n",
       "      <td>35832</td>\n",
       "      <td>1</td>\n",
       "      <td>2.600000e+02</td>\n",
       "      <td>0.260260</td>\n",
       "      <td>0.126152</td>\n",
       "      <td>85.030602</td>\n",
       "      <td>77.082398</td>\n",
       "      <td>162.113</td>\n",
       "      <td>85.03</td>\n",
       "    </tr>\n",
       "    <tr>\n",
       "      <th>CCMSLIB00000221529</th>\n",
       "      <td>36687</td>\n",
       "      <td>0</td>\n",
       "      <td>9.990000e+02</td>\n",
       "      <td>1.000000</td>\n",
       "      <td>0.676371</td>\n",
       "      <td>85.029900</td>\n",
       "      <td>119.094100</td>\n",
       "      <td>204.124</td>\n",
       "      <td>85.03</td>\n",
       "    </tr>\n",
       "  </tbody>\n",
       "</table>\n",
       "<p>409 rows × 9 columns</p>\n",
       "</div>"
      ],
      "text/plain": [
       "                    level_0  index             i    i_norm  i_tic_norm  \\\n",
       "scan                                                                     \n",
       "CCMSLIB00000577974     8496      3  5.706804e+06  0.284907    0.151077   \n",
       "CCMSLIB00000577982     9113      6  5.514857e+06  0.107815    0.081476   \n",
       "CCMSLIB00000577990     9792     13  3.082949e+07  0.105989    0.077327   \n",
       "CCMSLIB00000577990     9806     27  2.908738e+08  1.000000    0.729578   \n",
       "CCMSLIB00003134527     5818      3  5.757238e+05  1.000000    0.561997   \n",
       "...                     ...    ...           ...       ...         ...   \n",
       "CCMSLIB00000221015    34821      3  3.950000e+02  0.395395    0.124606   \n",
       "CCMSLIB00000221015    34823      5  9.990000e+02  1.000000    0.315142   \n",
       "CCMSLIB00000221337    35831      0  1.320000e+02  0.132132    0.064047   \n",
       "CCMSLIB00000221337    35832      1  2.600000e+02  0.260260    0.126152   \n",
       "CCMSLIB00000221529    36687      0  9.990000e+02  1.000000    0.676371   \n",
       "\n",
       "                           mz       mz_nl   precmz  mz_binned_small  \n",
       "scan                                                                 \n",
       "CCMSLIB00000577974  60.081528   86.038472  146.120            60.08  \n",
       "CCMSLIB00000577982  60.081532  102.028468  162.110            60.08  \n",
       "CCMSLIB00000577990  60.081486  284.198514  344.280            60.08  \n",
       "CCMSLIB00000577990  85.028687  259.251313  344.280            85.03  \n",
       "CCMSLIB00003134527  85.028221  259.250779  344.279            85.03  \n",
       "...                       ...         ...      ...              ...  \n",
       "CCMSLIB00000221015  60.081902  102.031098  162.113            60.08  \n",
       "CCMSLIB00000221015  85.028702   77.084298  162.113            85.03  \n",
       "CCMSLIB00000221337  60.082901  102.030099  162.113            60.08  \n",
       "CCMSLIB00000221337  85.030602   77.082398  162.113            85.03  \n",
       "CCMSLIB00000221529  85.029900  119.094100  204.124            85.03  \n",
       "\n",
       "[409 rows x 9 columns]"
      ]
     },
     "execution_count": 24,
     "metadata": {},
     "output_type": "execute_result"
    }
   ],
   "source": [
    "filtered_peak_df"
   ]
  },
  {
   "cell_type": "code",
   "execution_count": 25,
   "id": "3180e15d-c896-4620-a0cc-6220d827d264",
   "metadata": {},
   "outputs": [],
   "source": [
    "# reshaping and renaming\n",
    "peak_ratio_df = pd.DataFrame.from_dict(occurs_above_intensitynormmin, orient='index')\n",
    "peak_ratio_df.index.name = 'mz_binned_small'\n",
    "peak_ratio_df = peak_ratio_df.rename(columns={0: \"percent_occurrence\"})"
   ]
  },
  {
   "cell_type": "code",
   "execution_count": 26,
   "id": "caa76d2c-dff3-4ab9-b78c-39c0bfe3d43c",
   "metadata": {},
   "outputs": [
    {
     "data": {
      "text/html": [
       "<div>\n",
       "<style scoped>\n",
       "    .dataframe tbody tr th:only-of-type {\n",
       "        vertical-align: middle;\n",
       "    }\n",
       "\n",
       "    .dataframe tbody tr th {\n",
       "        vertical-align: top;\n",
       "    }\n",
       "\n",
       "    .dataframe thead th {\n",
       "        text-align: right;\n",
       "    }\n",
       "</style>\n",
       "<table border=\"1\" class=\"dataframe\">\n",
       "  <thead>\n",
       "    <tr style=\"text-align: right;\">\n",
       "      <th></th>\n",
       "      <th>percent_occurrence</th>\n",
       "    </tr>\n",
       "    <tr>\n",
       "      <th>mz_binned_small</th>\n",
       "      <th></th>\n",
       "    </tr>\n",
       "  </thead>\n",
       "  <tbody>\n",
       "    <tr>\n",
       "      <th>60.08</th>\n",
       "      <td>0.475452</td>\n",
       "    </tr>\n",
       "    <tr>\n",
       "      <th>85.03</th>\n",
       "      <td>0.581395</td>\n",
       "    </tr>\n",
       "  </tbody>\n",
       "</table>\n",
       "</div>"
      ],
      "text/plain": [
       "                 percent_occurrence\n",
       "mz_binned_small                    \n",
       "60.08                      0.475452\n",
       "85.03                      0.581395"
      ]
     },
     "execution_count": 26,
     "metadata": {},
     "output_type": "execute_result"
    }
   ],
   "source": [
    "# visualize peaks by percent occurrence\n",
    "peak_ratio_df"
   ]
  },
  {
   "cell_type": "markdown",
   "id": "0c3c4667-be87-4260-8e00-3aff3a7220b0",
   "metadata": {},
   "source": [
    "### Section 4: Plotting"
   ]
  },
  {
   "cell_type": "code",
   "execution_count": null,
   "id": "3973b9c6-85a0-48bb-a48c-7713e9530262",
   "metadata": {},
   "outputs": [],
   "source": [
    "with open('/home/jovyan/work/notebooks/outputs/output_box_peak_carnitine_M+H_df.html', 'w') as f:\n",
    "\n",
    "        ax = px.box(filtered_peak_df, x='mz_binned_small',y = 'i_norm')\n",
    "\n",
    "        # Use hidden line below to graph ratio of MISSING peaks\n",
    "        #ax.add_bar(x=peak_ratio_df.index, y=-peak_ratio_df[\"ratio of missing peaks\"], name = \"ratio of spectra with missing peaks\")\n",
    "        \n",
    "        ax.add_bar(x=peak_ratio_df.index, y=-peak_ratio_df[\"percent_occurrence\"], name = \"ratio of spectra where at least \" + str(percentoccurmin)+\"% contain peak\")\n",
    "        \n",
    "        ax.update_layout(title_text=\"MS/MS Peak Intensity Distribution for \" +\"Carnitines\")\n",
    "        \n",
    "        f.write(ax.to_html(full_html=False, include_plotlyjs='cdn'))"
   ]
  },
  {
   "cell_type": "markdown",
   "id": "7ebf7d97-14c1-4c42-abe4-5114f0ff5c96",
   "metadata": {
    "tags": []
   },
   "source": [
    "### Save files"
   ]
  },
  {
   "cell_type": "code",
   "execution_count": 30,
   "id": "c9ec67d4-a632-4049-b19b-f449612af830",
   "metadata": {},
   "outputs": [],
   "source": [
    "filtered_peak_df.reset_index().to_csv(\n",
    "    '/home/jovyan/work/notebooks/carnitine_notebooks/files_for_boxplot/filtered_peak_df_carnitines_M+H.csv', sep=',', index=False)"
   ]
  },
  {
   "cell_type": "code",
   "execution_count": 33,
   "id": "32ba4d6e-0557-4398-ac33-e2271916d62b",
   "metadata": {},
   "outputs": [],
   "source": [
    "peak_ratio_df.reset_index().to_csv(\n",
    "    '/home/jovyan/work/notebooks/carnitine_notebooks/files_for_boxplot/peak_ratio_df_carnitines_M+H.csv', sep=',', index=False)"
   ]
  }
 ],
 "metadata": {
  "kernelspec": {
   "display_name": "Python 3 (ipykernel)",
   "language": "python",
   "name": "python3"
  },
  "language_info": {
   "codemirror_mode": {
    "name": "ipython",
    "version": 3
   },
   "file_extension": ".py",
   "mimetype": "text/x-python",
   "name": "python",
   "nbconvert_exporter": "python",
   "pygments_lexer": "ipython3",
   "version": "3.10.5"
  }
 },
 "nbformat": 4,
 "nbformat_minor": 5
}
