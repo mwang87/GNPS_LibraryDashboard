{
 "cells": [
  {
   "cell_type": "markdown",
   "id": "f510dce8-29f0-4b09-865c-6cb66893a7ec",
   "metadata": {},
   "source": [
    "## notebook identifies consistent neutral loss for carnitine compounds\n",
    "\n",
    "- carnitines determined by annotation description\n",
    "- output is a boxplot describing the characteristic neutral loss and their stats\n",
    "\n",
    "v_boxplot_carnitines_M+H_neutral_loss_for_manuscript.ipynb"
   ]
  },
  {
   "cell_type": "markdown",
   "id": "2e4a194c-6fb0-48b1-9cc7-9daf297f9bdc",
   "metadata": {
    "tags": []
   },
   "source": [
    "## This notebook identifies **consistent neutral loss** for **carnitine compounds**\n",
    "(original notebook content: v_boxplot_carnitines_M+H_neutral_loss_for_manuscript.ipynb)\n",
    "\n",
    "---\n",
    "\n",
    "- Carnitines were determined by annotation described in **annotation_search_identify_carnitine.ipynb**\n",
    "- **output are dataframes** describing the characteristic neutral loss and their stats\n",
    "\n",
    "---\n",
    "\n",
    "### About the process\n",
    "The process for determining consistent neutral loss is as follows:\n",
    "\n",
    "1. M/Z neutral loss values are grouped in 0.01 M/Z bins\n",
    "2. Peaks attributed to noise are removed by isolating peaks above a normalized intensity of 0.05\n",
    "3. Minimum percent occurrence for neutral loss of interest (after removing noise) was specified to occur in at least 20% of the grouped spectra\n",
    "\n",
    "Final output summarizes consistent neutral losses occurring at least 20% of the time.\n",
    "\n",
    "---\n",
    "## Notebook organization\n",
    "\n",
    "### Section 1: Reading input data\n",
    "- MS/MS peak data\n",
    "- carnitines (identified by annotation)-specific metadata in GNPS Library\n",
    "\n",
    "### Section 2: Matching peak data with metadata\n",
    "\n",
    "### Section 3: Investigate neutral loss\n",
    "- Make 0.01 M/Z neutral loss bins\n",
    "- Define minimum intensity and percent occurrence parameters\n",
    "- Identify peaks that satisfy parameters"
   ]
  },
  {
   "cell_type": "markdown",
   "id": "c0550358-35f2-40e7-a498-22536bd3f7ac",
   "metadata": {},
   "source": [
    "## Input files needed for the Notebook\n",
    "1. MS/MS peak data\n",
    "2. Dataframe output of dihydroxy-BA metadata in GNPS Library from **substructure_search_identify_di_BA.ipynb**"
   ]
  },
  {
   "cell_type": "code",
   "execution_count": 1,
   "id": "a8883105-f318-4cfb-8fcc-a7603125be90",
   "metadata": {},
   "outputs": [],
   "source": [
    "import pandas as pd\n",
    "import plotly\n",
    "import plotly.express as px"
   ]
  },
  {
   "cell_type": "markdown",
   "id": "21593df7-c12f-4415-83a3-a4ac53dfb6a9",
   "metadata": {},
   "source": [
    "### Section 1: Read input data"
   ]
  },
  {
   "cell_type": "markdown",
   "id": "60444085-f263-4d59-876f-f2e196560144",
   "metadata": {
    "tags": []
   },
   "source": [
    "#### Read peak data\n",
    "- from v_get_peaks_files.ipynb\n",
    "\n",
    "(Neededed to break into 5 parts due to file size)"
   ]
  },
  {
   "cell_type": "code",
   "execution_count": 2,
   "id": "034f29fc-f9b6-4bd1-b38e-8aebe20e35b3",
   "metadata": {},
   "outputs": [],
   "source": [
    "all_file_peaks_part_1 = pd.read_parquet('/home/jovyan/work/notebooks/outputs/all_file_peaks_part_1.gzip')"
   ]
  },
  {
   "cell_type": "code",
   "execution_count": 3,
   "id": "f4609da7-20f2-4105-8057-31a717bda5b8",
   "metadata": {},
   "outputs": [],
   "source": [
    "all_file_peaks_part_2 = pd.read_parquet('/home/jovyan/work/notebooks/outputs/all_file_peaks_part_2.gzip')"
   ]
  },
  {
   "cell_type": "code",
   "execution_count": 4,
   "id": "94641195-05b6-4f3a-b864-f71ad166b2a5",
   "metadata": {},
   "outputs": [],
   "source": [
    "all_file_peaks_part_3 = pd.read_parquet('/home/jovyan/work/notebooks/outputs/all_file_peaks_part_3.gzip')"
   ]
  },
  {
   "cell_type": "code",
   "execution_count": 5,
   "id": "b0611c44-e260-417e-a98b-0b549189c22b",
   "metadata": {},
   "outputs": [],
   "source": [
    "all_file_peaks_part_4 = pd.read_parquet('/home/jovyan/work/notebooks/outputs/all_file_peaks_part_4.gzip')"
   ]
  },
  {
   "cell_type": "code",
   "execution_count": 6,
   "id": "94b09f47-bb44-475d-885c-f260bfba5253",
   "metadata": {},
   "outputs": [],
   "source": [
    "all_file_peaks_part_5 = pd.read_parquet('/home/jovyan/work/notebooks/outputs/all_file_peaks_part_5.gzip')"
   ]
  },
  {
   "cell_type": "markdown",
   "id": "1df435af-9727-4827-8bee-a90ff3c361cc",
   "metadata": {
    "tags": []
   },
   "source": [
    "#### Read carnitine metadata from GNPS Library\n",
    "- from annotation_search_identify_carnitine.ipynb"
   ]
  },
  {
   "cell_type": "code",
   "execution_count": 7,
   "id": "1050a4e9-18ce-4c48-bf85-1b6e91e9a4d2",
   "metadata": {},
   "outputs": [],
   "source": [
    "carnitine_table = pd.read_csv('/home/jovyan/work/notebooks/outputs/library_df_carnitine_case_insen_M+H.csv',sep=',', index_col='spectrum_id')"
   ]
  },
  {
   "cell_type": "code",
   "execution_count": 8,
   "id": "b09f6079-07e8-4ef9-b9bc-a50f391a1857",
   "metadata": {},
   "outputs": [],
   "source": [
    "# list of spectrum_id\n",
    "carnitine_table_ID = carnitine_table.index.to_list()"
   ]
  },
  {
   "cell_type": "markdown",
   "id": "899578d3-b051-4558-8257-db7de4a05e82",
   "metadata": {},
   "source": [
    "### Section 2: Matching peak data with metadata\n",
    "- Need to identify MS/MS peak data for spectra identified as dihydroxy bile acids in GNPS Library by substructure search"
   ]
  },
  {
   "cell_type": "code",
   "execution_count": 11,
   "id": "5a7c7cda-6115-4bb5-a280-01486b4a7739",
   "metadata": {},
   "outputs": [],
   "source": [
    "all_file_peaks_part_1_carnitine = all_file_peaks_part_1[all_file_peaks_part_1.index.isin(carnitine_table_ID)]"
   ]
  },
  {
   "cell_type": "code",
   "execution_count": 12,
   "id": "66ed6c04-905b-48ef-8b57-f3183415fa30",
   "metadata": {},
   "outputs": [],
   "source": [
    "all_file_peaks_part_2_carnitine = all_file_peaks_part_2[all_file_peaks_part_2.index.isin(carnitine_table_ID)]"
   ]
  },
  {
   "cell_type": "code",
   "execution_count": 13,
   "id": "908b03e1-5336-4925-9395-9f3bb6c04a63",
   "metadata": {},
   "outputs": [],
   "source": [
    "all_file_peaks_part_3_carnitine = all_file_peaks_part_3[all_file_peaks_part_3.index.isin(carnitine_table_ID)]"
   ]
  },
  {
   "cell_type": "code",
   "execution_count": 14,
   "id": "49c41771-41e3-4f52-bb08-5a0b585415bc",
   "metadata": {},
   "outputs": [],
   "source": [
    "all_file_peaks_part_4_carnitine = all_file_peaks_part_4[all_file_peaks_part_4.index.isin(carnitine_table_ID)]"
   ]
  },
  {
   "cell_type": "code",
   "execution_count": 15,
   "id": "9b1887ec-0ee4-4870-a3a2-56f1d8b5463e",
   "metadata": {},
   "outputs": [],
   "source": [
    "all_file_peaks_part_5_carnitine = all_file_peaks_part_5[all_file_peaks_part_5.index.isin(carnitine_table_ID)]"
   ]
  },
  {
   "cell_type": "code",
   "execution_count": 16,
   "id": "cc4ff627-9d6d-4e9e-a7d0-6057fcb969eb",
   "metadata": {},
   "outputs": [],
   "source": [
    "# Combine individual dataframes to make complete dataframe of all peak data associated with carnitines\n",
    "all_file_peaks_carnitine = pd.concat([all_file_peaks_part_1_carnitine, all_file_peaks_part_2_carnitine, all_file_peaks_part_3_carnitine,\n",
    "                                      all_file_peaks_part_4_carnitine, all_file_peaks_part_5_carnitine], axis=0)"
   ]
  },
  {
   "cell_type": "code",
   "execution_count": 17,
   "id": "13173277-0e96-4fc8-af59-72c2099fa8ee",
   "metadata": {},
   "outputs": [
    {
     "data": {
      "text/html": [
       "<div>\n",
       "<style scoped>\n",
       "    .dataframe tbody tr th:only-of-type {\n",
       "        vertical-align: middle;\n",
       "    }\n",
       "\n",
       "    .dataframe tbody tr th {\n",
       "        vertical-align: top;\n",
       "    }\n",
       "\n",
       "    .dataframe thead th {\n",
       "        text-align: right;\n",
       "    }\n",
       "</style>\n",
       "<table border=\"1\" class=\"dataframe\">\n",
       "  <thead>\n",
       "    <tr style=\"text-align: right;\">\n",
       "      <th></th>\n",
       "      <th>level_0</th>\n",
       "      <th>index</th>\n",
       "      <th>i</th>\n",
       "      <th>i_norm</th>\n",
       "      <th>i_tic_norm</th>\n",
       "      <th>mz</th>\n",
       "      <th>mz_nl</th>\n",
       "      <th>precmz</th>\n",
       "    </tr>\n",
       "    <tr>\n",
       "      <th>scan</th>\n",
       "      <th></th>\n",
       "      <th></th>\n",
       "      <th></th>\n",
       "      <th></th>\n",
       "      <th></th>\n",
       "      <th></th>\n",
       "      <th></th>\n",
       "      <th></th>\n",
       "    </tr>\n",
       "  </thead>\n",
       "  <tbody>\n",
       "    <tr>\n",
       "      <th>CCMSLIB00000216197</th>\n",
       "      <td>399442</td>\n",
       "      <td>0</td>\n",
       "      <td>2177.529053</td>\n",
       "      <td>0.056863</td>\n",
       "      <td>0.034625</td>\n",
       "      <td>73.961777</td>\n",
       "      <td>126.118223</td>\n",
       "      <td>200.080</td>\n",
       "    </tr>\n",
       "    <tr>\n",
       "      <th>CCMSLIB00000216197</th>\n",
       "      <td>399443</td>\n",
       "      <td>1</td>\n",
       "      <td>25.951593</td>\n",
       "      <td>0.000678</td>\n",
       "      <td>0.000413</td>\n",
       "      <td>74.977188</td>\n",
       "      <td>125.102812</td>\n",
       "      <td>200.080</td>\n",
       "    </tr>\n",
       "    <tr>\n",
       "      <th>CCMSLIB00000216197</th>\n",
       "      <td>399444</td>\n",
       "      <td>2</td>\n",
       "      <td>503.461060</td>\n",
       "      <td>0.013147</td>\n",
       "      <td>0.008006</td>\n",
       "      <td>84.048637</td>\n",
       "      <td>116.031363</td>\n",
       "      <td>200.080</td>\n",
       "    </tr>\n",
       "    <tr>\n",
       "      <th>CCMSLIB00000216197</th>\n",
       "      <td>399445</td>\n",
       "      <td>3</td>\n",
       "      <td>21725.027344</td>\n",
       "      <td>0.567317</td>\n",
       "      <td>0.345450</td>\n",
       "      <td>102.003937</td>\n",
       "      <td>98.076063</td>\n",
       "      <td>200.080</td>\n",
       "    </tr>\n",
       "    <tr>\n",
       "      <th>CCMSLIB00000216197</th>\n",
       "      <td>399446</td>\n",
       "      <td>4</td>\n",
       "      <td>37.872719</td>\n",
       "      <td>0.000989</td>\n",
       "      <td>0.000602</td>\n",
       "      <td>158.435135</td>\n",
       "      <td>41.644865</td>\n",
       "      <td>200.080</td>\n",
       "    </tr>\n",
       "    <tr>\n",
       "      <th>...</th>\n",
       "      <td>...</td>\n",
       "      <td>...</td>\n",
       "      <td>...</td>\n",
       "      <td>...</td>\n",
       "      <td>...</td>\n",
       "      <td>...</td>\n",
       "      <td>...</td>\n",
       "      <td>...</td>\n",
       "    </tr>\n",
       "    <tr>\n",
       "      <th>CCMSLIB00000221337</th>\n",
       "      <td>35834</td>\n",
       "      <td>3</td>\n",
       "      <td>473.000000</td>\n",
       "      <td>0.473473</td>\n",
       "      <td>0.229500</td>\n",
       "      <td>103.041199</td>\n",
       "      <td>59.071801</td>\n",
       "      <td>162.113</td>\n",
       "    </tr>\n",
       "    <tr>\n",
       "      <th>CCMSLIB00000221337</th>\n",
       "      <td>35835</td>\n",
       "      <td>4</td>\n",
       "      <td>999.000000</td>\n",
       "      <td>1.000000</td>\n",
       "      <td>0.484716</td>\n",
       "      <td>162.113007</td>\n",
       "      <td>-0.000007</td>\n",
       "      <td>162.113</td>\n",
       "    </tr>\n",
       "    <tr>\n",
       "      <th>CCMSLIB00000221529</th>\n",
       "      <td>36687</td>\n",
       "      <td>0</td>\n",
       "      <td>999.000000</td>\n",
       "      <td>1.000000</td>\n",
       "      <td>0.676371</td>\n",
       "      <td>85.029900</td>\n",
       "      <td>119.094100</td>\n",
       "      <td>204.124</td>\n",
       "    </tr>\n",
       "    <tr>\n",
       "      <th>CCMSLIB00000221529</th>\n",
       "      <td>36688</td>\n",
       "      <td>1</td>\n",
       "      <td>141.000000</td>\n",
       "      <td>0.141141</td>\n",
       "      <td>0.095464</td>\n",
       "      <td>145.053894</td>\n",
       "      <td>59.070106</td>\n",
       "      <td>204.124</td>\n",
       "    </tr>\n",
       "    <tr>\n",
       "      <th>CCMSLIB00000221529</th>\n",
       "      <td>36689</td>\n",
       "      <td>2</td>\n",
       "      <td>337.000000</td>\n",
       "      <td>0.337337</td>\n",
       "      <td>0.228165</td>\n",
       "      <td>204.123596</td>\n",
       "      <td>0.000404</td>\n",
       "      <td>204.124</td>\n",
       "    </tr>\n",
       "  </tbody>\n",
       "</table>\n",
       "<p>29166 rows × 8 columns</p>\n",
       "</div>"
      ],
      "text/plain": [
       "                    level_0  index             i    i_norm  i_tic_norm  \\\n",
       "scan                                                                     \n",
       "CCMSLIB00000216197   399442      0   2177.529053  0.056863    0.034625   \n",
       "CCMSLIB00000216197   399443      1     25.951593  0.000678    0.000413   \n",
       "CCMSLIB00000216197   399444      2    503.461060  0.013147    0.008006   \n",
       "CCMSLIB00000216197   399445      3  21725.027344  0.567317    0.345450   \n",
       "CCMSLIB00000216197   399446      4     37.872719  0.000989    0.000602   \n",
       "...                     ...    ...           ...       ...         ...   \n",
       "CCMSLIB00000221337    35834      3    473.000000  0.473473    0.229500   \n",
       "CCMSLIB00000221337    35835      4    999.000000  1.000000    0.484716   \n",
       "CCMSLIB00000221529    36687      0    999.000000  1.000000    0.676371   \n",
       "CCMSLIB00000221529    36688      1    141.000000  0.141141    0.095464   \n",
       "CCMSLIB00000221529    36689      2    337.000000  0.337337    0.228165   \n",
       "\n",
       "                            mz       mz_nl   precmz  \n",
       "scan                                                 \n",
       "CCMSLIB00000216197   73.961777  126.118223  200.080  \n",
       "CCMSLIB00000216197   74.977188  125.102812  200.080  \n",
       "CCMSLIB00000216197   84.048637  116.031363  200.080  \n",
       "CCMSLIB00000216197  102.003937   98.076063  200.080  \n",
       "CCMSLIB00000216197  158.435135   41.644865  200.080  \n",
       "...                        ...         ...      ...  \n",
       "CCMSLIB00000221337  103.041199   59.071801  162.113  \n",
       "CCMSLIB00000221337  162.113007   -0.000007  162.113  \n",
       "CCMSLIB00000221529   85.029900  119.094100  204.124  \n",
       "CCMSLIB00000221529  145.053894   59.070106  204.124  \n",
       "CCMSLIB00000221529  204.123596    0.000404  204.124  \n",
       "\n",
       "[29166 rows x 8 columns]"
      ]
     },
     "execution_count": 17,
     "metadata": {},
     "output_type": "execute_result"
    }
   ],
   "source": [
    "all_file_peaks_carnitine"
   ]
  },
  {
   "cell_type": "code",
   "execution_count": 18,
   "id": "8f15d6eb-7727-4678-8cd6-03c2b0bcad0a",
   "metadata": {},
   "outputs": [
    {
     "data": {
      "text/plain": [
       "387"
      ]
     },
     "execution_count": 18,
     "metadata": {},
     "output_type": "execute_result"
    }
   ],
   "source": [
    "# check that all spectrum_id are accounted for\n",
    "len(all_file_peaks_carnitine.index.unique().to_list())"
   ]
  },
  {
   "cell_type": "markdown",
   "id": "abf090a6-d5cb-447b-b014-85990f2e73db",
   "metadata": {},
   "source": [
    "### Section 3: Investigate neutral loss"
   ]
  },
  {
   "cell_type": "code",
   "execution_count": 19,
   "id": "06db649a-676b-47b0-a9b3-0fa7e2780a5e",
   "metadata": {},
   "outputs": [],
   "source": [
    "# rename combined dataframe\n",
    "peak_df = all_file_peaks_carnitine"
   ]
  },
  {
   "cell_type": "code",
   "execution_count": 20,
   "id": "3ce6a9fb-1209-4f1b-b3a4-598e98753a4a",
   "metadata": {},
   "outputs": [],
   "source": [
    "# Identifying small bins of neutral loss values\n",
    "peak_df['mz_nl_binned_small'] = peak_df['mz_nl'].round(decimals = 2)\n",
    "unique_mz_nl_binned = peak_df['mz_nl_binned_small'].unique()"
   ]
  },
  {
   "cell_type": "code",
   "execution_count": 21,
   "id": "721ae7bf-547f-4ebc-9223-59b4c2f32ed7",
   "metadata": {},
   "outputs": [
    {
     "data": {
      "text/html": [
       "<div>\n",
       "<style scoped>\n",
       "    .dataframe tbody tr th:only-of-type {\n",
       "        vertical-align: middle;\n",
       "    }\n",
       "\n",
       "    .dataframe tbody tr th {\n",
       "        vertical-align: top;\n",
       "    }\n",
       "\n",
       "    .dataframe thead th {\n",
       "        text-align: right;\n",
       "    }\n",
       "</style>\n",
       "<table border=\"1\" class=\"dataframe\">\n",
       "  <thead>\n",
       "    <tr style=\"text-align: right;\">\n",
       "      <th></th>\n",
       "      <th>level_0</th>\n",
       "      <th>index</th>\n",
       "      <th>i</th>\n",
       "      <th>i_norm</th>\n",
       "      <th>i_tic_norm</th>\n",
       "      <th>mz</th>\n",
       "      <th>mz_nl</th>\n",
       "      <th>precmz</th>\n",
       "      <th>mz_nl_binned_small</th>\n",
       "    </tr>\n",
       "    <tr>\n",
       "      <th>scan</th>\n",
       "      <th></th>\n",
       "      <th></th>\n",
       "      <th></th>\n",
       "      <th></th>\n",
       "      <th></th>\n",
       "      <th></th>\n",
       "      <th></th>\n",
       "      <th></th>\n",
       "      <th></th>\n",
       "    </tr>\n",
       "  </thead>\n",
       "  <tbody>\n",
       "    <tr>\n",
       "      <th>CCMSLIB00000216197</th>\n",
       "      <td>399442</td>\n",
       "      <td>0</td>\n",
       "      <td>2177.529053</td>\n",
       "      <td>0.056863</td>\n",
       "      <td>0.034625</td>\n",
       "      <td>73.961777</td>\n",
       "      <td>126.118223</td>\n",
       "      <td>200.08</td>\n",
       "      <td>126.12</td>\n",
       "    </tr>\n",
       "    <tr>\n",
       "      <th>CCMSLIB00000216197</th>\n",
       "      <td>399443</td>\n",
       "      <td>1</td>\n",
       "      <td>25.951593</td>\n",
       "      <td>0.000678</td>\n",
       "      <td>0.000413</td>\n",
       "      <td>74.977188</td>\n",
       "      <td>125.102812</td>\n",
       "      <td>200.08</td>\n",
       "      <td>125.10</td>\n",
       "    </tr>\n",
       "    <tr>\n",
       "      <th>CCMSLIB00000216197</th>\n",
       "      <td>399444</td>\n",
       "      <td>2</td>\n",
       "      <td>503.461060</td>\n",
       "      <td>0.013147</td>\n",
       "      <td>0.008006</td>\n",
       "      <td>84.048637</td>\n",
       "      <td>116.031363</td>\n",
       "      <td>200.08</td>\n",
       "      <td>116.03</td>\n",
       "    </tr>\n",
       "    <tr>\n",
       "      <th>CCMSLIB00000216197</th>\n",
       "      <td>399445</td>\n",
       "      <td>3</td>\n",
       "      <td>21725.027344</td>\n",
       "      <td>0.567317</td>\n",
       "      <td>0.345450</td>\n",
       "      <td>102.003937</td>\n",
       "      <td>98.076063</td>\n",
       "      <td>200.08</td>\n",
       "      <td>98.08</td>\n",
       "    </tr>\n",
       "    <tr>\n",
       "      <th>CCMSLIB00000216197</th>\n",
       "      <td>399446</td>\n",
       "      <td>4</td>\n",
       "      <td>37.872719</td>\n",
       "      <td>0.000989</td>\n",
       "      <td>0.000602</td>\n",
       "      <td>158.435135</td>\n",
       "      <td>41.644865</td>\n",
       "      <td>200.08</td>\n",
       "      <td>41.64</td>\n",
       "    </tr>\n",
       "  </tbody>\n",
       "</table>\n",
       "</div>"
      ],
      "text/plain": [
       "                    level_0  index             i    i_norm  i_tic_norm  \\\n",
       "scan                                                                     \n",
       "CCMSLIB00000216197   399442      0   2177.529053  0.056863    0.034625   \n",
       "CCMSLIB00000216197   399443      1     25.951593  0.000678    0.000413   \n",
       "CCMSLIB00000216197   399444      2    503.461060  0.013147    0.008006   \n",
       "CCMSLIB00000216197   399445      3  21725.027344  0.567317    0.345450   \n",
       "CCMSLIB00000216197   399446      4     37.872719  0.000989    0.000602   \n",
       "\n",
       "                            mz       mz_nl  precmz  mz_nl_binned_small  \n",
       "scan                                                                    \n",
       "CCMSLIB00000216197   73.961777  126.118223  200.08              126.12  \n",
       "CCMSLIB00000216197   74.977188  125.102812  200.08              125.10  \n",
       "CCMSLIB00000216197   84.048637  116.031363  200.08              116.03  \n",
       "CCMSLIB00000216197  102.003937   98.076063  200.08               98.08  \n",
       "CCMSLIB00000216197  158.435135   41.644865  200.08               41.64  "
      ]
     },
     "execution_count": 21,
     "metadata": {},
     "output_type": "execute_result"
    }
   ],
   "source": [
    "peak_df.head(5)"
   ]
  },
  {
   "cell_type": "code",
   "execution_count": 22,
   "id": "8fbe6e43-7b4e-4637-bb8f-5175d97fa290",
   "metadata": {},
   "outputs": [],
   "source": [
    "# Defining parameters --> can be modified by user\n",
    "\n",
    "intensitynormmin  = 0.05\n",
    "percentoccurmin = 20"
   ]
  },
  {
   "cell_type": "code",
   "execution_count": 23,
   "id": "d5c2ac09-51a9-4972-933f-43e5a2ceb64e",
   "metadata": {
    "tags": []
   },
   "outputs": [],
   "source": [
    "# identifying peaks that satisfy minimum normalized intensity parameter\n",
    "\n",
    "filtered_peak_df_i_norm = peak_df[peak_df[\"i_norm\"] >= intensitynormmin]"
   ]
  },
  {
   "cell_type": "code",
   "execution_count": 24,
   "id": "177419d6-7730-4a67-a392-7ea790ac756c",
   "metadata": {
    "tags": []
   },
   "outputs": [],
   "source": [
    "# For counting percent occurrence of peaks above miniumum intensity\n",
    "occurs_above_intensitynormmin = {}\n",
    "\n",
    "# Total number of spectral IDs\n",
    "total_ids = len(peak_df.index.unique())\n",
    "\n",
    "for peak in unique_mz_nl_binned:\n",
    "    mz_nl_df_above_intensitynormmin = filtered_peak_df_i_norm.loc[(filtered_peak_df_i_norm['mz_nl_binned_small'] == peak)]\n",
    "\n",
    "    # Number of spectra where neutral losses occurs above miniumum intensity\n",
    "    peak_occurs_above_intensitynormmin = len(mz_nl_df_above_intensitynormmin)\n",
    "\n",
    "    if peak_occurs_above_intensitynormmin/total_ids >= (percentoccurmin/100):\n",
    "        occurs_above_intensitynormmin[peak] = peak_occurs_above_intensitynormmin/total_ids"
   ]
  },
  {
   "cell_type": "code",
   "execution_count": 25,
   "id": "8d10dea8-0bfd-4a28-b9d6-d334488c1218",
   "metadata": {},
   "outputs": [],
   "source": [
    "# Filtering to only include neutral losses that are present in at least 20% of the scans\n",
    "filtered_peak_df = filtered_peak_df_i_norm[filtered_peak_df_i_norm[\"mz_nl_binned_small\"].isin(occurs_above_intensitynormmin.keys())]"
   ]
  },
  {
   "cell_type": "code",
   "execution_count": 26,
   "id": "3180e15d-c896-4620-a0cc-6220d827d264",
   "metadata": {},
   "outputs": [],
   "source": [
    "# reshaping and renaming\n",
    "peak_ratio_df = pd.DataFrame.from_dict(occurs_above_intensitynormmin, orient='index')\n",
    "peak_ratio_df.index.name = 'mz_nl_binned_small'\n",
    "peak_ratio_df = peak_ratio_df.rename(columns={0: \"percent_occurrence\"})"
   ]
  },
  {
   "cell_type": "code",
   "execution_count": 27,
   "id": "caa76d2c-dff3-4ab9-b78c-39c0bfe3d43c",
   "metadata": {},
   "outputs": [
    {
     "data": {
      "text/html": [
       "<div>\n",
       "<style scoped>\n",
       "    .dataframe tbody tr th:only-of-type {\n",
       "        vertical-align: middle;\n",
       "    }\n",
       "\n",
       "    .dataframe tbody tr th {\n",
       "        vertical-align: top;\n",
       "    }\n",
       "\n",
       "    .dataframe thead th {\n",
       "        text-align: right;\n",
       "    }\n",
       "</style>\n",
       "<table border=\"1\" class=\"dataframe\">\n",
       "  <thead>\n",
       "    <tr style=\"text-align: right;\">\n",
       "      <th></th>\n",
       "      <th>percent_occurrence</th>\n",
       "    </tr>\n",
       "    <tr>\n",
       "      <th>mz_nl_binned_small</th>\n",
       "      <th></th>\n",
       "    </tr>\n",
       "  </thead>\n",
       "  <tbody>\n",
       "    <tr>\n",
       "      <th>0.00</th>\n",
       "      <td>0.516796</td>\n",
       "    </tr>\n",
       "    <tr>\n",
       "      <th>59.07</th>\n",
       "      <td>0.521964</td>\n",
       "    </tr>\n",
       "  </tbody>\n",
       "</table>\n",
       "</div>"
      ],
      "text/plain": [
       "                    percent_occurrence\n",
       "mz_nl_binned_small                    \n",
       "0.00                          0.516796\n",
       "59.07                         0.521964"
      ]
     },
     "execution_count": 27,
     "metadata": {},
     "output_type": "execute_result"
    }
   ],
   "source": [
    "# visualize neutral losses by percent occurrence\n",
    "# NOTE: neutral loss of 0 is due to precursor\n",
    "peak_ratio_df"
   ]
  }
 ],
 "metadata": {
  "kernelspec": {
   "display_name": "Python 3 (ipykernel)",
   "language": "python",
   "name": "python3"
  },
  "language_info": {
   "codemirror_mode": {
    "name": "ipython",
    "version": 3
   },
   "file_extension": ".py",
   "mimetype": "text/x-python",
   "name": "python",
   "nbconvert_exporter": "python",
   "pygments_lexer": "ipython3",
   "version": "3.10.5"
  }
 },
 "nbformat": 4,
 "nbformat_minor": 5
}
