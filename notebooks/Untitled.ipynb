{
 "cells": [
  {
   "cell_type": "code",
   "execution_count": 25,
   "metadata": {},
   "outputs": [],
   "source": [
    "import requests\n",
    "import pandas as pd\n",
    "import requests_cache\n",
    "from tqdm import tqdm\n",
    "import grequests\n",
    "\n",
    "requests_cache.install_cache('demo_cache', allowable_codes=(200,400,404,500))"
   ]
  },
  {
   "cell_type": "code",
   "execution_count": 4,
   "metadata": {},
   "outputs": [],
   "source": [
    "df = pd.read_json(\"https://gnps-external.ucsd.edu/gnpslibraryjson\")"
   ]
  },
  {
   "cell_type": "code",
   "execution_count": 27,
   "metadata": {},
   "outputs": [
    {
     "name": "stderr",
     "output_type": "stream",
     "text": [
      "155502it [00:14, 11092.71it/s]\n"
     ]
    }
   ],
   "source": [
    "all_smiles_url = []\n",
    "# Getting all structures\n",
    "for index_label, record in tqdm(df.iterrows()):\n",
    "    smiles = record[\"Smiles\"]\n",
    "    if len(smiles) > 10:\n",
    "        url = \"https://gnps-structure.ucsd.edu/classyfire?smiles={}\".format(smiles)\n",
    "        all_smiles_url.append(url)\n",
    "        \n",
    "rs = (grequests.get(u) for u in all_smiles_url)\n",
    "requests_returned = grequests.map(rs)"
   ]
  },
  {
   "cell_type": "code",
   "execution_count": 38,
   "metadata": {},
   "outputs": [
    {
     "name": "stderr",
     "output_type": "stream",
     "text": [
      "100%|██████████| 155502/155502 [01:23<00:00, 1854.09it/s]\n"
     ]
    }
   ],
   "source": [
    "record_list = df.to_dict(orient=\"records\")\n",
    "\n",
    "for record in tqdm(record_list):\n",
    "    smiles = record[\"Smiles\"]\n",
    "    if len(smiles) > 10:\n",
    "        url = \"https://gnps-structure.ucsd.edu/classyfire?smiles={}\".format(smiles)\n",
    "        try:\n",
    "            r = requests.get(url)\n",
    "            record[\"class\"] = r.json()[\"class\"][\"name\"]\n",
    "        except KeyboardInterrupt:\n",
    "            raise\n",
    "        except:\n",
    "            pass\n",
    "            \n",
    "df = pd.DataFrame(record_list)"
   ]
  },
  {
   "cell_type": "code",
   "execution_count": 45,
   "metadata": {},
   "outputs": [],
   "source": [
    "filtered_df = df[[\"class\", \"Precursor_MZ\"]]\n",
    "filtered_df = filtered_df.dropna(axis=0)"
   ]
  },
  {
   "cell_type": "code",
   "execution_count": 47,
   "metadata": {},
   "outputs": [],
   "source": [
    "filtered_df.to_csv(\"class_data.tsv\", sep=\"\\t\", index=False)"
   ]
  },
  {
   "cell_type": "code",
   "execution_count": 44,
   "metadata": {},
   "outputs": [
    {
     "data": {
      "text/html": [
       "<div>\n",
       "<style scoped>\n",
       "    .dataframe tbody tr th:only-of-type {\n",
       "        vertical-align: middle;\n",
       "    }\n",
       "\n",
       "    .dataframe tbody tr th {\n",
       "        vertical-align: top;\n",
       "    }\n",
       "\n",
       "    .dataframe thead th {\n",
       "        text-align: right;\n",
       "    }\n",
       "</style>\n",
       "<table border=\"1\" class=\"dataframe\">\n",
       "  <thead>\n",
       "    <tr style=\"text-align: right;\">\n",
       "      <th></th>\n",
       "      <th>class</th>\n",
       "      <th>Precursor_MZ</th>\n",
       "    </tr>\n",
       "  </thead>\n",
       "  <tbody>\n",
       "    <tr>\n",
       "      <th>0</th>\n",
       "      <td>Peptidomimetics</td>\n",
       "      <td>981.540</td>\n",
       "    </tr>\n",
       "    <tr>\n",
       "      <th>1</th>\n",
       "      <td>Peptidomimetics</td>\n",
       "      <td>940.250</td>\n",
       "    </tr>\n",
       "    <tr>\n",
       "      <th>3</th>\n",
       "      <td>Indoles and derivatives</td>\n",
       "      <td>545.000</td>\n",
       "    </tr>\n",
       "    <tr>\n",
       "      <th>5</th>\n",
       "      <td>Peptidomimetics</td>\n",
       "      <td>667.115</td>\n",
       "    </tr>\n",
       "    <tr>\n",
       "      <th>7</th>\n",
       "      <td>Macrolactams</td>\n",
       "      <td>1025.610</td>\n",
       "    </tr>\n",
       "    <tr>\n",
       "      <th>...</th>\n",
       "      <td>...</td>\n",
       "      <td>...</td>\n",
       "    </tr>\n",
       "    <tr>\n",
       "      <th>155497</th>\n",
       "      <td>Naphthofurans</td>\n",
       "      <td>846.445</td>\n",
       "    </tr>\n",
       "    <tr>\n",
       "      <th>155498</th>\n",
       "      <td>Naphthofurans</td>\n",
       "      <td>432.240</td>\n",
       "    </tr>\n",
       "    <tr>\n",
       "      <th>155499</th>\n",
       "      <td>Naphthofurans</td>\n",
       "      <td>437.198</td>\n",
       "    </tr>\n",
       "    <tr>\n",
       "      <th>155500</th>\n",
       "      <td>Naphthofurans</td>\n",
       "      <td>867.375</td>\n",
       "    </tr>\n",
       "    <tr>\n",
       "      <th>155501</th>\n",
       "      <td>Naphthofurans</td>\n",
       "      <td>851.400</td>\n",
       "    </tr>\n",
       "  </tbody>\n",
       "</table>\n",
       "<p>40195 rows × 2 columns</p>\n",
       "</div>"
      ],
      "text/plain": [
       "                          class  Precursor_MZ\n",
       "0               Peptidomimetics       981.540\n",
       "1               Peptidomimetics       940.250\n",
       "3       Indoles and derivatives       545.000\n",
       "5               Peptidomimetics       667.115\n",
       "7                  Macrolactams      1025.610\n",
       "...                         ...           ...\n",
       "155497            Naphthofurans       846.445\n",
       "155498            Naphthofurans       432.240\n",
       "155499            Naphthofurans       437.198\n",
       "155500            Naphthofurans       867.375\n",
       "155501            Naphthofurans       851.400\n",
       "\n",
       "[40195 rows x 2 columns]"
      ]
     },
     "execution_count": 44,
     "metadata": {},
     "output_type": "execute_result"
    }
   ],
   "source": []
  },
  {
   "cell_type": "code",
   "execution_count": null,
   "metadata": {},
   "outputs": [],
   "source": []
  }
 ],
 "metadata": {
  "kernelspec": {
   "display_name": "Python 3",
   "language": "python",
   "name": "python3"
  },
  "language_info": {
   "codemirror_mode": {
    "name": "ipython",
    "version": 3
   },
   "file_extension": ".py",
   "mimetype": "text/x-python",
   "name": "python",
   "nbconvert_exporter": "python",
   "pygments_lexer": "ipython3",
   "version": "3.8.2"
  }
 },
 "nbformat": 4,
 "nbformat_minor": 4
}
