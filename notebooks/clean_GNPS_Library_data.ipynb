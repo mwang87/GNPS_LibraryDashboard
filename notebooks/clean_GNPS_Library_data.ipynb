{
 "cells": [
  {
   "cell_type": "markdown",
   "id": "0023c76a-3fae-457e-be24-32558b5323ad",
   "metadata": {
    "tags": []
   },
   "source": [
    "## This notebook is used for **cleaning metadata from GNPS Libraries**\n",
    "---\n",
    "Metadata is cleaned by:\n",
    "- removing spectrum_ids associated with SUSPECT LIST data\n",
    "- isolating spectrum_ids associated with M+H adduct"
   ]
  },
  {
   "cell_type": "markdown",
   "id": "0a6ce3fa-2bec-4bbe-93f5-d9e414c54ad7",
   "metadata": {
    "tags": []
   },
   "source": [
    "## Input files needed for the Notebook\n",
    "1. GNPS Library metadata from https://gnps-external.ucsd.edu/gnpslibrary/ALL_GNPS.json"
   ]
  },
  {
   "cell_type": "code",
   "execution_count": 1,
   "id": "74bb2d71-18d2-4637-8366-f106f04a9158",
   "metadata": {},
   "outputs": [],
   "source": [
    "import pandas as pd"
   ]
  },
  {
   "cell_type": "markdown",
   "id": "a2a4b095-6231-4b29-aa4d-ce78763403db",
   "metadata": {
    "tags": []
   },
   "source": [
    "#### read GNPS Library data"
   ]
  },
  {
   "cell_type": "code",
   "execution_count": 2,
   "id": "ab75742f-d85a-4b3c-8497-71f2fe556baa",
   "metadata": {},
   "outputs": [],
   "source": [
    "# from v_get_ALL_GNPS_input_library.ipynb\n",
    "\n",
    "input_library_full_df_loaded = pd.read_parquet('/home/jovyan/work/notebooks/outputs/ALL_GNPS_input_library.gzip')"
   ]
  },
  {
   "cell_type": "markdown",
   "id": "7432fb00-b9fd-453f-a490-3b0daa920462",
   "metadata": {},
   "source": [
    "### Remove suspect list data from GNPS Library data"
   ]
  },
  {
   "cell_type": "code",
   "execution_count": 3,
   "id": "fb16003d-6f89-430e-9401-0043c84e4499",
   "metadata": {
    "tags": []
   },
   "outputs": [],
   "source": [
    "# remove rows corresponding to GNPS-SUSPECTLIST\n",
    "input_library_no_suspect_list = input_library_full_df_loaded[~input_library_full_df_loaded['library_membership'].str.contains('suspect',case=False,na=False)]"
   ]
  },
  {
   "cell_type": "markdown",
   "id": "72ee42ee-63cd-4818-b4c6-a400bfa24000",
   "metadata": {},
   "source": [
    "### Isolate M+H adduct data in GNPS Library data"
   ]
  },
  {
   "cell_type": "code",
   "execution_count": 4,
   "id": "4cfb1da4-d54a-4098-b0c3-5cb6706f5575",
   "metadata": {},
   "outputs": [],
   "source": [
    "# identifying potential M+H adduct labels in GNPS Library metadata\n",
    "adduct_labels = ['M+H','[M+H]','[M+H]+']"
   ]
  },
  {
   "cell_type": "markdown",
   "id": "0377fd7f-322d-4b02-a7b6-7d149fced05e",
   "metadata": {},
   "source": [
    "##### Generate cleaned GNPS Library data\n",
    "- excluding suspect list data\n",
    "- exclusively describing M+H adduct data"
   ]
  },
  {
   "cell_type": "code",
   "execution_count": 5,
   "id": "edd871fd-0138-467c-8efc-e48dc50aa118",
   "metadata": {},
   "outputs": [],
   "source": [
    "# Cleaned GNPS Library data\n",
    "input_library = input_library_no_suspect_list[input_library_no_suspect_list[\"Adduct\"].isin(adduct_labels)]"
   ]
  },
  {
   "cell_type": "code",
   "execution_count": 6,
   "id": "fe4d641a-9fc3-4a42-9fe3-789f2d606795",
   "metadata": {
    "tags": []
   },
   "outputs": [
    {
     "data": {
      "text/plain": [
       "245648"
      ]
     },
     "execution_count": 6,
     "metadata": {},
     "output_type": "execute_result"
    }
   ],
   "source": [
    "len(input_library)"
   ]
  },
  {
   "cell_type": "code",
   "execution_count": 7,
   "id": "01d6b896-9188-4d68-9a30-640a721bc1bb",
   "metadata": {},
   "outputs": [],
   "source": [
    "input_library.reset_index().to_csv(\n",
    "    '/home/jovyan/work/notebooks/outputs/CLEANED_GNPS_input_library.csv', sep=',', index=False)"
   ]
  }
 ],
 "metadata": {
  "kernelspec": {
   "display_name": "Python 3 (ipykernel)",
   "language": "python",
   "name": "python3"
  },
  "language_info": {
   "codemirror_mode": {
    "name": "ipython",
    "version": 3
   },
   "file_extension": ".py",
   "mimetype": "text/x-python",
   "name": "python",
   "nbconvert_exporter": "python",
   "pygments_lexer": "ipython3",
   "version": "3.10.5"
  }
 },
 "nbformat": 4,
 "nbformat_minor": 5
}
