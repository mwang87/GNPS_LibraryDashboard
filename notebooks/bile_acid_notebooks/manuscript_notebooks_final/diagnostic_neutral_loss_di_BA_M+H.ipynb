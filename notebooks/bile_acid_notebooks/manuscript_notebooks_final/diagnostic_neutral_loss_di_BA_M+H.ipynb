{
 "cells": [
  {
   "cell_type": "markdown",
   "id": "c4e565a4-cbf9-41fd-ba46-a0de222bd50a",
   "metadata": {
    "tags": []
   },
   "source": [
    "## This notebook identifies **consistent neutral loss** for **specific dihydroxy bile acid compounds**\n",
    "(original notebook content: v_boxplot_all_di_M+H_neutral_loss_for_manuscript.ipynb)\n",
    "\n",
    "---\n",
    "\n",
    "- Specific dihydroxy bile acids were determined by substructures defined by two hydroxylation events: C3 and C6; C3 and C7; and C3 and C12 described in **substructure_search_identify_di_BA.ipynb**\n",
    "- **output are dataframes** describing the characteristic neutral loss and their stats\n",
    "\n",
    "---\n",
    "\n",
    "### About the process\n",
    "The process for determining consistent neutral loss is as follows:\n",
    "\n",
    "1. M/Z neutral loss values are grouped in 0.01 M/Z bins\n",
    "2. Peaks attributed to noise are removed by isolating peaks above a normalized intensity of 0.05\n",
    "3. Minimum percent occurrence for neutral loss of interest (after removing noise) was specified to occur in at least 20% of the grouped spectra\n",
    "\n",
    "Final output summarizes consistent neutral losses occurring at least 20% of the time.\n",
    "\n",
    "---\n",
    "## Notebook organization\n",
    "\n",
    "### Section 1: Reading input data\n",
    "- MS/MS peak data\n",
    "- dihydroxy-BA specific metadata in GNPS Library\n",
    "\n",
    "### Section 2: Matching peak data with metadata\n",
    "\n",
    "### Section 3: Investigate neutral loss\n",
    "- Make 0.01 M/Z neutral loss bins\n",
    "- Define minimum intensity and percent occurrence parameters\n",
    "- Identify peaks that satisfy parameters"
   ]
  },
  {
   "cell_type": "markdown",
   "id": "a725cf52-2f49-4c3b-aa78-0004636f3756",
   "metadata": {},
   "source": [
    "## Input files needed for the Notebook\n",
    "1. MS/MS peak data\n",
    "2. Dataframe output of dihydroxy-BA metadata in GNPS Library from **substructure_search_identify_di_BA.ipynb**"
   ]
  },
  {
   "cell_type": "code",
   "execution_count": 1,
   "id": "39e86535-44a2-4182-a96d-7100616ae9e4",
   "metadata": {},
   "outputs": [],
   "source": [
    "import pandas as pd\n",
    "import plotly\n",
    "import plotly.express as px"
   ]
  },
  {
   "cell_type": "markdown",
   "id": "aac582c2-5d0e-4433-ad51-189c9daff160",
   "metadata": {},
   "source": [
    "### Section 1: Read input data"
   ]
  },
  {
   "cell_type": "markdown",
   "id": "798ea493-e940-42b1-914f-4f304e983f5b",
   "metadata": {
    "tags": []
   },
   "source": [
    "#### Read peak data\n",
    "- from v_get_peaks_files.ipynb\n",
    "\n",
    "(Neededed to break into 5 parts due to file size)"
   ]
  },
  {
   "cell_type": "code",
   "execution_count": 2,
   "id": "49566d9d-4197-4a6a-b7af-dd4657ef251a",
   "metadata": {},
   "outputs": [],
   "source": [
    "all_file_peaks_part_1 = pd.read_parquet('/home/jovyan/work/notebooks/outputs/all_file_peaks_part_1.gzip')"
   ]
  },
  {
   "cell_type": "code",
   "execution_count": 3,
   "id": "e332193b-673b-42b6-8bc3-05488c077d08",
   "metadata": {},
   "outputs": [],
   "source": [
    "all_file_peaks_part_2 = pd.read_parquet('/home/jovyan/work/notebooks/outputs/all_file_peaks_part_2.gzip')"
   ]
  },
  {
   "cell_type": "code",
   "execution_count": 4,
   "id": "eb13f503-7e7b-4d85-8bfc-3e25d912b70b",
   "metadata": {},
   "outputs": [],
   "source": [
    "all_file_peaks_part_3 = pd.read_parquet('/home/jovyan/work/notebooks/outputs/all_file_peaks_part_3.gzip')"
   ]
  },
  {
   "cell_type": "code",
   "execution_count": 5,
   "id": "14c21a54-2fdf-4267-9fce-545cd7721de2",
   "metadata": {},
   "outputs": [],
   "source": [
    "all_file_peaks_part_4 = pd.read_parquet('/home/jovyan/work/notebooks/outputs/all_file_peaks_part_4.gzip')"
   ]
  },
  {
   "cell_type": "code",
   "execution_count": 6,
   "id": "11fe09ff-43ba-4a23-b01d-f70d66c482a8",
   "metadata": {},
   "outputs": [],
   "source": [
    "all_file_peaks_part_5 = pd.read_parquet('/home/jovyan/work/notebooks/outputs/all_file_peaks_part_5.gzip')"
   ]
  },
  {
   "cell_type": "markdown",
   "id": "f30e36ff-8f71-4b5c-a964-6df4b813eac3",
   "metadata": {
    "tags": []
   },
   "source": [
    "#### Read dihydroxy bile acid metadata from GNPS Library\n",
    "- from substructure_search_identify_di_BA.ipynb"
   ]
  },
  {
   "cell_type": "code",
   "execution_count": 7,
   "id": "6ec3c663-b510-4cde-b625-11060805a25a",
   "metadata": {},
   "outputs": [],
   "source": [
    "di_table = pd.read_csv('/home/jovyan/work/notebooks/outputs/library_df_dihydroxy_BA_only_m+h_updated_matches.csv',sep=',', index_col='spectrum_id')"
   ]
  },
  {
   "cell_type": "code",
   "execution_count": 8,
   "id": "d8aa252c-a21e-4a8d-bffd-fc4f853931dd",
   "metadata": {},
   "outputs": [],
   "source": [
    "# list of spectrum_id\n",
    "di_table_ID = di_table.index.to_list()"
   ]
  },
  {
   "cell_type": "markdown",
   "id": "712122c6-a47c-4340-9c7e-ba14633a1af7",
   "metadata": {},
   "source": [
    "### Section 2: Matching peak data with metadata\n",
    "- Need to identify MS/MS peak data for spectra identified as dihydroxy bile acids in GNPS Library by substructure search"
   ]
  },
  {
   "cell_type": "code",
   "execution_count": 9,
   "id": "0d88e9d7-df74-41c3-a184-e77e0e8ec16c",
   "metadata": {},
   "outputs": [],
   "source": [
    "all_file_peaks_part_1_di = all_file_peaks_part_1[all_file_peaks_part_1.index.isin(di_table_ID)]"
   ]
  },
  {
   "cell_type": "code",
   "execution_count": 10,
   "id": "4e9286ce-17b5-48f6-89f9-d0138a882d94",
   "metadata": {},
   "outputs": [],
   "source": [
    "all_file_peaks_part_2_di = all_file_peaks_part_2[all_file_peaks_part_2.index.isin(di_table_ID)]"
   ]
  },
  {
   "cell_type": "code",
   "execution_count": 11,
   "id": "6419916c-a68e-408f-92df-2456b619ff0e",
   "metadata": {},
   "outputs": [],
   "source": [
    "all_file_peaks_part_3_di = all_file_peaks_part_3[all_file_peaks_part_3.index.isin(di_table_ID)]"
   ]
  },
  {
   "cell_type": "code",
   "execution_count": 12,
   "id": "d80d5d30-e6de-4e0b-8484-e66af68ba61c",
   "metadata": {},
   "outputs": [],
   "source": [
    "all_file_peaks_part_4_di = all_file_peaks_part_4[all_file_peaks_part_4.index.isin(di_table_ID)]"
   ]
  },
  {
   "cell_type": "code",
   "execution_count": 13,
   "id": "a3614214-d544-4fac-b172-f7cd0e889864",
   "metadata": {},
   "outputs": [],
   "source": [
    "all_file_peaks_part_5_di = all_file_peaks_part_5[all_file_peaks_part_5.index.isin(di_table_ID)]"
   ]
  },
  {
   "cell_type": "code",
   "execution_count": 14,
   "id": "171ec746-c7f5-41d3-b85a-ad3ebbda359e",
   "metadata": {},
   "outputs": [],
   "source": [
    "# Combine individual dataframes to make complete dataframe of all peak data associated with Di-BA\n",
    "all_file_peaks_di = pd.concat([all_file_peaks_part_1_di, all_file_peaks_part_2_di, all_file_peaks_part_3_di,\n",
    "                                      all_file_peaks_part_4_di, all_file_peaks_part_5_di], axis=0)"
   ]
  },
  {
   "cell_type": "code",
   "execution_count": 15,
   "id": "ab2446d8-2822-4c7e-a068-4f3c84668b9d",
   "metadata": {},
   "outputs": [
    {
     "data": {
      "text/html": [
       "<div>\n",
       "<style scoped>\n",
       "    .dataframe tbody tr th:only-of-type {\n",
       "        vertical-align: middle;\n",
       "    }\n",
       "\n",
       "    .dataframe tbody tr th {\n",
       "        vertical-align: top;\n",
       "    }\n",
       "\n",
       "    .dataframe thead th {\n",
       "        text-align: right;\n",
       "    }\n",
       "</style>\n",
       "<table border=\"1\" class=\"dataframe\">\n",
       "  <thead>\n",
       "    <tr style=\"text-align: right;\">\n",
       "      <th></th>\n",
       "      <th>level_0</th>\n",
       "      <th>index</th>\n",
       "      <th>i</th>\n",
       "      <th>i_norm</th>\n",
       "      <th>i_tic_norm</th>\n",
       "      <th>mz</th>\n",
       "      <th>mz_nl</th>\n",
       "      <th>precmz</th>\n",
       "    </tr>\n",
       "    <tr>\n",
       "      <th>scan</th>\n",
       "      <th></th>\n",
       "      <th></th>\n",
       "      <th></th>\n",
       "      <th></th>\n",
       "      <th></th>\n",
       "      <th></th>\n",
       "      <th></th>\n",
       "      <th></th>\n",
       "    </tr>\n",
       "  </thead>\n",
       "  <tbody>\n",
       "    <tr>\n",
       "      <th>CCMSLIB00010012258</th>\n",
       "      <td>1927</td>\n",
       "      <td>0</td>\n",
       "      <td>292.0</td>\n",
       "      <td>0.064673</td>\n",
       "      <td>0.013038</td>\n",
       "      <td>145.099136</td>\n",
       "      <td>558.430864</td>\n",
       "      <td>703.530</td>\n",
       "    </tr>\n",
       "    <tr>\n",
       "      <th>CCMSLIB00010012258</th>\n",
       "      <td>1928</td>\n",
       "      <td>1</td>\n",
       "      <td>90.0</td>\n",
       "      <td>0.019934</td>\n",
       "      <td>0.004019</td>\n",
       "      <td>146.101257</td>\n",
       "      <td>557.428743</td>\n",
       "      <td>703.530</td>\n",
       "    </tr>\n",
       "    <tr>\n",
       "      <th>CCMSLIB00010012258</th>\n",
       "      <td>1929</td>\n",
       "      <td>2</td>\n",
       "      <td>341.0</td>\n",
       "      <td>0.075526</td>\n",
       "      <td>0.015226</td>\n",
       "      <td>147.116302</td>\n",
       "      <td>556.413698</td>\n",
       "      <td>703.530</td>\n",
       "    </tr>\n",
       "    <tr>\n",
       "      <th>CCMSLIB00010012258</th>\n",
       "      <td>1930</td>\n",
       "      <td>3</td>\n",
       "      <td>509.0</td>\n",
       "      <td>0.112735</td>\n",
       "      <td>0.022727</td>\n",
       "      <td>149.131912</td>\n",
       "      <td>554.398088</td>\n",
       "      <td>703.530</td>\n",
       "    </tr>\n",
       "    <tr>\n",
       "      <th>CCMSLIB00010012258</th>\n",
       "      <td>1931</td>\n",
       "      <td>4</td>\n",
       "      <td>116.0</td>\n",
       "      <td>0.025692</td>\n",
       "      <td>0.005179</td>\n",
       "      <td>150.134186</td>\n",
       "      <td>553.395814</td>\n",
       "      <td>703.530</td>\n",
       "    </tr>\n",
       "    <tr>\n",
       "      <th>...</th>\n",
       "      <td>...</td>\n",
       "      <td>...</td>\n",
       "      <td>...</td>\n",
       "      <td>...</td>\n",
       "      <td>...</td>\n",
       "      <td>...</td>\n",
       "      <td>...</td>\n",
       "      <td>...</td>\n",
       "    </tr>\n",
       "    <tr>\n",
       "      <th>CCMSLIB00000222745</th>\n",
       "      <td>41152</td>\n",
       "      <td>2</td>\n",
       "      <td>303.0</td>\n",
       "      <td>0.303303</td>\n",
       "      <td>0.110544</td>\n",
       "      <td>343.264099</td>\n",
       "      <td>48.020901</td>\n",
       "      <td>391.285</td>\n",
       "    </tr>\n",
       "    <tr>\n",
       "      <th>CCMSLIB00000222745</th>\n",
       "      <td>41153</td>\n",
       "      <td>3</td>\n",
       "      <td>726.0</td>\n",
       "      <td>0.726727</td>\n",
       "      <td>0.264867</td>\n",
       "      <td>345.280487</td>\n",
       "      <td>46.004513</td>\n",
       "      <td>391.285</td>\n",
       "    </tr>\n",
       "    <tr>\n",
       "      <th>CCMSLIB00000222745</th>\n",
       "      <td>41154</td>\n",
       "      <td>4</td>\n",
       "      <td>177.0</td>\n",
       "      <td>0.177177</td>\n",
       "      <td>0.064575</td>\n",
       "      <td>347.296692</td>\n",
       "      <td>43.988308</td>\n",
       "      <td>391.285</td>\n",
       "    </tr>\n",
       "    <tr>\n",
       "      <th>CCMSLIB00000222745</th>\n",
       "      <td>41155</td>\n",
       "      <td>5</td>\n",
       "      <td>156.0</td>\n",
       "      <td>0.156156</td>\n",
       "      <td>0.056914</td>\n",
       "      <td>355.264801</td>\n",
       "      <td>36.020199</td>\n",
       "      <td>391.285</td>\n",
       "    </tr>\n",
       "    <tr>\n",
       "      <th>CCMSLIB00000222745</th>\n",
       "      <td>41156</td>\n",
       "      <td>6</td>\n",
       "      <td>999.0</td>\n",
       "      <td>1.000000</td>\n",
       "      <td>0.364466</td>\n",
       "      <td>391.284912</td>\n",
       "      <td>0.000088</td>\n",
       "      <td>391.285</td>\n",
       "    </tr>\n",
       "  </tbody>\n",
       "</table>\n",
       "<p>407092 rows × 8 columns</p>\n",
       "</div>"
      ],
      "text/plain": [
       "                    level_0  index      i    i_norm  i_tic_norm          mz  \\\n",
       "scan                                                                          \n",
       "CCMSLIB00010012258     1927      0  292.0  0.064673    0.013038  145.099136   \n",
       "CCMSLIB00010012258     1928      1   90.0  0.019934    0.004019  146.101257   \n",
       "CCMSLIB00010012258     1929      2  341.0  0.075526    0.015226  147.116302   \n",
       "CCMSLIB00010012258     1930      3  509.0  0.112735    0.022727  149.131912   \n",
       "CCMSLIB00010012258     1931      4  116.0  0.025692    0.005179  150.134186   \n",
       "...                     ...    ...    ...       ...         ...         ...   \n",
       "CCMSLIB00000222745    41152      2  303.0  0.303303    0.110544  343.264099   \n",
       "CCMSLIB00000222745    41153      3  726.0  0.726727    0.264867  345.280487   \n",
       "CCMSLIB00000222745    41154      4  177.0  0.177177    0.064575  347.296692   \n",
       "CCMSLIB00000222745    41155      5  156.0  0.156156    0.056914  355.264801   \n",
       "CCMSLIB00000222745    41156      6  999.0  1.000000    0.364466  391.284912   \n",
       "\n",
       "                         mz_nl   precmz  \n",
       "scan                                     \n",
       "CCMSLIB00010012258  558.430864  703.530  \n",
       "CCMSLIB00010012258  557.428743  703.530  \n",
       "CCMSLIB00010012258  556.413698  703.530  \n",
       "CCMSLIB00010012258  554.398088  703.530  \n",
       "CCMSLIB00010012258  553.395814  703.530  \n",
       "...                        ...      ...  \n",
       "CCMSLIB00000222745   48.020901  391.285  \n",
       "CCMSLIB00000222745   46.004513  391.285  \n",
       "CCMSLIB00000222745   43.988308  391.285  \n",
       "CCMSLIB00000222745   36.020199  391.285  \n",
       "CCMSLIB00000222745    0.000088  391.285  \n",
       "\n",
       "[407092 rows x 8 columns]"
      ]
     },
     "execution_count": 15,
     "metadata": {},
     "output_type": "execute_result"
    }
   ],
   "source": [
    "all_file_peaks_di"
   ]
  },
  {
   "cell_type": "code",
   "execution_count": 16,
   "id": "45a8f259-527c-45ca-8149-cb2910907b9c",
   "metadata": {},
   "outputs": [
    {
     "data": {
      "text/plain": [
       "690"
      ]
     },
     "execution_count": 16,
     "metadata": {},
     "output_type": "execute_result"
    }
   ],
   "source": [
    "# check that all spectrum_id are accounted for\n",
    "len(all_file_peaks_di.index.unique().to_list())"
   ]
  },
  {
   "cell_type": "markdown",
   "id": "b666da77-1684-41b5-a7aa-56f986165076",
   "metadata": {},
   "source": [
    "### Section 3: Investigate neutral loss"
   ]
  },
  {
   "cell_type": "code",
   "execution_count": 17,
   "id": "06db649a-676b-47b0-a9b3-0fa7e2780a5e",
   "metadata": {},
   "outputs": [],
   "source": [
    "# rename combined dataframe\n",
    "peak_df = all_file_peaks_di"
   ]
  },
  {
   "cell_type": "code",
   "execution_count": 18,
   "id": "3ce6a9fb-1209-4f1b-b3a4-598e98753a4a",
   "metadata": {},
   "outputs": [],
   "source": [
    "# Identifying small bins of neutral loss values\n",
    "peak_df['mz_nl_binned_small'] = peak_df['mz_nl'].round(decimals = 2)\n",
    "unique_mz_nl_binned = peak_df['mz_nl_binned_small'].unique()"
   ]
  },
  {
   "cell_type": "code",
   "execution_count": 19,
   "id": "721ae7bf-547f-4ebc-9223-59b4c2f32ed7",
   "metadata": {},
   "outputs": [
    {
     "data": {
      "text/html": [
       "<div>\n",
       "<style scoped>\n",
       "    .dataframe tbody tr th:only-of-type {\n",
       "        vertical-align: middle;\n",
       "    }\n",
       "\n",
       "    .dataframe tbody tr th {\n",
       "        vertical-align: top;\n",
       "    }\n",
       "\n",
       "    .dataframe thead th {\n",
       "        text-align: right;\n",
       "    }\n",
       "</style>\n",
       "<table border=\"1\" class=\"dataframe\">\n",
       "  <thead>\n",
       "    <tr style=\"text-align: right;\">\n",
       "      <th></th>\n",
       "      <th>level_0</th>\n",
       "      <th>index</th>\n",
       "      <th>i</th>\n",
       "      <th>i_norm</th>\n",
       "      <th>i_tic_norm</th>\n",
       "      <th>mz</th>\n",
       "      <th>mz_nl</th>\n",
       "      <th>precmz</th>\n",
       "      <th>mz_nl_binned_small</th>\n",
       "    </tr>\n",
       "    <tr>\n",
       "      <th>scan</th>\n",
       "      <th></th>\n",
       "      <th></th>\n",
       "      <th></th>\n",
       "      <th></th>\n",
       "      <th></th>\n",
       "      <th></th>\n",
       "      <th></th>\n",
       "      <th></th>\n",
       "      <th></th>\n",
       "    </tr>\n",
       "  </thead>\n",
       "  <tbody>\n",
       "    <tr>\n",
       "      <th>CCMSLIB00010012258</th>\n",
       "      <td>1927</td>\n",
       "      <td>0</td>\n",
       "      <td>292.0</td>\n",
       "      <td>0.064673</td>\n",
       "      <td>0.013038</td>\n",
       "      <td>145.099136</td>\n",
       "      <td>558.430864</td>\n",
       "      <td>703.53</td>\n",
       "      <td>558.43</td>\n",
       "    </tr>\n",
       "    <tr>\n",
       "      <th>CCMSLIB00010012258</th>\n",
       "      <td>1928</td>\n",
       "      <td>1</td>\n",
       "      <td>90.0</td>\n",
       "      <td>0.019934</td>\n",
       "      <td>0.004019</td>\n",
       "      <td>146.101257</td>\n",
       "      <td>557.428743</td>\n",
       "      <td>703.53</td>\n",
       "      <td>557.43</td>\n",
       "    </tr>\n",
       "    <tr>\n",
       "      <th>CCMSLIB00010012258</th>\n",
       "      <td>1929</td>\n",
       "      <td>2</td>\n",
       "      <td>341.0</td>\n",
       "      <td>0.075526</td>\n",
       "      <td>0.015226</td>\n",
       "      <td>147.116302</td>\n",
       "      <td>556.413698</td>\n",
       "      <td>703.53</td>\n",
       "      <td>556.41</td>\n",
       "    </tr>\n",
       "    <tr>\n",
       "      <th>CCMSLIB00010012258</th>\n",
       "      <td>1930</td>\n",
       "      <td>3</td>\n",
       "      <td>509.0</td>\n",
       "      <td>0.112735</td>\n",
       "      <td>0.022727</td>\n",
       "      <td>149.131912</td>\n",
       "      <td>554.398088</td>\n",
       "      <td>703.53</td>\n",
       "      <td>554.40</td>\n",
       "    </tr>\n",
       "    <tr>\n",
       "      <th>CCMSLIB00010012258</th>\n",
       "      <td>1931</td>\n",
       "      <td>4</td>\n",
       "      <td>116.0</td>\n",
       "      <td>0.025692</td>\n",
       "      <td>0.005179</td>\n",
       "      <td>150.134186</td>\n",
       "      <td>553.395814</td>\n",
       "      <td>703.53</td>\n",
       "      <td>553.40</td>\n",
       "    </tr>\n",
       "  </tbody>\n",
       "</table>\n",
       "</div>"
      ],
      "text/plain": [
       "                    level_0  index      i    i_norm  i_tic_norm          mz  \\\n",
       "scan                                                                          \n",
       "CCMSLIB00010012258     1927      0  292.0  0.064673    0.013038  145.099136   \n",
       "CCMSLIB00010012258     1928      1   90.0  0.019934    0.004019  146.101257   \n",
       "CCMSLIB00010012258     1929      2  341.0  0.075526    0.015226  147.116302   \n",
       "CCMSLIB00010012258     1930      3  509.0  0.112735    0.022727  149.131912   \n",
       "CCMSLIB00010012258     1931      4  116.0  0.025692    0.005179  150.134186   \n",
       "\n",
       "                         mz_nl  precmz  mz_nl_binned_small  \n",
       "scan                                                        \n",
       "CCMSLIB00010012258  558.430864  703.53              558.43  \n",
       "CCMSLIB00010012258  557.428743  703.53              557.43  \n",
       "CCMSLIB00010012258  556.413698  703.53              556.41  \n",
       "CCMSLIB00010012258  554.398088  703.53              554.40  \n",
       "CCMSLIB00010012258  553.395814  703.53              553.40  "
      ]
     },
     "execution_count": 19,
     "metadata": {},
     "output_type": "execute_result"
    }
   ],
   "source": [
    "peak_df.head(5)"
   ]
  },
  {
   "cell_type": "code",
   "execution_count": 20,
   "id": "8fbe6e43-7b4e-4637-bb8f-5175d97fa290",
   "metadata": {},
   "outputs": [],
   "source": [
    "# Defining parameters --> can be modified by user\n",
    "\n",
    "intensitynormmin  = 0.05\n",
    "percentoccurmin = 20"
   ]
  },
  {
   "cell_type": "code",
   "execution_count": 21,
   "id": "d5c2ac09-51a9-4972-933f-43e5a2ceb64e",
   "metadata": {},
   "outputs": [],
   "source": [
    "# identifying peaks that satisfy minimum normalized intensity parameter\n",
    "\n",
    "filtered_peak_df_i_norm = peak_df[peak_df[\"i_norm\"] >= intensitynormmin]"
   ]
  },
  {
   "cell_type": "code",
   "execution_count": 22,
   "id": "177419d6-7730-4a67-a392-7ea790ac756c",
   "metadata": {},
   "outputs": [],
   "source": [
    "# For counting percent occurrence of peaks above miniumum intensity\n",
    "occurs_above_intensitynormmin = {}\n",
    "\n",
    "# Total number of spectral IDs\n",
    "total_ids = len(peak_df.index.unique())\n",
    "\n",
    "for peak in unique_mz_nl_binned:\n",
    "    mz_nl_df_above_intensitynormmin = filtered_peak_df_i_norm.loc[(filtered_peak_df_i_norm['mz_nl_binned_small'] == peak)]\n",
    "\n",
    "    # Number of spectra where neutral loss occurs above miniumum intensity\n",
    "    peak_occurs_above_intensitynormmin = len(mz_nl_df_above_intensitynormmin)\n",
    "\n",
    "    if peak_occurs_above_intensitynormmin/total_ids >= (percentoccurmin/100):\n",
    "        occurs_above_intensitynormmin[peak] = peak_occurs_above_intensitynormmin/total_ids"
   ]
  },
  {
   "cell_type": "code",
   "execution_count": 23,
   "id": "8d10dea8-0bfd-4a28-b9d6-d334488c1218",
   "metadata": {},
   "outputs": [],
   "source": [
    "# Filtering to only include neutral losses that are present in at least 20% of the scans\n",
    "filtered_peak_df = filtered_peak_df_i_norm[filtered_peak_df_i_norm[\"mz_nl_binned_small\"].isin(occurs_above_intensitynormmin.keys())]"
   ]
  },
  {
   "cell_type": "code",
   "execution_count": 24,
   "id": "3180e15d-c896-4620-a0cc-6220d827d264",
   "metadata": {},
   "outputs": [],
   "source": [
    "# reshaping and renaming\n",
    "peak_ratio_df = pd.DataFrame.from_dict(occurs_above_intensitynormmin, orient='index')\n",
    "peak_ratio_df.index.name = 'mz_nl_binned_small'\n",
    "peak_ratio_df = peak_ratio_df.rename(columns={0: \"percent_occurrence\"})"
   ]
  },
  {
   "cell_type": "code",
   "execution_count": 25,
   "id": "4f826263-af42-487a-8aea-1507390342ae",
   "metadata": {},
   "outputs": [
    {
     "data": {
      "text/html": [
       "<div>\n",
       "<style scoped>\n",
       "    .dataframe tbody tr th:only-of-type {\n",
       "        vertical-align: middle;\n",
       "    }\n",
       "\n",
       "    .dataframe tbody tr th {\n",
       "        vertical-align: top;\n",
       "    }\n",
       "\n",
       "    .dataframe thead th {\n",
       "        text-align: right;\n",
       "    }\n",
       "</style>\n",
       "<table border=\"1\" class=\"dataframe\">\n",
       "  <thead>\n",
       "    <tr style=\"text-align: right;\">\n",
       "      <th></th>\n",
       "      <th>percent_occurrence</th>\n",
       "    </tr>\n",
       "    <tr>\n",
       "      <th>mz_nl_binned_small</th>\n",
       "      <th></th>\n",
       "    </tr>\n",
       "  </thead>\n",
       "  <tbody>\n",
       "    <tr>\n",
       "      <th>36.02</th>\n",
       "      <td>0.698551</td>\n",
       "    </tr>\n",
       "    <tr>\n",
       "      <th>374.28</th>\n",
       "      <td>0.663768</td>\n",
       "    </tr>\n",
       "    <tr>\n",
       "      <th>292.24</th>\n",
       "      <td>0.434783</td>\n",
       "    </tr>\n",
       "    <tr>\n",
       "      <th>18.01</th>\n",
       "      <td>0.392754</td>\n",
       "    </tr>\n",
       "    <tr>\n",
       "      <th>35.02</th>\n",
       "      <td>0.342029</td>\n",
       "    </tr>\n",
       "    <tr>\n",
       "      <th>420.29</th>\n",
       "      <td>0.284058</td>\n",
       "    </tr>\n",
       "    <tr>\n",
       "      <th>391.31</th>\n",
       "      <td>0.226087</td>\n",
       "    </tr>\n",
       "    <tr>\n",
       "      <th>373.28</th>\n",
       "      <td>0.207246</td>\n",
       "    </tr>\n",
       "  </tbody>\n",
       "</table>\n",
       "</div>"
      ],
      "text/plain": [
       "                    percent_occurrence\n",
       "mz_nl_binned_small                    \n",
       "36.02                         0.698551\n",
       "374.28                        0.663768\n",
       "292.24                        0.434783\n",
       "18.01                         0.392754\n",
       "35.02                         0.342029\n",
       "420.29                        0.284058\n",
       "391.31                        0.226087\n",
       "373.28                        0.207246"
      ]
     },
     "execution_count": 25,
     "metadata": {},
     "output_type": "execute_result"
    }
   ],
   "source": [
    "# visualize neutral losses by descending percent occurrence\n",
    "peak_ratio_df.sort_values(by='percent_occurrence', ascending=False)"
   ]
  }
 ],
 "metadata": {
  "kernelspec": {
   "display_name": "Python 3 (ipykernel)",
   "language": "python",
   "name": "python3"
  },
  "language_info": {
   "codemirror_mode": {
    "name": "ipython",
    "version": 3
   },
   "file_extension": ".py",
   "mimetype": "text/x-python",
   "name": "python",
   "nbconvert_exporter": "python",
   "pygments_lexer": "ipython3",
   "version": "3.10.5"
  }
 },
 "nbformat": 4,
 "nbformat_minor": 5
}
