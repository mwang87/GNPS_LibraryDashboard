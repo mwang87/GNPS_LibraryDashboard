{
 "cells": [
  {
   "cell_type": "markdown",
   "id": "f510dce8-29f0-4b09-865c-6cb66893a7ec",
   "metadata": {},
   "source": [
    "## notebook identifies consistent neutral loss for di compounds\n",
    "\n",
    "- di determined by substructure\n",
    "- output is a boxplot describing the characteristic neutral loss and their stats"
   ]
  },
  {
   "cell_type": "code",
   "execution_count": 1,
   "id": "992a9377-31f1-455d-8e7c-e8576187efd5",
   "metadata": {},
   "outputs": [],
   "source": [
    "import pandas as pd\n",
    "import numpy as np\n",
    "import plotly\n",
    "import plotly.express as px"
   ]
  },
  {
   "cell_type": "markdown",
   "id": "4c1a0926-ec8f-454f-9956-f48578588fe3",
   "metadata": {
    "tags": []
   },
   "source": [
    "### get peak data\n",
    "- from v_get_peaks_files.ipynb"
   ]
  },
  {
   "cell_type": "code",
   "execution_count": 2,
   "id": "6beb9435-d894-4f86-8021-ad8c79471aff",
   "metadata": {},
   "outputs": [],
   "source": [
    "all_file_peaks_part_1 = pd.read_parquet('/home/jovyan/work/notebooks/outputs/all_file_peaks_part_1.gzip')"
   ]
  },
  {
   "cell_type": "code",
   "execution_count": 3,
   "id": "069f02f2-fcba-4086-ba84-db9a826911ed",
   "metadata": {},
   "outputs": [],
   "source": [
    "all_file_peaks_part_2 = pd.read_parquet('/home/jovyan/work/notebooks/outputs/all_file_peaks_part_2.gzip')"
   ]
  },
  {
   "cell_type": "code",
   "execution_count": 4,
   "id": "4676eb42-3864-49e5-b3bf-736734ef8b64",
   "metadata": {},
   "outputs": [],
   "source": [
    "all_file_peaks_part_3 = pd.read_parquet('/home/jovyan/work/notebooks/outputs/all_file_peaks_part_3.gzip')"
   ]
  },
  {
   "cell_type": "code",
   "execution_count": 5,
   "id": "833f2093-cc0c-4541-877c-ca1d70920abe",
   "metadata": {},
   "outputs": [],
   "source": [
    "all_file_peaks_part_4 = pd.read_parquet('/home/jovyan/work/notebooks/outputs/all_file_peaks_part_4.gzip')"
   ]
  },
  {
   "cell_type": "code",
   "execution_count": 6,
   "id": "dca57977-af9a-4bd2-9a5d-430ee6aa9a66",
   "metadata": {},
   "outputs": [],
   "source": [
    "all_file_peaks_part_5 = pd.read_parquet('/home/jovyan/work/notebooks/outputs/all_file_peaks_part_5.gzip')"
   ]
  },
  {
   "cell_type": "markdown",
   "id": "6cfd86f0-fe29-4b0c-af71-c878bb6e6776",
   "metadata": {
    "tags": []
   },
   "source": [
    "### get carnitine data\n",
    "- from v_di_3_7_M+H_substruct_df_for_manuscript.ipynb"
   ]
  },
  {
   "cell_type": "code",
   "execution_count": 7,
   "id": "1050a4e9-18ce-4c48-bf85-1b6e91e9a4d2",
   "metadata": {},
   "outputs": [],
   "source": [
    "di_table = pd.read_csv('/home/jovyan/work/notebooks/outputs/library_df_dihydroxy_BA_only_m+h_matches.csv',sep=',', index_col='spectrum_id')"
   ]
  },
  {
   "cell_type": "code",
   "execution_count": 8,
   "id": "b09f6079-07e8-4ef9-b9bc-a50f391a1857",
   "metadata": {},
   "outputs": [],
   "source": [
    "di_table_ID = di_table.index.to_list()"
   ]
  },
  {
   "cell_type": "markdown",
   "id": "71d45224-5c06-4cc8-aa5d-f0c5328bfe9d",
   "metadata": {
    "tags": []
   },
   "source": [
    "### identify di_3_7 peak data"
   ]
  },
  {
   "cell_type": "code",
   "execution_count": 9,
   "id": "1c77cdcf-ce82-4dc3-a412-c748103f1508",
   "metadata": {},
   "outputs": [],
   "source": [
    "all_file_peaks_part_1_di = all_file_peaks_part_1[all_file_peaks_part_1.index.isin(di_table_ID)]"
   ]
  },
  {
   "cell_type": "code",
   "execution_count": 10,
   "id": "3df3fc56-7cac-4aa6-bed4-cc31901e777c",
   "metadata": {},
   "outputs": [],
   "source": [
    "all_file_peaks_part_2_di = all_file_peaks_part_2[all_file_peaks_part_2.index.isin(di_table_ID)]"
   ]
  },
  {
   "cell_type": "code",
   "execution_count": 11,
   "id": "22efe973-69a8-42d0-86bb-c48b81ba57a2",
   "metadata": {},
   "outputs": [],
   "source": [
    "all_file_peaks_part_3_di = all_file_peaks_part_3[all_file_peaks_part_3.index.isin(di_table_ID)]"
   ]
  },
  {
   "cell_type": "code",
   "execution_count": 12,
   "id": "cc049e14-9e6d-4ff9-b083-377b928a9342",
   "metadata": {},
   "outputs": [],
   "source": [
    "all_file_peaks_part_4_di = all_file_peaks_part_4[all_file_peaks_part_4.index.isin(di_table_ID)]"
   ]
  },
  {
   "cell_type": "code",
   "execution_count": 13,
   "id": "19d142e8-d0fe-48f7-8760-c13a759b7e86",
   "metadata": {},
   "outputs": [],
   "source": [
    "all_file_peaks_part_5_di = all_file_peaks_part_5[all_file_peaks_part_5.index.isin(di_table_ID)]"
   ]
  },
  {
   "cell_type": "code",
   "execution_count": 15,
   "id": "3077fb48-b5a0-4ca0-b210-9f0462331d95",
   "metadata": {},
   "outputs": [],
   "source": [
    "all_file_peaks_di = pd.concat([all_file_peaks_part_1_di, all_file_peaks_part_2_di, all_file_peaks_part_3_di,\n",
    "                                      all_file_peaks_part_4_di, all_file_peaks_part_5_di], axis=0)"
   ]
  },
  {
   "cell_type": "code",
   "execution_count": 16,
   "id": "8e68f967-84ad-4d41-845d-bc8e6a923a04",
   "metadata": {},
   "outputs": [
    {
     "data": {
      "text/html": [
       "<div>\n",
       "<style scoped>\n",
       "    .dataframe tbody tr th:only-of-type {\n",
       "        vertical-align: middle;\n",
       "    }\n",
       "\n",
       "    .dataframe tbody tr th {\n",
       "        vertical-align: top;\n",
       "    }\n",
       "\n",
       "    .dataframe thead th {\n",
       "        text-align: right;\n",
       "    }\n",
       "</style>\n",
       "<table border=\"1\" class=\"dataframe\">\n",
       "  <thead>\n",
       "    <tr style=\"text-align: right;\">\n",
       "      <th></th>\n",
       "      <th>level_0</th>\n",
       "      <th>index</th>\n",
       "      <th>i</th>\n",
       "      <th>i_norm</th>\n",
       "      <th>i_tic_norm</th>\n",
       "      <th>mz</th>\n",
       "      <th>mz_nl</th>\n",
       "      <th>precmz</th>\n",
       "    </tr>\n",
       "    <tr>\n",
       "      <th>scan</th>\n",
       "      <th></th>\n",
       "      <th></th>\n",
       "      <th></th>\n",
       "      <th></th>\n",
       "      <th></th>\n",
       "      <th></th>\n",
       "      <th></th>\n",
       "      <th></th>\n",
       "    </tr>\n",
       "  </thead>\n",
       "  <tbody>\n",
       "    <tr>\n",
       "      <th>CCMSLIB00010012258</th>\n",
       "      <td>1927</td>\n",
       "      <td>0</td>\n",
       "      <td>292.0</td>\n",
       "      <td>0.064673</td>\n",
       "      <td>0.013038</td>\n",
       "      <td>145.099136</td>\n",
       "      <td>558.430864</td>\n",
       "      <td>703.530</td>\n",
       "    </tr>\n",
       "    <tr>\n",
       "      <th>CCMSLIB00010012258</th>\n",
       "      <td>1928</td>\n",
       "      <td>1</td>\n",
       "      <td>90.0</td>\n",
       "      <td>0.019934</td>\n",
       "      <td>0.004019</td>\n",
       "      <td>146.101257</td>\n",
       "      <td>557.428743</td>\n",
       "      <td>703.530</td>\n",
       "    </tr>\n",
       "    <tr>\n",
       "      <th>CCMSLIB00010012258</th>\n",
       "      <td>1929</td>\n",
       "      <td>2</td>\n",
       "      <td>341.0</td>\n",
       "      <td>0.075526</td>\n",
       "      <td>0.015226</td>\n",
       "      <td>147.116302</td>\n",
       "      <td>556.413698</td>\n",
       "      <td>703.530</td>\n",
       "    </tr>\n",
       "    <tr>\n",
       "      <th>CCMSLIB00010012258</th>\n",
       "      <td>1930</td>\n",
       "      <td>3</td>\n",
       "      <td>509.0</td>\n",
       "      <td>0.112735</td>\n",
       "      <td>0.022727</td>\n",
       "      <td>149.131912</td>\n",
       "      <td>554.398088</td>\n",
       "      <td>703.530</td>\n",
       "    </tr>\n",
       "    <tr>\n",
       "      <th>CCMSLIB00010012258</th>\n",
       "      <td>1931</td>\n",
       "      <td>4</td>\n",
       "      <td>116.0</td>\n",
       "      <td>0.025692</td>\n",
       "      <td>0.005179</td>\n",
       "      <td>150.134186</td>\n",
       "      <td>553.395814</td>\n",
       "      <td>703.530</td>\n",
       "    </tr>\n",
       "    <tr>\n",
       "      <th>...</th>\n",
       "      <td>...</td>\n",
       "      <td>...</td>\n",
       "      <td>...</td>\n",
       "      <td>...</td>\n",
       "      <td>...</td>\n",
       "      <td>...</td>\n",
       "      <td>...</td>\n",
       "      <td>...</td>\n",
       "    </tr>\n",
       "    <tr>\n",
       "      <th>CCMSLIB00000222745</th>\n",
       "      <td>41152</td>\n",
       "      <td>2</td>\n",
       "      <td>303.0</td>\n",
       "      <td>0.303303</td>\n",
       "      <td>0.110544</td>\n",
       "      <td>343.264099</td>\n",
       "      <td>48.020901</td>\n",
       "      <td>391.285</td>\n",
       "    </tr>\n",
       "    <tr>\n",
       "      <th>CCMSLIB00000222745</th>\n",
       "      <td>41153</td>\n",
       "      <td>3</td>\n",
       "      <td>726.0</td>\n",
       "      <td>0.726727</td>\n",
       "      <td>0.264867</td>\n",
       "      <td>345.280487</td>\n",
       "      <td>46.004513</td>\n",
       "      <td>391.285</td>\n",
       "    </tr>\n",
       "    <tr>\n",
       "      <th>CCMSLIB00000222745</th>\n",
       "      <td>41154</td>\n",
       "      <td>4</td>\n",
       "      <td>177.0</td>\n",
       "      <td>0.177177</td>\n",
       "      <td>0.064575</td>\n",
       "      <td>347.296692</td>\n",
       "      <td>43.988308</td>\n",
       "      <td>391.285</td>\n",
       "    </tr>\n",
       "    <tr>\n",
       "      <th>CCMSLIB00000222745</th>\n",
       "      <td>41155</td>\n",
       "      <td>5</td>\n",
       "      <td>156.0</td>\n",
       "      <td>0.156156</td>\n",
       "      <td>0.056914</td>\n",
       "      <td>355.264801</td>\n",
       "      <td>36.020199</td>\n",
       "      <td>391.285</td>\n",
       "    </tr>\n",
       "    <tr>\n",
       "      <th>CCMSLIB00000222745</th>\n",
       "      <td>41156</td>\n",
       "      <td>6</td>\n",
       "      <td>999.0</td>\n",
       "      <td>1.000000</td>\n",
       "      <td>0.364466</td>\n",
       "      <td>391.284912</td>\n",
       "      <td>0.000088</td>\n",
       "      <td>391.285</td>\n",
       "    </tr>\n",
       "  </tbody>\n",
       "</table>\n",
       "<p>423878 rows × 8 columns</p>\n",
       "</div>"
      ],
      "text/plain": [
       "                    level_0  index      i    i_norm  i_tic_norm          mz  \\\n",
       "scan                                                                          \n",
       "CCMSLIB00010012258     1927      0  292.0  0.064673    0.013038  145.099136   \n",
       "CCMSLIB00010012258     1928      1   90.0  0.019934    0.004019  146.101257   \n",
       "CCMSLIB00010012258     1929      2  341.0  0.075526    0.015226  147.116302   \n",
       "CCMSLIB00010012258     1930      3  509.0  0.112735    0.022727  149.131912   \n",
       "CCMSLIB00010012258     1931      4  116.0  0.025692    0.005179  150.134186   \n",
       "...                     ...    ...    ...       ...         ...         ...   \n",
       "CCMSLIB00000222745    41152      2  303.0  0.303303    0.110544  343.264099   \n",
       "CCMSLIB00000222745    41153      3  726.0  0.726727    0.264867  345.280487   \n",
       "CCMSLIB00000222745    41154      4  177.0  0.177177    0.064575  347.296692   \n",
       "CCMSLIB00000222745    41155      5  156.0  0.156156    0.056914  355.264801   \n",
       "CCMSLIB00000222745    41156      6  999.0  1.000000    0.364466  391.284912   \n",
       "\n",
       "                         mz_nl   precmz  \n",
       "scan                                     \n",
       "CCMSLIB00010012258  558.430864  703.530  \n",
       "CCMSLIB00010012258  557.428743  703.530  \n",
       "CCMSLIB00010012258  556.413698  703.530  \n",
       "CCMSLIB00010012258  554.398088  703.530  \n",
       "CCMSLIB00010012258  553.395814  703.530  \n",
       "...                        ...      ...  \n",
       "CCMSLIB00000222745   48.020901  391.285  \n",
       "CCMSLIB00000222745   46.004513  391.285  \n",
       "CCMSLIB00000222745   43.988308  391.285  \n",
       "CCMSLIB00000222745   36.020199  391.285  \n",
       "CCMSLIB00000222745    0.000088  391.285  \n",
       "\n",
       "[423878 rows x 8 columns]"
      ]
     },
     "execution_count": 16,
     "metadata": {},
     "output_type": "execute_result"
    }
   ],
   "source": [
    "all_file_peaks_di"
   ]
  },
  {
   "cell_type": "code",
   "execution_count": 17,
   "id": "14d4ec62-a397-4c4e-a5f5-3674a4ccb17d",
   "metadata": {},
   "outputs": [
    {
     "data": {
      "text/plain": [
       "704"
      ]
     },
     "execution_count": 17,
     "metadata": {},
     "output_type": "execute_result"
    }
   ],
   "source": [
    "len(all_file_peaks_di.index.unique().to_list())"
   ]
  },
  {
   "cell_type": "markdown",
   "id": "b666da77-1684-41b5-a7aa-56f986165076",
   "metadata": {},
   "source": [
    "### begin investigating neutral loss"
   ]
  },
  {
   "cell_type": "code",
   "execution_count": 18,
   "id": "06db649a-676b-47b0-a9b3-0fa7e2780a5e",
   "metadata": {},
   "outputs": [],
   "source": [
    "peak_df = all_file_peaks_di"
   ]
  },
  {
   "cell_type": "code",
   "execution_count": 19,
   "id": "3ce6a9fb-1209-4f1b-b3a4-598e98753a4a",
   "metadata": {},
   "outputs": [],
   "source": [
    "# Identifying small bins of neutral loss values\n",
    "peak_df['mz_nl_binned_small'] = peak_df['mz_nl'].round(decimals = 2)\n",
    "unique_mz_nl_binned = peak_df['mz_nl_binned_small'].unique()"
   ]
  },
  {
   "cell_type": "code",
   "execution_count": 20,
   "id": "721ae7bf-547f-4ebc-9223-59b4c2f32ed7",
   "metadata": {},
   "outputs": [
    {
     "data": {
      "text/html": [
       "<div>\n",
       "<style scoped>\n",
       "    .dataframe tbody tr th:only-of-type {\n",
       "        vertical-align: middle;\n",
       "    }\n",
       "\n",
       "    .dataframe tbody tr th {\n",
       "        vertical-align: top;\n",
       "    }\n",
       "\n",
       "    .dataframe thead th {\n",
       "        text-align: right;\n",
       "    }\n",
       "</style>\n",
       "<table border=\"1\" class=\"dataframe\">\n",
       "  <thead>\n",
       "    <tr style=\"text-align: right;\">\n",
       "      <th></th>\n",
       "      <th>level_0</th>\n",
       "      <th>index</th>\n",
       "      <th>i</th>\n",
       "      <th>i_norm</th>\n",
       "      <th>i_tic_norm</th>\n",
       "      <th>mz</th>\n",
       "      <th>mz_nl</th>\n",
       "      <th>precmz</th>\n",
       "      <th>mz_nl_binned_small</th>\n",
       "    </tr>\n",
       "    <tr>\n",
       "      <th>scan</th>\n",
       "      <th></th>\n",
       "      <th></th>\n",
       "      <th></th>\n",
       "      <th></th>\n",
       "      <th></th>\n",
       "      <th></th>\n",
       "      <th></th>\n",
       "      <th></th>\n",
       "      <th></th>\n",
       "    </tr>\n",
       "  </thead>\n",
       "  <tbody>\n",
       "    <tr>\n",
       "      <th>CCMSLIB00010012258</th>\n",
       "      <td>1927</td>\n",
       "      <td>0</td>\n",
       "      <td>292.0</td>\n",
       "      <td>0.064673</td>\n",
       "      <td>0.013038</td>\n",
       "      <td>145.099136</td>\n",
       "      <td>558.430864</td>\n",
       "      <td>703.53</td>\n",
       "      <td>558.43</td>\n",
       "    </tr>\n",
       "    <tr>\n",
       "      <th>CCMSLIB00010012258</th>\n",
       "      <td>1928</td>\n",
       "      <td>1</td>\n",
       "      <td>90.0</td>\n",
       "      <td>0.019934</td>\n",
       "      <td>0.004019</td>\n",
       "      <td>146.101257</td>\n",
       "      <td>557.428743</td>\n",
       "      <td>703.53</td>\n",
       "      <td>557.43</td>\n",
       "    </tr>\n",
       "    <tr>\n",
       "      <th>CCMSLIB00010012258</th>\n",
       "      <td>1929</td>\n",
       "      <td>2</td>\n",
       "      <td>341.0</td>\n",
       "      <td>0.075526</td>\n",
       "      <td>0.015226</td>\n",
       "      <td>147.116302</td>\n",
       "      <td>556.413698</td>\n",
       "      <td>703.53</td>\n",
       "      <td>556.41</td>\n",
       "    </tr>\n",
       "    <tr>\n",
       "      <th>CCMSLIB00010012258</th>\n",
       "      <td>1930</td>\n",
       "      <td>3</td>\n",
       "      <td>509.0</td>\n",
       "      <td>0.112735</td>\n",
       "      <td>0.022727</td>\n",
       "      <td>149.131912</td>\n",
       "      <td>554.398088</td>\n",
       "      <td>703.53</td>\n",
       "      <td>554.40</td>\n",
       "    </tr>\n",
       "    <tr>\n",
       "      <th>CCMSLIB00010012258</th>\n",
       "      <td>1931</td>\n",
       "      <td>4</td>\n",
       "      <td>116.0</td>\n",
       "      <td>0.025692</td>\n",
       "      <td>0.005179</td>\n",
       "      <td>150.134186</td>\n",
       "      <td>553.395814</td>\n",
       "      <td>703.53</td>\n",
       "      <td>553.40</td>\n",
       "    </tr>\n",
       "  </tbody>\n",
       "</table>\n",
       "</div>"
      ],
      "text/plain": [
       "                    level_0  index      i    i_norm  i_tic_norm          mz  \\\n",
       "scan                                                                          \n",
       "CCMSLIB00010012258     1927      0  292.0  0.064673    0.013038  145.099136   \n",
       "CCMSLIB00010012258     1928      1   90.0  0.019934    0.004019  146.101257   \n",
       "CCMSLIB00010012258     1929      2  341.0  0.075526    0.015226  147.116302   \n",
       "CCMSLIB00010012258     1930      3  509.0  0.112735    0.022727  149.131912   \n",
       "CCMSLIB00010012258     1931      4  116.0  0.025692    0.005179  150.134186   \n",
       "\n",
       "                         mz_nl  precmz  mz_nl_binned_small  \n",
       "scan                                                        \n",
       "CCMSLIB00010012258  558.430864  703.53              558.43  \n",
       "CCMSLIB00010012258  557.428743  703.53              557.43  \n",
       "CCMSLIB00010012258  556.413698  703.53              556.41  \n",
       "CCMSLIB00010012258  554.398088  703.53              554.40  \n",
       "CCMSLIB00010012258  553.395814  703.53              553.40  "
      ]
     },
     "execution_count": 20,
     "metadata": {},
     "output_type": "execute_result"
    }
   ],
   "source": [
    "peak_df.head(5)"
   ]
  },
  {
   "cell_type": "code",
   "execution_count": 21,
   "id": "8fbe6e43-7b4e-4637-bb8f-5175d97fa290",
   "metadata": {},
   "outputs": [],
   "source": [
    "# Defining parameters\n",
    "\n",
    "intensitynormmin  = 0.05\n",
    "percentoccurmin = 20"
   ]
  },
  {
   "cell_type": "code",
   "execution_count": 22,
   "id": "d5c2ac09-51a9-4972-933f-43e5a2ceb64e",
   "metadata": {},
   "outputs": [],
   "source": [
    "# identifying peaks that satisfy minimum normalized intensity parameter\n",
    "\n",
    "filtered_peak_df_i_norm = peak_df[peak_df[\"i_norm\"] >= intensitynormmin]"
   ]
  },
  {
   "cell_type": "code",
   "execution_count": 23,
   "id": "abd57274-5ddc-49f0-9355-8d55dddfa71a",
   "metadata": {},
   "outputs": [
    {
     "data": {
      "text/html": [
       "<div>\n",
       "<style scoped>\n",
       "    .dataframe tbody tr th:only-of-type {\n",
       "        vertical-align: middle;\n",
       "    }\n",
       "\n",
       "    .dataframe tbody tr th {\n",
       "        vertical-align: top;\n",
       "    }\n",
       "\n",
       "    .dataframe thead th {\n",
       "        text-align: right;\n",
       "    }\n",
       "</style>\n",
       "<table border=\"1\" class=\"dataframe\">\n",
       "  <thead>\n",
       "    <tr style=\"text-align: right;\">\n",
       "      <th></th>\n",
       "      <th>level_0</th>\n",
       "      <th>index</th>\n",
       "      <th>i</th>\n",
       "      <th>i_norm</th>\n",
       "      <th>i_tic_norm</th>\n",
       "      <th>mz</th>\n",
       "      <th>mz_nl</th>\n",
       "      <th>precmz</th>\n",
       "      <th>mz_nl_binned_small</th>\n",
       "    </tr>\n",
       "    <tr>\n",
       "      <th>scan</th>\n",
       "      <th></th>\n",
       "      <th></th>\n",
       "      <th></th>\n",
       "      <th></th>\n",
       "      <th></th>\n",
       "      <th></th>\n",
       "      <th></th>\n",
       "      <th></th>\n",
       "      <th></th>\n",
       "    </tr>\n",
       "  </thead>\n",
       "  <tbody>\n",
       "    <tr>\n",
       "      <th>CCMSLIB00010012258</th>\n",
       "      <td>1927</td>\n",
       "      <td>0</td>\n",
       "      <td>292.0</td>\n",
       "      <td>0.064673</td>\n",
       "      <td>0.013038</td>\n",
       "      <td>145.099136</td>\n",
       "      <td>558.430864</td>\n",
       "      <td>703.530</td>\n",
       "      <td>558.43</td>\n",
       "    </tr>\n",
       "    <tr>\n",
       "      <th>CCMSLIB00010012258</th>\n",
       "      <td>1929</td>\n",
       "      <td>2</td>\n",
       "      <td>341.0</td>\n",
       "      <td>0.075526</td>\n",
       "      <td>0.015226</td>\n",
       "      <td>147.116302</td>\n",
       "      <td>556.413698</td>\n",
       "      <td>703.530</td>\n",
       "      <td>556.41</td>\n",
       "    </tr>\n",
       "    <tr>\n",
       "      <th>CCMSLIB00010012258</th>\n",
       "      <td>1930</td>\n",
       "      <td>3</td>\n",
       "      <td>509.0</td>\n",
       "      <td>0.112735</td>\n",
       "      <td>0.022727</td>\n",
       "      <td>149.131912</td>\n",
       "      <td>554.398088</td>\n",
       "      <td>703.530</td>\n",
       "      <td>554.40</td>\n",
       "    </tr>\n",
       "    <tr>\n",
       "      <th>CCMSLIB00010012258</th>\n",
       "      <td>1935</td>\n",
       "      <td>8</td>\n",
       "      <td>259.0</td>\n",
       "      <td>0.057364</td>\n",
       "      <td>0.011565</td>\n",
       "      <td>159.116196</td>\n",
       "      <td>544.413804</td>\n",
       "      <td>703.530</td>\n",
       "      <td>544.41</td>\n",
       "    </tr>\n",
       "    <tr>\n",
       "      <th>CCMSLIB00010012258</th>\n",
       "      <td>1938</td>\n",
       "      <td>11</td>\n",
       "      <td>507.0</td>\n",
       "      <td>0.112292</td>\n",
       "      <td>0.022638</td>\n",
       "      <td>161.130783</td>\n",
       "      <td>542.399217</td>\n",
       "      <td>703.530</td>\n",
       "      <td>542.40</td>\n",
       "    </tr>\n",
       "    <tr>\n",
       "      <th>...</th>\n",
       "      <td>...</td>\n",
       "      <td>...</td>\n",
       "      <td>...</td>\n",
       "      <td>...</td>\n",
       "      <td>...</td>\n",
       "      <td>...</td>\n",
       "      <td>...</td>\n",
       "      <td>...</td>\n",
       "      <td>...</td>\n",
       "    </tr>\n",
       "    <tr>\n",
       "      <th>CCMSLIB00000222745</th>\n",
       "      <td>41152</td>\n",
       "      <td>2</td>\n",
       "      <td>303.0</td>\n",
       "      <td>0.303303</td>\n",
       "      <td>0.110544</td>\n",
       "      <td>343.264099</td>\n",
       "      <td>48.020901</td>\n",
       "      <td>391.285</td>\n",
       "      <td>48.02</td>\n",
       "    </tr>\n",
       "    <tr>\n",
       "      <th>CCMSLIB00000222745</th>\n",
       "      <td>41153</td>\n",
       "      <td>3</td>\n",
       "      <td>726.0</td>\n",
       "      <td>0.726727</td>\n",
       "      <td>0.264867</td>\n",
       "      <td>345.280487</td>\n",
       "      <td>46.004513</td>\n",
       "      <td>391.285</td>\n",
       "      <td>46.00</td>\n",
       "    </tr>\n",
       "    <tr>\n",
       "      <th>CCMSLIB00000222745</th>\n",
       "      <td>41154</td>\n",
       "      <td>4</td>\n",
       "      <td>177.0</td>\n",
       "      <td>0.177177</td>\n",
       "      <td>0.064575</td>\n",
       "      <td>347.296692</td>\n",
       "      <td>43.988308</td>\n",
       "      <td>391.285</td>\n",
       "      <td>43.99</td>\n",
       "    </tr>\n",
       "    <tr>\n",
       "      <th>CCMSLIB00000222745</th>\n",
       "      <td>41155</td>\n",
       "      <td>5</td>\n",
       "      <td>156.0</td>\n",
       "      <td>0.156156</td>\n",
       "      <td>0.056914</td>\n",
       "      <td>355.264801</td>\n",
       "      <td>36.020199</td>\n",
       "      <td>391.285</td>\n",
       "      <td>36.02</td>\n",
       "    </tr>\n",
       "    <tr>\n",
       "      <th>CCMSLIB00000222745</th>\n",
       "      <td>41156</td>\n",
       "      <td>6</td>\n",
       "      <td>999.0</td>\n",
       "      <td>1.000000</td>\n",
       "      <td>0.364466</td>\n",
       "      <td>391.284912</td>\n",
       "      <td>0.000088</td>\n",
       "      <td>391.285</td>\n",
       "      <td>0.00</td>\n",
       "    </tr>\n",
       "  </tbody>\n",
       "</table>\n",
       "<p>15291 rows × 9 columns</p>\n",
       "</div>"
      ],
      "text/plain": [
       "                    level_0  index      i    i_norm  i_tic_norm          mz  \\\n",
       "scan                                                                          \n",
       "CCMSLIB00010012258     1927      0  292.0  0.064673    0.013038  145.099136   \n",
       "CCMSLIB00010012258     1929      2  341.0  0.075526    0.015226  147.116302   \n",
       "CCMSLIB00010012258     1930      3  509.0  0.112735    0.022727  149.131912   \n",
       "CCMSLIB00010012258     1935      8  259.0  0.057364    0.011565  159.116196   \n",
       "CCMSLIB00010012258     1938     11  507.0  0.112292    0.022638  161.130783   \n",
       "...                     ...    ...    ...       ...         ...         ...   \n",
       "CCMSLIB00000222745    41152      2  303.0  0.303303    0.110544  343.264099   \n",
       "CCMSLIB00000222745    41153      3  726.0  0.726727    0.264867  345.280487   \n",
       "CCMSLIB00000222745    41154      4  177.0  0.177177    0.064575  347.296692   \n",
       "CCMSLIB00000222745    41155      5  156.0  0.156156    0.056914  355.264801   \n",
       "CCMSLIB00000222745    41156      6  999.0  1.000000    0.364466  391.284912   \n",
       "\n",
       "                         mz_nl   precmz  mz_nl_binned_small  \n",
       "scan                                                         \n",
       "CCMSLIB00010012258  558.430864  703.530              558.43  \n",
       "CCMSLIB00010012258  556.413698  703.530              556.41  \n",
       "CCMSLIB00010012258  554.398088  703.530              554.40  \n",
       "CCMSLIB00010012258  544.413804  703.530              544.41  \n",
       "CCMSLIB00010012258  542.399217  703.530              542.40  \n",
       "...                        ...      ...                 ...  \n",
       "CCMSLIB00000222745   48.020901  391.285               48.02  \n",
       "CCMSLIB00000222745   46.004513  391.285               46.00  \n",
       "CCMSLIB00000222745   43.988308  391.285               43.99  \n",
       "CCMSLIB00000222745   36.020199  391.285               36.02  \n",
       "CCMSLIB00000222745    0.000088  391.285                0.00  \n",
       "\n",
       "[15291 rows x 9 columns]"
      ]
     },
     "execution_count": 23,
     "metadata": {},
     "output_type": "execute_result"
    }
   ],
   "source": [
    "filtered_peak_df_i_norm"
   ]
  },
  {
   "cell_type": "code",
   "execution_count": 24,
   "id": "b0bdffaa-a5ac-435a-8b03-b028c0d11985",
   "metadata": {},
   "outputs": [
    {
     "data": {
      "text/plain": [
       "704"
      ]
     },
     "execution_count": 24,
     "metadata": {},
     "output_type": "execute_result"
    }
   ],
   "source": [
    "len(filtered_peak_df_i_norm.index.unique())"
   ]
  },
  {
   "cell_type": "code",
   "execution_count": 25,
   "id": "177419d6-7730-4a67-a392-7ea790ac756c",
   "metadata": {},
   "outputs": [],
   "source": [
    "# For counting percent occurrence of peaks above miniumum intensity\n",
    "occurs_above_intensitynormmin = {}\n",
    "\n",
    "# Total number of spectral IDs\n",
    "total_ids = len(peak_df.index.unique())\n",
    "\n",
    "for peak in unique_mz_nl_binned:\n",
    "    mz_nl_df_above_intensitynormmin = filtered_peak_df_i_norm.loc[(filtered_peak_df_i_norm['mz_nl_binned_small'] == peak)]\n",
    "\n",
    "    # Number of spectra where peak occurs above miniumum intensity\n",
    "    peak_occurs_above_intensitynormmin = len(mz_nl_df_above_intensitynormmin)\n",
    "\n",
    "    if peak_occurs_above_intensitynormmin/total_ids >= (percentoccurmin/100):\n",
    "        occurs_above_intensitynormmin[peak] = peak_occurs_above_intensitynormmin/total_ids"
   ]
  },
  {
   "cell_type": "code",
   "execution_count": 26,
   "id": "8d10dea8-0bfd-4a28-b9d6-d334488c1218",
   "metadata": {},
   "outputs": [],
   "source": [
    "# Filtering to only include peaks that are present in at least 20% of the scans\n",
    "filtered_peak_df = filtered_peak_df_i_norm[filtered_peak_df_i_norm[\"mz_nl_binned_small\"].isin(occurs_above_intensitynormmin.keys())]"
   ]
  },
  {
   "cell_type": "code",
   "execution_count": 27,
   "id": "b439e9a5-7207-4537-89f6-f51ffdaa5192",
   "metadata": {},
   "outputs": [
    {
     "data": {
      "text/plain": [
       "Index(['CCMSLIB00010012258', 'CCMSLIB00010012658', 'CCMSLIB00010012723',\n",
       "       'CCMSLIB00010012738', 'CCMSLIB00003138533', 'CCMSLIB00003138823',\n",
       "       'CCMSLIB00003138870', 'CCMSLIB00003139149', 'CCMSLIB00006112915',\n",
       "       'CCMSLIB00006112917',\n",
       "       ...\n",
       "       'CCMSLIB00006581897', 'CCMSLIB00006581912', 'CCMSLIB00006581917',\n",
       "       'CCMSLIB00006581926', 'CCMSLIB00005738052', 'CCMSLIB00005738466',\n",
       "       'CCMSLIB00005738507', 'CCMSLIB00005738649', 'CCMSLIB00005738654',\n",
       "       'CCMSLIB00005738832'],\n",
       "      dtype='object', name='scan', length=285)"
      ]
     },
     "execution_count": 27,
     "metadata": {},
     "output_type": "execute_result"
    }
   ],
   "source": [
    "filtered_peak_df.index.unique()"
   ]
  },
  {
   "cell_type": "code",
   "execution_count": 28,
   "id": "3180e15d-c896-4620-a0cc-6220d827d264",
   "metadata": {},
   "outputs": [],
   "source": [
    "# for plotting\n",
    "peak_ratio_df = pd.DataFrame.from_dict(occurs_above_intensitynormmin, orient='index')\n",
    "peak_ratio_df.index.name = 'mz_nl_binned_small'\n",
    "peak_ratio_df = peak_ratio_df.rename(columns={0: \"percent_occurrence\"})"
   ]
  },
  {
   "cell_type": "code",
   "execution_count": 29,
   "id": "4f826263-af42-487a-8aea-1507390342ae",
   "metadata": {},
   "outputs": [
    {
     "data": {
      "text/html": [
       "<div>\n",
       "<style scoped>\n",
       "    .dataframe tbody tr th:only-of-type {\n",
       "        vertical-align: middle;\n",
       "    }\n",
       "\n",
       "    .dataframe tbody tr th {\n",
       "        vertical-align: top;\n",
       "    }\n",
       "\n",
       "    .dataframe thead th {\n",
       "        text-align: right;\n",
       "    }\n",
       "</style>\n",
       "<table border=\"1\" class=\"dataframe\">\n",
       "  <thead>\n",
       "    <tr style=\"text-align: right;\">\n",
       "      <th></th>\n",
       "      <th>percent_occurrence</th>\n",
       "    </tr>\n",
       "    <tr>\n",
       "      <th>mz_nl_binned_small</th>\n",
       "      <th></th>\n",
       "    </tr>\n",
       "  </thead>\n",
       "  <tbody>\n",
       "    <tr>\n",
       "      <th>36.02</th>\n",
       "      <td>0.693182</td>\n",
       "    </tr>\n",
       "    <tr>\n",
       "      <th>374.28</th>\n",
       "      <td>0.650568</td>\n",
       "    </tr>\n",
       "    <tr>\n",
       "      <th>292.24</th>\n",
       "      <td>0.426136</td>\n",
       "    </tr>\n",
       "    <tr>\n",
       "      <th>18.01</th>\n",
       "      <td>0.392045</td>\n",
       "    </tr>\n",
       "    <tr>\n",
       "      <th>35.02</th>\n",
       "      <td>0.340909</td>\n",
       "    </tr>\n",
       "    <tr>\n",
       "      <th>420.29</th>\n",
       "      <td>0.278409</td>\n",
       "    </tr>\n",
       "    <tr>\n",
       "      <th>391.31</th>\n",
       "      <td>0.221591</td>\n",
       "    </tr>\n",
       "    <tr>\n",
       "      <th>373.28</th>\n",
       "      <td>0.203125</td>\n",
       "    </tr>\n",
       "  </tbody>\n",
       "</table>\n",
       "</div>"
      ],
      "text/plain": [
       "                    percent_occurrence\n",
       "mz_nl_binned_small                    \n",
       "36.02                         0.693182\n",
       "374.28                        0.650568\n",
       "292.24                        0.426136\n",
       "18.01                         0.392045\n",
       "35.02                         0.340909\n",
       "420.29                        0.278409\n",
       "391.31                        0.221591\n",
       "373.28                        0.203125"
      ]
     },
     "execution_count": 29,
     "metadata": {},
     "output_type": "execute_result"
    }
   ],
   "source": [
    "peak_ratio_df.sort_values(by='percent_occurrence', ascending=False)"
   ]
  },
  {
   "cell_type": "markdown",
   "id": "800892c2-b631-4fef-9917-d7fbe0957903",
   "metadata": {},
   "source": [
    "### percent occurrence check"
   ]
  },
  {
   "cell_type": "code",
   "execution_count": 30,
   "id": "672967a7-d494-430d-9a3a-a7e3b53f7022",
   "metadata": {},
   "outputs": [
    {
     "data": {
      "text/plain": [
       "0.6931818181818182"
      ]
     },
     "execution_count": 30,
     "metadata": {},
     "output_type": "execute_result"
    }
   ],
   "source": [
    "len(filtered_peak_df_i_norm[(filtered_peak_df_i_norm['mz_nl_binned_small'] == 36.02)].index.unique())/len(peak_df.index.unique())"
   ]
  }
 ],
 "metadata": {
  "kernelspec": {
   "display_name": "Python 3 (ipykernel)",
   "language": "python",
   "name": "python3"
  },
  "language_info": {
   "codemirror_mode": {
    "name": "ipython",
    "version": 3
   },
   "file_extension": ".py",
   "mimetype": "text/x-python",
   "name": "python",
   "nbconvert_exporter": "python",
   "pygments_lexer": "ipython3",
   "version": "3.10.5"
  }
 },
 "nbformat": 4,
 "nbformat_minor": 5
}
